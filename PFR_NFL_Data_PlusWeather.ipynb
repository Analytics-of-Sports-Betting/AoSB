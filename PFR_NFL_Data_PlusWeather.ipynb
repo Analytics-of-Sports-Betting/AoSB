{
 "cells": [
  {
   "cell_type": "code",
   "execution_count": 1,
   "id": "33ee6606",
   "metadata": {},
   "outputs": [],
   "source": [
    "import numpy as np\n",
    "import pandas as pd"
   ]
  },
  {
   "cell_type": "markdown",
   "id": "78bd445e",
   "metadata": {},
   "source": [
    "# Combining NFL Data from PFR with Weather Data from All_Games_Weather.csv"
   ]
  },
  {
   "cell_type": "code",
   "execution_count": null,
   "id": "e460e9b5",
   "metadata": {},
   "outputs": [],
   "source": []
  }
 ],
 "metadata": {
  "kernelspec": {
   "display_name": "Python 3 (ipykernel)",
   "language": "python",
   "name": "python3"
  },
  "language_info": {
   "codemirror_mode": {
    "name": "ipython",
    "version": 3
   },
   "file_extension": ".py",
   "mimetype": "text/x-python",
   "name": "python",
   "nbconvert_exporter": "python",
   "pygments_lexer": "ipython3",
   "version": "3.11.4"
  }
 },
 "nbformat": 4,
 "nbformat_minor": 5
}
