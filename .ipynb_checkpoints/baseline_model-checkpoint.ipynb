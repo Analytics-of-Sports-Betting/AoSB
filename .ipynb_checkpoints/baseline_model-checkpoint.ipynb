{
 "cells": [
  {
   "cell_type": "code",
   "execution_count": 82,
   "id": "1849cb74",
   "metadata": {},
   "outputs": [],
   "source": [
    "import pandas as pd\n",
    "import matplotlib.pyplot as plt\n",
    "import numpy as np\n",
    "import json\n",
    "import os"
   ]
  },
  {
   "cell_type": "code",
   "execution_count": 83,
   "id": "b7da1660",
   "metadata": {},
   "outputs": [],
   "source": [
    "team_dict = {'Arizona Cardinals': 'ARI',\n",
    " 'Atlanta Falcons': 'ATL',\n",
    " 'Baltimore Colts': 'IND',\n",
    " 'Baltimore Ravens': 'BAL',\n",
    " 'Boston Patriots': 'NE',\n",
    " 'Buffalo Bills': 'BUF',\n",
    " 'Carolina Panthers': 'CAR',\n",
    " 'Chicago Bears': 'CHI',\n",
    " 'Cincinnati Bengals': 'CIN',\n",
    " 'Cleveland Browns': 'CLE',\n",
    " 'Dallas Cowboys': 'DAL',\n",
    " 'Denver Broncos': 'DEN',\n",
    " 'Detroit Lions': 'DET',\n",
    " 'Green Bay Packers': 'GB',\n",
    " 'Houston Oilers': 'TEN',\n",
    " 'Houston Texans': 'HOU',\n",
    " 'Indianapolis Colts': 'IND',\n",
    " 'Jacksonville Jaguars': 'JAX',\n",
    " 'Kansas City Chiefs': 'KC',\n",
    " 'Las Vegas Raiders': 'LVR',\n",
    " 'Los Angeles Chargers': 'LAC',\n",
    " 'Los Angeles Raiders': 'LVR',\n",
    " 'Los Angeles Rams': 'LAR',\n",
    " 'Miami Dolphins': 'MIA',\n",
    " 'Minnesota Vikings': 'MIN',\n",
    " 'New England Patriots': 'NE',\n",
    " 'New Orleans Saints': 'NO',\n",
    " 'New York Giants': 'NYG',\n",
    " 'New York Jets': 'NYJ',\n",
    " 'Oakland Raiders': 'LVR',\n",
    " 'Philadelphia Eagles': 'PHI',\n",
    " 'Phoenix Cardinals': 'ARI',\n",
    " 'Pittsburgh Steelers': 'PIT',\n",
    " 'San Diego Chargers': 'LAC',\n",
    " 'San Francisco 49ers': 'SF',\n",
    " 'Seattle Seahawks': 'SEA',\n",
    " 'St. Louis Cardinals': 'ARI',\n",
    " 'St. Louis Rams': 'LAR',\n",
    " 'Tampa Bay Buccaneers': 'TB',\n",
    " 'Tennessee Oilers': 'TEN',\n",
    " 'Tennessee Titans': 'TEN',\n",
    " 'Washington Commanders': 'WAS',\n",
    " 'Washington Football Team': 'WAS',\n",
    " 'Washington Redskins': 'WAS'}\n",
    "\n",
    "filename = 'nfl_teams.json'\n",
    "\n",
    "with open(filename, 'w') as f:\n",
    "    json.dump(team_dict, f)"
   ]
  },
  {
   "cell_type": "code",
   "execution_count": 84,
   "id": "254bbce4",
   "metadata": {},
   "outputs": [],
   "source": [
    "directory_path = os.path.join('nfldata', 'betting_odds')\n",
    "file_path = os.path.join(directory_path, 'games_1967_present.csv')\n",
    "games = pd.read_csv(file_path)\n",
    "games = games.loc[games['schedule_season'] >= 2002]"
   ]
  },
  {
   "cell_type": "code",
   "execution_count": 85,
   "id": "a5ce5958",
   "metadata": {},
   "outputs": [
    {
     "data": {
      "text/plain": [
       "34"
      ]
     },
     "execution_count": 85,
     "metadata": {},
     "output_type": "execute_result"
    }
   ],
   "source": [
    "len(games.loc[games['team_favorite_id'] == 'PICK'])"
   ]
  },
  {
   "cell_type": "markdown",
   "id": "3ae224b6",
   "metadata": {},
   "source": [
    "There are 34 games from the 2002 to present where neither team is favorited and the line is 0."
   ]
  },
  {
   "cell_type": "code",
   "execution_count": 86,
   "id": "2bee3fd4",
   "metadata": {},
   "outputs": [],
   "source": [
    "homes, aways = [], []\n",
    "games = games.loc[games['team_favorite_id'] != 'PICK']\n",
    "for i in range(len(games)):\n",
    "    game = games.iloc[i]\n",
    "    homes.append(team_dict[game['team_home']])\n",
    "    aways.append(team_dict[game['team_away']])\n",
    "games['home'] = homes\n",
    "games['away'] = aways\n",
    "\n",
    "def determine_spread_winner(row):\n",
    "    favorite_team = row['team_favorite_id']\n",
    "    home_team = row['home']\n",
    "    away_team = row['away']\n",
    "    score_home = row['score_home']\n",
    "    score_away = row['score_away']\n",
    "    spread = row['spread_favorite']\n",
    "    if favorite_team == home_team:\n",
    "            adjusted_score_home = score_home + spread\n",
    "            adjusted_score_away = score_away\n",
    "    else:\n",
    "        adjusted_score_home = score_home\n",
    "        adjusted_score_away = score_away + spread\n",
    "\n",
    "    # Determine the winner against the spread\n",
    "    if adjusted_score_home == adjusted_score_away:\n",
    "        return 'TIE'\n",
    "    elif adjusted_score_home > adjusted_score_away:\n",
    "        return home_team\n",
    "    else:\n",
    "        return away_team\n",
    "        \n",
    "games['spread_cover'] = games.apply(determine_spread_winner, axis=1)\n",
    "ties = (games['spread_cover'] == 'TIE').sum()\n",
    "home_wins = (games['spread_cover'] == games['home']).sum()\n",
    "away_wins = (games['spread_cover'] == games['away']).sum()\n",
    "favorite_wins = (games['spread_cover'] == games['team_favorite_id']).sum()\n",
    "num_games = (len(games) - ties)"
   ]
  },
  {
   "cell_type": "code",
   "execution_count": 87,
   "id": "876dc36c",
   "metadata": {},
   "outputs": [
    {
     "name": "stdout",
     "output_type": "stream",
     "text": [
      "Win Percentages for Covering Spread 2002-Present:\n",
      "Home Win Percentage: 48.8559%\n",
      "Away Win Percentage: 51.1441%\n",
      "Favorite Win Percentage: 48.5764%\n",
      "Underdog Win Percentage: 51.4236%\n"
     ]
    }
   ],
   "source": [
    "home_win_percentage = home_wins/num_games\n",
    "away_win_percentage = away_wins/num_games\n",
    "favorite_win_percentage = favorite_wins/num_games\n",
    "underdog_win_percentage = 1 - favorite_win_percentage\n",
    "print('Win Percentages for Covering Spread 2002-Present:')\n",
    "print(f'Home Win Percentage: {\"{:.4%}\".format(home_win_percentage)}')\n",
    "print(f'Away Win Percentage: {\"{:.4%}\".format(away_win_percentage)}')\n",
    "print(f'Favorite Win Percentage: {\"{:.4%}\".format(favorite_win_percentage)}')\n",
    "print(f'Underdog Win Percentage: {\"{:.4%}\".format(underdog_win_percentage)}')"
   ]
  },
  {
   "cell_type": "code",
   "execution_count": null,
   "id": "9f888de7",
   "metadata": {},
   "outputs": [],
   "source": []
  }
 ],
 "metadata": {
  "kernelspec": {
   "display_name": "Python 3 (ipykernel)",
   "language": "python",
   "name": "python3"
  },
  "language_info": {
   "codemirror_mode": {
    "name": "ipython",
    "version": 3
   },
   "file_extension": ".py",
   "mimetype": "text/x-python",
   "name": "python",
   "nbconvert_exporter": "python",
   "pygments_lexer": "ipython3",
   "version": "3.11.5"
  }
 },
 "nbformat": 4,
 "nbformat_minor": 5
}
