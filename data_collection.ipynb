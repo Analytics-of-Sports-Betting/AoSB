{
 "cells": [
  {
   "cell_type": "code",
   "execution_count": 222,
   "id": "a1aad3a3",
   "metadata": {},
   "outputs": [],
   "source": [
    "import pandas as pd\n",
    "import numpy as np\n",
    "import matplotlib.pyplot as plt\n",
    "import requests\n",
    "from bs4 import BeautifulSoup, Comment\n",
    "import time\n",
    "import json\n",
    "import os"
   ]
  },
  {
   "cell_type": "code",
   "execution_count": 223,
   "id": "e7895e00",
   "metadata": {},
   "outputs": [],
   "source": [
    "team_dict = {'Arizona Cardinals': 'ARI',\n",
    " 'Atlanta Falcons': 'ATL',\n",
    " 'Baltimore Colts': 'IND',\n",
    " 'Baltimore Ravens': 'BAL',\n",
    " 'Boston Patriots': 'NE',\n",
    " 'Buffalo Bills': 'BUF',\n",
    " 'Carolina Panthers': 'CAR',\n",
    " 'Chicago Bears': 'CHI',\n",
    " 'Cincinnati Bengals': 'CIN',\n",
    " 'Cleveland Browns': 'CLE',\n",
    " 'Dallas Cowboys': 'DAL',\n",
    " 'Denver Broncos': 'DEN',\n",
    " 'Detroit Lions': 'DET',\n",
    " 'Green Bay Packers': 'GB',\n",
    " 'Houston Oilers': 'TEN',\n",
    " 'Houston Texans': 'HOU',\n",
    " 'Indianapolis Colts': 'IND',\n",
    " 'Jacksonville Jaguars': 'JAX',\n",
    " 'Kansas City Chiefs': 'KC',\n",
    " 'Las Vegas Raiders': 'LVR',\n",
    " 'Los Angeles Chargers': 'LAC',\n",
    " 'Los Angeles Raiders': 'LVR',\n",
    " 'Los Angeles Rams': 'LAR',\n",
    " 'Miami Dolphins': 'MIA',\n",
    " 'Minnesota Vikings': 'MIN',\n",
    " 'New England Patriots': 'NE',\n",
    " 'New Orleans Saints': 'NO',\n",
    " 'New York Giants': 'NYG',\n",
    " 'New York Jets': 'NYJ',\n",
    " 'Oakland Raiders': 'LVR',\n",
    " 'Philadelphia Eagles': 'PHI',\n",
    " 'Phoenix Cardinals': 'ARI',\n",
    " 'Pittsburgh Steelers': 'PIT',\n",
    " 'San Diego Chargers': 'LAC',\n",
    " 'San Francisco 49ers': 'SF',\n",
    " 'Seattle Seahawks': 'SEA',\n",
    " 'St. Louis Cardinals': 'ARI',\n",
    " 'St. Louis Rams': 'LAR',\n",
    " 'Tampa Bay Buccaneers': 'TB',\n",
    " 'Tennessee Oilers': 'TEN',\n",
    " 'Tennessee Titans': 'TEN',\n",
    " 'Washington Commanders': 'WAS',\n",
    " 'Washington Football Team': 'WAS',\n",
    " 'Washington Redskins': 'WAS'}\n",
    "\n",
    "def format_week(week):\n",
    "    if week.isdigit():\n",
    "        return f\"Week{week}\"\n",
    "    return week"
   ]
  },
  {
   "cell_type": "code",
   "execution_count": 224,
   "id": "f7de15e1",
   "metadata": {},
   "outputs": [],
   "source": [
    "def fetch_game_context(season):\n",
    "    base_url = f\"https://www.pro-football-reference.com/years/{season}/games.htm\"\n",
    "    response = requests.get(base_url)\n",
    "    if response.status_code != 200:\n",
    "        print(f\"Error fetching the season page: {response.status_code}\")\n",
    "        return None\n",
    "    \n",
    "    soup = BeautifulSoup(response.content, 'html.parser')\n",
    "    games_raw = soup.find_all('script', attrs={'type': 'application/ld+json'})\n",
    "    games_content = games_raw[0].string  \n",
    "    games_dict = json.loads(games_content)\n",
    "    game_names = [game['name'] for game in games_dict]\n",
    "    game_urls = [game['url'] for game in games_dict]\n",
    "\n",
    "    games_table = soup.find('table', id='games')\n",
    "    games_df = pd.read_html(str(games_table))[0]\n",
    "    games_df = games_df.loc[games_df['Week'] != 'Week']\n",
    "    games_df = games_df.dropna(subset=['Week'])\n",
    "    games_df['url'] = game_urls\n",
    "\n",
    "    aways = []\n",
    "    homes = []\n",
    "    for game in game_names:\n",
    "        away, home = game.split('@')\n",
    "        aways.append(team_dict[away[:-1]])\n",
    "        homes.append(team_dict[home[1:]])\n",
    "    games_df['Home'] = homes\n",
    "    games_df['Away'] = aways\n",
    "    games_df['Week'] = games_df['Week'].apply(format_week)\n",
    "    games_df['File'] = '' + str(season) + '_' + games_df['Week'] + '_' + games_df['Home'] + '_vs_' + games_df['Away']\n",
    "\n",
    "    return games_df\n",
    "\n",
    "def fetch_game_stats(game_url):\n",
    "    response = requests.get(game_url)\n",
    "    if response.status_code != 200:\n",
    "        print(f\"Error fetching the game page: {response.status_code}\")\n",
    "        return None\n",
    "\n",
    "    soup = BeautifulSoup(response.content, 'html.parser')\n",
    "    \n",
    "    all_tables = []\n",
    "    # Find tables not in comments\n",
    "    all_tables.extend(soup.find_all('table'))\n",
    "\n",
    "    # Find all comments and then find tables within those comments\n",
    "    comments = soup.find_all(string=lambda text: isinstance(text, Comment))\n",
    "    for comment in comments:\n",
    "        comment_soup = BeautifulSoup(comment, 'html.parser')\n",
    "        tables_in_comment = comment_soup.find_all('table')\n",
    "        all_tables.extend(tables_in_comment)\n",
    "\n",
    "    game_data = {}\n",
    "    for table in all_tables:\n",
    "        table_id = table.get('id')\n",
    "        if table_id:\n",
    "            game_data[table_id] = (pd.read_html(str(table))[0])\n",
    "\n",
    "    return game_data"
   ]
  },
  {
   "cell_type": "code",
   "execution_count": 228,
   "id": "9b82ca8d",
   "metadata": {},
   "outputs": [],
   "source": [
    "def collect_season_stats(season, debug = False):\n",
    "    start_time = time.time()\n",
    "    df = fetch_game_context(season)\n",
    "\n",
    "    all_game_stats = {}\n",
    "    request_count = 0\n",
    "    \n",
    "    directory_path = os.path.join('raw_data', str(season))\n",
    "    file_path = os.path.join(directory_path, f\"{season}games.csv\")\n",
    "    os.makedirs(directory_path, exist_ok=True)\n",
    "    df.to_csv(file_path, index=False)\n",
    "    \n",
    "    for i in range(len(df)):\n",
    "        game = df.iloc[i]\n",
    "        if request_count >= 19:\n",
    "            print(\"Reached 20 requests, sleeping for 60 seconds...\")\n",
    "            time.sleep(60)  # sleep for 60 seconds to respect the rate limit\n",
    "            request_count = 0\n",
    "        directory_path = os.path.join('raw_data', str(season), game['Week'], game['File'])\n",
    "        os.makedirs(directory_path, exist_ok=True)\n",
    "        game_stats = fetch_game_stats(game['url'])\n",
    "        \n",
    "        if game_stats:\n",
    "            all_game_stats[game['File']] = game_stats\n",
    "            for key in game_stats.keys():\n",
    "                file_path = os.path.join(directory_path, f\"{key}.csv\")\n",
    "                game_stats[key].to_csv(file_path, index=False)\n",
    "            request_count += 1\n",
    "            if debug:\n",
    "                print(f\"Finished Processing {game['File']}...\")\n",
    "    \n",
    "    decimal_seconds = time.time() - start_time\n",
    "    whole_seconds = int(decimal_seconds)\n",
    "    fractional_seconds = decimal_seconds - whole_seconds\n",
    "    minutes = whole_seconds % 3600\n",
    "    seconds = whole_seconds % 60\n",
    "    seconds += fractional_seconds\n",
    "    formatted_time = f\"{minutes:02d}:{seconds:06.3f}\"\n",
    "    print(f'Completed Data Scraping of {season} NFL Season in {formatted_time} Seconds')\n",
    "    return df, all_game_stats"
   ]
  },
  {
   "cell_type": "code",
   "execution_count": 227,
   "id": "ebe8030e",
   "metadata": {},
   "outputs": [
    {
     "name": "stderr",
     "output_type": "stream",
     "text": [
      "C:\\Users\\jackj\\AppData\\Local\\Temp\\ipykernel_31996\\1469608065.py:49: MarkupResemblesLocatorWarning: The input looks more like a filename than markup. You may want to open this file and pass the filehandle into Beautiful Soup.\n",
      "  comment_soup = BeautifulSoup(comment, 'html.parser')\n"
     ]
    },
    {
     "name": "stdout",
     "output_type": "stream",
     "text": [
      "Saved DataFrame scoring to raw_data\\2023\\Week1\\2023_Week1_KC_vs_DET\\scoring.csv\n",
      "Saved DataFrame player_offense to raw_data\\2023\\Week1\\2023_Week1_KC_vs_DET\\player_offense.csv\n",
      "Saved DataFrame game_info to raw_data\\2023\\Week1\\2023_Week1_KC_vs_DET\\game_info.csv\n",
      "Saved DataFrame officials to raw_data\\2023\\Week1\\2023_Week1_KC_vs_DET\\officials.csv\n",
      "Saved DataFrame expected_points to raw_data\\2023\\Week1\\2023_Week1_KC_vs_DET\\expected_points.csv\n",
      "Saved DataFrame team_stats to raw_data\\2023\\Week1\\2023_Week1_KC_vs_DET\\team_stats.csv\n",
      "Saved DataFrame player_defense to raw_data\\2023\\Week1\\2023_Week1_KC_vs_DET\\player_defense.csv\n",
      "Saved DataFrame returns to raw_data\\2023\\Week1\\2023_Week1_KC_vs_DET\\returns.csv\n",
      "Saved DataFrame kicking to raw_data\\2023\\Week1\\2023_Week1_KC_vs_DET\\kicking.csv\n",
      "Saved DataFrame passing_advanced to raw_data\\2023\\Week1\\2023_Week1_KC_vs_DET\\passing_advanced.csv\n",
      "Saved DataFrame rushing_advanced to raw_data\\2023\\Week1\\2023_Week1_KC_vs_DET\\rushing_advanced.csv\n",
      "Saved DataFrame receiving_advanced to raw_data\\2023\\Week1\\2023_Week1_KC_vs_DET\\receiving_advanced.csv\n",
      "Saved DataFrame defense_advanced to raw_data\\2023\\Week1\\2023_Week1_KC_vs_DET\\defense_advanced.csv\n",
      "Saved DataFrame home_starters to raw_data\\2023\\Week1\\2023_Week1_KC_vs_DET\\home_starters.csv\n",
      "Saved DataFrame vis_starters to raw_data\\2023\\Week1\\2023_Week1_KC_vs_DET\\vis_starters.csv\n",
      "Saved DataFrame home_snap_counts to raw_data\\2023\\Week1\\2023_Week1_KC_vs_DET\\home_snap_counts.csv\n",
      "Saved DataFrame vis_snap_counts to raw_data\\2023\\Week1\\2023_Week1_KC_vs_DET\\vis_snap_counts.csv\n",
      "Saved DataFrame home_drives to raw_data\\2023\\Week1\\2023_Week1_KC_vs_DET\\home_drives.csv\n",
      "Saved DataFrame vis_drives to raw_data\\2023\\Week1\\2023_Week1_KC_vs_DET\\vis_drives.csv\n",
      "Saved DataFrame pbp to raw_data\\2023\\Week1\\2023_Week1_KC_vs_DET\\pbp.csv\n"
     ]
    },
    {
     "name": "stderr",
     "output_type": "stream",
     "text": [
      "C:\\Users\\jackj\\AppData\\Local\\Temp\\ipykernel_31996\\1469608065.py:49: MarkupResemblesLocatorWarning: The input looks more like a filename than markup. You may want to open this file and pass the filehandle into Beautiful Soup.\n",
      "  comment_soup = BeautifulSoup(comment, 'html.parser')\n"
     ]
    },
    {
     "name": "stdout",
     "output_type": "stream",
     "text": [
      "Saved DataFrame scoring to raw_data\\2023\\Week1\\2023_Week1_ATL_vs_CAR\\scoring.csv\n",
      "Saved DataFrame player_offense to raw_data\\2023\\Week1\\2023_Week1_ATL_vs_CAR\\player_offense.csv\n",
      "Saved DataFrame game_info to raw_data\\2023\\Week1\\2023_Week1_ATL_vs_CAR\\game_info.csv\n",
      "Saved DataFrame officials to raw_data\\2023\\Week1\\2023_Week1_ATL_vs_CAR\\officials.csv\n",
      "Saved DataFrame expected_points to raw_data\\2023\\Week1\\2023_Week1_ATL_vs_CAR\\expected_points.csv\n",
      "Saved DataFrame team_stats to raw_data\\2023\\Week1\\2023_Week1_ATL_vs_CAR\\team_stats.csv\n",
      "Saved DataFrame player_defense to raw_data\\2023\\Week1\\2023_Week1_ATL_vs_CAR\\player_defense.csv\n",
      "Saved DataFrame returns to raw_data\\2023\\Week1\\2023_Week1_ATL_vs_CAR\\returns.csv\n",
      "Saved DataFrame kicking to raw_data\\2023\\Week1\\2023_Week1_ATL_vs_CAR\\kicking.csv\n",
      "Saved DataFrame passing_advanced to raw_data\\2023\\Week1\\2023_Week1_ATL_vs_CAR\\passing_advanced.csv\n",
      "Saved DataFrame rushing_advanced to raw_data\\2023\\Week1\\2023_Week1_ATL_vs_CAR\\rushing_advanced.csv\n",
      "Saved DataFrame receiving_advanced to raw_data\\2023\\Week1\\2023_Week1_ATL_vs_CAR\\receiving_advanced.csv\n",
      "Saved DataFrame defense_advanced to raw_data\\2023\\Week1\\2023_Week1_ATL_vs_CAR\\defense_advanced.csv\n",
      "Saved DataFrame home_starters to raw_data\\2023\\Week1\\2023_Week1_ATL_vs_CAR\\home_starters.csv\n",
      "Saved DataFrame vis_starters to raw_data\\2023\\Week1\\2023_Week1_ATL_vs_CAR\\vis_starters.csv\n",
      "Saved DataFrame home_snap_counts to raw_data\\2023\\Week1\\2023_Week1_ATL_vs_CAR\\home_snap_counts.csv\n",
      "Saved DataFrame vis_snap_counts to raw_data\\2023\\Week1\\2023_Week1_ATL_vs_CAR\\vis_snap_counts.csv\n",
      "Saved DataFrame home_drives to raw_data\\2023\\Week1\\2023_Week1_ATL_vs_CAR\\home_drives.csv\n",
      "Saved DataFrame vis_drives to raw_data\\2023\\Week1\\2023_Week1_ATL_vs_CAR\\vis_drives.csv\n",
      "Saved DataFrame pbp to raw_data\\2023\\Week1\\2023_Week1_ATL_vs_CAR\\pbp.csv\n"
     ]
    },
    {
     "name": "stderr",
     "output_type": "stream",
     "text": [
      "C:\\Users\\jackj\\AppData\\Local\\Temp\\ipykernel_31996\\1469608065.py:49: MarkupResemblesLocatorWarning: The input looks more like a filename than markup. You may want to open this file and pass the filehandle into Beautiful Soup.\n",
      "  comment_soup = BeautifulSoup(comment, 'html.parser')\n"
     ]
    },
    {
     "name": "stdout",
     "output_type": "stream",
     "text": [
      "Saved DataFrame scoring to raw_data\\2023\\Week1\\2023_Week1_CLE_vs_CIN\\scoring.csv\n",
      "Saved DataFrame player_offense to raw_data\\2023\\Week1\\2023_Week1_CLE_vs_CIN\\player_offense.csv\n",
      "Saved DataFrame game_info to raw_data\\2023\\Week1\\2023_Week1_CLE_vs_CIN\\game_info.csv\n",
      "Saved DataFrame officials to raw_data\\2023\\Week1\\2023_Week1_CLE_vs_CIN\\officials.csv\n",
      "Saved DataFrame expected_points to raw_data\\2023\\Week1\\2023_Week1_CLE_vs_CIN\\expected_points.csv\n",
      "Saved DataFrame team_stats to raw_data\\2023\\Week1\\2023_Week1_CLE_vs_CIN\\team_stats.csv\n",
      "Saved DataFrame player_defense to raw_data\\2023\\Week1\\2023_Week1_CLE_vs_CIN\\player_defense.csv\n",
      "Saved DataFrame returns to raw_data\\2023\\Week1\\2023_Week1_CLE_vs_CIN\\returns.csv\n",
      "Saved DataFrame kicking to raw_data\\2023\\Week1\\2023_Week1_CLE_vs_CIN\\kicking.csv\n",
      "Saved DataFrame passing_advanced to raw_data\\2023\\Week1\\2023_Week1_CLE_vs_CIN\\passing_advanced.csv\n",
      "Saved DataFrame rushing_advanced to raw_data\\2023\\Week1\\2023_Week1_CLE_vs_CIN\\rushing_advanced.csv\n",
      "Saved DataFrame receiving_advanced to raw_data\\2023\\Week1\\2023_Week1_CLE_vs_CIN\\receiving_advanced.csv\n",
      "Saved DataFrame defense_advanced to raw_data\\2023\\Week1\\2023_Week1_CLE_vs_CIN\\defense_advanced.csv\n",
      "Saved DataFrame home_starters to raw_data\\2023\\Week1\\2023_Week1_CLE_vs_CIN\\home_starters.csv\n",
      "Saved DataFrame vis_starters to raw_data\\2023\\Week1\\2023_Week1_CLE_vs_CIN\\vis_starters.csv\n",
      "Saved DataFrame home_snap_counts to raw_data\\2023\\Week1\\2023_Week1_CLE_vs_CIN\\home_snap_counts.csv\n",
      "Saved DataFrame vis_snap_counts to raw_data\\2023\\Week1\\2023_Week1_CLE_vs_CIN\\vis_snap_counts.csv\n",
      "Saved DataFrame home_drives to raw_data\\2023\\Week1\\2023_Week1_CLE_vs_CIN\\home_drives.csv\n",
      "Saved DataFrame vis_drives to raw_data\\2023\\Week1\\2023_Week1_CLE_vs_CIN\\vis_drives.csv\n",
      "Saved DataFrame pbp to raw_data\\2023\\Week1\\2023_Week1_CLE_vs_CIN\\pbp.csv\n"
     ]
    },
    {
     "name": "stderr",
     "output_type": "stream",
     "text": [
      "C:\\Users\\jackj\\AppData\\Local\\Temp\\ipykernel_31996\\1469608065.py:49: MarkupResemblesLocatorWarning: The input looks more like a filename than markup. You may want to open this file and pass the filehandle into Beautiful Soup.\n",
      "  comment_soup = BeautifulSoup(comment, 'html.parser')\n"
     ]
    },
    {
     "name": "stdout",
     "output_type": "stream",
     "text": [
      "Saved DataFrame scoring to raw_data\\2023\\Week1\\2023_Week1_IND_vs_JAX\\scoring.csv\n",
      "Saved DataFrame player_offense to raw_data\\2023\\Week1\\2023_Week1_IND_vs_JAX\\player_offense.csv\n",
      "Saved DataFrame game_info to raw_data\\2023\\Week1\\2023_Week1_IND_vs_JAX\\game_info.csv\n",
      "Saved DataFrame officials to raw_data\\2023\\Week1\\2023_Week1_IND_vs_JAX\\officials.csv\n",
      "Saved DataFrame expected_points to raw_data\\2023\\Week1\\2023_Week1_IND_vs_JAX\\expected_points.csv\n",
      "Saved DataFrame team_stats to raw_data\\2023\\Week1\\2023_Week1_IND_vs_JAX\\team_stats.csv\n",
      "Saved DataFrame player_defense to raw_data\\2023\\Week1\\2023_Week1_IND_vs_JAX\\player_defense.csv\n",
      "Saved DataFrame returns to raw_data\\2023\\Week1\\2023_Week1_IND_vs_JAX\\returns.csv\n",
      "Saved DataFrame kicking to raw_data\\2023\\Week1\\2023_Week1_IND_vs_JAX\\kicking.csv\n",
      "Saved DataFrame passing_advanced to raw_data\\2023\\Week1\\2023_Week1_IND_vs_JAX\\passing_advanced.csv\n",
      "Saved DataFrame rushing_advanced to raw_data\\2023\\Week1\\2023_Week1_IND_vs_JAX\\rushing_advanced.csv\n",
      "Saved DataFrame receiving_advanced to raw_data\\2023\\Week1\\2023_Week1_IND_vs_JAX\\receiving_advanced.csv\n",
      "Saved DataFrame defense_advanced to raw_data\\2023\\Week1\\2023_Week1_IND_vs_JAX\\defense_advanced.csv\n",
      "Saved DataFrame home_starters to raw_data\\2023\\Week1\\2023_Week1_IND_vs_JAX\\home_starters.csv\n",
      "Saved DataFrame vis_starters to raw_data\\2023\\Week1\\2023_Week1_IND_vs_JAX\\vis_starters.csv\n",
      "Saved DataFrame home_snap_counts to raw_data\\2023\\Week1\\2023_Week1_IND_vs_JAX\\home_snap_counts.csv\n",
      "Saved DataFrame vis_snap_counts to raw_data\\2023\\Week1\\2023_Week1_IND_vs_JAX\\vis_snap_counts.csv\n",
      "Saved DataFrame home_drives to raw_data\\2023\\Week1\\2023_Week1_IND_vs_JAX\\home_drives.csv\n",
      "Saved DataFrame vis_drives to raw_data\\2023\\Week1\\2023_Week1_IND_vs_JAX\\vis_drives.csv\n",
      "Saved DataFrame pbp to raw_data\\2023\\Week1\\2023_Week1_IND_vs_JAX\\pbp.csv\n"
     ]
    },
    {
     "name": "stderr",
     "output_type": "stream",
     "text": [
      "C:\\Users\\jackj\\AppData\\Local\\Temp\\ipykernel_31996\\1469608065.py:49: MarkupResemblesLocatorWarning: The input looks more like a filename than markup. You may want to open this file and pass the filehandle into Beautiful Soup.\n",
      "  comment_soup = BeautifulSoup(comment, 'html.parser')\n"
     ]
    },
    {
     "name": "stdout",
     "output_type": "stream",
     "text": [
      "Saved DataFrame scoring to raw_data\\2023\\Week1\\2023_Week1_WAS_vs_ARI\\scoring.csv\n",
      "Saved DataFrame player_offense to raw_data\\2023\\Week1\\2023_Week1_WAS_vs_ARI\\player_offense.csv\n",
      "Saved DataFrame game_info to raw_data\\2023\\Week1\\2023_Week1_WAS_vs_ARI\\game_info.csv\n",
      "Saved DataFrame officials to raw_data\\2023\\Week1\\2023_Week1_WAS_vs_ARI\\officials.csv\n",
      "Saved DataFrame expected_points to raw_data\\2023\\Week1\\2023_Week1_WAS_vs_ARI\\expected_points.csv\n",
      "Saved DataFrame team_stats to raw_data\\2023\\Week1\\2023_Week1_WAS_vs_ARI\\team_stats.csv\n",
      "Saved DataFrame player_defense to raw_data\\2023\\Week1\\2023_Week1_WAS_vs_ARI\\player_defense.csv\n",
      "Saved DataFrame returns to raw_data\\2023\\Week1\\2023_Week1_WAS_vs_ARI\\returns.csv\n",
      "Saved DataFrame kicking to raw_data\\2023\\Week1\\2023_Week1_WAS_vs_ARI\\kicking.csv\n",
      "Saved DataFrame passing_advanced to raw_data\\2023\\Week1\\2023_Week1_WAS_vs_ARI\\passing_advanced.csv\n",
      "Saved DataFrame rushing_advanced to raw_data\\2023\\Week1\\2023_Week1_WAS_vs_ARI\\rushing_advanced.csv\n",
      "Saved DataFrame receiving_advanced to raw_data\\2023\\Week1\\2023_Week1_WAS_vs_ARI\\receiving_advanced.csv\n",
      "Saved DataFrame defense_advanced to raw_data\\2023\\Week1\\2023_Week1_WAS_vs_ARI\\defense_advanced.csv\n",
      "Saved DataFrame home_starters to raw_data\\2023\\Week1\\2023_Week1_WAS_vs_ARI\\home_starters.csv\n",
      "Saved DataFrame vis_starters to raw_data\\2023\\Week1\\2023_Week1_WAS_vs_ARI\\vis_starters.csv\n",
      "Saved DataFrame home_snap_counts to raw_data\\2023\\Week1\\2023_Week1_WAS_vs_ARI\\home_snap_counts.csv\n",
      "Saved DataFrame vis_snap_counts to raw_data\\2023\\Week1\\2023_Week1_WAS_vs_ARI\\vis_snap_counts.csv\n",
      "Saved DataFrame home_drives to raw_data\\2023\\Week1\\2023_Week1_WAS_vs_ARI\\home_drives.csv\n",
      "Saved DataFrame vis_drives to raw_data\\2023\\Week1\\2023_Week1_WAS_vs_ARI\\vis_drives.csv\n",
      "Saved DataFrame pbp to raw_data\\2023\\Week1\\2023_Week1_WAS_vs_ARI\\pbp.csv\n"
     ]
    },
    {
     "name": "stderr",
     "output_type": "stream",
     "text": [
      "C:\\Users\\jackj\\AppData\\Local\\Temp\\ipykernel_31996\\1469608065.py:49: MarkupResemblesLocatorWarning: The input looks more like a filename than markup. You may want to open this file and pass the filehandle into Beautiful Soup.\n",
      "  comment_soup = BeautifulSoup(comment, 'html.parser')\n"
     ]
    },
    {
     "name": "stdout",
     "output_type": "stream",
     "text": [
      "Saved DataFrame scoring to raw_data\\2023\\Week1\\2023_Week1_BAL_vs_HOU\\scoring.csv\n",
      "Saved DataFrame player_offense to raw_data\\2023\\Week1\\2023_Week1_BAL_vs_HOU\\player_offense.csv\n",
      "Saved DataFrame game_info to raw_data\\2023\\Week1\\2023_Week1_BAL_vs_HOU\\game_info.csv\n",
      "Saved DataFrame officials to raw_data\\2023\\Week1\\2023_Week1_BAL_vs_HOU\\officials.csv\n",
      "Saved DataFrame expected_points to raw_data\\2023\\Week1\\2023_Week1_BAL_vs_HOU\\expected_points.csv\n",
      "Saved DataFrame team_stats to raw_data\\2023\\Week1\\2023_Week1_BAL_vs_HOU\\team_stats.csv\n",
      "Saved DataFrame player_defense to raw_data\\2023\\Week1\\2023_Week1_BAL_vs_HOU\\player_defense.csv\n",
      "Saved DataFrame returns to raw_data\\2023\\Week1\\2023_Week1_BAL_vs_HOU\\returns.csv\n",
      "Saved DataFrame kicking to raw_data\\2023\\Week1\\2023_Week1_BAL_vs_HOU\\kicking.csv\n",
      "Saved DataFrame passing_advanced to raw_data\\2023\\Week1\\2023_Week1_BAL_vs_HOU\\passing_advanced.csv\n",
      "Saved DataFrame rushing_advanced to raw_data\\2023\\Week1\\2023_Week1_BAL_vs_HOU\\rushing_advanced.csv\n",
      "Saved DataFrame receiving_advanced to raw_data\\2023\\Week1\\2023_Week1_BAL_vs_HOU\\receiving_advanced.csv\n",
      "Saved DataFrame defense_advanced to raw_data\\2023\\Week1\\2023_Week1_BAL_vs_HOU\\defense_advanced.csv\n",
      "Saved DataFrame home_starters to raw_data\\2023\\Week1\\2023_Week1_BAL_vs_HOU\\home_starters.csv\n",
      "Saved DataFrame vis_starters to raw_data\\2023\\Week1\\2023_Week1_BAL_vs_HOU\\vis_starters.csv\n",
      "Saved DataFrame home_snap_counts to raw_data\\2023\\Week1\\2023_Week1_BAL_vs_HOU\\home_snap_counts.csv\n",
      "Saved DataFrame vis_snap_counts to raw_data\\2023\\Week1\\2023_Week1_BAL_vs_HOU\\vis_snap_counts.csv\n",
      "Saved DataFrame home_drives to raw_data\\2023\\Week1\\2023_Week1_BAL_vs_HOU\\home_drives.csv\n",
      "Saved DataFrame vis_drives to raw_data\\2023\\Week1\\2023_Week1_BAL_vs_HOU\\vis_drives.csv\n",
      "Saved DataFrame pbp to raw_data\\2023\\Week1\\2023_Week1_BAL_vs_HOU\\pbp.csv\n"
     ]
    },
    {
     "name": "stderr",
     "output_type": "stream",
     "text": [
      "C:\\Users\\jackj\\AppData\\Local\\Temp\\ipykernel_31996\\1469608065.py:49: MarkupResemblesLocatorWarning: The input looks more like a filename than markup. You may want to open this file and pass the filehandle into Beautiful Soup.\n",
      "  comment_soup = BeautifulSoup(comment, 'html.parser')\n"
     ]
    },
    {
     "name": "stdout",
     "output_type": "stream",
     "text": [
      "Saved DataFrame scoring to raw_data\\2023\\Week1\\2023_Week1_MIN_vs_TB\\scoring.csv\n",
      "Saved DataFrame player_offense to raw_data\\2023\\Week1\\2023_Week1_MIN_vs_TB\\player_offense.csv\n",
      "Saved DataFrame game_info to raw_data\\2023\\Week1\\2023_Week1_MIN_vs_TB\\game_info.csv\n",
      "Saved DataFrame officials to raw_data\\2023\\Week1\\2023_Week1_MIN_vs_TB\\officials.csv\n",
      "Saved DataFrame expected_points to raw_data\\2023\\Week1\\2023_Week1_MIN_vs_TB\\expected_points.csv\n",
      "Saved DataFrame team_stats to raw_data\\2023\\Week1\\2023_Week1_MIN_vs_TB\\team_stats.csv\n",
      "Saved DataFrame player_defense to raw_data\\2023\\Week1\\2023_Week1_MIN_vs_TB\\player_defense.csv\n",
      "Saved DataFrame returns to raw_data\\2023\\Week1\\2023_Week1_MIN_vs_TB\\returns.csv\n",
      "Saved DataFrame kicking to raw_data\\2023\\Week1\\2023_Week1_MIN_vs_TB\\kicking.csv\n",
      "Saved DataFrame passing_advanced to raw_data\\2023\\Week1\\2023_Week1_MIN_vs_TB\\passing_advanced.csv\n",
      "Saved DataFrame rushing_advanced to raw_data\\2023\\Week1\\2023_Week1_MIN_vs_TB\\rushing_advanced.csv\n",
      "Saved DataFrame receiving_advanced to raw_data\\2023\\Week1\\2023_Week1_MIN_vs_TB\\receiving_advanced.csv\n",
      "Saved DataFrame defense_advanced to raw_data\\2023\\Week1\\2023_Week1_MIN_vs_TB\\defense_advanced.csv\n",
      "Saved DataFrame home_starters to raw_data\\2023\\Week1\\2023_Week1_MIN_vs_TB\\home_starters.csv\n",
      "Saved DataFrame vis_starters to raw_data\\2023\\Week1\\2023_Week1_MIN_vs_TB\\vis_starters.csv\n",
      "Saved DataFrame home_snap_counts to raw_data\\2023\\Week1\\2023_Week1_MIN_vs_TB\\home_snap_counts.csv\n",
      "Saved DataFrame vis_snap_counts to raw_data\\2023\\Week1\\2023_Week1_MIN_vs_TB\\vis_snap_counts.csv\n",
      "Saved DataFrame home_drives to raw_data\\2023\\Week1\\2023_Week1_MIN_vs_TB\\home_drives.csv\n",
      "Saved DataFrame vis_drives to raw_data\\2023\\Week1\\2023_Week1_MIN_vs_TB\\vis_drives.csv\n",
      "Saved DataFrame pbp to raw_data\\2023\\Week1\\2023_Week1_MIN_vs_TB\\pbp.csv\n"
     ]
    },
    {
     "name": "stderr",
     "output_type": "stream",
     "text": [
      "C:\\Users\\jackj\\AppData\\Local\\Temp\\ipykernel_31996\\1469608065.py:49: MarkupResemblesLocatorWarning: The input looks more like a filename than markup. You may want to open this file and pass the filehandle into Beautiful Soup.\n",
      "  comment_soup = BeautifulSoup(comment, 'html.parser')\n"
     ]
    },
    {
     "name": "stdout",
     "output_type": "stream",
     "text": [
      "Saved DataFrame scoring to raw_data\\2023\\Week1\\2023_Week1_NO_vs_TEN\\scoring.csv\n",
      "Saved DataFrame player_offense to raw_data\\2023\\Week1\\2023_Week1_NO_vs_TEN\\player_offense.csv\n",
      "Saved DataFrame game_info to raw_data\\2023\\Week1\\2023_Week1_NO_vs_TEN\\game_info.csv\n",
      "Saved DataFrame officials to raw_data\\2023\\Week1\\2023_Week1_NO_vs_TEN\\officials.csv\n",
      "Saved DataFrame expected_points to raw_data\\2023\\Week1\\2023_Week1_NO_vs_TEN\\expected_points.csv\n",
      "Saved DataFrame team_stats to raw_data\\2023\\Week1\\2023_Week1_NO_vs_TEN\\team_stats.csv\n",
      "Saved DataFrame player_defense to raw_data\\2023\\Week1\\2023_Week1_NO_vs_TEN\\player_defense.csv\n",
      "Saved DataFrame returns to raw_data\\2023\\Week1\\2023_Week1_NO_vs_TEN\\returns.csv\n",
      "Saved DataFrame kicking to raw_data\\2023\\Week1\\2023_Week1_NO_vs_TEN\\kicking.csv\n",
      "Saved DataFrame passing_advanced to raw_data\\2023\\Week1\\2023_Week1_NO_vs_TEN\\passing_advanced.csv\n",
      "Saved DataFrame rushing_advanced to raw_data\\2023\\Week1\\2023_Week1_NO_vs_TEN\\rushing_advanced.csv\n",
      "Saved DataFrame receiving_advanced to raw_data\\2023\\Week1\\2023_Week1_NO_vs_TEN\\receiving_advanced.csv\n",
      "Saved DataFrame defense_advanced to raw_data\\2023\\Week1\\2023_Week1_NO_vs_TEN\\defense_advanced.csv\n",
      "Saved DataFrame home_starters to raw_data\\2023\\Week1\\2023_Week1_NO_vs_TEN\\home_starters.csv\n",
      "Saved DataFrame vis_starters to raw_data\\2023\\Week1\\2023_Week1_NO_vs_TEN\\vis_starters.csv\n",
      "Saved DataFrame home_snap_counts to raw_data\\2023\\Week1\\2023_Week1_NO_vs_TEN\\home_snap_counts.csv\n",
      "Saved DataFrame vis_snap_counts to raw_data\\2023\\Week1\\2023_Week1_NO_vs_TEN\\vis_snap_counts.csv\n",
      "Saved DataFrame home_drives to raw_data\\2023\\Week1\\2023_Week1_NO_vs_TEN\\home_drives.csv\n",
      "Saved DataFrame vis_drives to raw_data\\2023\\Week1\\2023_Week1_NO_vs_TEN\\vis_drives.csv\n",
      "Saved DataFrame pbp to raw_data\\2023\\Week1\\2023_Week1_NO_vs_TEN\\pbp.csv\n"
     ]
    },
    {
     "name": "stderr",
     "output_type": "stream",
     "text": [
      "C:\\Users\\jackj\\AppData\\Local\\Temp\\ipykernel_31996\\1469608065.py:49: MarkupResemblesLocatorWarning: The input looks more like a filename than markup. You may want to open this file and pass the filehandle into Beautiful Soup.\n",
      "  comment_soup = BeautifulSoup(comment, 'html.parser')\n"
     ]
    },
    {
     "name": "stdout",
     "output_type": "stream",
     "text": [
      "Saved DataFrame scoring to raw_data\\2023\\Week1\\2023_Week1_PIT_vs_SF\\scoring.csv\n",
      "Saved DataFrame player_offense to raw_data\\2023\\Week1\\2023_Week1_PIT_vs_SF\\player_offense.csv\n",
      "Saved DataFrame game_info to raw_data\\2023\\Week1\\2023_Week1_PIT_vs_SF\\game_info.csv\n",
      "Saved DataFrame officials to raw_data\\2023\\Week1\\2023_Week1_PIT_vs_SF\\officials.csv\n",
      "Saved DataFrame expected_points to raw_data\\2023\\Week1\\2023_Week1_PIT_vs_SF\\expected_points.csv\n",
      "Saved DataFrame team_stats to raw_data\\2023\\Week1\\2023_Week1_PIT_vs_SF\\team_stats.csv\n",
      "Saved DataFrame player_defense to raw_data\\2023\\Week1\\2023_Week1_PIT_vs_SF\\player_defense.csv\n",
      "Saved DataFrame returns to raw_data\\2023\\Week1\\2023_Week1_PIT_vs_SF\\returns.csv\n",
      "Saved DataFrame kicking to raw_data\\2023\\Week1\\2023_Week1_PIT_vs_SF\\kicking.csv\n",
      "Saved DataFrame passing_advanced to raw_data\\2023\\Week1\\2023_Week1_PIT_vs_SF\\passing_advanced.csv\n",
      "Saved DataFrame rushing_advanced to raw_data\\2023\\Week1\\2023_Week1_PIT_vs_SF\\rushing_advanced.csv\n",
      "Saved DataFrame receiving_advanced to raw_data\\2023\\Week1\\2023_Week1_PIT_vs_SF\\receiving_advanced.csv\n",
      "Saved DataFrame defense_advanced to raw_data\\2023\\Week1\\2023_Week1_PIT_vs_SF\\defense_advanced.csv\n",
      "Saved DataFrame home_starters to raw_data\\2023\\Week1\\2023_Week1_PIT_vs_SF\\home_starters.csv\n",
      "Saved DataFrame vis_starters to raw_data\\2023\\Week1\\2023_Week1_PIT_vs_SF\\vis_starters.csv\n",
      "Saved DataFrame home_snap_counts to raw_data\\2023\\Week1\\2023_Week1_PIT_vs_SF\\home_snap_counts.csv\n",
      "Saved DataFrame vis_snap_counts to raw_data\\2023\\Week1\\2023_Week1_PIT_vs_SF\\vis_snap_counts.csv\n",
      "Saved DataFrame home_drives to raw_data\\2023\\Week1\\2023_Week1_PIT_vs_SF\\home_drives.csv\n",
      "Saved DataFrame vis_drives to raw_data\\2023\\Week1\\2023_Week1_PIT_vs_SF\\vis_drives.csv\n",
      "Saved DataFrame pbp to raw_data\\2023\\Week1\\2023_Week1_PIT_vs_SF\\pbp.csv\n"
     ]
    },
    {
     "name": "stderr",
     "output_type": "stream",
     "text": [
      "C:\\Users\\jackj\\AppData\\Local\\Temp\\ipykernel_31996\\1469608065.py:49: MarkupResemblesLocatorWarning: The input looks more like a filename than markup. You may want to open this file and pass the filehandle into Beautiful Soup.\n",
      "  comment_soup = BeautifulSoup(comment, 'html.parser')\n"
     ]
    },
    {
     "name": "stdout",
     "output_type": "stream",
     "text": [
      "Saved DataFrame scoring to raw_data\\2023\\Week1\\2023_Week1_CHI_vs_GB\\scoring.csv\n",
      "Saved DataFrame player_offense to raw_data\\2023\\Week1\\2023_Week1_CHI_vs_GB\\player_offense.csv\n",
      "Saved DataFrame game_info to raw_data\\2023\\Week1\\2023_Week1_CHI_vs_GB\\game_info.csv\n",
      "Saved DataFrame officials to raw_data\\2023\\Week1\\2023_Week1_CHI_vs_GB\\officials.csv\n",
      "Saved DataFrame expected_points to raw_data\\2023\\Week1\\2023_Week1_CHI_vs_GB\\expected_points.csv\n",
      "Saved DataFrame team_stats to raw_data\\2023\\Week1\\2023_Week1_CHI_vs_GB\\team_stats.csv\n",
      "Saved DataFrame player_defense to raw_data\\2023\\Week1\\2023_Week1_CHI_vs_GB\\player_defense.csv\n",
      "Saved DataFrame returns to raw_data\\2023\\Week1\\2023_Week1_CHI_vs_GB\\returns.csv\n",
      "Saved DataFrame kicking to raw_data\\2023\\Week1\\2023_Week1_CHI_vs_GB\\kicking.csv\n",
      "Saved DataFrame passing_advanced to raw_data\\2023\\Week1\\2023_Week1_CHI_vs_GB\\passing_advanced.csv\n",
      "Saved DataFrame rushing_advanced to raw_data\\2023\\Week1\\2023_Week1_CHI_vs_GB\\rushing_advanced.csv\n",
      "Saved DataFrame receiving_advanced to raw_data\\2023\\Week1\\2023_Week1_CHI_vs_GB\\receiving_advanced.csv\n",
      "Saved DataFrame defense_advanced to raw_data\\2023\\Week1\\2023_Week1_CHI_vs_GB\\defense_advanced.csv\n",
      "Saved DataFrame home_starters to raw_data\\2023\\Week1\\2023_Week1_CHI_vs_GB\\home_starters.csv\n",
      "Saved DataFrame vis_starters to raw_data\\2023\\Week1\\2023_Week1_CHI_vs_GB\\vis_starters.csv\n",
      "Saved DataFrame home_snap_counts to raw_data\\2023\\Week1\\2023_Week1_CHI_vs_GB\\home_snap_counts.csv\n",
      "Saved DataFrame vis_snap_counts to raw_data\\2023\\Week1\\2023_Week1_CHI_vs_GB\\vis_snap_counts.csv\n",
      "Saved DataFrame home_drives to raw_data\\2023\\Week1\\2023_Week1_CHI_vs_GB\\home_drives.csv\n",
      "Saved DataFrame vis_drives to raw_data\\2023\\Week1\\2023_Week1_CHI_vs_GB\\vis_drives.csv\n",
      "Saved DataFrame pbp to raw_data\\2023\\Week1\\2023_Week1_CHI_vs_GB\\pbp.csv\n"
     ]
    },
    {
     "name": "stderr",
     "output_type": "stream",
     "text": [
      "C:\\Users\\jackj\\AppData\\Local\\Temp\\ipykernel_31996\\1469608065.py:49: MarkupResemblesLocatorWarning: The input looks more like a filename than markup. You may want to open this file and pass the filehandle into Beautiful Soup.\n",
      "  comment_soup = BeautifulSoup(comment, 'html.parser')\n"
     ]
    },
    {
     "name": "stdout",
     "output_type": "stream",
     "text": [
      "Saved DataFrame scoring to raw_data\\2023\\Week1\\2023_Week1_DEN_vs_LVR\\scoring.csv\n",
      "Saved DataFrame player_offense to raw_data\\2023\\Week1\\2023_Week1_DEN_vs_LVR\\player_offense.csv\n",
      "Saved DataFrame game_info to raw_data\\2023\\Week1\\2023_Week1_DEN_vs_LVR\\game_info.csv\n",
      "Saved DataFrame officials to raw_data\\2023\\Week1\\2023_Week1_DEN_vs_LVR\\officials.csv\n",
      "Saved DataFrame expected_points to raw_data\\2023\\Week1\\2023_Week1_DEN_vs_LVR\\expected_points.csv\n",
      "Saved DataFrame team_stats to raw_data\\2023\\Week1\\2023_Week1_DEN_vs_LVR\\team_stats.csv\n",
      "Saved DataFrame player_defense to raw_data\\2023\\Week1\\2023_Week1_DEN_vs_LVR\\player_defense.csv\n",
      "Saved DataFrame returns to raw_data\\2023\\Week1\\2023_Week1_DEN_vs_LVR\\returns.csv\n",
      "Saved DataFrame kicking to raw_data\\2023\\Week1\\2023_Week1_DEN_vs_LVR\\kicking.csv\n",
      "Saved DataFrame passing_advanced to raw_data\\2023\\Week1\\2023_Week1_DEN_vs_LVR\\passing_advanced.csv\n",
      "Saved DataFrame rushing_advanced to raw_data\\2023\\Week1\\2023_Week1_DEN_vs_LVR\\rushing_advanced.csv\n",
      "Saved DataFrame receiving_advanced to raw_data\\2023\\Week1\\2023_Week1_DEN_vs_LVR\\receiving_advanced.csv\n",
      "Saved DataFrame defense_advanced to raw_data\\2023\\Week1\\2023_Week1_DEN_vs_LVR\\defense_advanced.csv\n",
      "Saved DataFrame home_starters to raw_data\\2023\\Week1\\2023_Week1_DEN_vs_LVR\\home_starters.csv\n",
      "Saved DataFrame vis_starters to raw_data\\2023\\Week1\\2023_Week1_DEN_vs_LVR\\vis_starters.csv\n",
      "Saved DataFrame home_snap_counts to raw_data\\2023\\Week1\\2023_Week1_DEN_vs_LVR\\home_snap_counts.csv\n",
      "Saved DataFrame vis_snap_counts to raw_data\\2023\\Week1\\2023_Week1_DEN_vs_LVR\\vis_snap_counts.csv\n",
      "Saved DataFrame home_drives to raw_data\\2023\\Week1\\2023_Week1_DEN_vs_LVR\\home_drives.csv\n",
      "Saved DataFrame vis_drives to raw_data\\2023\\Week1\\2023_Week1_DEN_vs_LVR\\vis_drives.csv\n",
      "Saved DataFrame pbp to raw_data\\2023\\Week1\\2023_Week1_DEN_vs_LVR\\pbp.csv\n"
     ]
    },
    {
     "name": "stderr",
     "output_type": "stream",
     "text": [
      "C:\\Users\\jackj\\AppData\\Local\\Temp\\ipykernel_31996\\1469608065.py:49: MarkupResemblesLocatorWarning: The input looks more like a filename than markup. You may want to open this file and pass the filehandle into Beautiful Soup.\n",
      "  comment_soup = BeautifulSoup(comment, 'html.parser')\n"
     ]
    },
    {
     "name": "stdout",
     "output_type": "stream",
     "text": [
      "Saved DataFrame scoring to raw_data\\2023\\Week1\\2023_Week1_LAC_vs_MIA\\scoring.csv\n",
      "Saved DataFrame player_offense to raw_data\\2023\\Week1\\2023_Week1_LAC_vs_MIA\\player_offense.csv\n",
      "Saved DataFrame game_info to raw_data\\2023\\Week1\\2023_Week1_LAC_vs_MIA\\game_info.csv\n",
      "Saved DataFrame officials to raw_data\\2023\\Week1\\2023_Week1_LAC_vs_MIA\\officials.csv\n",
      "Saved DataFrame expected_points to raw_data\\2023\\Week1\\2023_Week1_LAC_vs_MIA\\expected_points.csv\n",
      "Saved DataFrame team_stats to raw_data\\2023\\Week1\\2023_Week1_LAC_vs_MIA\\team_stats.csv\n",
      "Saved DataFrame player_defense to raw_data\\2023\\Week1\\2023_Week1_LAC_vs_MIA\\player_defense.csv\n",
      "Saved DataFrame returns to raw_data\\2023\\Week1\\2023_Week1_LAC_vs_MIA\\returns.csv\n",
      "Saved DataFrame kicking to raw_data\\2023\\Week1\\2023_Week1_LAC_vs_MIA\\kicking.csv\n",
      "Saved DataFrame passing_advanced to raw_data\\2023\\Week1\\2023_Week1_LAC_vs_MIA\\passing_advanced.csv\n",
      "Saved DataFrame rushing_advanced to raw_data\\2023\\Week1\\2023_Week1_LAC_vs_MIA\\rushing_advanced.csv\n",
      "Saved DataFrame receiving_advanced to raw_data\\2023\\Week1\\2023_Week1_LAC_vs_MIA\\receiving_advanced.csv\n",
      "Saved DataFrame defense_advanced to raw_data\\2023\\Week1\\2023_Week1_LAC_vs_MIA\\defense_advanced.csv\n",
      "Saved DataFrame home_starters to raw_data\\2023\\Week1\\2023_Week1_LAC_vs_MIA\\home_starters.csv\n",
      "Saved DataFrame vis_starters to raw_data\\2023\\Week1\\2023_Week1_LAC_vs_MIA\\vis_starters.csv\n",
      "Saved DataFrame home_snap_counts to raw_data\\2023\\Week1\\2023_Week1_LAC_vs_MIA\\home_snap_counts.csv\n",
      "Saved DataFrame vis_snap_counts to raw_data\\2023\\Week1\\2023_Week1_LAC_vs_MIA\\vis_snap_counts.csv\n",
      "Saved DataFrame home_drives to raw_data\\2023\\Week1\\2023_Week1_LAC_vs_MIA\\home_drives.csv\n",
      "Saved DataFrame vis_drives to raw_data\\2023\\Week1\\2023_Week1_LAC_vs_MIA\\vis_drives.csv\n",
      "Saved DataFrame pbp to raw_data\\2023\\Week1\\2023_Week1_LAC_vs_MIA\\pbp.csv\n"
     ]
    },
    {
     "name": "stderr",
     "output_type": "stream",
     "text": [
      "C:\\Users\\jackj\\AppData\\Local\\Temp\\ipykernel_31996\\1469608065.py:49: MarkupResemblesLocatorWarning: The input looks more like a filename than markup. You may want to open this file and pass the filehandle into Beautiful Soup.\n",
      "  comment_soup = BeautifulSoup(comment, 'html.parser')\n"
     ]
    },
    {
     "name": "stdout",
     "output_type": "stream",
     "text": [
      "Saved DataFrame scoring to raw_data\\2023\\Week1\\2023_Week1_NE_vs_PHI\\scoring.csv\n",
      "Saved DataFrame player_offense to raw_data\\2023\\Week1\\2023_Week1_NE_vs_PHI\\player_offense.csv\n",
      "Saved DataFrame game_info to raw_data\\2023\\Week1\\2023_Week1_NE_vs_PHI\\game_info.csv\n",
      "Saved DataFrame officials to raw_data\\2023\\Week1\\2023_Week1_NE_vs_PHI\\officials.csv\n",
      "Saved DataFrame expected_points to raw_data\\2023\\Week1\\2023_Week1_NE_vs_PHI\\expected_points.csv\n",
      "Saved DataFrame team_stats to raw_data\\2023\\Week1\\2023_Week1_NE_vs_PHI\\team_stats.csv\n",
      "Saved DataFrame player_defense to raw_data\\2023\\Week1\\2023_Week1_NE_vs_PHI\\player_defense.csv\n",
      "Saved DataFrame returns to raw_data\\2023\\Week1\\2023_Week1_NE_vs_PHI\\returns.csv\n",
      "Saved DataFrame kicking to raw_data\\2023\\Week1\\2023_Week1_NE_vs_PHI\\kicking.csv\n",
      "Saved DataFrame passing_advanced to raw_data\\2023\\Week1\\2023_Week1_NE_vs_PHI\\passing_advanced.csv\n",
      "Saved DataFrame rushing_advanced to raw_data\\2023\\Week1\\2023_Week1_NE_vs_PHI\\rushing_advanced.csv\n",
      "Saved DataFrame receiving_advanced to raw_data\\2023\\Week1\\2023_Week1_NE_vs_PHI\\receiving_advanced.csv\n",
      "Saved DataFrame defense_advanced to raw_data\\2023\\Week1\\2023_Week1_NE_vs_PHI\\defense_advanced.csv\n",
      "Saved DataFrame home_starters to raw_data\\2023\\Week1\\2023_Week1_NE_vs_PHI\\home_starters.csv\n",
      "Saved DataFrame vis_starters to raw_data\\2023\\Week1\\2023_Week1_NE_vs_PHI\\vis_starters.csv\n",
      "Saved DataFrame home_snap_counts to raw_data\\2023\\Week1\\2023_Week1_NE_vs_PHI\\home_snap_counts.csv\n",
      "Saved DataFrame vis_snap_counts to raw_data\\2023\\Week1\\2023_Week1_NE_vs_PHI\\vis_snap_counts.csv\n",
      "Saved DataFrame home_drives to raw_data\\2023\\Week1\\2023_Week1_NE_vs_PHI\\home_drives.csv\n",
      "Saved DataFrame vis_drives to raw_data\\2023\\Week1\\2023_Week1_NE_vs_PHI\\vis_drives.csv\n",
      "Saved DataFrame pbp to raw_data\\2023\\Week1\\2023_Week1_NE_vs_PHI\\pbp.csv\n"
     ]
    },
    {
     "name": "stderr",
     "output_type": "stream",
     "text": [
      "C:\\Users\\jackj\\AppData\\Local\\Temp\\ipykernel_31996\\1469608065.py:49: MarkupResemblesLocatorWarning: The input looks more like a filename than markup. You may want to open this file and pass the filehandle into Beautiful Soup.\n",
      "  comment_soup = BeautifulSoup(comment, 'html.parser')\n"
     ]
    },
    {
     "name": "stdout",
     "output_type": "stream",
     "text": [
      "Saved DataFrame scoring to raw_data\\2023\\Week1\\2023_Week1_SEA_vs_LAR\\scoring.csv\n",
      "Saved DataFrame player_offense to raw_data\\2023\\Week1\\2023_Week1_SEA_vs_LAR\\player_offense.csv\n",
      "Saved DataFrame game_info to raw_data\\2023\\Week1\\2023_Week1_SEA_vs_LAR\\game_info.csv\n",
      "Saved DataFrame officials to raw_data\\2023\\Week1\\2023_Week1_SEA_vs_LAR\\officials.csv\n",
      "Saved DataFrame expected_points to raw_data\\2023\\Week1\\2023_Week1_SEA_vs_LAR\\expected_points.csv\n",
      "Saved DataFrame team_stats to raw_data\\2023\\Week1\\2023_Week1_SEA_vs_LAR\\team_stats.csv\n",
      "Saved DataFrame player_defense to raw_data\\2023\\Week1\\2023_Week1_SEA_vs_LAR\\player_defense.csv\n",
      "Saved DataFrame returns to raw_data\\2023\\Week1\\2023_Week1_SEA_vs_LAR\\returns.csv\n",
      "Saved DataFrame kicking to raw_data\\2023\\Week1\\2023_Week1_SEA_vs_LAR\\kicking.csv\n",
      "Saved DataFrame passing_advanced to raw_data\\2023\\Week1\\2023_Week1_SEA_vs_LAR\\passing_advanced.csv\n",
      "Saved DataFrame rushing_advanced to raw_data\\2023\\Week1\\2023_Week1_SEA_vs_LAR\\rushing_advanced.csv\n",
      "Saved DataFrame receiving_advanced to raw_data\\2023\\Week1\\2023_Week1_SEA_vs_LAR\\receiving_advanced.csv\n",
      "Saved DataFrame defense_advanced to raw_data\\2023\\Week1\\2023_Week1_SEA_vs_LAR\\defense_advanced.csv\n",
      "Saved DataFrame home_starters to raw_data\\2023\\Week1\\2023_Week1_SEA_vs_LAR\\home_starters.csv\n",
      "Saved DataFrame vis_starters to raw_data\\2023\\Week1\\2023_Week1_SEA_vs_LAR\\vis_starters.csv\n",
      "Saved DataFrame home_snap_counts to raw_data\\2023\\Week1\\2023_Week1_SEA_vs_LAR\\home_snap_counts.csv\n",
      "Saved DataFrame vis_snap_counts to raw_data\\2023\\Week1\\2023_Week1_SEA_vs_LAR\\vis_snap_counts.csv\n",
      "Saved DataFrame home_drives to raw_data\\2023\\Week1\\2023_Week1_SEA_vs_LAR\\home_drives.csv\n",
      "Saved DataFrame vis_drives to raw_data\\2023\\Week1\\2023_Week1_SEA_vs_LAR\\vis_drives.csv\n",
      "Saved DataFrame pbp to raw_data\\2023\\Week1\\2023_Week1_SEA_vs_LAR\\pbp.csv\n"
     ]
    },
    {
     "name": "stderr",
     "output_type": "stream",
     "text": [
      "C:\\Users\\jackj\\AppData\\Local\\Temp\\ipykernel_31996\\1469608065.py:49: MarkupResemblesLocatorWarning: The input looks more like a filename than markup. You may want to open this file and pass the filehandle into Beautiful Soup.\n",
      "  comment_soup = BeautifulSoup(comment, 'html.parser')\n"
     ]
    },
    {
     "name": "stdout",
     "output_type": "stream",
     "text": [
      "Saved DataFrame scoring to raw_data\\2023\\Week1\\2023_Week1_NYG_vs_DAL\\scoring.csv\n",
      "Saved DataFrame player_offense to raw_data\\2023\\Week1\\2023_Week1_NYG_vs_DAL\\player_offense.csv\n",
      "Saved DataFrame game_info to raw_data\\2023\\Week1\\2023_Week1_NYG_vs_DAL\\game_info.csv\n",
      "Saved DataFrame officials to raw_data\\2023\\Week1\\2023_Week1_NYG_vs_DAL\\officials.csv\n",
      "Saved DataFrame expected_points to raw_data\\2023\\Week1\\2023_Week1_NYG_vs_DAL\\expected_points.csv\n",
      "Saved DataFrame team_stats to raw_data\\2023\\Week1\\2023_Week1_NYG_vs_DAL\\team_stats.csv\n",
      "Saved DataFrame player_defense to raw_data\\2023\\Week1\\2023_Week1_NYG_vs_DAL\\player_defense.csv\n",
      "Saved DataFrame returns to raw_data\\2023\\Week1\\2023_Week1_NYG_vs_DAL\\returns.csv\n",
      "Saved DataFrame kicking to raw_data\\2023\\Week1\\2023_Week1_NYG_vs_DAL\\kicking.csv\n",
      "Saved DataFrame passing_advanced to raw_data\\2023\\Week1\\2023_Week1_NYG_vs_DAL\\passing_advanced.csv\n",
      "Saved DataFrame rushing_advanced to raw_data\\2023\\Week1\\2023_Week1_NYG_vs_DAL\\rushing_advanced.csv\n",
      "Saved DataFrame receiving_advanced to raw_data\\2023\\Week1\\2023_Week1_NYG_vs_DAL\\receiving_advanced.csv\n",
      "Saved DataFrame defense_advanced to raw_data\\2023\\Week1\\2023_Week1_NYG_vs_DAL\\defense_advanced.csv\n",
      "Saved DataFrame home_starters to raw_data\\2023\\Week1\\2023_Week1_NYG_vs_DAL\\home_starters.csv\n",
      "Saved DataFrame vis_starters to raw_data\\2023\\Week1\\2023_Week1_NYG_vs_DAL\\vis_starters.csv\n",
      "Saved DataFrame home_snap_counts to raw_data\\2023\\Week1\\2023_Week1_NYG_vs_DAL\\home_snap_counts.csv\n",
      "Saved DataFrame vis_snap_counts to raw_data\\2023\\Week1\\2023_Week1_NYG_vs_DAL\\vis_snap_counts.csv\n",
      "Saved DataFrame home_drives to raw_data\\2023\\Week1\\2023_Week1_NYG_vs_DAL\\home_drives.csv\n",
      "Saved DataFrame vis_drives to raw_data\\2023\\Week1\\2023_Week1_NYG_vs_DAL\\vis_drives.csv\n",
      "Saved DataFrame pbp to raw_data\\2023\\Week1\\2023_Week1_NYG_vs_DAL\\pbp.csv\n"
     ]
    },
    {
     "name": "stderr",
     "output_type": "stream",
     "text": [
      "C:\\Users\\jackj\\AppData\\Local\\Temp\\ipykernel_31996\\1469608065.py:49: MarkupResemblesLocatorWarning: The input looks more like a filename than markup. You may want to open this file and pass the filehandle into Beautiful Soup.\n",
      "  comment_soup = BeautifulSoup(comment, 'html.parser')\n"
     ]
    },
    {
     "name": "stdout",
     "output_type": "stream",
     "text": [
      "Saved DataFrame scoring to raw_data\\2023\\Week1\\2023_Week1_NYJ_vs_BUF\\scoring.csv\n",
      "Saved DataFrame player_offense to raw_data\\2023\\Week1\\2023_Week1_NYJ_vs_BUF\\player_offense.csv\n",
      "Saved DataFrame game_info to raw_data\\2023\\Week1\\2023_Week1_NYJ_vs_BUF\\game_info.csv\n",
      "Saved DataFrame officials to raw_data\\2023\\Week1\\2023_Week1_NYJ_vs_BUF\\officials.csv\n",
      "Saved DataFrame expected_points to raw_data\\2023\\Week1\\2023_Week1_NYJ_vs_BUF\\expected_points.csv\n",
      "Saved DataFrame team_stats to raw_data\\2023\\Week1\\2023_Week1_NYJ_vs_BUF\\team_stats.csv\n",
      "Saved DataFrame player_defense to raw_data\\2023\\Week1\\2023_Week1_NYJ_vs_BUF\\player_defense.csv\n",
      "Saved DataFrame returns to raw_data\\2023\\Week1\\2023_Week1_NYJ_vs_BUF\\returns.csv\n",
      "Saved DataFrame kicking to raw_data\\2023\\Week1\\2023_Week1_NYJ_vs_BUF\\kicking.csv\n",
      "Saved DataFrame passing_advanced to raw_data\\2023\\Week1\\2023_Week1_NYJ_vs_BUF\\passing_advanced.csv\n",
      "Saved DataFrame rushing_advanced to raw_data\\2023\\Week1\\2023_Week1_NYJ_vs_BUF\\rushing_advanced.csv\n",
      "Saved DataFrame receiving_advanced to raw_data\\2023\\Week1\\2023_Week1_NYJ_vs_BUF\\receiving_advanced.csv\n",
      "Saved DataFrame defense_advanced to raw_data\\2023\\Week1\\2023_Week1_NYJ_vs_BUF\\defense_advanced.csv\n",
      "Saved DataFrame home_starters to raw_data\\2023\\Week1\\2023_Week1_NYJ_vs_BUF\\home_starters.csv\n",
      "Saved DataFrame vis_starters to raw_data\\2023\\Week1\\2023_Week1_NYJ_vs_BUF\\vis_starters.csv\n",
      "Saved DataFrame home_snap_counts to raw_data\\2023\\Week1\\2023_Week1_NYJ_vs_BUF\\home_snap_counts.csv\n",
      "Saved DataFrame vis_snap_counts to raw_data\\2023\\Week1\\2023_Week1_NYJ_vs_BUF\\vis_snap_counts.csv\n",
      "Saved DataFrame home_drives to raw_data\\2023\\Week1\\2023_Week1_NYJ_vs_BUF\\home_drives.csv\n",
      "Saved DataFrame vis_drives to raw_data\\2023\\Week1\\2023_Week1_NYJ_vs_BUF\\vis_drives.csv\n",
      "Saved DataFrame pbp to raw_data\\2023\\Week1\\2023_Week1_NYJ_vs_BUF\\pbp.csv\n"
     ]
    },
    {
     "name": "stderr",
     "output_type": "stream",
     "text": [
      "C:\\Users\\jackj\\AppData\\Local\\Temp\\ipykernel_31996\\1469608065.py:49: MarkupResemblesLocatorWarning: The input looks more like a filename than markup. You may want to open this file and pass the filehandle into Beautiful Soup.\n",
      "  comment_soup = BeautifulSoup(comment, 'html.parser')\n"
     ]
    },
    {
     "name": "stdout",
     "output_type": "stream",
     "text": [
      "Saved DataFrame scoring to raw_data\\2023\\Week2\\2023_Week2_PHI_vs_MIN\\scoring.csv\n",
      "Saved DataFrame player_offense to raw_data\\2023\\Week2\\2023_Week2_PHI_vs_MIN\\player_offense.csv\n",
      "Saved DataFrame game_info to raw_data\\2023\\Week2\\2023_Week2_PHI_vs_MIN\\game_info.csv\n",
      "Saved DataFrame officials to raw_data\\2023\\Week2\\2023_Week2_PHI_vs_MIN\\officials.csv\n",
      "Saved DataFrame expected_points to raw_data\\2023\\Week2\\2023_Week2_PHI_vs_MIN\\expected_points.csv\n",
      "Saved DataFrame team_stats to raw_data\\2023\\Week2\\2023_Week2_PHI_vs_MIN\\team_stats.csv\n",
      "Saved DataFrame player_defense to raw_data\\2023\\Week2\\2023_Week2_PHI_vs_MIN\\player_defense.csv\n",
      "Saved DataFrame returns to raw_data\\2023\\Week2\\2023_Week2_PHI_vs_MIN\\returns.csv\n",
      "Saved DataFrame kicking to raw_data\\2023\\Week2\\2023_Week2_PHI_vs_MIN\\kicking.csv\n",
      "Saved DataFrame passing_advanced to raw_data\\2023\\Week2\\2023_Week2_PHI_vs_MIN\\passing_advanced.csv\n",
      "Saved DataFrame rushing_advanced to raw_data\\2023\\Week2\\2023_Week2_PHI_vs_MIN\\rushing_advanced.csv\n",
      "Saved DataFrame receiving_advanced to raw_data\\2023\\Week2\\2023_Week2_PHI_vs_MIN\\receiving_advanced.csv\n",
      "Saved DataFrame defense_advanced to raw_data\\2023\\Week2\\2023_Week2_PHI_vs_MIN\\defense_advanced.csv\n",
      "Saved DataFrame home_starters to raw_data\\2023\\Week2\\2023_Week2_PHI_vs_MIN\\home_starters.csv\n",
      "Saved DataFrame vis_starters to raw_data\\2023\\Week2\\2023_Week2_PHI_vs_MIN\\vis_starters.csv\n",
      "Saved DataFrame home_snap_counts to raw_data\\2023\\Week2\\2023_Week2_PHI_vs_MIN\\home_snap_counts.csv\n",
      "Saved DataFrame vis_snap_counts to raw_data\\2023\\Week2\\2023_Week2_PHI_vs_MIN\\vis_snap_counts.csv\n",
      "Saved DataFrame home_drives to raw_data\\2023\\Week2\\2023_Week2_PHI_vs_MIN\\home_drives.csv\n",
      "Saved DataFrame vis_drives to raw_data\\2023\\Week2\\2023_Week2_PHI_vs_MIN\\vis_drives.csv\n",
      "Saved DataFrame pbp to raw_data\\2023\\Week2\\2023_Week2_PHI_vs_MIN\\pbp.csv\n"
     ]
    },
    {
     "name": "stderr",
     "output_type": "stream",
     "text": [
      "C:\\Users\\jackj\\AppData\\Local\\Temp\\ipykernel_31996\\1469608065.py:49: MarkupResemblesLocatorWarning: The input looks more like a filename than markup. You may want to open this file and pass the filehandle into Beautiful Soup.\n",
      "  comment_soup = BeautifulSoup(comment, 'html.parser')\n"
     ]
    },
    {
     "name": "stdout",
     "output_type": "stream",
     "text": [
      "Saved DataFrame scoring to raw_data\\2023\\Week2\\2023_Week2_ATL_vs_GB\\scoring.csv\n",
      "Saved DataFrame player_offense to raw_data\\2023\\Week2\\2023_Week2_ATL_vs_GB\\player_offense.csv\n",
      "Saved DataFrame game_info to raw_data\\2023\\Week2\\2023_Week2_ATL_vs_GB\\game_info.csv\n",
      "Saved DataFrame officials to raw_data\\2023\\Week2\\2023_Week2_ATL_vs_GB\\officials.csv\n",
      "Saved DataFrame expected_points to raw_data\\2023\\Week2\\2023_Week2_ATL_vs_GB\\expected_points.csv\n",
      "Saved DataFrame team_stats to raw_data\\2023\\Week2\\2023_Week2_ATL_vs_GB\\team_stats.csv\n",
      "Saved DataFrame player_defense to raw_data\\2023\\Week2\\2023_Week2_ATL_vs_GB\\player_defense.csv\n",
      "Saved DataFrame returns to raw_data\\2023\\Week2\\2023_Week2_ATL_vs_GB\\returns.csv\n",
      "Saved DataFrame kicking to raw_data\\2023\\Week2\\2023_Week2_ATL_vs_GB\\kicking.csv\n",
      "Saved DataFrame passing_advanced to raw_data\\2023\\Week2\\2023_Week2_ATL_vs_GB\\passing_advanced.csv\n",
      "Saved DataFrame rushing_advanced to raw_data\\2023\\Week2\\2023_Week2_ATL_vs_GB\\rushing_advanced.csv\n",
      "Saved DataFrame receiving_advanced to raw_data\\2023\\Week2\\2023_Week2_ATL_vs_GB\\receiving_advanced.csv\n",
      "Saved DataFrame defense_advanced to raw_data\\2023\\Week2\\2023_Week2_ATL_vs_GB\\defense_advanced.csv\n",
      "Saved DataFrame home_starters to raw_data\\2023\\Week2\\2023_Week2_ATL_vs_GB\\home_starters.csv\n",
      "Saved DataFrame vis_starters to raw_data\\2023\\Week2\\2023_Week2_ATL_vs_GB\\vis_starters.csv\n",
      "Saved DataFrame home_snap_counts to raw_data\\2023\\Week2\\2023_Week2_ATL_vs_GB\\home_snap_counts.csv\n",
      "Saved DataFrame vis_snap_counts to raw_data\\2023\\Week2\\2023_Week2_ATL_vs_GB\\vis_snap_counts.csv\n",
      "Saved DataFrame home_drives to raw_data\\2023\\Week2\\2023_Week2_ATL_vs_GB\\home_drives.csv\n",
      "Saved DataFrame vis_drives to raw_data\\2023\\Week2\\2023_Week2_ATL_vs_GB\\vis_drives.csv\n",
      "Saved DataFrame pbp to raw_data\\2023\\Week2\\2023_Week2_ATL_vs_GB\\pbp.csv\n"
     ]
    },
    {
     "name": "stderr",
     "output_type": "stream",
     "text": [
      "C:\\Users\\jackj\\AppData\\Local\\Temp\\ipykernel_31996\\1469608065.py:49: MarkupResemblesLocatorWarning: The input looks more like a filename than markup. You may want to open this file and pass the filehandle into Beautiful Soup.\n",
      "  comment_soup = BeautifulSoup(comment, 'html.parser')\n"
     ]
    },
    {
     "name": "stdout",
     "output_type": "stream",
     "text": [
      "Saved DataFrame scoring to raw_data\\2023\\Week2\\2023_Week2_BUF_vs_LVR\\scoring.csv\n",
      "Saved DataFrame player_offense to raw_data\\2023\\Week2\\2023_Week2_BUF_vs_LVR\\player_offense.csv\n",
      "Saved DataFrame game_info to raw_data\\2023\\Week2\\2023_Week2_BUF_vs_LVR\\game_info.csv\n",
      "Saved DataFrame officials to raw_data\\2023\\Week2\\2023_Week2_BUF_vs_LVR\\officials.csv\n",
      "Saved DataFrame expected_points to raw_data\\2023\\Week2\\2023_Week2_BUF_vs_LVR\\expected_points.csv\n",
      "Saved DataFrame team_stats to raw_data\\2023\\Week2\\2023_Week2_BUF_vs_LVR\\team_stats.csv\n",
      "Saved DataFrame player_defense to raw_data\\2023\\Week2\\2023_Week2_BUF_vs_LVR\\player_defense.csv\n",
      "Saved DataFrame returns to raw_data\\2023\\Week2\\2023_Week2_BUF_vs_LVR\\returns.csv\n",
      "Saved DataFrame kicking to raw_data\\2023\\Week2\\2023_Week2_BUF_vs_LVR\\kicking.csv\n",
      "Saved DataFrame passing_advanced to raw_data\\2023\\Week2\\2023_Week2_BUF_vs_LVR\\passing_advanced.csv\n",
      "Saved DataFrame rushing_advanced to raw_data\\2023\\Week2\\2023_Week2_BUF_vs_LVR\\rushing_advanced.csv\n",
      "Saved DataFrame receiving_advanced to raw_data\\2023\\Week2\\2023_Week2_BUF_vs_LVR\\receiving_advanced.csv\n",
      "Saved DataFrame defense_advanced to raw_data\\2023\\Week2\\2023_Week2_BUF_vs_LVR\\defense_advanced.csv\n",
      "Saved DataFrame home_starters to raw_data\\2023\\Week2\\2023_Week2_BUF_vs_LVR\\home_starters.csv\n",
      "Saved DataFrame vis_starters to raw_data\\2023\\Week2\\2023_Week2_BUF_vs_LVR\\vis_starters.csv\n",
      "Saved DataFrame home_snap_counts to raw_data\\2023\\Week2\\2023_Week2_BUF_vs_LVR\\home_snap_counts.csv\n",
      "Saved DataFrame vis_snap_counts to raw_data\\2023\\Week2\\2023_Week2_BUF_vs_LVR\\vis_snap_counts.csv\n",
      "Saved DataFrame home_drives to raw_data\\2023\\Week2\\2023_Week2_BUF_vs_LVR\\home_drives.csv\n",
      "Saved DataFrame vis_drives to raw_data\\2023\\Week2\\2023_Week2_BUF_vs_LVR\\vis_drives.csv\n",
      "Saved DataFrame pbp to raw_data\\2023\\Week2\\2023_Week2_BUF_vs_LVR\\pbp.csv\n",
      "Reached 20 requests, sleeping for 60 seconds...\n"
     ]
    },
    {
     "name": "stderr",
     "output_type": "stream",
     "text": [
      "C:\\Users\\jackj\\AppData\\Local\\Temp\\ipykernel_31996\\1469608065.py:49: MarkupResemblesLocatorWarning: The input looks more like a filename than markup. You may want to open this file and pass the filehandle into Beautiful Soup.\n",
      "  comment_soup = BeautifulSoup(comment, 'html.parser')\n"
     ]
    },
    {
     "name": "stdout",
     "output_type": "stream",
     "text": [
      "Saved DataFrame scoring to raw_data\\2023\\Week2\\2023_Week2_TB_vs_CHI\\scoring.csv\n",
      "Saved DataFrame player_offense to raw_data\\2023\\Week2\\2023_Week2_TB_vs_CHI\\player_offense.csv\n",
      "Saved DataFrame game_info to raw_data\\2023\\Week2\\2023_Week2_TB_vs_CHI\\game_info.csv\n",
      "Saved DataFrame officials to raw_data\\2023\\Week2\\2023_Week2_TB_vs_CHI\\officials.csv\n",
      "Saved DataFrame expected_points to raw_data\\2023\\Week2\\2023_Week2_TB_vs_CHI\\expected_points.csv\n",
      "Saved DataFrame team_stats to raw_data\\2023\\Week2\\2023_Week2_TB_vs_CHI\\team_stats.csv\n",
      "Saved DataFrame player_defense to raw_data\\2023\\Week2\\2023_Week2_TB_vs_CHI\\player_defense.csv\n",
      "Saved DataFrame returns to raw_data\\2023\\Week2\\2023_Week2_TB_vs_CHI\\returns.csv\n",
      "Saved DataFrame kicking to raw_data\\2023\\Week2\\2023_Week2_TB_vs_CHI\\kicking.csv\n",
      "Saved DataFrame passing_advanced to raw_data\\2023\\Week2\\2023_Week2_TB_vs_CHI\\passing_advanced.csv\n",
      "Saved DataFrame rushing_advanced to raw_data\\2023\\Week2\\2023_Week2_TB_vs_CHI\\rushing_advanced.csv\n",
      "Saved DataFrame receiving_advanced to raw_data\\2023\\Week2\\2023_Week2_TB_vs_CHI\\receiving_advanced.csv\n",
      "Saved DataFrame defense_advanced to raw_data\\2023\\Week2\\2023_Week2_TB_vs_CHI\\defense_advanced.csv\n",
      "Saved DataFrame home_starters to raw_data\\2023\\Week2\\2023_Week2_TB_vs_CHI\\home_starters.csv\n",
      "Saved DataFrame vis_starters to raw_data\\2023\\Week2\\2023_Week2_TB_vs_CHI\\vis_starters.csv\n",
      "Saved DataFrame home_snap_counts to raw_data\\2023\\Week2\\2023_Week2_TB_vs_CHI\\home_snap_counts.csv\n",
      "Saved DataFrame vis_snap_counts to raw_data\\2023\\Week2\\2023_Week2_TB_vs_CHI\\vis_snap_counts.csv\n",
      "Saved DataFrame home_drives to raw_data\\2023\\Week2\\2023_Week2_TB_vs_CHI\\home_drives.csv\n",
      "Saved DataFrame vis_drives to raw_data\\2023\\Week2\\2023_Week2_TB_vs_CHI\\vis_drives.csv\n",
      "Saved DataFrame pbp to raw_data\\2023\\Week2\\2023_Week2_TB_vs_CHI\\pbp.csv\n"
     ]
    },
    {
     "name": "stderr",
     "output_type": "stream",
     "text": [
      "C:\\Users\\jackj\\AppData\\Local\\Temp\\ipykernel_31996\\1469608065.py:49: MarkupResemblesLocatorWarning: The input looks more like a filename than markup. You may want to open this file and pass the filehandle into Beautiful Soup.\n",
      "  comment_soup = BeautifulSoup(comment, 'html.parser')\n"
     ]
    },
    {
     "name": "stdout",
     "output_type": "stream",
     "text": [
      "Saved DataFrame scoring to raw_data\\2023\\Week2\\2023_Week2_CIN_vs_BAL\\scoring.csv\n",
      "Saved DataFrame player_offense to raw_data\\2023\\Week2\\2023_Week2_CIN_vs_BAL\\player_offense.csv\n",
      "Saved DataFrame game_info to raw_data\\2023\\Week2\\2023_Week2_CIN_vs_BAL\\game_info.csv\n",
      "Saved DataFrame officials to raw_data\\2023\\Week2\\2023_Week2_CIN_vs_BAL\\officials.csv\n",
      "Saved DataFrame expected_points to raw_data\\2023\\Week2\\2023_Week2_CIN_vs_BAL\\expected_points.csv\n",
      "Saved DataFrame team_stats to raw_data\\2023\\Week2\\2023_Week2_CIN_vs_BAL\\team_stats.csv\n",
      "Saved DataFrame player_defense to raw_data\\2023\\Week2\\2023_Week2_CIN_vs_BAL\\player_defense.csv\n",
      "Saved DataFrame returns to raw_data\\2023\\Week2\\2023_Week2_CIN_vs_BAL\\returns.csv\n",
      "Saved DataFrame kicking to raw_data\\2023\\Week2\\2023_Week2_CIN_vs_BAL\\kicking.csv\n",
      "Saved DataFrame passing_advanced to raw_data\\2023\\Week2\\2023_Week2_CIN_vs_BAL\\passing_advanced.csv\n",
      "Saved DataFrame rushing_advanced to raw_data\\2023\\Week2\\2023_Week2_CIN_vs_BAL\\rushing_advanced.csv\n",
      "Saved DataFrame receiving_advanced to raw_data\\2023\\Week2\\2023_Week2_CIN_vs_BAL\\receiving_advanced.csv\n",
      "Saved DataFrame defense_advanced to raw_data\\2023\\Week2\\2023_Week2_CIN_vs_BAL\\defense_advanced.csv\n",
      "Saved DataFrame home_starters to raw_data\\2023\\Week2\\2023_Week2_CIN_vs_BAL\\home_starters.csv\n",
      "Saved DataFrame vis_starters to raw_data\\2023\\Week2\\2023_Week2_CIN_vs_BAL\\vis_starters.csv\n",
      "Saved DataFrame home_snap_counts to raw_data\\2023\\Week2\\2023_Week2_CIN_vs_BAL\\home_snap_counts.csv\n",
      "Saved DataFrame vis_snap_counts to raw_data\\2023\\Week2\\2023_Week2_CIN_vs_BAL\\vis_snap_counts.csv\n",
      "Saved DataFrame home_drives to raw_data\\2023\\Week2\\2023_Week2_CIN_vs_BAL\\home_drives.csv\n",
      "Saved DataFrame vis_drives to raw_data\\2023\\Week2\\2023_Week2_CIN_vs_BAL\\vis_drives.csv\n",
      "Saved DataFrame pbp to raw_data\\2023\\Week2\\2023_Week2_CIN_vs_BAL\\pbp.csv\n"
     ]
    },
    {
     "name": "stderr",
     "output_type": "stream",
     "text": [
      "C:\\Users\\jackj\\AppData\\Local\\Temp\\ipykernel_31996\\1469608065.py:49: MarkupResemblesLocatorWarning: The input looks more like a filename than markup. You may want to open this file and pass the filehandle into Beautiful Soup.\n",
      "  comment_soup = BeautifulSoup(comment, 'html.parser')\n"
     ]
    },
    {
     "name": "stdout",
     "output_type": "stream",
     "text": [
      "Saved DataFrame scoring to raw_data\\2023\\Week2\\2023_Week2_HOU_vs_IND\\scoring.csv\n",
      "Saved DataFrame player_offense to raw_data\\2023\\Week2\\2023_Week2_HOU_vs_IND\\player_offense.csv\n",
      "Saved DataFrame game_info to raw_data\\2023\\Week2\\2023_Week2_HOU_vs_IND\\game_info.csv\n",
      "Saved DataFrame officials to raw_data\\2023\\Week2\\2023_Week2_HOU_vs_IND\\officials.csv\n",
      "Saved DataFrame expected_points to raw_data\\2023\\Week2\\2023_Week2_HOU_vs_IND\\expected_points.csv\n",
      "Saved DataFrame team_stats to raw_data\\2023\\Week2\\2023_Week2_HOU_vs_IND\\team_stats.csv\n",
      "Saved DataFrame player_defense to raw_data\\2023\\Week2\\2023_Week2_HOU_vs_IND\\player_defense.csv\n",
      "Saved DataFrame returns to raw_data\\2023\\Week2\\2023_Week2_HOU_vs_IND\\returns.csv\n",
      "Saved DataFrame kicking to raw_data\\2023\\Week2\\2023_Week2_HOU_vs_IND\\kicking.csv\n",
      "Saved DataFrame passing_advanced to raw_data\\2023\\Week2\\2023_Week2_HOU_vs_IND\\passing_advanced.csv\n",
      "Saved DataFrame rushing_advanced to raw_data\\2023\\Week2\\2023_Week2_HOU_vs_IND\\rushing_advanced.csv\n",
      "Saved DataFrame receiving_advanced to raw_data\\2023\\Week2\\2023_Week2_HOU_vs_IND\\receiving_advanced.csv\n",
      "Saved DataFrame defense_advanced to raw_data\\2023\\Week2\\2023_Week2_HOU_vs_IND\\defense_advanced.csv\n",
      "Saved DataFrame home_starters to raw_data\\2023\\Week2\\2023_Week2_HOU_vs_IND\\home_starters.csv\n",
      "Saved DataFrame vis_starters to raw_data\\2023\\Week2\\2023_Week2_HOU_vs_IND\\vis_starters.csv\n",
      "Saved DataFrame home_snap_counts to raw_data\\2023\\Week2\\2023_Week2_HOU_vs_IND\\home_snap_counts.csv\n",
      "Saved DataFrame vis_snap_counts to raw_data\\2023\\Week2\\2023_Week2_HOU_vs_IND\\vis_snap_counts.csv\n",
      "Saved DataFrame home_drives to raw_data\\2023\\Week2\\2023_Week2_HOU_vs_IND\\home_drives.csv\n",
      "Saved DataFrame vis_drives to raw_data\\2023\\Week2\\2023_Week2_HOU_vs_IND\\vis_drives.csv\n",
      "Saved DataFrame pbp to raw_data\\2023\\Week2\\2023_Week2_HOU_vs_IND\\pbp.csv\n"
     ]
    },
    {
     "name": "stderr",
     "output_type": "stream",
     "text": [
      "C:\\Users\\jackj\\AppData\\Local\\Temp\\ipykernel_31996\\1469608065.py:49: MarkupResemblesLocatorWarning: The input looks more like a filename than markup. You may want to open this file and pass the filehandle into Beautiful Soup.\n",
      "  comment_soup = BeautifulSoup(comment, 'html.parser')\n"
     ]
    },
    {
     "name": "stdout",
     "output_type": "stream",
     "text": [
      "Saved DataFrame scoring to raw_data\\2023\\Week2\\2023_Week2_DET_vs_SEA\\scoring.csv\n",
      "Saved DataFrame player_offense to raw_data\\2023\\Week2\\2023_Week2_DET_vs_SEA\\player_offense.csv\n",
      "Saved DataFrame game_info to raw_data\\2023\\Week2\\2023_Week2_DET_vs_SEA\\game_info.csv\n",
      "Saved DataFrame officials to raw_data\\2023\\Week2\\2023_Week2_DET_vs_SEA\\officials.csv\n",
      "Saved DataFrame expected_points to raw_data\\2023\\Week2\\2023_Week2_DET_vs_SEA\\expected_points.csv\n",
      "Saved DataFrame team_stats to raw_data\\2023\\Week2\\2023_Week2_DET_vs_SEA\\team_stats.csv\n",
      "Saved DataFrame player_defense to raw_data\\2023\\Week2\\2023_Week2_DET_vs_SEA\\player_defense.csv\n",
      "Saved DataFrame returns to raw_data\\2023\\Week2\\2023_Week2_DET_vs_SEA\\returns.csv\n",
      "Saved DataFrame kicking to raw_data\\2023\\Week2\\2023_Week2_DET_vs_SEA\\kicking.csv\n",
      "Saved DataFrame passing_advanced to raw_data\\2023\\Week2\\2023_Week2_DET_vs_SEA\\passing_advanced.csv\n",
      "Saved DataFrame rushing_advanced to raw_data\\2023\\Week2\\2023_Week2_DET_vs_SEA\\rushing_advanced.csv\n",
      "Saved DataFrame receiving_advanced to raw_data\\2023\\Week2\\2023_Week2_DET_vs_SEA\\receiving_advanced.csv\n",
      "Saved DataFrame defense_advanced to raw_data\\2023\\Week2\\2023_Week2_DET_vs_SEA\\defense_advanced.csv\n",
      "Saved DataFrame home_starters to raw_data\\2023\\Week2\\2023_Week2_DET_vs_SEA\\home_starters.csv\n",
      "Saved DataFrame vis_starters to raw_data\\2023\\Week2\\2023_Week2_DET_vs_SEA\\vis_starters.csv\n",
      "Saved DataFrame home_snap_counts to raw_data\\2023\\Week2\\2023_Week2_DET_vs_SEA\\home_snap_counts.csv\n",
      "Saved DataFrame vis_snap_counts to raw_data\\2023\\Week2\\2023_Week2_DET_vs_SEA\\vis_snap_counts.csv\n",
      "Saved DataFrame home_drives to raw_data\\2023\\Week2\\2023_Week2_DET_vs_SEA\\home_drives.csv\n",
      "Saved DataFrame vis_drives to raw_data\\2023\\Week2\\2023_Week2_DET_vs_SEA\\vis_drives.csv\n",
      "Saved DataFrame pbp to raw_data\\2023\\Week2\\2023_Week2_DET_vs_SEA\\pbp.csv\n"
     ]
    },
    {
     "name": "stderr",
     "output_type": "stream",
     "text": [
      "C:\\Users\\jackj\\AppData\\Local\\Temp\\ipykernel_31996\\1469608065.py:49: MarkupResemblesLocatorWarning: The input looks more like a filename than markup. You may want to open this file and pass the filehandle into Beautiful Soup.\n",
      "  comment_soup = BeautifulSoup(comment, 'html.parser')\n"
     ]
    },
    {
     "name": "stdout",
     "output_type": "stream",
     "text": [
      "Saved DataFrame scoring to raw_data\\2023\\Week2\\2023_Week2_JAX_vs_KC\\scoring.csv\n",
      "Saved DataFrame player_offense to raw_data\\2023\\Week2\\2023_Week2_JAX_vs_KC\\player_offense.csv\n",
      "Saved DataFrame game_info to raw_data\\2023\\Week2\\2023_Week2_JAX_vs_KC\\game_info.csv\n",
      "Saved DataFrame officials to raw_data\\2023\\Week2\\2023_Week2_JAX_vs_KC\\officials.csv\n",
      "Saved DataFrame expected_points to raw_data\\2023\\Week2\\2023_Week2_JAX_vs_KC\\expected_points.csv\n",
      "Saved DataFrame team_stats to raw_data\\2023\\Week2\\2023_Week2_JAX_vs_KC\\team_stats.csv\n",
      "Saved DataFrame player_defense to raw_data\\2023\\Week2\\2023_Week2_JAX_vs_KC\\player_defense.csv\n",
      "Saved DataFrame returns to raw_data\\2023\\Week2\\2023_Week2_JAX_vs_KC\\returns.csv\n",
      "Saved DataFrame kicking to raw_data\\2023\\Week2\\2023_Week2_JAX_vs_KC\\kicking.csv\n",
      "Saved DataFrame passing_advanced to raw_data\\2023\\Week2\\2023_Week2_JAX_vs_KC\\passing_advanced.csv\n",
      "Saved DataFrame rushing_advanced to raw_data\\2023\\Week2\\2023_Week2_JAX_vs_KC\\rushing_advanced.csv\n",
      "Saved DataFrame receiving_advanced to raw_data\\2023\\Week2\\2023_Week2_JAX_vs_KC\\receiving_advanced.csv\n",
      "Saved DataFrame defense_advanced to raw_data\\2023\\Week2\\2023_Week2_JAX_vs_KC\\defense_advanced.csv\n",
      "Saved DataFrame home_starters to raw_data\\2023\\Week2\\2023_Week2_JAX_vs_KC\\home_starters.csv\n",
      "Saved DataFrame vis_starters to raw_data\\2023\\Week2\\2023_Week2_JAX_vs_KC\\vis_starters.csv\n",
      "Saved DataFrame home_snap_counts to raw_data\\2023\\Week2\\2023_Week2_JAX_vs_KC\\home_snap_counts.csv\n",
      "Saved DataFrame vis_snap_counts to raw_data\\2023\\Week2\\2023_Week2_JAX_vs_KC\\vis_snap_counts.csv\n",
      "Saved DataFrame home_drives to raw_data\\2023\\Week2\\2023_Week2_JAX_vs_KC\\home_drives.csv\n",
      "Saved DataFrame vis_drives to raw_data\\2023\\Week2\\2023_Week2_JAX_vs_KC\\vis_drives.csv\n",
      "Saved DataFrame pbp to raw_data\\2023\\Week2\\2023_Week2_JAX_vs_KC\\pbp.csv\n"
     ]
    },
    {
     "name": "stderr",
     "output_type": "stream",
     "text": [
      "C:\\Users\\jackj\\AppData\\Local\\Temp\\ipykernel_31996\\1469608065.py:49: MarkupResemblesLocatorWarning: The input looks more like a filename than markup. You may want to open this file and pass the filehandle into Beautiful Soup.\n",
      "  comment_soup = BeautifulSoup(comment, 'html.parser')\n"
     ]
    },
    {
     "name": "stdout",
     "output_type": "stream",
     "text": [
      "Saved DataFrame scoring to raw_data\\2023\\Week2\\2023_Week2_TEN_vs_LAC\\scoring.csv\n",
      "Saved DataFrame player_offense to raw_data\\2023\\Week2\\2023_Week2_TEN_vs_LAC\\player_offense.csv\n",
      "Saved DataFrame game_info to raw_data\\2023\\Week2\\2023_Week2_TEN_vs_LAC\\game_info.csv\n",
      "Saved DataFrame officials to raw_data\\2023\\Week2\\2023_Week2_TEN_vs_LAC\\officials.csv\n",
      "Saved DataFrame expected_points to raw_data\\2023\\Week2\\2023_Week2_TEN_vs_LAC\\expected_points.csv\n",
      "Saved DataFrame team_stats to raw_data\\2023\\Week2\\2023_Week2_TEN_vs_LAC\\team_stats.csv\n",
      "Saved DataFrame player_defense to raw_data\\2023\\Week2\\2023_Week2_TEN_vs_LAC\\player_defense.csv\n",
      "Saved DataFrame returns to raw_data\\2023\\Week2\\2023_Week2_TEN_vs_LAC\\returns.csv\n",
      "Saved DataFrame kicking to raw_data\\2023\\Week2\\2023_Week2_TEN_vs_LAC\\kicking.csv\n",
      "Saved DataFrame passing_advanced to raw_data\\2023\\Week2\\2023_Week2_TEN_vs_LAC\\passing_advanced.csv\n",
      "Saved DataFrame rushing_advanced to raw_data\\2023\\Week2\\2023_Week2_TEN_vs_LAC\\rushing_advanced.csv\n",
      "Saved DataFrame receiving_advanced to raw_data\\2023\\Week2\\2023_Week2_TEN_vs_LAC\\receiving_advanced.csv\n",
      "Saved DataFrame defense_advanced to raw_data\\2023\\Week2\\2023_Week2_TEN_vs_LAC\\defense_advanced.csv\n",
      "Saved DataFrame home_starters to raw_data\\2023\\Week2\\2023_Week2_TEN_vs_LAC\\home_starters.csv\n",
      "Saved DataFrame vis_starters to raw_data\\2023\\Week2\\2023_Week2_TEN_vs_LAC\\vis_starters.csv\n",
      "Saved DataFrame home_snap_counts to raw_data\\2023\\Week2\\2023_Week2_TEN_vs_LAC\\home_snap_counts.csv\n",
      "Saved DataFrame vis_snap_counts to raw_data\\2023\\Week2\\2023_Week2_TEN_vs_LAC\\vis_snap_counts.csv\n",
      "Saved DataFrame home_drives to raw_data\\2023\\Week2\\2023_Week2_TEN_vs_LAC\\home_drives.csv\n",
      "Saved DataFrame vis_drives to raw_data\\2023\\Week2\\2023_Week2_TEN_vs_LAC\\vis_drives.csv\n",
      "Saved DataFrame pbp to raw_data\\2023\\Week2\\2023_Week2_TEN_vs_LAC\\pbp.csv\n"
     ]
    },
    {
     "name": "stderr",
     "output_type": "stream",
     "text": [
      "C:\\Users\\jackj\\AppData\\Local\\Temp\\ipykernel_31996\\1469608065.py:49: MarkupResemblesLocatorWarning: The input looks more like a filename than markup. You may want to open this file and pass the filehandle into Beautiful Soup.\n",
      "  comment_soup = BeautifulSoup(comment, 'html.parser')\n"
     ]
    },
    {
     "name": "stdout",
     "output_type": "stream",
     "text": [
      "Saved DataFrame scoring to raw_data\\2023\\Week2\\2023_Week2_ARI_vs_NYG\\scoring.csv\n",
      "Saved DataFrame player_offense to raw_data\\2023\\Week2\\2023_Week2_ARI_vs_NYG\\player_offense.csv\n",
      "Saved DataFrame game_info to raw_data\\2023\\Week2\\2023_Week2_ARI_vs_NYG\\game_info.csv\n",
      "Saved DataFrame officials to raw_data\\2023\\Week2\\2023_Week2_ARI_vs_NYG\\officials.csv\n",
      "Saved DataFrame expected_points to raw_data\\2023\\Week2\\2023_Week2_ARI_vs_NYG\\expected_points.csv\n",
      "Saved DataFrame team_stats to raw_data\\2023\\Week2\\2023_Week2_ARI_vs_NYG\\team_stats.csv\n",
      "Saved DataFrame player_defense to raw_data\\2023\\Week2\\2023_Week2_ARI_vs_NYG\\player_defense.csv\n",
      "Saved DataFrame returns to raw_data\\2023\\Week2\\2023_Week2_ARI_vs_NYG\\returns.csv\n",
      "Saved DataFrame kicking to raw_data\\2023\\Week2\\2023_Week2_ARI_vs_NYG\\kicking.csv\n",
      "Saved DataFrame passing_advanced to raw_data\\2023\\Week2\\2023_Week2_ARI_vs_NYG\\passing_advanced.csv\n",
      "Saved DataFrame rushing_advanced to raw_data\\2023\\Week2\\2023_Week2_ARI_vs_NYG\\rushing_advanced.csv\n",
      "Saved DataFrame receiving_advanced to raw_data\\2023\\Week2\\2023_Week2_ARI_vs_NYG\\receiving_advanced.csv\n",
      "Saved DataFrame defense_advanced to raw_data\\2023\\Week2\\2023_Week2_ARI_vs_NYG\\defense_advanced.csv\n",
      "Saved DataFrame home_starters to raw_data\\2023\\Week2\\2023_Week2_ARI_vs_NYG\\home_starters.csv\n",
      "Saved DataFrame vis_starters to raw_data\\2023\\Week2\\2023_Week2_ARI_vs_NYG\\vis_starters.csv\n",
      "Saved DataFrame home_snap_counts to raw_data\\2023\\Week2\\2023_Week2_ARI_vs_NYG\\home_snap_counts.csv\n",
      "Saved DataFrame vis_snap_counts to raw_data\\2023\\Week2\\2023_Week2_ARI_vs_NYG\\vis_snap_counts.csv\n",
      "Saved DataFrame home_drives to raw_data\\2023\\Week2\\2023_Week2_ARI_vs_NYG\\home_drives.csv\n",
      "Saved DataFrame vis_drives to raw_data\\2023\\Week2\\2023_Week2_ARI_vs_NYG\\vis_drives.csv\n",
      "Saved DataFrame pbp to raw_data\\2023\\Week2\\2023_Week2_ARI_vs_NYG\\pbp.csv\n"
     ]
    },
    {
     "name": "stderr",
     "output_type": "stream",
     "text": [
      "C:\\Users\\jackj\\AppData\\Local\\Temp\\ipykernel_31996\\1469608065.py:49: MarkupResemblesLocatorWarning: The input looks more like a filename than markup. You may want to open this file and pass the filehandle into Beautiful Soup.\n",
      "  comment_soup = BeautifulSoup(comment, 'html.parser')\n"
     ]
    },
    {
     "name": "stdout",
     "output_type": "stream",
     "text": [
      "Saved DataFrame scoring to raw_data\\2023\\Week2\\2023_Week2_LAR_vs_SF\\scoring.csv\n",
      "Saved DataFrame player_offense to raw_data\\2023\\Week2\\2023_Week2_LAR_vs_SF\\player_offense.csv\n",
      "Saved DataFrame game_info to raw_data\\2023\\Week2\\2023_Week2_LAR_vs_SF\\game_info.csv\n",
      "Saved DataFrame officials to raw_data\\2023\\Week2\\2023_Week2_LAR_vs_SF\\officials.csv\n",
      "Saved DataFrame expected_points to raw_data\\2023\\Week2\\2023_Week2_LAR_vs_SF\\expected_points.csv\n",
      "Saved DataFrame team_stats to raw_data\\2023\\Week2\\2023_Week2_LAR_vs_SF\\team_stats.csv\n",
      "Saved DataFrame player_defense to raw_data\\2023\\Week2\\2023_Week2_LAR_vs_SF\\player_defense.csv\n",
      "Saved DataFrame returns to raw_data\\2023\\Week2\\2023_Week2_LAR_vs_SF\\returns.csv\n",
      "Saved DataFrame kicking to raw_data\\2023\\Week2\\2023_Week2_LAR_vs_SF\\kicking.csv\n",
      "Saved DataFrame passing_advanced to raw_data\\2023\\Week2\\2023_Week2_LAR_vs_SF\\passing_advanced.csv\n",
      "Saved DataFrame rushing_advanced to raw_data\\2023\\Week2\\2023_Week2_LAR_vs_SF\\rushing_advanced.csv\n",
      "Saved DataFrame receiving_advanced to raw_data\\2023\\Week2\\2023_Week2_LAR_vs_SF\\receiving_advanced.csv\n",
      "Saved DataFrame defense_advanced to raw_data\\2023\\Week2\\2023_Week2_LAR_vs_SF\\defense_advanced.csv\n",
      "Saved DataFrame home_starters to raw_data\\2023\\Week2\\2023_Week2_LAR_vs_SF\\home_starters.csv\n",
      "Saved DataFrame vis_starters to raw_data\\2023\\Week2\\2023_Week2_LAR_vs_SF\\vis_starters.csv\n",
      "Saved DataFrame home_snap_counts to raw_data\\2023\\Week2\\2023_Week2_LAR_vs_SF\\home_snap_counts.csv\n",
      "Saved DataFrame vis_snap_counts to raw_data\\2023\\Week2\\2023_Week2_LAR_vs_SF\\vis_snap_counts.csv\n",
      "Saved DataFrame home_drives to raw_data\\2023\\Week2\\2023_Week2_LAR_vs_SF\\home_drives.csv\n",
      "Saved DataFrame vis_drives to raw_data\\2023\\Week2\\2023_Week2_LAR_vs_SF\\vis_drives.csv\n",
      "Saved DataFrame pbp to raw_data\\2023\\Week2\\2023_Week2_LAR_vs_SF\\pbp.csv\n"
     ]
    },
    {
     "name": "stderr",
     "output_type": "stream",
     "text": [
      "C:\\Users\\jackj\\AppData\\Local\\Temp\\ipykernel_31996\\1469608065.py:49: MarkupResemblesLocatorWarning: The input looks more like a filename than markup. You may want to open this file and pass the filehandle into Beautiful Soup.\n",
      "  comment_soup = BeautifulSoup(comment, 'html.parser')\n"
     ]
    },
    {
     "name": "stdout",
     "output_type": "stream",
     "text": [
      "Saved DataFrame scoring to raw_data\\2023\\Week2\\2023_Week2_DAL_vs_NYJ\\scoring.csv\n",
      "Saved DataFrame player_offense to raw_data\\2023\\Week2\\2023_Week2_DAL_vs_NYJ\\player_offense.csv\n",
      "Saved DataFrame game_info to raw_data\\2023\\Week2\\2023_Week2_DAL_vs_NYJ\\game_info.csv\n",
      "Saved DataFrame officials to raw_data\\2023\\Week2\\2023_Week2_DAL_vs_NYJ\\officials.csv\n",
      "Saved DataFrame expected_points to raw_data\\2023\\Week2\\2023_Week2_DAL_vs_NYJ\\expected_points.csv\n",
      "Saved DataFrame team_stats to raw_data\\2023\\Week2\\2023_Week2_DAL_vs_NYJ\\team_stats.csv\n",
      "Saved DataFrame player_defense to raw_data\\2023\\Week2\\2023_Week2_DAL_vs_NYJ\\player_defense.csv\n",
      "Saved DataFrame returns to raw_data\\2023\\Week2\\2023_Week2_DAL_vs_NYJ\\returns.csv\n",
      "Saved DataFrame kicking to raw_data\\2023\\Week2\\2023_Week2_DAL_vs_NYJ\\kicking.csv\n",
      "Saved DataFrame passing_advanced to raw_data\\2023\\Week2\\2023_Week2_DAL_vs_NYJ\\passing_advanced.csv\n",
      "Saved DataFrame rushing_advanced to raw_data\\2023\\Week2\\2023_Week2_DAL_vs_NYJ\\rushing_advanced.csv\n",
      "Saved DataFrame receiving_advanced to raw_data\\2023\\Week2\\2023_Week2_DAL_vs_NYJ\\receiving_advanced.csv\n",
      "Saved DataFrame defense_advanced to raw_data\\2023\\Week2\\2023_Week2_DAL_vs_NYJ\\defense_advanced.csv\n",
      "Saved DataFrame home_starters to raw_data\\2023\\Week2\\2023_Week2_DAL_vs_NYJ\\home_starters.csv\n",
      "Saved DataFrame vis_starters to raw_data\\2023\\Week2\\2023_Week2_DAL_vs_NYJ\\vis_starters.csv\n",
      "Saved DataFrame home_snap_counts to raw_data\\2023\\Week2\\2023_Week2_DAL_vs_NYJ\\home_snap_counts.csv\n",
      "Saved DataFrame vis_snap_counts to raw_data\\2023\\Week2\\2023_Week2_DAL_vs_NYJ\\vis_snap_counts.csv\n",
      "Saved DataFrame home_drives to raw_data\\2023\\Week2\\2023_Week2_DAL_vs_NYJ\\home_drives.csv\n",
      "Saved DataFrame vis_drives to raw_data\\2023\\Week2\\2023_Week2_DAL_vs_NYJ\\vis_drives.csv\n",
      "Saved DataFrame pbp to raw_data\\2023\\Week2\\2023_Week2_DAL_vs_NYJ\\pbp.csv\n"
     ]
    },
    {
     "name": "stderr",
     "output_type": "stream",
     "text": [
      "C:\\Users\\jackj\\AppData\\Local\\Temp\\ipykernel_31996\\1469608065.py:49: MarkupResemblesLocatorWarning: The input looks more like a filename than markup. You may want to open this file and pass the filehandle into Beautiful Soup.\n",
      "  comment_soup = BeautifulSoup(comment, 'html.parser')\n"
     ]
    },
    {
     "name": "stdout",
     "output_type": "stream",
     "text": [
      "Saved DataFrame scoring to raw_data\\2023\\Week2\\2023_Week2_DEN_vs_WAS\\scoring.csv\n",
      "Saved DataFrame player_offense to raw_data\\2023\\Week2\\2023_Week2_DEN_vs_WAS\\player_offense.csv\n",
      "Saved DataFrame game_info to raw_data\\2023\\Week2\\2023_Week2_DEN_vs_WAS\\game_info.csv\n",
      "Saved DataFrame officials to raw_data\\2023\\Week2\\2023_Week2_DEN_vs_WAS\\officials.csv\n",
      "Saved DataFrame expected_points to raw_data\\2023\\Week2\\2023_Week2_DEN_vs_WAS\\expected_points.csv\n",
      "Saved DataFrame team_stats to raw_data\\2023\\Week2\\2023_Week2_DEN_vs_WAS\\team_stats.csv\n",
      "Saved DataFrame player_defense to raw_data\\2023\\Week2\\2023_Week2_DEN_vs_WAS\\player_defense.csv\n",
      "Saved DataFrame returns to raw_data\\2023\\Week2\\2023_Week2_DEN_vs_WAS\\returns.csv\n",
      "Saved DataFrame kicking to raw_data\\2023\\Week2\\2023_Week2_DEN_vs_WAS\\kicking.csv\n",
      "Saved DataFrame passing_advanced to raw_data\\2023\\Week2\\2023_Week2_DEN_vs_WAS\\passing_advanced.csv\n",
      "Saved DataFrame rushing_advanced to raw_data\\2023\\Week2\\2023_Week2_DEN_vs_WAS\\rushing_advanced.csv\n",
      "Saved DataFrame receiving_advanced to raw_data\\2023\\Week2\\2023_Week2_DEN_vs_WAS\\receiving_advanced.csv\n",
      "Saved DataFrame defense_advanced to raw_data\\2023\\Week2\\2023_Week2_DEN_vs_WAS\\defense_advanced.csv\n",
      "Saved DataFrame home_starters to raw_data\\2023\\Week2\\2023_Week2_DEN_vs_WAS\\home_starters.csv\n",
      "Saved DataFrame vis_starters to raw_data\\2023\\Week2\\2023_Week2_DEN_vs_WAS\\vis_starters.csv\n",
      "Saved DataFrame home_snap_counts to raw_data\\2023\\Week2\\2023_Week2_DEN_vs_WAS\\home_snap_counts.csv\n",
      "Saved DataFrame vis_snap_counts to raw_data\\2023\\Week2\\2023_Week2_DEN_vs_WAS\\vis_snap_counts.csv\n",
      "Saved DataFrame home_drives to raw_data\\2023\\Week2\\2023_Week2_DEN_vs_WAS\\home_drives.csv\n",
      "Saved DataFrame vis_drives to raw_data\\2023\\Week2\\2023_Week2_DEN_vs_WAS\\vis_drives.csv\n",
      "Saved DataFrame pbp to raw_data\\2023\\Week2\\2023_Week2_DEN_vs_WAS\\pbp.csv\n"
     ]
    },
    {
     "name": "stderr",
     "output_type": "stream",
     "text": [
      "C:\\Users\\jackj\\AppData\\Local\\Temp\\ipykernel_31996\\1469608065.py:49: MarkupResemblesLocatorWarning: The input looks more like a filename than markup. You may want to open this file and pass the filehandle into Beautiful Soup.\n",
      "  comment_soup = BeautifulSoup(comment, 'html.parser')\n"
     ]
    },
    {
     "name": "stdout",
     "output_type": "stream",
     "text": [
      "Saved DataFrame scoring to raw_data\\2023\\Week2\\2023_Week2_NE_vs_MIA\\scoring.csv\n",
      "Saved DataFrame player_offense to raw_data\\2023\\Week2\\2023_Week2_NE_vs_MIA\\player_offense.csv\n",
      "Saved DataFrame game_info to raw_data\\2023\\Week2\\2023_Week2_NE_vs_MIA\\game_info.csv\n",
      "Saved DataFrame officials to raw_data\\2023\\Week2\\2023_Week2_NE_vs_MIA\\officials.csv\n",
      "Saved DataFrame expected_points to raw_data\\2023\\Week2\\2023_Week2_NE_vs_MIA\\expected_points.csv\n",
      "Saved DataFrame team_stats to raw_data\\2023\\Week2\\2023_Week2_NE_vs_MIA\\team_stats.csv\n",
      "Saved DataFrame player_defense to raw_data\\2023\\Week2\\2023_Week2_NE_vs_MIA\\player_defense.csv\n",
      "Saved DataFrame returns to raw_data\\2023\\Week2\\2023_Week2_NE_vs_MIA\\returns.csv\n",
      "Saved DataFrame kicking to raw_data\\2023\\Week2\\2023_Week2_NE_vs_MIA\\kicking.csv\n",
      "Saved DataFrame passing_advanced to raw_data\\2023\\Week2\\2023_Week2_NE_vs_MIA\\passing_advanced.csv\n",
      "Saved DataFrame rushing_advanced to raw_data\\2023\\Week2\\2023_Week2_NE_vs_MIA\\rushing_advanced.csv\n",
      "Saved DataFrame receiving_advanced to raw_data\\2023\\Week2\\2023_Week2_NE_vs_MIA\\receiving_advanced.csv\n",
      "Saved DataFrame defense_advanced to raw_data\\2023\\Week2\\2023_Week2_NE_vs_MIA\\defense_advanced.csv\n",
      "Saved DataFrame home_starters to raw_data\\2023\\Week2\\2023_Week2_NE_vs_MIA\\home_starters.csv\n",
      "Saved DataFrame vis_starters to raw_data\\2023\\Week2\\2023_Week2_NE_vs_MIA\\vis_starters.csv\n",
      "Saved DataFrame home_snap_counts to raw_data\\2023\\Week2\\2023_Week2_NE_vs_MIA\\home_snap_counts.csv\n",
      "Saved DataFrame vis_snap_counts to raw_data\\2023\\Week2\\2023_Week2_NE_vs_MIA\\vis_snap_counts.csv\n",
      "Saved DataFrame home_drives to raw_data\\2023\\Week2\\2023_Week2_NE_vs_MIA\\home_drives.csv\n",
      "Saved DataFrame vis_drives to raw_data\\2023\\Week2\\2023_Week2_NE_vs_MIA\\vis_drives.csv\n",
      "Saved DataFrame pbp to raw_data\\2023\\Week2\\2023_Week2_NE_vs_MIA\\pbp.csv\n"
     ]
    },
    {
     "name": "stderr",
     "output_type": "stream",
     "text": [
      "C:\\Users\\jackj\\AppData\\Local\\Temp\\ipykernel_31996\\1469608065.py:49: MarkupResemblesLocatorWarning: The input looks more like a filename than markup. You may want to open this file and pass the filehandle into Beautiful Soup.\n",
      "  comment_soup = BeautifulSoup(comment, 'html.parser')\n"
     ]
    },
    {
     "name": "stdout",
     "output_type": "stream",
     "text": [
      "Saved DataFrame scoring to raw_data\\2023\\Week2\\2023_Week2_CAR_vs_NO\\scoring.csv\n",
      "Saved DataFrame player_offense to raw_data\\2023\\Week2\\2023_Week2_CAR_vs_NO\\player_offense.csv\n",
      "Saved DataFrame game_info to raw_data\\2023\\Week2\\2023_Week2_CAR_vs_NO\\game_info.csv\n",
      "Saved DataFrame officials to raw_data\\2023\\Week2\\2023_Week2_CAR_vs_NO\\officials.csv\n",
      "Saved DataFrame expected_points to raw_data\\2023\\Week2\\2023_Week2_CAR_vs_NO\\expected_points.csv\n",
      "Saved DataFrame team_stats to raw_data\\2023\\Week2\\2023_Week2_CAR_vs_NO\\team_stats.csv\n",
      "Saved DataFrame player_defense to raw_data\\2023\\Week2\\2023_Week2_CAR_vs_NO\\player_defense.csv\n",
      "Saved DataFrame returns to raw_data\\2023\\Week2\\2023_Week2_CAR_vs_NO\\returns.csv\n",
      "Saved DataFrame kicking to raw_data\\2023\\Week2\\2023_Week2_CAR_vs_NO\\kicking.csv\n",
      "Saved DataFrame passing_advanced to raw_data\\2023\\Week2\\2023_Week2_CAR_vs_NO\\passing_advanced.csv\n",
      "Saved DataFrame rushing_advanced to raw_data\\2023\\Week2\\2023_Week2_CAR_vs_NO\\rushing_advanced.csv\n",
      "Saved DataFrame receiving_advanced to raw_data\\2023\\Week2\\2023_Week2_CAR_vs_NO\\receiving_advanced.csv\n",
      "Saved DataFrame defense_advanced to raw_data\\2023\\Week2\\2023_Week2_CAR_vs_NO\\defense_advanced.csv\n",
      "Saved DataFrame home_starters to raw_data\\2023\\Week2\\2023_Week2_CAR_vs_NO\\home_starters.csv\n",
      "Saved DataFrame vis_starters to raw_data\\2023\\Week2\\2023_Week2_CAR_vs_NO\\vis_starters.csv\n",
      "Saved DataFrame home_snap_counts to raw_data\\2023\\Week2\\2023_Week2_CAR_vs_NO\\home_snap_counts.csv\n",
      "Saved DataFrame vis_snap_counts to raw_data\\2023\\Week2\\2023_Week2_CAR_vs_NO\\vis_snap_counts.csv\n",
      "Saved DataFrame home_drives to raw_data\\2023\\Week2\\2023_Week2_CAR_vs_NO\\home_drives.csv\n",
      "Saved DataFrame vis_drives to raw_data\\2023\\Week2\\2023_Week2_CAR_vs_NO\\vis_drives.csv\n",
      "Saved DataFrame pbp to raw_data\\2023\\Week2\\2023_Week2_CAR_vs_NO\\pbp.csv\n"
     ]
    },
    {
     "name": "stderr",
     "output_type": "stream",
     "text": [
      "C:\\Users\\jackj\\AppData\\Local\\Temp\\ipykernel_31996\\1469608065.py:49: MarkupResemblesLocatorWarning: The input looks more like a filename than markup. You may want to open this file and pass the filehandle into Beautiful Soup.\n",
      "  comment_soup = BeautifulSoup(comment, 'html.parser')\n"
     ]
    },
    {
     "name": "stdout",
     "output_type": "stream",
     "text": [
      "Saved DataFrame scoring to raw_data\\2023\\Week2\\2023_Week2_PIT_vs_CLE\\scoring.csv\n",
      "Saved DataFrame player_offense to raw_data\\2023\\Week2\\2023_Week2_PIT_vs_CLE\\player_offense.csv\n",
      "Saved DataFrame game_info to raw_data\\2023\\Week2\\2023_Week2_PIT_vs_CLE\\game_info.csv\n",
      "Saved DataFrame officials to raw_data\\2023\\Week2\\2023_Week2_PIT_vs_CLE\\officials.csv\n",
      "Saved DataFrame expected_points to raw_data\\2023\\Week2\\2023_Week2_PIT_vs_CLE\\expected_points.csv\n",
      "Saved DataFrame team_stats to raw_data\\2023\\Week2\\2023_Week2_PIT_vs_CLE\\team_stats.csv\n",
      "Saved DataFrame player_defense to raw_data\\2023\\Week2\\2023_Week2_PIT_vs_CLE\\player_defense.csv\n",
      "Saved DataFrame returns to raw_data\\2023\\Week2\\2023_Week2_PIT_vs_CLE\\returns.csv\n",
      "Saved DataFrame kicking to raw_data\\2023\\Week2\\2023_Week2_PIT_vs_CLE\\kicking.csv\n",
      "Saved DataFrame passing_advanced to raw_data\\2023\\Week2\\2023_Week2_PIT_vs_CLE\\passing_advanced.csv\n",
      "Saved DataFrame rushing_advanced to raw_data\\2023\\Week2\\2023_Week2_PIT_vs_CLE\\rushing_advanced.csv\n",
      "Saved DataFrame receiving_advanced to raw_data\\2023\\Week2\\2023_Week2_PIT_vs_CLE\\receiving_advanced.csv\n",
      "Saved DataFrame defense_advanced to raw_data\\2023\\Week2\\2023_Week2_PIT_vs_CLE\\defense_advanced.csv\n",
      "Saved DataFrame home_starters to raw_data\\2023\\Week2\\2023_Week2_PIT_vs_CLE\\home_starters.csv\n",
      "Saved DataFrame vis_starters to raw_data\\2023\\Week2\\2023_Week2_PIT_vs_CLE\\vis_starters.csv\n",
      "Saved DataFrame home_snap_counts to raw_data\\2023\\Week2\\2023_Week2_PIT_vs_CLE\\home_snap_counts.csv\n",
      "Saved DataFrame vis_snap_counts to raw_data\\2023\\Week2\\2023_Week2_PIT_vs_CLE\\vis_snap_counts.csv\n",
      "Saved DataFrame home_drives to raw_data\\2023\\Week2\\2023_Week2_PIT_vs_CLE\\home_drives.csv\n",
      "Saved DataFrame vis_drives to raw_data\\2023\\Week2\\2023_Week2_PIT_vs_CLE\\vis_drives.csv\n",
      "Saved DataFrame pbp to raw_data\\2023\\Week2\\2023_Week2_PIT_vs_CLE\\pbp.csv\n"
     ]
    },
    {
     "name": "stderr",
     "output_type": "stream",
     "text": [
      "C:\\Users\\jackj\\AppData\\Local\\Temp\\ipykernel_31996\\1469608065.py:49: MarkupResemblesLocatorWarning: The input looks more like a filename than markup. You may want to open this file and pass the filehandle into Beautiful Soup.\n",
      "  comment_soup = BeautifulSoup(comment, 'html.parser')\n"
     ]
    },
    {
     "name": "stdout",
     "output_type": "stream",
     "text": [
      "Saved DataFrame scoring to raw_data\\2023\\Week3\\2023_Week3_SF_vs_NYG\\scoring.csv\n",
      "Saved DataFrame player_offense to raw_data\\2023\\Week3\\2023_Week3_SF_vs_NYG\\player_offense.csv\n",
      "Saved DataFrame game_info to raw_data\\2023\\Week3\\2023_Week3_SF_vs_NYG\\game_info.csv\n",
      "Saved DataFrame officials to raw_data\\2023\\Week3\\2023_Week3_SF_vs_NYG\\officials.csv\n",
      "Saved DataFrame expected_points to raw_data\\2023\\Week3\\2023_Week3_SF_vs_NYG\\expected_points.csv\n",
      "Saved DataFrame team_stats to raw_data\\2023\\Week3\\2023_Week3_SF_vs_NYG\\team_stats.csv\n",
      "Saved DataFrame player_defense to raw_data\\2023\\Week3\\2023_Week3_SF_vs_NYG\\player_defense.csv\n",
      "Saved DataFrame returns to raw_data\\2023\\Week3\\2023_Week3_SF_vs_NYG\\returns.csv\n",
      "Saved DataFrame kicking to raw_data\\2023\\Week3\\2023_Week3_SF_vs_NYG\\kicking.csv\n",
      "Saved DataFrame passing_advanced to raw_data\\2023\\Week3\\2023_Week3_SF_vs_NYG\\passing_advanced.csv\n",
      "Saved DataFrame rushing_advanced to raw_data\\2023\\Week3\\2023_Week3_SF_vs_NYG\\rushing_advanced.csv\n",
      "Saved DataFrame receiving_advanced to raw_data\\2023\\Week3\\2023_Week3_SF_vs_NYG\\receiving_advanced.csv\n",
      "Saved DataFrame defense_advanced to raw_data\\2023\\Week3\\2023_Week3_SF_vs_NYG\\defense_advanced.csv\n",
      "Saved DataFrame home_starters to raw_data\\2023\\Week3\\2023_Week3_SF_vs_NYG\\home_starters.csv\n",
      "Saved DataFrame vis_starters to raw_data\\2023\\Week3\\2023_Week3_SF_vs_NYG\\vis_starters.csv\n",
      "Saved DataFrame home_snap_counts to raw_data\\2023\\Week3\\2023_Week3_SF_vs_NYG\\home_snap_counts.csv\n",
      "Saved DataFrame vis_snap_counts to raw_data\\2023\\Week3\\2023_Week3_SF_vs_NYG\\vis_snap_counts.csv\n",
      "Saved DataFrame home_drives to raw_data\\2023\\Week3\\2023_Week3_SF_vs_NYG\\home_drives.csv\n",
      "Saved DataFrame vis_drives to raw_data\\2023\\Week3\\2023_Week3_SF_vs_NYG\\vis_drives.csv\n",
      "Saved DataFrame pbp to raw_data\\2023\\Week3\\2023_Week3_SF_vs_NYG\\pbp.csv\n"
     ]
    },
    {
     "name": "stderr",
     "output_type": "stream",
     "text": [
      "C:\\Users\\jackj\\AppData\\Local\\Temp\\ipykernel_31996\\1469608065.py:49: MarkupResemblesLocatorWarning: The input looks more like a filename than markup. You may want to open this file and pass the filehandle into Beautiful Soup.\n",
      "  comment_soup = BeautifulSoup(comment, 'html.parser')\n"
     ]
    },
    {
     "name": "stdout",
     "output_type": "stream",
     "text": [
      "Saved DataFrame scoring to raw_data\\2023\\Week3\\2023_Week3_DET_vs_ATL\\scoring.csv\n",
      "Saved DataFrame player_offense to raw_data\\2023\\Week3\\2023_Week3_DET_vs_ATL\\player_offense.csv\n",
      "Saved DataFrame game_info to raw_data\\2023\\Week3\\2023_Week3_DET_vs_ATL\\game_info.csv\n",
      "Saved DataFrame officials to raw_data\\2023\\Week3\\2023_Week3_DET_vs_ATL\\officials.csv\n",
      "Saved DataFrame expected_points to raw_data\\2023\\Week3\\2023_Week3_DET_vs_ATL\\expected_points.csv\n",
      "Saved DataFrame team_stats to raw_data\\2023\\Week3\\2023_Week3_DET_vs_ATL\\team_stats.csv\n",
      "Saved DataFrame player_defense to raw_data\\2023\\Week3\\2023_Week3_DET_vs_ATL\\player_defense.csv\n",
      "Saved DataFrame returns to raw_data\\2023\\Week3\\2023_Week3_DET_vs_ATL\\returns.csv\n",
      "Saved DataFrame kicking to raw_data\\2023\\Week3\\2023_Week3_DET_vs_ATL\\kicking.csv\n",
      "Saved DataFrame passing_advanced to raw_data\\2023\\Week3\\2023_Week3_DET_vs_ATL\\passing_advanced.csv\n",
      "Saved DataFrame rushing_advanced to raw_data\\2023\\Week3\\2023_Week3_DET_vs_ATL\\rushing_advanced.csv\n",
      "Saved DataFrame receiving_advanced to raw_data\\2023\\Week3\\2023_Week3_DET_vs_ATL\\receiving_advanced.csv\n",
      "Saved DataFrame defense_advanced to raw_data\\2023\\Week3\\2023_Week3_DET_vs_ATL\\defense_advanced.csv\n",
      "Saved DataFrame home_starters to raw_data\\2023\\Week3\\2023_Week3_DET_vs_ATL\\home_starters.csv\n",
      "Saved DataFrame vis_starters to raw_data\\2023\\Week3\\2023_Week3_DET_vs_ATL\\vis_starters.csv\n",
      "Saved DataFrame home_snap_counts to raw_data\\2023\\Week3\\2023_Week3_DET_vs_ATL\\home_snap_counts.csv\n",
      "Saved DataFrame vis_snap_counts to raw_data\\2023\\Week3\\2023_Week3_DET_vs_ATL\\vis_snap_counts.csv\n",
      "Saved DataFrame home_drives to raw_data\\2023\\Week3\\2023_Week3_DET_vs_ATL\\home_drives.csv\n",
      "Saved DataFrame vis_drives to raw_data\\2023\\Week3\\2023_Week3_DET_vs_ATL\\vis_drives.csv\n",
      "Saved DataFrame pbp to raw_data\\2023\\Week3\\2023_Week3_DET_vs_ATL\\pbp.csv\n"
     ]
    },
    {
     "name": "stderr",
     "output_type": "stream",
     "text": [
      "C:\\Users\\jackj\\AppData\\Local\\Temp\\ipykernel_31996\\1469608065.py:49: MarkupResemblesLocatorWarning: The input looks more like a filename than markup. You may want to open this file and pass the filehandle into Beautiful Soup.\n",
      "  comment_soup = BeautifulSoup(comment, 'html.parser')\n"
     ]
    },
    {
     "name": "stdout",
     "output_type": "stream",
     "text": [
      "Saved DataFrame scoring to raw_data\\2023\\Week3\\2023_Week3_WAS_vs_BUF\\scoring.csv\n",
      "Saved DataFrame player_offense to raw_data\\2023\\Week3\\2023_Week3_WAS_vs_BUF\\player_offense.csv\n",
      "Saved DataFrame game_info to raw_data\\2023\\Week3\\2023_Week3_WAS_vs_BUF\\game_info.csv\n",
      "Saved DataFrame officials to raw_data\\2023\\Week3\\2023_Week3_WAS_vs_BUF\\officials.csv\n",
      "Saved DataFrame expected_points to raw_data\\2023\\Week3\\2023_Week3_WAS_vs_BUF\\expected_points.csv\n",
      "Saved DataFrame team_stats to raw_data\\2023\\Week3\\2023_Week3_WAS_vs_BUF\\team_stats.csv\n",
      "Saved DataFrame player_defense to raw_data\\2023\\Week3\\2023_Week3_WAS_vs_BUF\\player_defense.csv\n",
      "Saved DataFrame returns to raw_data\\2023\\Week3\\2023_Week3_WAS_vs_BUF\\returns.csv\n",
      "Saved DataFrame kicking to raw_data\\2023\\Week3\\2023_Week3_WAS_vs_BUF\\kicking.csv\n",
      "Saved DataFrame passing_advanced to raw_data\\2023\\Week3\\2023_Week3_WAS_vs_BUF\\passing_advanced.csv\n",
      "Saved DataFrame rushing_advanced to raw_data\\2023\\Week3\\2023_Week3_WAS_vs_BUF\\rushing_advanced.csv\n",
      "Saved DataFrame receiving_advanced to raw_data\\2023\\Week3\\2023_Week3_WAS_vs_BUF\\receiving_advanced.csv\n",
      "Saved DataFrame defense_advanced to raw_data\\2023\\Week3\\2023_Week3_WAS_vs_BUF\\defense_advanced.csv\n",
      "Saved DataFrame home_starters to raw_data\\2023\\Week3\\2023_Week3_WAS_vs_BUF\\home_starters.csv\n",
      "Saved DataFrame vis_starters to raw_data\\2023\\Week3\\2023_Week3_WAS_vs_BUF\\vis_starters.csv\n",
      "Saved DataFrame home_snap_counts to raw_data\\2023\\Week3\\2023_Week3_WAS_vs_BUF\\home_snap_counts.csv\n",
      "Saved DataFrame vis_snap_counts to raw_data\\2023\\Week3\\2023_Week3_WAS_vs_BUF\\vis_snap_counts.csv\n",
      "Saved DataFrame home_drives to raw_data\\2023\\Week3\\2023_Week3_WAS_vs_BUF\\home_drives.csv\n",
      "Saved DataFrame vis_drives to raw_data\\2023\\Week3\\2023_Week3_WAS_vs_BUF\\vis_drives.csv\n",
      "Saved DataFrame pbp to raw_data\\2023\\Week3\\2023_Week3_WAS_vs_BUF\\pbp.csv\n"
     ]
    },
    {
     "name": "stderr",
     "output_type": "stream",
     "text": [
      "C:\\Users\\jackj\\AppData\\Local\\Temp\\ipykernel_31996\\1469608065.py:49: MarkupResemblesLocatorWarning: The input looks more like a filename than markup. You may want to open this file and pass the filehandle into Beautiful Soup.\n",
      "  comment_soup = BeautifulSoup(comment, 'html.parser')\n"
     ]
    },
    {
     "name": "stdout",
     "output_type": "stream",
     "text": [
      "Saved DataFrame scoring to raw_data\\2023\\Week3\\2023_Week3_CLE_vs_TEN\\scoring.csv\n",
      "Saved DataFrame player_offense to raw_data\\2023\\Week3\\2023_Week3_CLE_vs_TEN\\player_offense.csv\n",
      "Saved DataFrame game_info to raw_data\\2023\\Week3\\2023_Week3_CLE_vs_TEN\\game_info.csv\n",
      "Saved DataFrame officials to raw_data\\2023\\Week3\\2023_Week3_CLE_vs_TEN\\officials.csv\n",
      "Saved DataFrame expected_points to raw_data\\2023\\Week3\\2023_Week3_CLE_vs_TEN\\expected_points.csv\n",
      "Saved DataFrame team_stats to raw_data\\2023\\Week3\\2023_Week3_CLE_vs_TEN\\team_stats.csv\n",
      "Saved DataFrame player_defense to raw_data\\2023\\Week3\\2023_Week3_CLE_vs_TEN\\player_defense.csv\n",
      "Saved DataFrame returns to raw_data\\2023\\Week3\\2023_Week3_CLE_vs_TEN\\returns.csv\n",
      "Saved DataFrame kicking to raw_data\\2023\\Week3\\2023_Week3_CLE_vs_TEN\\kicking.csv\n",
      "Saved DataFrame passing_advanced to raw_data\\2023\\Week3\\2023_Week3_CLE_vs_TEN\\passing_advanced.csv\n",
      "Saved DataFrame rushing_advanced to raw_data\\2023\\Week3\\2023_Week3_CLE_vs_TEN\\rushing_advanced.csv\n",
      "Saved DataFrame receiving_advanced to raw_data\\2023\\Week3\\2023_Week3_CLE_vs_TEN\\receiving_advanced.csv\n",
      "Saved DataFrame defense_advanced to raw_data\\2023\\Week3\\2023_Week3_CLE_vs_TEN\\defense_advanced.csv\n",
      "Saved DataFrame home_starters to raw_data\\2023\\Week3\\2023_Week3_CLE_vs_TEN\\home_starters.csv\n",
      "Saved DataFrame vis_starters to raw_data\\2023\\Week3\\2023_Week3_CLE_vs_TEN\\vis_starters.csv\n",
      "Saved DataFrame home_snap_counts to raw_data\\2023\\Week3\\2023_Week3_CLE_vs_TEN\\home_snap_counts.csv\n",
      "Saved DataFrame vis_snap_counts to raw_data\\2023\\Week3\\2023_Week3_CLE_vs_TEN\\vis_snap_counts.csv\n",
      "Saved DataFrame home_drives to raw_data\\2023\\Week3\\2023_Week3_CLE_vs_TEN\\home_drives.csv\n",
      "Saved DataFrame vis_drives to raw_data\\2023\\Week3\\2023_Week3_CLE_vs_TEN\\vis_drives.csv\n",
      "Saved DataFrame pbp to raw_data\\2023\\Week3\\2023_Week3_CLE_vs_TEN\\pbp.csv\n"
     ]
    },
    {
     "name": "stderr",
     "output_type": "stream",
     "text": [
      "C:\\Users\\jackj\\AppData\\Local\\Temp\\ipykernel_31996\\1469608065.py:49: MarkupResemblesLocatorWarning: The input looks more like a filename than markup. You may want to open this file and pass the filehandle into Beautiful Soup.\n",
      "  comment_soup = BeautifulSoup(comment, 'html.parser')\n"
     ]
    },
    {
     "name": "stdout",
     "output_type": "stream",
     "text": [
      "Saved DataFrame scoring to raw_data\\2023\\Week3\\2023_Week3_BAL_vs_IND\\scoring.csv\n",
      "Saved DataFrame player_offense to raw_data\\2023\\Week3\\2023_Week3_BAL_vs_IND\\player_offense.csv\n",
      "Saved DataFrame game_info to raw_data\\2023\\Week3\\2023_Week3_BAL_vs_IND\\game_info.csv\n",
      "Saved DataFrame officials to raw_data\\2023\\Week3\\2023_Week3_BAL_vs_IND\\officials.csv\n",
      "Saved DataFrame expected_points to raw_data\\2023\\Week3\\2023_Week3_BAL_vs_IND\\expected_points.csv\n",
      "Saved DataFrame team_stats to raw_data\\2023\\Week3\\2023_Week3_BAL_vs_IND\\team_stats.csv\n",
      "Saved DataFrame player_defense to raw_data\\2023\\Week3\\2023_Week3_BAL_vs_IND\\player_defense.csv\n",
      "Saved DataFrame returns to raw_data\\2023\\Week3\\2023_Week3_BAL_vs_IND\\returns.csv\n",
      "Saved DataFrame kicking to raw_data\\2023\\Week3\\2023_Week3_BAL_vs_IND\\kicking.csv\n",
      "Saved DataFrame passing_advanced to raw_data\\2023\\Week3\\2023_Week3_BAL_vs_IND\\passing_advanced.csv\n",
      "Saved DataFrame rushing_advanced to raw_data\\2023\\Week3\\2023_Week3_BAL_vs_IND\\rushing_advanced.csv\n",
      "Saved DataFrame receiving_advanced to raw_data\\2023\\Week3\\2023_Week3_BAL_vs_IND\\receiving_advanced.csv\n",
      "Saved DataFrame defense_advanced to raw_data\\2023\\Week3\\2023_Week3_BAL_vs_IND\\defense_advanced.csv\n",
      "Saved DataFrame home_starters to raw_data\\2023\\Week3\\2023_Week3_BAL_vs_IND\\home_starters.csv\n",
      "Saved DataFrame vis_starters to raw_data\\2023\\Week3\\2023_Week3_BAL_vs_IND\\vis_starters.csv\n",
      "Saved DataFrame home_snap_counts to raw_data\\2023\\Week3\\2023_Week3_BAL_vs_IND\\home_snap_counts.csv\n",
      "Saved DataFrame vis_snap_counts to raw_data\\2023\\Week3\\2023_Week3_BAL_vs_IND\\vis_snap_counts.csv\n",
      "Saved DataFrame home_drives to raw_data\\2023\\Week3\\2023_Week3_BAL_vs_IND\\home_drives.csv\n",
      "Saved DataFrame vis_drives to raw_data\\2023\\Week3\\2023_Week3_BAL_vs_IND\\vis_drives.csv\n",
      "Saved DataFrame pbp to raw_data\\2023\\Week3\\2023_Week3_BAL_vs_IND\\pbp.csv\n"
     ]
    },
    {
     "name": "stderr",
     "output_type": "stream",
     "text": [
      "C:\\Users\\jackj\\AppData\\Local\\Temp\\ipykernel_31996\\1469608065.py:49: MarkupResemblesLocatorWarning: The input looks more like a filename than markup. You may want to open this file and pass the filehandle into Beautiful Soup.\n",
      "  comment_soup = BeautifulSoup(comment, 'html.parser')\n"
     ]
    },
    {
     "name": "stdout",
     "output_type": "stream",
     "text": [
      "Saved DataFrame scoring to raw_data\\2023\\Week3\\2023_Week3_MIA_vs_DEN\\scoring.csv\n",
      "Saved DataFrame player_offense to raw_data\\2023\\Week3\\2023_Week3_MIA_vs_DEN\\player_offense.csv\n",
      "Saved DataFrame game_info to raw_data\\2023\\Week3\\2023_Week3_MIA_vs_DEN\\game_info.csv\n",
      "Saved DataFrame officials to raw_data\\2023\\Week3\\2023_Week3_MIA_vs_DEN\\officials.csv\n",
      "Saved DataFrame expected_points to raw_data\\2023\\Week3\\2023_Week3_MIA_vs_DEN\\expected_points.csv\n",
      "Saved DataFrame team_stats to raw_data\\2023\\Week3\\2023_Week3_MIA_vs_DEN\\team_stats.csv\n",
      "Saved DataFrame player_defense to raw_data\\2023\\Week3\\2023_Week3_MIA_vs_DEN\\player_defense.csv\n",
      "Saved DataFrame returns to raw_data\\2023\\Week3\\2023_Week3_MIA_vs_DEN\\returns.csv\n",
      "Saved DataFrame kicking to raw_data\\2023\\Week3\\2023_Week3_MIA_vs_DEN\\kicking.csv\n",
      "Saved DataFrame passing_advanced to raw_data\\2023\\Week3\\2023_Week3_MIA_vs_DEN\\passing_advanced.csv\n",
      "Saved DataFrame rushing_advanced to raw_data\\2023\\Week3\\2023_Week3_MIA_vs_DEN\\rushing_advanced.csv\n",
      "Saved DataFrame receiving_advanced to raw_data\\2023\\Week3\\2023_Week3_MIA_vs_DEN\\receiving_advanced.csv\n",
      "Saved DataFrame defense_advanced to raw_data\\2023\\Week3\\2023_Week3_MIA_vs_DEN\\defense_advanced.csv\n",
      "Saved DataFrame home_starters to raw_data\\2023\\Week3\\2023_Week3_MIA_vs_DEN\\home_starters.csv\n",
      "Saved DataFrame vis_starters to raw_data\\2023\\Week3\\2023_Week3_MIA_vs_DEN\\vis_starters.csv\n",
      "Saved DataFrame home_snap_counts to raw_data\\2023\\Week3\\2023_Week3_MIA_vs_DEN\\home_snap_counts.csv\n",
      "Saved DataFrame vis_snap_counts to raw_data\\2023\\Week3\\2023_Week3_MIA_vs_DEN\\vis_snap_counts.csv\n",
      "Saved DataFrame home_drives to raw_data\\2023\\Week3\\2023_Week3_MIA_vs_DEN\\home_drives.csv\n",
      "Saved DataFrame vis_drives to raw_data\\2023\\Week3\\2023_Week3_MIA_vs_DEN\\vis_drives.csv\n",
      "Saved DataFrame pbp to raw_data\\2023\\Week3\\2023_Week3_MIA_vs_DEN\\pbp.csv\n",
      "Reached 20 requests, sleeping for 60 seconds...\n"
     ]
    },
    {
     "name": "stderr",
     "output_type": "stream",
     "text": [
      "C:\\Users\\jackj\\AppData\\Local\\Temp\\ipykernel_31996\\1469608065.py:49: MarkupResemblesLocatorWarning: The input looks more like a filename than markup. You may want to open this file and pass the filehandle into Beautiful Soup.\n",
      "  comment_soup = BeautifulSoup(comment, 'html.parser')\n"
     ]
    },
    {
     "name": "stdout",
     "output_type": "stream",
     "text": [
      "Saved DataFrame scoring to raw_data\\2023\\Week3\\2023_Week3_GB_vs_NO\\scoring.csv\n",
      "Saved DataFrame player_offense to raw_data\\2023\\Week3\\2023_Week3_GB_vs_NO\\player_offense.csv\n",
      "Saved DataFrame game_info to raw_data\\2023\\Week3\\2023_Week3_GB_vs_NO\\game_info.csv\n",
      "Saved DataFrame officials to raw_data\\2023\\Week3\\2023_Week3_GB_vs_NO\\officials.csv\n",
      "Saved DataFrame expected_points to raw_data\\2023\\Week3\\2023_Week3_GB_vs_NO\\expected_points.csv\n",
      "Saved DataFrame team_stats to raw_data\\2023\\Week3\\2023_Week3_GB_vs_NO\\team_stats.csv\n",
      "Saved DataFrame player_defense to raw_data\\2023\\Week3\\2023_Week3_GB_vs_NO\\player_defense.csv\n",
      "Saved DataFrame returns to raw_data\\2023\\Week3\\2023_Week3_GB_vs_NO\\returns.csv\n",
      "Saved DataFrame kicking to raw_data\\2023\\Week3\\2023_Week3_GB_vs_NO\\kicking.csv\n",
      "Saved DataFrame passing_advanced to raw_data\\2023\\Week3\\2023_Week3_GB_vs_NO\\passing_advanced.csv\n",
      "Saved DataFrame rushing_advanced to raw_data\\2023\\Week3\\2023_Week3_GB_vs_NO\\rushing_advanced.csv\n",
      "Saved DataFrame receiving_advanced to raw_data\\2023\\Week3\\2023_Week3_GB_vs_NO\\receiving_advanced.csv\n",
      "Saved DataFrame defense_advanced to raw_data\\2023\\Week3\\2023_Week3_GB_vs_NO\\defense_advanced.csv\n",
      "Saved DataFrame home_starters to raw_data\\2023\\Week3\\2023_Week3_GB_vs_NO\\home_starters.csv\n",
      "Saved DataFrame vis_starters to raw_data\\2023\\Week3\\2023_Week3_GB_vs_NO\\vis_starters.csv\n",
      "Saved DataFrame home_snap_counts to raw_data\\2023\\Week3\\2023_Week3_GB_vs_NO\\home_snap_counts.csv\n",
      "Saved DataFrame vis_snap_counts to raw_data\\2023\\Week3\\2023_Week3_GB_vs_NO\\vis_snap_counts.csv\n",
      "Saved DataFrame home_drives to raw_data\\2023\\Week3\\2023_Week3_GB_vs_NO\\home_drives.csv\n",
      "Saved DataFrame vis_drives to raw_data\\2023\\Week3\\2023_Week3_GB_vs_NO\\vis_drives.csv\n",
      "Saved DataFrame pbp to raw_data\\2023\\Week3\\2023_Week3_GB_vs_NO\\pbp.csv\n"
     ]
    },
    {
     "name": "stderr",
     "output_type": "stream",
     "text": [
      "C:\\Users\\jackj\\AppData\\Local\\Temp\\ipykernel_31996\\1469608065.py:49: MarkupResemblesLocatorWarning: The input looks more like a filename than markup. You may want to open this file and pass the filehandle into Beautiful Soup.\n",
      "  comment_soup = BeautifulSoup(comment, 'html.parser')\n"
     ]
    },
    {
     "name": "stdout",
     "output_type": "stream",
     "text": [
      "Saved DataFrame scoring to raw_data\\2023\\Week3\\2023_Week3_JAX_vs_HOU\\scoring.csv\n",
      "Saved DataFrame player_offense to raw_data\\2023\\Week3\\2023_Week3_JAX_vs_HOU\\player_offense.csv\n",
      "Saved DataFrame game_info to raw_data\\2023\\Week3\\2023_Week3_JAX_vs_HOU\\game_info.csv\n",
      "Saved DataFrame officials to raw_data\\2023\\Week3\\2023_Week3_JAX_vs_HOU\\officials.csv\n",
      "Saved DataFrame expected_points to raw_data\\2023\\Week3\\2023_Week3_JAX_vs_HOU\\expected_points.csv\n",
      "Saved DataFrame team_stats to raw_data\\2023\\Week3\\2023_Week3_JAX_vs_HOU\\team_stats.csv\n",
      "Saved DataFrame player_defense to raw_data\\2023\\Week3\\2023_Week3_JAX_vs_HOU\\player_defense.csv\n",
      "Saved DataFrame returns to raw_data\\2023\\Week3\\2023_Week3_JAX_vs_HOU\\returns.csv\n",
      "Saved DataFrame kicking to raw_data\\2023\\Week3\\2023_Week3_JAX_vs_HOU\\kicking.csv\n",
      "Saved DataFrame passing_advanced to raw_data\\2023\\Week3\\2023_Week3_JAX_vs_HOU\\passing_advanced.csv\n",
      "Saved DataFrame rushing_advanced to raw_data\\2023\\Week3\\2023_Week3_JAX_vs_HOU\\rushing_advanced.csv\n",
      "Saved DataFrame receiving_advanced to raw_data\\2023\\Week3\\2023_Week3_JAX_vs_HOU\\receiving_advanced.csv\n",
      "Saved DataFrame defense_advanced to raw_data\\2023\\Week3\\2023_Week3_JAX_vs_HOU\\defense_advanced.csv\n",
      "Saved DataFrame home_starters to raw_data\\2023\\Week3\\2023_Week3_JAX_vs_HOU\\home_starters.csv\n",
      "Saved DataFrame vis_starters to raw_data\\2023\\Week3\\2023_Week3_JAX_vs_HOU\\vis_starters.csv\n",
      "Saved DataFrame home_snap_counts to raw_data\\2023\\Week3\\2023_Week3_JAX_vs_HOU\\home_snap_counts.csv\n",
      "Saved DataFrame vis_snap_counts to raw_data\\2023\\Week3\\2023_Week3_JAX_vs_HOU\\vis_snap_counts.csv\n",
      "Saved DataFrame home_drives to raw_data\\2023\\Week3\\2023_Week3_JAX_vs_HOU\\home_drives.csv\n",
      "Saved DataFrame vis_drives to raw_data\\2023\\Week3\\2023_Week3_JAX_vs_HOU\\vis_drives.csv\n",
      "Saved DataFrame pbp to raw_data\\2023\\Week3\\2023_Week3_JAX_vs_HOU\\pbp.csv\n"
     ]
    },
    {
     "name": "stderr",
     "output_type": "stream",
     "text": [
      "C:\\Users\\jackj\\AppData\\Local\\Temp\\ipykernel_31996\\1469608065.py:49: MarkupResemblesLocatorWarning: The input looks more like a filename than markup. You may want to open this file and pass the filehandle into Beautiful Soup.\n",
      "  comment_soup = BeautifulSoup(comment, 'html.parser')\n"
     ]
    },
    {
     "name": "stdout",
     "output_type": "stream",
     "text": [
      "Saved DataFrame scoring to raw_data\\2023\\Week3\\2023_Week3_MIN_vs_LAC\\scoring.csv\n",
      "Saved DataFrame player_offense to raw_data\\2023\\Week3\\2023_Week3_MIN_vs_LAC\\player_offense.csv\n",
      "Saved DataFrame game_info to raw_data\\2023\\Week3\\2023_Week3_MIN_vs_LAC\\game_info.csv\n",
      "Saved DataFrame officials to raw_data\\2023\\Week3\\2023_Week3_MIN_vs_LAC\\officials.csv\n",
      "Saved DataFrame expected_points to raw_data\\2023\\Week3\\2023_Week3_MIN_vs_LAC\\expected_points.csv\n",
      "Saved DataFrame team_stats to raw_data\\2023\\Week3\\2023_Week3_MIN_vs_LAC\\team_stats.csv\n",
      "Saved DataFrame player_defense to raw_data\\2023\\Week3\\2023_Week3_MIN_vs_LAC\\player_defense.csv\n",
      "Saved DataFrame kicking to raw_data\\2023\\Week3\\2023_Week3_MIN_vs_LAC\\kicking.csv\n",
      "Saved DataFrame passing_advanced to raw_data\\2023\\Week3\\2023_Week3_MIN_vs_LAC\\passing_advanced.csv\n",
      "Saved DataFrame rushing_advanced to raw_data\\2023\\Week3\\2023_Week3_MIN_vs_LAC\\rushing_advanced.csv\n",
      "Saved DataFrame receiving_advanced to raw_data\\2023\\Week3\\2023_Week3_MIN_vs_LAC\\receiving_advanced.csv\n",
      "Saved DataFrame defense_advanced to raw_data\\2023\\Week3\\2023_Week3_MIN_vs_LAC\\defense_advanced.csv\n",
      "Saved DataFrame home_starters to raw_data\\2023\\Week3\\2023_Week3_MIN_vs_LAC\\home_starters.csv\n",
      "Saved DataFrame vis_starters to raw_data\\2023\\Week3\\2023_Week3_MIN_vs_LAC\\vis_starters.csv\n",
      "Saved DataFrame home_snap_counts to raw_data\\2023\\Week3\\2023_Week3_MIN_vs_LAC\\home_snap_counts.csv\n",
      "Saved DataFrame vis_snap_counts to raw_data\\2023\\Week3\\2023_Week3_MIN_vs_LAC\\vis_snap_counts.csv\n",
      "Saved DataFrame home_drives to raw_data\\2023\\Week3\\2023_Week3_MIN_vs_LAC\\home_drives.csv\n",
      "Saved DataFrame vis_drives to raw_data\\2023\\Week3\\2023_Week3_MIN_vs_LAC\\vis_drives.csv\n",
      "Saved DataFrame pbp to raw_data\\2023\\Week3\\2023_Week3_MIN_vs_LAC\\pbp.csv\n"
     ]
    },
    {
     "name": "stderr",
     "output_type": "stream",
     "text": [
      "C:\\Users\\jackj\\AppData\\Local\\Temp\\ipykernel_31996\\1469608065.py:49: MarkupResemblesLocatorWarning: The input looks more like a filename than markup. You may want to open this file and pass the filehandle into Beautiful Soup.\n",
      "  comment_soup = BeautifulSoup(comment, 'html.parser')\n"
     ]
    },
    {
     "name": "stdout",
     "output_type": "stream",
     "text": [
      "Saved DataFrame scoring to raw_data\\2023\\Week3\\2023_Week3_NYJ_vs_NE\\scoring.csv\n",
      "Saved DataFrame player_offense to raw_data\\2023\\Week3\\2023_Week3_NYJ_vs_NE\\player_offense.csv\n",
      "Saved DataFrame game_info to raw_data\\2023\\Week3\\2023_Week3_NYJ_vs_NE\\game_info.csv\n",
      "Saved DataFrame officials to raw_data\\2023\\Week3\\2023_Week3_NYJ_vs_NE\\officials.csv\n",
      "Saved DataFrame expected_points to raw_data\\2023\\Week3\\2023_Week3_NYJ_vs_NE\\expected_points.csv\n",
      "Saved DataFrame team_stats to raw_data\\2023\\Week3\\2023_Week3_NYJ_vs_NE\\team_stats.csv\n",
      "Saved DataFrame player_defense to raw_data\\2023\\Week3\\2023_Week3_NYJ_vs_NE\\player_defense.csv\n",
      "Saved DataFrame returns to raw_data\\2023\\Week3\\2023_Week3_NYJ_vs_NE\\returns.csv\n",
      "Saved DataFrame kicking to raw_data\\2023\\Week3\\2023_Week3_NYJ_vs_NE\\kicking.csv\n",
      "Saved DataFrame passing_advanced to raw_data\\2023\\Week3\\2023_Week3_NYJ_vs_NE\\passing_advanced.csv\n",
      "Saved DataFrame rushing_advanced to raw_data\\2023\\Week3\\2023_Week3_NYJ_vs_NE\\rushing_advanced.csv\n",
      "Saved DataFrame receiving_advanced to raw_data\\2023\\Week3\\2023_Week3_NYJ_vs_NE\\receiving_advanced.csv\n",
      "Saved DataFrame defense_advanced to raw_data\\2023\\Week3\\2023_Week3_NYJ_vs_NE\\defense_advanced.csv\n",
      "Saved DataFrame home_starters to raw_data\\2023\\Week3\\2023_Week3_NYJ_vs_NE\\home_starters.csv\n",
      "Saved DataFrame vis_starters to raw_data\\2023\\Week3\\2023_Week3_NYJ_vs_NE\\vis_starters.csv\n",
      "Saved DataFrame home_snap_counts to raw_data\\2023\\Week3\\2023_Week3_NYJ_vs_NE\\home_snap_counts.csv\n",
      "Saved DataFrame vis_snap_counts to raw_data\\2023\\Week3\\2023_Week3_NYJ_vs_NE\\vis_snap_counts.csv\n",
      "Saved DataFrame home_drives to raw_data\\2023\\Week3\\2023_Week3_NYJ_vs_NE\\home_drives.csv\n",
      "Saved DataFrame vis_drives to raw_data\\2023\\Week3\\2023_Week3_NYJ_vs_NE\\vis_drives.csv\n",
      "Saved DataFrame pbp to raw_data\\2023\\Week3\\2023_Week3_NYJ_vs_NE\\pbp.csv\n"
     ]
    },
    {
     "name": "stderr",
     "output_type": "stream",
     "text": [
      "C:\\Users\\jackj\\AppData\\Local\\Temp\\ipykernel_31996\\1469608065.py:49: MarkupResemblesLocatorWarning: The input looks more like a filename than markup. You may want to open this file and pass the filehandle into Beautiful Soup.\n",
      "  comment_soup = BeautifulSoup(comment, 'html.parser')\n"
     ]
    },
    {
     "name": "stdout",
     "output_type": "stream",
     "text": [
      "Saved DataFrame scoring to raw_data\\2023\\Week3\\2023_Week3_SEA_vs_CAR\\scoring.csv\n",
      "Saved DataFrame player_offense to raw_data\\2023\\Week3\\2023_Week3_SEA_vs_CAR\\player_offense.csv\n",
      "Saved DataFrame game_info to raw_data\\2023\\Week3\\2023_Week3_SEA_vs_CAR\\game_info.csv\n",
      "Saved DataFrame officials to raw_data\\2023\\Week3\\2023_Week3_SEA_vs_CAR\\officials.csv\n",
      "Saved DataFrame expected_points to raw_data\\2023\\Week3\\2023_Week3_SEA_vs_CAR\\expected_points.csv\n",
      "Saved DataFrame team_stats to raw_data\\2023\\Week3\\2023_Week3_SEA_vs_CAR\\team_stats.csv\n",
      "Saved DataFrame player_defense to raw_data\\2023\\Week3\\2023_Week3_SEA_vs_CAR\\player_defense.csv\n",
      "Saved DataFrame returns to raw_data\\2023\\Week3\\2023_Week3_SEA_vs_CAR\\returns.csv\n",
      "Saved DataFrame kicking to raw_data\\2023\\Week3\\2023_Week3_SEA_vs_CAR\\kicking.csv\n",
      "Saved DataFrame passing_advanced to raw_data\\2023\\Week3\\2023_Week3_SEA_vs_CAR\\passing_advanced.csv\n",
      "Saved DataFrame rushing_advanced to raw_data\\2023\\Week3\\2023_Week3_SEA_vs_CAR\\rushing_advanced.csv\n",
      "Saved DataFrame receiving_advanced to raw_data\\2023\\Week3\\2023_Week3_SEA_vs_CAR\\receiving_advanced.csv\n",
      "Saved DataFrame defense_advanced to raw_data\\2023\\Week3\\2023_Week3_SEA_vs_CAR\\defense_advanced.csv\n",
      "Saved DataFrame home_starters to raw_data\\2023\\Week3\\2023_Week3_SEA_vs_CAR\\home_starters.csv\n",
      "Saved DataFrame vis_starters to raw_data\\2023\\Week3\\2023_Week3_SEA_vs_CAR\\vis_starters.csv\n",
      "Saved DataFrame home_snap_counts to raw_data\\2023\\Week3\\2023_Week3_SEA_vs_CAR\\home_snap_counts.csv\n",
      "Saved DataFrame vis_snap_counts to raw_data\\2023\\Week3\\2023_Week3_SEA_vs_CAR\\vis_snap_counts.csv\n",
      "Saved DataFrame home_drives to raw_data\\2023\\Week3\\2023_Week3_SEA_vs_CAR\\home_drives.csv\n",
      "Saved DataFrame vis_drives to raw_data\\2023\\Week3\\2023_Week3_SEA_vs_CAR\\vis_drives.csv\n",
      "Saved DataFrame pbp to raw_data\\2023\\Week3\\2023_Week3_SEA_vs_CAR\\pbp.csv\n"
     ]
    },
    {
     "name": "stderr",
     "output_type": "stream",
     "text": [
      "C:\\Users\\jackj\\AppData\\Local\\Temp\\ipykernel_31996\\1469608065.py:49: MarkupResemblesLocatorWarning: The input looks more like a filename than markup. You may want to open this file and pass the filehandle into Beautiful Soup.\n",
      "  comment_soup = BeautifulSoup(comment, 'html.parser')\n"
     ]
    },
    {
     "name": "stdout",
     "output_type": "stream",
     "text": [
      "Saved DataFrame scoring to raw_data\\2023\\Week3\\2023_Week3_KC_vs_CHI\\scoring.csv\n",
      "Saved DataFrame player_offense to raw_data\\2023\\Week3\\2023_Week3_KC_vs_CHI\\player_offense.csv\n",
      "Saved DataFrame game_info to raw_data\\2023\\Week3\\2023_Week3_KC_vs_CHI\\game_info.csv\n",
      "Saved DataFrame officials to raw_data\\2023\\Week3\\2023_Week3_KC_vs_CHI\\officials.csv\n",
      "Saved DataFrame expected_points to raw_data\\2023\\Week3\\2023_Week3_KC_vs_CHI\\expected_points.csv\n",
      "Saved DataFrame team_stats to raw_data\\2023\\Week3\\2023_Week3_KC_vs_CHI\\team_stats.csv\n",
      "Saved DataFrame player_defense to raw_data\\2023\\Week3\\2023_Week3_KC_vs_CHI\\player_defense.csv\n",
      "Saved DataFrame returns to raw_data\\2023\\Week3\\2023_Week3_KC_vs_CHI\\returns.csv\n",
      "Saved DataFrame kicking to raw_data\\2023\\Week3\\2023_Week3_KC_vs_CHI\\kicking.csv\n",
      "Saved DataFrame passing_advanced to raw_data\\2023\\Week3\\2023_Week3_KC_vs_CHI\\passing_advanced.csv\n",
      "Saved DataFrame rushing_advanced to raw_data\\2023\\Week3\\2023_Week3_KC_vs_CHI\\rushing_advanced.csv\n",
      "Saved DataFrame receiving_advanced to raw_data\\2023\\Week3\\2023_Week3_KC_vs_CHI\\receiving_advanced.csv\n",
      "Saved DataFrame defense_advanced to raw_data\\2023\\Week3\\2023_Week3_KC_vs_CHI\\defense_advanced.csv\n",
      "Saved DataFrame home_starters to raw_data\\2023\\Week3\\2023_Week3_KC_vs_CHI\\home_starters.csv\n",
      "Saved DataFrame vis_starters to raw_data\\2023\\Week3\\2023_Week3_KC_vs_CHI\\vis_starters.csv\n",
      "Saved DataFrame home_snap_counts to raw_data\\2023\\Week3\\2023_Week3_KC_vs_CHI\\home_snap_counts.csv\n",
      "Saved DataFrame vis_snap_counts to raw_data\\2023\\Week3\\2023_Week3_KC_vs_CHI\\vis_snap_counts.csv\n",
      "Saved DataFrame home_drives to raw_data\\2023\\Week3\\2023_Week3_KC_vs_CHI\\home_drives.csv\n",
      "Saved DataFrame vis_drives to raw_data\\2023\\Week3\\2023_Week3_KC_vs_CHI\\vis_drives.csv\n",
      "Saved DataFrame pbp to raw_data\\2023\\Week3\\2023_Week3_KC_vs_CHI\\pbp.csv\n"
     ]
    },
    {
     "name": "stderr",
     "output_type": "stream",
     "text": [
      "C:\\Users\\jackj\\AppData\\Local\\Temp\\ipykernel_31996\\1469608065.py:49: MarkupResemblesLocatorWarning: The input looks more like a filename than markup. You may want to open this file and pass the filehandle into Beautiful Soup.\n",
      "  comment_soup = BeautifulSoup(comment, 'html.parser')\n"
     ]
    },
    {
     "name": "stdout",
     "output_type": "stream",
     "text": [
      "Saved DataFrame scoring to raw_data\\2023\\Week3\\2023_Week3_ARI_vs_DAL\\scoring.csv\n",
      "Saved DataFrame player_offense to raw_data\\2023\\Week3\\2023_Week3_ARI_vs_DAL\\player_offense.csv\n",
      "Saved DataFrame game_info to raw_data\\2023\\Week3\\2023_Week3_ARI_vs_DAL\\game_info.csv\n",
      "Saved DataFrame officials to raw_data\\2023\\Week3\\2023_Week3_ARI_vs_DAL\\officials.csv\n",
      "Saved DataFrame expected_points to raw_data\\2023\\Week3\\2023_Week3_ARI_vs_DAL\\expected_points.csv\n",
      "Saved DataFrame team_stats to raw_data\\2023\\Week3\\2023_Week3_ARI_vs_DAL\\team_stats.csv\n",
      "Saved DataFrame player_defense to raw_data\\2023\\Week3\\2023_Week3_ARI_vs_DAL\\player_defense.csv\n",
      "Saved DataFrame returns to raw_data\\2023\\Week3\\2023_Week3_ARI_vs_DAL\\returns.csv\n",
      "Saved DataFrame kicking to raw_data\\2023\\Week3\\2023_Week3_ARI_vs_DAL\\kicking.csv\n",
      "Saved DataFrame passing_advanced to raw_data\\2023\\Week3\\2023_Week3_ARI_vs_DAL\\passing_advanced.csv\n",
      "Saved DataFrame rushing_advanced to raw_data\\2023\\Week3\\2023_Week3_ARI_vs_DAL\\rushing_advanced.csv\n",
      "Saved DataFrame receiving_advanced to raw_data\\2023\\Week3\\2023_Week3_ARI_vs_DAL\\receiving_advanced.csv\n",
      "Saved DataFrame defense_advanced to raw_data\\2023\\Week3\\2023_Week3_ARI_vs_DAL\\defense_advanced.csv\n",
      "Saved DataFrame home_starters to raw_data\\2023\\Week3\\2023_Week3_ARI_vs_DAL\\home_starters.csv\n",
      "Saved DataFrame vis_starters to raw_data\\2023\\Week3\\2023_Week3_ARI_vs_DAL\\vis_starters.csv\n",
      "Saved DataFrame home_snap_counts to raw_data\\2023\\Week3\\2023_Week3_ARI_vs_DAL\\home_snap_counts.csv\n",
      "Saved DataFrame vis_snap_counts to raw_data\\2023\\Week3\\2023_Week3_ARI_vs_DAL\\vis_snap_counts.csv\n",
      "Saved DataFrame home_drives to raw_data\\2023\\Week3\\2023_Week3_ARI_vs_DAL\\home_drives.csv\n",
      "Saved DataFrame vis_drives to raw_data\\2023\\Week3\\2023_Week3_ARI_vs_DAL\\vis_drives.csv\n",
      "Saved DataFrame pbp to raw_data\\2023\\Week3\\2023_Week3_ARI_vs_DAL\\pbp.csv\n"
     ]
    },
    {
     "name": "stderr",
     "output_type": "stream",
     "text": [
      "C:\\Users\\jackj\\AppData\\Local\\Temp\\ipykernel_31996\\1469608065.py:49: MarkupResemblesLocatorWarning: The input looks more like a filename than markup. You may want to open this file and pass the filehandle into Beautiful Soup.\n",
      "  comment_soup = BeautifulSoup(comment, 'html.parser')\n"
     ]
    },
    {
     "name": "stdout",
     "output_type": "stream",
     "text": [
      "Saved DataFrame scoring to raw_data\\2023\\Week3\\2023_Week3_LVR_vs_PIT\\scoring.csv\n",
      "Saved DataFrame player_offense to raw_data\\2023\\Week3\\2023_Week3_LVR_vs_PIT\\player_offense.csv\n",
      "Saved DataFrame game_info to raw_data\\2023\\Week3\\2023_Week3_LVR_vs_PIT\\game_info.csv\n",
      "Saved DataFrame officials to raw_data\\2023\\Week3\\2023_Week3_LVR_vs_PIT\\officials.csv\n",
      "Saved DataFrame expected_points to raw_data\\2023\\Week3\\2023_Week3_LVR_vs_PIT\\expected_points.csv\n",
      "Saved DataFrame team_stats to raw_data\\2023\\Week3\\2023_Week3_LVR_vs_PIT\\team_stats.csv\n",
      "Saved DataFrame player_defense to raw_data\\2023\\Week3\\2023_Week3_LVR_vs_PIT\\player_defense.csv\n",
      "Saved DataFrame returns to raw_data\\2023\\Week3\\2023_Week3_LVR_vs_PIT\\returns.csv\n",
      "Saved DataFrame kicking to raw_data\\2023\\Week3\\2023_Week3_LVR_vs_PIT\\kicking.csv\n",
      "Saved DataFrame passing_advanced to raw_data\\2023\\Week3\\2023_Week3_LVR_vs_PIT\\passing_advanced.csv\n",
      "Saved DataFrame rushing_advanced to raw_data\\2023\\Week3\\2023_Week3_LVR_vs_PIT\\rushing_advanced.csv\n",
      "Saved DataFrame receiving_advanced to raw_data\\2023\\Week3\\2023_Week3_LVR_vs_PIT\\receiving_advanced.csv\n",
      "Saved DataFrame defense_advanced to raw_data\\2023\\Week3\\2023_Week3_LVR_vs_PIT\\defense_advanced.csv\n",
      "Saved DataFrame home_starters to raw_data\\2023\\Week3\\2023_Week3_LVR_vs_PIT\\home_starters.csv\n",
      "Saved DataFrame vis_starters to raw_data\\2023\\Week3\\2023_Week3_LVR_vs_PIT\\vis_starters.csv\n",
      "Saved DataFrame home_snap_counts to raw_data\\2023\\Week3\\2023_Week3_LVR_vs_PIT\\home_snap_counts.csv\n",
      "Saved DataFrame vis_snap_counts to raw_data\\2023\\Week3\\2023_Week3_LVR_vs_PIT\\vis_snap_counts.csv\n",
      "Saved DataFrame home_drives to raw_data\\2023\\Week3\\2023_Week3_LVR_vs_PIT\\home_drives.csv\n",
      "Saved DataFrame vis_drives to raw_data\\2023\\Week3\\2023_Week3_LVR_vs_PIT\\vis_drives.csv\n",
      "Saved DataFrame pbp to raw_data\\2023\\Week3\\2023_Week3_LVR_vs_PIT\\pbp.csv\n"
     ]
    },
    {
     "name": "stderr",
     "output_type": "stream",
     "text": [
      "C:\\Users\\jackj\\AppData\\Local\\Temp\\ipykernel_31996\\1469608065.py:49: MarkupResemblesLocatorWarning: The input looks more like a filename than markup. You may want to open this file and pass the filehandle into Beautiful Soup.\n",
      "  comment_soup = BeautifulSoup(comment, 'html.parser')\n"
     ]
    },
    {
     "name": "stdout",
     "output_type": "stream",
     "text": [
      "Saved DataFrame scoring to raw_data\\2023\\Week3\\2023_Week3_TB_vs_PHI\\scoring.csv\n",
      "Saved DataFrame player_offense to raw_data\\2023\\Week3\\2023_Week3_TB_vs_PHI\\player_offense.csv\n",
      "Saved DataFrame game_info to raw_data\\2023\\Week3\\2023_Week3_TB_vs_PHI\\game_info.csv\n",
      "Saved DataFrame officials to raw_data\\2023\\Week3\\2023_Week3_TB_vs_PHI\\officials.csv\n",
      "Saved DataFrame expected_points to raw_data\\2023\\Week3\\2023_Week3_TB_vs_PHI\\expected_points.csv\n",
      "Saved DataFrame team_stats to raw_data\\2023\\Week3\\2023_Week3_TB_vs_PHI\\team_stats.csv\n",
      "Saved DataFrame player_defense to raw_data\\2023\\Week3\\2023_Week3_TB_vs_PHI\\player_defense.csv\n",
      "Saved DataFrame returns to raw_data\\2023\\Week3\\2023_Week3_TB_vs_PHI\\returns.csv\n",
      "Saved DataFrame kicking to raw_data\\2023\\Week3\\2023_Week3_TB_vs_PHI\\kicking.csv\n",
      "Saved DataFrame passing_advanced to raw_data\\2023\\Week3\\2023_Week3_TB_vs_PHI\\passing_advanced.csv\n",
      "Saved DataFrame rushing_advanced to raw_data\\2023\\Week3\\2023_Week3_TB_vs_PHI\\rushing_advanced.csv\n",
      "Saved DataFrame receiving_advanced to raw_data\\2023\\Week3\\2023_Week3_TB_vs_PHI\\receiving_advanced.csv\n",
      "Saved DataFrame defense_advanced to raw_data\\2023\\Week3\\2023_Week3_TB_vs_PHI\\defense_advanced.csv\n",
      "Saved DataFrame home_starters to raw_data\\2023\\Week3\\2023_Week3_TB_vs_PHI\\home_starters.csv\n",
      "Saved DataFrame vis_starters to raw_data\\2023\\Week3\\2023_Week3_TB_vs_PHI\\vis_starters.csv\n",
      "Saved DataFrame home_snap_counts to raw_data\\2023\\Week3\\2023_Week3_TB_vs_PHI\\home_snap_counts.csv\n",
      "Saved DataFrame vis_snap_counts to raw_data\\2023\\Week3\\2023_Week3_TB_vs_PHI\\vis_snap_counts.csv\n",
      "Saved DataFrame home_drives to raw_data\\2023\\Week3\\2023_Week3_TB_vs_PHI\\home_drives.csv\n",
      "Saved DataFrame vis_drives to raw_data\\2023\\Week3\\2023_Week3_TB_vs_PHI\\vis_drives.csv\n",
      "Saved DataFrame pbp to raw_data\\2023\\Week3\\2023_Week3_TB_vs_PHI\\pbp.csv\n"
     ]
    },
    {
     "name": "stderr",
     "output_type": "stream",
     "text": [
      "C:\\Users\\jackj\\AppData\\Local\\Temp\\ipykernel_31996\\1469608065.py:49: MarkupResemblesLocatorWarning: The input looks more like a filename than markup. You may want to open this file and pass the filehandle into Beautiful Soup.\n",
      "  comment_soup = BeautifulSoup(comment, 'html.parser')\n"
     ]
    },
    {
     "name": "stdout",
     "output_type": "stream",
     "text": [
      "Saved DataFrame scoring to raw_data\\2023\\Week3\\2023_Week3_CIN_vs_LAR\\scoring.csv\n",
      "Saved DataFrame player_offense to raw_data\\2023\\Week3\\2023_Week3_CIN_vs_LAR\\player_offense.csv\n",
      "Saved DataFrame game_info to raw_data\\2023\\Week3\\2023_Week3_CIN_vs_LAR\\game_info.csv\n",
      "Saved DataFrame officials to raw_data\\2023\\Week3\\2023_Week3_CIN_vs_LAR\\officials.csv\n",
      "Saved DataFrame expected_points to raw_data\\2023\\Week3\\2023_Week3_CIN_vs_LAR\\expected_points.csv\n",
      "Saved DataFrame team_stats to raw_data\\2023\\Week3\\2023_Week3_CIN_vs_LAR\\team_stats.csv\n",
      "Saved DataFrame player_defense to raw_data\\2023\\Week3\\2023_Week3_CIN_vs_LAR\\player_defense.csv\n",
      "Saved DataFrame returns to raw_data\\2023\\Week3\\2023_Week3_CIN_vs_LAR\\returns.csv\n",
      "Saved DataFrame kicking to raw_data\\2023\\Week3\\2023_Week3_CIN_vs_LAR\\kicking.csv\n",
      "Saved DataFrame passing_advanced to raw_data\\2023\\Week3\\2023_Week3_CIN_vs_LAR\\passing_advanced.csv\n",
      "Saved DataFrame rushing_advanced to raw_data\\2023\\Week3\\2023_Week3_CIN_vs_LAR\\rushing_advanced.csv\n",
      "Saved DataFrame receiving_advanced to raw_data\\2023\\Week3\\2023_Week3_CIN_vs_LAR\\receiving_advanced.csv\n",
      "Saved DataFrame defense_advanced to raw_data\\2023\\Week3\\2023_Week3_CIN_vs_LAR\\defense_advanced.csv\n",
      "Saved DataFrame home_starters to raw_data\\2023\\Week3\\2023_Week3_CIN_vs_LAR\\home_starters.csv\n",
      "Saved DataFrame vis_starters to raw_data\\2023\\Week3\\2023_Week3_CIN_vs_LAR\\vis_starters.csv\n",
      "Saved DataFrame home_snap_counts to raw_data\\2023\\Week3\\2023_Week3_CIN_vs_LAR\\home_snap_counts.csv\n",
      "Saved DataFrame vis_snap_counts to raw_data\\2023\\Week3\\2023_Week3_CIN_vs_LAR\\vis_snap_counts.csv\n",
      "Saved DataFrame home_drives to raw_data\\2023\\Week3\\2023_Week3_CIN_vs_LAR\\home_drives.csv\n",
      "Saved DataFrame vis_drives to raw_data\\2023\\Week3\\2023_Week3_CIN_vs_LAR\\vis_drives.csv\n",
      "Saved DataFrame pbp to raw_data\\2023\\Week3\\2023_Week3_CIN_vs_LAR\\pbp.csv\n"
     ]
    },
    {
     "name": "stderr",
     "output_type": "stream",
     "text": [
      "C:\\Users\\jackj\\AppData\\Local\\Temp\\ipykernel_31996\\1469608065.py:49: MarkupResemblesLocatorWarning: The input looks more like a filename than markup. You may want to open this file and pass the filehandle into Beautiful Soup.\n",
      "  comment_soup = BeautifulSoup(comment, 'html.parser')\n"
     ]
    },
    {
     "name": "stdout",
     "output_type": "stream",
     "text": [
      "Saved DataFrame scoring to raw_data\\2023\\Week4\\2023_Week4_GB_vs_DET\\scoring.csv\n",
      "Saved DataFrame player_offense to raw_data\\2023\\Week4\\2023_Week4_GB_vs_DET\\player_offense.csv\n",
      "Saved DataFrame game_info to raw_data\\2023\\Week4\\2023_Week4_GB_vs_DET\\game_info.csv\n",
      "Saved DataFrame officials to raw_data\\2023\\Week4\\2023_Week4_GB_vs_DET\\officials.csv\n",
      "Saved DataFrame expected_points to raw_data\\2023\\Week4\\2023_Week4_GB_vs_DET\\expected_points.csv\n",
      "Saved DataFrame team_stats to raw_data\\2023\\Week4\\2023_Week4_GB_vs_DET\\team_stats.csv\n",
      "Saved DataFrame player_defense to raw_data\\2023\\Week4\\2023_Week4_GB_vs_DET\\player_defense.csv\n",
      "Saved DataFrame returns to raw_data\\2023\\Week4\\2023_Week4_GB_vs_DET\\returns.csv\n",
      "Saved DataFrame kicking to raw_data\\2023\\Week4\\2023_Week4_GB_vs_DET\\kicking.csv\n",
      "Saved DataFrame passing_advanced to raw_data\\2023\\Week4\\2023_Week4_GB_vs_DET\\passing_advanced.csv\n",
      "Saved DataFrame rushing_advanced to raw_data\\2023\\Week4\\2023_Week4_GB_vs_DET\\rushing_advanced.csv\n",
      "Saved DataFrame receiving_advanced to raw_data\\2023\\Week4\\2023_Week4_GB_vs_DET\\receiving_advanced.csv\n",
      "Saved DataFrame defense_advanced to raw_data\\2023\\Week4\\2023_Week4_GB_vs_DET\\defense_advanced.csv\n",
      "Saved DataFrame home_starters to raw_data\\2023\\Week4\\2023_Week4_GB_vs_DET\\home_starters.csv\n",
      "Saved DataFrame vis_starters to raw_data\\2023\\Week4\\2023_Week4_GB_vs_DET\\vis_starters.csv\n",
      "Saved DataFrame home_snap_counts to raw_data\\2023\\Week4\\2023_Week4_GB_vs_DET\\home_snap_counts.csv\n",
      "Saved DataFrame vis_snap_counts to raw_data\\2023\\Week4\\2023_Week4_GB_vs_DET\\vis_snap_counts.csv\n",
      "Saved DataFrame home_drives to raw_data\\2023\\Week4\\2023_Week4_GB_vs_DET\\home_drives.csv\n",
      "Saved DataFrame vis_drives to raw_data\\2023\\Week4\\2023_Week4_GB_vs_DET\\vis_drives.csv\n",
      "Saved DataFrame pbp to raw_data\\2023\\Week4\\2023_Week4_GB_vs_DET\\pbp.csv\n"
     ]
    },
    {
     "name": "stderr",
     "output_type": "stream",
     "text": [
      "C:\\Users\\jackj\\AppData\\Local\\Temp\\ipykernel_31996\\1469608065.py:49: MarkupResemblesLocatorWarning: The input looks more like a filename than markup. You may want to open this file and pass the filehandle into Beautiful Soup.\n",
      "  comment_soup = BeautifulSoup(comment, 'html.parser')\n"
     ]
    },
    {
     "name": "stdout",
     "output_type": "stream",
     "text": [
      "Saved DataFrame scoring to raw_data\\2023\\Week4\\2023_Week4_JAX_vs_ATL\\scoring.csv\n",
      "Saved DataFrame player_offense to raw_data\\2023\\Week4\\2023_Week4_JAX_vs_ATL\\player_offense.csv\n",
      "Saved DataFrame game_info to raw_data\\2023\\Week4\\2023_Week4_JAX_vs_ATL\\game_info.csv\n",
      "Saved DataFrame officials to raw_data\\2023\\Week4\\2023_Week4_JAX_vs_ATL\\officials.csv\n",
      "Saved DataFrame expected_points to raw_data\\2023\\Week4\\2023_Week4_JAX_vs_ATL\\expected_points.csv\n",
      "Saved DataFrame team_stats to raw_data\\2023\\Week4\\2023_Week4_JAX_vs_ATL\\team_stats.csv\n",
      "Saved DataFrame player_defense to raw_data\\2023\\Week4\\2023_Week4_JAX_vs_ATL\\player_defense.csv\n",
      "Saved DataFrame returns to raw_data\\2023\\Week4\\2023_Week4_JAX_vs_ATL\\returns.csv\n",
      "Saved DataFrame kicking to raw_data\\2023\\Week4\\2023_Week4_JAX_vs_ATL\\kicking.csv\n",
      "Saved DataFrame passing_advanced to raw_data\\2023\\Week4\\2023_Week4_JAX_vs_ATL\\passing_advanced.csv\n",
      "Saved DataFrame rushing_advanced to raw_data\\2023\\Week4\\2023_Week4_JAX_vs_ATL\\rushing_advanced.csv\n",
      "Saved DataFrame receiving_advanced to raw_data\\2023\\Week4\\2023_Week4_JAX_vs_ATL\\receiving_advanced.csv\n",
      "Saved DataFrame defense_advanced to raw_data\\2023\\Week4\\2023_Week4_JAX_vs_ATL\\defense_advanced.csv\n",
      "Saved DataFrame home_starters to raw_data\\2023\\Week4\\2023_Week4_JAX_vs_ATL\\home_starters.csv\n",
      "Saved DataFrame vis_starters to raw_data\\2023\\Week4\\2023_Week4_JAX_vs_ATL\\vis_starters.csv\n",
      "Saved DataFrame home_snap_counts to raw_data\\2023\\Week4\\2023_Week4_JAX_vs_ATL\\home_snap_counts.csv\n",
      "Saved DataFrame vis_snap_counts to raw_data\\2023\\Week4\\2023_Week4_JAX_vs_ATL\\vis_snap_counts.csv\n",
      "Saved DataFrame home_drives to raw_data\\2023\\Week4\\2023_Week4_JAX_vs_ATL\\home_drives.csv\n",
      "Saved DataFrame vis_drives to raw_data\\2023\\Week4\\2023_Week4_JAX_vs_ATL\\vis_drives.csv\n",
      "Saved DataFrame pbp to raw_data\\2023\\Week4\\2023_Week4_JAX_vs_ATL\\pbp.csv\n"
     ]
    },
    {
     "name": "stderr",
     "output_type": "stream",
     "text": [
      "C:\\Users\\jackj\\AppData\\Local\\Temp\\ipykernel_31996\\1469608065.py:49: MarkupResemblesLocatorWarning: The input looks more like a filename than markup. You may want to open this file and pass the filehandle into Beautiful Soup.\n",
      "  comment_soup = BeautifulSoup(comment, 'html.parser')\n"
     ]
    },
    {
     "name": "stdout",
     "output_type": "stream",
     "text": [
      "Saved DataFrame scoring to raw_data\\2023\\Week4\\2023_Week4_BUF_vs_MIA\\scoring.csv\n",
      "Saved DataFrame player_offense to raw_data\\2023\\Week4\\2023_Week4_BUF_vs_MIA\\player_offense.csv\n",
      "Saved DataFrame game_info to raw_data\\2023\\Week4\\2023_Week4_BUF_vs_MIA\\game_info.csv\n",
      "Saved DataFrame officials to raw_data\\2023\\Week4\\2023_Week4_BUF_vs_MIA\\officials.csv\n",
      "Saved DataFrame expected_points to raw_data\\2023\\Week4\\2023_Week4_BUF_vs_MIA\\expected_points.csv\n",
      "Saved DataFrame team_stats to raw_data\\2023\\Week4\\2023_Week4_BUF_vs_MIA\\team_stats.csv\n",
      "Saved DataFrame player_defense to raw_data\\2023\\Week4\\2023_Week4_BUF_vs_MIA\\player_defense.csv\n",
      "Saved DataFrame returns to raw_data\\2023\\Week4\\2023_Week4_BUF_vs_MIA\\returns.csv\n",
      "Saved DataFrame kicking to raw_data\\2023\\Week4\\2023_Week4_BUF_vs_MIA\\kicking.csv\n",
      "Saved DataFrame passing_advanced to raw_data\\2023\\Week4\\2023_Week4_BUF_vs_MIA\\passing_advanced.csv\n",
      "Saved DataFrame rushing_advanced to raw_data\\2023\\Week4\\2023_Week4_BUF_vs_MIA\\rushing_advanced.csv\n",
      "Saved DataFrame receiving_advanced to raw_data\\2023\\Week4\\2023_Week4_BUF_vs_MIA\\receiving_advanced.csv\n",
      "Saved DataFrame defense_advanced to raw_data\\2023\\Week4\\2023_Week4_BUF_vs_MIA\\defense_advanced.csv\n",
      "Saved DataFrame home_starters to raw_data\\2023\\Week4\\2023_Week4_BUF_vs_MIA\\home_starters.csv\n",
      "Saved DataFrame vis_starters to raw_data\\2023\\Week4\\2023_Week4_BUF_vs_MIA\\vis_starters.csv\n",
      "Saved DataFrame home_snap_counts to raw_data\\2023\\Week4\\2023_Week4_BUF_vs_MIA\\home_snap_counts.csv\n",
      "Saved DataFrame vis_snap_counts to raw_data\\2023\\Week4\\2023_Week4_BUF_vs_MIA\\vis_snap_counts.csv\n",
      "Saved DataFrame home_drives to raw_data\\2023\\Week4\\2023_Week4_BUF_vs_MIA\\home_drives.csv\n",
      "Saved DataFrame vis_drives to raw_data\\2023\\Week4\\2023_Week4_BUF_vs_MIA\\vis_drives.csv\n",
      "Saved DataFrame pbp to raw_data\\2023\\Week4\\2023_Week4_BUF_vs_MIA\\pbp.csv\n"
     ]
    },
    {
     "name": "stderr",
     "output_type": "stream",
     "text": [
      "C:\\Users\\jackj\\AppData\\Local\\Temp\\ipykernel_31996\\1469608065.py:49: MarkupResemblesLocatorWarning: The input looks more like a filename than markup. You may want to open this file and pass the filehandle into Beautiful Soup.\n",
      "  comment_soup = BeautifulSoup(comment, 'html.parser')\n"
     ]
    },
    {
     "name": "stdout",
     "output_type": "stream",
     "text": [
      "Saved DataFrame scoring to raw_data\\2023\\Week4\\2023_Week4_CAR_vs_MIN\\scoring.csv\n",
      "Saved DataFrame player_offense to raw_data\\2023\\Week4\\2023_Week4_CAR_vs_MIN\\player_offense.csv\n",
      "Saved DataFrame game_info to raw_data\\2023\\Week4\\2023_Week4_CAR_vs_MIN\\game_info.csv\n",
      "Saved DataFrame officials to raw_data\\2023\\Week4\\2023_Week4_CAR_vs_MIN\\officials.csv\n",
      "Saved DataFrame expected_points to raw_data\\2023\\Week4\\2023_Week4_CAR_vs_MIN\\expected_points.csv\n",
      "Saved DataFrame team_stats to raw_data\\2023\\Week4\\2023_Week4_CAR_vs_MIN\\team_stats.csv\n",
      "Saved DataFrame player_defense to raw_data\\2023\\Week4\\2023_Week4_CAR_vs_MIN\\player_defense.csv\n",
      "Saved DataFrame returns to raw_data\\2023\\Week4\\2023_Week4_CAR_vs_MIN\\returns.csv\n",
      "Saved DataFrame kicking to raw_data\\2023\\Week4\\2023_Week4_CAR_vs_MIN\\kicking.csv\n",
      "Saved DataFrame passing_advanced to raw_data\\2023\\Week4\\2023_Week4_CAR_vs_MIN\\passing_advanced.csv\n",
      "Saved DataFrame rushing_advanced to raw_data\\2023\\Week4\\2023_Week4_CAR_vs_MIN\\rushing_advanced.csv\n",
      "Saved DataFrame receiving_advanced to raw_data\\2023\\Week4\\2023_Week4_CAR_vs_MIN\\receiving_advanced.csv\n",
      "Saved DataFrame defense_advanced to raw_data\\2023\\Week4\\2023_Week4_CAR_vs_MIN\\defense_advanced.csv\n",
      "Saved DataFrame home_starters to raw_data\\2023\\Week4\\2023_Week4_CAR_vs_MIN\\home_starters.csv\n",
      "Saved DataFrame vis_starters to raw_data\\2023\\Week4\\2023_Week4_CAR_vs_MIN\\vis_starters.csv\n",
      "Saved DataFrame home_snap_counts to raw_data\\2023\\Week4\\2023_Week4_CAR_vs_MIN\\home_snap_counts.csv\n",
      "Saved DataFrame vis_snap_counts to raw_data\\2023\\Week4\\2023_Week4_CAR_vs_MIN\\vis_snap_counts.csv\n",
      "Saved DataFrame home_drives to raw_data\\2023\\Week4\\2023_Week4_CAR_vs_MIN\\home_drives.csv\n",
      "Saved DataFrame vis_drives to raw_data\\2023\\Week4\\2023_Week4_CAR_vs_MIN\\vis_drives.csv\n",
      "Saved DataFrame pbp to raw_data\\2023\\Week4\\2023_Week4_CAR_vs_MIN\\pbp.csv\n"
     ]
    },
    {
     "name": "stderr",
     "output_type": "stream",
     "text": [
      "C:\\Users\\jackj\\AppData\\Local\\Temp\\ipykernel_31996\\1469608065.py:49: MarkupResemblesLocatorWarning: The input looks more like a filename than markup. You may want to open this file and pass the filehandle into Beautiful Soup.\n",
      "  comment_soup = BeautifulSoup(comment, 'html.parser')\n"
     ]
    },
    {
     "name": "stdout",
     "output_type": "stream",
     "text": [
      "Saved DataFrame scoring to raw_data\\2023\\Week4\\2023_Week4_CHI_vs_DEN\\scoring.csv\n",
      "Saved DataFrame player_offense to raw_data\\2023\\Week4\\2023_Week4_CHI_vs_DEN\\player_offense.csv\n",
      "Saved DataFrame game_info to raw_data\\2023\\Week4\\2023_Week4_CHI_vs_DEN\\game_info.csv\n",
      "Saved DataFrame officials to raw_data\\2023\\Week4\\2023_Week4_CHI_vs_DEN\\officials.csv\n",
      "Saved DataFrame expected_points to raw_data\\2023\\Week4\\2023_Week4_CHI_vs_DEN\\expected_points.csv\n",
      "Saved DataFrame team_stats to raw_data\\2023\\Week4\\2023_Week4_CHI_vs_DEN\\team_stats.csv\n",
      "Saved DataFrame player_defense to raw_data\\2023\\Week4\\2023_Week4_CHI_vs_DEN\\player_defense.csv\n",
      "Saved DataFrame returns to raw_data\\2023\\Week4\\2023_Week4_CHI_vs_DEN\\returns.csv\n",
      "Saved DataFrame kicking to raw_data\\2023\\Week4\\2023_Week4_CHI_vs_DEN\\kicking.csv\n",
      "Saved DataFrame passing_advanced to raw_data\\2023\\Week4\\2023_Week4_CHI_vs_DEN\\passing_advanced.csv\n",
      "Saved DataFrame rushing_advanced to raw_data\\2023\\Week4\\2023_Week4_CHI_vs_DEN\\rushing_advanced.csv\n",
      "Saved DataFrame receiving_advanced to raw_data\\2023\\Week4\\2023_Week4_CHI_vs_DEN\\receiving_advanced.csv\n",
      "Saved DataFrame defense_advanced to raw_data\\2023\\Week4\\2023_Week4_CHI_vs_DEN\\defense_advanced.csv\n",
      "Saved DataFrame home_starters to raw_data\\2023\\Week4\\2023_Week4_CHI_vs_DEN\\home_starters.csv\n",
      "Saved DataFrame vis_starters to raw_data\\2023\\Week4\\2023_Week4_CHI_vs_DEN\\vis_starters.csv\n",
      "Saved DataFrame home_snap_counts to raw_data\\2023\\Week4\\2023_Week4_CHI_vs_DEN\\home_snap_counts.csv\n",
      "Saved DataFrame vis_snap_counts to raw_data\\2023\\Week4\\2023_Week4_CHI_vs_DEN\\vis_snap_counts.csv\n",
      "Saved DataFrame home_drives to raw_data\\2023\\Week4\\2023_Week4_CHI_vs_DEN\\home_drives.csv\n",
      "Saved DataFrame vis_drives to raw_data\\2023\\Week4\\2023_Week4_CHI_vs_DEN\\vis_drives.csv\n",
      "Saved DataFrame pbp to raw_data\\2023\\Week4\\2023_Week4_CHI_vs_DEN\\pbp.csv\n"
     ]
    },
    {
     "name": "stderr",
     "output_type": "stream",
     "text": [
      "C:\\Users\\jackj\\AppData\\Local\\Temp\\ipykernel_31996\\1469608065.py:49: MarkupResemblesLocatorWarning: The input looks more like a filename than markup. You may want to open this file and pass the filehandle into Beautiful Soup.\n",
      "  comment_soup = BeautifulSoup(comment, 'html.parser')\n"
     ]
    },
    {
     "name": "stdout",
     "output_type": "stream",
     "text": [
      "Saved DataFrame scoring to raw_data\\2023\\Week4\\2023_Week4_TEN_vs_CIN\\scoring.csv\n",
      "Saved DataFrame player_offense to raw_data\\2023\\Week4\\2023_Week4_TEN_vs_CIN\\player_offense.csv\n",
      "Saved DataFrame game_info to raw_data\\2023\\Week4\\2023_Week4_TEN_vs_CIN\\game_info.csv\n",
      "Saved DataFrame officials to raw_data\\2023\\Week4\\2023_Week4_TEN_vs_CIN\\officials.csv\n",
      "Saved DataFrame expected_points to raw_data\\2023\\Week4\\2023_Week4_TEN_vs_CIN\\expected_points.csv\n",
      "Saved DataFrame team_stats to raw_data\\2023\\Week4\\2023_Week4_TEN_vs_CIN\\team_stats.csv\n",
      "Saved DataFrame player_defense to raw_data\\2023\\Week4\\2023_Week4_TEN_vs_CIN\\player_defense.csv\n",
      "Saved DataFrame returns to raw_data\\2023\\Week4\\2023_Week4_TEN_vs_CIN\\returns.csv\n",
      "Saved DataFrame kicking to raw_data\\2023\\Week4\\2023_Week4_TEN_vs_CIN\\kicking.csv\n",
      "Saved DataFrame passing_advanced to raw_data\\2023\\Week4\\2023_Week4_TEN_vs_CIN\\passing_advanced.csv\n",
      "Saved DataFrame rushing_advanced to raw_data\\2023\\Week4\\2023_Week4_TEN_vs_CIN\\rushing_advanced.csv\n",
      "Saved DataFrame receiving_advanced to raw_data\\2023\\Week4\\2023_Week4_TEN_vs_CIN\\receiving_advanced.csv\n",
      "Saved DataFrame defense_advanced to raw_data\\2023\\Week4\\2023_Week4_TEN_vs_CIN\\defense_advanced.csv\n",
      "Saved DataFrame home_starters to raw_data\\2023\\Week4\\2023_Week4_TEN_vs_CIN\\home_starters.csv\n",
      "Saved DataFrame vis_starters to raw_data\\2023\\Week4\\2023_Week4_TEN_vs_CIN\\vis_starters.csv\n",
      "Saved DataFrame home_snap_counts to raw_data\\2023\\Week4\\2023_Week4_TEN_vs_CIN\\home_snap_counts.csv\n",
      "Saved DataFrame vis_snap_counts to raw_data\\2023\\Week4\\2023_Week4_TEN_vs_CIN\\vis_snap_counts.csv\n",
      "Saved DataFrame home_drives to raw_data\\2023\\Week4\\2023_Week4_TEN_vs_CIN\\home_drives.csv\n",
      "Saved DataFrame vis_drives to raw_data\\2023\\Week4\\2023_Week4_TEN_vs_CIN\\vis_drives.csv\n",
      "Saved DataFrame pbp to raw_data\\2023\\Week4\\2023_Week4_TEN_vs_CIN\\pbp.csv\n"
     ]
    },
    {
     "name": "stderr",
     "output_type": "stream",
     "text": [
      "C:\\Users\\jackj\\AppData\\Local\\Temp\\ipykernel_31996\\1469608065.py:49: MarkupResemblesLocatorWarning: The input looks more like a filename than markup. You may want to open this file and pass the filehandle into Beautiful Soup.\n",
      "  comment_soup = BeautifulSoup(comment, 'html.parser')\n"
     ]
    },
    {
     "name": "stdout",
     "output_type": "stream",
     "text": [
      "Saved DataFrame scoring to raw_data\\2023\\Week4\\2023_Week4_CLE_vs_BAL\\scoring.csv\n",
      "Saved DataFrame player_offense to raw_data\\2023\\Week4\\2023_Week4_CLE_vs_BAL\\player_offense.csv\n",
      "Saved DataFrame game_info to raw_data\\2023\\Week4\\2023_Week4_CLE_vs_BAL\\game_info.csv\n",
      "Saved DataFrame officials to raw_data\\2023\\Week4\\2023_Week4_CLE_vs_BAL\\officials.csv\n",
      "Saved DataFrame expected_points to raw_data\\2023\\Week4\\2023_Week4_CLE_vs_BAL\\expected_points.csv\n",
      "Saved DataFrame team_stats to raw_data\\2023\\Week4\\2023_Week4_CLE_vs_BAL\\team_stats.csv\n",
      "Saved DataFrame player_defense to raw_data\\2023\\Week4\\2023_Week4_CLE_vs_BAL\\player_defense.csv\n",
      "Saved DataFrame returns to raw_data\\2023\\Week4\\2023_Week4_CLE_vs_BAL\\returns.csv\n",
      "Saved DataFrame kicking to raw_data\\2023\\Week4\\2023_Week4_CLE_vs_BAL\\kicking.csv\n",
      "Saved DataFrame passing_advanced to raw_data\\2023\\Week4\\2023_Week4_CLE_vs_BAL\\passing_advanced.csv\n",
      "Saved DataFrame rushing_advanced to raw_data\\2023\\Week4\\2023_Week4_CLE_vs_BAL\\rushing_advanced.csv\n",
      "Saved DataFrame receiving_advanced to raw_data\\2023\\Week4\\2023_Week4_CLE_vs_BAL\\receiving_advanced.csv\n",
      "Saved DataFrame defense_advanced to raw_data\\2023\\Week4\\2023_Week4_CLE_vs_BAL\\defense_advanced.csv\n",
      "Saved DataFrame home_starters to raw_data\\2023\\Week4\\2023_Week4_CLE_vs_BAL\\home_starters.csv\n",
      "Saved DataFrame vis_starters to raw_data\\2023\\Week4\\2023_Week4_CLE_vs_BAL\\vis_starters.csv\n",
      "Saved DataFrame home_snap_counts to raw_data\\2023\\Week4\\2023_Week4_CLE_vs_BAL\\home_snap_counts.csv\n",
      "Saved DataFrame vis_snap_counts to raw_data\\2023\\Week4\\2023_Week4_CLE_vs_BAL\\vis_snap_counts.csv\n",
      "Saved DataFrame home_drives to raw_data\\2023\\Week4\\2023_Week4_CLE_vs_BAL\\home_drives.csv\n",
      "Saved DataFrame vis_drives to raw_data\\2023\\Week4\\2023_Week4_CLE_vs_BAL\\vis_drives.csv\n",
      "Saved DataFrame pbp to raw_data\\2023\\Week4\\2023_Week4_CLE_vs_BAL\\pbp.csv\n"
     ]
    },
    {
     "name": "stderr",
     "output_type": "stream",
     "text": [
      "C:\\Users\\jackj\\AppData\\Local\\Temp\\ipykernel_31996\\1469608065.py:49: MarkupResemblesLocatorWarning: The input looks more like a filename than markup. You may want to open this file and pass the filehandle into Beautiful Soup.\n",
      "  comment_soup = BeautifulSoup(comment, 'html.parser')\n"
     ]
    },
    {
     "name": "stdout",
     "output_type": "stream",
     "text": [
      "Saved DataFrame scoring to raw_data\\2023\\Week4\\2023_Week4_IND_vs_LAR\\scoring.csv\n",
      "Saved DataFrame player_offense to raw_data\\2023\\Week4\\2023_Week4_IND_vs_LAR\\player_offense.csv\n",
      "Saved DataFrame game_info to raw_data\\2023\\Week4\\2023_Week4_IND_vs_LAR\\game_info.csv\n",
      "Saved DataFrame officials to raw_data\\2023\\Week4\\2023_Week4_IND_vs_LAR\\officials.csv\n",
      "Saved DataFrame expected_points to raw_data\\2023\\Week4\\2023_Week4_IND_vs_LAR\\expected_points.csv\n",
      "Saved DataFrame team_stats to raw_data\\2023\\Week4\\2023_Week4_IND_vs_LAR\\team_stats.csv\n",
      "Saved DataFrame player_defense to raw_data\\2023\\Week4\\2023_Week4_IND_vs_LAR\\player_defense.csv\n",
      "Saved DataFrame returns to raw_data\\2023\\Week4\\2023_Week4_IND_vs_LAR\\returns.csv\n",
      "Saved DataFrame kicking to raw_data\\2023\\Week4\\2023_Week4_IND_vs_LAR\\kicking.csv\n",
      "Saved DataFrame passing_advanced to raw_data\\2023\\Week4\\2023_Week4_IND_vs_LAR\\passing_advanced.csv\n",
      "Saved DataFrame rushing_advanced to raw_data\\2023\\Week4\\2023_Week4_IND_vs_LAR\\rushing_advanced.csv\n",
      "Saved DataFrame receiving_advanced to raw_data\\2023\\Week4\\2023_Week4_IND_vs_LAR\\receiving_advanced.csv\n",
      "Saved DataFrame defense_advanced to raw_data\\2023\\Week4\\2023_Week4_IND_vs_LAR\\defense_advanced.csv\n",
      "Saved DataFrame home_starters to raw_data\\2023\\Week4\\2023_Week4_IND_vs_LAR\\home_starters.csv\n",
      "Saved DataFrame vis_starters to raw_data\\2023\\Week4\\2023_Week4_IND_vs_LAR\\vis_starters.csv\n",
      "Saved DataFrame home_snap_counts to raw_data\\2023\\Week4\\2023_Week4_IND_vs_LAR\\home_snap_counts.csv\n",
      "Saved DataFrame vis_snap_counts to raw_data\\2023\\Week4\\2023_Week4_IND_vs_LAR\\vis_snap_counts.csv\n",
      "Saved DataFrame home_drives to raw_data\\2023\\Week4\\2023_Week4_IND_vs_LAR\\home_drives.csv\n",
      "Saved DataFrame vis_drives to raw_data\\2023\\Week4\\2023_Week4_IND_vs_LAR\\vis_drives.csv\n",
      "Saved DataFrame pbp to raw_data\\2023\\Week4\\2023_Week4_IND_vs_LAR\\pbp.csv\n"
     ]
    },
    {
     "name": "stderr",
     "output_type": "stream",
     "text": [
      "C:\\Users\\jackj\\AppData\\Local\\Temp\\ipykernel_31996\\1469608065.py:49: MarkupResemblesLocatorWarning: The input looks more like a filename than markup. You may want to open this file and pass the filehandle into Beautiful Soup.\n",
      "  comment_soup = BeautifulSoup(comment, 'html.parser')\n"
     ]
    },
    {
     "name": "stdout",
     "output_type": "stream",
     "text": [
      "Saved DataFrame scoring to raw_data\\2023\\Week4\\2023_Week4_HOU_vs_PIT\\scoring.csv\n",
      "Saved DataFrame player_offense to raw_data\\2023\\Week4\\2023_Week4_HOU_vs_PIT\\player_offense.csv\n",
      "Saved DataFrame game_info to raw_data\\2023\\Week4\\2023_Week4_HOU_vs_PIT\\game_info.csv\n",
      "Saved DataFrame officials to raw_data\\2023\\Week4\\2023_Week4_HOU_vs_PIT\\officials.csv\n",
      "Saved DataFrame expected_points to raw_data\\2023\\Week4\\2023_Week4_HOU_vs_PIT\\expected_points.csv\n",
      "Saved DataFrame team_stats to raw_data\\2023\\Week4\\2023_Week4_HOU_vs_PIT\\team_stats.csv\n",
      "Saved DataFrame player_defense to raw_data\\2023\\Week4\\2023_Week4_HOU_vs_PIT\\player_defense.csv\n",
      "Saved DataFrame returns to raw_data\\2023\\Week4\\2023_Week4_HOU_vs_PIT\\returns.csv\n",
      "Saved DataFrame kicking to raw_data\\2023\\Week4\\2023_Week4_HOU_vs_PIT\\kicking.csv\n",
      "Saved DataFrame passing_advanced to raw_data\\2023\\Week4\\2023_Week4_HOU_vs_PIT\\passing_advanced.csv\n",
      "Saved DataFrame rushing_advanced to raw_data\\2023\\Week4\\2023_Week4_HOU_vs_PIT\\rushing_advanced.csv\n",
      "Saved DataFrame receiving_advanced to raw_data\\2023\\Week4\\2023_Week4_HOU_vs_PIT\\receiving_advanced.csv\n",
      "Saved DataFrame defense_advanced to raw_data\\2023\\Week4\\2023_Week4_HOU_vs_PIT\\defense_advanced.csv\n",
      "Saved DataFrame home_starters to raw_data\\2023\\Week4\\2023_Week4_HOU_vs_PIT\\home_starters.csv\n",
      "Saved DataFrame vis_starters to raw_data\\2023\\Week4\\2023_Week4_HOU_vs_PIT\\vis_starters.csv\n",
      "Saved DataFrame home_snap_counts to raw_data\\2023\\Week4\\2023_Week4_HOU_vs_PIT\\home_snap_counts.csv\n",
      "Saved DataFrame vis_snap_counts to raw_data\\2023\\Week4\\2023_Week4_HOU_vs_PIT\\vis_snap_counts.csv\n",
      "Saved DataFrame home_drives to raw_data\\2023\\Week4\\2023_Week4_HOU_vs_PIT\\home_drives.csv\n",
      "Saved DataFrame vis_drives to raw_data\\2023\\Week4\\2023_Week4_HOU_vs_PIT\\vis_drives.csv\n",
      "Saved DataFrame pbp to raw_data\\2023\\Week4\\2023_Week4_HOU_vs_PIT\\pbp.csv\n",
      "Reached 20 requests, sleeping for 60 seconds...\n"
     ]
    },
    {
     "name": "stderr",
     "output_type": "stream",
     "text": [
      "C:\\Users\\jackj\\AppData\\Local\\Temp\\ipykernel_31996\\1469608065.py:49: MarkupResemblesLocatorWarning: The input looks more like a filename than markup. You may want to open this file and pass the filehandle into Beautiful Soup.\n",
      "  comment_soup = BeautifulSoup(comment, 'html.parser')\n"
     ]
    },
    {
     "name": "stdout",
     "output_type": "stream",
     "text": [
      "Saved DataFrame scoring to raw_data\\2023\\Week4\\2023_Week4_NO_vs_TB\\scoring.csv\n",
      "Saved DataFrame player_offense to raw_data\\2023\\Week4\\2023_Week4_NO_vs_TB\\player_offense.csv\n",
      "Saved DataFrame game_info to raw_data\\2023\\Week4\\2023_Week4_NO_vs_TB\\game_info.csv\n",
      "Saved DataFrame officials to raw_data\\2023\\Week4\\2023_Week4_NO_vs_TB\\officials.csv\n",
      "Saved DataFrame expected_points to raw_data\\2023\\Week4\\2023_Week4_NO_vs_TB\\expected_points.csv\n",
      "Saved DataFrame team_stats to raw_data\\2023\\Week4\\2023_Week4_NO_vs_TB\\team_stats.csv\n",
      "Saved DataFrame player_defense to raw_data\\2023\\Week4\\2023_Week4_NO_vs_TB\\player_defense.csv\n",
      "Saved DataFrame returns to raw_data\\2023\\Week4\\2023_Week4_NO_vs_TB\\returns.csv\n",
      "Saved DataFrame kicking to raw_data\\2023\\Week4\\2023_Week4_NO_vs_TB\\kicking.csv\n",
      "Saved DataFrame passing_advanced to raw_data\\2023\\Week4\\2023_Week4_NO_vs_TB\\passing_advanced.csv\n",
      "Saved DataFrame rushing_advanced to raw_data\\2023\\Week4\\2023_Week4_NO_vs_TB\\rushing_advanced.csv\n",
      "Saved DataFrame receiving_advanced to raw_data\\2023\\Week4\\2023_Week4_NO_vs_TB\\receiving_advanced.csv\n",
      "Saved DataFrame defense_advanced to raw_data\\2023\\Week4\\2023_Week4_NO_vs_TB\\defense_advanced.csv\n",
      "Saved DataFrame home_starters to raw_data\\2023\\Week4\\2023_Week4_NO_vs_TB\\home_starters.csv\n",
      "Saved DataFrame vis_starters to raw_data\\2023\\Week4\\2023_Week4_NO_vs_TB\\vis_starters.csv\n",
      "Saved DataFrame home_snap_counts to raw_data\\2023\\Week4\\2023_Week4_NO_vs_TB\\home_snap_counts.csv\n",
      "Saved DataFrame vis_snap_counts to raw_data\\2023\\Week4\\2023_Week4_NO_vs_TB\\vis_snap_counts.csv\n",
      "Saved DataFrame home_drives to raw_data\\2023\\Week4\\2023_Week4_NO_vs_TB\\home_drives.csv\n",
      "Saved DataFrame vis_drives to raw_data\\2023\\Week4\\2023_Week4_NO_vs_TB\\vis_drives.csv\n",
      "Saved DataFrame pbp to raw_data\\2023\\Week4\\2023_Week4_NO_vs_TB\\pbp.csv\n"
     ]
    },
    {
     "name": "stderr",
     "output_type": "stream",
     "text": [
      "C:\\Users\\jackj\\AppData\\Local\\Temp\\ipykernel_31996\\1469608065.py:49: MarkupResemblesLocatorWarning: The input looks more like a filename than markup. You may want to open this file and pass the filehandle into Beautiful Soup.\n",
      "  comment_soup = BeautifulSoup(comment, 'html.parser')\n"
     ]
    },
    {
     "name": "stdout",
     "output_type": "stream",
     "text": [
      "Saved DataFrame scoring to raw_data\\2023\\Week4\\2023_Week4_PHI_vs_WAS\\scoring.csv\n",
      "Saved DataFrame player_offense to raw_data\\2023\\Week4\\2023_Week4_PHI_vs_WAS\\player_offense.csv\n",
      "Saved DataFrame game_info to raw_data\\2023\\Week4\\2023_Week4_PHI_vs_WAS\\game_info.csv\n",
      "Saved DataFrame officials to raw_data\\2023\\Week4\\2023_Week4_PHI_vs_WAS\\officials.csv\n",
      "Saved DataFrame expected_points to raw_data\\2023\\Week4\\2023_Week4_PHI_vs_WAS\\expected_points.csv\n",
      "Saved DataFrame team_stats to raw_data\\2023\\Week4\\2023_Week4_PHI_vs_WAS\\team_stats.csv\n",
      "Saved DataFrame player_defense to raw_data\\2023\\Week4\\2023_Week4_PHI_vs_WAS\\player_defense.csv\n",
      "Saved DataFrame returns to raw_data\\2023\\Week4\\2023_Week4_PHI_vs_WAS\\returns.csv\n",
      "Saved DataFrame kicking to raw_data\\2023\\Week4\\2023_Week4_PHI_vs_WAS\\kicking.csv\n",
      "Saved DataFrame passing_advanced to raw_data\\2023\\Week4\\2023_Week4_PHI_vs_WAS\\passing_advanced.csv\n",
      "Saved DataFrame rushing_advanced to raw_data\\2023\\Week4\\2023_Week4_PHI_vs_WAS\\rushing_advanced.csv\n",
      "Saved DataFrame receiving_advanced to raw_data\\2023\\Week4\\2023_Week4_PHI_vs_WAS\\receiving_advanced.csv\n",
      "Saved DataFrame defense_advanced to raw_data\\2023\\Week4\\2023_Week4_PHI_vs_WAS\\defense_advanced.csv\n",
      "Saved DataFrame home_starters to raw_data\\2023\\Week4\\2023_Week4_PHI_vs_WAS\\home_starters.csv\n",
      "Saved DataFrame vis_starters to raw_data\\2023\\Week4\\2023_Week4_PHI_vs_WAS\\vis_starters.csv\n",
      "Saved DataFrame home_snap_counts to raw_data\\2023\\Week4\\2023_Week4_PHI_vs_WAS\\home_snap_counts.csv\n",
      "Saved DataFrame vis_snap_counts to raw_data\\2023\\Week4\\2023_Week4_PHI_vs_WAS\\vis_snap_counts.csv\n",
      "Saved DataFrame home_drives to raw_data\\2023\\Week4\\2023_Week4_PHI_vs_WAS\\home_drives.csv\n",
      "Saved DataFrame vis_drives to raw_data\\2023\\Week4\\2023_Week4_PHI_vs_WAS\\vis_drives.csv\n",
      "Saved DataFrame pbp to raw_data\\2023\\Week4\\2023_Week4_PHI_vs_WAS\\pbp.csv\n"
     ]
    },
    {
     "name": "stderr",
     "output_type": "stream",
     "text": [
      "C:\\Users\\jackj\\AppData\\Local\\Temp\\ipykernel_31996\\1469608065.py:49: MarkupResemblesLocatorWarning: The input looks more like a filename than markup. You may want to open this file and pass the filehandle into Beautiful Soup.\n",
      "  comment_soup = BeautifulSoup(comment, 'html.parser')\n"
     ]
    },
    {
     "name": "stdout",
     "output_type": "stream",
     "text": [
      "Saved DataFrame scoring to raw_data\\2023\\Week4\\2023_Week4_LAC_vs_LVR\\scoring.csv\n",
      "Saved DataFrame player_offense to raw_data\\2023\\Week4\\2023_Week4_LAC_vs_LVR\\player_offense.csv\n",
      "Saved DataFrame game_info to raw_data\\2023\\Week4\\2023_Week4_LAC_vs_LVR\\game_info.csv\n",
      "Saved DataFrame officials to raw_data\\2023\\Week4\\2023_Week4_LAC_vs_LVR\\officials.csv\n",
      "Saved DataFrame expected_points to raw_data\\2023\\Week4\\2023_Week4_LAC_vs_LVR\\expected_points.csv\n",
      "Saved DataFrame team_stats to raw_data\\2023\\Week4\\2023_Week4_LAC_vs_LVR\\team_stats.csv\n",
      "Saved DataFrame player_defense to raw_data\\2023\\Week4\\2023_Week4_LAC_vs_LVR\\player_defense.csv\n",
      "Saved DataFrame returns to raw_data\\2023\\Week4\\2023_Week4_LAC_vs_LVR\\returns.csv\n",
      "Saved DataFrame kicking to raw_data\\2023\\Week4\\2023_Week4_LAC_vs_LVR\\kicking.csv\n",
      "Saved DataFrame passing_advanced to raw_data\\2023\\Week4\\2023_Week4_LAC_vs_LVR\\passing_advanced.csv\n",
      "Saved DataFrame rushing_advanced to raw_data\\2023\\Week4\\2023_Week4_LAC_vs_LVR\\rushing_advanced.csv\n",
      "Saved DataFrame receiving_advanced to raw_data\\2023\\Week4\\2023_Week4_LAC_vs_LVR\\receiving_advanced.csv\n",
      "Saved DataFrame defense_advanced to raw_data\\2023\\Week4\\2023_Week4_LAC_vs_LVR\\defense_advanced.csv\n",
      "Saved DataFrame home_starters to raw_data\\2023\\Week4\\2023_Week4_LAC_vs_LVR\\home_starters.csv\n",
      "Saved DataFrame vis_starters to raw_data\\2023\\Week4\\2023_Week4_LAC_vs_LVR\\vis_starters.csv\n",
      "Saved DataFrame home_snap_counts to raw_data\\2023\\Week4\\2023_Week4_LAC_vs_LVR\\home_snap_counts.csv\n",
      "Saved DataFrame vis_snap_counts to raw_data\\2023\\Week4\\2023_Week4_LAC_vs_LVR\\vis_snap_counts.csv\n",
      "Saved DataFrame home_drives to raw_data\\2023\\Week4\\2023_Week4_LAC_vs_LVR\\home_drives.csv\n",
      "Saved DataFrame vis_drives to raw_data\\2023\\Week4\\2023_Week4_LAC_vs_LVR\\vis_drives.csv\n",
      "Saved DataFrame pbp to raw_data\\2023\\Week4\\2023_Week4_LAC_vs_LVR\\pbp.csv\n"
     ]
    },
    {
     "name": "stderr",
     "output_type": "stream",
     "text": [
      "C:\\Users\\jackj\\AppData\\Local\\Temp\\ipykernel_31996\\1469608065.py:49: MarkupResemblesLocatorWarning: The input looks more like a filename than markup. You may want to open this file and pass the filehandle into Beautiful Soup.\n",
      "  comment_soup = BeautifulSoup(comment, 'html.parser')\n"
     ]
    },
    {
     "name": "stdout",
     "output_type": "stream",
     "text": [
      "Saved DataFrame scoring to raw_data\\2023\\Week4\\2023_Week4_SF_vs_ARI\\scoring.csv\n",
      "Saved DataFrame player_offense to raw_data\\2023\\Week4\\2023_Week4_SF_vs_ARI\\player_offense.csv\n",
      "Saved DataFrame game_info to raw_data\\2023\\Week4\\2023_Week4_SF_vs_ARI\\game_info.csv\n",
      "Saved DataFrame officials to raw_data\\2023\\Week4\\2023_Week4_SF_vs_ARI\\officials.csv\n",
      "Saved DataFrame expected_points to raw_data\\2023\\Week4\\2023_Week4_SF_vs_ARI\\expected_points.csv\n",
      "Saved DataFrame team_stats to raw_data\\2023\\Week4\\2023_Week4_SF_vs_ARI\\team_stats.csv\n",
      "Saved DataFrame player_defense to raw_data\\2023\\Week4\\2023_Week4_SF_vs_ARI\\player_defense.csv\n",
      "Saved DataFrame returns to raw_data\\2023\\Week4\\2023_Week4_SF_vs_ARI\\returns.csv\n",
      "Saved DataFrame kicking to raw_data\\2023\\Week4\\2023_Week4_SF_vs_ARI\\kicking.csv\n",
      "Saved DataFrame passing_advanced to raw_data\\2023\\Week4\\2023_Week4_SF_vs_ARI\\passing_advanced.csv\n",
      "Saved DataFrame rushing_advanced to raw_data\\2023\\Week4\\2023_Week4_SF_vs_ARI\\rushing_advanced.csv\n",
      "Saved DataFrame receiving_advanced to raw_data\\2023\\Week4\\2023_Week4_SF_vs_ARI\\receiving_advanced.csv\n",
      "Saved DataFrame defense_advanced to raw_data\\2023\\Week4\\2023_Week4_SF_vs_ARI\\defense_advanced.csv\n",
      "Saved DataFrame home_starters to raw_data\\2023\\Week4\\2023_Week4_SF_vs_ARI\\home_starters.csv\n",
      "Saved DataFrame vis_starters to raw_data\\2023\\Week4\\2023_Week4_SF_vs_ARI\\vis_starters.csv\n",
      "Saved DataFrame home_snap_counts to raw_data\\2023\\Week4\\2023_Week4_SF_vs_ARI\\home_snap_counts.csv\n",
      "Saved DataFrame vis_snap_counts to raw_data\\2023\\Week4\\2023_Week4_SF_vs_ARI\\vis_snap_counts.csv\n",
      "Saved DataFrame home_drives to raw_data\\2023\\Week4\\2023_Week4_SF_vs_ARI\\home_drives.csv\n",
      "Saved DataFrame vis_drives to raw_data\\2023\\Week4\\2023_Week4_SF_vs_ARI\\vis_drives.csv\n",
      "Saved DataFrame pbp to raw_data\\2023\\Week4\\2023_Week4_SF_vs_ARI\\pbp.csv\n"
     ]
    },
    {
     "name": "stderr",
     "output_type": "stream",
     "text": [
      "C:\\Users\\jackj\\AppData\\Local\\Temp\\ipykernel_31996\\1469608065.py:49: MarkupResemblesLocatorWarning: The input looks more like a filename than markup. You may want to open this file and pass the filehandle into Beautiful Soup.\n",
      "  comment_soup = BeautifulSoup(comment, 'html.parser')\n"
     ]
    },
    {
     "name": "stdout",
     "output_type": "stream",
     "text": [
      "Saved DataFrame scoring to raw_data\\2023\\Week4\\2023_Week4_DAL_vs_NE\\scoring.csv\n",
      "Saved DataFrame player_offense to raw_data\\2023\\Week4\\2023_Week4_DAL_vs_NE\\player_offense.csv\n",
      "Saved DataFrame game_info to raw_data\\2023\\Week4\\2023_Week4_DAL_vs_NE\\game_info.csv\n",
      "Saved DataFrame officials to raw_data\\2023\\Week4\\2023_Week4_DAL_vs_NE\\officials.csv\n",
      "Saved DataFrame expected_points to raw_data\\2023\\Week4\\2023_Week4_DAL_vs_NE\\expected_points.csv\n",
      "Saved DataFrame team_stats to raw_data\\2023\\Week4\\2023_Week4_DAL_vs_NE\\team_stats.csv\n",
      "Saved DataFrame player_defense to raw_data\\2023\\Week4\\2023_Week4_DAL_vs_NE\\player_defense.csv\n",
      "Saved DataFrame returns to raw_data\\2023\\Week4\\2023_Week4_DAL_vs_NE\\returns.csv\n",
      "Saved DataFrame kicking to raw_data\\2023\\Week4\\2023_Week4_DAL_vs_NE\\kicking.csv\n",
      "Saved DataFrame passing_advanced to raw_data\\2023\\Week4\\2023_Week4_DAL_vs_NE\\passing_advanced.csv\n",
      "Saved DataFrame rushing_advanced to raw_data\\2023\\Week4\\2023_Week4_DAL_vs_NE\\rushing_advanced.csv\n",
      "Saved DataFrame receiving_advanced to raw_data\\2023\\Week4\\2023_Week4_DAL_vs_NE\\receiving_advanced.csv\n",
      "Saved DataFrame defense_advanced to raw_data\\2023\\Week4\\2023_Week4_DAL_vs_NE\\defense_advanced.csv\n",
      "Saved DataFrame home_starters to raw_data\\2023\\Week4\\2023_Week4_DAL_vs_NE\\home_starters.csv\n",
      "Saved DataFrame vis_starters to raw_data\\2023\\Week4\\2023_Week4_DAL_vs_NE\\vis_starters.csv\n",
      "Saved DataFrame home_snap_counts to raw_data\\2023\\Week4\\2023_Week4_DAL_vs_NE\\home_snap_counts.csv\n",
      "Saved DataFrame vis_snap_counts to raw_data\\2023\\Week4\\2023_Week4_DAL_vs_NE\\vis_snap_counts.csv\n",
      "Saved DataFrame home_drives to raw_data\\2023\\Week4\\2023_Week4_DAL_vs_NE\\home_drives.csv\n",
      "Saved DataFrame vis_drives to raw_data\\2023\\Week4\\2023_Week4_DAL_vs_NE\\vis_drives.csv\n",
      "Saved DataFrame pbp to raw_data\\2023\\Week4\\2023_Week4_DAL_vs_NE\\pbp.csv\n"
     ]
    },
    {
     "name": "stderr",
     "output_type": "stream",
     "text": [
      "C:\\Users\\jackj\\AppData\\Local\\Temp\\ipykernel_31996\\1469608065.py:49: MarkupResemblesLocatorWarning: The input looks more like a filename than markup. You may want to open this file and pass the filehandle into Beautiful Soup.\n",
      "  comment_soup = BeautifulSoup(comment, 'html.parser')\n"
     ]
    },
    {
     "name": "stdout",
     "output_type": "stream",
     "text": [
      "Saved DataFrame scoring to raw_data\\2023\\Week4\\2023_Week4_NYJ_vs_KC\\scoring.csv\n",
      "Saved DataFrame player_offense to raw_data\\2023\\Week4\\2023_Week4_NYJ_vs_KC\\player_offense.csv\n",
      "Saved DataFrame game_info to raw_data\\2023\\Week4\\2023_Week4_NYJ_vs_KC\\game_info.csv\n",
      "Saved DataFrame officials to raw_data\\2023\\Week4\\2023_Week4_NYJ_vs_KC\\officials.csv\n",
      "Saved DataFrame expected_points to raw_data\\2023\\Week4\\2023_Week4_NYJ_vs_KC\\expected_points.csv\n",
      "Saved DataFrame team_stats to raw_data\\2023\\Week4\\2023_Week4_NYJ_vs_KC\\team_stats.csv\n",
      "Saved DataFrame player_defense to raw_data\\2023\\Week4\\2023_Week4_NYJ_vs_KC\\player_defense.csv\n",
      "Saved DataFrame returns to raw_data\\2023\\Week4\\2023_Week4_NYJ_vs_KC\\returns.csv\n",
      "Saved DataFrame kicking to raw_data\\2023\\Week4\\2023_Week4_NYJ_vs_KC\\kicking.csv\n",
      "Saved DataFrame passing_advanced to raw_data\\2023\\Week4\\2023_Week4_NYJ_vs_KC\\passing_advanced.csv\n",
      "Saved DataFrame rushing_advanced to raw_data\\2023\\Week4\\2023_Week4_NYJ_vs_KC\\rushing_advanced.csv\n",
      "Saved DataFrame receiving_advanced to raw_data\\2023\\Week4\\2023_Week4_NYJ_vs_KC\\receiving_advanced.csv\n",
      "Saved DataFrame defense_advanced to raw_data\\2023\\Week4\\2023_Week4_NYJ_vs_KC\\defense_advanced.csv\n",
      "Saved DataFrame home_starters to raw_data\\2023\\Week4\\2023_Week4_NYJ_vs_KC\\home_starters.csv\n",
      "Saved DataFrame vis_starters to raw_data\\2023\\Week4\\2023_Week4_NYJ_vs_KC\\vis_starters.csv\n",
      "Saved DataFrame home_snap_counts to raw_data\\2023\\Week4\\2023_Week4_NYJ_vs_KC\\home_snap_counts.csv\n",
      "Saved DataFrame vis_snap_counts to raw_data\\2023\\Week4\\2023_Week4_NYJ_vs_KC\\vis_snap_counts.csv\n",
      "Saved DataFrame home_drives to raw_data\\2023\\Week4\\2023_Week4_NYJ_vs_KC\\home_drives.csv\n",
      "Saved DataFrame vis_drives to raw_data\\2023\\Week4\\2023_Week4_NYJ_vs_KC\\vis_drives.csv\n",
      "Saved DataFrame pbp to raw_data\\2023\\Week4\\2023_Week4_NYJ_vs_KC\\pbp.csv\n"
     ]
    },
    {
     "name": "stderr",
     "output_type": "stream",
     "text": [
      "C:\\Users\\jackj\\AppData\\Local\\Temp\\ipykernel_31996\\1469608065.py:49: MarkupResemblesLocatorWarning: The input looks more like a filename than markup. You may want to open this file and pass the filehandle into Beautiful Soup.\n",
      "  comment_soup = BeautifulSoup(comment, 'html.parser')\n"
     ]
    },
    {
     "name": "stdout",
     "output_type": "stream",
     "text": [
      "Saved DataFrame scoring to raw_data\\2023\\Week4\\2023_Week4_NYG_vs_SEA\\scoring.csv\n",
      "Saved DataFrame player_offense to raw_data\\2023\\Week4\\2023_Week4_NYG_vs_SEA\\player_offense.csv\n",
      "Saved DataFrame game_info to raw_data\\2023\\Week4\\2023_Week4_NYG_vs_SEA\\game_info.csv\n",
      "Saved DataFrame officials to raw_data\\2023\\Week4\\2023_Week4_NYG_vs_SEA\\officials.csv\n",
      "Saved DataFrame expected_points to raw_data\\2023\\Week4\\2023_Week4_NYG_vs_SEA\\expected_points.csv\n",
      "Saved DataFrame team_stats to raw_data\\2023\\Week4\\2023_Week4_NYG_vs_SEA\\team_stats.csv\n",
      "Saved DataFrame player_defense to raw_data\\2023\\Week4\\2023_Week4_NYG_vs_SEA\\player_defense.csv\n",
      "Saved DataFrame returns to raw_data\\2023\\Week4\\2023_Week4_NYG_vs_SEA\\returns.csv\n",
      "Saved DataFrame kicking to raw_data\\2023\\Week4\\2023_Week4_NYG_vs_SEA\\kicking.csv\n",
      "Saved DataFrame passing_advanced to raw_data\\2023\\Week4\\2023_Week4_NYG_vs_SEA\\passing_advanced.csv\n",
      "Saved DataFrame rushing_advanced to raw_data\\2023\\Week4\\2023_Week4_NYG_vs_SEA\\rushing_advanced.csv\n",
      "Saved DataFrame receiving_advanced to raw_data\\2023\\Week4\\2023_Week4_NYG_vs_SEA\\receiving_advanced.csv\n",
      "Saved DataFrame defense_advanced to raw_data\\2023\\Week4\\2023_Week4_NYG_vs_SEA\\defense_advanced.csv\n",
      "Saved DataFrame home_starters to raw_data\\2023\\Week4\\2023_Week4_NYG_vs_SEA\\home_starters.csv\n",
      "Saved DataFrame vis_starters to raw_data\\2023\\Week4\\2023_Week4_NYG_vs_SEA\\vis_starters.csv\n",
      "Saved DataFrame home_snap_counts to raw_data\\2023\\Week4\\2023_Week4_NYG_vs_SEA\\home_snap_counts.csv\n",
      "Saved DataFrame vis_snap_counts to raw_data\\2023\\Week4\\2023_Week4_NYG_vs_SEA\\vis_snap_counts.csv\n",
      "Saved DataFrame home_drives to raw_data\\2023\\Week4\\2023_Week4_NYG_vs_SEA\\home_drives.csv\n",
      "Saved DataFrame vis_drives to raw_data\\2023\\Week4\\2023_Week4_NYG_vs_SEA\\vis_drives.csv\n",
      "Saved DataFrame pbp to raw_data\\2023\\Week4\\2023_Week4_NYG_vs_SEA\\pbp.csv\n"
     ]
    },
    {
     "name": "stderr",
     "output_type": "stream",
     "text": [
      "C:\\Users\\jackj\\AppData\\Local\\Temp\\ipykernel_31996\\1469608065.py:49: MarkupResemblesLocatorWarning: The input looks more like a filename than markup. You may want to open this file and pass the filehandle into Beautiful Soup.\n",
      "  comment_soup = BeautifulSoup(comment, 'html.parser')\n"
     ]
    },
    {
     "name": "stdout",
     "output_type": "stream",
     "text": [
      "Saved DataFrame scoring to raw_data\\2023\\Week5\\2023_Week5_WAS_vs_CHI\\scoring.csv\n",
      "Saved DataFrame player_offense to raw_data\\2023\\Week5\\2023_Week5_WAS_vs_CHI\\player_offense.csv\n",
      "Saved DataFrame game_info to raw_data\\2023\\Week5\\2023_Week5_WAS_vs_CHI\\game_info.csv\n",
      "Saved DataFrame officials to raw_data\\2023\\Week5\\2023_Week5_WAS_vs_CHI\\officials.csv\n",
      "Saved DataFrame expected_points to raw_data\\2023\\Week5\\2023_Week5_WAS_vs_CHI\\expected_points.csv\n",
      "Saved DataFrame team_stats to raw_data\\2023\\Week5\\2023_Week5_WAS_vs_CHI\\team_stats.csv\n",
      "Saved DataFrame player_defense to raw_data\\2023\\Week5\\2023_Week5_WAS_vs_CHI\\player_defense.csv\n",
      "Saved DataFrame returns to raw_data\\2023\\Week5\\2023_Week5_WAS_vs_CHI\\returns.csv\n",
      "Saved DataFrame kicking to raw_data\\2023\\Week5\\2023_Week5_WAS_vs_CHI\\kicking.csv\n",
      "Saved DataFrame passing_advanced to raw_data\\2023\\Week5\\2023_Week5_WAS_vs_CHI\\passing_advanced.csv\n",
      "Saved DataFrame rushing_advanced to raw_data\\2023\\Week5\\2023_Week5_WAS_vs_CHI\\rushing_advanced.csv\n",
      "Saved DataFrame receiving_advanced to raw_data\\2023\\Week5\\2023_Week5_WAS_vs_CHI\\receiving_advanced.csv\n",
      "Saved DataFrame defense_advanced to raw_data\\2023\\Week5\\2023_Week5_WAS_vs_CHI\\defense_advanced.csv\n",
      "Saved DataFrame home_starters to raw_data\\2023\\Week5\\2023_Week5_WAS_vs_CHI\\home_starters.csv\n",
      "Saved DataFrame vis_starters to raw_data\\2023\\Week5\\2023_Week5_WAS_vs_CHI\\vis_starters.csv\n",
      "Saved DataFrame home_snap_counts to raw_data\\2023\\Week5\\2023_Week5_WAS_vs_CHI\\home_snap_counts.csv\n",
      "Saved DataFrame vis_snap_counts to raw_data\\2023\\Week5\\2023_Week5_WAS_vs_CHI\\vis_snap_counts.csv\n",
      "Saved DataFrame home_drives to raw_data\\2023\\Week5\\2023_Week5_WAS_vs_CHI\\home_drives.csv\n",
      "Saved DataFrame vis_drives to raw_data\\2023\\Week5\\2023_Week5_WAS_vs_CHI\\vis_drives.csv\n",
      "Saved DataFrame pbp to raw_data\\2023\\Week5\\2023_Week5_WAS_vs_CHI\\pbp.csv\n"
     ]
    },
    {
     "name": "stderr",
     "output_type": "stream",
     "text": [
      "C:\\Users\\jackj\\AppData\\Local\\Temp\\ipykernel_31996\\1469608065.py:49: MarkupResemblesLocatorWarning: The input looks more like a filename than markup. You may want to open this file and pass the filehandle into Beautiful Soup.\n",
      "  comment_soup = BeautifulSoup(comment, 'html.parser')\n"
     ]
    },
    {
     "name": "stdout",
     "output_type": "stream",
     "text": [
      "Saved DataFrame scoring to raw_data\\2023\\Week5\\2023_Week5_BUF_vs_JAX\\scoring.csv\n",
      "Saved DataFrame player_offense to raw_data\\2023\\Week5\\2023_Week5_BUF_vs_JAX\\player_offense.csv\n",
      "Saved DataFrame game_info to raw_data\\2023\\Week5\\2023_Week5_BUF_vs_JAX\\game_info.csv\n",
      "Saved DataFrame officials to raw_data\\2023\\Week5\\2023_Week5_BUF_vs_JAX\\officials.csv\n",
      "Saved DataFrame expected_points to raw_data\\2023\\Week5\\2023_Week5_BUF_vs_JAX\\expected_points.csv\n",
      "Saved DataFrame team_stats to raw_data\\2023\\Week5\\2023_Week5_BUF_vs_JAX\\team_stats.csv\n",
      "Saved DataFrame player_defense to raw_data\\2023\\Week5\\2023_Week5_BUF_vs_JAX\\player_defense.csv\n",
      "Saved DataFrame returns to raw_data\\2023\\Week5\\2023_Week5_BUF_vs_JAX\\returns.csv\n",
      "Saved DataFrame kicking to raw_data\\2023\\Week5\\2023_Week5_BUF_vs_JAX\\kicking.csv\n",
      "Saved DataFrame passing_advanced to raw_data\\2023\\Week5\\2023_Week5_BUF_vs_JAX\\passing_advanced.csv\n",
      "Saved DataFrame rushing_advanced to raw_data\\2023\\Week5\\2023_Week5_BUF_vs_JAX\\rushing_advanced.csv\n",
      "Saved DataFrame receiving_advanced to raw_data\\2023\\Week5\\2023_Week5_BUF_vs_JAX\\receiving_advanced.csv\n",
      "Saved DataFrame defense_advanced to raw_data\\2023\\Week5\\2023_Week5_BUF_vs_JAX\\defense_advanced.csv\n",
      "Saved DataFrame home_starters to raw_data\\2023\\Week5\\2023_Week5_BUF_vs_JAX\\home_starters.csv\n",
      "Saved DataFrame vis_starters to raw_data\\2023\\Week5\\2023_Week5_BUF_vs_JAX\\vis_starters.csv\n",
      "Saved DataFrame home_snap_counts to raw_data\\2023\\Week5\\2023_Week5_BUF_vs_JAX\\home_snap_counts.csv\n",
      "Saved DataFrame vis_snap_counts to raw_data\\2023\\Week5\\2023_Week5_BUF_vs_JAX\\vis_snap_counts.csv\n",
      "Saved DataFrame home_drives to raw_data\\2023\\Week5\\2023_Week5_BUF_vs_JAX\\home_drives.csv\n",
      "Saved DataFrame vis_drives to raw_data\\2023\\Week5\\2023_Week5_BUF_vs_JAX\\vis_drives.csv\n",
      "Saved DataFrame pbp to raw_data\\2023\\Week5\\2023_Week5_BUF_vs_JAX\\pbp.csv\n"
     ]
    },
    {
     "name": "stderr",
     "output_type": "stream",
     "text": [
      "C:\\Users\\jackj\\AppData\\Local\\Temp\\ipykernel_31996\\1469608065.py:49: MarkupResemblesLocatorWarning: The input looks more like a filename than markup. You may want to open this file and pass the filehandle into Beautiful Soup.\n",
      "  comment_soup = BeautifulSoup(comment, 'html.parser')\n"
     ]
    },
    {
     "name": "stdout",
     "output_type": "stream",
     "text": [
      "Saved DataFrame scoring to raw_data\\2023\\Week5\\2023_Week5_ATL_vs_HOU\\scoring.csv\n",
      "Saved DataFrame player_offense to raw_data\\2023\\Week5\\2023_Week5_ATL_vs_HOU\\player_offense.csv\n",
      "Saved DataFrame game_info to raw_data\\2023\\Week5\\2023_Week5_ATL_vs_HOU\\game_info.csv\n",
      "Saved DataFrame officials to raw_data\\2023\\Week5\\2023_Week5_ATL_vs_HOU\\officials.csv\n",
      "Saved DataFrame expected_points to raw_data\\2023\\Week5\\2023_Week5_ATL_vs_HOU\\expected_points.csv\n",
      "Saved DataFrame team_stats to raw_data\\2023\\Week5\\2023_Week5_ATL_vs_HOU\\team_stats.csv\n",
      "Saved DataFrame player_defense to raw_data\\2023\\Week5\\2023_Week5_ATL_vs_HOU\\player_defense.csv\n",
      "Saved DataFrame returns to raw_data\\2023\\Week5\\2023_Week5_ATL_vs_HOU\\returns.csv\n",
      "Saved DataFrame kicking to raw_data\\2023\\Week5\\2023_Week5_ATL_vs_HOU\\kicking.csv\n",
      "Saved DataFrame passing_advanced to raw_data\\2023\\Week5\\2023_Week5_ATL_vs_HOU\\passing_advanced.csv\n",
      "Saved DataFrame rushing_advanced to raw_data\\2023\\Week5\\2023_Week5_ATL_vs_HOU\\rushing_advanced.csv\n",
      "Saved DataFrame receiving_advanced to raw_data\\2023\\Week5\\2023_Week5_ATL_vs_HOU\\receiving_advanced.csv\n",
      "Saved DataFrame defense_advanced to raw_data\\2023\\Week5\\2023_Week5_ATL_vs_HOU\\defense_advanced.csv\n",
      "Saved DataFrame home_starters to raw_data\\2023\\Week5\\2023_Week5_ATL_vs_HOU\\home_starters.csv\n",
      "Saved DataFrame vis_starters to raw_data\\2023\\Week5\\2023_Week5_ATL_vs_HOU\\vis_starters.csv\n",
      "Saved DataFrame home_snap_counts to raw_data\\2023\\Week5\\2023_Week5_ATL_vs_HOU\\home_snap_counts.csv\n",
      "Saved DataFrame vis_snap_counts to raw_data\\2023\\Week5\\2023_Week5_ATL_vs_HOU\\vis_snap_counts.csv\n",
      "Saved DataFrame home_drives to raw_data\\2023\\Week5\\2023_Week5_ATL_vs_HOU\\home_drives.csv\n",
      "Saved DataFrame vis_drives to raw_data\\2023\\Week5\\2023_Week5_ATL_vs_HOU\\vis_drives.csv\n",
      "Saved DataFrame pbp to raw_data\\2023\\Week5\\2023_Week5_ATL_vs_HOU\\pbp.csv\n"
     ]
    },
    {
     "name": "stderr",
     "output_type": "stream",
     "text": [
      "C:\\Users\\jackj\\AppData\\Local\\Temp\\ipykernel_31996\\1469608065.py:49: MarkupResemblesLocatorWarning: The input looks more like a filename than markup. You may want to open this file and pass the filehandle into Beautiful Soup.\n",
      "  comment_soup = BeautifulSoup(comment, 'html.parser')\n"
     ]
    },
    {
     "name": "stdout",
     "output_type": "stream",
     "text": [
      "Saved DataFrame scoring to raw_data\\2023\\Week5\\2023_Week5_DET_vs_CAR\\scoring.csv\n",
      "Saved DataFrame player_offense to raw_data\\2023\\Week5\\2023_Week5_DET_vs_CAR\\player_offense.csv\n",
      "Saved DataFrame game_info to raw_data\\2023\\Week5\\2023_Week5_DET_vs_CAR\\game_info.csv\n",
      "Saved DataFrame officials to raw_data\\2023\\Week5\\2023_Week5_DET_vs_CAR\\officials.csv\n",
      "Saved DataFrame expected_points to raw_data\\2023\\Week5\\2023_Week5_DET_vs_CAR\\expected_points.csv\n",
      "Saved DataFrame team_stats to raw_data\\2023\\Week5\\2023_Week5_DET_vs_CAR\\team_stats.csv\n",
      "Saved DataFrame player_defense to raw_data\\2023\\Week5\\2023_Week5_DET_vs_CAR\\player_defense.csv\n",
      "Saved DataFrame returns to raw_data\\2023\\Week5\\2023_Week5_DET_vs_CAR\\returns.csv\n",
      "Saved DataFrame kicking to raw_data\\2023\\Week5\\2023_Week5_DET_vs_CAR\\kicking.csv\n",
      "Saved DataFrame passing_advanced to raw_data\\2023\\Week5\\2023_Week5_DET_vs_CAR\\passing_advanced.csv\n",
      "Saved DataFrame rushing_advanced to raw_data\\2023\\Week5\\2023_Week5_DET_vs_CAR\\rushing_advanced.csv\n",
      "Saved DataFrame receiving_advanced to raw_data\\2023\\Week5\\2023_Week5_DET_vs_CAR\\receiving_advanced.csv\n",
      "Saved DataFrame defense_advanced to raw_data\\2023\\Week5\\2023_Week5_DET_vs_CAR\\defense_advanced.csv\n",
      "Saved DataFrame home_starters to raw_data\\2023\\Week5\\2023_Week5_DET_vs_CAR\\home_starters.csv\n",
      "Saved DataFrame vis_starters to raw_data\\2023\\Week5\\2023_Week5_DET_vs_CAR\\vis_starters.csv\n",
      "Saved DataFrame home_snap_counts to raw_data\\2023\\Week5\\2023_Week5_DET_vs_CAR\\home_snap_counts.csv\n",
      "Saved DataFrame vis_snap_counts to raw_data\\2023\\Week5\\2023_Week5_DET_vs_CAR\\vis_snap_counts.csv\n",
      "Saved DataFrame home_drives to raw_data\\2023\\Week5\\2023_Week5_DET_vs_CAR\\home_drives.csv\n",
      "Saved DataFrame vis_drives to raw_data\\2023\\Week5\\2023_Week5_DET_vs_CAR\\vis_drives.csv\n",
      "Saved DataFrame pbp to raw_data\\2023\\Week5\\2023_Week5_DET_vs_CAR\\pbp.csv\n"
     ]
    },
    {
     "name": "stderr",
     "output_type": "stream",
     "text": [
      "C:\\Users\\jackj\\AppData\\Local\\Temp\\ipykernel_31996\\1469608065.py:49: MarkupResemblesLocatorWarning: The input looks more like a filename than markup. You may want to open this file and pass the filehandle into Beautiful Soup.\n",
      "  comment_soup = BeautifulSoup(comment, 'html.parser')\n"
     ]
    },
    {
     "name": "stdout",
     "output_type": "stream",
     "text": [
      "Saved DataFrame scoring to raw_data\\2023\\Week5\\2023_Week5_IND_vs_TEN\\scoring.csv\n",
      "Saved DataFrame player_offense to raw_data\\2023\\Week5\\2023_Week5_IND_vs_TEN\\player_offense.csv\n",
      "Saved DataFrame game_info to raw_data\\2023\\Week5\\2023_Week5_IND_vs_TEN\\game_info.csv\n",
      "Saved DataFrame officials to raw_data\\2023\\Week5\\2023_Week5_IND_vs_TEN\\officials.csv\n",
      "Saved DataFrame expected_points to raw_data\\2023\\Week5\\2023_Week5_IND_vs_TEN\\expected_points.csv\n",
      "Saved DataFrame team_stats to raw_data\\2023\\Week5\\2023_Week5_IND_vs_TEN\\team_stats.csv\n",
      "Saved DataFrame player_defense to raw_data\\2023\\Week5\\2023_Week5_IND_vs_TEN\\player_defense.csv\n",
      "Saved DataFrame returns to raw_data\\2023\\Week5\\2023_Week5_IND_vs_TEN\\returns.csv\n",
      "Saved DataFrame kicking to raw_data\\2023\\Week5\\2023_Week5_IND_vs_TEN\\kicking.csv\n",
      "Saved DataFrame passing_advanced to raw_data\\2023\\Week5\\2023_Week5_IND_vs_TEN\\passing_advanced.csv\n",
      "Saved DataFrame rushing_advanced to raw_data\\2023\\Week5\\2023_Week5_IND_vs_TEN\\rushing_advanced.csv\n",
      "Saved DataFrame receiving_advanced to raw_data\\2023\\Week5\\2023_Week5_IND_vs_TEN\\receiving_advanced.csv\n",
      "Saved DataFrame defense_advanced to raw_data\\2023\\Week5\\2023_Week5_IND_vs_TEN\\defense_advanced.csv\n",
      "Saved DataFrame home_starters to raw_data\\2023\\Week5\\2023_Week5_IND_vs_TEN\\home_starters.csv\n",
      "Saved DataFrame vis_starters to raw_data\\2023\\Week5\\2023_Week5_IND_vs_TEN\\vis_starters.csv\n",
      "Saved DataFrame home_snap_counts to raw_data\\2023\\Week5\\2023_Week5_IND_vs_TEN\\home_snap_counts.csv\n",
      "Saved DataFrame vis_snap_counts to raw_data\\2023\\Week5\\2023_Week5_IND_vs_TEN\\vis_snap_counts.csv\n",
      "Saved DataFrame home_drives to raw_data\\2023\\Week5\\2023_Week5_IND_vs_TEN\\home_drives.csv\n",
      "Saved DataFrame vis_drives to raw_data\\2023\\Week5\\2023_Week5_IND_vs_TEN\\vis_drives.csv\n",
      "Saved DataFrame pbp to raw_data\\2023\\Week5\\2023_Week5_IND_vs_TEN\\pbp.csv\n"
     ]
    },
    {
     "name": "stderr",
     "output_type": "stream",
     "text": [
      "C:\\Users\\jackj\\AppData\\Local\\Temp\\ipykernel_31996\\1469608065.py:49: MarkupResemblesLocatorWarning: The input looks more like a filename than markup. You may want to open this file and pass the filehandle into Beautiful Soup.\n",
      "  comment_soup = BeautifulSoup(comment, 'html.parser')\n"
     ]
    },
    {
     "name": "stdout",
     "output_type": "stream",
     "text": [
      "Saved DataFrame scoring to raw_data\\2023\\Week5\\2023_Week5_MIA_vs_NYG\\scoring.csv\n",
      "Saved DataFrame player_offense to raw_data\\2023\\Week5\\2023_Week5_MIA_vs_NYG\\player_offense.csv\n",
      "Saved DataFrame game_info to raw_data\\2023\\Week5\\2023_Week5_MIA_vs_NYG\\game_info.csv\n",
      "Saved DataFrame officials to raw_data\\2023\\Week5\\2023_Week5_MIA_vs_NYG\\officials.csv\n",
      "Saved DataFrame expected_points to raw_data\\2023\\Week5\\2023_Week5_MIA_vs_NYG\\expected_points.csv\n",
      "Saved DataFrame team_stats to raw_data\\2023\\Week5\\2023_Week5_MIA_vs_NYG\\team_stats.csv\n",
      "Saved DataFrame player_defense to raw_data\\2023\\Week5\\2023_Week5_MIA_vs_NYG\\player_defense.csv\n",
      "Saved DataFrame returns to raw_data\\2023\\Week5\\2023_Week5_MIA_vs_NYG\\returns.csv\n",
      "Saved DataFrame kicking to raw_data\\2023\\Week5\\2023_Week5_MIA_vs_NYG\\kicking.csv\n",
      "Saved DataFrame passing_advanced to raw_data\\2023\\Week5\\2023_Week5_MIA_vs_NYG\\passing_advanced.csv\n",
      "Saved DataFrame rushing_advanced to raw_data\\2023\\Week5\\2023_Week5_MIA_vs_NYG\\rushing_advanced.csv\n",
      "Saved DataFrame receiving_advanced to raw_data\\2023\\Week5\\2023_Week5_MIA_vs_NYG\\receiving_advanced.csv\n",
      "Saved DataFrame defense_advanced to raw_data\\2023\\Week5\\2023_Week5_MIA_vs_NYG\\defense_advanced.csv\n",
      "Saved DataFrame home_starters to raw_data\\2023\\Week5\\2023_Week5_MIA_vs_NYG\\home_starters.csv\n",
      "Saved DataFrame vis_starters to raw_data\\2023\\Week5\\2023_Week5_MIA_vs_NYG\\vis_starters.csv\n",
      "Saved DataFrame home_snap_counts to raw_data\\2023\\Week5\\2023_Week5_MIA_vs_NYG\\home_snap_counts.csv\n",
      "Saved DataFrame vis_snap_counts to raw_data\\2023\\Week5\\2023_Week5_MIA_vs_NYG\\vis_snap_counts.csv\n",
      "Saved DataFrame home_drives to raw_data\\2023\\Week5\\2023_Week5_MIA_vs_NYG\\home_drives.csv\n",
      "Saved DataFrame vis_drives to raw_data\\2023\\Week5\\2023_Week5_MIA_vs_NYG\\vis_drives.csv\n",
      "Saved DataFrame pbp to raw_data\\2023\\Week5\\2023_Week5_MIA_vs_NYG\\pbp.csv\n"
     ]
    },
    {
     "name": "stderr",
     "output_type": "stream",
     "text": [
      "C:\\Users\\jackj\\AppData\\Local\\Temp\\ipykernel_31996\\1469608065.py:49: MarkupResemblesLocatorWarning: The input looks more like a filename than markup. You may want to open this file and pass the filehandle into Beautiful Soup.\n",
      "  comment_soup = BeautifulSoup(comment, 'html.parser')\n"
     ]
    },
    {
     "name": "stdout",
     "output_type": "stream",
     "text": [
      "Saved DataFrame scoring to raw_data\\2023\\Week5\\2023_Week5_NE_vs_NO\\scoring.csv\n",
      "Saved DataFrame player_offense to raw_data\\2023\\Week5\\2023_Week5_NE_vs_NO\\player_offense.csv\n",
      "Saved DataFrame game_info to raw_data\\2023\\Week5\\2023_Week5_NE_vs_NO\\game_info.csv\n",
      "Saved DataFrame officials to raw_data\\2023\\Week5\\2023_Week5_NE_vs_NO\\officials.csv\n",
      "Saved DataFrame expected_points to raw_data\\2023\\Week5\\2023_Week5_NE_vs_NO\\expected_points.csv\n",
      "Saved DataFrame team_stats to raw_data\\2023\\Week5\\2023_Week5_NE_vs_NO\\team_stats.csv\n",
      "Saved DataFrame player_defense to raw_data\\2023\\Week5\\2023_Week5_NE_vs_NO\\player_defense.csv\n",
      "Saved DataFrame returns to raw_data\\2023\\Week5\\2023_Week5_NE_vs_NO\\returns.csv\n",
      "Saved DataFrame kicking to raw_data\\2023\\Week5\\2023_Week5_NE_vs_NO\\kicking.csv\n",
      "Saved DataFrame passing_advanced to raw_data\\2023\\Week5\\2023_Week5_NE_vs_NO\\passing_advanced.csv\n",
      "Saved DataFrame rushing_advanced to raw_data\\2023\\Week5\\2023_Week5_NE_vs_NO\\rushing_advanced.csv\n",
      "Saved DataFrame receiving_advanced to raw_data\\2023\\Week5\\2023_Week5_NE_vs_NO\\receiving_advanced.csv\n",
      "Saved DataFrame defense_advanced to raw_data\\2023\\Week5\\2023_Week5_NE_vs_NO\\defense_advanced.csv\n",
      "Saved DataFrame home_starters to raw_data\\2023\\Week5\\2023_Week5_NE_vs_NO\\home_starters.csv\n",
      "Saved DataFrame vis_starters to raw_data\\2023\\Week5\\2023_Week5_NE_vs_NO\\vis_starters.csv\n",
      "Saved DataFrame home_snap_counts to raw_data\\2023\\Week5\\2023_Week5_NE_vs_NO\\home_snap_counts.csv\n",
      "Saved DataFrame vis_snap_counts to raw_data\\2023\\Week5\\2023_Week5_NE_vs_NO\\vis_snap_counts.csv\n",
      "Saved DataFrame home_drives to raw_data\\2023\\Week5\\2023_Week5_NE_vs_NO\\home_drives.csv\n",
      "Saved DataFrame vis_drives to raw_data\\2023\\Week5\\2023_Week5_NE_vs_NO\\vis_drives.csv\n",
      "Saved DataFrame pbp to raw_data\\2023\\Week5\\2023_Week5_NE_vs_NO\\pbp.csv\n"
     ]
    },
    {
     "name": "stderr",
     "output_type": "stream",
     "text": [
      "C:\\Users\\jackj\\AppData\\Local\\Temp\\ipykernel_31996\\1469608065.py:49: MarkupResemblesLocatorWarning: The input looks more like a filename than markup. You may want to open this file and pass the filehandle into Beautiful Soup.\n",
      "  comment_soup = BeautifulSoup(comment, 'html.parser')\n"
     ]
    },
    {
     "name": "stdout",
     "output_type": "stream",
     "text": [
      "Saved DataFrame scoring to raw_data\\2023\\Week5\\2023_Week5_PIT_vs_BAL\\scoring.csv\n",
      "Saved DataFrame player_offense to raw_data\\2023\\Week5\\2023_Week5_PIT_vs_BAL\\player_offense.csv\n",
      "Saved DataFrame game_info to raw_data\\2023\\Week5\\2023_Week5_PIT_vs_BAL\\game_info.csv\n",
      "Saved DataFrame officials to raw_data\\2023\\Week5\\2023_Week5_PIT_vs_BAL\\officials.csv\n",
      "Saved DataFrame expected_points to raw_data\\2023\\Week5\\2023_Week5_PIT_vs_BAL\\expected_points.csv\n",
      "Saved DataFrame team_stats to raw_data\\2023\\Week5\\2023_Week5_PIT_vs_BAL\\team_stats.csv\n",
      "Saved DataFrame player_defense to raw_data\\2023\\Week5\\2023_Week5_PIT_vs_BAL\\player_defense.csv\n",
      "Saved DataFrame returns to raw_data\\2023\\Week5\\2023_Week5_PIT_vs_BAL\\returns.csv\n",
      "Saved DataFrame kicking to raw_data\\2023\\Week5\\2023_Week5_PIT_vs_BAL\\kicking.csv\n",
      "Saved DataFrame passing_advanced to raw_data\\2023\\Week5\\2023_Week5_PIT_vs_BAL\\passing_advanced.csv\n",
      "Saved DataFrame rushing_advanced to raw_data\\2023\\Week5\\2023_Week5_PIT_vs_BAL\\rushing_advanced.csv\n",
      "Saved DataFrame receiving_advanced to raw_data\\2023\\Week5\\2023_Week5_PIT_vs_BAL\\receiving_advanced.csv\n",
      "Saved DataFrame defense_advanced to raw_data\\2023\\Week5\\2023_Week5_PIT_vs_BAL\\defense_advanced.csv\n",
      "Saved DataFrame home_starters to raw_data\\2023\\Week5\\2023_Week5_PIT_vs_BAL\\home_starters.csv\n",
      "Saved DataFrame vis_starters to raw_data\\2023\\Week5\\2023_Week5_PIT_vs_BAL\\vis_starters.csv\n",
      "Saved DataFrame home_snap_counts to raw_data\\2023\\Week5\\2023_Week5_PIT_vs_BAL\\home_snap_counts.csv\n",
      "Saved DataFrame vis_snap_counts to raw_data\\2023\\Week5\\2023_Week5_PIT_vs_BAL\\vis_snap_counts.csv\n",
      "Saved DataFrame home_drives to raw_data\\2023\\Week5\\2023_Week5_PIT_vs_BAL\\home_drives.csv\n",
      "Saved DataFrame vis_drives to raw_data\\2023\\Week5\\2023_Week5_PIT_vs_BAL\\vis_drives.csv\n",
      "Saved DataFrame pbp to raw_data\\2023\\Week5\\2023_Week5_PIT_vs_BAL\\pbp.csv\n"
     ]
    },
    {
     "name": "stderr",
     "output_type": "stream",
     "text": [
      "C:\\Users\\jackj\\AppData\\Local\\Temp\\ipykernel_31996\\1469608065.py:49: MarkupResemblesLocatorWarning: The input looks more like a filename than markup. You may want to open this file and pass the filehandle into Beautiful Soup.\n",
      "  comment_soup = BeautifulSoup(comment, 'html.parser')\n"
     ]
    },
    {
     "name": "stdout",
     "output_type": "stream",
     "text": [
      "Saved DataFrame scoring to raw_data\\2023\\Week5\\2023_Week5_ARI_vs_CIN\\scoring.csv\n",
      "Saved DataFrame player_offense to raw_data\\2023\\Week5\\2023_Week5_ARI_vs_CIN\\player_offense.csv\n",
      "Saved DataFrame game_info to raw_data\\2023\\Week5\\2023_Week5_ARI_vs_CIN\\game_info.csv\n",
      "Saved DataFrame officials to raw_data\\2023\\Week5\\2023_Week5_ARI_vs_CIN\\officials.csv\n",
      "Saved DataFrame expected_points to raw_data\\2023\\Week5\\2023_Week5_ARI_vs_CIN\\expected_points.csv\n",
      "Saved DataFrame team_stats to raw_data\\2023\\Week5\\2023_Week5_ARI_vs_CIN\\team_stats.csv\n",
      "Saved DataFrame player_defense to raw_data\\2023\\Week5\\2023_Week5_ARI_vs_CIN\\player_defense.csv\n",
      "Saved DataFrame returns to raw_data\\2023\\Week5\\2023_Week5_ARI_vs_CIN\\returns.csv\n",
      "Saved DataFrame kicking to raw_data\\2023\\Week5\\2023_Week5_ARI_vs_CIN\\kicking.csv\n",
      "Saved DataFrame passing_advanced to raw_data\\2023\\Week5\\2023_Week5_ARI_vs_CIN\\passing_advanced.csv\n",
      "Saved DataFrame rushing_advanced to raw_data\\2023\\Week5\\2023_Week5_ARI_vs_CIN\\rushing_advanced.csv\n",
      "Saved DataFrame receiving_advanced to raw_data\\2023\\Week5\\2023_Week5_ARI_vs_CIN\\receiving_advanced.csv\n",
      "Saved DataFrame defense_advanced to raw_data\\2023\\Week5\\2023_Week5_ARI_vs_CIN\\defense_advanced.csv\n",
      "Saved DataFrame home_starters to raw_data\\2023\\Week5\\2023_Week5_ARI_vs_CIN\\home_starters.csv\n",
      "Saved DataFrame vis_starters to raw_data\\2023\\Week5\\2023_Week5_ARI_vs_CIN\\vis_starters.csv\n",
      "Saved DataFrame home_snap_counts to raw_data\\2023\\Week5\\2023_Week5_ARI_vs_CIN\\home_snap_counts.csv\n",
      "Saved DataFrame vis_snap_counts to raw_data\\2023\\Week5\\2023_Week5_ARI_vs_CIN\\vis_snap_counts.csv\n",
      "Saved DataFrame home_drives to raw_data\\2023\\Week5\\2023_Week5_ARI_vs_CIN\\home_drives.csv\n",
      "Saved DataFrame vis_drives to raw_data\\2023\\Week5\\2023_Week5_ARI_vs_CIN\\vis_drives.csv\n",
      "Saved DataFrame pbp to raw_data\\2023\\Week5\\2023_Week5_ARI_vs_CIN\\pbp.csv\n"
     ]
    },
    {
     "name": "stderr",
     "output_type": "stream",
     "text": [
      "C:\\Users\\jackj\\AppData\\Local\\Temp\\ipykernel_31996\\1469608065.py:49: MarkupResemblesLocatorWarning: The input looks more like a filename than markup. You may want to open this file and pass the filehandle into Beautiful Soup.\n",
      "  comment_soup = BeautifulSoup(comment, 'html.parser')\n"
     ]
    },
    {
     "name": "stdout",
     "output_type": "stream",
     "text": [
      "Saved DataFrame scoring to raw_data\\2023\\Week5\\2023_Week5_LAR_vs_PHI\\scoring.csv\n",
      "Saved DataFrame player_offense to raw_data\\2023\\Week5\\2023_Week5_LAR_vs_PHI\\player_offense.csv\n",
      "Saved DataFrame game_info to raw_data\\2023\\Week5\\2023_Week5_LAR_vs_PHI\\game_info.csv\n",
      "Saved DataFrame officials to raw_data\\2023\\Week5\\2023_Week5_LAR_vs_PHI\\officials.csv\n",
      "Saved DataFrame expected_points to raw_data\\2023\\Week5\\2023_Week5_LAR_vs_PHI\\expected_points.csv\n",
      "Saved DataFrame team_stats to raw_data\\2023\\Week5\\2023_Week5_LAR_vs_PHI\\team_stats.csv\n",
      "Saved DataFrame player_defense to raw_data\\2023\\Week5\\2023_Week5_LAR_vs_PHI\\player_defense.csv\n",
      "Saved DataFrame returns to raw_data\\2023\\Week5\\2023_Week5_LAR_vs_PHI\\returns.csv\n",
      "Saved DataFrame kicking to raw_data\\2023\\Week5\\2023_Week5_LAR_vs_PHI\\kicking.csv\n",
      "Saved DataFrame passing_advanced to raw_data\\2023\\Week5\\2023_Week5_LAR_vs_PHI\\passing_advanced.csv\n",
      "Saved DataFrame rushing_advanced to raw_data\\2023\\Week5\\2023_Week5_LAR_vs_PHI\\rushing_advanced.csv\n",
      "Saved DataFrame receiving_advanced to raw_data\\2023\\Week5\\2023_Week5_LAR_vs_PHI\\receiving_advanced.csv\n",
      "Saved DataFrame defense_advanced to raw_data\\2023\\Week5\\2023_Week5_LAR_vs_PHI\\defense_advanced.csv\n",
      "Saved DataFrame home_starters to raw_data\\2023\\Week5\\2023_Week5_LAR_vs_PHI\\home_starters.csv\n",
      "Saved DataFrame vis_starters to raw_data\\2023\\Week5\\2023_Week5_LAR_vs_PHI\\vis_starters.csv\n",
      "Saved DataFrame home_snap_counts to raw_data\\2023\\Week5\\2023_Week5_LAR_vs_PHI\\home_snap_counts.csv\n",
      "Saved DataFrame vis_snap_counts to raw_data\\2023\\Week5\\2023_Week5_LAR_vs_PHI\\vis_snap_counts.csv\n",
      "Saved DataFrame home_drives to raw_data\\2023\\Week5\\2023_Week5_LAR_vs_PHI\\home_drives.csv\n",
      "Saved DataFrame vis_drives to raw_data\\2023\\Week5\\2023_Week5_LAR_vs_PHI\\vis_drives.csv\n",
      "Saved DataFrame pbp to raw_data\\2023\\Week5\\2023_Week5_LAR_vs_PHI\\pbp.csv\n"
     ]
    },
    {
     "name": "stderr",
     "output_type": "stream",
     "text": [
      "C:\\Users\\jackj\\AppData\\Local\\Temp\\ipykernel_31996\\1469608065.py:49: MarkupResemblesLocatorWarning: The input looks more like a filename than markup. You may want to open this file and pass the filehandle into Beautiful Soup.\n",
      "  comment_soup = BeautifulSoup(comment, 'html.parser')\n"
     ]
    },
    {
     "name": "stdout",
     "output_type": "stream",
     "text": [
      "Saved DataFrame scoring to raw_data\\2023\\Week5\\2023_Week5_DEN_vs_NYJ\\scoring.csv\n",
      "Saved DataFrame player_offense to raw_data\\2023\\Week5\\2023_Week5_DEN_vs_NYJ\\player_offense.csv\n",
      "Saved DataFrame game_info to raw_data\\2023\\Week5\\2023_Week5_DEN_vs_NYJ\\game_info.csv\n",
      "Saved DataFrame officials to raw_data\\2023\\Week5\\2023_Week5_DEN_vs_NYJ\\officials.csv\n",
      "Saved DataFrame expected_points to raw_data\\2023\\Week5\\2023_Week5_DEN_vs_NYJ\\expected_points.csv\n",
      "Saved DataFrame team_stats to raw_data\\2023\\Week5\\2023_Week5_DEN_vs_NYJ\\team_stats.csv\n",
      "Saved DataFrame player_defense to raw_data\\2023\\Week5\\2023_Week5_DEN_vs_NYJ\\player_defense.csv\n",
      "Saved DataFrame returns to raw_data\\2023\\Week5\\2023_Week5_DEN_vs_NYJ\\returns.csv\n",
      "Saved DataFrame kicking to raw_data\\2023\\Week5\\2023_Week5_DEN_vs_NYJ\\kicking.csv\n",
      "Saved DataFrame passing_advanced to raw_data\\2023\\Week5\\2023_Week5_DEN_vs_NYJ\\passing_advanced.csv\n",
      "Saved DataFrame rushing_advanced to raw_data\\2023\\Week5\\2023_Week5_DEN_vs_NYJ\\rushing_advanced.csv\n",
      "Saved DataFrame receiving_advanced to raw_data\\2023\\Week5\\2023_Week5_DEN_vs_NYJ\\receiving_advanced.csv\n",
      "Saved DataFrame defense_advanced to raw_data\\2023\\Week5\\2023_Week5_DEN_vs_NYJ\\defense_advanced.csv\n",
      "Saved DataFrame home_starters to raw_data\\2023\\Week5\\2023_Week5_DEN_vs_NYJ\\home_starters.csv\n",
      "Saved DataFrame vis_starters to raw_data\\2023\\Week5\\2023_Week5_DEN_vs_NYJ\\vis_starters.csv\n",
      "Saved DataFrame home_snap_counts to raw_data\\2023\\Week5\\2023_Week5_DEN_vs_NYJ\\home_snap_counts.csv\n",
      "Saved DataFrame vis_snap_counts to raw_data\\2023\\Week5\\2023_Week5_DEN_vs_NYJ\\vis_snap_counts.csv\n",
      "Saved DataFrame home_drives to raw_data\\2023\\Week5\\2023_Week5_DEN_vs_NYJ\\home_drives.csv\n",
      "Saved DataFrame vis_drives to raw_data\\2023\\Week5\\2023_Week5_DEN_vs_NYJ\\vis_drives.csv\n",
      "Saved DataFrame pbp to raw_data\\2023\\Week5\\2023_Week5_DEN_vs_NYJ\\pbp.csv\n"
     ]
    },
    {
     "name": "stderr",
     "output_type": "stream",
     "text": [
      "C:\\Users\\jackj\\AppData\\Local\\Temp\\ipykernel_31996\\1469608065.py:49: MarkupResemblesLocatorWarning: The input looks more like a filename than markup. You may want to open this file and pass the filehandle into Beautiful Soup.\n",
      "  comment_soup = BeautifulSoup(comment, 'html.parser')\n"
     ]
    },
    {
     "name": "stdout",
     "output_type": "stream",
     "text": [
      "Saved DataFrame scoring to raw_data\\2023\\Week5\\2023_Week5_MIN_vs_KC\\scoring.csv\n",
      "Saved DataFrame player_offense to raw_data\\2023\\Week5\\2023_Week5_MIN_vs_KC\\player_offense.csv\n",
      "Saved DataFrame game_info to raw_data\\2023\\Week5\\2023_Week5_MIN_vs_KC\\game_info.csv\n",
      "Saved DataFrame officials to raw_data\\2023\\Week5\\2023_Week5_MIN_vs_KC\\officials.csv\n",
      "Saved DataFrame expected_points to raw_data\\2023\\Week5\\2023_Week5_MIN_vs_KC\\expected_points.csv\n",
      "Saved DataFrame team_stats to raw_data\\2023\\Week5\\2023_Week5_MIN_vs_KC\\team_stats.csv\n",
      "Saved DataFrame player_defense to raw_data\\2023\\Week5\\2023_Week5_MIN_vs_KC\\player_defense.csv\n",
      "Saved DataFrame returns to raw_data\\2023\\Week5\\2023_Week5_MIN_vs_KC\\returns.csv\n",
      "Saved DataFrame kicking to raw_data\\2023\\Week5\\2023_Week5_MIN_vs_KC\\kicking.csv\n",
      "Saved DataFrame passing_advanced to raw_data\\2023\\Week5\\2023_Week5_MIN_vs_KC\\passing_advanced.csv\n",
      "Saved DataFrame rushing_advanced to raw_data\\2023\\Week5\\2023_Week5_MIN_vs_KC\\rushing_advanced.csv\n",
      "Saved DataFrame receiving_advanced to raw_data\\2023\\Week5\\2023_Week5_MIN_vs_KC\\receiving_advanced.csv\n",
      "Saved DataFrame defense_advanced to raw_data\\2023\\Week5\\2023_Week5_MIN_vs_KC\\defense_advanced.csv\n",
      "Saved DataFrame home_starters to raw_data\\2023\\Week5\\2023_Week5_MIN_vs_KC\\home_starters.csv\n",
      "Saved DataFrame vis_starters to raw_data\\2023\\Week5\\2023_Week5_MIN_vs_KC\\vis_starters.csv\n",
      "Saved DataFrame home_snap_counts to raw_data\\2023\\Week5\\2023_Week5_MIN_vs_KC\\home_snap_counts.csv\n",
      "Saved DataFrame vis_snap_counts to raw_data\\2023\\Week5\\2023_Week5_MIN_vs_KC\\vis_snap_counts.csv\n",
      "Saved DataFrame home_drives to raw_data\\2023\\Week5\\2023_Week5_MIN_vs_KC\\home_drives.csv\n",
      "Saved DataFrame vis_drives to raw_data\\2023\\Week5\\2023_Week5_MIN_vs_KC\\vis_drives.csv\n",
      "Saved DataFrame pbp to raw_data\\2023\\Week5\\2023_Week5_MIN_vs_KC\\pbp.csv\n",
      "Reached 20 requests, sleeping for 60 seconds...\n"
     ]
    },
    {
     "name": "stderr",
     "output_type": "stream",
     "text": [
      "C:\\Users\\jackj\\AppData\\Local\\Temp\\ipykernel_31996\\1469608065.py:49: MarkupResemblesLocatorWarning: The input looks more like a filename than markup. You may want to open this file and pass the filehandle into Beautiful Soup.\n",
      "  comment_soup = BeautifulSoup(comment, 'html.parser')\n"
     ]
    },
    {
     "name": "stdout",
     "output_type": "stream",
     "text": [
      "Saved DataFrame scoring to raw_data\\2023\\Week5\\2023_Week5_SF_vs_DAL\\scoring.csv\n",
      "Saved DataFrame player_offense to raw_data\\2023\\Week5\\2023_Week5_SF_vs_DAL\\player_offense.csv\n",
      "Saved DataFrame game_info to raw_data\\2023\\Week5\\2023_Week5_SF_vs_DAL\\game_info.csv\n",
      "Saved DataFrame officials to raw_data\\2023\\Week5\\2023_Week5_SF_vs_DAL\\officials.csv\n",
      "Saved DataFrame expected_points to raw_data\\2023\\Week5\\2023_Week5_SF_vs_DAL\\expected_points.csv\n",
      "Saved DataFrame team_stats to raw_data\\2023\\Week5\\2023_Week5_SF_vs_DAL\\team_stats.csv\n",
      "Saved DataFrame player_defense to raw_data\\2023\\Week5\\2023_Week5_SF_vs_DAL\\player_defense.csv\n",
      "Saved DataFrame returns to raw_data\\2023\\Week5\\2023_Week5_SF_vs_DAL\\returns.csv\n",
      "Saved DataFrame kicking to raw_data\\2023\\Week5\\2023_Week5_SF_vs_DAL\\kicking.csv\n",
      "Saved DataFrame passing_advanced to raw_data\\2023\\Week5\\2023_Week5_SF_vs_DAL\\passing_advanced.csv\n",
      "Saved DataFrame rushing_advanced to raw_data\\2023\\Week5\\2023_Week5_SF_vs_DAL\\rushing_advanced.csv\n",
      "Saved DataFrame receiving_advanced to raw_data\\2023\\Week5\\2023_Week5_SF_vs_DAL\\receiving_advanced.csv\n",
      "Saved DataFrame defense_advanced to raw_data\\2023\\Week5\\2023_Week5_SF_vs_DAL\\defense_advanced.csv\n",
      "Saved DataFrame home_starters to raw_data\\2023\\Week5\\2023_Week5_SF_vs_DAL\\home_starters.csv\n",
      "Saved DataFrame vis_starters to raw_data\\2023\\Week5\\2023_Week5_SF_vs_DAL\\vis_starters.csv\n",
      "Saved DataFrame home_snap_counts to raw_data\\2023\\Week5\\2023_Week5_SF_vs_DAL\\home_snap_counts.csv\n",
      "Saved DataFrame vis_snap_counts to raw_data\\2023\\Week5\\2023_Week5_SF_vs_DAL\\vis_snap_counts.csv\n",
      "Saved DataFrame home_drives to raw_data\\2023\\Week5\\2023_Week5_SF_vs_DAL\\home_drives.csv\n",
      "Saved DataFrame vis_drives to raw_data\\2023\\Week5\\2023_Week5_SF_vs_DAL\\vis_drives.csv\n",
      "Saved DataFrame pbp to raw_data\\2023\\Week5\\2023_Week5_SF_vs_DAL\\pbp.csv\n"
     ]
    },
    {
     "name": "stderr",
     "output_type": "stream",
     "text": [
      "C:\\Users\\jackj\\AppData\\Local\\Temp\\ipykernel_31996\\1469608065.py:49: MarkupResemblesLocatorWarning: The input looks more like a filename than markup. You may want to open this file and pass the filehandle into Beautiful Soup.\n",
      "  comment_soup = BeautifulSoup(comment, 'html.parser')\n"
     ]
    },
    {
     "name": "stdout",
     "output_type": "stream",
     "text": [
      "Saved DataFrame scoring to raw_data\\2023\\Week5\\2023_Week5_LVR_vs_GB\\scoring.csv\n",
      "Saved DataFrame player_offense to raw_data\\2023\\Week5\\2023_Week5_LVR_vs_GB\\player_offense.csv\n",
      "Saved DataFrame game_info to raw_data\\2023\\Week5\\2023_Week5_LVR_vs_GB\\game_info.csv\n",
      "Saved DataFrame officials to raw_data\\2023\\Week5\\2023_Week5_LVR_vs_GB\\officials.csv\n",
      "Saved DataFrame expected_points to raw_data\\2023\\Week5\\2023_Week5_LVR_vs_GB\\expected_points.csv\n",
      "Saved DataFrame team_stats to raw_data\\2023\\Week5\\2023_Week5_LVR_vs_GB\\team_stats.csv\n",
      "Saved DataFrame player_defense to raw_data\\2023\\Week5\\2023_Week5_LVR_vs_GB\\player_defense.csv\n",
      "Saved DataFrame returns to raw_data\\2023\\Week5\\2023_Week5_LVR_vs_GB\\returns.csv\n",
      "Saved DataFrame kicking to raw_data\\2023\\Week5\\2023_Week5_LVR_vs_GB\\kicking.csv\n",
      "Saved DataFrame passing_advanced to raw_data\\2023\\Week5\\2023_Week5_LVR_vs_GB\\passing_advanced.csv\n",
      "Saved DataFrame rushing_advanced to raw_data\\2023\\Week5\\2023_Week5_LVR_vs_GB\\rushing_advanced.csv\n",
      "Saved DataFrame receiving_advanced to raw_data\\2023\\Week5\\2023_Week5_LVR_vs_GB\\receiving_advanced.csv\n",
      "Saved DataFrame defense_advanced to raw_data\\2023\\Week5\\2023_Week5_LVR_vs_GB\\defense_advanced.csv\n",
      "Saved DataFrame home_starters to raw_data\\2023\\Week5\\2023_Week5_LVR_vs_GB\\home_starters.csv\n",
      "Saved DataFrame vis_starters to raw_data\\2023\\Week5\\2023_Week5_LVR_vs_GB\\vis_starters.csv\n",
      "Saved DataFrame home_snap_counts to raw_data\\2023\\Week5\\2023_Week5_LVR_vs_GB\\home_snap_counts.csv\n",
      "Saved DataFrame vis_snap_counts to raw_data\\2023\\Week5\\2023_Week5_LVR_vs_GB\\vis_snap_counts.csv\n",
      "Saved DataFrame home_drives to raw_data\\2023\\Week5\\2023_Week5_LVR_vs_GB\\home_drives.csv\n",
      "Saved DataFrame vis_drives to raw_data\\2023\\Week5\\2023_Week5_LVR_vs_GB\\vis_drives.csv\n",
      "Saved DataFrame pbp to raw_data\\2023\\Week5\\2023_Week5_LVR_vs_GB\\pbp.csv\n"
     ]
    },
    {
     "name": "stderr",
     "output_type": "stream",
     "text": [
      "C:\\Users\\jackj\\AppData\\Local\\Temp\\ipykernel_31996\\1469608065.py:49: MarkupResemblesLocatorWarning: The input looks more like a filename than markup. You may want to open this file and pass the filehandle into Beautiful Soup.\n",
      "  comment_soup = BeautifulSoup(comment, 'html.parser')\n"
     ]
    },
    {
     "name": "stdout",
     "output_type": "stream",
     "text": [
      "Saved DataFrame scoring to raw_data\\2023\\Week6\\2023_Week6_KC_vs_DEN\\scoring.csv\n",
      "Saved DataFrame player_offense to raw_data\\2023\\Week6\\2023_Week6_KC_vs_DEN\\player_offense.csv\n",
      "Saved DataFrame game_info to raw_data\\2023\\Week6\\2023_Week6_KC_vs_DEN\\game_info.csv\n",
      "Saved DataFrame officials to raw_data\\2023\\Week6\\2023_Week6_KC_vs_DEN\\officials.csv\n",
      "Saved DataFrame expected_points to raw_data\\2023\\Week6\\2023_Week6_KC_vs_DEN\\expected_points.csv\n",
      "Saved DataFrame team_stats to raw_data\\2023\\Week6\\2023_Week6_KC_vs_DEN\\team_stats.csv\n",
      "Saved DataFrame player_defense to raw_data\\2023\\Week6\\2023_Week6_KC_vs_DEN\\player_defense.csv\n",
      "Saved DataFrame returns to raw_data\\2023\\Week6\\2023_Week6_KC_vs_DEN\\returns.csv\n",
      "Saved DataFrame kicking to raw_data\\2023\\Week6\\2023_Week6_KC_vs_DEN\\kicking.csv\n",
      "Saved DataFrame passing_advanced to raw_data\\2023\\Week6\\2023_Week6_KC_vs_DEN\\passing_advanced.csv\n",
      "Saved DataFrame rushing_advanced to raw_data\\2023\\Week6\\2023_Week6_KC_vs_DEN\\rushing_advanced.csv\n",
      "Saved DataFrame receiving_advanced to raw_data\\2023\\Week6\\2023_Week6_KC_vs_DEN\\receiving_advanced.csv\n",
      "Saved DataFrame defense_advanced to raw_data\\2023\\Week6\\2023_Week6_KC_vs_DEN\\defense_advanced.csv\n",
      "Saved DataFrame home_starters to raw_data\\2023\\Week6\\2023_Week6_KC_vs_DEN\\home_starters.csv\n",
      "Saved DataFrame vis_starters to raw_data\\2023\\Week6\\2023_Week6_KC_vs_DEN\\vis_starters.csv\n",
      "Saved DataFrame home_snap_counts to raw_data\\2023\\Week6\\2023_Week6_KC_vs_DEN\\home_snap_counts.csv\n",
      "Saved DataFrame vis_snap_counts to raw_data\\2023\\Week6\\2023_Week6_KC_vs_DEN\\vis_snap_counts.csv\n",
      "Saved DataFrame home_drives to raw_data\\2023\\Week6\\2023_Week6_KC_vs_DEN\\home_drives.csv\n",
      "Saved DataFrame vis_drives to raw_data\\2023\\Week6\\2023_Week6_KC_vs_DEN\\vis_drives.csv\n",
      "Saved DataFrame pbp to raw_data\\2023\\Week6\\2023_Week6_KC_vs_DEN\\pbp.csv\n"
     ]
    },
    {
     "name": "stderr",
     "output_type": "stream",
     "text": [
      "C:\\Users\\jackj\\AppData\\Local\\Temp\\ipykernel_31996\\1469608065.py:49: MarkupResemblesLocatorWarning: The input looks more like a filename than markup. You may want to open this file and pass the filehandle into Beautiful Soup.\n",
      "  comment_soup = BeautifulSoup(comment, 'html.parser')\n"
     ]
    },
    {
     "name": "stdout",
     "output_type": "stream",
     "text": [
      "Saved DataFrame scoring to raw_data\\2023\\Week6\\2023_Week6_TEN_vs_BAL\\scoring.csv\n",
      "Saved DataFrame player_offense to raw_data\\2023\\Week6\\2023_Week6_TEN_vs_BAL\\player_offense.csv\n",
      "Saved DataFrame game_info to raw_data\\2023\\Week6\\2023_Week6_TEN_vs_BAL\\game_info.csv\n",
      "Saved DataFrame officials to raw_data\\2023\\Week6\\2023_Week6_TEN_vs_BAL\\officials.csv\n",
      "Saved DataFrame expected_points to raw_data\\2023\\Week6\\2023_Week6_TEN_vs_BAL\\expected_points.csv\n",
      "Saved DataFrame team_stats to raw_data\\2023\\Week6\\2023_Week6_TEN_vs_BAL\\team_stats.csv\n",
      "Saved DataFrame player_defense to raw_data\\2023\\Week6\\2023_Week6_TEN_vs_BAL\\player_defense.csv\n",
      "Saved DataFrame returns to raw_data\\2023\\Week6\\2023_Week6_TEN_vs_BAL\\returns.csv\n",
      "Saved DataFrame kicking to raw_data\\2023\\Week6\\2023_Week6_TEN_vs_BAL\\kicking.csv\n",
      "Saved DataFrame passing_advanced to raw_data\\2023\\Week6\\2023_Week6_TEN_vs_BAL\\passing_advanced.csv\n",
      "Saved DataFrame rushing_advanced to raw_data\\2023\\Week6\\2023_Week6_TEN_vs_BAL\\rushing_advanced.csv\n",
      "Saved DataFrame receiving_advanced to raw_data\\2023\\Week6\\2023_Week6_TEN_vs_BAL\\receiving_advanced.csv\n",
      "Saved DataFrame defense_advanced to raw_data\\2023\\Week6\\2023_Week6_TEN_vs_BAL\\defense_advanced.csv\n",
      "Saved DataFrame home_starters to raw_data\\2023\\Week6\\2023_Week6_TEN_vs_BAL\\home_starters.csv\n",
      "Saved DataFrame vis_starters to raw_data\\2023\\Week6\\2023_Week6_TEN_vs_BAL\\vis_starters.csv\n",
      "Saved DataFrame home_snap_counts to raw_data\\2023\\Week6\\2023_Week6_TEN_vs_BAL\\home_snap_counts.csv\n",
      "Saved DataFrame vis_snap_counts to raw_data\\2023\\Week6\\2023_Week6_TEN_vs_BAL\\vis_snap_counts.csv\n",
      "Saved DataFrame home_drives to raw_data\\2023\\Week6\\2023_Week6_TEN_vs_BAL\\home_drives.csv\n",
      "Saved DataFrame vis_drives to raw_data\\2023\\Week6\\2023_Week6_TEN_vs_BAL\\vis_drives.csv\n",
      "Saved DataFrame pbp to raw_data\\2023\\Week6\\2023_Week6_TEN_vs_BAL\\pbp.csv\n"
     ]
    },
    {
     "name": "stderr",
     "output_type": "stream",
     "text": [
      "C:\\Users\\jackj\\AppData\\Local\\Temp\\ipykernel_31996\\1469608065.py:49: MarkupResemblesLocatorWarning: The input looks more like a filename than markup. You may want to open this file and pass the filehandle into Beautiful Soup.\n",
      "  comment_soup = BeautifulSoup(comment, 'html.parser')\n"
     ]
    },
    {
     "name": "stdout",
     "output_type": "stream",
     "text": [
      "Saved DataFrame scoring to raw_data\\2023\\Week6\\2023_Week6_CLE_vs_SF\\scoring.csv\n",
      "Saved DataFrame player_offense to raw_data\\2023\\Week6\\2023_Week6_CLE_vs_SF\\player_offense.csv\n",
      "Saved DataFrame game_info to raw_data\\2023\\Week6\\2023_Week6_CLE_vs_SF\\game_info.csv\n",
      "Saved DataFrame officials to raw_data\\2023\\Week6\\2023_Week6_CLE_vs_SF\\officials.csv\n",
      "Saved DataFrame expected_points to raw_data\\2023\\Week6\\2023_Week6_CLE_vs_SF\\expected_points.csv\n",
      "Saved DataFrame team_stats to raw_data\\2023\\Week6\\2023_Week6_CLE_vs_SF\\team_stats.csv\n",
      "Saved DataFrame player_defense to raw_data\\2023\\Week6\\2023_Week6_CLE_vs_SF\\player_defense.csv\n",
      "Saved DataFrame returns to raw_data\\2023\\Week6\\2023_Week6_CLE_vs_SF\\returns.csv\n",
      "Saved DataFrame kicking to raw_data\\2023\\Week6\\2023_Week6_CLE_vs_SF\\kicking.csv\n",
      "Saved DataFrame passing_advanced to raw_data\\2023\\Week6\\2023_Week6_CLE_vs_SF\\passing_advanced.csv\n",
      "Saved DataFrame rushing_advanced to raw_data\\2023\\Week6\\2023_Week6_CLE_vs_SF\\rushing_advanced.csv\n",
      "Saved DataFrame receiving_advanced to raw_data\\2023\\Week6\\2023_Week6_CLE_vs_SF\\receiving_advanced.csv\n",
      "Saved DataFrame defense_advanced to raw_data\\2023\\Week6\\2023_Week6_CLE_vs_SF\\defense_advanced.csv\n",
      "Saved DataFrame home_starters to raw_data\\2023\\Week6\\2023_Week6_CLE_vs_SF\\home_starters.csv\n",
      "Saved DataFrame vis_starters to raw_data\\2023\\Week6\\2023_Week6_CLE_vs_SF\\vis_starters.csv\n",
      "Saved DataFrame home_snap_counts to raw_data\\2023\\Week6\\2023_Week6_CLE_vs_SF\\home_snap_counts.csv\n",
      "Saved DataFrame vis_snap_counts to raw_data\\2023\\Week6\\2023_Week6_CLE_vs_SF\\vis_snap_counts.csv\n",
      "Saved DataFrame home_drives to raw_data\\2023\\Week6\\2023_Week6_CLE_vs_SF\\home_drives.csv\n",
      "Saved DataFrame vis_drives to raw_data\\2023\\Week6\\2023_Week6_CLE_vs_SF\\vis_drives.csv\n",
      "Saved DataFrame pbp to raw_data\\2023\\Week6\\2023_Week6_CLE_vs_SF\\pbp.csv\n"
     ]
    },
    {
     "name": "stderr",
     "output_type": "stream",
     "text": [
      "C:\\Users\\jackj\\AppData\\Local\\Temp\\ipykernel_31996\\1469608065.py:49: MarkupResemblesLocatorWarning: The input looks more like a filename than markup. You may want to open this file and pass the filehandle into Beautiful Soup.\n",
      "  comment_soup = BeautifulSoup(comment, 'html.parser')\n"
     ]
    },
    {
     "name": "stdout",
     "output_type": "stream",
     "text": [
      "Saved DataFrame scoring to raw_data\\2023\\Week6\\2023_Week6_ATL_vs_WAS\\scoring.csv\n",
      "Saved DataFrame player_offense to raw_data\\2023\\Week6\\2023_Week6_ATL_vs_WAS\\player_offense.csv\n",
      "Saved DataFrame game_info to raw_data\\2023\\Week6\\2023_Week6_ATL_vs_WAS\\game_info.csv\n",
      "Saved DataFrame officials to raw_data\\2023\\Week6\\2023_Week6_ATL_vs_WAS\\officials.csv\n",
      "Saved DataFrame expected_points to raw_data\\2023\\Week6\\2023_Week6_ATL_vs_WAS\\expected_points.csv\n",
      "Saved DataFrame team_stats to raw_data\\2023\\Week6\\2023_Week6_ATL_vs_WAS\\team_stats.csv\n",
      "Saved DataFrame player_defense to raw_data\\2023\\Week6\\2023_Week6_ATL_vs_WAS\\player_defense.csv\n",
      "Saved DataFrame returns to raw_data\\2023\\Week6\\2023_Week6_ATL_vs_WAS\\returns.csv\n",
      "Saved DataFrame kicking to raw_data\\2023\\Week6\\2023_Week6_ATL_vs_WAS\\kicking.csv\n",
      "Saved DataFrame passing_advanced to raw_data\\2023\\Week6\\2023_Week6_ATL_vs_WAS\\passing_advanced.csv\n",
      "Saved DataFrame rushing_advanced to raw_data\\2023\\Week6\\2023_Week6_ATL_vs_WAS\\rushing_advanced.csv\n",
      "Saved DataFrame receiving_advanced to raw_data\\2023\\Week6\\2023_Week6_ATL_vs_WAS\\receiving_advanced.csv\n",
      "Saved DataFrame defense_advanced to raw_data\\2023\\Week6\\2023_Week6_ATL_vs_WAS\\defense_advanced.csv\n",
      "Saved DataFrame home_starters to raw_data\\2023\\Week6\\2023_Week6_ATL_vs_WAS\\home_starters.csv\n",
      "Saved DataFrame vis_starters to raw_data\\2023\\Week6\\2023_Week6_ATL_vs_WAS\\vis_starters.csv\n",
      "Saved DataFrame home_snap_counts to raw_data\\2023\\Week6\\2023_Week6_ATL_vs_WAS\\home_snap_counts.csv\n",
      "Saved DataFrame vis_snap_counts to raw_data\\2023\\Week6\\2023_Week6_ATL_vs_WAS\\vis_snap_counts.csv\n",
      "Saved DataFrame home_drives to raw_data\\2023\\Week6\\2023_Week6_ATL_vs_WAS\\home_drives.csv\n",
      "Saved DataFrame vis_drives to raw_data\\2023\\Week6\\2023_Week6_ATL_vs_WAS\\vis_drives.csv\n",
      "Saved DataFrame pbp to raw_data\\2023\\Week6\\2023_Week6_ATL_vs_WAS\\pbp.csv\n"
     ]
    },
    {
     "name": "stderr",
     "output_type": "stream",
     "text": [
      "C:\\Users\\jackj\\AppData\\Local\\Temp\\ipykernel_31996\\1469608065.py:49: MarkupResemblesLocatorWarning: The input looks more like a filename than markup. You may want to open this file and pass the filehandle into Beautiful Soup.\n",
      "  comment_soup = BeautifulSoup(comment, 'html.parser')\n"
     ]
    },
    {
     "name": "stdout",
     "output_type": "stream",
     "text": [
      "Saved DataFrame scoring to raw_data\\2023\\Week6\\2023_Week6_MIA_vs_CAR\\scoring.csv\n",
      "Saved DataFrame player_offense to raw_data\\2023\\Week6\\2023_Week6_MIA_vs_CAR\\player_offense.csv\n",
      "Saved DataFrame game_info to raw_data\\2023\\Week6\\2023_Week6_MIA_vs_CAR\\game_info.csv\n",
      "Saved DataFrame officials to raw_data\\2023\\Week6\\2023_Week6_MIA_vs_CAR\\officials.csv\n",
      "Saved DataFrame expected_points to raw_data\\2023\\Week6\\2023_Week6_MIA_vs_CAR\\expected_points.csv\n",
      "Saved DataFrame team_stats to raw_data\\2023\\Week6\\2023_Week6_MIA_vs_CAR\\team_stats.csv\n",
      "Saved DataFrame player_defense to raw_data\\2023\\Week6\\2023_Week6_MIA_vs_CAR\\player_defense.csv\n",
      "Saved DataFrame returns to raw_data\\2023\\Week6\\2023_Week6_MIA_vs_CAR\\returns.csv\n",
      "Saved DataFrame kicking to raw_data\\2023\\Week6\\2023_Week6_MIA_vs_CAR\\kicking.csv\n",
      "Saved DataFrame passing_advanced to raw_data\\2023\\Week6\\2023_Week6_MIA_vs_CAR\\passing_advanced.csv\n",
      "Saved DataFrame rushing_advanced to raw_data\\2023\\Week6\\2023_Week6_MIA_vs_CAR\\rushing_advanced.csv\n",
      "Saved DataFrame receiving_advanced to raw_data\\2023\\Week6\\2023_Week6_MIA_vs_CAR\\receiving_advanced.csv\n",
      "Saved DataFrame defense_advanced to raw_data\\2023\\Week6\\2023_Week6_MIA_vs_CAR\\defense_advanced.csv\n",
      "Saved DataFrame home_starters to raw_data\\2023\\Week6\\2023_Week6_MIA_vs_CAR\\home_starters.csv\n",
      "Saved DataFrame vis_starters to raw_data\\2023\\Week6\\2023_Week6_MIA_vs_CAR\\vis_starters.csv\n",
      "Saved DataFrame home_snap_counts to raw_data\\2023\\Week6\\2023_Week6_MIA_vs_CAR\\home_snap_counts.csv\n",
      "Saved DataFrame vis_snap_counts to raw_data\\2023\\Week6\\2023_Week6_MIA_vs_CAR\\vis_snap_counts.csv\n",
      "Saved DataFrame home_drives to raw_data\\2023\\Week6\\2023_Week6_MIA_vs_CAR\\home_drives.csv\n",
      "Saved DataFrame vis_drives to raw_data\\2023\\Week6\\2023_Week6_MIA_vs_CAR\\vis_drives.csv\n",
      "Saved DataFrame pbp to raw_data\\2023\\Week6\\2023_Week6_MIA_vs_CAR\\pbp.csv\n"
     ]
    },
    {
     "name": "stderr",
     "output_type": "stream",
     "text": [
      "C:\\Users\\jackj\\AppData\\Local\\Temp\\ipykernel_31996\\1469608065.py:49: MarkupResemblesLocatorWarning: The input looks more like a filename than markup. You may want to open this file and pass the filehandle into Beautiful Soup.\n",
      "  comment_soup = BeautifulSoup(comment, 'html.parser')\n"
     ]
    },
    {
     "name": "stdout",
     "output_type": "stream",
     "text": [
      "Saved DataFrame scoring to raw_data\\2023\\Week6\\2023_Week6_CHI_vs_MIN\\scoring.csv\n",
      "Saved DataFrame player_offense to raw_data\\2023\\Week6\\2023_Week6_CHI_vs_MIN\\player_offense.csv\n",
      "Saved DataFrame game_info to raw_data\\2023\\Week6\\2023_Week6_CHI_vs_MIN\\game_info.csv\n",
      "Saved DataFrame officials to raw_data\\2023\\Week6\\2023_Week6_CHI_vs_MIN\\officials.csv\n",
      "Saved DataFrame expected_points to raw_data\\2023\\Week6\\2023_Week6_CHI_vs_MIN\\expected_points.csv\n",
      "Saved DataFrame team_stats to raw_data\\2023\\Week6\\2023_Week6_CHI_vs_MIN\\team_stats.csv\n",
      "Saved DataFrame player_defense to raw_data\\2023\\Week6\\2023_Week6_CHI_vs_MIN\\player_defense.csv\n",
      "Saved DataFrame returns to raw_data\\2023\\Week6\\2023_Week6_CHI_vs_MIN\\returns.csv\n",
      "Saved DataFrame kicking to raw_data\\2023\\Week6\\2023_Week6_CHI_vs_MIN\\kicking.csv\n",
      "Saved DataFrame passing_advanced to raw_data\\2023\\Week6\\2023_Week6_CHI_vs_MIN\\passing_advanced.csv\n",
      "Saved DataFrame rushing_advanced to raw_data\\2023\\Week6\\2023_Week6_CHI_vs_MIN\\rushing_advanced.csv\n",
      "Saved DataFrame receiving_advanced to raw_data\\2023\\Week6\\2023_Week6_CHI_vs_MIN\\receiving_advanced.csv\n",
      "Saved DataFrame defense_advanced to raw_data\\2023\\Week6\\2023_Week6_CHI_vs_MIN\\defense_advanced.csv\n",
      "Saved DataFrame home_starters to raw_data\\2023\\Week6\\2023_Week6_CHI_vs_MIN\\home_starters.csv\n",
      "Saved DataFrame vis_starters to raw_data\\2023\\Week6\\2023_Week6_CHI_vs_MIN\\vis_starters.csv\n",
      "Saved DataFrame home_snap_counts to raw_data\\2023\\Week6\\2023_Week6_CHI_vs_MIN\\home_snap_counts.csv\n",
      "Saved DataFrame vis_snap_counts to raw_data\\2023\\Week6\\2023_Week6_CHI_vs_MIN\\vis_snap_counts.csv\n",
      "Saved DataFrame home_drives to raw_data\\2023\\Week6\\2023_Week6_CHI_vs_MIN\\home_drives.csv\n",
      "Saved DataFrame vis_drives to raw_data\\2023\\Week6\\2023_Week6_CHI_vs_MIN\\vis_drives.csv\n",
      "Saved DataFrame pbp to raw_data\\2023\\Week6\\2023_Week6_CHI_vs_MIN\\pbp.csv\n"
     ]
    },
    {
     "name": "stderr",
     "output_type": "stream",
     "text": [
      "C:\\Users\\jackj\\AppData\\Local\\Temp\\ipykernel_31996\\1469608065.py:49: MarkupResemblesLocatorWarning: The input looks more like a filename than markup. You may want to open this file and pass the filehandle into Beautiful Soup.\n",
      "  comment_soup = BeautifulSoup(comment, 'html.parser')\n"
     ]
    },
    {
     "name": "stdout",
     "output_type": "stream",
     "text": [
      "Saved DataFrame scoring to raw_data\\2023\\Week6\\2023_Week6_CIN_vs_SEA\\scoring.csv\n",
      "Saved DataFrame player_offense to raw_data\\2023\\Week6\\2023_Week6_CIN_vs_SEA\\player_offense.csv\n",
      "Saved DataFrame game_info to raw_data\\2023\\Week6\\2023_Week6_CIN_vs_SEA\\game_info.csv\n",
      "Saved DataFrame officials to raw_data\\2023\\Week6\\2023_Week6_CIN_vs_SEA\\officials.csv\n",
      "Saved DataFrame expected_points to raw_data\\2023\\Week6\\2023_Week6_CIN_vs_SEA\\expected_points.csv\n",
      "Saved DataFrame team_stats to raw_data\\2023\\Week6\\2023_Week6_CIN_vs_SEA\\team_stats.csv\n",
      "Saved DataFrame player_defense to raw_data\\2023\\Week6\\2023_Week6_CIN_vs_SEA\\player_defense.csv\n",
      "Saved DataFrame returns to raw_data\\2023\\Week6\\2023_Week6_CIN_vs_SEA\\returns.csv\n",
      "Saved DataFrame kicking to raw_data\\2023\\Week6\\2023_Week6_CIN_vs_SEA\\kicking.csv\n",
      "Saved DataFrame passing_advanced to raw_data\\2023\\Week6\\2023_Week6_CIN_vs_SEA\\passing_advanced.csv\n",
      "Saved DataFrame rushing_advanced to raw_data\\2023\\Week6\\2023_Week6_CIN_vs_SEA\\rushing_advanced.csv\n",
      "Saved DataFrame receiving_advanced to raw_data\\2023\\Week6\\2023_Week6_CIN_vs_SEA\\receiving_advanced.csv\n",
      "Saved DataFrame defense_advanced to raw_data\\2023\\Week6\\2023_Week6_CIN_vs_SEA\\defense_advanced.csv\n",
      "Saved DataFrame home_starters to raw_data\\2023\\Week6\\2023_Week6_CIN_vs_SEA\\home_starters.csv\n",
      "Saved DataFrame vis_starters to raw_data\\2023\\Week6\\2023_Week6_CIN_vs_SEA\\vis_starters.csv\n",
      "Saved DataFrame home_snap_counts to raw_data\\2023\\Week6\\2023_Week6_CIN_vs_SEA\\home_snap_counts.csv\n",
      "Saved DataFrame vis_snap_counts to raw_data\\2023\\Week6\\2023_Week6_CIN_vs_SEA\\vis_snap_counts.csv\n",
      "Saved DataFrame home_drives to raw_data\\2023\\Week6\\2023_Week6_CIN_vs_SEA\\home_drives.csv\n",
      "Saved DataFrame vis_drives to raw_data\\2023\\Week6\\2023_Week6_CIN_vs_SEA\\vis_drives.csv\n",
      "Saved DataFrame pbp to raw_data\\2023\\Week6\\2023_Week6_CIN_vs_SEA\\pbp.csv\n"
     ]
    },
    {
     "name": "stderr",
     "output_type": "stream",
     "text": [
      "C:\\Users\\jackj\\AppData\\Local\\Temp\\ipykernel_31996\\1469608065.py:49: MarkupResemblesLocatorWarning: The input looks more like a filename than markup. You may want to open this file and pass the filehandle into Beautiful Soup.\n",
      "  comment_soup = BeautifulSoup(comment, 'html.parser')\n"
     ]
    },
    {
     "name": "stdout",
     "output_type": "stream",
     "text": [
      "Saved DataFrame scoring to raw_data\\2023\\Week6\\2023_Week6_JAX_vs_IND\\scoring.csv\n",
      "Saved DataFrame player_offense to raw_data\\2023\\Week6\\2023_Week6_JAX_vs_IND\\player_offense.csv\n",
      "Saved DataFrame game_info to raw_data\\2023\\Week6\\2023_Week6_JAX_vs_IND\\game_info.csv\n",
      "Saved DataFrame officials to raw_data\\2023\\Week6\\2023_Week6_JAX_vs_IND\\officials.csv\n",
      "Saved DataFrame expected_points to raw_data\\2023\\Week6\\2023_Week6_JAX_vs_IND\\expected_points.csv\n",
      "Saved DataFrame team_stats to raw_data\\2023\\Week6\\2023_Week6_JAX_vs_IND\\team_stats.csv\n",
      "Saved DataFrame player_defense to raw_data\\2023\\Week6\\2023_Week6_JAX_vs_IND\\player_defense.csv\n",
      "Saved DataFrame returns to raw_data\\2023\\Week6\\2023_Week6_JAX_vs_IND\\returns.csv\n",
      "Saved DataFrame kicking to raw_data\\2023\\Week6\\2023_Week6_JAX_vs_IND\\kicking.csv\n",
      "Saved DataFrame passing_advanced to raw_data\\2023\\Week6\\2023_Week6_JAX_vs_IND\\passing_advanced.csv\n",
      "Saved DataFrame rushing_advanced to raw_data\\2023\\Week6\\2023_Week6_JAX_vs_IND\\rushing_advanced.csv\n",
      "Saved DataFrame receiving_advanced to raw_data\\2023\\Week6\\2023_Week6_JAX_vs_IND\\receiving_advanced.csv\n",
      "Saved DataFrame defense_advanced to raw_data\\2023\\Week6\\2023_Week6_JAX_vs_IND\\defense_advanced.csv\n",
      "Saved DataFrame home_starters to raw_data\\2023\\Week6\\2023_Week6_JAX_vs_IND\\home_starters.csv\n",
      "Saved DataFrame vis_starters to raw_data\\2023\\Week6\\2023_Week6_JAX_vs_IND\\vis_starters.csv\n",
      "Saved DataFrame home_snap_counts to raw_data\\2023\\Week6\\2023_Week6_JAX_vs_IND\\home_snap_counts.csv\n",
      "Saved DataFrame vis_snap_counts to raw_data\\2023\\Week6\\2023_Week6_JAX_vs_IND\\vis_snap_counts.csv\n",
      "Saved DataFrame home_drives to raw_data\\2023\\Week6\\2023_Week6_JAX_vs_IND\\home_drives.csv\n",
      "Saved DataFrame vis_drives to raw_data\\2023\\Week6\\2023_Week6_JAX_vs_IND\\vis_drives.csv\n",
      "Saved DataFrame pbp to raw_data\\2023\\Week6\\2023_Week6_JAX_vs_IND\\pbp.csv\n"
     ]
    },
    {
     "name": "stderr",
     "output_type": "stream",
     "text": [
      "C:\\Users\\jackj\\AppData\\Local\\Temp\\ipykernel_31996\\1469608065.py:49: MarkupResemblesLocatorWarning: The input looks more like a filename than markup. You may want to open this file and pass the filehandle into Beautiful Soup.\n",
      "  comment_soup = BeautifulSoup(comment, 'html.parser')\n"
     ]
    },
    {
     "name": "stdout",
     "output_type": "stream",
     "text": [
      "Saved DataFrame scoring to raw_data\\2023\\Week6\\2023_Week6_HOU_vs_NO\\scoring.csv\n",
      "Saved DataFrame player_offense to raw_data\\2023\\Week6\\2023_Week6_HOU_vs_NO\\player_offense.csv\n",
      "Saved DataFrame game_info to raw_data\\2023\\Week6\\2023_Week6_HOU_vs_NO\\game_info.csv\n",
      "Saved DataFrame officials to raw_data\\2023\\Week6\\2023_Week6_HOU_vs_NO\\officials.csv\n",
      "Saved DataFrame expected_points to raw_data\\2023\\Week6\\2023_Week6_HOU_vs_NO\\expected_points.csv\n",
      "Saved DataFrame team_stats to raw_data\\2023\\Week6\\2023_Week6_HOU_vs_NO\\team_stats.csv\n",
      "Saved DataFrame player_defense to raw_data\\2023\\Week6\\2023_Week6_HOU_vs_NO\\player_defense.csv\n",
      "Saved DataFrame returns to raw_data\\2023\\Week6\\2023_Week6_HOU_vs_NO\\returns.csv\n",
      "Saved DataFrame kicking to raw_data\\2023\\Week6\\2023_Week6_HOU_vs_NO\\kicking.csv\n",
      "Saved DataFrame passing_advanced to raw_data\\2023\\Week6\\2023_Week6_HOU_vs_NO\\passing_advanced.csv\n",
      "Saved DataFrame rushing_advanced to raw_data\\2023\\Week6\\2023_Week6_HOU_vs_NO\\rushing_advanced.csv\n",
      "Saved DataFrame receiving_advanced to raw_data\\2023\\Week6\\2023_Week6_HOU_vs_NO\\receiving_advanced.csv\n",
      "Saved DataFrame defense_advanced to raw_data\\2023\\Week6\\2023_Week6_HOU_vs_NO\\defense_advanced.csv\n",
      "Saved DataFrame home_starters to raw_data\\2023\\Week6\\2023_Week6_HOU_vs_NO\\home_starters.csv\n",
      "Saved DataFrame vis_starters to raw_data\\2023\\Week6\\2023_Week6_HOU_vs_NO\\vis_starters.csv\n",
      "Saved DataFrame home_snap_counts to raw_data\\2023\\Week6\\2023_Week6_HOU_vs_NO\\home_snap_counts.csv\n",
      "Saved DataFrame vis_snap_counts to raw_data\\2023\\Week6\\2023_Week6_HOU_vs_NO\\vis_snap_counts.csv\n",
      "Saved DataFrame home_drives to raw_data\\2023\\Week6\\2023_Week6_HOU_vs_NO\\home_drives.csv\n",
      "Saved DataFrame vis_drives to raw_data\\2023\\Week6\\2023_Week6_HOU_vs_NO\\vis_drives.csv\n",
      "Saved DataFrame pbp to raw_data\\2023\\Week6\\2023_Week6_HOU_vs_NO\\pbp.csv\n"
     ]
    },
    {
     "name": "stderr",
     "output_type": "stream",
     "text": [
      "C:\\Users\\jackj\\AppData\\Local\\Temp\\ipykernel_31996\\1469608065.py:49: MarkupResemblesLocatorWarning: The input looks more like a filename than markup. You may want to open this file and pass the filehandle into Beautiful Soup.\n",
      "  comment_soup = BeautifulSoup(comment, 'html.parser')\n"
     ]
    },
    {
     "name": "stdout",
     "output_type": "stream",
     "text": [
      "Saved DataFrame scoring to raw_data\\2023\\Week6\\2023_Week6_LVR_vs_NE\\scoring.csv\n",
      "Saved DataFrame player_offense to raw_data\\2023\\Week6\\2023_Week6_LVR_vs_NE\\player_offense.csv\n",
      "Saved DataFrame game_info to raw_data\\2023\\Week6\\2023_Week6_LVR_vs_NE\\game_info.csv\n",
      "Saved DataFrame officials to raw_data\\2023\\Week6\\2023_Week6_LVR_vs_NE\\officials.csv\n",
      "Saved DataFrame expected_points to raw_data\\2023\\Week6\\2023_Week6_LVR_vs_NE\\expected_points.csv\n",
      "Saved DataFrame team_stats to raw_data\\2023\\Week6\\2023_Week6_LVR_vs_NE\\team_stats.csv\n",
      "Saved DataFrame player_defense to raw_data\\2023\\Week6\\2023_Week6_LVR_vs_NE\\player_defense.csv\n",
      "Saved DataFrame returns to raw_data\\2023\\Week6\\2023_Week6_LVR_vs_NE\\returns.csv\n",
      "Saved DataFrame kicking to raw_data\\2023\\Week6\\2023_Week6_LVR_vs_NE\\kicking.csv\n",
      "Saved DataFrame passing_advanced to raw_data\\2023\\Week6\\2023_Week6_LVR_vs_NE\\passing_advanced.csv\n",
      "Saved DataFrame rushing_advanced to raw_data\\2023\\Week6\\2023_Week6_LVR_vs_NE\\rushing_advanced.csv\n",
      "Saved DataFrame receiving_advanced to raw_data\\2023\\Week6\\2023_Week6_LVR_vs_NE\\receiving_advanced.csv\n",
      "Saved DataFrame defense_advanced to raw_data\\2023\\Week6\\2023_Week6_LVR_vs_NE\\defense_advanced.csv\n",
      "Saved DataFrame home_starters to raw_data\\2023\\Week6\\2023_Week6_LVR_vs_NE\\home_starters.csv\n",
      "Saved DataFrame vis_starters to raw_data\\2023\\Week6\\2023_Week6_LVR_vs_NE\\vis_starters.csv\n",
      "Saved DataFrame home_snap_counts to raw_data\\2023\\Week6\\2023_Week6_LVR_vs_NE\\home_snap_counts.csv\n",
      "Saved DataFrame vis_snap_counts to raw_data\\2023\\Week6\\2023_Week6_LVR_vs_NE\\vis_snap_counts.csv\n",
      "Saved DataFrame home_drives to raw_data\\2023\\Week6\\2023_Week6_LVR_vs_NE\\home_drives.csv\n",
      "Saved DataFrame vis_drives to raw_data\\2023\\Week6\\2023_Week6_LVR_vs_NE\\vis_drives.csv\n",
      "Saved DataFrame pbp to raw_data\\2023\\Week6\\2023_Week6_LVR_vs_NE\\pbp.csv\n"
     ]
    },
    {
     "name": "stderr",
     "output_type": "stream",
     "text": [
      "C:\\Users\\jackj\\AppData\\Local\\Temp\\ipykernel_31996\\1469608065.py:49: MarkupResemblesLocatorWarning: The input looks more like a filename than markup. You may want to open this file and pass the filehandle into Beautiful Soup.\n",
      "  comment_soup = BeautifulSoup(comment, 'html.parser')\n"
     ]
    },
    {
     "name": "stdout",
     "output_type": "stream",
     "text": [
      "Saved DataFrame scoring to raw_data\\2023\\Week6\\2023_Week6_LAR_vs_ARI\\scoring.csv\n",
      "Saved DataFrame player_offense to raw_data\\2023\\Week6\\2023_Week6_LAR_vs_ARI\\player_offense.csv\n",
      "Saved DataFrame game_info to raw_data\\2023\\Week6\\2023_Week6_LAR_vs_ARI\\game_info.csv\n",
      "Saved DataFrame officials to raw_data\\2023\\Week6\\2023_Week6_LAR_vs_ARI\\officials.csv\n",
      "Saved DataFrame expected_points to raw_data\\2023\\Week6\\2023_Week6_LAR_vs_ARI\\expected_points.csv\n",
      "Saved DataFrame team_stats to raw_data\\2023\\Week6\\2023_Week6_LAR_vs_ARI\\team_stats.csv\n",
      "Saved DataFrame player_defense to raw_data\\2023\\Week6\\2023_Week6_LAR_vs_ARI\\player_defense.csv\n",
      "Saved DataFrame returns to raw_data\\2023\\Week6\\2023_Week6_LAR_vs_ARI\\returns.csv\n",
      "Saved DataFrame kicking to raw_data\\2023\\Week6\\2023_Week6_LAR_vs_ARI\\kicking.csv\n",
      "Saved DataFrame passing_advanced to raw_data\\2023\\Week6\\2023_Week6_LAR_vs_ARI\\passing_advanced.csv\n",
      "Saved DataFrame rushing_advanced to raw_data\\2023\\Week6\\2023_Week6_LAR_vs_ARI\\rushing_advanced.csv\n",
      "Saved DataFrame receiving_advanced to raw_data\\2023\\Week6\\2023_Week6_LAR_vs_ARI\\receiving_advanced.csv\n",
      "Saved DataFrame defense_advanced to raw_data\\2023\\Week6\\2023_Week6_LAR_vs_ARI\\defense_advanced.csv\n",
      "Saved DataFrame home_starters to raw_data\\2023\\Week6\\2023_Week6_LAR_vs_ARI\\home_starters.csv\n",
      "Saved DataFrame vis_starters to raw_data\\2023\\Week6\\2023_Week6_LAR_vs_ARI\\vis_starters.csv\n",
      "Saved DataFrame home_snap_counts to raw_data\\2023\\Week6\\2023_Week6_LAR_vs_ARI\\home_snap_counts.csv\n",
      "Saved DataFrame vis_snap_counts to raw_data\\2023\\Week6\\2023_Week6_LAR_vs_ARI\\vis_snap_counts.csv\n",
      "Saved DataFrame home_drives to raw_data\\2023\\Week6\\2023_Week6_LAR_vs_ARI\\home_drives.csv\n",
      "Saved DataFrame vis_drives to raw_data\\2023\\Week6\\2023_Week6_LAR_vs_ARI\\vis_drives.csv\n",
      "Saved DataFrame pbp to raw_data\\2023\\Week6\\2023_Week6_LAR_vs_ARI\\pbp.csv\n"
     ]
    },
    {
     "name": "stderr",
     "output_type": "stream",
     "text": [
      "C:\\Users\\jackj\\AppData\\Local\\Temp\\ipykernel_31996\\1469608065.py:49: MarkupResemblesLocatorWarning: The input looks more like a filename than markup. You may want to open this file and pass the filehandle into Beautiful Soup.\n",
      "  comment_soup = BeautifulSoup(comment, 'html.parser')\n"
     ]
    },
    {
     "name": "stdout",
     "output_type": "stream",
     "text": [
      "Saved DataFrame scoring to raw_data\\2023\\Week6\\2023_Week6_TB_vs_DET\\scoring.csv\n",
      "Saved DataFrame player_offense to raw_data\\2023\\Week6\\2023_Week6_TB_vs_DET\\player_offense.csv\n",
      "Saved DataFrame game_info to raw_data\\2023\\Week6\\2023_Week6_TB_vs_DET\\game_info.csv\n",
      "Saved DataFrame officials to raw_data\\2023\\Week6\\2023_Week6_TB_vs_DET\\officials.csv\n",
      "Saved DataFrame expected_points to raw_data\\2023\\Week6\\2023_Week6_TB_vs_DET\\expected_points.csv\n",
      "Saved DataFrame team_stats to raw_data\\2023\\Week6\\2023_Week6_TB_vs_DET\\team_stats.csv\n",
      "Saved DataFrame player_defense to raw_data\\2023\\Week6\\2023_Week6_TB_vs_DET\\player_defense.csv\n",
      "Saved DataFrame returns to raw_data\\2023\\Week6\\2023_Week6_TB_vs_DET\\returns.csv\n",
      "Saved DataFrame kicking to raw_data\\2023\\Week6\\2023_Week6_TB_vs_DET\\kicking.csv\n",
      "Saved DataFrame passing_advanced to raw_data\\2023\\Week6\\2023_Week6_TB_vs_DET\\passing_advanced.csv\n",
      "Saved DataFrame rushing_advanced to raw_data\\2023\\Week6\\2023_Week6_TB_vs_DET\\rushing_advanced.csv\n",
      "Saved DataFrame receiving_advanced to raw_data\\2023\\Week6\\2023_Week6_TB_vs_DET\\receiving_advanced.csv\n",
      "Saved DataFrame defense_advanced to raw_data\\2023\\Week6\\2023_Week6_TB_vs_DET\\defense_advanced.csv\n",
      "Saved DataFrame home_starters to raw_data\\2023\\Week6\\2023_Week6_TB_vs_DET\\home_starters.csv\n",
      "Saved DataFrame vis_starters to raw_data\\2023\\Week6\\2023_Week6_TB_vs_DET\\vis_starters.csv\n",
      "Saved DataFrame home_snap_counts to raw_data\\2023\\Week6\\2023_Week6_TB_vs_DET\\home_snap_counts.csv\n",
      "Saved DataFrame vis_snap_counts to raw_data\\2023\\Week6\\2023_Week6_TB_vs_DET\\vis_snap_counts.csv\n",
      "Saved DataFrame home_drives to raw_data\\2023\\Week6\\2023_Week6_TB_vs_DET\\home_drives.csv\n",
      "Saved DataFrame vis_drives to raw_data\\2023\\Week6\\2023_Week6_TB_vs_DET\\vis_drives.csv\n",
      "Saved DataFrame pbp to raw_data\\2023\\Week6\\2023_Week6_TB_vs_DET\\pbp.csv\n"
     ]
    },
    {
     "name": "stderr",
     "output_type": "stream",
     "text": [
      "C:\\Users\\jackj\\AppData\\Local\\Temp\\ipykernel_31996\\1469608065.py:49: MarkupResemblesLocatorWarning: The input looks more like a filename than markup. You may want to open this file and pass the filehandle into Beautiful Soup.\n",
      "  comment_soup = BeautifulSoup(comment, 'html.parser')\n"
     ]
    },
    {
     "name": "stdout",
     "output_type": "stream",
     "text": [
      "Saved DataFrame scoring to raw_data\\2023\\Week6\\2023_Week6_NYJ_vs_PHI\\scoring.csv\n",
      "Saved DataFrame player_offense to raw_data\\2023\\Week6\\2023_Week6_NYJ_vs_PHI\\player_offense.csv\n",
      "Saved DataFrame game_info to raw_data\\2023\\Week6\\2023_Week6_NYJ_vs_PHI\\game_info.csv\n",
      "Saved DataFrame officials to raw_data\\2023\\Week6\\2023_Week6_NYJ_vs_PHI\\officials.csv\n",
      "Saved DataFrame expected_points to raw_data\\2023\\Week6\\2023_Week6_NYJ_vs_PHI\\expected_points.csv\n",
      "Saved DataFrame team_stats to raw_data\\2023\\Week6\\2023_Week6_NYJ_vs_PHI\\team_stats.csv\n",
      "Saved DataFrame player_defense to raw_data\\2023\\Week6\\2023_Week6_NYJ_vs_PHI\\player_defense.csv\n",
      "Saved DataFrame returns to raw_data\\2023\\Week6\\2023_Week6_NYJ_vs_PHI\\returns.csv\n",
      "Saved DataFrame kicking to raw_data\\2023\\Week6\\2023_Week6_NYJ_vs_PHI\\kicking.csv\n",
      "Saved DataFrame passing_advanced to raw_data\\2023\\Week6\\2023_Week6_NYJ_vs_PHI\\passing_advanced.csv\n",
      "Saved DataFrame rushing_advanced to raw_data\\2023\\Week6\\2023_Week6_NYJ_vs_PHI\\rushing_advanced.csv\n",
      "Saved DataFrame receiving_advanced to raw_data\\2023\\Week6\\2023_Week6_NYJ_vs_PHI\\receiving_advanced.csv\n",
      "Saved DataFrame defense_advanced to raw_data\\2023\\Week6\\2023_Week6_NYJ_vs_PHI\\defense_advanced.csv\n",
      "Saved DataFrame home_starters to raw_data\\2023\\Week6\\2023_Week6_NYJ_vs_PHI\\home_starters.csv\n",
      "Saved DataFrame vis_starters to raw_data\\2023\\Week6\\2023_Week6_NYJ_vs_PHI\\vis_starters.csv\n",
      "Saved DataFrame home_snap_counts to raw_data\\2023\\Week6\\2023_Week6_NYJ_vs_PHI\\home_snap_counts.csv\n",
      "Saved DataFrame vis_snap_counts to raw_data\\2023\\Week6\\2023_Week6_NYJ_vs_PHI\\vis_snap_counts.csv\n",
      "Saved DataFrame home_drives to raw_data\\2023\\Week6\\2023_Week6_NYJ_vs_PHI\\home_drives.csv\n",
      "Saved DataFrame vis_drives to raw_data\\2023\\Week6\\2023_Week6_NYJ_vs_PHI\\vis_drives.csv\n",
      "Saved DataFrame pbp to raw_data\\2023\\Week6\\2023_Week6_NYJ_vs_PHI\\pbp.csv\n"
     ]
    },
    {
     "name": "stderr",
     "output_type": "stream",
     "text": [
      "C:\\Users\\jackj\\AppData\\Local\\Temp\\ipykernel_31996\\1469608065.py:49: MarkupResemblesLocatorWarning: The input looks more like a filename than markup. You may want to open this file and pass the filehandle into Beautiful Soup.\n",
      "  comment_soup = BeautifulSoup(comment, 'html.parser')\n"
     ]
    },
    {
     "name": "stdout",
     "output_type": "stream",
     "text": [
      "Saved DataFrame scoring to raw_data\\2023\\Week6\\2023_Week6_BUF_vs_NYG\\scoring.csv\n",
      "Saved DataFrame player_offense to raw_data\\2023\\Week6\\2023_Week6_BUF_vs_NYG\\player_offense.csv\n",
      "Saved DataFrame game_info to raw_data\\2023\\Week6\\2023_Week6_BUF_vs_NYG\\game_info.csv\n",
      "Saved DataFrame officials to raw_data\\2023\\Week6\\2023_Week6_BUF_vs_NYG\\officials.csv\n",
      "Saved DataFrame expected_points to raw_data\\2023\\Week6\\2023_Week6_BUF_vs_NYG\\expected_points.csv\n",
      "Saved DataFrame team_stats to raw_data\\2023\\Week6\\2023_Week6_BUF_vs_NYG\\team_stats.csv\n",
      "Saved DataFrame player_defense to raw_data\\2023\\Week6\\2023_Week6_BUF_vs_NYG\\player_defense.csv\n",
      "Saved DataFrame returns to raw_data\\2023\\Week6\\2023_Week6_BUF_vs_NYG\\returns.csv\n",
      "Saved DataFrame kicking to raw_data\\2023\\Week6\\2023_Week6_BUF_vs_NYG\\kicking.csv\n",
      "Saved DataFrame passing_advanced to raw_data\\2023\\Week6\\2023_Week6_BUF_vs_NYG\\passing_advanced.csv\n",
      "Saved DataFrame rushing_advanced to raw_data\\2023\\Week6\\2023_Week6_BUF_vs_NYG\\rushing_advanced.csv\n",
      "Saved DataFrame receiving_advanced to raw_data\\2023\\Week6\\2023_Week6_BUF_vs_NYG\\receiving_advanced.csv\n",
      "Saved DataFrame defense_advanced to raw_data\\2023\\Week6\\2023_Week6_BUF_vs_NYG\\defense_advanced.csv\n",
      "Saved DataFrame home_starters to raw_data\\2023\\Week6\\2023_Week6_BUF_vs_NYG\\home_starters.csv\n",
      "Saved DataFrame vis_starters to raw_data\\2023\\Week6\\2023_Week6_BUF_vs_NYG\\vis_starters.csv\n",
      "Saved DataFrame home_snap_counts to raw_data\\2023\\Week6\\2023_Week6_BUF_vs_NYG\\home_snap_counts.csv\n",
      "Saved DataFrame vis_snap_counts to raw_data\\2023\\Week6\\2023_Week6_BUF_vs_NYG\\vis_snap_counts.csv\n",
      "Saved DataFrame home_drives to raw_data\\2023\\Week6\\2023_Week6_BUF_vs_NYG\\home_drives.csv\n",
      "Saved DataFrame vis_drives to raw_data\\2023\\Week6\\2023_Week6_BUF_vs_NYG\\vis_drives.csv\n",
      "Saved DataFrame pbp to raw_data\\2023\\Week6\\2023_Week6_BUF_vs_NYG\\pbp.csv\n"
     ]
    },
    {
     "name": "stderr",
     "output_type": "stream",
     "text": [
      "C:\\Users\\jackj\\AppData\\Local\\Temp\\ipykernel_31996\\1469608065.py:49: MarkupResemblesLocatorWarning: The input looks more like a filename than markup. You may want to open this file and pass the filehandle into Beautiful Soup.\n",
      "  comment_soup = BeautifulSoup(comment, 'html.parser')\n"
     ]
    },
    {
     "name": "stdout",
     "output_type": "stream",
     "text": [
      "Saved DataFrame scoring to raw_data\\2023\\Week6\\2023_Week6_LAC_vs_DAL\\scoring.csv\n",
      "Saved DataFrame player_offense to raw_data\\2023\\Week6\\2023_Week6_LAC_vs_DAL\\player_offense.csv\n",
      "Saved DataFrame game_info to raw_data\\2023\\Week6\\2023_Week6_LAC_vs_DAL\\game_info.csv\n",
      "Saved DataFrame officials to raw_data\\2023\\Week6\\2023_Week6_LAC_vs_DAL\\officials.csv\n",
      "Saved DataFrame expected_points to raw_data\\2023\\Week6\\2023_Week6_LAC_vs_DAL\\expected_points.csv\n",
      "Saved DataFrame team_stats to raw_data\\2023\\Week6\\2023_Week6_LAC_vs_DAL\\team_stats.csv\n",
      "Saved DataFrame player_defense to raw_data\\2023\\Week6\\2023_Week6_LAC_vs_DAL\\player_defense.csv\n",
      "Saved DataFrame returns to raw_data\\2023\\Week6\\2023_Week6_LAC_vs_DAL\\returns.csv\n",
      "Saved DataFrame kicking to raw_data\\2023\\Week6\\2023_Week6_LAC_vs_DAL\\kicking.csv\n",
      "Saved DataFrame passing_advanced to raw_data\\2023\\Week6\\2023_Week6_LAC_vs_DAL\\passing_advanced.csv\n",
      "Saved DataFrame rushing_advanced to raw_data\\2023\\Week6\\2023_Week6_LAC_vs_DAL\\rushing_advanced.csv\n",
      "Saved DataFrame receiving_advanced to raw_data\\2023\\Week6\\2023_Week6_LAC_vs_DAL\\receiving_advanced.csv\n",
      "Saved DataFrame defense_advanced to raw_data\\2023\\Week6\\2023_Week6_LAC_vs_DAL\\defense_advanced.csv\n",
      "Saved DataFrame home_starters to raw_data\\2023\\Week6\\2023_Week6_LAC_vs_DAL\\home_starters.csv\n",
      "Saved DataFrame vis_starters to raw_data\\2023\\Week6\\2023_Week6_LAC_vs_DAL\\vis_starters.csv\n",
      "Saved DataFrame home_snap_counts to raw_data\\2023\\Week6\\2023_Week6_LAC_vs_DAL\\home_snap_counts.csv\n",
      "Saved DataFrame vis_snap_counts to raw_data\\2023\\Week6\\2023_Week6_LAC_vs_DAL\\vis_snap_counts.csv\n",
      "Saved DataFrame home_drives to raw_data\\2023\\Week6\\2023_Week6_LAC_vs_DAL\\home_drives.csv\n",
      "Saved DataFrame vis_drives to raw_data\\2023\\Week6\\2023_Week6_LAC_vs_DAL\\vis_drives.csv\n",
      "Saved DataFrame pbp to raw_data\\2023\\Week6\\2023_Week6_LAC_vs_DAL\\pbp.csv\n"
     ]
    },
    {
     "name": "stderr",
     "output_type": "stream",
     "text": [
      "C:\\Users\\jackj\\AppData\\Local\\Temp\\ipykernel_31996\\1469608065.py:49: MarkupResemblesLocatorWarning: The input looks more like a filename than markup. You may want to open this file and pass the filehandle into Beautiful Soup.\n",
      "  comment_soup = BeautifulSoup(comment, 'html.parser')\n"
     ]
    },
    {
     "name": "stdout",
     "output_type": "stream",
     "text": [
      "Saved DataFrame scoring to raw_data\\2023\\Week7\\2023_Week7_NO_vs_JAX\\scoring.csv\n",
      "Saved DataFrame player_offense to raw_data\\2023\\Week7\\2023_Week7_NO_vs_JAX\\player_offense.csv\n",
      "Saved DataFrame game_info to raw_data\\2023\\Week7\\2023_Week7_NO_vs_JAX\\game_info.csv\n",
      "Saved DataFrame officials to raw_data\\2023\\Week7\\2023_Week7_NO_vs_JAX\\officials.csv\n",
      "Saved DataFrame expected_points to raw_data\\2023\\Week7\\2023_Week7_NO_vs_JAX\\expected_points.csv\n",
      "Saved DataFrame team_stats to raw_data\\2023\\Week7\\2023_Week7_NO_vs_JAX\\team_stats.csv\n",
      "Saved DataFrame player_defense to raw_data\\2023\\Week7\\2023_Week7_NO_vs_JAX\\player_defense.csv\n",
      "Saved DataFrame returns to raw_data\\2023\\Week7\\2023_Week7_NO_vs_JAX\\returns.csv\n",
      "Saved DataFrame kicking to raw_data\\2023\\Week7\\2023_Week7_NO_vs_JAX\\kicking.csv\n",
      "Saved DataFrame passing_advanced to raw_data\\2023\\Week7\\2023_Week7_NO_vs_JAX\\passing_advanced.csv\n",
      "Saved DataFrame rushing_advanced to raw_data\\2023\\Week7\\2023_Week7_NO_vs_JAX\\rushing_advanced.csv\n",
      "Saved DataFrame receiving_advanced to raw_data\\2023\\Week7\\2023_Week7_NO_vs_JAX\\receiving_advanced.csv\n",
      "Saved DataFrame defense_advanced to raw_data\\2023\\Week7\\2023_Week7_NO_vs_JAX\\defense_advanced.csv\n",
      "Saved DataFrame home_starters to raw_data\\2023\\Week7\\2023_Week7_NO_vs_JAX\\home_starters.csv\n",
      "Saved DataFrame vis_starters to raw_data\\2023\\Week7\\2023_Week7_NO_vs_JAX\\vis_starters.csv\n",
      "Saved DataFrame home_snap_counts to raw_data\\2023\\Week7\\2023_Week7_NO_vs_JAX\\home_snap_counts.csv\n",
      "Saved DataFrame vis_snap_counts to raw_data\\2023\\Week7\\2023_Week7_NO_vs_JAX\\vis_snap_counts.csv\n",
      "Saved DataFrame home_drives to raw_data\\2023\\Week7\\2023_Week7_NO_vs_JAX\\home_drives.csv\n",
      "Saved DataFrame vis_drives to raw_data\\2023\\Week7\\2023_Week7_NO_vs_JAX\\vis_drives.csv\n",
      "Saved DataFrame pbp to raw_data\\2023\\Week7\\2023_Week7_NO_vs_JAX\\pbp.csv\n"
     ]
    },
    {
     "name": "stderr",
     "output_type": "stream",
     "text": [
      "C:\\Users\\jackj\\AppData\\Local\\Temp\\ipykernel_31996\\1469608065.py:49: MarkupResemblesLocatorWarning: The input looks more like a filename than markup. You may want to open this file and pass the filehandle into Beautiful Soup.\n",
      "  comment_soup = BeautifulSoup(comment, 'html.parser')\n"
     ]
    },
    {
     "name": "stdout",
     "output_type": "stream",
     "text": [
      "Saved DataFrame scoring to raw_data\\2023\\Week7\\2023_Week7_IND_vs_CLE\\scoring.csv\n",
      "Saved DataFrame player_offense to raw_data\\2023\\Week7\\2023_Week7_IND_vs_CLE\\player_offense.csv\n",
      "Saved DataFrame game_info to raw_data\\2023\\Week7\\2023_Week7_IND_vs_CLE\\game_info.csv\n",
      "Saved DataFrame officials to raw_data\\2023\\Week7\\2023_Week7_IND_vs_CLE\\officials.csv\n",
      "Saved DataFrame expected_points to raw_data\\2023\\Week7\\2023_Week7_IND_vs_CLE\\expected_points.csv\n",
      "Saved DataFrame team_stats to raw_data\\2023\\Week7\\2023_Week7_IND_vs_CLE\\team_stats.csv\n",
      "Saved DataFrame player_defense to raw_data\\2023\\Week7\\2023_Week7_IND_vs_CLE\\player_defense.csv\n",
      "Saved DataFrame returns to raw_data\\2023\\Week7\\2023_Week7_IND_vs_CLE\\returns.csv\n",
      "Saved DataFrame kicking to raw_data\\2023\\Week7\\2023_Week7_IND_vs_CLE\\kicking.csv\n",
      "Saved DataFrame passing_advanced to raw_data\\2023\\Week7\\2023_Week7_IND_vs_CLE\\passing_advanced.csv\n",
      "Saved DataFrame rushing_advanced to raw_data\\2023\\Week7\\2023_Week7_IND_vs_CLE\\rushing_advanced.csv\n",
      "Saved DataFrame receiving_advanced to raw_data\\2023\\Week7\\2023_Week7_IND_vs_CLE\\receiving_advanced.csv\n",
      "Saved DataFrame defense_advanced to raw_data\\2023\\Week7\\2023_Week7_IND_vs_CLE\\defense_advanced.csv\n",
      "Saved DataFrame home_starters to raw_data\\2023\\Week7\\2023_Week7_IND_vs_CLE\\home_starters.csv\n",
      "Saved DataFrame vis_starters to raw_data\\2023\\Week7\\2023_Week7_IND_vs_CLE\\vis_starters.csv\n",
      "Saved DataFrame home_snap_counts to raw_data\\2023\\Week7\\2023_Week7_IND_vs_CLE\\home_snap_counts.csv\n",
      "Saved DataFrame vis_snap_counts to raw_data\\2023\\Week7\\2023_Week7_IND_vs_CLE\\vis_snap_counts.csv\n",
      "Saved DataFrame home_drives to raw_data\\2023\\Week7\\2023_Week7_IND_vs_CLE\\home_drives.csv\n",
      "Saved DataFrame vis_drives to raw_data\\2023\\Week7\\2023_Week7_IND_vs_CLE\\vis_drives.csv\n",
      "Saved DataFrame pbp to raw_data\\2023\\Week7\\2023_Week7_IND_vs_CLE\\pbp.csv\n",
      "Reached 20 requests, sleeping for 60 seconds...\n"
     ]
    },
    {
     "name": "stderr",
     "output_type": "stream",
     "text": [
      "C:\\Users\\jackj\\AppData\\Local\\Temp\\ipykernel_31996\\1469608065.py:49: MarkupResemblesLocatorWarning: The input looks more like a filename than markup. You may want to open this file and pass the filehandle into Beautiful Soup.\n",
      "  comment_soup = BeautifulSoup(comment, 'html.parser')\n"
     ]
    },
    {
     "name": "stdout",
     "output_type": "stream",
     "text": [
      "Saved DataFrame scoring to raw_data\\2023\\Week7\\2023_Week7_TB_vs_ATL\\scoring.csv\n",
      "Saved DataFrame player_offense to raw_data\\2023\\Week7\\2023_Week7_TB_vs_ATL\\player_offense.csv\n",
      "Saved DataFrame game_info to raw_data\\2023\\Week7\\2023_Week7_TB_vs_ATL\\game_info.csv\n",
      "Saved DataFrame officials to raw_data\\2023\\Week7\\2023_Week7_TB_vs_ATL\\officials.csv\n",
      "Saved DataFrame expected_points to raw_data\\2023\\Week7\\2023_Week7_TB_vs_ATL\\expected_points.csv\n",
      "Saved DataFrame team_stats to raw_data\\2023\\Week7\\2023_Week7_TB_vs_ATL\\team_stats.csv\n",
      "Saved DataFrame player_defense to raw_data\\2023\\Week7\\2023_Week7_TB_vs_ATL\\player_defense.csv\n",
      "Saved DataFrame returns to raw_data\\2023\\Week7\\2023_Week7_TB_vs_ATL\\returns.csv\n",
      "Saved DataFrame kicking to raw_data\\2023\\Week7\\2023_Week7_TB_vs_ATL\\kicking.csv\n",
      "Saved DataFrame passing_advanced to raw_data\\2023\\Week7\\2023_Week7_TB_vs_ATL\\passing_advanced.csv\n",
      "Saved DataFrame rushing_advanced to raw_data\\2023\\Week7\\2023_Week7_TB_vs_ATL\\rushing_advanced.csv\n",
      "Saved DataFrame receiving_advanced to raw_data\\2023\\Week7\\2023_Week7_TB_vs_ATL\\receiving_advanced.csv\n",
      "Saved DataFrame defense_advanced to raw_data\\2023\\Week7\\2023_Week7_TB_vs_ATL\\defense_advanced.csv\n",
      "Saved DataFrame home_starters to raw_data\\2023\\Week7\\2023_Week7_TB_vs_ATL\\home_starters.csv\n",
      "Saved DataFrame vis_starters to raw_data\\2023\\Week7\\2023_Week7_TB_vs_ATL\\vis_starters.csv\n",
      "Saved DataFrame home_snap_counts to raw_data\\2023\\Week7\\2023_Week7_TB_vs_ATL\\home_snap_counts.csv\n",
      "Saved DataFrame vis_snap_counts to raw_data\\2023\\Week7\\2023_Week7_TB_vs_ATL\\vis_snap_counts.csv\n",
      "Saved DataFrame home_drives to raw_data\\2023\\Week7\\2023_Week7_TB_vs_ATL\\home_drives.csv\n",
      "Saved DataFrame vis_drives to raw_data\\2023\\Week7\\2023_Week7_TB_vs_ATL\\vis_drives.csv\n",
      "Saved DataFrame pbp to raw_data\\2023\\Week7\\2023_Week7_TB_vs_ATL\\pbp.csv\n"
     ]
    },
    {
     "name": "stderr",
     "output_type": "stream",
     "text": [
      "C:\\Users\\jackj\\AppData\\Local\\Temp\\ipykernel_31996\\1469608065.py:49: MarkupResemblesLocatorWarning: The input looks more like a filename than markup. You may want to open this file and pass the filehandle into Beautiful Soup.\n",
      "  comment_soup = BeautifulSoup(comment, 'html.parser')\n"
     ]
    },
    {
     "name": "stdout",
     "output_type": "stream",
     "text": [
      "Saved DataFrame scoring to raw_data\\2023\\Week7\\2023_Week7_NE_vs_BUF\\scoring.csv\n",
      "Saved DataFrame player_offense to raw_data\\2023\\Week7\\2023_Week7_NE_vs_BUF\\player_offense.csv\n",
      "Saved DataFrame game_info to raw_data\\2023\\Week7\\2023_Week7_NE_vs_BUF\\game_info.csv\n",
      "Saved DataFrame officials to raw_data\\2023\\Week7\\2023_Week7_NE_vs_BUF\\officials.csv\n",
      "Saved DataFrame expected_points to raw_data\\2023\\Week7\\2023_Week7_NE_vs_BUF\\expected_points.csv\n",
      "Saved DataFrame team_stats to raw_data\\2023\\Week7\\2023_Week7_NE_vs_BUF\\team_stats.csv\n",
      "Saved DataFrame player_defense to raw_data\\2023\\Week7\\2023_Week7_NE_vs_BUF\\player_defense.csv\n",
      "Saved DataFrame returns to raw_data\\2023\\Week7\\2023_Week7_NE_vs_BUF\\returns.csv\n",
      "Saved DataFrame kicking to raw_data\\2023\\Week7\\2023_Week7_NE_vs_BUF\\kicking.csv\n",
      "Saved DataFrame passing_advanced to raw_data\\2023\\Week7\\2023_Week7_NE_vs_BUF\\passing_advanced.csv\n",
      "Saved DataFrame rushing_advanced to raw_data\\2023\\Week7\\2023_Week7_NE_vs_BUF\\rushing_advanced.csv\n",
      "Saved DataFrame receiving_advanced to raw_data\\2023\\Week7\\2023_Week7_NE_vs_BUF\\receiving_advanced.csv\n",
      "Saved DataFrame defense_advanced to raw_data\\2023\\Week7\\2023_Week7_NE_vs_BUF\\defense_advanced.csv\n",
      "Saved DataFrame home_starters to raw_data\\2023\\Week7\\2023_Week7_NE_vs_BUF\\home_starters.csv\n",
      "Saved DataFrame vis_starters to raw_data\\2023\\Week7\\2023_Week7_NE_vs_BUF\\vis_starters.csv\n",
      "Saved DataFrame home_snap_counts to raw_data\\2023\\Week7\\2023_Week7_NE_vs_BUF\\home_snap_counts.csv\n",
      "Saved DataFrame vis_snap_counts to raw_data\\2023\\Week7\\2023_Week7_NE_vs_BUF\\vis_snap_counts.csv\n",
      "Saved DataFrame home_drives to raw_data\\2023\\Week7\\2023_Week7_NE_vs_BUF\\home_drives.csv\n",
      "Saved DataFrame vis_drives to raw_data\\2023\\Week7\\2023_Week7_NE_vs_BUF\\vis_drives.csv\n",
      "Saved DataFrame pbp to raw_data\\2023\\Week7\\2023_Week7_NE_vs_BUF\\pbp.csv\n"
     ]
    },
    {
     "name": "stderr",
     "output_type": "stream",
     "text": [
      "C:\\Users\\jackj\\AppData\\Local\\Temp\\ipykernel_31996\\1469608065.py:49: MarkupResemblesLocatorWarning: The input looks more like a filename than markup. You may want to open this file and pass the filehandle into Beautiful Soup.\n",
      "  comment_soup = BeautifulSoup(comment, 'html.parser')\n"
     ]
    },
    {
     "name": "stdout",
     "output_type": "stream",
     "text": [
      "Saved DataFrame scoring to raw_data\\2023\\Week7\\2023_Week7_CHI_vs_LVR\\scoring.csv\n",
      "Saved DataFrame player_offense to raw_data\\2023\\Week7\\2023_Week7_CHI_vs_LVR\\player_offense.csv\n",
      "Saved DataFrame game_info to raw_data\\2023\\Week7\\2023_Week7_CHI_vs_LVR\\game_info.csv\n",
      "Saved DataFrame officials to raw_data\\2023\\Week7\\2023_Week7_CHI_vs_LVR\\officials.csv\n",
      "Saved DataFrame expected_points to raw_data\\2023\\Week7\\2023_Week7_CHI_vs_LVR\\expected_points.csv\n",
      "Saved DataFrame team_stats to raw_data\\2023\\Week7\\2023_Week7_CHI_vs_LVR\\team_stats.csv\n",
      "Saved DataFrame player_defense to raw_data\\2023\\Week7\\2023_Week7_CHI_vs_LVR\\player_defense.csv\n",
      "Saved DataFrame returns to raw_data\\2023\\Week7\\2023_Week7_CHI_vs_LVR\\returns.csv\n",
      "Saved DataFrame kicking to raw_data\\2023\\Week7\\2023_Week7_CHI_vs_LVR\\kicking.csv\n",
      "Saved DataFrame passing_advanced to raw_data\\2023\\Week7\\2023_Week7_CHI_vs_LVR\\passing_advanced.csv\n",
      "Saved DataFrame rushing_advanced to raw_data\\2023\\Week7\\2023_Week7_CHI_vs_LVR\\rushing_advanced.csv\n",
      "Saved DataFrame receiving_advanced to raw_data\\2023\\Week7\\2023_Week7_CHI_vs_LVR\\receiving_advanced.csv\n",
      "Saved DataFrame defense_advanced to raw_data\\2023\\Week7\\2023_Week7_CHI_vs_LVR\\defense_advanced.csv\n",
      "Saved DataFrame home_starters to raw_data\\2023\\Week7\\2023_Week7_CHI_vs_LVR\\home_starters.csv\n",
      "Saved DataFrame vis_starters to raw_data\\2023\\Week7\\2023_Week7_CHI_vs_LVR\\vis_starters.csv\n",
      "Saved DataFrame home_snap_counts to raw_data\\2023\\Week7\\2023_Week7_CHI_vs_LVR\\home_snap_counts.csv\n",
      "Saved DataFrame vis_snap_counts to raw_data\\2023\\Week7\\2023_Week7_CHI_vs_LVR\\vis_snap_counts.csv\n",
      "Saved DataFrame home_drives to raw_data\\2023\\Week7\\2023_Week7_CHI_vs_LVR\\home_drives.csv\n",
      "Saved DataFrame vis_drives to raw_data\\2023\\Week7\\2023_Week7_CHI_vs_LVR\\vis_drives.csv\n",
      "Saved DataFrame pbp to raw_data\\2023\\Week7\\2023_Week7_CHI_vs_LVR\\pbp.csv\n"
     ]
    },
    {
     "name": "stderr",
     "output_type": "stream",
     "text": [
      "C:\\Users\\jackj\\AppData\\Local\\Temp\\ipykernel_31996\\1469608065.py:49: MarkupResemblesLocatorWarning: The input looks more like a filename than markup. You may want to open this file and pass the filehandle into Beautiful Soup.\n",
      "  comment_soup = BeautifulSoup(comment, 'html.parser')\n"
     ]
    },
    {
     "name": "stdout",
     "output_type": "stream",
     "text": [
      "Saved DataFrame scoring to raw_data\\2023\\Week7\\2023_Week7_BAL_vs_DET\\scoring.csv\n",
      "Saved DataFrame player_offense to raw_data\\2023\\Week7\\2023_Week7_BAL_vs_DET\\player_offense.csv\n",
      "Saved DataFrame game_info to raw_data\\2023\\Week7\\2023_Week7_BAL_vs_DET\\game_info.csv\n",
      "Saved DataFrame officials to raw_data\\2023\\Week7\\2023_Week7_BAL_vs_DET\\officials.csv\n",
      "Saved DataFrame expected_points to raw_data\\2023\\Week7\\2023_Week7_BAL_vs_DET\\expected_points.csv\n",
      "Saved DataFrame team_stats to raw_data\\2023\\Week7\\2023_Week7_BAL_vs_DET\\team_stats.csv\n",
      "Saved DataFrame player_defense to raw_data\\2023\\Week7\\2023_Week7_BAL_vs_DET\\player_defense.csv\n",
      "Saved DataFrame returns to raw_data\\2023\\Week7\\2023_Week7_BAL_vs_DET\\returns.csv\n",
      "Saved DataFrame kicking to raw_data\\2023\\Week7\\2023_Week7_BAL_vs_DET\\kicking.csv\n",
      "Saved DataFrame passing_advanced to raw_data\\2023\\Week7\\2023_Week7_BAL_vs_DET\\passing_advanced.csv\n",
      "Saved DataFrame rushing_advanced to raw_data\\2023\\Week7\\2023_Week7_BAL_vs_DET\\rushing_advanced.csv\n",
      "Saved DataFrame receiving_advanced to raw_data\\2023\\Week7\\2023_Week7_BAL_vs_DET\\receiving_advanced.csv\n",
      "Saved DataFrame defense_advanced to raw_data\\2023\\Week7\\2023_Week7_BAL_vs_DET\\defense_advanced.csv\n",
      "Saved DataFrame home_starters to raw_data\\2023\\Week7\\2023_Week7_BAL_vs_DET\\home_starters.csv\n",
      "Saved DataFrame vis_starters to raw_data\\2023\\Week7\\2023_Week7_BAL_vs_DET\\vis_starters.csv\n",
      "Saved DataFrame home_snap_counts to raw_data\\2023\\Week7\\2023_Week7_BAL_vs_DET\\home_snap_counts.csv\n",
      "Saved DataFrame vis_snap_counts to raw_data\\2023\\Week7\\2023_Week7_BAL_vs_DET\\vis_snap_counts.csv\n",
      "Saved DataFrame home_drives to raw_data\\2023\\Week7\\2023_Week7_BAL_vs_DET\\home_drives.csv\n",
      "Saved DataFrame vis_drives to raw_data\\2023\\Week7\\2023_Week7_BAL_vs_DET\\vis_drives.csv\n",
      "Saved DataFrame pbp to raw_data\\2023\\Week7\\2023_Week7_BAL_vs_DET\\pbp.csv\n"
     ]
    },
    {
     "name": "stderr",
     "output_type": "stream",
     "text": [
      "C:\\Users\\jackj\\AppData\\Local\\Temp\\ipykernel_31996\\1469608065.py:49: MarkupResemblesLocatorWarning: The input looks more like a filename than markup. You may want to open this file and pass the filehandle into Beautiful Soup.\n",
      "  comment_soup = BeautifulSoup(comment, 'html.parser')\n"
     ]
    },
    {
     "name": "stdout",
     "output_type": "stream",
     "text": [
      "Saved DataFrame scoring to raw_data\\2023\\Week7\\2023_Week7_NYG_vs_WAS\\scoring.csv\n",
      "Saved DataFrame player_offense to raw_data\\2023\\Week7\\2023_Week7_NYG_vs_WAS\\player_offense.csv\n",
      "Saved DataFrame game_info to raw_data\\2023\\Week7\\2023_Week7_NYG_vs_WAS\\game_info.csv\n",
      "Saved DataFrame officials to raw_data\\2023\\Week7\\2023_Week7_NYG_vs_WAS\\officials.csv\n",
      "Saved DataFrame expected_points to raw_data\\2023\\Week7\\2023_Week7_NYG_vs_WAS\\expected_points.csv\n",
      "Saved DataFrame team_stats to raw_data\\2023\\Week7\\2023_Week7_NYG_vs_WAS\\team_stats.csv\n",
      "Saved DataFrame player_defense to raw_data\\2023\\Week7\\2023_Week7_NYG_vs_WAS\\player_defense.csv\n",
      "Saved DataFrame returns to raw_data\\2023\\Week7\\2023_Week7_NYG_vs_WAS\\returns.csv\n",
      "Saved DataFrame kicking to raw_data\\2023\\Week7\\2023_Week7_NYG_vs_WAS\\kicking.csv\n",
      "Saved DataFrame passing_advanced to raw_data\\2023\\Week7\\2023_Week7_NYG_vs_WAS\\passing_advanced.csv\n",
      "Saved DataFrame rushing_advanced to raw_data\\2023\\Week7\\2023_Week7_NYG_vs_WAS\\rushing_advanced.csv\n",
      "Saved DataFrame receiving_advanced to raw_data\\2023\\Week7\\2023_Week7_NYG_vs_WAS\\receiving_advanced.csv\n",
      "Saved DataFrame defense_advanced to raw_data\\2023\\Week7\\2023_Week7_NYG_vs_WAS\\defense_advanced.csv\n",
      "Saved DataFrame home_starters to raw_data\\2023\\Week7\\2023_Week7_NYG_vs_WAS\\home_starters.csv\n",
      "Saved DataFrame vis_starters to raw_data\\2023\\Week7\\2023_Week7_NYG_vs_WAS\\vis_starters.csv\n",
      "Saved DataFrame home_snap_counts to raw_data\\2023\\Week7\\2023_Week7_NYG_vs_WAS\\home_snap_counts.csv\n",
      "Saved DataFrame vis_snap_counts to raw_data\\2023\\Week7\\2023_Week7_NYG_vs_WAS\\vis_snap_counts.csv\n",
      "Saved DataFrame home_drives to raw_data\\2023\\Week7\\2023_Week7_NYG_vs_WAS\\home_drives.csv\n",
      "Saved DataFrame vis_drives to raw_data\\2023\\Week7\\2023_Week7_NYG_vs_WAS\\vis_drives.csv\n",
      "Saved DataFrame pbp to raw_data\\2023\\Week7\\2023_Week7_NYG_vs_WAS\\pbp.csv\n"
     ]
    },
    {
     "name": "stderr",
     "output_type": "stream",
     "text": [
      "C:\\Users\\jackj\\AppData\\Local\\Temp\\ipykernel_31996\\1469608065.py:49: MarkupResemblesLocatorWarning: The input looks more like a filename than markup. You may want to open this file and pass the filehandle into Beautiful Soup.\n",
      "  comment_soup = BeautifulSoup(comment, 'html.parser')\n"
     ]
    },
    {
     "name": "stdout",
     "output_type": "stream",
     "text": [
      "Saved DataFrame scoring to raw_data\\2023\\Week7\\2023_Week7_LAR_vs_PIT\\scoring.csv\n",
      "Saved DataFrame player_offense to raw_data\\2023\\Week7\\2023_Week7_LAR_vs_PIT\\player_offense.csv\n",
      "Saved DataFrame game_info to raw_data\\2023\\Week7\\2023_Week7_LAR_vs_PIT\\game_info.csv\n",
      "Saved DataFrame officials to raw_data\\2023\\Week7\\2023_Week7_LAR_vs_PIT\\officials.csv\n",
      "Saved DataFrame expected_points to raw_data\\2023\\Week7\\2023_Week7_LAR_vs_PIT\\expected_points.csv\n",
      "Saved DataFrame team_stats to raw_data\\2023\\Week7\\2023_Week7_LAR_vs_PIT\\team_stats.csv\n",
      "Saved DataFrame player_defense to raw_data\\2023\\Week7\\2023_Week7_LAR_vs_PIT\\player_defense.csv\n",
      "Saved DataFrame returns to raw_data\\2023\\Week7\\2023_Week7_LAR_vs_PIT\\returns.csv\n",
      "Saved DataFrame kicking to raw_data\\2023\\Week7\\2023_Week7_LAR_vs_PIT\\kicking.csv\n",
      "Saved DataFrame passing_advanced to raw_data\\2023\\Week7\\2023_Week7_LAR_vs_PIT\\passing_advanced.csv\n",
      "Saved DataFrame rushing_advanced to raw_data\\2023\\Week7\\2023_Week7_LAR_vs_PIT\\rushing_advanced.csv\n",
      "Saved DataFrame receiving_advanced to raw_data\\2023\\Week7\\2023_Week7_LAR_vs_PIT\\receiving_advanced.csv\n",
      "Saved DataFrame defense_advanced to raw_data\\2023\\Week7\\2023_Week7_LAR_vs_PIT\\defense_advanced.csv\n",
      "Saved DataFrame home_starters to raw_data\\2023\\Week7\\2023_Week7_LAR_vs_PIT\\home_starters.csv\n",
      "Saved DataFrame vis_starters to raw_data\\2023\\Week7\\2023_Week7_LAR_vs_PIT\\vis_starters.csv\n",
      "Saved DataFrame home_snap_counts to raw_data\\2023\\Week7\\2023_Week7_LAR_vs_PIT\\home_snap_counts.csv\n",
      "Saved DataFrame vis_snap_counts to raw_data\\2023\\Week7\\2023_Week7_LAR_vs_PIT\\vis_snap_counts.csv\n",
      "Saved DataFrame home_drives to raw_data\\2023\\Week7\\2023_Week7_LAR_vs_PIT\\home_drives.csv\n",
      "Saved DataFrame vis_drives to raw_data\\2023\\Week7\\2023_Week7_LAR_vs_PIT\\vis_drives.csv\n",
      "Saved DataFrame pbp to raw_data\\2023\\Week7\\2023_Week7_LAR_vs_PIT\\pbp.csv\n"
     ]
    },
    {
     "name": "stderr",
     "output_type": "stream",
     "text": [
      "C:\\Users\\jackj\\AppData\\Local\\Temp\\ipykernel_31996\\1469608065.py:49: MarkupResemblesLocatorWarning: The input looks more like a filename than markup. You may want to open this file and pass the filehandle into Beautiful Soup.\n",
      "  comment_soup = BeautifulSoup(comment, 'html.parser')\n"
     ]
    },
    {
     "name": "stdout",
     "output_type": "stream",
     "text": [
      "Saved DataFrame scoring to raw_data\\2023\\Week7\\2023_Week7_SEA_vs_ARI\\scoring.csv\n",
      "Saved DataFrame player_offense to raw_data\\2023\\Week7\\2023_Week7_SEA_vs_ARI\\player_offense.csv\n",
      "Saved DataFrame game_info to raw_data\\2023\\Week7\\2023_Week7_SEA_vs_ARI\\game_info.csv\n",
      "Saved DataFrame officials to raw_data\\2023\\Week7\\2023_Week7_SEA_vs_ARI\\officials.csv\n",
      "Saved DataFrame expected_points to raw_data\\2023\\Week7\\2023_Week7_SEA_vs_ARI\\expected_points.csv\n",
      "Saved DataFrame team_stats to raw_data\\2023\\Week7\\2023_Week7_SEA_vs_ARI\\team_stats.csv\n",
      "Saved DataFrame player_defense to raw_data\\2023\\Week7\\2023_Week7_SEA_vs_ARI\\player_defense.csv\n",
      "Saved DataFrame returns to raw_data\\2023\\Week7\\2023_Week7_SEA_vs_ARI\\returns.csv\n",
      "Saved DataFrame kicking to raw_data\\2023\\Week7\\2023_Week7_SEA_vs_ARI\\kicking.csv\n",
      "Saved DataFrame passing_advanced to raw_data\\2023\\Week7\\2023_Week7_SEA_vs_ARI\\passing_advanced.csv\n",
      "Saved DataFrame rushing_advanced to raw_data\\2023\\Week7\\2023_Week7_SEA_vs_ARI\\rushing_advanced.csv\n",
      "Saved DataFrame receiving_advanced to raw_data\\2023\\Week7\\2023_Week7_SEA_vs_ARI\\receiving_advanced.csv\n",
      "Saved DataFrame defense_advanced to raw_data\\2023\\Week7\\2023_Week7_SEA_vs_ARI\\defense_advanced.csv\n",
      "Saved DataFrame home_starters to raw_data\\2023\\Week7\\2023_Week7_SEA_vs_ARI\\home_starters.csv\n",
      "Saved DataFrame vis_starters to raw_data\\2023\\Week7\\2023_Week7_SEA_vs_ARI\\vis_starters.csv\n",
      "Saved DataFrame home_snap_counts to raw_data\\2023\\Week7\\2023_Week7_SEA_vs_ARI\\home_snap_counts.csv\n",
      "Saved DataFrame vis_snap_counts to raw_data\\2023\\Week7\\2023_Week7_SEA_vs_ARI\\vis_snap_counts.csv\n",
      "Saved DataFrame home_drives to raw_data\\2023\\Week7\\2023_Week7_SEA_vs_ARI\\home_drives.csv\n",
      "Saved DataFrame vis_drives to raw_data\\2023\\Week7\\2023_Week7_SEA_vs_ARI\\vis_drives.csv\n",
      "Saved DataFrame pbp to raw_data\\2023\\Week7\\2023_Week7_SEA_vs_ARI\\pbp.csv\n"
     ]
    },
    {
     "name": "stderr",
     "output_type": "stream",
     "text": [
      "C:\\Users\\jackj\\AppData\\Local\\Temp\\ipykernel_31996\\1469608065.py:49: MarkupResemblesLocatorWarning: The input looks more like a filename than markup. You may want to open this file and pass the filehandle into Beautiful Soup.\n",
      "  comment_soup = BeautifulSoup(comment, 'html.parser')\n"
     ]
    },
    {
     "name": "stdout",
     "output_type": "stream",
     "text": [
      "Saved DataFrame scoring to raw_data\\2023\\Week7\\2023_Week7_DEN_vs_GB\\scoring.csv\n",
      "Saved DataFrame player_offense to raw_data\\2023\\Week7\\2023_Week7_DEN_vs_GB\\player_offense.csv\n",
      "Saved DataFrame game_info to raw_data\\2023\\Week7\\2023_Week7_DEN_vs_GB\\game_info.csv\n",
      "Saved DataFrame officials to raw_data\\2023\\Week7\\2023_Week7_DEN_vs_GB\\officials.csv\n",
      "Saved DataFrame expected_points to raw_data\\2023\\Week7\\2023_Week7_DEN_vs_GB\\expected_points.csv\n",
      "Saved DataFrame team_stats to raw_data\\2023\\Week7\\2023_Week7_DEN_vs_GB\\team_stats.csv\n",
      "Saved DataFrame player_defense to raw_data\\2023\\Week7\\2023_Week7_DEN_vs_GB\\player_defense.csv\n",
      "Saved DataFrame returns to raw_data\\2023\\Week7\\2023_Week7_DEN_vs_GB\\returns.csv\n",
      "Saved DataFrame kicking to raw_data\\2023\\Week7\\2023_Week7_DEN_vs_GB\\kicking.csv\n",
      "Saved DataFrame passing_advanced to raw_data\\2023\\Week7\\2023_Week7_DEN_vs_GB\\passing_advanced.csv\n",
      "Saved DataFrame rushing_advanced to raw_data\\2023\\Week7\\2023_Week7_DEN_vs_GB\\rushing_advanced.csv\n",
      "Saved DataFrame receiving_advanced to raw_data\\2023\\Week7\\2023_Week7_DEN_vs_GB\\receiving_advanced.csv\n",
      "Saved DataFrame defense_advanced to raw_data\\2023\\Week7\\2023_Week7_DEN_vs_GB\\defense_advanced.csv\n",
      "Saved DataFrame home_starters to raw_data\\2023\\Week7\\2023_Week7_DEN_vs_GB\\home_starters.csv\n",
      "Saved DataFrame vis_starters to raw_data\\2023\\Week7\\2023_Week7_DEN_vs_GB\\vis_starters.csv\n",
      "Saved DataFrame home_snap_counts to raw_data\\2023\\Week7\\2023_Week7_DEN_vs_GB\\home_snap_counts.csv\n",
      "Saved DataFrame vis_snap_counts to raw_data\\2023\\Week7\\2023_Week7_DEN_vs_GB\\vis_snap_counts.csv\n",
      "Saved DataFrame home_drives to raw_data\\2023\\Week7\\2023_Week7_DEN_vs_GB\\home_drives.csv\n",
      "Saved DataFrame vis_drives to raw_data\\2023\\Week7\\2023_Week7_DEN_vs_GB\\vis_drives.csv\n",
      "Saved DataFrame pbp to raw_data\\2023\\Week7\\2023_Week7_DEN_vs_GB\\pbp.csv\n"
     ]
    },
    {
     "name": "stderr",
     "output_type": "stream",
     "text": [
      "C:\\Users\\jackj\\AppData\\Local\\Temp\\ipykernel_31996\\1469608065.py:49: MarkupResemblesLocatorWarning: The input looks more like a filename than markup. You may want to open this file and pass the filehandle into Beautiful Soup.\n",
      "  comment_soup = BeautifulSoup(comment, 'html.parser')\n"
     ]
    },
    {
     "name": "stdout",
     "output_type": "stream",
     "text": [
      "Saved DataFrame scoring to raw_data\\2023\\Week7\\2023_Week7_KC_vs_LAC\\scoring.csv\n",
      "Saved DataFrame player_offense to raw_data\\2023\\Week7\\2023_Week7_KC_vs_LAC\\player_offense.csv\n",
      "Saved DataFrame game_info to raw_data\\2023\\Week7\\2023_Week7_KC_vs_LAC\\game_info.csv\n",
      "Saved DataFrame officials to raw_data\\2023\\Week7\\2023_Week7_KC_vs_LAC\\officials.csv\n",
      "Saved DataFrame expected_points to raw_data\\2023\\Week7\\2023_Week7_KC_vs_LAC\\expected_points.csv\n",
      "Saved DataFrame team_stats to raw_data\\2023\\Week7\\2023_Week7_KC_vs_LAC\\team_stats.csv\n",
      "Saved DataFrame player_defense to raw_data\\2023\\Week7\\2023_Week7_KC_vs_LAC\\player_defense.csv\n",
      "Saved DataFrame returns to raw_data\\2023\\Week7\\2023_Week7_KC_vs_LAC\\returns.csv\n",
      "Saved DataFrame kicking to raw_data\\2023\\Week7\\2023_Week7_KC_vs_LAC\\kicking.csv\n",
      "Saved DataFrame passing_advanced to raw_data\\2023\\Week7\\2023_Week7_KC_vs_LAC\\passing_advanced.csv\n",
      "Saved DataFrame rushing_advanced to raw_data\\2023\\Week7\\2023_Week7_KC_vs_LAC\\rushing_advanced.csv\n",
      "Saved DataFrame receiving_advanced to raw_data\\2023\\Week7\\2023_Week7_KC_vs_LAC\\receiving_advanced.csv\n",
      "Saved DataFrame defense_advanced to raw_data\\2023\\Week7\\2023_Week7_KC_vs_LAC\\defense_advanced.csv\n",
      "Saved DataFrame home_starters to raw_data\\2023\\Week7\\2023_Week7_KC_vs_LAC\\home_starters.csv\n",
      "Saved DataFrame vis_starters to raw_data\\2023\\Week7\\2023_Week7_KC_vs_LAC\\vis_starters.csv\n",
      "Saved DataFrame home_snap_counts to raw_data\\2023\\Week7\\2023_Week7_KC_vs_LAC\\home_snap_counts.csv\n",
      "Saved DataFrame vis_snap_counts to raw_data\\2023\\Week7\\2023_Week7_KC_vs_LAC\\vis_snap_counts.csv\n",
      "Saved DataFrame home_drives to raw_data\\2023\\Week7\\2023_Week7_KC_vs_LAC\\home_drives.csv\n",
      "Saved DataFrame vis_drives to raw_data\\2023\\Week7\\2023_Week7_KC_vs_LAC\\vis_drives.csv\n",
      "Saved DataFrame pbp to raw_data\\2023\\Week7\\2023_Week7_KC_vs_LAC\\pbp.csv\n"
     ]
    },
    {
     "name": "stderr",
     "output_type": "stream",
     "text": [
      "C:\\Users\\jackj\\AppData\\Local\\Temp\\ipykernel_31996\\1469608065.py:49: MarkupResemblesLocatorWarning: The input looks more like a filename than markup. You may want to open this file and pass the filehandle into Beautiful Soup.\n",
      "  comment_soup = BeautifulSoup(comment, 'html.parser')\n"
     ]
    },
    {
     "name": "stdout",
     "output_type": "stream",
     "text": [
      "Saved DataFrame scoring to raw_data\\2023\\Week7\\2023_Week7_PHI_vs_MIA\\scoring.csv\n",
      "Saved DataFrame player_offense to raw_data\\2023\\Week7\\2023_Week7_PHI_vs_MIA\\player_offense.csv\n",
      "Saved DataFrame game_info to raw_data\\2023\\Week7\\2023_Week7_PHI_vs_MIA\\game_info.csv\n",
      "Saved DataFrame officials to raw_data\\2023\\Week7\\2023_Week7_PHI_vs_MIA\\officials.csv\n",
      "Saved DataFrame expected_points to raw_data\\2023\\Week7\\2023_Week7_PHI_vs_MIA\\expected_points.csv\n",
      "Saved DataFrame team_stats to raw_data\\2023\\Week7\\2023_Week7_PHI_vs_MIA\\team_stats.csv\n",
      "Saved DataFrame player_defense to raw_data\\2023\\Week7\\2023_Week7_PHI_vs_MIA\\player_defense.csv\n",
      "Saved DataFrame returns to raw_data\\2023\\Week7\\2023_Week7_PHI_vs_MIA\\returns.csv\n",
      "Saved DataFrame kicking to raw_data\\2023\\Week7\\2023_Week7_PHI_vs_MIA\\kicking.csv\n",
      "Saved DataFrame passing_advanced to raw_data\\2023\\Week7\\2023_Week7_PHI_vs_MIA\\passing_advanced.csv\n",
      "Saved DataFrame rushing_advanced to raw_data\\2023\\Week7\\2023_Week7_PHI_vs_MIA\\rushing_advanced.csv\n",
      "Saved DataFrame receiving_advanced to raw_data\\2023\\Week7\\2023_Week7_PHI_vs_MIA\\receiving_advanced.csv\n",
      "Saved DataFrame defense_advanced to raw_data\\2023\\Week7\\2023_Week7_PHI_vs_MIA\\defense_advanced.csv\n",
      "Saved DataFrame home_starters to raw_data\\2023\\Week7\\2023_Week7_PHI_vs_MIA\\home_starters.csv\n",
      "Saved DataFrame vis_starters to raw_data\\2023\\Week7\\2023_Week7_PHI_vs_MIA\\vis_starters.csv\n",
      "Saved DataFrame home_snap_counts to raw_data\\2023\\Week7\\2023_Week7_PHI_vs_MIA\\home_snap_counts.csv\n",
      "Saved DataFrame vis_snap_counts to raw_data\\2023\\Week7\\2023_Week7_PHI_vs_MIA\\vis_snap_counts.csv\n",
      "Saved DataFrame home_drives to raw_data\\2023\\Week7\\2023_Week7_PHI_vs_MIA\\home_drives.csv\n",
      "Saved DataFrame vis_drives to raw_data\\2023\\Week7\\2023_Week7_PHI_vs_MIA\\vis_drives.csv\n",
      "Saved DataFrame pbp to raw_data\\2023\\Week7\\2023_Week7_PHI_vs_MIA\\pbp.csv\n"
     ]
    },
    {
     "name": "stderr",
     "output_type": "stream",
     "text": [
      "C:\\Users\\jackj\\AppData\\Local\\Temp\\ipykernel_31996\\1469608065.py:49: MarkupResemblesLocatorWarning: The input looks more like a filename than markup. You may want to open this file and pass the filehandle into Beautiful Soup.\n",
      "  comment_soup = BeautifulSoup(comment, 'html.parser')\n"
     ]
    },
    {
     "name": "stdout",
     "output_type": "stream",
     "text": [
      "Saved DataFrame scoring to raw_data\\2023\\Week7\\2023_Week7_MIN_vs_SF\\scoring.csv\n",
      "Saved DataFrame player_offense to raw_data\\2023\\Week7\\2023_Week7_MIN_vs_SF\\player_offense.csv\n",
      "Saved DataFrame game_info to raw_data\\2023\\Week7\\2023_Week7_MIN_vs_SF\\game_info.csv\n",
      "Saved DataFrame officials to raw_data\\2023\\Week7\\2023_Week7_MIN_vs_SF\\officials.csv\n",
      "Saved DataFrame expected_points to raw_data\\2023\\Week7\\2023_Week7_MIN_vs_SF\\expected_points.csv\n",
      "Saved DataFrame team_stats to raw_data\\2023\\Week7\\2023_Week7_MIN_vs_SF\\team_stats.csv\n",
      "Saved DataFrame player_defense to raw_data\\2023\\Week7\\2023_Week7_MIN_vs_SF\\player_defense.csv\n",
      "Saved DataFrame returns to raw_data\\2023\\Week7\\2023_Week7_MIN_vs_SF\\returns.csv\n",
      "Saved DataFrame kicking to raw_data\\2023\\Week7\\2023_Week7_MIN_vs_SF\\kicking.csv\n",
      "Saved DataFrame passing_advanced to raw_data\\2023\\Week7\\2023_Week7_MIN_vs_SF\\passing_advanced.csv\n",
      "Saved DataFrame rushing_advanced to raw_data\\2023\\Week7\\2023_Week7_MIN_vs_SF\\rushing_advanced.csv\n",
      "Saved DataFrame receiving_advanced to raw_data\\2023\\Week7\\2023_Week7_MIN_vs_SF\\receiving_advanced.csv\n",
      "Saved DataFrame defense_advanced to raw_data\\2023\\Week7\\2023_Week7_MIN_vs_SF\\defense_advanced.csv\n",
      "Saved DataFrame home_starters to raw_data\\2023\\Week7\\2023_Week7_MIN_vs_SF\\home_starters.csv\n",
      "Saved DataFrame vis_starters to raw_data\\2023\\Week7\\2023_Week7_MIN_vs_SF\\vis_starters.csv\n",
      "Saved DataFrame home_snap_counts to raw_data\\2023\\Week7\\2023_Week7_MIN_vs_SF\\home_snap_counts.csv\n",
      "Saved DataFrame vis_snap_counts to raw_data\\2023\\Week7\\2023_Week7_MIN_vs_SF\\vis_snap_counts.csv\n",
      "Saved DataFrame home_drives to raw_data\\2023\\Week7\\2023_Week7_MIN_vs_SF\\home_drives.csv\n",
      "Saved DataFrame vis_drives to raw_data\\2023\\Week7\\2023_Week7_MIN_vs_SF\\vis_drives.csv\n",
      "Saved DataFrame pbp to raw_data\\2023\\Week7\\2023_Week7_MIN_vs_SF\\pbp.csv\n"
     ]
    },
    {
     "name": "stderr",
     "output_type": "stream",
     "text": [
      "C:\\Users\\jackj\\AppData\\Local\\Temp\\ipykernel_31996\\1469608065.py:49: MarkupResemblesLocatorWarning: The input looks more like a filename than markup. You may want to open this file and pass the filehandle into Beautiful Soup.\n",
      "  comment_soup = BeautifulSoup(comment, 'html.parser')\n"
     ]
    },
    {
     "name": "stdout",
     "output_type": "stream",
     "text": [
      "Saved DataFrame scoring to raw_data\\2023\\Week8\\2023_Week8_BUF_vs_TB\\scoring.csv\n",
      "Saved DataFrame player_offense to raw_data\\2023\\Week8\\2023_Week8_BUF_vs_TB\\player_offense.csv\n",
      "Saved DataFrame game_info to raw_data\\2023\\Week8\\2023_Week8_BUF_vs_TB\\game_info.csv\n",
      "Saved DataFrame officials to raw_data\\2023\\Week8\\2023_Week8_BUF_vs_TB\\officials.csv\n",
      "Saved DataFrame expected_points to raw_data\\2023\\Week8\\2023_Week8_BUF_vs_TB\\expected_points.csv\n",
      "Saved DataFrame team_stats to raw_data\\2023\\Week8\\2023_Week8_BUF_vs_TB\\team_stats.csv\n",
      "Saved DataFrame player_defense to raw_data\\2023\\Week8\\2023_Week8_BUF_vs_TB\\player_defense.csv\n",
      "Saved DataFrame returns to raw_data\\2023\\Week8\\2023_Week8_BUF_vs_TB\\returns.csv\n",
      "Saved DataFrame kicking to raw_data\\2023\\Week8\\2023_Week8_BUF_vs_TB\\kicking.csv\n",
      "Saved DataFrame passing_advanced to raw_data\\2023\\Week8\\2023_Week8_BUF_vs_TB\\passing_advanced.csv\n",
      "Saved DataFrame rushing_advanced to raw_data\\2023\\Week8\\2023_Week8_BUF_vs_TB\\rushing_advanced.csv\n",
      "Saved DataFrame receiving_advanced to raw_data\\2023\\Week8\\2023_Week8_BUF_vs_TB\\receiving_advanced.csv\n",
      "Saved DataFrame defense_advanced to raw_data\\2023\\Week8\\2023_Week8_BUF_vs_TB\\defense_advanced.csv\n",
      "Saved DataFrame home_starters to raw_data\\2023\\Week8\\2023_Week8_BUF_vs_TB\\home_starters.csv\n",
      "Saved DataFrame vis_starters to raw_data\\2023\\Week8\\2023_Week8_BUF_vs_TB\\vis_starters.csv\n",
      "Saved DataFrame home_snap_counts to raw_data\\2023\\Week8\\2023_Week8_BUF_vs_TB\\home_snap_counts.csv\n",
      "Saved DataFrame vis_snap_counts to raw_data\\2023\\Week8\\2023_Week8_BUF_vs_TB\\vis_snap_counts.csv\n",
      "Saved DataFrame home_drives to raw_data\\2023\\Week8\\2023_Week8_BUF_vs_TB\\home_drives.csv\n",
      "Saved DataFrame vis_drives to raw_data\\2023\\Week8\\2023_Week8_BUF_vs_TB\\vis_drives.csv\n",
      "Saved DataFrame pbp to raw_data\\2023\\Week8\\2023_Week8_BUF_vs_TB\\pbp.csv\n"
     ]
    },
    {
     "name": "stderr",
     "output_type": "stream",
     "text": [
      "C:\\Users\\jackj\\AppData\\Local\\Temp\\ipykernel_31996\\1469608065.py:49: MarkupResemblesLocatorWarning: The input looks more like a filename than markup. You may want to open this file and pass the filehandle into Beautiful Soup.\n",
      "  comment_soup = BeautifulSoup(comment, 'html.parser')\n"
     ]
    },
    {
     "name": "stdout",
     "output_type": "stream",
     "text": [
      "Saved DataFrame scoring to raw_data\\2023\\Week8\\2023_Week8_CAR_vs_HOU\\scoring.csv\n",
      "Saved DataFrame player_offense to raw_data\\2023\\Week8\\2023_Week8_CAR_vs_HOU\\player_offense.csv\n",
      "Saved DataFrame game_info to raw_data\\2023\\Week8\\2023_Week8_CAR_vs_HOU\\game_info.csv\n",
      "Saved DataFrame officials to raw_data\\2023\\Week8\\2023_Week8_CAR_vs_HOU\\officials.csv\n",
      "Saved DataFrame expected_points to raw_data\\2023\\Week8\\2023_Week8_CAR_vs_HOU\\expected_points.csv\n",
      "Saved DataFrame team_stats to raw_data\\2023\\Week8\\2023_Week8_CAR_vs_HOU\\team_stats.csv\n",
      "Saved DataFrame player_defense to raw_data\\2023\\Week8\\2023_Week8_CAR_vs_HOU\\player_defense.csv\n",
      "Saved DataFrame returns to raw_data\\2023\\Week8\\2023_Week8_CAR_vs_HOU\\returns.csv\n",
      "Saved DataFrame kicking to raw_data\\2023\\Week8\\2023_Week8_CAR_vs_HOU\\kicking.csv\n",
      "Saved DataFrame passing_advanced to raw_data\\2023\\Week8\\2023_Week8_CAR_vs_HOU\\passing_advanced.csv\n",
      "Saved DataFrame rushing_advanced to raw_data\\2023\\Week8\\2023_Week8_CAR_vs_HOU\\rushing_advanced.csv\n",
      "Saved DataFrame receiving_advanced to raw_data\\2023\\Week8\\2023_Week8_CAR_vs_HOU\\receiving_advanced.csv\n",
      "Saved DataFrame defense_advanced to raw_data\\2023\\Week8\\2023_Week8_CAR_vs_HOU\\defense_advanced.csv\n",
      "Saved DataFrame home_starters to raw_data\\2023\\Week8\\2023_Week8_CAR_vs_HOU\\home_starters.csv\n",
      "Saved DataFrame vis_starters to raw_data\\2023\\Week8\\2023_Week8_CAR_vs_HOU\\vis_starters.csv\n",
      "Saved DataFrame home_snap_counts to raw_data\\2023\\Week8\\2023_Week8_CAR_vs_HOU\\home_snap_counts.csv\n",
      "Saved DataFrame vis_snap_counts to raw_data\\2023\\Week8\\2023_Week8_CAR_vs_HOU\\vis_snap_counts.csv\n",
      "Saved DataFrame home_drives to raw_data\\2023\\Week8\\2023_Week8_CAR_vs_HOU\\home_drives.csv\n",
      "Saved DataFrame vis_drives to raw_data\\2023\\Week8\\2023_Week8_CAR_vs_HOU\\vis_drives.csv\n",
      "Saved DataFrame pbp to raw_data\\2023\\Week8\\2023_Week8_CAR_vs_HOU\\pbp.csv\n"
     ]
    },
    {
     "name": "stderr",
     "output_type": "stream",
     "text": [
      "C:\\Users\\jackj\\AppData\\Local\\Temp\\ipykernel_31996\\1469608065.py:49: MarkupResemblesLocatorWarning: The input looks more like a filename than markup. You may want to open this file and pass the filehandle into Beautiful Soup.\n",
      "  comment_soup = BeautifulSoup(comment, 'html.parser')\n"
     ]
    },
    {
     "name": "stdout",
     "output_type": "stream",
     "text": [
      "Saved DataFrame scoring to raw_data\\2023\\Week8\\2023_Week8_DAL_vs_LAR\\scoring.csv\n",
      "Saved DataFrame player_offense to raw_data\\2023\\Week8\\2023_Week8_DAL_vs_LAR\\player_offense.csv\n",
      "Saved DataFrame game_info to raw_data\\2023\\Week8\\2023_Week8_DAL_vs_LAR\\game_info.csv\n",
      "Saved DataFrame officials to raw_data\\2023\\Week8\\2023_Week8_DAL_vs_LAR\\officials.csv\n",
      "Saved DataFrame expected_points to raw_data\\2023\\Week8\\2023_Week8_DAL_vs_LAR\\expected_points.csv\n",
      "Saved DataFrame team_stats to raw_data\\2023\\Week8\\2023_Week8_DAL_vs_LAR\\team_stats.csv\n",
      "Saved DataFrame player_defense to raw_data\\2023\\Week8\\2023_Week8_DAL_vs_LAR\\player_defense.csv\n",
      "Saved DataFrame returns to raw_data\\2023\\Week8\\2023_Week8_DAL_vs_LAR\\returns.csv\n",
      "Saved DataFrame kicking to raw_data\\2023\\Week8\\2023_Week8_DAL_vs_LAR\\kicking.csv\n",
      "Saved DataFrame passing_advanced to raw_data\\2023\\Week8\\2023_Week8_DAL_vs_LAR\\passing_advanced.csv\n",
      "Saved DataFrame rushing_advanced to raw_data\\2023\\Week8\\2023_Week8_DAL_vs_LAR\\rushing_advanced.csv\n",
      "Saved DataFrame receiving_advanced to raw_data\\2023\\Week8\\2023_Week8_DAL_vs_LAR\\receiving_advanced.csv\n",
      "Saved DataFrame defense_advanced to raw_data\\2023\\Week8\\2023_Week8_DAL_vs_LAR\\defense_advanced.csv\n",
      "Saved DataFrame home_starters to raw_data\\2023\\Week8\\2023_Week8_DAL_vs_LAR\\home_starters.csv\n",
      "Saved DataFrame vis_starters to raw_data\\2023\\Week8\\2023_Week8_DAL_vs_LAR\\vis_starters.csv\n",
      "Saved DataFrame home_snap_counts to raw_data\\2023\\Week8\\2023_Week8_DAL_vs_LAR\\home_snap_counts.csv\n",
      "Saved DataFrame vis_snap_counts to raw_data\\2023\\Week8\\2023_Week8_DAL_vs_LAR\\vis_snap_counts.csv\n",
      "Saved DataFrame home_drives to raw_data\\2023\\Week8\\2023_Week8_DAL_vs_LAR\\home_drives.csv\n",
      "Saved DataFrame vis_drives to raw_data\\2023\\Week8\\2023_Week8_DAL_vs_LAR\\vis_drives.csv\n",
      "Saved DataFrame pbp to raw_data\\2023\\Week8\\2023_Week8_DAL_vs_LAR\\pbp.csv\n"
     ]
    },
    {
     "name": "stderr",
     "output_type": "stream",
     "text": [
      "C:\\Users\\jackj\\AppData\\Local\\Temp\\ipykernel_31996\\1469608065.py:49: MarkupResemblesLocatorWarning: The input looks more like a filename than markup. You may want to open this file and pass the filehandle into Beautiful Soup.\n",
      "  comment_soup = BeautifulSoup(comment, 'html.parser')\n"
     ]
    },
    {
     "name": "stdout",
     "output_type": "stream",
     "text": [
      "Saved DataFrame scoring to raw_data\\2023\\Week8\\2023_Week8_GB_vs_MIN\\scoring.csv\n",
      "Saved DataFrame player_offense to raw_data\\2023\\Week8\\2023_Week8_GB_vs_MIN\\player_offense.csv\n",
      "Saved DataFrame game_info to raw_data\\2023\\Week8\\2023_Week8_GB_vs_MIN\\game_info.csv\n",
      "Saved DataFrame officials to raw_data\\2023\\Week8\\2023_Week8_GB_vs_MIN\\officials.csv\n",
      "Saved DataFrame expected_points to raw_data\\2023\\Week8\\2023_Week8_GB_vs_MIN\\expected_points.csv\n",
      "Saved DataFrame team_stats to raw_data\\2023\\Week8\\2023_Week8_GB_vs_MIN\\team_stats.csv\n",
      "Saved DataFrame player_defense to raw_data\\2023\\Week8\\2023_Week8_GB_vs_MIN\\player_defense.csv\n",
      "Saved DataFrame returns to raw_data\\2023\\Week8\\2023_Week8_GB_vs_MIN\\returns.csv\n",
      "Saved DataFrame kicking to raw_data\\2023\\Week8\\2023_Week8_GB_vs_MIN\\kicking.csv\n",
      "Saved DataFrame passing_advanced to raw_data\\2023\\Week8\\2023_Week8_GB_vs_MIN\\passing_advanced.csv\n",
      "Saved DataFrame rushing_advanced to raw_data\\2023\\Week8\\2023_Week8_GB_vs_MIN\\rushing_advanced.csv\n",
      "Saved DataFrame receiving_advanced to raw_data\\2023\\Week8\\2023_Week8_GB_vs_MIN\\receiving_advanced.csv\n",
      "Saved DataFrame defense_advanced to raw_data\\2023\\Week8\\2023_Week8_GB_vs_MIN\\defense_advanced.csv\n",
      "Saved DataFrame home_starters to raw_data\\2023\\Week8\\2023_Week8_GB_vs_MIN\\home_starters.csv\n",
      "Saved DataFrame vis_starters to raw_data\\2023\\Week8\\2023_Week8_GB_vs_MIN\\vis_starters.csv\n",
      "Saved DataFrame home_snap_counts to raw_data\\2023\\Week8\\2023_Week8_GB_vs_MIN\\home_snap_counts.csv\n",
      "Saved DataFrame vis_snap_counts to raw_data\\2023\\Week8\\2023_Week8_GB_vs_MIN\\vis_snap_counts.csv\n",
      "Saved DataFrame home_drives to raw_data\\2023\\Week8\\2023_Week8_GB_vs_MIN\\home_drives.csv\n",
      "Saved DataFrame vis_drives to raw_data\\2023\\Week8\\2023_Week8_GB_vs_MIN\\vis_drives.csv\n",
      "Saved DataFrame pbp to raw_data\\2023\\Week8\\2023_Week8_GB_vs_MIN\\pbp.csv\n"
     ]
    },
    {
     "name": "stderr",
     "output_type": "stream",
     "text": [
      "C:\\Users\\jackj\\AppData\\Local\\Temp\\ipykernel_31996\\1469608065.py:49: MarkupResemblesLocatorWarning: The input looks more like a filename than markup. You may want to open this file and pass the filehandle into Beautiful Soup.\n",
      "  comment_soup = BeautifulSoup(comment, 'html.parser')\n"
     ]
    },
    {
     "name": "stdout",
     "output_type": "stream",
     "text": [
      "Saved DataFrame scoring to raw_data\\2023\\Week8\\2023_Week8_TEN_vs_ATL\\scoring.csv\n",
      "Saved DataFrame player_offense to raw_data\\2023\\Week8\\2023_Week8_TEN_vs_ATL\\player_offense.csv\n",
      "Saved DataFrame game_info to raw_data\\2023\\Week8\\2023_Week8_TEN_vs_ATL\\game_info.csv\n",
      "Saved DataFrame officials to raw_data\\2023\\Week8\\2023_Week8_TEN_vs_ATL\\officials.csv\n",
      "Saved DataFrame expected_points to raw_data\\2023\\Week8\\2023_Week8_TEN_vs_ATL\\expected_points.csv\n",
      "Saved DataFrame team_stats to raw_data\\2023\\Week8\\2023_Week8_TEN_vs_ATL\\team_stats.csv\n",
      "Saved DataFrame player_defense to raw_data\\2023\\Week8\\2023_Week8_TEN_vs_ATL\\player_defense.csv\n",
      "Saved DataFrame returns to raw_data\\2023\\Week8\\2023_Week8_TEN_vs_ATL\\returns.csv\n",
      "Saved DataFrame kicking to raw_data\\2023\\Week8\\2023_Week8_TEN_vs_ATL\\kicking.csv\n",
      "Saved DataFrame passing_advanced to raw_data\\2023\\Week8\\2023_Week8_TEN_vs_ATL\\passing_advanced.csv\n",
      "Saved DataFrame rushing_advanced to raw_data\\2023\\Week8\\2023_Week8_TEN_vs_ATL\\rushing_advanced.csv\n",
      "Saved DataFrame receiving_advanced to raw_data\\2023\\Week8\\2023_Week8_TEN_vs_ATL\\receiving_advanced.csv\n",
      "Saved DataFrame defense_advanced to raw_data\\2023\\Week8\\2023_Week8_TEN_vs_ATL\\defense_advanced.csv\n",
      "Saved DataFrame home_starters to raw_data\\2023\\Week8\\2023_Week8_TEN_vs_ATL\\home_starters.csv\n",
      "Saved DataFrame vis_starters to raw_data\\2023\\Week8\\2023_Week8_TEN_vs_ATL\\vis_starters.csv\n",
      "Saved DataFrame home_snap_counts to raw_data\\2023\\Week8\\2023_Week8_TEN_vs_ATL\\home_snap_counts.csv\n",
      "Saved DataFrame vis_snap_counts to raw_data\\2023\\Week8\\2023_Week8_TEN_vs_ATL\\vis_snap_counts.csv\n",
      "Saved DataFrame home_drives to raw_data\\2023\\Week8\\2023_Week8_TEN_vs_ATL\\home_drives.csv\n",
      "Saved DataFrame vis_drives to raw_data\\2023\\Week8\\2023_Week8_TEN_vs_ATL\\vis_drives.csv\n",
      "Saved DataFrame pbp to raw_data\\2023\\Week8\\2023_Week8_TEN_vs_ATL\\pbp.csv\n"
     ]
    },
    {
     "name": "stderr",
     "output_type": "stream",
     "text": [
      "C:\\Users\\jackj\\AppData\\Local\\Temp\\ipykernel_31996\\1469608065.py:49: MarkupResemblesLocatorWarning: The input looks more like a filename than markup. You may want to open this file and pass the filehandle into Beautiful Soup.\n",
      "  comment_soup = BeautifulSoup(comment, 'html.parser')\n"
     ]
    },
    {
     "name": "stdout",
     "output_type": "stream",
     "text": [
      "Saved DataFrame scoring to raw_data\\2023\\Week8\\2023_Week8_IND_vs_NO\\scoring.csv\n",
      "Saved DataFrame player_offense to raw_data\\2023\\Week8\\2023_Week8_IND_vs_NO\\player_offense.csv\n",
      "Saved DataFrame game_info to raw_data\\2023\\Week8\\2023_Week8_IND_vs_NO\\game_info.csv\n",
      "Saved DataFrame officials to raw_data\\2023\\Week8\\2023_Week8_IND_vs_NO\\officials.csv\n",
      "Saved DataFrame expected_points to raw_data\\2023\\Week8\\2023_Week8_IND_vs_NO\\expected_points.csv\n",
      "Saved DataFrame team_stats to raw_data\\2023\\Week8\\2023_Week8_IND_vs_NO\\team_stats.csv\n",
      "Saved DataFrame player_defense to raw_data\\2023\\Week8\\2023_Week8_IND_vs_NO\\player_defense.csv\n",
      "Saved DataFrame returns to raw_data\\2023\\Week8\\2023_Week8_IND_vs_NO\\returns.csv\n",
      "Saved DataFrame kicking to raw_data\\2023\\Week8\\2023_Week8_IND_vs_NO\\kicking.csv\n",
      "Saved DataFrame passing_advanced to raw_data\\2023\\Week8\\2023_Week8_IND_vs_NO\\passing_advanced.csv\n",
      "Saved DataFrame rushing_advanced to raw_data\\2023\\Week8\\2023_Week8_IND_vs_NO\\rushing_advanced.csv\n",
      "Saved DataFrame receiving_advanced to raw_data\\2023\\Week8\\2023_Week8_IND_vs_NO\\receiving_advanced.csv\n",
      "Saved DataFrame defense_advanced to raw_data\\2023\\Week8\\2023_Week8_IND_vs_NO\\defense_advanced.csv\n",
      "Saved DataFrame home_starters to raw_data\\2023\\Week8\\2023_Week8_IND_vs_NO\\home_starters.csv\n",
      "Saved DataFrame vis_starters to raw_data\\2023\\Week8\\2023_Week8_IND_vs_NO\\vis_starters.csv\n",
      "Saved DataFrame home_snap_counts to raw_data\\2023\\Week8\\2023_Week8_IND_vs_NO\\home_snap_counts.csv\n",
      "Saved DataFrame vis_snap_counts to raw_data\\2023\\Week8\\2023_Week8_IND_vs_NO\\vis_snap_counts.csv\n",
      "Saved DataFrame home_drives to raw_data\\2023\\Week8\\2023_Week8_IND_vs_NO\\home_drives.csv\n",
      "Saved DataFrame vis_drives to raw_data\\2023\\Week8\\2023_Week8_IND_vs_NO\\vis_drives.csv\n",
      "Saved DataFrame pbp to raw_data\\2023\\Week8\\2023_Week8_IND_vs_NO\\pbp.csv\n"
     ]
    },
    {
     "name": "stderr",
     "output_type": "stream",
     "text": [
      "C:\\Users\\jackj\\AppData\\Local\\Temp\\ipykernel_31996\\1469608065.py:49: MarkupResemblesLocatorWarning: The input looks more like a filename than markup. You may want to open this file and pass the filehandle into Beautiful Soup.\n",
      "  comment_soup = BeautifulSoup(comment, 'html.parser')\n"
     ]
    },
    {
     "name": "stdout",
     "output_type": "stream",
     "text": [
      "Saved DataFrame scoring to raw_data\\2023\\Week8\\2023_Week8_PIT_vs_JAX\\scoring.csv\n",
      "Saved DataFrame player_offense to raw_data\\2023\\Week8\\2023_Week8_PIT_vs_JAX\\player_offense.csv\n",
      "Saved DataFrame game_info to raw_data\\2023\\Week8\\2023_Week8_PIT_vs_JAX\\game_info.csv\n",
      "Saved DataFrame officials to raw_data\\2023\\Week8\\2023_Week8_PIT_vs_JAX\\officials.csv\n",
      "Saved DataFrame expected_points to raw_data\\2023\\Week8\\2023_Week8_PIT_vs_JAX\\expected_points.csv\n",
      "Saved DataFrame team_stats to raw_data\\2023\\Week8\\2023_Week8_PIT_vs_JAX\\team_stats.csv\n",
      "Saved DataFrame player_defense to raw_data\\2023\\Week8\\2023_Week8_PIT_vs_JAX\\player_defense.csv\n",
      "Saved DataFrame returns to raw_data\\2023\\Week8\\2023_Week8_PIT_vs_JAX\\returns.csv\n",
      "Saved DataFrame kicking to raw_data\\2023\\Week8\\2023_Week8_PIT_vs_JAX\\kicking.csv\n",
      "Saved DataFrame passing_advanced to raw_data\\2023\\Week8\\2023_Week8_PIT_vs_JAX\\passing_advanced.csv\n",
      "Saved DataFrame rushing_advanced to raw_data\\2023\\Week8\\2023_Week8_PIT_vs_JAX\\rushing_advanced.csv\n",
      "Saved DataFrame receiving_advanced to raw_data\\2023\\Week8\\2023_Week8_PIT_vs_JAX\\receiving_advanced.csv\n",
      "Saved DataFrame defense_advanced to raw_data\\2023\\Week8\\2023_Week8_PIT_vs_JAX\\defense_advanced.csv\n",
      "Saved DataFrame home_starters to raw_data\\2023\\Week8\\2023_Week8_PIT_vs_JAX\\home_starters.csv\n",
      "Saved DataFrame vis_starters to raw_data\\2023\\Week8\\2023_Week8_PIT_vs_JAX\\vis_starters.csv\n",
      "Saved DataFrame home_snap_counts to raw_data\\2023\\Week8\\2023_Week8_PIT_vs_JAX\\home_snap_counts.csv\n",
      "Saved DataFrame vis_snap_counts to raw_data\\2023\\Week8\\2023_Week8_PIT_vs_JAX\\vis_snap_counts.csv\n",
      "Saved DataFrame home_drives to raw_data\\2023\\Week8\\2023_Week8_PIT_vs_JAX\\home_drives.csv\n",
      "Saved DataFrame vis_drives to raw_data\\2023\\Week8\\2023_Week8_PIT_vs_JAX\\vis_drives.csv\n",
      "Saved DataFrame pbp to raw_data\\2023\\Week8\\2023_Week8_PIT_vs_JAX\\pbp.csv\n"
     ]
    },
    {
     "name": "stderr",
     "output_type": "stream",
     "text": [
      "C:\\Users\\jackj\\AppData\\Local\\Temp\\ipykernel_31996\\1469608065.py:49: MarkupResemblesLocatorWarning: The input looks more like a filename than markup. You may want to open this file and pass the filehandle into Beautiful Soup.\n",
      "  comment_soup = BeautifulSoup(comment, 'html.parser')\n"
     ]
    },
    {
     "name": "stdout",
     "output_type": "stream",
     "text": [
      "Saved DataFrame scoring to raw_data\\2023\\Week8\\2023_Week8_MIA_vs_NE\\scoring.csv\n",
      "Saved DataFrame player_offense to raw_data\\2023\\Week8\\2023_Week8_MIA_vs_NE\\player_offense.csv\n",
      "Saved DataFrame game_info to raw_data\\2023\\Week8\\2023_Week8_MIA_vs_NE\\game_info.csv\n",
      "Saved DataFrame officials to raw_data\\2023\\Week8\\2023_Week8_MIA_vs_NE\\officials.csv\n",
      "Saved DataFrame expected_points to raw_data\\2023\\Week8\\2023_Week8_MIA_vs_NE\\expected_points.csv\n",
      "Saved DataFrame team_stats to raw_data\\2023\\Week8\\2023_Week8_MIA_vs_NE\\team_stats.csv\n",
      "Saved DataFrame player_defense to raw_data\\2023\\Week8\\2023_Week8_MIA_vs_NE\\player_defense.csv\n",
      "Saved DataFrame returns to raw_data\\2023\\Week8\\2023_Week8_MIA_vs_NE\\returns.csv\n",
      "Saved DataFrame kicking to raw_data\\2023\\Week8\\2023_Week8_MIA_vs_NE\\kicking.csv\n",
      "Saved DataFrame passing_advanced to raw_data\\2023\\Week8\\2023_Week8_MIA_vs_NE\\passing_advanced.csv\n",
      "Saved DataFrame rushing_advanced to raw_data\\2023\\Week8\\2023_Week8_MIA_vs_NE\\rushing_advanced.csv\n",
      "Saved DataFrame receiving_advanced to raw_data\\2023\\Week8\\2023_Week8_MIA_vs_NE\\receiving_advanced.csv\n",
      "Saved DataFrame defense_advanced to raw_data\\2023\\Week8\\2023_Week8_MIA_vs_NE\\defense_advanced.csv\n",
      "Saved DataFrame home_starters to raw_data\\2023\\Week8\\2023_Week8_MIA_vs_NE\\home_starters.csv\n",
      "Saved DataFrame vis_starters to raw_data\\2023\\Week8\\2023_Week8_MIA_vs_NE\\vis_starters.csv\n",
      "Saved DataFrame home_snap_counts to raw_data\\2023\\Week8\\2023_Week8_MIA_vs_NE\\home_snap_counts.csv\n",
      "Saved DataFrame vis_snap_counts to raw_data\\2023\\Week8\\2023_Week8_MIA_vs_NE\\vis_snap_counts.csv\n",
      "Saved DataFrame home_drives to raw_data\\2023\\Week8\\2023_Week8_MIA_vs_NE\\home_drives.csv\n",
      "Saved DataFrame vis_drives to raw_data\\2023\\Week8\\2023_Week8_MIA_vs_NE\\vis_drives.csv\n",
      "Saved DataFrame pbp to raw_data\\2023\\Week8\\2023_Week8_MIA_vs_NE\\pbp.csv\n",
      "Reached 20 requests, sleeping for 60 seconds...\n"
     ]
    },
    {
     "name": "stderr",
     "output_type": "stream",
     "text": [
      "C:\\Users\\jackj\\AppData\\Local\\Temp\\ipykernel_31996\\1469608065.py:49: MarkupResemblesLocatorWarning: The input looks more like a filename than markup. You may want to open this file and pass the filehandle into Beautiful Soup.\n",
      "  comment_soup = BeautifulSoup(comment, 'html.parser')\n"
     ]
    },
    {
     "name": "stdout",
     "output_type": "stream",
     "text": [
      "Saved DataFrame scoring to raw_data\\2023\\Week8\\2023_Week8_NYG_vs_NYJ\\scoring.csv\n",
      "Saved DataFrame player_offense to raw_data\\2023\\Week8\\2023_Week8_NYG_vs_NYJ\\player_offense.csv\n",
      "Saved DataFrame game_info to raw_data\\2023\\Week8\\2023_Week8_NYG_vs_NYJ\\game_info.csv\n",
      "Saved DataFrame officials to raw_data\\2023\\Week8\\2023_Week8_NYG_vs_NYJ\\officials.csv\n",
      "Saved DataFrame expected_points to raw_data\\2023\\Week8\\2023_Week8_NYG_vs_NYJ\\expected_points.csv\n",
      "Saved DataFrame team_stats to raw_data\\2023\\Week8\\2023_Week8_NYG_vs_NYJ\\team_stats.csv\n",
      "Saved DataFrame player_defense to raw_data\\2023\\Week8\\2023_Week8_NYG_vs_NYJ\\player_defense.csv\n",
      "Saved DataFrame returns to raw_data\\2023\\Week8\\2023_Week8_NYG_vs_NYJ\\returns.csv\n",
      "Saved DataFrame kicking to raw_data\\2023\\Week8\\2023_Week8_NYG_vs_NYJ\\kicking.csv\n",
      "Saved DataFrame passing_advanced to raw_data\\2023\\Week8\\2023_Week8_NYG_vs_NYJ\\passing_advanced.csv\n",
      "Saved DataFrame rushing_advanced to raw_data\\2023\\Week8\\2023_Week8_NYG_vs_NYJ\\rushing_advanced.csv\n",
      "Saved DataFrame receiving_advanced to raw_data\\2023\\Week8\\2023_Week8_NYG_vs_NYJ\\receiving_advanced.csv\n",
      "Saved DataFrame defense_advanced to raw_data\\2023\\Week8\\2023_Week8_NYG_vs_NYJ\\defense_advanced.csv\n",
      "Saved DataFrame home_starters to raw_data\\2023\\Week8\\2023_Week8_NYG_vs_NYJ\\home_starters.csv\n",
      "Saved DataFrame vis_starters to raw_data\\2023\\Week8\\2023_Week8_NYG_vs_NYJ\\vis_starters.csv\n",
      "Saved DataFrame home_snap_counts to raw_data\\2023\\Week8\\2023_Week8_NYG_vs_NYJ\\home_snap_counts.csv\n",
      "Saved DataFrame vis_snap_counts to raw_data\\2023\\Week8\\2023_Week8_NYG_vs_NYJ\\vis_snap_counts.csv\n",
      "Saved DataFrame home_drives to raw_data\\2023\\Week8\\2023_Week8_NYG_vs_NYJ\\home_drives.csv\n",
      "Saved DataFrame vis_drives to raw_data\\2023\\Week8\\2023_Week8_NYG_vs_NYJ\\vis_drives.csv\n",
      "Saved DataFrame pbp to raw_data\\2023\\Week8\\2023_Week8_NYG_vs_NYJ\\pbp.csv\n"
     ]
    },
    {
     "name": "stderr",
     "output_type": "stream",
     "text": [
      "C:\\Users\\jackj\\AppData\\Local\\Temp\\ipykernel_31996\\1469608065.py:49: MarkupResemblesLocatorWarning: The input looks more like a filename than markup. You may want to open this file and pass the filehandle into Beautiful Soup.\n",
      "  comment_soup = BeautifulSoup(comment, 'html.parser')\n"
     ]
    },
    {
     "name": "stdout",
     "output_type": "stream",
     "text": [
      "Saved DataFrame scoring to raw_data\\2023\\Week8\\2023_Week8_WAS_vs_PHI\\scoring.csv\n",
      "Saved DataFrame player_offense to raw_data\\2023\\Week8\\2023_Week8_WAS_vs_PHI\\player_offense.csv\n",
      "Saved DataFrame game_info to raw_data\\2023\\Week8\\2023_Week8_WAS_vs_PHI\\game_info.csv\n",
      "Saved DataFrame officials to raw_data\\2023\\Week8\\2023_Week8_WAS_vs_PHI\\officials.csv\n",
      "Saved DataFrame expected_points to raw_data\\2023\\Week8\\2023_Week8_WAS_vs_PHI\\expected_points.csv\n",
      "Saved DataFrame team_stats to raw_data\\2023\\Week8\\2023_Week8_WAS_vs_PHI\\team_stats.csv\n",
      "Saved DataFrame player_defense to raw_data\\2023\\Week8\\2023_Week8_WAS_vs_PHI\\player_defense.csv\n",
      "Saved DataFrame returns to raw_data\\2023\\Week8\\2023_Week8_WAS_vs_PHI\\returns.csv\n",
      "Saved DataFrame kicking to raw_data\\2023\\Week8\\2023_Week8_WAS_vs_PHI\\kicking.csv\n",
      "Saved DataFrame passing_advanced to raw_data\\2023\\Week8\\2023_Week8_WAS_vs_PHI\\passing_advanced.csv\n",
      "Saved DataFrame rushing_advanced to raw_data\\2023\\Week8\\2023_Week8_WAS_vs_PHI\\rushing_advanced.csv\n",
      "Saved DataFrame receiving_advanced to raw_data\\2023\\Week8\\2023_Week8_WAS_vs_PHI\\receiving_advanced.csv\n",
      "Saved DataFrame defense_advanced to raw_data\\2023\\Week8\\2023_Week8_WAS_vs_PHI\\defense_advanced.csv\n",
      "Saved DataFrame home_starters to raw_data\\2023\\Week8\\2023_Week8_WAS_vs_PHI\\home_starters.csv\n",
      "Saved DataFrame vis_starters to raw_data\\2023\\Week8\\2023_Week8_WAS_vs_PHI\\vis_starters.csv\n",
      "Saved DataFrame home_snap_counts to raw_data\\2023\\Week8\\2023_Week8_WAS_vs_PHI\\home_snap_counts.csv\n",
      "Saved DataFrame vis_snap_counts to raw_data\\2023\\Week8\\2023_Week8_WAS_vs_PHI\\vis_snap_counts.csv\n",
      "Saved DataFrame home_drives to raw_data\\2023\\Week8\\2023_Week8_WAS_vs_PHI\\home_drives.csv\n",
      "Saved DataFrame vis_drives to raw_data\\2023\\Week8\\2023_Week8_WAS_vs_PHI\\vis_drives.csv\n",
      "Saved DataFrame pbp to raw_data\\2023\\Week8\\2023_Week8_WAS_vs_PHI\\pbp.csv\n"
     ]
    },
    {
     "name": "stderr",
     "output_type": "stream",
     "text": [
      "C:\\Users\\jackj\\AppData\\Local\\Temp\\ipykernel_31996\\1469608065.py:49: MarkupResemblesLocatorWarning: The input looks more like a filename than markup. You may want to open this file and pass the filehandle into Beautiful Soup.\n",
      "  comment_soup = BeautifulSoup(comment, 'html.parser')\n"
     ]
    },
    {
     "name": "stdout",
     "output_type": "stream",
     "text": [
      "Saved DataFrame scoring to raw_data\\2023\\Week8\\2023_Week8_SEA_vs_CLE\\scoring.csv\n",
      "Saved DataFrame player_offense to raw_data\\2023\\Week8\\2023_Week8_SEA_vs_CLE\\player_offense.csv\n",
      "Saved DataFrame game_info to raw_data\\2023\\Week8\\2023_Week8_SEA_vs_CLE\\game_info.csv\n",
      "Saved DataFrame officials to raw_data\\2023\\Week8\\2023_Week8_SEA_vs_CLE\\officials.csv\n",
      "Saved DataFrame expected_points to raw_data\\2023\\Week8\\2023_Week8_SEA_vs_CLE\\expected_points.csv\n",
      "Saved DataFrame team_stats to raw_data\\2023\\Week8\\2023_Week8_SEA_vs_CLE\\team_stats.csv\n",
      "Saved DataFrame player_defense to raw_data\\2023\\Week8\\2023_Week8_SEA_vs_CLE\\player_defense.csv\n",
      "Saved DataFrame returns to raw_data\\2023\\Week8\\2023_Week8_SEA_vs_CLE\\returns.csv\n",
      "Saved DataFrame kicking to raw_data\\2023\\Week8\\2023_Week8_SEA_vs_CLE\\kicking.csv\n",
      "Saved DataFrame passing_advanced to raw_data\\2023\\Week8\\2023_Week8_SEA_vs_CLE\\passing_advanced.csv\n",
      "Saved DataFrame rushing_advanced to raw_data\\2023\\Week8\\2023_Week8_SEA_vs_CLE\\rushing_advanced.csv\n",
      "Saved DataFrame receiving_advanced to raw_data\\2023\\Week8\\2023_Week8_SEA_vs_CLE\\receiving_advanced.csv\n",
      "Saved DataFrame defense_advanced to raw_data\\2023\\Week8\\2023_Week8_SEA_vs_CLE\\defense_advanced.csv\n",
      "Saved DataFrame home_starters to raw_data\\2023\\Week8\\2023_Week8_SEA_vs_CLE\\home_starters.csv\n",
      "Saved DataFrame vis_starters to raw_data\\2023\\Week8\\2023_Week8_SEA_vs_CLE\\vis_starters.csv\n",
      "Saved DataFrame home_snap_counts to raw_data\\2023\\Week8\\2023_Week8_SEA_vs_CLE\\home_snap_counts.csv\n",
      "Saved DataFrame vis_snap_counts to raw_data\\2023\\Week8\\2023_Week8_SEA_vs_CLE\\vis_snap_counts.csv\n",
      "Saved DataFrame home_drives to raw_data\\2023\\Week8\\2023_Week8_SEA_vs_CLE\\home_drives.csv\n",
      "Saved DataFrame vis_drives to raw_data\\2023\\Week8\\2023_Week8_SEA_vs_CLE\\vis_drives.csv\n",
      "Saved DataFrame pbp to raw_data\\2023\\Week8\\2023_Week8_SEA_vs_CLE\\pbp.csv\n"
     ]
    },
    {
     "name": "stderr",
     "output_type": "stream",
     "text": [
      "C:\\Users\\jackj\\AppData\\Local\\Temp\\ipykernel_31996\\1469608065.py:49: MarkupResemblesLocatorWarning: The input looks more like a filename than markup. You may want to open this file and pass the filehandle into Beautiful Soup.\n",
      "  comment_soup = BeautifulSoup(comment, 'html.parser')\n"
     ]
    },
    {
     "name": "stdout",
     "output_type": "stream",
     "text": [
      "Saved DataFrame scoring to raw_data\\2023\\Week8\\2023_Week8_SF_vs_CIN\\scoring.csv\n",
      "Saved DataFrame player_offense to raw_data\\2023\\Week8\\2023_Week8_SF_vs_CIN\\player_offense.csv\n",
      "Saved DataFrame game_info to raw_data\\2023\\Week8\\2023_Week8_SF_vs_CIN\\game_info.csv\n",
      "Saved DataFrame officials to raw_data\\2023\\Week8\\2023_Week8_SF_vs_CIN\\officials.csv\n",
      "Saved DataFrame expected_points to raw_data\\2023\\Week8\\2023_Week8_SF_vs_CIN\\expected_points.csv\n",
      "Saved DataFrame team_stats to raw_data\\2023\\Week8\\2023_Week8_SF_vs_CIN\\team_stats.csv\n",
      "Saved DataFrame player_defense to raw_data\\2023\\Week8\\2023_Week8_SF_vs_CIN\\player_defense.csv\n",
      "Saved DataFrame returns to raw_data\\2023\\Week8\\2023_Week8_SF_vs_CIN\\returns.csv\n",
      "Saved DataFrame kicking to raw_data\\2023\\Week8\\2023_Week8_SF_vs_CIN\\kicking.csv\n",
      "Saved DataFrame passing_advanced to raw_data\\2023\\Week8\\2023_Week8_SF_vs_CIN\\passing_advanced.csv\n",
      "Saved DataFrame rushing_advanced to raw_data\\2023\\Week8\\2023_Week8_SF_vs_CIN\\rushing_advanced.csv\n",
      "Saved DataFrame receiving_advanced to raw_data\\2023\\Week8\\2023_Week8_SF_vs_CIN\\receiving_advanced.csv\n",
      "Saved DataFrame defense_advanced to raw_data\\2023\\Week8\\2023_Week8_SF_vs_CIN\\defense_advanced.csv\n",
      "Saved DataFrame home_starters to raw_data\\2023\\Week8\\2023_Week8_SF_vs_CIN\\home_starters.csv\n",
      "Saved DataFrame vis_starters to raw_data\\2023\\Week8\\2023_Week8_SF_vs_CIN\\vis_starters.csv\n",
      "Saved DataFrame home_snap_counts to raw_data\\2023\\Week8\\2023_Week8_SF_vs_CIN\\home_snap_counts.csv\n",
      "Saved DataFrame vis_snap_counts to raw_data\\2023\\Week8\\2023_Week8_SF_vs_CIN\\vis_snap_counts.csv\n",
      "Saved DataFrame home_drives to raw_data\\2023\\Week8\\2023_Week8_SF_vs_CIN\\home_drives.csv\n",
      "Saved DataFrame vis_drives to raw_data\\2023\\Week8\\2023_Week8_SF_vs_CIN\\vis_drives.csv\n",
      "Saved DataFrame pbp to raw_data\\2023\\Week8\\2023_Week8_SF_vs_CIN\\pbp.csv\n"
     ]
    },
    {
     "name": "stderr",
     "output_type": "stream",
     "text": [
      "C:\\Users\\jackj\\AppData\\Local\\Temp\\ipykernel_31996\\1469608065.py:49: MarkupResemblesLocatorWarning: The input looks more like a filename than markup. You may want to open this file and pass the filehandle into Beautiful Soup.\n",
      "  comment_soup = BeautifulSoup(comment, 'html.parser')\n"
     ]
    },
    {
     "name": "stdout",
     "output_type": "stream",
     "text": [
      "Saved DataFrame scoring to raw_data\\2023\\Week8\\2023_Week8_ARI_vs_BAL\\scoring.csv\n",
      "Saved DataFrame player_offense to raw_data\\2023\\Week8\\2023_Week8_ARI_vs_BAL\\player_offense.csv\n",
      "Saved DataFrame game_info to raw_data\\2023\\Week8\\2023_Week8_ARI_vs_BAL\\game_info.csv\n",
      "Saved DataFrame officials to raw_data\\2023\\Week8\\2023_Week8_ARI_vs_BAL\\officials.csv\n",
      "Saved DataFrame expected_points to raw_data\\2023\\Week8\\2023_Week8_ARI_vs_BAL\\expected_points.csv\n",
      "Saved DataFrame team_stats to raw_data\\2023\\Week8\\2023_Week8_ARI_vs_BAL\\team_stats.csv\n",
      "Saved DataFrame player_defense to raw_data\\2023\\Week8\\2023_Week8_ARI_vs_BAL\\player_defense.csv\n",
      "Saved DataFrame returns to raw_data\\2023\\Week8\\2023_Week8_ARI_vs_BAL\\returns.csv\n",
      "Saved DataFrame kicking to raw_data\\2023\\Week8\\2023_Week8_ARI_vs_BAL\\kicking.csv\n",
      "Saved DataFrame passing_advanced to raw_data\\2023\\Week8\\2023_Week8_ARI_vs_BAL\\passing_advanced.csv\n",
      "Saved DataFrame rushing_advanced to raw_data\\2023\\Week8\\2023_Week8_ARI_vs_BAL\\rushing_advanced.csv\n",
      "Saved DataFrame receiving_advanced to raw_data\\2023\\Week8\\2023_Week8_ARI_vs_BAL\\receiving_advanced.csv\n",
      "Saved DataFrame defense_advanced to raw_data\\2023\\Week8\\2023_Week8_ARI_vs_BAL\\defense_advanced.csv\n",
      "Saved DataFrame home_starters to raw_data\\2023\\Week8\\2023_Week8_ARI_vs_BAL\\home_starters.csv\n",
      "Saved DataFrame vis_starters to raw_data\\2023\\Week8\\2023_Week8_ARI_vs_BAL\\vis_starters.csv\n",
      "Saved DataFrame home_snap_counts to raw_data\\2023\\Week8\\2023_Week8_ARI_vs_BAL\\home_snap_counts.csv\n",
      "Saved DataFrame vis_snap_counts to raw_data\\2023\\Week8\\2023_Week8_ARI_vs_BAL\\vis_snap_counts.csv\n",
      "Saved DataFrame home_drives to raw_data\\2023\\Week8\\2023_Week8_ARI_vs_BAL\\home_drives.csv\n",
      "Saved DataFrame vis_drives to raw_data\\2023\\Week8\\2023_Week8_ARI_vs_BAL\\vis_drives.csv\n",
      "Saved DataFrame pbp to raw_data\\2023\\Week8\\2023_Week8_ARI_vs_BAL\\pbp.csv\n"
     ]
    },
    {
     "name": "stderr",
     "output_type": "stream",
     "text": [
      "C:\\Users\\jackj\\AppData\\Local\\Temp\\ipykernel_31996\\1469608065.py:49: MarkupResemblesLocatorWarning: The input looks more like a filename than markup. You may want to open this file and pass the filehandle into Beautiful Soup.\n",
      "  comment_soup = BeautifulSoup(comment, 'html.parser')\n"
     ]
    },
    {
     "name": "stdout",
     "output_type": "stream",
     "text": [
      "Saved DataFrame scoring to raw_data\\2023\\Week8\\2023_Week8_DEN_vs_KC\\scoring.csv\n",
      "Saved DataFrame player_offense to raw_data\\2023\\Week8\\2023_Week8_DEN_vs_KC\\player_offense.csv\n",
      "Saved DataFrame game_info to raw_data\\2023\\Week8\\2023_Week8_DEN_vs_KC\\game_info.csv\n",
      "Saved DataFrame officials to raw_data\\2023\\Week8\\2023_Week8_DEN_vs_KC\\officials.csv\n",
      "Saved DataFrame expected_points to raw_data\\2023\\Week8\\2023_Week8_DEN_vs_KC\\expected_points.csv\n",
      "Saved DataFrame team_stats to raw_data\\2023\\Week8\\2023_Week8_DEN_vs_KC\\team_stats.csv\n",
      "Saved DataFrame player_defense to raw_data\\2023\\Week8\\2023_Week8_DEN_vs_KC\\player_defense.csv\n",
      "Saved DataFrame returns to raw_data\\2023\\Week8\\2023_Week8_DEN_vs_KC\\returns.csv\n",
      "Saved DataFrame kicking to raw_data\\2023\\Week8\\2023_Week8_DEN_vs_KC\\kicking.csv\n",
      "Saved DataFrame passing_advanced to raw_data\\2023\\Week8\\2023_Week8_DEN_vs_KC\\passing_advanced.csv\n",
      "Saved DataFrame rushing_advanced to raw_data\\2023\\Week8\\2023_Week8_DEN_vs_KC\\rushing_advanced.csv\n",
      "Saved DataFrame receiving_advanced to raw_data\\2023\\Week8\\2023_Week8_DEN_vs_KC\\receiving_advanced.csv\n",
      "Saved DataFrame defense_advanced to raw_data\\2023\\Week8\\2023_Week8_DEN_vs_KC\\defense_advanced.csv\n",
      "Saved DataFrame home_starters to raw_data\\2023\\Week8\\2023_Week8_DEN_vs_KC\\home_starters.csv\n",
      "Saved DataFrame vis_starters to raw_data\\2023\\Week8\\2023_Week8_DEN_vs_KC\\vis_starters.csv\n",
      "Saved DataFrame home_snap_counts to raw_data\\2023\\Week8\\2023_Week8_DEN_vs_KC\\home_snap_counts.csv\n",
      "Saved DataFrame vis_snap_counts to raw_data\\2023\\Week8\\2023_Week8_DEN_vs_KC\\vis_snap_counts.csv\n",
      "Saved DataFrame home_drives to raw_data\\2023\\Week8\\2023_Week8_DEN_vs_KC\\home_drives.csv\n",
      "Saved DataFrame vis_drives to raw_data\\2023\\Week8\\2023_Week8_DEN_vs_KC\\vis_drives.csv\n",
      "Saved DataFrame pbp to raw_data\\2023\\Week8\\2023_Week8_DEN_vs_KC\\pbp.csv\n"
     ]
    },
    {
     "name": "stderr",
     "output_type": "stream",
     "text": [
      "C:\\Users\\jackj\\AppData\\Local\\Temp\\ipykernel_31996\\1469608065.py:49: MarkupResemblesLocatorWarning: The input looks more like a filename than markup. You may want to open this file and pass the filehandle into Beautiful Soup.\n",
      "  comment_soup = BeautifulSoup(comment, 'html.parser')\n"
     ]
    },
    {
     "name": "stdout",
     "output_type": "stream",
     "text": [
      "Saved DataFrame scoring to raw_data\\2023\\Week8\\2023_Week8_LAC_vs_CHI\\scoring.csv\n",
      "Saved DataFrame player_offense to raw_data\\2023\\Week8\\2023_Week8_LAC_vs_CHI\\player_offense.csv\n",
      "Saved DataFrame game_info to raw_data\\2023\\Week8\\2023_Week8_LAC_vs_CHI\\game_info.csv\n",
      "Saved DataFrame officials to raw_data\\2023\\Week8\\2023_Week8_LAC_vs_CHI\\officials.csv\n",
      "Saved DataFrame expected_points to raw_data\\2023\\Week8\\2023_Week8_LAC_vs_CHI\\expected_points.csv\n",
      "Saved DataFrame team_stats to raw_data\\2023\\Week8\\2023_Week8_LAC_vs_CHI\\team_stats.csv\n",
      "Saved DataFrame player_defense to raw_data\\2023\\Week8\\2023_Week8_LAC_vs_CHI\\player_defense.csv\n",
      "Saved DataFrame returns to raw_data\\2023\\Week8\\2023_Week8_LAC_vs_CHI\\returns.csv\n",
      "Saved DataFrame kicking to raw_data\\2023\\Week8\\2023_Week8_LAC_vs_CHI\\kicking.csv\n",
      "Saved DataFrame passing_advanced to raw_data\\2023\\Week8\\2023_Week8_LAC_vs_CHI\\passing_advanced.csv\n",
      "Saved DataFrame rushing_advanced to raw_data\\2023\\Week8\\2023_Week8_LAC_vs_CHI\\rushing_advanced.csv\n",
      "Saved DataFrame receiving_advanced to raw_data\\2023\\Week8\\2023_Week8_LAC_vs_CHI\\receiving_advanced.csv\n",
      "Saved DataFrame defense_advanced to raw_data\\2023\\Week8\\2023_Week8_LAC_vs_CHI\\defense_advanced.csv\n",
      "Saved DataFrame home_starters to raw_data\\2023\\Week8\\2023_Week8_LAC_vs_CHI\\home_starters.csv\n",
      "Saved DataFrame vis_starters to raw_data\\2023\\Week8\\2023_Week8_LAC_vs_CHI\\vis_starters.csv\n",
      "Saved DataFrame home_snap_counts to raw_data\\2023\\Week8\\2023_Week8_LAC_vs_CHI\\home_snap_counts.csv\n",
      "Saved DataFrame vis_snap_counts to raw_data\\2023\\Week8\\2023_Week8_LAC_vs_CHI\\vis_snap_counts.csv\n",
      "Saved DataFrame home_drives to raw_data\\2023\\Week8\\2023_Week8_LAC_vs_CHI\\home_drives.csv\n",
      "Saved DataFrame vis_drives to raw_data\\2023\\Week8\\2023_Week8_LAC_vs_CHI\\vis_drives.csv\n",
      "Saved DataFrame pbp to raw_data\\2023\\Week8\\2023_Week8_LAC_vs_CHI\\pbp.csv\n"
     ]
    },
    {
     "name": "stderr",
     "output_type": "stream",
     "text": [
      "C:\\Users\\jackj\\AppData\\Local\\Temp\\ipykernel_31996\\1469608065.py:49: MarkupResemblesLocatorWarning: The input looks more like a filename than markup. You may want to open this file and pass the filehandle into Beautiful Soup.\n",
      "  comment_soup = BeautifulSoup(comment, 'html.parser')\n"
     ]
    },
    {
     "name": "stdout",
     "output_type": "stream",
     "text": [
      "Saved DataFrame scoring to raw_data\\2023\\Week8\\2023_Week8_DET_vs_LVR\\scoring.csv\n",
      "Saved DataFrame player_offense to raw_data\\2023\\Week8\\2023_Week8_DET_vs_LVR\\player_offense.csv\n",
      "Saved DataFrame game_info to raw_data\\2023\\Week8\\2023_Week8_DET_vs_LVR\\game_info.csv\n",
      "Saved DataFrame officials to raw_data\\2023\\Week8\\2023_Week8_DET_vs_LVR\\officials.csv\n",
      "Saved DataFrame expected_points to raw_data\\2023\\Week8\\2023_Week8_DET_vs_LVR\\expected_points.csv\n",
      "Saved DataFrame team_stats to raw_data\\2023\\Week8\\2023_Week8_DET_vs_LVR\\team_stats.csv\n",
      "Saved DataFrame player_defense to raw_data\\2023\\Week8\\2023_Week8_DET_vs_LVR\\player_defense.csv\n",
      "Saved DataFrame returns to raw_data\\2023\\Week8\\2023_Week8_DET_vs_LVR\\returns.csv\n",
      "Saved DataFrame kicking to raw_data\\2023\\Week8\\2023_Week8_DET_vs_LVR\\kicking.csv\n",
      "Saved DataFrame passing_advanced to raw_data\\2023\\Week8\\2023_Week8_DET_vs_LVR\\passing_advanced.csv\n",
      "Saved DataFrame rushing_advanced to raw_data\\2023\\Week8\\2023_Week8_DET_vs_LVR\\rushing_advanced.csv\n",
      "Saved DataFrame receiving_advanced to raw_data\\2023\\Week8\\2023_Week8_DET_vs_LVR\\receiving_advanced.csv\n",
      "Saved DataFrame defense_advanced to raw_data\\2023\\Week8\\2023_Week8_DET_vs_LVR\\defense_advanced.csv\n",
      "Saved DataFrame home_starters to raw_data\\2023\\Week8\\2023_Week8_DET_vs_LVR\\home_starters.csv\n",
      "Saved DataFrame vis_starters to raw_data\\2023\\Week8\\2023_Week8_DET_vs_LVR\\vis_starters.csv\n",
      "Saved DataFrame home_snap_counts to raw_data\\2023\\Week8\\2023_Week8_DET_vs_LVR\\home_snap_counts.csv\n",
      "Saved DataFrame vis_snap_counts to raw_data\\2023\\Week8\\2023_Week8_DET_vs_LVR\\vis_snap_counts.csv\n",
      "Saved DataFrame home_drives to raw_data\\2023\\Week8\\2023_Week8_DET_vs_LVR\\home_drives.csv\n",
      "Saved DataFrame vis_drives to raw_data\\2023\\Week8\\2023_Week8_DET_vs_LVR\\vis_drives.csv\n",
      "Saved DataFrame pbp to raw_data\\2023\\Week8\\2023_Week8_DET_vs_LVR\\pbp.csv\n"
     ]
    },
    {
     "name": "stderr",
     "output_type": "stream",
     "text": [
      "C:\\Users\\jackj\\AppData\\Local\\Temp\\ipykernel_31996\\1469608065.py:49: MarkupResemblesLocatorWarning: The input looks more like a filename than markup. You may want to open this file and pass the filehandle into Beautiful Soup.\n",
      "  comment_soup = BeautifulSoup(comment, 'html.parser')\n"
     ]
    },
    {
     "name": "stdout",
     "output_type": "stream",
     "text": [
      "Saved DataFrame scoring to raw_data\\2023\\Week9\\2023_Week9_PIT_vs_TEN\\scoring.csv\n",
      "Saved DataFrame player_offense to raw_data\\2023\\Week9\\2023_Week9_PIT_vs_TEN\\player_offense.csv\n",
      "Saved DataFrame game_info to raw_data\\2023\\Week9\\2023_Week9_PIT_vs_TEN\\game_info.csv\n",
      "Saved DataFrame officials to raw_data\\2023\\Week9\\2023_Week9_PIT_vs_TEN\\officials.csv\n",
      "Saved DataFrame expected_points to raw_data\\2023\\Week9\\2023_Week9_PIT_vs_TEN\\expected_points.csv\n",
      "Saved DataFrame team_stats to raw_data\\2023\\Week9\\2023_Week9_PIT_vs_TEN\\team_stats.csv\n",
      "Saved DataFrame player_defense to raw_data\\2023\\Week9\\2023_Week9_PIT_vs_TEN\\player_defense.csv\n",
      "Saved DataFrame returns to raw_data\\2023\\Week9\\2023_Week9_PIT_vs_TEN\\returns.csv\n",
      "Saved DataFrame kicking to raw_data\\2023\\Week9\\2023_Week9_PIT_vs_TEN\\kicking.csv\n",
      "Saved DataFrame passing_advanced to raw_data\\2023\\Week9\\2023_Week9_PIT_vs_TEN\\passing_advanced.csv\n",
      "Saved DataFrame rushing_advanced to raw_data\\2023\\Week9\\2023_Week9_PIT_vs_TEN\\rushing_advanced.csv\n",
      "Saved DataFrame receiving_advanced to raw_data\\2023\\Week9\\2023_Week9_PIT_vs_TEN\\receiving_advanced.csv\n",
      "Saved DataFrame defense_advanced to raw_data\\2023\\Week9\\2023_Week9_PIT_vs_TEN\\defense_advanced.csv\n",
      "Saved DataFrame home_starters to raw_data\\2023\\Week9\\2023_Week9_PIT_vs_TEN\\home_starters.csv\n",
      "Saved DataFrame vis_starters to raw_data\\2023\\Week9\\2023_Week9_PIT_vs_TEN\\vis_starters.csv\n",
      "Saved DataFrame home_snap_counts to raw_data\\2023\\Week9\\2023_Week9_PIT_vs_TEN\\home_snap_counts.csv\n",
      "Saved DataFrame vis_snap_counts to raw_data\\2023\\Week9\\2023_Week9_PIT_vs_TEN\\vis_snap_counts.csv\n",
      "Saved DataFrame home_drives to raw_data\\2023\\Week9\\2023_Week9_PIT_vs_TEN\\home_drives.csv\n",
      "Saved DataFrame vis_drives to raw_data\\2023\\Week9\\2023_Week9_PIT_vs_TEN\\vis_drives.csv\n",
      "Saved DataFrame pbp to raw_data\\2023\\Week9\\2023_Week9_PIT_vs_TEN\\pbp.csv\n"
     ]
    },
    {
     "name": "stderr",
     "output_type": "stream",
     "text": [
      "C:\\Users\\jackj\\AppData\\Local\\Temp\\ipykernel_31996\\1469608065.py:49: MarkupResemblesLocatorWarning: The input looks more like a filename than markup. You may want to open this file and pass the filehandle into Beautiful Soup.\n",
      "  comment_soup = BeautifulSoup(comment, 'html.parser')\n"
     ]
    },
    {
     "name": "stdout",
     "output_type": "stream",
     "text": [
      "Saved DataFrame scoring to raw_data\\2023\\Week9\\2023_Week9_KC_vs_MIA\\scoring.csv\n",
      "Saved DataFrame player_offense to raw_data\\2023\\Week9\\2023_Week9_KC_vs_MIA\\player_offense.csv\n",
      "Saved DataFrame game_info to raw_data\\2023\\Week9\\2023_Week9_KC_vs_MIA\\game_info.csv\n",
      "Saved DataFrame officials to raw_data\\2023\\Week9\\2023_Week9_KC_vs_MIA\\officials.csv\n",
      "Saved DataFrame expected_points to raw_data\\2023\\Week9\\2023_Week9_KC_vs_MIA\\expected_points.csv\n",
      "Saved DataFrame team_stats to raw_data\\2023\\Week9\\2023_Week9_KC_vs_MIA\\team_stats.csv\n",
      "Saved DataFrame player_defense to raw_data\\2023\\Week9\\2023_Week9_KC_vs_MIA\\player_defense.csv\n",
      "Saved DataFrame returns to raw_data\\2023\\Week9\\2023_Week9_KC_vs_MIA\\returns.csv\n",
      "Saved DataFrame kicking to raw_data\\2023\\Week9\\2023_Week9_KC_vs_MIA\\kicking.csv\n",
      "Saved DataFrame passing_advanced to raw_data\\2023\\Week9\\2023_Week9_KC_vs_MIA\\passing_advanced.csv\n",
      "Saved DataFrame rushing_advanced to raw_data\\2023\\Week9\\2023_Week9_KC_vs_MIA\\rushing_advanced.csv\n",
      "Saved DataFrame receiving_advanced to raw_data\\2023\\Week9\\2023_Week9_KC_vs_MIA\\receiving_advanced.csv\n",
      "Saved DataFrame defense_advanced to raw_data\\2023\\Week9\\2023_Week9_KC_vs_MIA\\defense_advanced.csv\n",
      "Saved DataFrame home_starters to raw_data\\2023\\Week9\\2023_Week9_KC_vs_MIA\\home_starters.csv\n",
      "Saved DataFrame vis_starters to raw_data\\2023\\Week9\\2023_Week9_KC_vs_MIA\\vis_starters.csv\n",
      "Saved DataFrame home_snap_counts to raw_data\\2023\\Week9\\2023_Week9_KC_vs_MIA\\home_snap_counts.csv\n",
      "Saved DataFrame vis_snap_counts to raw_data\\2023\\Week9\\2023_Week9_KC_vs_MIA\\vis_snap_counts.csv\n",
      "Saved DataFrame home_drives to raw_data\\2023\\Week9\\2023_Week9_KC_vs_MIA\\home_drives.csv\n",
      "Saved DataFrame vis_drives to raw_data\\2023\\Week9\\2023_Week9_KC_vs_MIA\\vis_drives.csv\n",
      "Saved DataFrame pbp to raw_data\\2023\\Week9\\2023_Week9_KC_vs_MIA\\pbp.csv\n"
     ]
    },
    {
     "name": "stderr",
     "output_type": "stream",
     "text": [
      "C:\\Users\\jackj\\AppData\\Local\\Temp\\ipykernel_31996\\1469608065.py:49: MarkupResemblesLocatorWarning: The input looks more like a filename than markup. You may want to open this file and pass the filehandle into Beautiful Soup.\n",
      "  comment_soup = BeautifulSoup(comment, 'html.parser')\n"
     ]
    },
    {
     "name": "stdout",
     "output_type": "stream",
     "text": [
      "Saved DataFrame scoring to raw_data\\2023\\Week9\\2023_Week9_CLE_vs_ARI\\scoring.csv\n",
      "Saved DataFrame player_offense to raw_data\\2023\\Week9\\2023_Week9_CLE_vs_ARI\\player_offense.csv\n",
      "Saved DataFrame game_info to raw_data\\2023\\Week9\\2023_Week9_CLE_vs_ARI\\game_info.csv\n",
      "Saved DataFrame officials to raw_data\\2023\\Week9\\2023_Week9_CLE_vs_ARI\\officials.csv\n",
      "Saved DataFrame expected_points to raw_data\\2023\\Week9\\2023_Week9_CLE_vs_ARI\\expected_points.csv\n",
      "Saved DataFrame team_stats to raw_data\\2023\\Week9\\2023_Week9_CLE_vs_ARI\\team_stats.csv\n",
      "Saved DataFrame player_defense to raw_data\\2023\\Week9\\2023_Week9_CLE_vs_ARI\\player_defense.csv\n",
      "Saved DataFrame returns to raw_data\\2023\\Week9\\2023_Week9_CLE_vs_ARI\\returns.csv\n",
      "Saved DataFrame kicking to raw_data\\2023\\Week9\\2023_Week9_CLE_vs_ARI\\kicking.csv\n",
      "Saved DataFrame passing_advanced to raw_data\\2023\\Week9\\2023_Week9_CLE_vs_ARI\\passing_advanced.csv\n",
      "Saved DataFrame rushing_advanced to raw_data\\2023\\Week9\\2023_Week9_CLE_vs_ARI\\rushing_advanced.csv\n",
      "Saved DataFrame receiving_advanced to raw_data\\2023\\Week9\\2023_Week9_CLE_vs_ARI\\receiving_advanced.csv\n",
      "Saved DataFrame defense_advanced to raw_data\\2023\\Week9\\2023_Week9_CLE_vs_ARI\\defense_advanced.csv\n",
      "Saved DataFrame home_starters to raw_data\\2023\\Week9\\2023_Week9_CLE_vs_ARI\\home_starters.csv\n",
      "Saved DataFrame vis_starters to raw_data\\2023\\Week9\\2023_Week9_CLE_vs_ARI\\vis_starters.csv\n",
      "Saved DataFrame home_snap_counts to raw_data\\2023\\Week9\\2023_Week9_CLE_vs_ARI\\home_snap_counts.csv\n",
      "Saved DataFrame vis_snap_counts to raw_data\\2023\\Week9\\2023_Week9_CLE_vs_ARI\\vis_snap_counts.csv\n",
      "Saved DataFrame home_drives to raw_data\\2023\\Week9\\2023_Week9_CLE_vs_ARI\\home_drives.csv\n",
      "Saved DataFrame vis_drives to raw_data\\2023\\Week9\\2023_Week9_CLE_vs_ARI\\vis_drives.csv\n",
      "Saved DataFrame pbp to raw_data\\2023\\Week9\\2023_Week9_CLE_vs_ARI\\pbp.csv\n"
     ]
    },
    {
     "name": "stderr",
     "output_type": "stream",
     "text": [
      "C:\\Users\\jackj\\AppData\\Local\\Temp\\ipykernel_31996\\1469608065.py:49: MarkupResemblesLocatorWarning: The input looks more like a filename than markup. You may want to open this file and pass the filehandle into Beautiful Soup.\n",
      "  comment_soup = BeautifulSoup(comment, 'html.parser')\n"
     ]
    },
    {
     "name": "stdout",
     "output_type": "stream",
     "text": [
      "Saved DataFrame scoring to raw_data\\2023\\Week9\\2023_Week9_GB_vs_LAR\\scoring.csv\n",
      "Saved DataFrame player_offense to raw_data\\2023\\Week9\\2023_Week9_GB_vs_LAR\\player_offense.csv\n",
      "Saved DataFrame game_info to raw_data\\2023\\Week9\\2023_Week9_GB_vs_LAR\\game_info.csv\n",
      "Saved DataFrame officials to raw_data\\2023\\Week9\\2023_Week9_GB_vs_LAR\\officials.csv\n",
      "Saved DataFrame expected_points to raw_data\\2023\\Week9\\2023_Week9_GB_vs_LAR\\expected_points.csv\n",
      "Saved DataFrame team_stats to raw_data\\2023\\Week9\\2023_Week9_GB_vs_LAR\\team_stats.csv\n",
      "Saved DataFrame player_defense to raw_data\\2023\\Week9\\2023_Week9_GB_vs_LAR\\player_defense.csv\n",
      "Saved DataFrame returns to raw_data\\2023\\Week9\\2023_Week9_GB_vs_LAR\\returns.csv\n",
      "Saved DataFrame kicking to raw_data\\2023\\Week9\\2023_Week9_GB_vs_LAR\\kicking.csv\n",
      "Saved DataFrame passing_advanced to raw_data\\2023\\Week9\\2023_Week9_GB_vs_LAR\\passing_advanced.csv\n",
      "Saved DataFrame rushing_advanced to raw_data\\2023\\Week9\\2023_Week9_GB_vs_LAR\\rushing_advanced.csv\n",
      "Saved DataFrame receiving_advanced to raw_data\\2023\\Week9\\2023_Week9_GB_vs_LAR\\receiving_advanced.csv\n",
      "Saved DataFrame defense_advanced to raw_data\\2023\\Week9\\2023_Week9_GB_vs_LAR\\defense_advanced.csv\n",
      "Saved DataFrame home_starters to raw_data\\2023\\Week9\\2023_Week9_GB_vs_LAR\\home_starters.csv\n",
      "Saved DataFrame vis_starters to raw_data\\2023\\Week9\\2023_Week9_GB_vs_LAR\\vis_starters.csv\n",
      "Saved DataFrame home_snap_counts to raw_data\\2023\\Week9\\2023_Week9_GB_vs_LAR\\home_snap_counts.csv\n",
      "Saved DataFrame vis_snap_counts to raw_data\\2023\\Week9\\2023_Week9_GB_vs_LAR\\vis_snap_counts.csv\n",
      "Saved DataFrame home_drives to raw_data\\2023\\Week9\\2023_Week9_GB_vs_LAR\\home_drives.csv\n",
      "Saved DataFrame vis_drives to raw_data\\2023\\Week9\\2023_Week9_GB_vs_LAR\\vis_drives.csv\n",
      "Saved DataFrame pbp to raw_data\\2023\\Week9\\2023_Week9_GB_vs_LAR\\pbp.csv\n"
     ]
    },
    {
     "name": "stderr",
     "output_type": "stream",
     "text": [
      "C:\\Users\\jackj\\AppData\\Local\\Temp\\ipykernel_31996\\1469608065.py:49: MarkupResemblesLocatorWarning: The input looks more like a filename than markup. You may want to open this file and pass the filehandle into Beautiful Soup.\n",
      "  comment_soup = BeautifulSoup(comment, 'html.parser')\n"
     ]
    },
    {
     "name": "stdout",
     "output_type": "stream",
     "text": [
      "Saved DataFrame scoring to raw_data\\2023\\Week9\\2023_Week9_HOU_vs_TB\\scoring.csv\n",
      "Saved DataFrame player_offense to raw_data\\2023\\Week9\\2023_Week9_HOU_vs_TB\\player_offense.csv\n",
      "Saved DataFrame game_info to raw_data\\2023\\Week9\\2023_Week9_HOU_vs_TB\\game_info.csv\n",
      "Saved DataFrame officials to raw_data\\2023\\Week9\\2023_Week9_HOU_vs_TB\\officials.csv\n",
      "Saved DataFrame expected_points to raw_data\\2023\\Week9\\2023_Week9_HOU_vs_TB\\expected_points.csv\n",
      "Saved DataFrame team_stats to raw_data\\2023\\Week9\\2023_Week9_HOU_vs_TB\\team_stats.csv\n",
      "Saved DataFrame player_defense to raw_data\\2023\\Week9\\2023_Week9_HOU_vs_TB\\player_defense.csv\n",
      "Saved DataFrame returns to raw_data\\2023\\Week9\\2023_Week9_HOU_vs_TB\\returns.csv\n",
      "Saved DataFrame kicking to raw_data\\2023\\Week9\\2023_Week9_HOU_vs_TB\\kicking.csv\n",
      "Saved DataFrame passing_advanced to raw_data\\2023\\Week9\\2023_Week9_HOU_vs_TB\\passing_advanced.csv\n",
      "Saved DataFrame rushing_advanced to raw_data\\2023\\Week9\\2023_Week9_HOU_vs_TB\\rushing_advanced.csv\n",
      "Saved DataFrame receiving_advanced to raw_data\\2023\\Week9\\2023_Week9_HOU_vs_TB\\receiving_advanced.csv\n",
      "Saved DataFrame defense_advanced to raw_data\\2023\\Week9\\2023_Week9_HOU_vs_TB\\defense_advanced.csv\n",
      "Saved DataFrame home_starters to raw_data\\2023\\Week9\\2023_Week9_HOU_vs_TB\\home_starters.csv\n",
      "Saved DataFrame vis_starters to raw_data\\2023\\Week9\\2023_Week9_HOU_vs_TB\\vis_starters.csv\n",
      "Saved DataFrame home_snap_counts to raw_data\\2023\\Week9\\2023_Week9_HOU_vs_TB\\home_snap_counts.csv\n",
      "Saved DataFrame vis_snap_counts to raw_data\\2023\\Week9\\2023_Week9_HOU_vs_TB\\vis_snap_counts.csv\n",
      "Saved DataFrame home_drives to raw_data\\2023\\Week9\\2023_Week9_HOU_vs_TB\\home_drives.csv\n",
      "Saved DataFrame vis_drives to raw_data\\2023\\Week9\\2023_Week9_HOU_vs_TB\\vis_drives.csv\n",
      "Saved DataFrame pbp to raw_data\\2023\\Week9\\2023_Week9_HOU_vs_TB\\pbp.csv\n"
     ]
    },
    {
     "name": "stderr",
     "output_type": "stream",
     "text": [
      "C:\\Users\\jackj\\AppData\\Local\\Temp\\ipykernel_31996\\1469608065.py:49: MarkupResemblesLocatorWarning: The input looks more like a filename than markup. You may want to open this file and pass the filehandle into Beautiful Soup.\n",
      "  comment_soup = BeautifulSoup(comment, 'html.parser')\n"
     ]
    },
    {
     "name": "stdout",
     "output_type": "stream",
     "text": [
      "Saved DataFrame scoring to raw_data\\2023\\Week9\\2023_Week9_ATL_vs_MIN\\scoring.csv\n",
      "Saved DataFrame player_offense to raw_data\\2023\\Week9\\2023_Week9_ATL_vs_MIN\\player_offense.csv\n",
      "Saved DataFrame game_info to raw_data\\2023\\Week9\\2023_Week9_ATL_vs_MIN\\game_info.csv\n",
      "Saved DataFrame officials to raw_data\\2023\\Week9\\2023_Week9_ATL_vs_MIN\\officials.csv\n",
      "Saved DataFrame expected_points to raw_data\\2023\\Week9\\2023_Week9_ATL_vs_MIN\\expected_points.csv\n",
      "Saved DataFrame team_stats to raw_data\\2023\\Week9\\2023_Week9_ATL_vs_MIN\\team_stats.csv\n",
      "Saved DataFrame player_defense to raw_data\\2023\\Week9\\2023_Week9_ATL_vs_MIN\\player_defense.csv\n",
      "Saved DataFrame returns to raw_data\\2023\\Week9\\2023_Week9_ATL_vs_MIN\\returns.csv\n",
      "Saved DataFrame kicking to raw_data\\2023\\Week9\\2023_Week9_ATL_vs_MIN\\kicking.csv\n",
      "Saved DataFrame passing_advanced to raw_data\\2023\\Week9\\2023_Week9_ATL_vs_MIN\\passing_advanced.csv\n",
      "Saved DataFrame rushing_advanced to raw_data\\2023\\Week9\\2023_Week9_ATL_vs_MIN\\rushing_advanced.csv\n",
      "Saved DataFrame receiving_advanced to raw_data\\2023\\Week9\\2023_Week9_ATL_vs_MIN\\receiving_advanced.csv\n",
      "Saved DataFrame defense_advanced to raw_data\\2023\\Week9\\2023_Week9_ATL_vs_MIN\\defense_advanced.csv\n",
      "Saved DataFrame home_starters to raw_data\\2023\\Week9\\2023_Week9_ATL_vs_MIN\\home_starters.csv\n",
      "Saved DataFrame vis_starters to raw_data\\2023\\Week9\\2023_Week9_ATL_vs_MIN\\vis_starters.csv\n",
      "Saved DataFrame home_snap_counts to raw_data\\2023\\Week9\\2023_Week9_ATL_vs_MIN\\home_snap_counts.csv\n",
      "Saved DataFrame vis_snap_counts to raw_data\\2023\\Week9\\2023_Week9_ATL_vs_MIN\\vis_snap_counts.csv\n",
      "Saved DataFrame home_drives to raw_data\\2023\\Week9\\2023_Week9_ATL_vs_MIN\\home_drives.csv\n",
      "Saved DataFrame vis_drives to raw_data\\2023\\Week9\\2023_Week9_ATL_vs_MIN\\vis_drives.csv\n",
      "Saved DataFrame pbp to raw_data\\2023\\Week9\\2023_Week9_ATL_vs_MIN\\pbp.csv\n"
     ]
    },
    {
     "name": "stderr",
     "output_type": "stream",
     "text": [
      "C:\\Users\\jackj\\AppData\\Local\\Temp\\ipykernel_31996\\1469608065.py:49: MarkupResemblesLocatorWarning: The input looks more like a filename than markup. You may want to open this file and pass the filehandle into Beautiful Soup.\n",
      "  comment_soup = BeautifulSoup(comment, 'html.parser')\n"
     ]
    },
    {
     "name": "stdout",
     "output_type": "stream",
     "text": [
      "Saved DataFrame scoring to raw_data\\2023\\Week9\\2023_Week9_NO_vs_CHI\\scoring.csv\n",
      "Saved DataFrame player_offense to raw_data\\2023\\Week9\\2023_Week9_NO_vs_CHI\\player_offense.csv\n",
      "Saved DataFrame game_info to raw_data\\2023\\Week9\\2023_Week9_NO_vs_CHI\\game_info.csv\n",
      "Saved DataFrame officials to raw_data\\2023\\Week9\\2023_Week9_NO_vs_CHI\\officials.csv\n",
      "Saved DataFrame expected_points to raw_data\\2023\\Week9\\2023_Week9_NO_vs_CHI\\expected_points.csv\n",
      "Saved DataFrame team_stats to raw_data\\2023\\Week9\\2023_Week9_NO_vs_CHI\\team_stats.csv\n",
      "Saved DataFrame player_defense to raw_data\\2023\\Week9\\2023_Week9_NO_vs_CHI\\player_defense.csv\n",
      "Saved DataFrame returns to raw_data\\2023\\Week9\\2023_Week9_NO_vs_CHI\\returns.csv\n",
      "Saved DataFrame kicking to raw_data\\2023\\Week9\\2023_Week9_NO_vs_CHI\\kicking.csv\n",
      "Saved DataFrame passing_advanced to raw_data\\2023\\Week9\\2023_Week9_NO_vs_CHI\\passing_advanced.csv\n",
      "Saved DataFrame rushing_advanced to raw_data\\2023\\Week9\\2023_Week9_NO_vs_CHI\\rushing_advanced.csv\n",
      "Saved DataFrame receiving_advanced to raw_data\\2023\\Week9\\2023_Week9_NO_vs_CHI\\receiving_advanced.csv\n",
      "Saved DataFrame defense_advanced to raw_data\\2023\\Week9\\2023_Week9_NO_vs_CHI\\defense_advanced.csv\n",
      "Saved DataFrame home_starters to raw_data\\2023\\Week9\\2023_Week9_NO_vs_CHI\\home_starters.csv\n",
      "Saved DataFrame vis_starters to raw_data\\2023\\Week9\\2023_Week9_NO_vs_CHI\\vis_starters.csv\n",
      "Saved DataFrame home_snap_counts to raw_data\\2023\\Week9\\2023_Week9_NO_vs_CHI\\home_snap_counts.csv\n",
      "Saved DataFrame vis_snap_counts to raw_data\\2023\\Week9\\2023_Week9_NO_vs_CHI\\vis_snap_counts.csv\n",
      "Saved DataFrame home_drives to raw_data\\2023\\Week9\\2023_Week9_NO_vs_CHI\\home_drives.csv\n",
      "Saved DataFrame vis_drives to raw_data\\2023\\Week9\\2023_Week9_NO_vs_CHI\\vis_drives.csv\n",
      "Saved DataFrame pbp to raw_data\\2023\\Week9\\2023_Week9_NO_vs_CHI\\pbp.csv\n"
     ]
    },
    {
     "name": "stderr",
     "output_type": "stream",
     "text": [
      "C:\\Users\\jackj\\AppData\\Local\\Temp\\ipykernel_31996\\1469608065.py:49: MarkupResemblesLocatorWarning: The input looks more like a filename than markup. You may want to open this file and pass the filehandle into Beautiful Soup.\n",
      "  comment_soup = BeautifulSoup(comment, 'html.parser')\n"
     ]
    },
    {
     "name": "stdout",
     "output_type": "stream",
     "text": [
      "Saved DataFrame scoring to raw_data\\2023\\Week9\\2023_Week9_NE_vs_WAS\\scoring.csv\n",
      "Saved DataFrame player_offense to raw_data\\2023\\Week9\\2023_Week9_NE_vs_WAS\\player_offense.csv\n",
      "Saved DataFrame game_info to raw_data\\2023\\Week9\\2023_Week9_NE_vs_WAS\\game_info.csv\n",
      "Saved DataFrame officials to raw_data\\2023\\Week9\\2023_Week9_NE_vs_WAS\\officials.csv\n",
      "Saved DataFrame expected_points to raw_data\\2023\\Week9\\2023_Week9_NE_vs_WAS\\expected_points.csv\n",
      "Saved DataFrame team_stats to raw_data\\2023\\Week9\\2023_Week9_NE_vs_WAS\\team_stats.csv\n",
      "Saved DataFrame player_defense to raw_data\\2023\\Week9\\2023_Week9_NE_vs_WAS\\player_defense.csv\n",
      "Saved DataFrame returns to raw_data\\2023\\Week9\\2023_Week9_NE_vs_WAS\\returns.csv\n",
      "Saved DataFrame kicking to raw_data\\2023\\Week9\\2023_Week9_NE_vs_WAS\\kicking.csv\n",
      "Saved DataFrame passing_advanced to raw_data\\2023\\Week9\\2023_Week9_NE_vs_WAS\\passing_advanced.csv\n",
      "Saved DataFrame rushing_advanced to raw_data\\2023\\Week9\\2023_Week9_NE_vs_WAS\\rushing_advanced.csv\n",
      "Saved DataFrame receiving_advanced to raw_data\\2023\\Week9\\2023_Week9_NE_vs_WAS\\receiving_advanced.csv\n",
      "Saved DataFrame defense_advanced to raw_data\\2023\\Week9\\2023_Week9_NE_vs_WAS\\defense_advanced.csv\n",
      "Saved DataFrame home_starters to raw_data\\2023\\Week9\\2023_Week9_NE_vs_WAS\\home_starters.csv\n",
      "Saved DataFrame vis_starters to raw_data\\2023\\Week9\\2023_Week9_NE_vs_WAS\\vis_starters.csv\n",
      "Saved DataFrame home_snap_counts to raw_data\\2023\\Week9\\2023_Week9_NE_vs_WAS\\home_snap_counts.csv\n",
      "Saved DataFrame vis_snap_counts to raw_data\\2023\\Week9\\2023_Week9_NE_vs_WAS\\vis_snap_counts.csv\n",
      "Saved DataFrame home_drives to raw_data\\2023\\Week9\\2023_Week9_NE_vs_WAS\\home_drives.csv\n",
      "Saved DataFrame vis_drives to raw_data\\2023\\Week9\\2023_Week9_NE_vs_WAS\\vis_drives.csv\n",
      "Saved DataFrame pbp to raw_data\\2023\\Week9\\2023_Week9_NE_vs_WAS\\pbp.csv\n"
     ]
    },
    {
     "name": "stderr",
     "output_type": "stream",
     "text": [
      "C:\\Users\\jackj\\AppData\\Local\\Temp\\ipykernel_31996\\1469608065.py:49: MarkupResemblesLocatorWarning: The input looks more like a filename than markup. You may want to open this file and pass the filehandle into Beautiful Soup.\n",
      "  comment_soup = BeautifulSoup(comment, 'html.parser')\n"
     ]
    },
    {
     "name": "stdout",
     "output_type": "stream",
     "text": [
      "Saved DataFrame scoring to raw_data\\2023\\Week9\\2023_Week9_BAL_vs_SEA\\scoring.csv\n",
      "Saved DataFrame player_offense to raw_data\\2023\\Week9\\2023_Week9_BAL_vs_SEA\\player_offense.csv\n",
      "Saved DataFrame game_info to raw_data\\2023\\Week9\\2023_Week9_BAL_vs_SEA\\game_info.csv\n",
      "Saved DataFrame officials to raw_data\\2023\\Week9\\2023_Week9_BAL_vs_SEA\\officials.csv\n",
      "Saved DataFrame expected_points to raw_data\\2023\\Week9\\2023_Week9_BAL_vs_SEA\\expected_points.csv\n",
      "Saved DataFrame team_stats to raw_data\\2023\\Week9\\2023_Week9_BAL_vs_SEA\\team_stats.csv\n",
      "Saved DataFrame player_defense to raw_data\\2023\\Week9\\2023_Week9_BAL_vs_SEA\\player_defense.csv\n",
      "Saved DataFrame returns to raw_data\\2023\\Week9\\2023_Week9_BAL_vs_SEA\\returns.csv\n",
      "Saved DataFrame kicking to raw_data\\2023\\Week9\\2023_Week9_BAL_vs_SEA\\kicking.csv\n",
      "Saved DataFrame passing_advanced to raw_data\\2023\\Week9\\2023_Week9_BAL_vs_SEA\\passing_advanced.csv\n",
      "Saved DataFrame rushing_advanced to raw_data\\2023\\Week9\\2023_Week9_BAL_vs_SEA\\rushing_advanced.csv\n",
      "Saved DataFrame receiving_advanced to raw_data\\2023\\Week9\\2023_Week9_BAL_vs_SEA\\receiving_advanced.csv\n",
      "Saved DataFrame defense_advanced to raw_data\\2023\\Week9\\2023_Week9_BAL_vs_SEA\\defense_advanced.csv\n",
      "Saved DataFrame home_starters to raw_data\\2023\\Week9\\2023_Week9_BAL_vs_SEA\\home_starters.csv\n",
      "Saved DataFrame vis_starters to raw_data\\2023\\Week9\\2023_Week9_BAL_vs_SEA\\vis_starters.csv\n",
      "Saved DataFrame home_snap_counts to raw_data\\2023\\Week9\\2023_Week9_BAL_vs_SEA\\home_snap_counts.csv\n",
      "Saved DataFrame vis_snap_counts to raw_data\\2023\\Week9\\2023_Week9_BAL_vs_SEA\\vis_snap_counts.csv\n",
      "Saved DataFrame home_drives to raw_data\\2023\\Week9\\2023_Week9_BAL_vs_SEA\\home_drives.csv\n",
      "Saved DataFrame vis_drives to raw_data\\2023\\Week9\\2023_Week9_BAL_vs_SEA\\vis_drives.csv\n",
      "Saved DataFrame pbp to raw_data\\2023\\Week9\\2023_Week9_BAL_vs_SEA\\pbp.csv\n"
     ]
    },
    {
     "name": "stderr",
     "output_type": "stream",
     "text": [
      "C:\\Users\\jackj\\AppData\\Local\\Temp\\ipykernel_31996\\1469608065.py:49: MarkupResemblesLocatorWarning: The input looks more like a filename than markup. You may want to open this file and pass the filehandle into Beautiful Soup.\n",
      "  comment_soup = BeautifulSoup(comment, 'html.parser')\n"
     ]
    },
    {
     "name": "stdout",
     "output_type": "stream",
     "text": [
      "Saved DataFrame scoring to raw_data\\2023\\Week9\\2023_Week9_CAR_vs_IND\\scoring.csv\n",
      "Saved DataFrame player_offense to raw_data\\2023\\Week9\\2023_Week9_CAR_vs_IND\\player_offense.csv\n",
      "Saved DataFrame game_info to raw_data\\2023\\Week9\\2023_Week9_CAR_vs_IND\\game_info.csv\n",
      "Saved DataFrame officials to raw_data\\2023\\Week9\\2023_Week9_CAR_vs_IND\\officials.csv\n",
      "Saved DataFrame expected_points to raw_data\\2023\\Week9\\2023_Week9_CAR_vs_IND\\expected_points.csv\n",
      "Saved DataFrame team_stats to raw_data\\2023\\Week9\\2023_Week9_CAR_vs_IND\\team_stats.csv\n",
      "Saved DataFrame player_defense to raw_data\\2023\\Week9\\2023_Week9_CAR_vs_IND\\player_defense.csv\n",
      "Saved DataFrame returns to raw_data\\2023\\Week9\\2023_Week9_CAR_vs_IND\\returns.csv\n",
      "Saved DataFrame kicking to raw_data\\2023\\Week9\\2023_Week9_CAR_vs_IND\\kicking.csv\n",
      "Saved DataFrame passing_advanced to raw_data\\2023\\Week9\\2023_Week9_CAR_vs_IND\\passing_advanced.csv\n",
      "Saved DataFrame rushing_advanced to raw_data\\2023\\Week9\\2023_Week9_CAR_vs_IND\\rushing_advanced.csv\n",
      "Saved DataFrame receiving_advanced to raw_data\\2023\\Week9\\2023_Week9_CAR_vs_IND\\receiving_advanced.csv\n",
      "Saved DataFrame defense_advanced to raw_data\\2023\\Week9\\2023_Week9_CAR_vs_IND\\defense_advanced.csv\n",
      "Saved DataFrame home_starters to raw_data\\2023\\Week9\\2023_Week9_CAR_vs_IND\\home_starters.csv\n",
      "Saved DataFrame vis_starters to raw_data\\2023\\Week9\\2023_Week9_CAR_vs_IND\\vis_starters.csv\n",
      "Saved DataFrame home_snap_counts to raw_data\\2023\\Week9\\2023_Week9_CAR_vs_IND\\home_snap_counts.csv\n",
      "Saved DataFrame vis_snap_counts to raw_data\\2023\\Week9\\2023_Week9_CAR_vs_IND\\vis_snap_counts.csv\n",
      "Saved DataFrame home_drives to raw_data\\2023\\Week9\\2023_Week9_CAR_vs_IND\\home_drives.csv\n",
      "Saved DataFrame vis_drives to raw_data\\2023\\Week9\\2023_Week9_CAR_vs_IND\\vis_drives.csv\n",
      "Saved DataFrame pbp to raw_data\\2023\\Week9\\2023_Week9_CAR_vs_IND\\pbp.csv\n"
     ]
    },
    {
     "name": "stderr",
     "output_type": "stream",
     "text": [
      "C:\\Users\\jackj\\AppData\\Local\\Temp\\ipykernel_31996\\1469608065.py:49: MarkupResemblesLocatorWarning: The input looks more like a filename than markup. You may want to open this file and pass the filehandle into Beautiful Soup.\n",
      "  comment_soup = BeautifulSoup(comment, 'html.parser')\n"
     ]
    },
    {
     "name": "stdout",
     "output_type": "stream",
     "text": [
      "Saved DataFrame scoring to raw_data\\2023\\Week9\\2023_Week9_PHI_vs_DAL\\scoring.csv\n",
      "Saved DataFrame player_offense to raw_data\\2023\\Week9\\2023_Week9_PHI_vs_DAL\\player_offense.csv\n",
      "Saved DataFrame game_info to raw_data\\2023\\Week9\\2023_Week9_PHI_vs_DAL\\game_info.csv\n",
      "Saved DataFrame officials to raw_data\\2023\\Week9\\2023_Week9_PHI_vs_DAL\\officials.csv\n",
      "Saved DataFrame expected_points to raw_data\\2023\\Week9\\2023_Week9_PHI_vs_DAL\\expected_points.csv\n",
      "Saved DataFrame team_stats to raw_data\\2023\\Week9\\2023_Week9_PHI_vs_DAL\\team_stats.csv\n",
      "Saved DataFrame player_defense to raw_data\\2023\\Week9\\2023_Week9_PHI_vs_DAL\\player_defense.csv\n",
      "Saved DataFrame returns to raw_data\\2023\\Week9\\2023_Week9_PHI_vs_DAL\\returns.csv\n",
      "Saved DataFrame kicking to raw_data\\2023\\Week9\\2023_Week9_PHI_vs_DAL\\kicking.csv\n",
      "Saved DataFrame passing_advanced to raw_data\\2023\\Week9\\2023_Week9_PHI_vs_DAL\\passing_advanced.csv\n",
      "Saved DataFrame rushing_advanced to raw_data\\2023\\Week9\\2023_Week9_PHI_vs_DAL\\rushing_advanced.csv\n",
      "Saved DataFrame receiving_advanced to raw_data\\2023\\Week9\\2023_Week9_PHI_vs_DAL\\receiving_advanced.csv\n",
      "Saved DataFrame defense_advanced to raw_data\\2023\\Week9\\2023_Week9_PHI_vs_DAL\\defense_advanced.csv\n",
      "Saved DataFrame home_starters to raw_data\\2023\\Week9\\2023_Week9_PHI_vs_DAL\\home_starters.csv\n",
      "Saved DataFrame vis_starters to raw_data\\2023\\Week9\\2023_Week9_PHI_vs_DAL\\vis_starters.csv\n",
      "Saved DataFrame home_snap_counts to raw_data\\2023\\Week9\\2023_Week9_PHI_vs_DAL\\home_snap_counts.csv\n",
      "Saved DataFrame vis_snap_counts to raw_data\\2023\\Week9\\2023_Week9_PHI_vs_DAL\\vis_snap_counts.csv\n",
      "Saved DataFrame home_drives to raw_data\\2023\\Week9\\2023_Week9_PHI_vs_DAL\\home_drives.csv\n",
      "Saved DataFrame vis_drives to raw_data\\2023\\Week9\\2023_Week9_PHI_vs_DAL\\vis_drives.csv\n",
      "Saved DataFrame pbp to raw_data\\2023\\Week9\\2023_Week9_PHI_vs_DAL\\pbp.csv\n",
      "Reached 20 requests, sleeping for 60 seconds...\n"
     ]
    },
    {
     "name": "stderr",
     "output_type": "stream",
     "text": [
      "C:\\Users\\jackj\\AppData\\Local\\Temp\\ipykernel_31996\\1469608065.py:49: MarkupResemblesLocatorWarning: The input looks more like a filename than markup. You may want to open this file and pass the filehandle into Beautiful Soup.\n",
      "  comment_soup = BeautifulSoup(comment, 'html.parser')\n"
     ]
    },
    {
     "name": "stdout",
     "output_type": "stream",
     "text": [
      "Saved DataFrame scoring to raw_data\\2023\\Week9\\2023_Week9_LVR_vs_NYG\\scoring.csv\n",
      "Saved DataFrame player_offense to raw_data\\2023\\Week9\\2023_Week9_LVR_vs_NYG\\player_offense.csv\n",
      "Saved DataFrame game_info to raw_data\\2023\\Week9\\2023_Week9_LVR_vs_NYG\\game_info.csv\n",
      "Saved DataFrame officials to raw_data\\2023\\Week9\\2023_Week9_LVR_vs_NYG\\officials.csv\n",
      "Saved DataFrame expected_points to raw_data\\2023\\Week9\\2023_Week9_LVR_vs_NYG\\expected_points.csv\n",
      "Saved DataFrame team_stats to raw_data\\2023\\Week9\\2023_Week9_LVR_vs_NYG\\team_stats.csv\n",
      "Saved DataFrame player_defense to raw_data\\2023\\Week9\\2023_Week9_LVR_vs_NYG\\player_defense.csv\n",
      "Saved DataFrame returns to raw_data\\2023\\Week9\\2023_Week9_LVR_vs_NYG\\returns.csv\n",
      "Saved DataFrame kicking to raw_data\\2023\\Week9\\2023_Week9_LVR_vs_NYG\\kicking.csv\n",
      "Saved DataFrame passing_advanced to raw_data\\2023\\Week9\\2023_Week9_LVR_vs_NYG\\passing_advanced.csv\n",
      "Saved DataFrame rushing_advanced to raw_data\\2023\\Week9\\2023_Week9_LVR_vs_NYG\\rushing_advanced.csv\n",
      "Saved DataFrame receiving_advanced to raw_data\\2023\\Week9\\2023_Week9_LVR_vs_NYG\\receiving_advanced.csv\n",
      "Saved DataFrame defense_advanced to raw_data\\2023\\Week9\\2023_Week9_LVR_vs_NYG\\defense_advanced.csv\n",
      "Saved DataFrame home_starters to raw_data\\2023\\Week9\\2023_Week9_LVR_vs_NYG\\home_starters.csv\n",
      "Saved DataFrame vis_starters to raw_data\\2023\\Week9\\2023_Week9_LVR_vs_NYG\\vis_starters.csv\n",
      "Saved DataFrame home_snap_counts to raw_data\\2023\\Week9\\2023_Week9_LVR_vs_NYG\\home_snap_counts.csv\n",
      "Saved DataFrame vis_snap_counts to raw_data\\2023\\Week9\\2023_Week9_LVR_vs_NYG\\vis_snap_counts.csv\n",
      "Saved DataFrame home_drives to raw_data\\2023\\Week9\\2023_Week9_LVR_vs_NYG\\home_drives.csv\n",
      "Saved DataFrame vis_drives to raw_data\\2023\\Week9\\2023_Week9_LVR_vs_NYG\\vis_drives.csv\n",
      "Saved DataFrame pbp to raw_data\\2023\\Week9\\2023_Week9_LVR_vs_NYG\\pbp.csv\n"
     ]
    },
    {
     "name": "stderr",
     "output_type": "stream",
     "text": [
      "C:\\Users\\jackj\\AppData\\Local\\Temp\\ipykernel_31996\\1469608065.py:49: MarkupResemblesLocatorWarning: The input looks more like a filename than markup. You may want to open this file and pass the filehandle into Beautiful Soup.\n",
      "  comment_soup = BeautifulSoup(comment, 'html.parser')\n"
     ]
    },
    {
     "name": "stdout",
     "output_type": "stream",
     "text": [
      "Saved DataFrame scoring to raw_data\\2023\\Week9\\2023_Week9_CIN_vs_BUF\\scoring.csv\n",
      "Saved DataFrame player_offense to raw_data\\2023\\Week9\\2023_Week9_CIN_vs_BUF\\player_offense.csv\n",
      "Saved DataFrame game_info to raw_data\\2023\\Week9\\2023_Week9_CIN_vs_BUF\\game_info.csv\n",
      "Saved DataFrame officials to raw_data\\2023\\Week9\\2023_Week9_CIN_vs_BUF\\officials.csv\n",
      "Saved DataFrame expected_points to raw_data\\2023\\Week9\\2023_Week9_CIN_vs_BUF\\expected_points.csv\n",
      "Saved DataFrame team_stats to raw_data\\2023\\Week9\\2023_Week9_CIN_vs_BUF\\team_stats.csv\n",
      "Saved DataFrame player_defense to raw_data\\2023\\Week9\\2023_Week9_CIN_vs_BUF\\player_defense.csv\n",
      "Saved DataFrame returns to raw_data\\2023\\Week9\\2023_Week9_CIN_vs_BUF\\returns.csv\n",
      "Saved DataFrame kicking to raw_data\\2023\\Week9\\2023_Week9_CIN_vs_BUF\\kicking.csv\n",
      "Saved DataFrame passing_advanced to raw_data\\2023\\Week9\\2023_Week9_CIN_vs_BUF\\passing_advanced.csv\n",
      "Saved DataFrame rushing_advanced to raw_data\\2023\\Week9\\2023_Week9_CIN_vs_BUF\\rushing_advanced.csv\n",
      "Saved DataFrame receiving_advanced to raw_data\\2023\\Week9\\2023_Week9_CIN_vs_BUF\\receiving_advanced.csv\n",
      "Saved DataFrame defense_advanced to raw_data\\2023\\Week9\\2023_Week9_CIN_vs_BUF\\defense_advanced.csv\n",
      "Saved DataFrame home_starters to raw_data\\2023\\Week9\\2023_Week9_CIN_vs_BUF\\home_starters.csv\n",
      "Saved DataFrame vis_starters to raw_data\\2023\\Week9\\2023_Week9_CIN_vs_BUF\\vis_starters.csv\n",
      "Saved DataFrame home_snap_counts to raw_data\\2023\\Week9\\2023_Week9_CIN_vs_BUF\\home_snap_counts.csv\n",
      "Saved DataFrame vis_snap_counts to raw_data\\2023\\Week9\\2023_Week9_CIN_vs_BUF\\vis_snap_counts.csv\n",
      "Saved DataFrame home_drives to raw_data\\2023\\Week9\\2023_Week9_CIN_vs_BUF\\home_drives.csv\n",
      "Saved DataFrame vis_drives to raw_data\\2023\\Week9\\2023_Week9_CIN_vs_BUF\\vis_drives.csv\n",
      "Saved DataFrame pbp to raw_data\\2023\\Week9\\2023_Week9_CIN_vs_BUF\\pbp.csv\n"
     ]
    },
    {
     "name": "stderr",
     "output_type": "stream",
     "text": [
      "C:\\Users\\jackj\\AppData\\Local\\Temp\\ipykernel_31996\\1469608065.py:49: MarkupResemblesLocatorWarning: The input looks more like a filename than markup. You may want to open this file and pass the filehandle into Beautiful Soup.\n",
      "  comment_soup = BeautifulSoup(comment, 'html.parser')\n"
     ]
    },
    {
     "name": "stdout",
     "output_type": "stream",
     "text": [
      "Saved DataFrame scoring to raw_data\\2023\\Week9\\2023_Week9_NYJ_vs_LAC\\scoring.csv\n",
      "Saved DataFrame player_offense to raw_data\\2023\\Week9\\2023_Week9_NYJ_vs_LAC\\player_offense.csv\n",
      "Saved DataFrame game_info to raw_data\\2023\\Week9\\2023_Week9_NYJ_vs_LAC\\game_info.csv\n",
      "Saved DataFrame officials to raw_data\\2023\\Week9\\2023_Week9_NYJ_vs_LAC\\officials.csv\n",
      "Saved DataFrame expected_points to raw_data\\2023\\Week9\\2023_Week9_NYJ_vs_LAC\\expected_points.csv\n",
      "Saved DataFrame team_stats to raw_data\\2023\\Week9\\2023_Week9_NYJ_vs_LAC\\team_stats.csv\n",
      "Saved DataFrame player_defense to raw_data\\2023\\Week9\\2023_Week9_NYJ_vs_LAC\\player_defense.csv\n",
      "Saved DataFrame returns to raw_data\\2023\\Week9\\2023_Week9_NYJ_vs_LAC\\returns.csv\n",
      "Saved DataFrame kicking to raw_data\\2023\\Week9\\2023_Week9_NYJ_vs_LAC\\kicking.csv\n",
      "Saved DataFrame passing_advanced to raw_data\\2023\\Week9\\2023_Week9_NYJ_vs_LAC\\passing_advanced.csv\n",
      "Saved DataFrame rushing_advanced to raw_data\\2023\\Week9\\2023_Week9_NYJ_vs_LAC\\rushing_advanced.csv\n",
      "Saved DataFrame receiving_advanced to raw_data\\2023\\Week9\\2023_Week9_NYJ_vs_LAC\\receiving_advanced.csv\n",
      "Saved DataFrame defense_advanced to raw_data\\2023\\Week9\\2023_Week9_NYJ_vs_LAC\\defense_advanced.csv\n",
      "Saved DataFrame home_starters to raw_data\\2023\\Week9\\2023_Week9_NYJ_vs_LAC\\home_starters.csv\n",
      "Saved DataFrame vis_starters to raw_data\\2023\\Week9\\2023_Week9_NYJ_vs_LAC\\vis_starters.csv\n",
      "Saved DataFrame home_snap_counts to raw_data\\2023\\Week9\\2023_Week9_NYJ_vs_LAC\\home_snap_counts.csv\n",
      "Saved DataFrame vis_snap_counts to raw_data\\2023\\Week9\\2023_Week9_NYJ_vs_LAC\\vis_snap_counts.csv\n",
      "Saved DataFrame home_drives to raw_data\\2023\\Week9\\2023_Week9_NYJ_vs_LAC\\home_drives.csv\n",
      "Saved DataFrame vis_drives to raw_data\\2023\\Week9\\2023_Week9_NYJ_vs_LAC\\vis_drives.csv\n",
      "Saved DataFrame pbp to raw_data\\2023\\Week9\\2023_Week9_NYJ_vs_LAC\\pbp.csv\n"
     ]
    },
    {
     "name": "stderr",
     "output_type": "stream",
     "text": [
      "C:\\Users\\jackj\\AppData\\Local\\Temp\\ipykernel_31996\\1469608065.py:49: MarkupResemblesLocatorWarning: The input looks more like a filename than markup. You may want to open this file and pass the filehandle into Beautiful Soup.\n",
      "  comment_soup = BeautifulSoup(comment, 'html.parser')\n"
     ]
    },
    {
     "name": "stdout",
     "output_type": "stream",
     "text": [
      "Saved DataFrame scoring to raw_data\\2023\\Week10\\2023_Week10_CHI_vs_CAR\\scoring.csv\n",
      "Saved DataFrame player_offense to raw_data\\2023\\Week10\\2023_Week10_CHI_vs_CAR\\player_offense.csv\n",
      "Saved DataFrame game_info to raw_data\\2023\\Week10\\2023_Week10_CHI_vs_CAR\\game_info.csv\n",
      "Saved DataFrame officials to raw_data\\2023\\Week10\\2023_Week10_CHI_vs_CAR\\officials.csv\n",
      "Saved DataFrame expected_points to raw_data\\2023\\Week10\\2023_Week10_CHI_vs_CAR\\expected_points.csv\n",
      "Saved DataFrame team_stats to raw_data\\2023\\Week10\\2023_Week10_CHI_vs_CAR\\team_stats.csv\n",
      "Saved DataFrame player_defense to raw_data\\2023\\Week10\\2023_Week10_CHI_vs_CAR\\player_defense.csv\n",
      "Saved DataFrame returns to raw_data\\2023\\Week10\\2023_Week10_CHI_vs_CAR\\returns.csv\n",
      "Saved DataFrame kicking to raw_data\\2023\\Week10\\2023_Week10_CHI_vs_CAR\\kicking.csv\n",
      "Saved DataFrame passing_advanced to raw_data\\2023\\Week10\\2023_Week10_CHI_vs_CAR\\passing_advanced.csv\n",
      "Saved DataFrame rushing_advanced to raw_data\\2023\\Week10\\2023_Week10_CHI_vs_CAR\\rushing_advanced.csv\n",
      "Saved DataFrame receiving_advanced to raw_data\\2023\\Week10\\2023_Week10_CHI_vs_CAR\\receiving_advanced.csv\n",
      "Saved DataFrame defense_advanced to raw_data\\2023\\Week10\\2023_Week10_CHI_vs_CAR\\defense_advanced.csv\n",
      "Saved DataFrame home_starters to raw_data\\2023\\Week10\\2023_Week10_CHI_vs_CAR\\home_starters.csv\n",
      "Saved DataFrame vis_starters to raw_data\\2023\\Week10\\2023_Week10_CHI_vs_CAR\\vis_starters.csv\n",
      "Saved DataFrame home_snap_counts to raw_data\\2023\\Week10\\2023_Week10_CHI_vs_CAR\\home_snap_counts.csv\n",
      "Saved DataFrame vis_snap_counts to raw_data\\2023\\Week10\\2023_Week10_CHI_vs_CAR\\vis_snap_counts.csv\n",
      "Saved DataFrame home_drives to raw_data\\2023\\Week10\\2023_Week10_CHI_vs_CAR\\home_drives.csv\n",
      "Saved DataFrame vis_drives to raw_data\\2023\\Week10\\2023_Week10_CHI_vs_CAR\\vis_drives.csv\n",
      "Saved DataFrame pbp to raw_data\\2023\\Week10\\2023_Week10_CHI_vs_CAR\\pbp.csv\n"
     ]
    },
    {
     "name": "stderr",
     "output_type": "stream",
     "text": [
      "C:\\Users\\jackj\\AppData\\Local\\Temp\\ipykernel_31996\\1469608065.py:49: MarkupResemblesLocatorWarning: The input looks more like a filename than markup. You may want to open this file and pass the filehandle into Beautiful Soup.\n",
      "  comment_soup = BeautifulSoup(comment, 'html.parser')\n"
     ]
    },
    {
     "name": "stdout",
     "output_type": "stream",
     "text": [
      "Saved DataFrame scoring to raw_data\\2023\\Week10\\2023_Week10_NE_vs_IND\\scoring.csv\n",
      "Saved DataFrame player_offense to raw_data\\2023\\Week10\\2023_Week10_NE_vs_IND\\player_offense.csv\n",
      "Saved DataFrame game_info to raw_data\\2023\\Week10\\2023_Week10_NE_vs_IND\\game_info.csv\n",
      "Saved DataFrame officials to raw_data\\2023\\Week10\\2023_Week10_NE_vs_IND\\officials.csv\n",
      "Saved DataFrame expected_points to raw_data\\2023\\Week10\\2023_Week10_NE_vs_IND\\expected_points.csv\n",
      "Saved DataFrame team_stats to raw_data\\2023\\Week10\\2023_Week10_NE_vs_IND\\team_stats.csv\n",
      "Saved DataFrame player_defense to raw_data\\2023\\Week10\\2023_Week10_NE_vs_IND\\player_defense.csv\n",
      "Saved DataFrame returns to raw_data\\2023\\Week10\\2023_Week10_NE_vs_IND\\returns.csv\n",
      "Saved DataFrame kicking to raw_data\\2023\\Week10\\2023_Week10_NE_vs_IND\\kicking.csv\n",
      "Saved DataFrame passing_advanced to raw_data\\2023\\Week10\\2023_Week10_NE_vs_IND\\passing_advanced.csv\n",
      "Saved DataFrame rushing_advanced to raw_data\\2023\\Week10\\2023_Week10_NE_vs_IND\\rushing_advanced.csv\n",
      "Saved DataFrame receiving_advanced to raw_data\\2023\\Week10\\2023_Week10_NE_vs_IND\\receiving_advanced.csv\n",
      "Saved DataFrame defense_advanced to raw_data\\2023\\Week10\\2023_Week10_NE_vs_IND\\defense_advanced.csv\n",
      "Saved DataFrame home_starters to raw_data\\2023\\Week10\\2023_Week10_NE_vs_IND\\home_starters.csv\n",
      "Saved DataFrame vis_starters to raw_data\\2023\\Week10\\2023_Week10_NE_vs_IND\\vis_starters.csv\n",
      "Saved DataFrame home_snap_counts to raw_data\\2023\\Week10\\2023_Week10_NE_vs_IND\\home_snap_counts.csv\n",
      "Saved DataFrame vis_snap_counts to raw_data\\2023\\Week10\\2023_Week10_NE_vs_IND\\vis_snap_counts.csv\n",
      "Saved DataFrame home_drives to raw_data\\2023\\Week10\\2023_Week10_NE_vs_IND\\home_drives.csv\n",
      "Saved DataFrame vis_drives to raw_data\\2023\\Week10\\2023_Week10_NE_vs_IND\\vis_drives.csv\n",
      "Saved DataFrame pbp to raw_data\\2023\\Week10\\2023_Week10_NE_vs_IND\\pbp.csv\n"
     ]
    },
    {
     "name": "stderr",
     "output_type": "stream",
     "text": [
      "C:\\Users\\jackj\\AppData\\Local\\Temp\\ipykernel_31996\\1469608065.py:49: MarkupResemblesLocatorWarning: The input looks more like a filename than markup. You may want to open this file and pass the filehandle into Beautiful Soup.\n",
      "  comment_soup = BeautifulSoup(comment, 'html.parser')\n"
     ]
    },
    {
     "name": "stdout",
     "output_type": "stream",
     "text": [
      "Saved DataFrame scoring to raw_data\\2023\\Week10\\2023_Week10_CIN_vs_HOU\\scoring.csv\n",
      "Saved DataFrame player_offense to raw_data\\2023\\Week10\\2023_Week10_CIN_vs_HOU\\player_offense.csv\n",
      "Saved DataFrame game_info to raw_data\\2023\\Week10\\2023_Week10_CIN_vs_HOU\\game_info.csv\n",
      "Saved DataFrame officials to raw_data\\2023\\Week10\\2023_Week10_CIN_vs_HOU\\officials.csv\n",
      "Saved DataFrame expected_points to raw_data\\2023\\Week10\\2023_Week10_CIN_vs_HOU\\expected_points.csv\n",
      "Saved DataFrame team_stats to raw_data\\2023\\Week10\\2023_Week10_CIN_vs_HOU\\team_stats.csv\n",
      "Saved DataFrame player_defense to raw_data\\2023\\Week10\\2023_Week10_CIN_vs_HOU\\player_defense.csv\n",
      "Saved DataFrame returns to raw_data\\2023\\Week10\\2023_Week10_CIN_vs_HOU\\returns.csv\n",
      "Saved DataFrame kicking to raw_data\\2023\\Week10\\2023_Week10_CIN_vs_HOU\\kicking.csv\n",
      "Saved DataFrame passing_advanced to raw_data\\2023\\Week10\\2023_Week10_CIN_vs_HOU\\passing_advanced.csv\n",
      "Saved DataFrame rushing_advanced to raw_data\\2023\\Week10\\2023_Week10_CIN_vs_HOU\\rushing_advanced.csv\n",
      "Saved DataFrame receiving_advanced to raw_data\\2023\\Week10\\2023_Week10_CIN_vs_HOU\\receiving_advanced.csv\n",
      "Saved DataFrame defense_advanced to raw_data\\2023\\Week10\\2023_Week10_CIN_vs_HOU\\defense_advanced.csv\n",
      "Saved DataFrame home_starters to raw_data\\2023\\Week10\\2023_Week10_CIN_vs_HOU\\home_starters.csv\n",
      "Saved DataFrame vis_starters to raw_data\\2023\\Week10\\2023_Week10_CIN_vs_HOU\\vis_starters.csv\n",
      "Saved DataFrame home_snap_counts to raw_data\\2023\\Week10\\2023_Week10_CIN_vs_HOU\\home_snap_counts.csv\n",
      "Saved DataFrame vis_snap_counts to raw_data\\2023\\Week10\\2023_Week10_CIN_vs_HOU\\vis_snap_counts.csv\n",
      "Saved DataFrame home_drives to raw_data\\2023\\Week10\\2023_Week10_CIN_vs_HOU\\home_drives.csv\n",
      "Saved DataFrame vis_drives to raw_data\\2023\\Week10\\2023_Week10_CIN_vs_HOU\\vis_drives.csv\n",
      "Saved DataFrame pbp to raw_data\\2023\\Week10\\2023_Week10_CIN_vs_HOU\\pbp.csv\n"
     ]
    },
    {
     "name": "stderr",
     "output_type": "stream",
     "text": [
      "C:\\Users\\jackj\\AppData\\Local\\Temp\\ipykernel_31996\\1469608065.py:49: MarkupResemblesLocatorWarning: The input looks more like a filename than markup. You may want to open this file and pass the filehandle into Beautiful Soup.\n",
      "  comment_soup = BeautifulSoup(comment, 'html.parser')\n"
     ]
    },
    {
     "name": "stdout",
     "output_type": "stream",
     "text": [
      "Saved DataFrame scoring to raw_data\\2023\\Week10\\2023_Week10_BAL_vs_CLE\\scoring.csv\n",
      "Saved DataFrame player_offense to raw_data\\2023\\Week10\\2023_Week10_BAL_vs_CLE\\player_offense.csv\n",
      "Saved DataFrame game_info to raw_data\\2023\\Week10\\2023_Week10_BAL_vs_CLE\\game_info.csv\n",
      "Saved DataFrame officials to raw_data\\2023\\Week10\\2023_Week10_BAL_vs_CLE\\officials.csv\n",
      "Saved DataFrame expected_points to raw_data\\2023\\Week10\\2023_Week10_BAL_vs_CLE\\expected_points.csv\n",
      "Saved DataFrame team_stats to raw_data\\2023\\Week10\\2023_Week10_BAL_vs_CLE\\team_stats.csv\n",
      "Saved DataFrame player_defense to raw_data\\2023\\Week10\\2023_Week10_BAL_vs_CLE\\player_defense.csv\n",
      "Saved DataFrame returns to raw_data\\2023\\Week10\\2023_Week10_BAL_vs_CLE\\returns.csv\n",
      "Saved DataFrame kicking to raw_data\\2023\\Week10\\2023_Week10_BAL_vs_CLE\\kicking.csv\n",
      "Saved DataFrame passing_advanced to raw_data\\2023\\Week10\\2023_Week10_BAL_vs_CLE\\passing_advanced.csv\n",
      "Saved DataFrame rushing_advanced to raw_data\\2023\\Week10\\2023_Week10_BAL_vs_CLE\\rushing_advanced.csv\n",
      "Saved DataFrame receiving_advanced to raw_data\\2023\\Week10\\2023_Week10_BAL_vs_CLE\\receiving_advanced.csv\n",
      "Saved DataFrame defense_advanced to raw_data\\2023\\Week10\\2023_Week10_BAL_vs_CLE\\defense_advanced.csv\n",
      "Saved DataFrame home_starters to raw_data\\2023\\Week10\\2023_Week10_BAL_vs_CLE\\home_starters.csv\n",
      "Saved DataFrame vis_starters to raw_data\\2023\\Week10\\2023_Week10_BAL_vs_CLE\\vis_starters.csv\n",
      "Saved DataFrame home_snap_counts to raw_data\\2023\\Week10\\2023_Week10_BAL_vs_CLE\\home_snap_counts.csv\n",
      "Saved DataFrame vis_snap_counts to raw_data\\2023\\Week10\\2023_Week10_BAL_vs_CLE\\vis_snap_counts.csv\n",
      "Saved DataFrame home_drives to raw_data\\2023\\Week10\\2023_Week10_BAL_vs_CLE\\home_drives.csv\n",
      "Saved DataFrame vis_drives to raw_data\\2023\\Week10\\2023_Week10_BAL_vs_CLE\\vis_drives.csv\n",
      "Saved DataFrame pbp to raw_data\\2023\\Week10\\2023_Week10_BAL_vs_CLE\\pbp.csv\n"
     ]
    },
    {
     "name": "stderr",
     "output_type": "stream",
     "text": [
      "C:\\Users\\jackj\\AppData\\Local\\Temp\\ipykernel_31996\\1469608065.py:49: MarkupResemblesLocatorWarning: The input looks more like a filename than markup. You may want to open this file and pass the filehandle into Beautiful Soup.\n",
      "  comment_soup = BeautifulSoup(comment, 'html.parser')\n"
     ]
    },
    {
     "name": "stdout",
     "output_type": "stream",
     "text": [
      "Saved DataFrame scoring to raw_data\\2023\\Week10\\2023_Week10_PIT_vs_GB\\scoring.csv\n",
      "Saved DataFrame player_offense to raw_data\\2023\\Week10\\2023_Week10_PIT_vs_GB\\player_offense.csv\n",
      "Saved DataFrame game_info to raw_data\\2023\\Week10\\2023_Week10_PIT_vs_GB\\game_info.csv\n",
      "Saved DataFrame officials to raw_data\\2023\\Week10\\2023_Week10_PIT_vs_GB\\officials.csv\n",
      "Saved DataFrame expected_points to raw_data\\2023\\Week10\\2023_Week10_PIT_vs_GB\\expected_points.csv\n",
      "Saved DataFrame team_stats to raw_data\\2023\\Week10\\2023_Week10_PIT_vs_GB\\team_stats.csv\n",
      "Saved DataFrame player_defense to raw_data\\2023\\Week10\\2023_Week10_PIT_vs_GB\\player_defense.csv\n",
      "Saved DataFrame returns to raw_data\\2023\\Week10\\2023_Week10_PIT_vs_GB\\returns.csv\n",
      "Saved DataFrame kicking to raw_data\\2023\\Week10\\2023_Week10_PIT_vs_GB\\kicking.csv\n",
      "Saved DataFrame passing_advanced to raw_data\\2023\\Week10\\2023_Week10_PIT_vs_GB\\passing_advanced.csv\n",
      "Saved DataFrame rushing_advanced to raw_data\\2023\\Week10\\2023_Week10_PIT_vs_GB\\rushing_advanced.csv\n",
      "Saved DataFrame receiving_advanced to raw_data\\2023\\Week10\\2023_Week10_PIT_vs_GB\\receiving_advanced.csv\n",
      "Saved DataFrame defense_advanced to raw_data\\2023\\Week10\\2023_Week10_PIT_vs_GB\\defense_advanced.csv\n",
      "Saved DataFrame home_starters to raw_data\\2023\\Week10\\2023_Week10_PIT_vs_GB\\home_starters.csv\n",
      "Saved DataFrame vis_starters to raw_data\\2023\\Week10\\2023_Week10_PIT_vs_GB\\vis_starters.csv\n",
      "Saved DataFrame home_snap_counts to raw_data\\2023\\Week10\\2023_Week10_PIT_vs_GB\\home_snap_counts.csv\n",
      "Saved DataFrame vis_snap_counts to raw_data\\2023\\Week10\\2023_Week10_PIT_vs_GB\\vis_snap_counts.csv\n",
      "Saved DataFrame home_drives to raw_data\\2023\\Week10\\2023_Week10_PIT_vs_GB\\home_drives.csv\n",
      "Saved DataFrame vis_drives to raw_data\\2023\\Week10\\2023_Week10_PIT_vs_GB\\vis_drives.csv\n",
      "Saved DataFrame pbp to raw_data\\2023\\Week10\\2023_Week10_PIT_vs_GB\\pbp.csv\n"
     ]
    },
    {
     "name": "stderr",
     "output_type": "stream",
     "text": [
      "C:\\Users\\jackj\\AppData\\Local\\Temp\\ipykernel_31996\\1469608065.py:49: MarkupResemblesLocatorWarning: The input looks more like a filename than markup. You may want to open this file and pass the filehandle into Beautiful Soup.\n",
      "  comment_soup = BeautifulSoup(comment, 'html.parser')\n"
     ]
    },
    {
     "name": "stdout",
     "output_type": "stream",
     "text": [
      "Saved DataFrame scoring to raw_data\\2023\\Week10\\2023_Week10_JAX_vs_SF\\scoring.csv\n",
      "Saved DataFrame player_offense to raw_data\\2023\\Week10\\2023_Week10_JAX_vs_SF\\player_offense.csv\n",
      "Saved DataFrame game_info to raw_data\\2023\\Week10\\2023_Week10_JAX_vs_SF\\game_info.csv\n",
      "Saved DataFrame officials to raw_data\\2023\\Week10\\2023_Week10_JAX_vs_SF\\officials.csv\n",
      "Saved DataFrame expected_points to raw_data\\2023\\Week10\\2023_Week10_JAX_vs_SF\\expected_points.csv\n",
      "Saved DataFrame team_stats to raw_data\\2023\\Week10\\2023_Week10_JAX_vs_SF\\team_stats.csv\n",
      "Saved DataFrame player_defense to raw_data\\2023\\Week10\\2023_Week10_JAX_vs_SF\\player_defense.csv\n",
      "Saved DataFrame returns to raw_data\\2023\\Week10\\2023_Week10_JAX_vs_SF\\returns.csv\n",
      "Saved DataFrame kicking to raw_data\\2023\\Week10\\2023_Week10_JAX_vs_SF\\kicking.csv\n",
      "Saved DataFrame passing_advanced to raw_data\\2023\\Week10\\2023_Week10_JAX_vs_SF\\passing_advanced.csv\n",
      "Saved DataFrame rushing_advanced to raw_data\\2023\\Week10\\2023_Week10_JAX_vs_SF\\rushing_advanced.csv\n",
      "Saved DataFrame receiving_advanced to raw_data\\2023\\Week10\\2023_Week10_JAX_vs_SF\\receiving_advanced.csv\n",
      "Saved DataFrame defense_advanced to raw_data\\2023\\Week10\\2023_Week10_JAX_vs_SF\\defense_advanced.csv\n",
      "Saved DataFrame home_starters to raw_data\\2023\\Week10\\2023_Week10_JAX_vs_SF\\home_starters.csv\n",
      "Saved DataFrame vis_starters to raw_data\\2023\\Week10\\2023_Week10_JAX_vs_SF\\vis_starters.csv\n",
      "Saved DataFrame home_snap_counts to raw_data\\2023\\Week10\\2023_Week10_JAX_vs_SF\\home_snap_counts.csv\n",
      "Saved DataFrame vis_snap_counts to raw_data\\2023\\Week10\\2023_Week10_JAX_vs_SF\\vis_snap_counts.csv\n",
      "Saved DataFrame home_drives to raw_data\\2023\\Week10\\2023_Week10_JAX_vs_SF\\home_drives.csv\n",
      "Saved DataFrame vis_drives to raw_data\\2023\\Week10\\2023_Week10_JAX_vs_SF\\vis_drives.csv\n",
      "Saved DataFrame pbp to raw_data\\2023\\Week10\\2023_Week10_JAX_vs_SF\\pbp.csv\n"
     ]
    },
    {
     "name": "stderr",
     "output_type": "stream",
     "text": [
      "C:\\Users\\jackj\\AppData\\Local\\Temp\\ipykernel_31996\\1469608065.py:49: MarkupResemblesLocatorWarning: The input looks more like a filename than markup. You may want to open this file and pass the filehandle into Beautiful Soup.\n",
      "  comment_soup = BeautifulSoup(comment, 'html.parser')\n"
     ]
    },
    {
     "name": "stdout",
     "output_type": "stream",
     "text": [
      "Saved DataFrame scoring to raw_data\\2023\\Week10\\2023_Week10_TB_vs_TEN\\scoring.csv\n",
      "Saved DataFrame player_offense to raw_data\\2023\\Week10\\2023_Week10_TB_vs_TEN\\player_offense.csv\n",
      "Saved DataFrame game_info to raw_data\\2023\\Week10\\2023_Week10_TB_vs_TEN\\game_info.csv\n",
      "Saved DataFrame officials to raw_data\\2023\\Week10\\2023_Week10_TB_vs_TEN\\officials.csv\n",
      "Saved DataFrame expected_points to raw_data\\2023\\Week10\\2023_Week10_TB_vs_TEN\\expected_points.csv\n",
      "Saved DataFrame team_stats to raw_data\\2023\\Week10\\2023_Week10_TB_vs_TEN\\team_stats.csv\n",
      "Saved DataFrame player_defense to raw_data\\2023\\Week10\\2023_Week10_TB_vs_TEN\\player_defense.csv\n",
      "Saved DataFrame returns to raw_data\\2023\\Week10\\2023_Week10_TB_vs_TEN\\returns.csv\n",
      "Saved DataFrame kicking to raw_data\\2023\\Week10\\2023_Week10_TB_vs_TEN\\kicking.csv\n",
      "Saved DataFrame passing_advanced to raw_data\\2023\\Week10\\2023_Week10_TB_vs_TEN\\passing_advanced.csv\n",
      "Saved DataFrame rushing_advanced to raw_data\\2023\\Week10\\2023_Week10_TB_vs_TEN\\rushing_advanced.csv\n",
      "Saved DataFrame receiving_advanced to raw_data\\2023\\Week10\\2023_Week10_TB_vs_TEN\\receiving_advanced.csv\n",
      "Saved DataFrame defense_advanced to raw_data\\2023\\Week10\\2023_Week10_TB_vs_TEN\\defense_advanced.csv\n",
      "Saved DataFrame home_starters to raw_data\\2023\\Week10\\2023_Week10_TB_vs_TEN\\home_starters.csv\n",
      "Saved DataFrame vis_starters to raw_data\\2023\\Week10\\2023_Week10_TB_vs_TEN\\vis_starters.csv\n",
      "Saved DataFrame home_snap_counts to raw_data\\2023\\Week10\\2023_Week10_TB_vs_TEN\\home_snap_counts.csv\n",
      "Saved DataFrame vis_snap_counts to raw_data\\2023\\Week10\\2023_Week10_TB_vs_TEN\\vis_snap_counts.csv\n",
      "Saved DataFrame home_drives to raw_data\\2023\\Week10\\2023_Week10_TB_vs_TEN\\home_drives.csv\n",
      "Saved DataFrame vis_drives to raw_data\\2023\\Week10\\2023_Week10_TB_vs_TEN\\vis_drives.csv\n",
      "Saved DataFrame pbp to raw_data\\2023\\Week10\\2023_Week10_TB_vs_TEN\\pbp.csv\n"
     ]
    },
    {
     "name": "stderr",
     "output_type": "stream",
     "text": [
      "C:\\Users\\jackj\\AppData\\Local\\Temp\\ipykernel_31996\\1469608065.py:49: MarkupResemblesLocatorWarning: The input looks more like a filename than markup. You may want to open this file and pass the filehandle into Beautiful Soup.\n",
      "  comment_soup = BeautifulSoup(comment, 'html.parser')\n"
     ]
    },
    {
     "name": "stdout",
     "output_type": "stream",
     "text": [
      "Saved DataFrame scoring to raw_data\\2023\\Week10\\2023_Week10_MIN_vs_NO\\scoring.csv\n",
      "Saved DataFrame player_offense to raw_data\\2023\\Week10\\2023_Week10_MIN_vs_NO\\player_offense.csv\n",
      "Saved DataFrame game_info to raw_data\\2023\\Week10\\2023_Week10_MIN_vs_NO\\game_info.csv\n",
      "Saved DataFrame officials to raw_data\\2023\\Week10\\2023_Week10_MIN_vs_NO\\officials.csv\n",
      "Saved DataFrame expected_points to raw_data\\2023\\Week10\\2023_Week10_MIN_vs_NO\\expected_points.csv\n",
      "Saved DataFrame team_stats to raw_data\\2023\\Week10\\2023_Week10_MIN_vs_NO\\team_stats.csv\n",
      "Saved DataFrame player_defense to raw_data\\2023\\Week10\\2023_Week10_MIN_vs_NO\\player_defense.csv\n",
      "Saved DataFrame returns to raw_data\\2023\\Week10\\2023_Week10_MIN_vs_NO\\returns.csv\n",
      "Saved DataFrame kicking to raw_data\\2023\\Week10\\2023_Week10_MIN_vs_NO\\kicking.csv\n",
      "Saved DataFrame passing_advanced to raw_data\\2023\\Week10\\2023_Week10_MIN_vs_NO\\passing_advanced.csv\n",
      "Saved DataFrame rushing_advanced to raw_data\\2023\\Week10\\2023_Week10_MIN_vs_NO\\rushing_advanced.csv\n",
      "Saved DataFrame receiving_advanced to raw_data\\2023\\Week10\\2023_Week10_MIN_vs_NO\\receiving_advanced.csv\n",
      "Saved DataFrame defense_advanced to raw_data\\2023\\Week10\\2023_Week10_MIN_vs_NO\\defense_advanced.csv\n",
      "Saved DataFrame home_starters to raw_data\\2023\\Week10\\2023_Week10_MIN_vs_NO\\home_starters.csv\n",
      "Saved DataFrame vis_starters to raw_data\\2023\\Week10\\2023_Week10_MIN_vs_NO\\vis_starters.csv\n",
      "Saved DataFrame home_snap_counts to raw_data\\2023\\Week10\\2023_Week10_MIN_vs_NO\\home_snap_counts.csv\n",
      "Saved DataFrame vis_snap_counts to raw_data\\2023\\Week10\\2023_Week10_MIN_vs_NO\\vis_snap_counts.csv\n",
      "Saved DataFrame home_drives to raw_data\\2023\\Week10\\2023_Week10_MIN_vs_NO\\home_drives.csv\n",
      "Saved DataFrame vis_drives to raw_data\\2023\\Week10\\2023_Week10_MIN_vs_NO\\vis_drives.csv\n",
      "Saved DataFrame pbp to raw_data\\2023\\Week10\\2023_Week10_MIN_vs_NO\\pbp.csv\n"
     ]
    },
    {
     "name": "stderr",
     "output_type": "stream",
     "text": [
      "C:\\Users\\jackj\\AppData\\Local\\Temp\\ipykernel_31996\\1469608065.py:49: MarkupResemblesLocatorWarning: The input looks more like a filename than markup. You may want to open this file and pass the filehandle into Beautiful Soup.\n",
      "  comment_soup = BeautifulSoup(comment, 'html.parser')\n"
     ]
    },
    {
     "name": "stdout",
     "output_type": "stream",
     "text": [
      "Saved DataFrame scoring to raw_data\\2023\\Week10\\2023_Week10_LAC_vs_DET\\scoring.csv\n",
      "Saved DataFrame player_offense to raw_data\\2023\\Week10\\2023_Week10_LAC_vs_DET\\player_offense.csv\n",
      "Saved DataFrame game_info to raw_data\\2023\\Week10\\2023_Week10_LAC_vs_DET\\game_info.csv\n",
      "Saved DataFrame officials to raw_data\\2023\\Week10\\2023_Week10_LAC_vs_DET\\officials.csv\n",
      "Saved DataFrame expected_points to raw_data\\2023\\Week10\\2023_Week10_LAC_vs_DET\\expected_points.csv\n",
      "Saved DataFrame team_stats to raw_data\\2023\\Week10\\2023_Week10_LAC_vs_DET\\team_stats.csv\n",
      "Saved DataFrame player_defense to raw_data\\2023\\Week10\\2023_Week10_LAC_vs_DET\\player_defense.csv\n",
      "Saved DataFrame returns to raw_data\\2023\\Week10\\2023_Week10_LAC_vs_DET\\returns.csv\n",
      "Saved DataFrame kicking to raw_data\\2023\\Week10\\2023_Week10_LAC_vs_DET\\kicking.csv\n",
      "Saved DataFrame passing_advanced to raw_data\\2023\\Week10\\2023_Week10_LAC_vs_DET\\passing_advanced.csv\n",
      "Saved DataFrame rushing_advanced to raw_data\\2023\\Week10\\2023_Week10_LAC_vs_DET\\rushing_advanced.csv\n",
      "Saved DataFrame receiving_advanced to raw_data\\2023\\Week10\\2023_Week10_LAC_vs_DET\\receiving_advanced.csv\n",
      "Saved DataFrame defense_advanced to raw_data\\2023\\Week10\\2023_Week10_LAC_vs_DET\\defense_advanced.csv\n",
      "Saved DataFrame home_starters to raw_data\\2023\\Week10\\2023_Week10_LAC_vs_DET\\home_starters.csv\n",
      "Saved DataFrame vis_starters to raw_data\\2023\\Week10\\2023_Week10_LAC_vs_DET\\vis_starters.csv\n",
      "Saved DataFrame home_snap_counts to raw_data\\2023\\Week10\\2023_Week10_LAC_vs_DET\\home_snap_counts.csv\n",
      "Saved DataFrame vis_snap_counts to raw_data\\2023\\Week10\\2023_Week10_LAC_vs_DET\\vis_snap_counts.csv\n",
      "Saved DataFrame home_drives to raw_data\\2023\\Week10\\2023_Week10_LAC_vs_DET\\home_drives.csv\n",
      "Saved DataFrame vis_drives to raw_data\\2023\\Week10\\2023_Week10_LAC_vs_DET\\vis_drives.csv\n",
      "Saved DataFrame pbp to raw_data\\2023\\Week10\\2023_Week10_LAC_vs_DET\\pbp.csv\n"
     ]
    },
    {
     "name": "stderr",
     "output_type": "stream",
     "text": [
      "C:\\Users\\jackj\\AppData\\Local\\Temp\\ipykernel_31996\\1469608065.py:49: MarkupResemblesLocatorWarning: The input looks more like a filename than markup. You may want to open this file and pass the filehandle into Beautiful Soup.\n",
      "  comment_soup = BeautifulSoup(comment, 'html.parser')\n"
     ]
    },
    {
     "name": "stdout",
     "output_type": "stream",
     "text": [
      "Saved DataFrame scoring to raw_data\\2023\\Week10\\2023_Week10_ARI_vs_ATL\\scoring.csv\n",
      "Saved DataFrame player_offense to raw_data\\2023\\Week10\\2023_Week10_ARI_vs_ATL\\player_offense.csv\n",
      "Saved DataFrame game_info to raw_data\\2023\\Week10\\2023_Week10_ARI_vs_ATL\\game_info.csv\n",
      "Saved DataFrame officials to raw_data\\2023\\Week10\\2023_Week10_ARI_vs_ATL\\officials.csv\n",
      "Saved DataFrame expected_points to raw_data\\2023\\Week10\\2023_Week10_ARI_vs_ATL\\expected_points.csv\n",
      "Saved DataFrame team_stats to raw_data\\2023\\Week10\\2023_Week10_ARI_vs_ATL\\team_stats.csv\n",
      "Saved DataFrame player_defense to raw_data\\2023\\Week10\\2023_Week10_ARI_vs_ATL\\player_defense.csv\n",
      "Saved DataFrame returns to raw_data\\2023\\Week10\\2023_Week10_ARI_vs_ATL\\returns.csv\n",
      "Saved DataFrame kicking to raw_data\\2023\\Week10\\2023_Week10_ARI_vs_ATL\\kicking.csv\n",
      "Saved DataFrame passing_advanced to raw_data\\2023\\Week10\\2023_Week10_ARI_vs_ATL\\passing_advanced.csv\n",
      "Saved DataFrame rushing_advanced to raw_data\\2023\\Week10\\2023_Week10_ARI_vs_ATL\\rushing_advanced.csv\n",
      "Saved DataFrame receiving_advanced to raw_data\\2023\\Week10\\2023_Week10_ARI_vs_ATL\\receiving_advanced.csv\n",
      "Saved DataFrame defense_advanced to raw_data\\2023\\Week10\\2023_Week10_ARI_vs_ATL\\defense_advanced.csv\n",
      "Saved DataFrame home_starters to raw_data\\2023\\Week10\\2023_Week10_ARI_vs_ATL\\home_starters.csv\n",
      "Saved DataFrame vis_starters to raw_data\\2023\\Week10\\2023_Week10_ARI_vs_ATL\\vis_starters.csv\n",
      "Saved DataFrame home_snap_counts to raw_data\\2023\\Week10\\2023_Week10_ARI_vs_ATL\\home_snap_counts.csv\n",
      "Saved DataFrame vis_snap_counts to raw_data\\2023\\Week10\\2023_Week10_ARI_vs_ATL\\vis_snap_counts.csv\n",
      "Saved DataFrame home_drives to raw_data\\2023\\Week10\\2023_Week10_ARI_vs_ATL\\home_drives.csv\n",
      "Saved DataFrame vis_drives to raw_data\\2023\\Week10\\2023_Week10_ARI_vs_ATL\\vis_drives.csv\n",
      "Saved DataFrame pbp to raw_data\\2023\\Week10\\2023_Week10_ARI_vs_ATL\\pbp.csv\n"
     ]
    },
    {
     "name": "stderr",
     "output_type": "stream",
     "text": [
      "C:\\Users\\jackj\\AppData\\Local\\Temp\\ipykernel_31996\\1469608065.py:49: MarkupResemblesLocatorWarning: The input looks more like a filename than markup. You may want to open this file and pass the filehandle into Beautiful Soup.\n",
      "  comment_soup = BeautifulSoup(comment, 'html.parser')\n"
     ]
    },
    {
     "name": "stdout",
     "output_type": "stream",
     "text": [
      "Saved DataFrame scoring to raw_data\\2023\\Week10\\2023_Week10_DAL_vs_NYG\\scoring.csv\n",
      "Saved DataFrame player_offense to raw_data\\2023\\Week10\\2023_Week10_DAL_vs_NYG\\player_offense.csv\n",
      "Saved DataFrame game_info to raw_data\\2023\\Week10\\2023_Week10_DAL_vs_NYG\\game_info.csv\n",
      "Saved DataFrame officials to raw_data\\2023\\Week10\\2023_Week10_DAL_vs_NYG\\officials.csv\n",
      "Saved DataFrame expected_points to raw_data\\2023\\Week10\\2023_Week10_DAL_vs_NYG\\expected_points.csv\n",
      "Saved DataFrame team_stats to raw_data\\2023\\Week10\\2023_Week10_DAL_vs_NYG\\team_stats.csv\n",
      "Saved DataFrame player_defense to raw_data\\2023\\Week10\\2023_Week10_DAL_vs_NYG\\player_defense.csv\n",
      "Saved DataFrame returns to raw_data\\2023\\Week10\\2023_Week10_DAL_vs_NYG\\returns.csv\n",
      "Saved DataFrame kicking to raw_data\\2023\\Week10\\2023_Week10_DAL_vs_NYG\\kicking.csv\n",
      "Saved DataFrame passing_advanced to raw_data\\2023\\Week10\\2023_Week10_DAL_vs_NYG\\passing_advanced.csv\n",
      "Saved DataFrame rushing_advanced to raw_data\\2023\\Week10\\2023_Week10_DAL_vs_NYG\\rushing_advanced.csv\n",
      "Saved DataFrame receiving_advanced to raw_data\\2023\\Week10\\2023_Week10_DAL_vs_NYG\\receiving_advanced.csv\n",
      "Saved DataFrame defense_advanced to raw_data\\2023\\Week10\\2023_Week10_DAL_vs_NYG\\defense_advanced.csv\n",
      "Saved DataFrame home_starters to raw_data\\2023\\Week10\\2023_Week10_DAL_vs_NYG\\home_starters.csv\n",
      "Saved DataFrame vis_starters to raw_data\\2023\\Week10\\2023_Week10_DAL_vs_NYG\\vis_starters.csv\n",
      "Saved DataFrame home_snap_counts to raw_data\\2023\\Week10\\2023_Week10_DAL_vs_NYG\\home_snap_counts.csv\n",
      "Saved DataFrame vis_snap_counts to raw_data\\2023\\Week10\\2023_Week10_DAL_vs_NYG\\vis_snap_counts.csv\n",
      "Saved DataFrame home_drives to raw_data\\2023\\Week10\\2023_Week10_DAL_vs_NYG\\home_drives.csv\n",
      "Saved DataFrame vis_drives to raw_data\\2023\\Week10\\2023_Week10_DAL_vs_NYG\\vis_drives.csv\n",
      "Saved DataFrame pbp to raw_data\\2023\\Week10\\2023_Week10_DAL_vs_NYG\\pbp.csv\n"
     ]
    },
    {
     "name": "stderr",
     "output_type": "stream",
     "text": [
      "C:\\Users\\jackj\\AppData\\Local\\Temp\\ipykernel_31996\\1469608065.py:49: MarkupResemblesLocatorWarning: The input looks more like a filename than markup. You may want to open this file and pass the filehandle into Beautiful Soup.\n",
      "  comment_soup = BeautifulSoup(comment, 'html.parser')\n"
     ]
    },
    {
     "name": "stdout",
     "output_type": "stream",
     "text": [
      "Saved DataFrame scoring to raw_data\\2023\\Week10\\2023_Week10_SEA_vs_WAS\\scoring.csv\n",
      "Saved DataFrame player_offense to raw_data\\2023\\Week10\\2023_Week10_SEA_vs_WAS\\player_offense.csv\n",
      "Saved DataFrame game_info to raw_data\\2023\\Week10\\2023_Week10_SEA_vs_WAS\\game_info.csv\n",
      "Saved DataFrame officials to raw_data\\2023\\Week10\\2023_Week10_SEA_vs_WAS\\officials.csv\n",
      "Saved DataFrame expected_points to raw_data\\2023\\Week10\\2023_Week10_SEA_vs_WAS\\expected_points.csv\n",
      "Saved DataFrame team_stats to raw_data\\2023\\Week10\\2023_Week10_SEA_vs_WAS\\team_stats.csv\n",
      "Saved DataFrame player_defense to raw_data\\2023\\Week10\\2023_Week10_SEA_vs_WAS\\player_defense.csv\n",
      "Saved DataFrame returns to raw_data\\2023\\Week10\\2023_Week10_SEA_vs_WAS\\returns.csv\n",
      "Saved DataFrame kicking to raw_data\\2023\\Week10\\2023_Week10_SEA_vs_WAS\\kicking.csv\n",
      "Saved DataFrame passing_advanced to raw_data\\2023\\Week10\\2023_Week10_SEA_vs_WAS\\passing_advanced.csv\n",
      "Saved DataFrame rushing_advanced to raw_data\\2023\\Week10\\2023_Week10_SEA_vs_WAS\\rushing_advanced.csv\n",
      "Saved DataFrame receiving_advanced to raw_data\\2023\\Week10\\2023_Week10_SEA_vs_WAS\\receiving_advanced.csv\n",
      "Saved DataFrame defense_advanced to raw_data\\2023\\Week10\\2023_Week10_SEA_vs_WAS\\defense_advanced.csv\n",
      "Saved DataFrame home_starters to raw_data\\2023\\Week10\\2023_Week10_SEA_vs_WAS\\home_starters.csv\n",
      "Saved DataFrame vis_starters to raw_data\\2023\\Week10\\2023_Week10_SEA_vs_WAS\\vis_starters.csv\n",
      "Saved DataFrame home_snap_counts to raw_data\\2023\\Week10\\2023_Week10_SEA_vs_WAS\\home_snap_counts.csv\n",
      "Saved DataFrame vis_snap_counts to raw_data\\2023\\Week10\\2023_Week10_SEA_vs_WAS\\vis_snap_counts.csv\n",
      "Saved DataFrame home_drives to raw_data\\2023\\Week10\\2023_Week10_SEA_vs_WAS\\home_drives.csv\n",
      "Saved DataFrame vis_drives to raw_data\\2023\\Week10\\2023_Week10_SEA_vs_WAS\\vis_drives.csv\n",
      "Saved DataFrame pbp to raw_data\\2023\\Week10\\2023_Week10_SEA_vs_WAS\\pbp.csv\n"
     ]
    },
    {
     "name": "stderr",
     "output_type": "stream",
     "text": [
      "C:\\Users\\jackj\\AppData\\Local\\Temp\\ipykernel_31996\\1469608065.py:49: MarkupResemblesLocatorWarning: The input looks more like a filename than markup. You may want to open this file and pass the filehandle into Beautiful Soup.\n",
      "  comment_soup = BeautifulSoup(comment, 'html.parser')\n"
     ]
    },
    {
     "name": "stdout",
     "output_type": "stream",
     "text": [
      "Saved DataFrame scoring to raw_data\\2023\\Week10\\2023_Week10_LVR_vs_NYJ\\scoring.csv\n",
      "Saved DataFrame player_offense to raw_data\\2023\\Week10\\2023_Week10_LVR_vs_NYJ\\player_offense.csv\n",
      "Saved DataFrame game_info to raw_data\\2023\\Week10\\2023_Week10_LVR_vs_NYJ\\game_info.csv\n",
      "Saved DataFrame officials to raw_data\\2023\\Week10\\2023_Week10_LVR_vs_NYJ\\officials.csv\n",
      "Saved DataFrame expected_points to raw_data\\2023\\Week10\\2023_Week10_LVR_vs_NYJ\\expected_points.csv\n",
      "Saved DataFrame team_stats to raw_data\\2023\\Week10\\2023_Week10_LVR_vs_NYJ\\team_stats.csv\n",
      "Saved DataFrame player_defense to raw_data\\2023\\Week10\\2023_Week10_LVR_vs_NYJ\\player_defense.csv\n",
      "Saved DataFrame returns to raw_data\\2023\\Week10\\2023_Week10_LVR_vs_NYJ\\returns.csv\n",
      "Saved DataFrame kicking to raw_data\\2023\\Week10\\2023_Week10_LVR_vs_NYJ\\kicking.csv\n",
      "Saved DataFrame passing_advanced to raw_data\\2023\\Week10\\2023_Week10_LVR_vs_NYJ\\passing_advanced.csv\n",
      "Saved DataFrame rushing_advanced to raw_data\\2023\\Week10\\2023_Week10_LVR_vs_NYJ\\rushing_advanced.csv\n",
      "Saved DataFrame receiving_advanced to raw_data\\2023\\Week10\\2023_Week10_LVR_vs_NYJ\\receiving_advanced.csv\n",
      "Saved DataFrame defense_advanced to raw_data\\2023\\Week10\\2023_Week10_LVR_vs_NYJ\\defense_advanced.csv\n",
      "Saved DataFrame home_starters to raw_data\\2023\\Week10\\2023_Week10_LVR_vs_NYJ\\home_starters.csv\n",
      "Saved DataFrame vis_starters to raw_data\\2023\\Week10\\2023_Week10_LVR_vs_NYJ\\vis_starters.csv\n",
      "Saved DataFrame home_snap_counts to raw_data\\2023\\Week10\\2023_Week10_LVR_vs_NYJ\\home_snap_counts.csv\n",
      "Saved DataFrame vis_snap_counts to raw_data\\2023\\Week10\\2023_Week10_LVR_vs_NYJ\\vis_snap_counts.csv\n",
      "Saved DataFrame home_drives to raw_data\\2023\\Week10\\2023_Week10_LVR_vs_NYJ\\home_drives.csv\n",
      "Saved DataFrame vis_drives to raw_data\\2023\\Week10\\2023_Week10_LVR_vs_NYJ\\vis_drives.csv\n",
      "Saved DataFrame pbp to raw_data\\2023\\Week10\\2023_Week10_LVR_vs_NYJ\\pbp.csv\n"
     ]
    },
    {
     "name": "stderr",
     "output_type": "stream",
     "text": [
      "C:\\Users\\jackj\\AppData\\Local\\Temp\\ipykernel_31996\\1469608065.py:49: MarkupResemblesLocatorWarning: The input looks more like a filename than markup. You may want to open this file and pass the filehandle into Beautiful Soup.\n",
      "  comment_soup = BeautifulSoup(comment, 'html.parser')\n"
     ]
    },
    {
     "name": "stdout",
     "output_type": "stream",
     "text": [
      "Saved DataFrame scoring to raw_data\\2023\\Week10\\2023_Week10_BUF_vs_DEN\\scoring.csv\n",
      "Saved DataFrame player_offense to raw_data\\2023\\Week10\\2023_Week10_BUF_vs_DEN\\player_offense.csv\n",
      "Saved DataFrame game_info to raw_data\\2023\\Week10\\2023_Week10_BUF_vs_DEN\\game_info.csv\n",
      "Saved DataFrame officials to raw_data\\2023\\Week10\\2023_Week10_BUF_vs_DEN\\officials.csv\n",
      "Saved DataFrame expected_points to raw_data\\2023\\Week10\\2023_Week10_BUF_vs_DEN\\expected_points.csv\n",
      "Saved DataFrame team_stats to raw_data\\2023\\Week10\\2023_Week10_BUF_vs_DEN\\team_stats.csv\n",
      "Saved DataFrame player_defense to raw_data\\2023\\Week10\\2023_Week10_BUF_vs_DEN\\player_defense.csv\n",
      "Saved DataFrame returns to raw_data\\2023\\Week10\\2023_Week10_BUF_vs_DEN\\returns.csv\n",
      "Saved DataFrame kicking to raw_data\\2023\\Week10\\2023_Week10_BUF_vs_DEN\\kicking.csv\n",
      "Saved DataFrame passing_advanced to raw_data\\2023\\Week10\\2023_Week10_BUF_vs_DEN\\passing_advanced.csv\n",
      "Saved DataFrame rushing_advanced to raw_data\\2023\\Week10\\2023_Week10_BUF_vs_DEN\\rushing_advanced.csv\n",
      "Saved DataFrame receiving_advanced to raw_data\\2023\\Week10\\2023_Week10_BUF_vs_DEN\\receiving_advanced.csv\n",
      "Saved DataFrame defense_advanced to raw_data\\2023\\Week10\\2023_Week10_BUF_vs_DEN\\defense_advanced.csv\n",
      "Saved DataFrame home_starters to raw_data\\2023\\Week10\\2023_Week10_BUF_vs_DEN\\home_starters.csv\n",
      "Saved DataFrame vis_starters to raw_data\\2023\\Week10\\2023_Week10_BUF_vs_DEN\\vis_starters.csv\n",
      "Saved DataFrame home_snap_counts to raw_data\\2023\\Week10\\2023_Week10_BUF_vs_DEN\\home_snap_counts.csv\n",
      "Saved DataFrame vis_snap_counts to raw_data\\2023\\Week10\\2023_Week10_BUF_vs_DEN\\vis_snap_counts.csv\n",
      "Saved DataFrame home_drives to raw_data\\2023\\Week10\\2023_Week10_BUF_vs_DEN\\home_drives.csv\n",
      "Saved DataFrame vis_drives to raw_data\\2023\\Week10\\2023_Week10_BUF_vs_DEN\\vis_drives.csv\n",
      "Saved DataFrame pbp to raw_data\\2023\\Week10\\2023_Week10_BUF_vs_DEN\\pbp.csv\n"
     ]
    },
    {
     "name": "stderr",
     "output_type": "stream",
     "text": [
      "C:\\Users\\jackj\\AppData\\Local\\Temp\\ipykernel_31996\\1469608065.py:49: MarkupResemblesLocatorWarning: The input looks more like a filename than markup. You may want to open this file and pass the filehandle into Beautiful Soup.\n",
      "  comment_soup = BeautifulSoup(comment, 'html.parser')\n"
     ]
    },
    {
     "name": "stdout",
     "output_type": "stream",
     "text": [
      "Saved DataFrame scoring to raw_data\\2023\\Week11\\2023_Week11_BAL_vs_CIN\\scoring.csv\n",
      "Saved DataFrame player_offense to raw_data\\2023\\Week11\\2023_Week11_BAL_vs_CIN\\player_offense.csv\n",
      "Saved DataFrame game_info to raw_data\\2023\\Week11\\2023_Week11_BAL_vs_CIN\\game_info.csv\n",
      "Saved DataFrame officials to raw_data\\2023\\Week11\\2023_Week11_BAL_vs_CIN\\officials.csv\n",
      "Saved DataFrame expected_points to raw_data\\2023\\Week11\\2023_Week11_BAL_vs_CIN\\expected_points.csv\n",
      "Saved DataFrame team_stats to raw_data\\2023\\Week11\\2023_Week11_BAL_vs_CIN\\team_stats.csv\n",
      "Saved DataFrame player_defense to raw_data\\2023\\Week11\\2023_Week11_BAL_vs_CIN\\player_defense.csv\n",
      "Saved DataFrame returns to raw_data\\2023\\Week11\\2023_Week11_BAL_vs_CIN\\returns.csv\n",
      "Saved DataFrame kicking to raw_data\\2023\\Week11\\2023_Week11_BAL_vs_CIN\\kicking.csv\n",
      "Saved DataFrame passing_advanced to raw_data\\2023\\Week11\\2023_Week11_BAL_vs_CIN\\passing_advanced.csv\n",
      "Saved DataFrame rushing_advanced to raw_data\\2023\\Week11\\2023_Week11_BAL_vs_CIN\\rushing_advanced.csv\n",
      "Saved DataFrame receiving_advanced to raw_data\\2023\\Week11\\2023_Week11_BAL_vs_CIN\\receiving_advanced.csv\n",
      "Saved DataFrame defense_advanced to raw_data\\2023\\Week11\\2023_Week11_BAL_vs_CIN\\defense_advanced.csv\n",
      "Saved DataFrame home_starters to raw_data\\2023\\Week11\\2023_Week11_BAL_vs_CIN\\home_starters.csv\n",
      "Saved DataFrame vis_starters to raw_data\\2023\\Week11\\2023_Week11_BAL_vs_CIN\\vis_starters.csv\n",
      "Saved DataFrame home_snap_counts to raw_data\\2023\\Week11\\2023_Week11_BAL_vs_CIN\\home_snap_counts.csv\n",
      "Saved DataFrame vis_snap_counts to raw_data\\2023\\Week11\\2023_Week11_BAL_vs_CIN\\vis_snap_counts.csv\n",
      "Saved DataFrame home_drives to raw_data\\2023\\Week11\\2023_Week11_BAL_vs_CIN\\home_drives.csv\n",
      "Saved DataFrame vis_drives to raw_data\\2023\\Week11\\2023_Week11_BAL_vs_CIN\\vis_drives.csv\n",
      "Saved DataFrame pbp to raw_data\\2023\\Week11\\2023_Week11_BAL_vs_CIN\\pbp.csv\n"
     ]
    },
    {
     "name": "stderr",
     "output_type": "stream",
     "text": [
      "C:\\Users\\jackj\\AppData\\Local\\Temp\\ipykernel_31996\\1469608065.py:49: MarkupResemblesLocatorWarning: The input looks more like a filename than markup. You may want to open this file and pass the filehandle into Beautiful Soup.\n",
      "  comment_soup = BeautifulSoup(comment, 'html.parser')\n"
     ]
    },
    {
     "name": "stdout",
     "output_type": "stream",
     "text": [
      "Saved DataFrame scoring to raw_data\\2023\\Week11\\2023_Week11_CAR_vs_DAL\\scoring.csv\n",
      "Saved DataFrame player_offense to raw_data\\2023\\Week11\\2023_Week11_CAR_vs_DAL\\player_offense.csv\n",
      "Saved DataFrame game_info to raw_data\\2023\\Week11\\2023_Week11_CAR_vs_DAL\\game_info.csv\n",
      "Saved DataFrame officials to raw_data\\2023\\Week11\\2023_Week11_CAR_vs_DAL\\officials.csv\n",
      "Saved DataFrame expected_points to raw_data\\2023\\Week11\\2023_Week11_CAR_vs_DAL\\expected_points.csv\n",
      "Saved DataFrame team_stats to raw_data\\2023\\Week11\\2023_Week11_CAR_vs_DAL\\team_stats.csv\n",
      "Saved DataFrame player_defense to raw_data\\2023\\Week11\\2023_Week11_CAR_vs_DAL\\player_defense.csv\n",
      "Saved DataFrame returns to raw_data\\2023\\Week11\\2023_Week11_CAR_vs_DAL\\returns.csv\n",
      "Saved DataFrame kicking to raw_data\\2023\\Week11\\2023_Week11_CAR_vs_DAL\\kicking.csv\n",
      "Saved DataFrame passing_advanced to raw_data\\2023\\Week11\\2023_Week11_CAR_vs_DAL\\passing_advanced.csv\n",
      "Saved DataFrame rushing_advanced to raw_data\\2023\\Week11\\2023_Week11_CAR_vs_DAL\\rushing_advanced.csv\n",
      "Saved DataFrame receiving_advanced to raw_data\\2023\\Week11\\2023_Week11_CAR_vs_DAL\\receiving_advanced.csv\n",
      "Saved DataFrame defense_advanced to raw_data\\2023\\Week11\\2023_Week11_CAR_vs_DAL\\defense_advanced.csv\n",
      "Saved DataFrame home_starters to raw_data\\2023\\Week11\\2023_Week11_CAR_vs_DAL\\home_starters.csv\n",
      "Saved DataFrame vis_starters to raw_data\\2023\\Week11\\2023_Week11_CAR_vs_DAL\\vis_starters.csv\n",
      "Saved DataFrame home_snap_counts to raw_data\\2023\\Week11\\2023_Week11_CAR_vs_DAL\\home_snap_counts.csv\n",
      "Saved DataFrame vis_snap_counts to raw_data\\2023\\Week11\\2023_Week11_CAR_vs_DAL\\vis_snap_counts.csv\n",
      "Saved DataFrame home_drives to raw_data\\2023\\Week11\\2023_Week11_CAR_vs_DAL\\home_drives.csv\n",
      "Saved DataFrame vis_drives to raw_data\\2023\\Week11\\2023_Week11_CAR_vs_DAL\\vis_drives.csv\n",
      "Saved DataFrame pbp to raw_data\\2023\\Week11\\2023_Week11_CAR_vs_DAL\\pbp.csv\n",
      "Reached 20 requests, sleeping for 60 seconds...\n"
     ]
    },
    {
     "name": "stderr",
     "output_type": "stream",
     "text": [
      "C:\\Users\\jackj\\AppData\\Local\\Temp\\ipykernel_31996\\1469608065.py:49: MarkupResemblesLocatorWarning: The input looks more like a filename than markup. You may want to open this file and pass the filehandle into Beautiful Soup.\n",
      "  comment_soup = BeautifulSoup(comment, 'html.parser')\n"
     ]
    },
    {
     "name": "stdout",
     "output_type": "stream",
     "text": [
      "Saved DataFrame scoring to raw_data\\2023\\Week11\\2023_Week11_CLE_vs_PIT\\scoring.csv\n",
      "Saved DataFrame player_offense to raw_data\\2023\\Week11\\2023_Week11_CLE_vs_PIT\\player_offense.csv\n",
      "Saved DataFrame game_info to raw_data\\2023\\Week11\\2023_Week11_CLE_vs_PIT\\game_info.csv\n",
      "Saved DataFrame officials to raw_data\\2023\\Week11\\2023_Week11_CLE_vs_PIT\\officials.csv\n",
      "Saved DataFrame expected_points to raw_data\\2023\\Week11\\2023_Week11_CLE_vs_PIT\\expected_points.csv\n",
      "Saved DataFrame team_stats to raw_data\\2023\\Week11\\2023_Week11_CLE_vs_PIT\\team_stats.csv\n",
      "Saved DataFrame player_defense to raw_data\\2023\\Week11\\2023_Week11_CLE_vs_PIT\\player_defense.csv\n",
      "Saved DataFrame returns to raw_data\\2023\\Week11\\2023_Week11_CLE_vs_PIT\\returns.csv\n",
      "Saved DataFrame kicking to raw_data\\2023\\Week11\\2023_Week11_CLE_vs_PIT\\kicking.csv\n",
      "Saved DataFrame passing_advanced to raw_data\\2023\\Week11\\2023_Week11_CLE_vs_PIT\\passing_advanced.csv\n",
      "Saved DataFrame rushing_advanced to raw_data\\2023\\Week11\\2023_Week11_CLE_vs_PIT\\rushing_advanced.csv\n",
      "Saved DataFrame receiving_advanced to raw_data\\2023\\Week11\\2023_Week11_CLE_vs_PIT\\receiving_advanced.csv\n",
      "Saved DataFrame defense_advanced to raw_data\\2023\\Week11\\2023_Week11_CLE_vs_PIT\\defense_advanced.csv\n",
      "Saved DataFrame home_starters to raw_data\\2023\\Week11\\2023_Week11_CLE_vs_PIT\\home_starters.csv\n",
      "Saved DataFrame vis_starters to raw_data\\2023\\Week11\\2023_Week11_CLE_vs_PIT\\vis_starters.csv\n",
      "Saved DataFrame home_snap_counts to raw_data\\2023\\Week11\\2023_Week11_CLE_vs_PIT\\home_snap_counts.csv\n",
      "Saved DataFrame vis_snap_counts to raw_data\\2023\\Week11\\2023_Week11_CLE_vs_PIT\\vis_snap_counts.csv\n",
      "Saved DataFrame home_drives to raw_data\\2023\\Week11\\2023_Week11_CLE_vs_PIT\\home_drives.csv\n",
      "Saved DataFrame vis_drives to raw_data\\2023\\Week11\\2023_Week11_CLE_vs_PIT\\vis_drives.csv\n",
      "Saved DataFrame pbp to raw_data\\2023\\Week11\\2023_Week11_CLE_vs_PIT\\pbp.csv\n"
     ]
    },
    {
     "name": "stderr",
     "output_type": "stream",
     "text": [
      "C:\\Users\\jackj\\AppData\\Local\\Temp\\ipykernel_31996\\1469608065.py:49: MarkupResemblesLocatorWarning: The input looks more like a filename than markup. You may want to open this file and pass the filehandle into Beautiful Soup.\n",
      "  comment_soup = BeautifulSoup(comment, 'html.parser')\n"
     ]
    },
    {
     "name": "stdout",
     "output_type": "stream",
     "text": [
      "Saved DataFrame scoring to raw_data\\2023\\Week11\\2023_Week11_GB_vs_LAC\\scoring.csv\n",
      "Saved DataFrame player_offense to raw_data\\2023\\Week11\\2023_Week11_GB_vs_LAC\\player_offense.csv\n",
      "Saved DataFrame game_info to raw_data\\2023\\Week11\\2023_Week11_GB_vs_LAC\\game_info.csv\n",
      "Saved DataFrame officials to raw_data\\2023\\Week11\\2023_Week11_GB_vs_LAC\\officials.csv\n",
      "Saved DataFrame expected_points to raw_data\\2023\\Week11\\2023_Week11_GB_vs_LAC\\expected_points.csv\n",
      "Saved DataFrame team_stats to raw_data\\2023\\Week11\\2023_Week11_GB_vs_LAC\\team_stats.csv\n",
      "Saved DataFrame player_defense to raw_data\\2023\\Week11\\2023_Week11_GB_vs_LAC\\player_defense.csv\n",
      "Saved DataFrame returns to raw_data\\2023\\Week11\\2023_Week11_GB_vs_LAC\\returns.csv\n",
      "Saved DataFrame kicking to raw_data\\2023\\Week11\\2023_Week11_GB_vs_LAC\\kicking.csv\n",
      "Saved DataFrame passing_advanced to raw_data\\2023\\Week11\\2023_Week11_GB_vs_LAC\\passing_advanced.csv\n",
      "Saved DataFrame rushing_advanced to raw_data\\2023\\Week11\\2023_Week11_GB_vs_LAC\\rushing_advanced.csv\n",
      "Saved DataFrame receiving_advanced to raw_data\\2023\\Week11\\2023_Week11_GB_vs_LAC\\receiving_advanced.csv\n",
      "Saved DataFrame defense_advanced to raw_data\\2023\\Week11\\2023_Week11_GB_vs_LAC\\defense_advanced.csv\n",
      "Saved DataFrame home_starters to raw_data\\2023\\Week11\\2023_Week11_GB_vs_LAC\\home_starters.csv\n",
      "Saved DataFrame vis_starters to raw_data\\2023\\Week11\\2023_Week11_GB_vs_LAC\\vis_starters.csv\n",
      "Saved DataFrame home_snap_counts to raw_data\\2023\\Week11\\2023_Week11_GB_vs_LAC\\home_snap_counts.csv\n",
      "Saved DataFrame vis_snap_counts to raw_data\\2023\\Week11\\2023_Week11_GB_vs_LAC\\vis_snap_counts.csv\n",
      "Saved DataFrame home_drives to raw_data\\2023\\Week11\\2023_Week11_GB_vs_LAC\\home_drives.csv\n",
      "Saved DataFrame vis_drives to raw_data\\2023\\Week11\\2023_Week11_GB_vs_LAC\\vis_drives.csv\n",
      "Saved DataFrame pbp to raw_data\\2023\\Week11\\2023_Week11_GB_vs_LAC\\pbp.csv\n"
     ]
    },
    {
     "name": "stderr",
     "output_type": "stream",
     "text": [
      "C:\\Users\\jackj\\AppData\\Local\\Temp\\ipykernel_31996\\1469608065.py:49: MarkupResemblesLocatorWarning: The input looks more like a filename than markup. You may want to open this file and pass the filehandle into Beautiful Soup.\n",
      "  comment_soup = BeautifulSoup(comment, 'html.parser')\n"
     ]
    },
    {
     "name": "stdout",
     "output_type": "stream",
     "text": [
      "Saved DataFrame scoring to raw_data\\2023\\Week11\\2023_Week11_JAX_vs_TEN\\scoring.csv\n",
      "Saved DataFrame player_offense to raw_data\\2023\\Week11\\2023_Week11_JAX_vs_TEN\\player_offense.csv\n",
      "Saved DataFrame game_info to raw_data\\2023\\Week11\\2023_Week11_JAX_vs_TEN\\game_info.csv\n",
      "Saved DataFrame officials to raw_data\\2023\\Week11\\2023_Week11_JAX_vs_TEN\\officials.csv\n",
      "Saved DataFrame expected_points to raw_data\\2023\\Week11\\2023_Week11_JAX_vs_TEN\\expected_points.csv\n",
      "Saved DataFrame team_stats to raw_data\\2023\\Week11\\2023_Week11_JAX_vs_TEN\\team_stats.csv\n",
      "Saved DataFrame player_defense to raw_data\\2023\\Week11\\2023_Week11_JAX_vs_TEN\\player_defense.csv\n",
      "Saved DataFrame returns to raw_data\\2023\\Week11\\2023_Week11_JAX_vs_TEN\\returns.csv\n",
      "Saved DataFrame kicking to raw_data\\2023\\Week11\\2023_Week11_JAX_vs_TEN\\kicking.csv\n",
      "Saved DataFrame passing_advanced to raw_data\\2023\\Week11\\2023_Week11_JAX_vs_TEN\\passing_advanced.csv\n",
      "Saved DataFrame rushing_advanced to raw_data\\2023\\Week11\\2023_Week11_JAX_vs_TEN\\rushing_advanced.csv\n",
      "Saved DataFrame receiving_advanced to raw_data\\2023\\Week11\\2023_Week11_JAX_vs_TEN\\receiving_advanced.csv\n",
      "Saved DataFrame defense_advanced to raw_data\\2023\\Week11\\2023_Week11_JAX_vs_TEN\\defense_advanced.csv\n",
      "Saved DataFrame home_starters to raw_data\\2023\\Week11\\2023_Week11_JAX_vs_TEN\\home_starters.csv\n",
      "Saved DataFrame vis_starters to raw_data\\2023\\Week11\\2023_Week11_JAX_vs_TEN\\vis_starters.csv\n",
      "Saved DataFrame home_snap_counts to raw_data\\2023\\Week11\\2023_Week11_JAX_vs_TEN\\home_snap_counts.csv\n",
      "Saved DataFrame vis_snap_counts to raw_data\\2023\\Week11\\2023_Week11_JAX_vs_TEN\\vis_snap_counts.csv\n",
      "Saved DataFrame home_drives to raw_data\\2023\\Week11\\2023_Week11_JAX_vs_TEN\\home_drives.csv\n",
      "Saved DataFrame vis_drives to raw_data\\2023\\Week11\\2023_Week11_JAX_vs_TEN\\vis_drives.csv\n",
      "Saved DataFrame pbp to raw_data\\2023\\Week11\\2023_Week11_JAX_vs_TEN\\pbp.csv\n"
     ]
    },
    {
     "name": "stderr",
     "output_type": "stream",
     "text": [
      "C:\\Users\\jackj\\AppData\\Local\\Temp\\ipykernel_31996\\1469608065.py:49: MarkupResemblesLocatorWarning: The input looks more like a filename than markup. You may want to open this file and pass the filehandle into Beautiful Soup.\n",
      "  comment_soup = BeautifulSoup(comment, 'html.parser')\n"
     ]
    },
    {
     "name": "stdout",
     "output_type": "stream",
     "text": [
      "Saved DataFrame scoring to raw_data\\2023\\Week11\\2023_Week11_MIA_vs_LVR\\scoring.csv\n",
      "Saved DataFrame player_offense to raw_data\\2023\\Week11\\2023_Week11_MIA_vs_LVR\\player_offense.csv\n",
      "Saved DataFrame game_info to raw_data\\2023\\Week11\\2023_Week11_MIA_vs_LVR\\game_info.csv\n",
      "Saved DataFrame officials to raw_data\\2023\\Week11\\2023_Week11_MIA_vs_LVR\\officials.csv\n",
      "Saved DataFrame expected_points to raw_data\\2023\\Week11\\2023_Week11_MIA_vs_LVR\\expected_points.csv\n",
      "Saved DataFrame team_stats to raw_data\\2023\\Week11\\2023_Week11_MIA_vs_LVR\\team_stats.csv\n",
      "Saved DataFrame player_defense to raw_data\\2023\\Week11\\2023_Week11_MIA_vs_LVR\\player_defense.csv\n",
      "Saved DataFrame returns to raw_data\\2023\\Week11\\2023_Week11_MIA_vs_LVR\\returns.csv\n",
      "Saved DataFrame kicking to raw_data\\2023\\Week11\\2023_Week11_MIA_vs_LVR\\kicking.csv\n",
      "Saved DataFrame passing_advanced to raw_data\\2023\\Week11\\2023_Week11_MIA_vs_LVR\\passing_advanced.csv\n",
      "Saved DataFrame rushing_advanced to raw_data\\2023\\Week11\\2023_Week11_MIA_vs_LVR\\rushing_advanced.csv\n",
      "Saved DataFrame receiving_advanced to raw_data\\2023\\Week11\\2023_Week11_MIA_vs_LVR\\receiving_advanced.csv\n",
      "Saved DataFrame defense_advanced to raw_data\\2023\\Week11\\2023_Week11_MIA_vs_LVR\\defense_advanced.csv\n",
      "Saved DataFrame home_starters to raw_data\\2023\\Week11\\2023_Week11_MIA_vs_LVR\\home_starters.csv\n",
      "Saved DataFrame vis_starters to raw_data\\2023\\Week11\\2023_Week11_MIA_vs_LVR\\vis_starters.csv\n",
      "Saved DataFrame home_snap_counts to raw_data\\2023\\Week11\\2023_Week11_MIA_vs_LVR\\home_snap_counts.csv\n",
      "Saved DataFrame vis_snap_counts to raw_data\\2023\\Week11\\2023_Week11_MIA_vs_LVR\\vis_snap_counts.csv\n",
      "Saved DataFrame home_drives to raw_data\\2023\\Week11\\2023_Week11_MIA_vs_LVR\\home_drives.csv\n",
      "Saved DataFrame vis_drives to raw_data\\2023\\Week11\\2023_Week11_MIA_vs_LVR\\vis_drives.csv\n",
      "Saved DataFrame pbp to raw_data\\2023\\Week11\\2023_Week11_MIA_vs_LVR\\pbp.csv\n"
     ]
    },
    {
     "name": "stderr",
     "output_type": "stream",
     "text": [
      "C:\\Users\\jackj\\AppData\\Local\\Temp\\ipykernel_31996\\1469608065.py:49: MarkupResemblesLocatorWarning: The input looks more like a filename than markup. You may want to open this file and pass the filehandle into Beautiful Soup.\n",
      "  comment_soup = BeautifulSoup(comment, 'html.parser')\n"
     ]
    },
    {
     "name": "stdout",
     "output_type": "stream",
     "text": [
      "Saved DataFrame scoring to raw_data\\2023\\Week11\\2023_Week11_DET_vs_CHI\\scoring.csv\n",
      "Saved DataFrame player_offense to raw_data\\2023\\Week11\\2023_Week11_DET_vs_CHI\\player_offense.csv\n",
      "Saved DataFrame game_info to raw_data\\2023\\Week11\\2023_Week11_DET_vs_CHI\\game_info.csv\n",
      "Saved DataFrame officials to raw_data\\2023\\Week11\\2023_Week11_DET_vs_CHI\\officials.csv\n",
      "Saved DataFrame expected_points to raw_data\\2023\\Week11\\2023_Week11_DET_vs_CHI\\expected_points.csv\n",
      "Saved DataFrame team_stats to raw_data\\2023\\Week11\\2023_Week11_DET_vs_CHI\\team_stats.csv\n",
      "Saved DataFrame player_defense to raw_data\\2023\\Week11\\2023_Week11_DET_vs_CHI\\player_defense.csv\n",
      "Saved DataFrame returns to raw_data\\2023\\Week11\\2023_Week11_DET_vs_CHI\\returns.csv\n",
      "Saved DataFrame kicking to raw_data\\2023\\Week11\\2023_Week11_DET_vs_CHI\\kicking.csv\n",
      "Saved DataFrame passing_advanced to raw_data\\2023\\Week11\\2023_Week11_DET_vs_CHI\\passing_advanced.csv\n",
      "Saved DataFrame rushing_advanced to raw_data\\2023\\Week11\\2023_Week11_DET_vs_CHI\\rushing_advanced.csv\n",
      "Saved DataFrame receiving_advanced to raw_data\\2023\\Week11\\2023_Week11_DET_vs_CHI\\receiving_advanced.csv\n",
      "Saved DataFrame defense_advanced to raw_data\\2023\\Week11\\2023_Week11_DET_vs_CHI\\defense_advanced.csv\n",
      "Saved DataFrame home_starters to raw_data\\2023\\Week11\\2023_Week11_DET_vs_CHI\\home_starters.csv\n",
      "Saved DataFrame vis_starters to raw_data\\2023\\Week11\\2023_Week11_DET_vs_CHI\\vis_starters.csv\n",
      "Saved DataFrame home_snap_counts to raw_data\\2023\\Week11\\2023_Week11_DET_vs_CHI\\home_snap_counts.csv\n",
      "Saved DataFrame vis_snap_counts to raw_data\\2023\\Week11\\2023_Week11_DET_vs_CHI\\vis_snap_counts.csv\n",
      "Saved DataFrame home_drives to raw_data\\2023\\Week11\\2023_Week11_DET_vs_CHI\\home_drives.csv\n",
      "Saved DataFrame vis_drives to raw_data\\2023\\Week11\\2023_Week11_DET_vs_CHI\\vis_drives.csv\n",
      "Saved DataFrame pbp to raw_data\\2023\\Week11\\2023_Week11_DET_vs_CHI\\pbp.csv\n"
     ]
    },
    {
     "name": "stderr",
     "output_type": "stream",
     "text": [
      "C:\\Users\\jackj\\AppData\\Local\\Temp\\ipykernel_31996\\1469608065.py:49: MarkupResemblesLocatorWarning: The input looks more like a filename than markup. You may want to open this file and pass the filehandle into Beautiful Soup.\n",
      "  comment_soup = BeautifulSoup(comment, 'html.parser')\n"
     ]
    },
    {
     "name": "stdout",
     "output_type": "stream",
     "text": [
      "Saved DataFrame scoring to raw_data\\2023\\Week11\\2023_Week11_HOU_vs_ARI\\scoring.csv\n",
      "Saved DataFrame player_offense to raw_data\\2023\\Week11\\2023_Week11_HOU_vs_ARI\\player_offense.csv\n",
      "Saved DataFrame game_info to raw_data\\2023\\Week11\\2023_Week11_HOU_vs_ARI\\game_info.csv\n",
      "Saved DataFrame officials to raw_data\\2023\\Week11\\2023_Week11_HOU_vs_ARI\\officials.csv\n",
      "Saved DataFrame expected_points to raw_data\\2023\\Week11\\2023_Week11_HOU_vs_ARI\\expected_points.csv\n",
      "Saved DataFrame team_stats to raw_data\\2023\\Week11\\2023_Week11_HOU_vs_ARI\\team_stats.csv\n",
      "Saved DataFrame player_defense to raw_data\\2023\\Week11\\2023_Week11_HOU_vs_ARI\\player_defense.csv\n",
      "Saved DataFrame returns to raw_data\\2023\\Week11\\2023_Week11_HOU_vs_ARI\\returns.csv\n",
      "Saved DataFrame kicking to raw_data\\2023\\Week11\\2023_Week11_HOU_vs_ARI\\kicking.csv\n",
      "Saved DataFrame passing_advanced to raw_data\\2023\\Week11\\2023_Week11_HOU_vs_ARI\\passing_advanced.csv\n",
      "Saved DataFrame rushing_advanced to raw_data\\2023\\Week11\\2023_Week11_HOU_vs_ARI\\rushing_advanced.csv\n",
      "Saved DataFrame receiving_advanced to raw_data\\2023\\Week11\\2023_Week11_HOU_vs_ARI\\receiving_advanced.csv\n",
      "Saved DataFrame defense_advanced to raw_data\\2023\\Week11\\2023_Week11_HOU_vs_ARI\\defense_advanced.csv\n",
      "Saved DataFrame home_starters to raw_data\\2023\\Week11\\2023_Week11_HOU_vs_ARI\\home_starters.csv\n",
      "Saved DataFrame vis_starters to raw_data\\2023\\Week11\\2023_Week11_HOU_vs_ARI\\vis_starters.csv\n",
      "Saved DataFrame home_snap_counts to raw_data\\2023\\Week11\\2023_Week11_HOU_vs_ARI\\home_snap_counts.csv\n",
      "Saved DataFrame vis_snap_counts to raw_data\\2023\\Week11\\2023_Week11_HOU_vs_ARI\\vis_snap_counts.csv\n",
      "Saved DataFrame home_drives to raw_data\\2023\\Week11\\2023_Week11_HOU_vs_ARI\\home_drives.csv\n",
      "Saved DataFrame vis_drives to raw_data\\2023\\Week11\\2023_Week11_HOU_vs_ARI\\vis_drives.csv\n",
      "Saved DataFrame pbp to raw_data\\2023\\Week11\\2023_Week11_HOU_vs_ARI\\pbp.csv\n"
     ]
    },
    {
     "name": "stderr",
     "output_type": "stream",
     "text": [
      "C:\\Users\\jackj\\AppData\\Local\\Temp\\ipykernel_31996\\1469608065.py:49: MarkupResemblesLocatorWarning: The input looks more like a filename than markup. You may want to open this file and pass the filehandle into Beautiful Soup.\n",
      "  comment_soup = BeautifulSoup(comment, 'html.parser')\n"
     ]
    },
    {
     "name": "stdout",
     "output_type": "stream",
     "text": [
      "Saved DataFrame scoring to raw_data\\2023\\Week11\\2023_Week11_WAS_vs_NYG\\scoring.csv\n",
      "Saved DataFrame player_offense to raw_data\\2023\\Week11\\2023_Week11_WAS_vs_NYG\\player_offense.csv\n",
      "Saved DataFrame game_info to raw_data\\2023\\Week11\\2023_Week11_WAS_vs_NYG\\game_info.csv\n",
      "Saved DataFrame officials to raw_data\\2023\\Week11\\2023_Week11_WAS_vs_NYG\\officials.csv\n",
      "Saved DataFrame expected_points to raw_data\\2023\\Week11\\2023_Week11_WAS_vs_NYG\\expected_points.csv\n",
      "Saved DataFrame team_stats to raw_data\\2023\\Week11\\2023_Week11_WAS_vs_NYG\\team_stats.csv\n",
      "Saved DataFrame player_defense to raw_data\\2023\\Week11\\2023_Week11_WAS_vs_NYG\\player_defense.csv\n",
      "Saved DataFrame returns to raw_data\\2023\\Week11\\2023_Week11_WAS_vs_NYG\\returns.csv\n",
      "Saved DataFrame kicking to raw_data\\2023\\Week11\\2023_Week11_WAS_vs_NYG\\kicking.csv\n",
      "Saved DataFrame passing_advanced to raw_data\\2023\\Week11\\2023_Week11_WAS_vs_NYG\\passing_advanced.csv\n",
      "Saved DataFrame rushing_advanced to raw_data\\2023\\Week11\\2023_Week11_WAS_vs_NYG\\rushing_advanced.csv\n",
      "Saved DataFrame receiving_advanced to raw_data\\2023\\Week11\\2023_Week11_WAS_vs_NYG\\receiving_advanced.csv\n",
      "Saved DataFrame defense_advanced to raw_data\\2023\\Week11\\2023_Week11_WAS_vs_NYG\\defense_advanced.csv\n",
      "Saved DataFrame home_starters to raw_data\\2023\\Week11\\2023_Week11_WAS_vs_NYG\\home_starters.csv\n",
      "Saved DataFrame vis_starters to raw_data\\2023\\Week11\\2023_Week11_WAS_vs_NYG\\vis_starters.csv\n",
      "Saved DataFrame home_snap_counts to raw_data\\2023\\Week11\\2023_Week11_WAS_vs_NYG\\home_snap_counts.csv\n",
      "Saved DataFrame vis_snap_counts to raw_data\\2023\\Week11\\2023_Week11_WAS_vs_NYG\\vis_snap_counts.csv\n",
      "Saved DataFrame home_drives to raw_data\\2023\\Week11\\2023_Week11_WAS_vs_NYG\\home_drives.csv\n",
      "Saved DataFrame vis_drives to raw_data\\2023\\Week11\\2023_Week11_WAS_vs_NYG\\vis_drives.csv\n",
      "Saved DataFrame pbp to raw_data\\2023\\Week11\\2023_Week11_WAS_vs_NYG\\pbp.csv\n"
     ]
    },
    {
     "name": "stderr",
     "output_type": "stream",
     "text": [
      "C:\\Users\\jackj\\AppData\\Local\\Temp\\ipykernel_31996\\1469608065.py:49: MarkupResemblesLocatorWarning: The input looks more like a filename than markup. You may want to open this file and pass the filehandle into Beautiful Soup.\n",
      "  comment_soup = BeautifulSoup(comment, 'html.parser')\n"
     ]
    },
    {
     "name": "stdout",
     "output_type": "stream",
     "text": [
      "Saved DataFrame scoring to raw_data\\2023\\Week11\\2023_Week11_SF_vs_TB\\scoring.csv\n",
      "Saved DataFrame player_offense to raw_data\\2023\\Week11\\2023_Week11_SF_vs_TB\\player_offense.csv\n",
      "Saved DataFrame game_info to raw_data\\2023\\Week11\\2023_Week11_SF_vs_TB\\game_info.csv\n",
      "Saved DataFrame officials to raw_data\\2023\\Week11\\2023_Week11_SF_vs_TB\\officials.csv\n",
      "Saved DataFrame expected_points to raw_data\\2023\\Week11\\2023_Week11_SF_vs_TB\\expected_points.csv\n",
      "Saved DataFrame team_stats to raw_data\\2023\\Week11\\2023_Week11_SF_vs_TB\\team_stats.csv\n",
      "Saved DataFrame player_defense to raw_data\\2023\\Week11\\2023_Week11_SF_vs_TB\\player_defense.csv\n",
      "Saved DataFrame returns to raw_data\\2023\\Week11\\2023_Week11_SF_vs_TB\\returns.csv\n",
      "Saved DataFrame kicking to raw_data\\2023\\Week11\\2023_Week11_SF_vs_TB\\kicking.csv\n",
      "Saved DataFrame passing_advanced to raw_data\\2023\\Week11\\2023_Week11_SF_vs_TB\\passing_advanced.csv\n",
      "Saved DataFrame rushing_advanced to raw_data\\2023\\Week11\\2023_Week11_SF_vs_TB\\rushing_advanced.csv\n",
      "Saved DataFrame receiving_advanced to raw_data\\2023\\Week11\\2023_Week11_SF_vs_TB\\receiving_advanced.csv\n",
      "Saved DataFrame defense_advanced to raw_data\\2023\\Week11\\2023_Week11_SF_vs_TB\\defense_advanced.csv\n",
      "Saved DataFrame home_starters to raw_data\\2023\\Week11\\2023_Week11_SF_vs_TB\\home_starters.csv\n",
      "Saved DataFrame vis_starters to raw_data\\2023\\Week11\\2023_Week11_SF_vs_TB\\vis_starters.csv\n",
      "Saved DataFrame home_snap_counts to raw_data\\2023\\Week11\\2023_Week11_SF_vs_TB\\home_snap_counts.csv\n",
      "Saved DataFrame vis_snap_counts to raw_data\\2023\\Week11\\2023_Week11_SF_vs_TB\\vis_snap_counts.csv\n",
      "Saved DataFrame home_drives to raw_data\\2023\\Week11\\2023_Week11_SF_vs_TB\\home_drives.csv\n",
      "Saved DataFrame vis_drives to raw_data\\2023\\Week11\\2023_Week11_SF_vs_TB\\vis_drives.csv\n",
      "Saved DataFrame pbp to raw_data\\2023\\Week11\\2023_Week11_SF_vs_TB\\pbp.csv\n"
     ]
    },
    {
     "name": "stderr",
     "output_type": "stream",
     "text": [
      "C:\\Users\\jackj\\AppData\\Local\\Temp\\ipykernel_31996\\1469608065.py:49: MarkupResemblesLocatorWarning: The input looks more like a filename than markup. You may want to open this file and pass the filehandle into Beautiful Soup.\n",
      "  comment_soup = BeautifulSoup(comment, 'html.parser')\n"
     ]
    },
    {
     "name": "stdout",
     "output_type": "stream",
     "text": [
      "Saved DataFrame scoring to raw_data\\2023\\Week11\\2023_Week11_LAR_vs_SEA\\scoring.csv\n",
      "Saved DataFrame player_offense to raw_data\\2023\\Week11\\2023_Week11_LAR_vs_SEA\\player_offense.csv\n",
      "Saved DataFrame game_info to raw_data\\2023\\Week11\\2023_Week11_LAR_vs_SEA\\game_info.csv\n",
      "Saved DataFrame officials to raw_data\\2023\\Week11\\2023_Week11_LAR_vs_SEA\\officials.csv\n",
      "Saved DataFrame expected_points to raw_data\\2023\\Week11\\2023_Week11_LAR_vs_SEA\\expected_points.csv\n",
      "Saved DataFrame team_stats to raw_data\\2023\\Week11\\2023_Week11_LAR_vs_SEA\\team_stats.csv\n",
      "Saved DataFrame player_defense to raw_data\\2023\\Week11\\2023_Week11_LAR_vs_SEA\\player_defense.csv\n",
      "Saved DataFrame returns to raw_data\\2023\\Week11\\2023_Week11_LAR_vs_SEA\\returns.csv\n",
      "Saved DataFrame kicking to raw_data\\2023\\Week11\\2023_Week11_LAR_vs_SEA\\kicking.csv\n",
      "Saved DataFrame passing_advanced to raw_data\\2023\\Week11\\2023_Week11_LAR_vs_SEA\\passing_advanced.csv\n",
      "Saved DataFrame rushing_advanced to raw_data\\2023\\Week11\\2023_Week11_LAR_vs_SEA\\rushing_advanced.csv\n",
      "Saved DataFrame receiving_advanced to raw_data\\2023\\Week11\\2023_Week11_LAR_vs_SEA\\receiving_advanced.csv\n",
      "Saved DataFrame defense_advanced to raw_data\\2023\\Week11\\2023_Week11_LAR_vs_SEA\\defense_advanced.csv\n",
      "Saved DataFrame home_starters to raw_data\\2023\\Week11\\2023_Week11_LAR_vs_SEA\\home_starters.csv\n",
      "Saved DataFrame vis_starters to raw_data\\2023\\Week11\\2023_Week11_LAR_vs_SEA\\vis_starters.csv\n",
      "Saved DataFrame home_snap_counts to raw_data\\2023\\Week11\\2023_Week11_LAR_vs_SEA\\home_snap_counts.csv\n",
      "Saved DataFrame vis_snap_counts to raw_data\\2023\\Week11\\2023_Week11_LAR_vs_SEA\\vis_snap_counts.csv\n",
      "Saved DataFrame home_drives to raw_data\\2023\\Week11\\2023_Week11_LAR_vs_SEA\\home_drives.csv\n",
      "Saved DataFrame vis_drives to raw_data\\2023\\Week11\\2023_Week11_LAR_vs_SEA\\vis_drives.csv\n",
      "Saved DataFrame pbp to raw_data\\2023\\Week11\\2023_Week11_LAR_vs_SEA\\pbp.csv\n"
     ]
    },
    {
     "name": "stderr",
     "output_type": "stream",
     "text": [
      "C:\\Users\\jackj\\AppData\\Local\\Temp\\ipykernel_31996\\1469608065.py:49: MarkupResemblesLocatorWarning: The input looks more like a filename than markup. You may want to open this file and pass the filehandle into Beautiful Soup.\n",
      "  comment_soup = BeautifulSoup(comment, 'html.parser')\n"
     ]
    },
    {
     "name": "stdout",
     "output_type": "stream",
     "text": [
      "Saved DataFrame scoring to raw_data\\2023\\Week11\\2023_Week11_BUF_vs_NYJ\\scoring.csv\n",
      "Saved DataFrame player_offense to raw_data\\2023\\Week11\\2023_Week11_BUF_vs_NYJ\\player_offense.csv\n",
      "Saved DataFrame game_info to raw_data\\2023\\Week11\\2023_Week11_BUF_vs_NYJ\\game_info.csv\n",
      "Saved DataFrame officials to raw_data\\2023\\Week11\\2023_Week11_BUF_vs_NYJ\\officials.csv\n",
      "Saved DataFrame expected_points to raw_data\\2023\\Week11\\2023_Week11_BUF_vs_NYJ\\expected_points.csv\n",
      "Saved DataFrame team_stats to raw_data\\2023\\Week11\\2023_Week11_BUF_vs_NYJ\\team_stats.csv\n",
      "Saved DataFrame player_defense to raw_data\\2023\\Week11\\2023_Week11_BUF_vs_NYJ\\player_defense.csv\n",
      "Saved DataFrame returns to raw_data\\2023\\Week11\\2023_Week11_BUF_vs_NYJ\\returns.csv\n",
      "Saved DataFrame kicking to raw_data\\2023\\Week11\\2023_Week11_BUF_vs_NYJ\\kicking.csv\n",
      "Saved DataFrame passing_advanced to raw_data\\2023\\Week11\\2023_Week11_BUF_vs_NYJ\\passing_advanced.csv\n",
      "Saved DataFrame rushing_advanced to raw_data\\2023\\Week11\\2023_Week11_BUF_vs_NYJ\\rushing_advanced.csv\n",
      "Saved DataFrame receiving_advanced to raw_data\\2023\\Week11\\2023_Week11_BUF_vs_NYJ\\receiving_advanced.csv\n",
      "Saved DataFrame defense_advanced to raw_data\\2023\\Week11\\2023_Week11_BUF_vs_NYJ\\defense_advanced.csv\n",
      "Saved DataFrame home_starters to raw_data\\2023\\Week11\\2023_Week11_BUF_vs_NYJ\\home_starters.csv\n",
      "Saved DataFrame vis_starters to raw_data\\2023\\Week11\\2023_Week11_BUF_vs_NYJ\\vis_starters.csv\n",
      "Saved DataFrame home_snap_counts to raw_data\\2023\\Week11\\2023_Week11_BUF_vs_NYJ\\home_snap_counts.csv\n",
      "Saved DataFrame vis_snap_counts to raw_data\\2023\\Week11\\2023_Week11_BUF_vs_NYJ\\vis_snap_counts.csv\n",
      "Saved DataFrame home_drives to raw_data\\2023\\Week11\\2023_Week11_BUF_vs_NYJ\\home_drives.csv\n",
      "Saved DataFrame vis_drives to raw_data\\2023\\Week11\\2023_Week11_BUF_vs_NYJ\\vis_drives.csv\n",
      "Saved DataFrame pbp to raw_data\\2023\\Week11\\2023_Week11_BUF_vs_NYJ\\pbp.csv\n"
     ]
    },
    {
     "name": "stderr",
     "output_type": "stream",
     "text": [
      "C:\\Users\\jackj\\AppData\\Local\\Temp\\ipykernel_31996\\1469608065.py:49: MarkupResemblesLocatorWarning: The input looks more like a filename than markup. You may want to open this file and pass the filehandle into Beautiful Soup.\n",
      "  comment_soup = BeautifulSoup(comment, 'html.parser')\n"
     ]
    },
    {
     "name": "stdout",
     "output_type": "stream",
     "text": [
      "Saved DataFrame scoring to raw_data\\2023\\Week11\\2023_Week11_DEN_vs_MIN\\scoring.csv\n",
      "Saved DataFrame player_offense to raw_data\\2023\\Week11\\2023_Week11_DEN_vs_MIN\\player_offense.csv\n",
      "Saved DataFrame game_info to raw_data\\2023\\Week11\\2023_Week11_DEN_vs_MIN\\game_info.csv\n",
      "Saved DataFrame officials to raw_data\\2023\\Week11\\2023_Week11_DEN_vs_MIN\\officials.csv\n",
      "Saved DataFrame expected_points to raw_data\\2023\\Week11\\2023_Week11_DEN_vs_MIN\\expected_points.csv\n",
      "Saved DataFrame team_stats to raw_data\\2023\\Week11\\2023_Week11_DEN_vs_MIN\\team_stats.csv\n",
      "Saved DataFrame player_defense to raw_data\\2023\\Week11\\2023_Week11_DEN_vs_MIN\\player_defense.csv\n",
      "Saved DataFrame returns to raw_data\\2023\\Week11\\2023_Week11_DEN_vs_MIN\\returns.csv\n",
      "Saved DataFrame kicking to raw_data\\2023\\Week11\\2023_Week11_DEN_vs_MIN\\kicking.csv\n",
      "Saved DataFrame passing_advanced to raw_data\\2023\\Week11\\2023_Week11_DEN_vs_MIN\\passing_advanced.csv\n",
      "Saved DataFrame rushing_advanced to raw_data\\2023\\Week11\\2023_Week11_DEN_vs_MIN\\rushing_advanced.csv\n",
      "Saved DataFrame receiving_advanced to raw_data\\2023\\Week11\\2023_Week11_DEN_vs_MIN\\receiving_advanced.csv\n",
      "Saved DataFrame defense_advanced to raw_data\\2023\\Week11\\2023_Week11_DEN_vs_MIN\\defense_advanced.csv\n",
      "Saved DataFrame home_starters to raw_data\\2023\\Week11\\2023_Week11_DEN_vs_MIN\\home_starters.csv\n",
      "Saved DataFrame vis_starters to raw_data\\2023\\Week11\\2023_Week11_DEN_vs_MIN\\vis_starters.csv\n",
      "Saved DataFrame home_snap_counts to raw_data\\2023\\Week11\\2023_Week11_DEN_vs_MIN\\home_snap_counts.csv\n",
      "Saved DataFrame vis_snap_counts to raw_data\\2023\\Week11\\2023_Week11_DEN_vs_MIN\\vis_snap_counts.csv\n",
      "Saved DataFrame home_drives to raw_data\\2023\\Week11\\2023_Week11_DEN_vs_MIN\\home_drives.csv\n",
      "Saved DataFrame vis_drives to raw_data\\2023\\Week11\\2023_Week11_DEN_vs_MIN\\vis_drives.csv\n",
      "Saved DataFrame pbp to raw_data\\2023\\Week11\\2023_Week11_DEN_vs_MIN\\pbp.csv\n"
     ]
    },
    {
     "name": "stderr",
     "output_type": "stream",
     "text": [
      "C:\\Users\\jackj\\AppData\\Local\\Temp\\ipykernel_31996\\1469608065.py:49: MarkupResemblesLocatorWarning: The input looks more like a filename than markup. You may want to open this file and pass the filehandle into Beautiful Soup.\n",
      "  comment_soup = BeautifulSoup(comment, 'html.parser')\n"
     ]
    },
    {
     "name": "stdout",
     "output_type": "stream",
     "text": [
      "Saved DataFrame scoring to raw_data\\2023\\Week11\\2023_Week11_KC_vs_PHI\\scoring.csv\n",
      "Saved DataFrame player_offense to raw_data\\2023\\Week11\\2023_Week11_KC_vs_PHI\\player_offense.csv\n",
      "Saved DataFrame game_info to raw_data\\2023\\Week11\\2023_Week11_KC_vs_PHI\\game_info.csv\n",
      "Saved DataFrame officials to raw_data\\2023\\Week11\\2023_Week11_KC_vs_PHI\\officials.csv\n",
      "Saved DataFrame expected_points to raw_data\\2023\\Week11\\2023_Week11_KC_vs_PHI\\expected_points.csv\n",
      "Saved DataFrame team_stats to raw_data\\2023\\Week11\\2023_Week11_KC_vs_PHI\\team_stats.csv\n",
      "Saved DataFrame player_defense to raw_data\\2023\\Week11\\2023_Week11_KC_vs_PHI\\player_defense.csv\n",
      "Saved DataFrame returns to raw_data\\2023\\Week11\\2023_Week11_KC_vs_PHI\\returns.csv\n",
      "Saved DataFrame kicking to raw_data\\2023\\Week11\\2023_Week11_KC_vs_PHI\\kicking.csv\n",
      "Saved DataFrame passing_advanced to raw_data\\2023\\Week11\\2023_Week11_KC_vs_PHI\\passing_advanced.csv\n",
      "Saved DataFrame rushing_advanced to raw_data\\2023\\Week11\\2023_Week11_KC_vs_PHI\\rushing_advanced.csv\n",
      "Saved DataFrame receiving_advanced to raw_data\\2023\\Week11\\2023_Week11_KC_vs_PHI\\receiving_advanced.csv\n",
      "Saved DataFrame defense_advanced to raw_data\\2023\\Week11\\2023_Week11_KC_vs_PHI\\defense_advanced.csv\n",
      "Saved DataFrame home_starters to raw_data\\2023\\Week11\\2023_Week11_KC_vs_PHI\\home_starters.csv\n",
      "Saved DataFrame vis_starters to raw_data\\2023\\Week11\\2023_Week11_KC_vs_PHI\\vis_starters.csv\n",
      "Saved DataFrame home_snap_counts to raw_data\\2023\\Week11\\2023_Week11_KC_vs_PHI\\home_snap_counts.csv\n",
      "Saved DataFrame vis_snap_counts to raw_data\\2023\\Week11\\2023_Week11_KC_vs_PHI\\vis_snap_counts.csv\n",
      "Saved DataFrame home_drives to raw_data\\2023\\Week11\\2023_Week11_KC_vs_PHI\\home_drives.csv\n",
      "Saved DataFrame vis_drives to raw_data\\2023\\Week11\\2023_Week11_KC_vs_PHI\\vis_drives.csv\n",
      "Saved DataFrame pbp to raw_data\\2023\\Week11\\2023_Week11_KC_vs_PHI\\pbp.csv\n"
     ]
    },
    {
     "name": "stderr",
     "output_type": "stream",
     "text": [
      "C:\\Users\\jackj\\AppData\\Local\\Temp\\ipykernel_31996\\1469608065.py:49: MarkupResemblesLocatorWarning: The input looks more like a filename than markup. You may want to open this file and pass the filehandle into Beautiful Soup.\n",
      "  comment_soup = BeautifulSoup(comment, 'html.parser')\n"
     ]
    },
    {
     "name": "stdout",
     "output_type": "stream",
     "text": [
      "Saved DataFrame scoring to raw_data\\2023\\Week12\\2023_Week12_DET_vs_GB\\scoring.csv\n",
      "Saved DataFrame player_offense to raw_data\\2023\\Week12\\2023_Week12_DET_vs_GB\\player_offense.csv\n",
      "Saved DataFrame game_info to raw_data\\2023\\Week12\\2023_Week12_DET_vs_GB\\game_info.csv\n",
      "Saved DataFrame officials to raw_data\\2023\\Week12\\2023_Week12_DET_vs_GB\\officials.csv\n",
      "Saved DataFrame expected_points to raw_data\\2023\\Week12\\2023_Week12_DET_vs_GB\\expected_points.csv\n",
      "Saved DataFrame team_stats to raw_data\\2023\\Week12\\2023_Week12_DET_vs_GB\\team_stats.csv\n",
      "Saved DataFrame player_defense to raw_data\\2023\\Week12\\2023_Week12_DET_vs_GB\\player_defense.csv\n",
      "Saved DataFrame returns to raw_data\\2023\\Week12\\2023_Week12_DET_vs_GB\\returns.csv\n",
      "Saved DataFrame kicking to raw_data\\2023\\Week12\\2023_Week12_DET_vs_GB\\kicking.csv\n",
      "Saved DataFrame passing_advanced to raw_data\\2023\\Week12\\2023_Week12_DET_vs_GB\\passing_advanced.csv\n",
      "Saved DataFrame rushing_advanced to raw_data\\2023\\Week12\\2023_Week12_DET_vs_GB\\rushing_advanced.csv\n",
      "Saved DataFrame receiving_advanced to raw_data\\2023\\Week12\\2023_Week12_DET_vs_GB\\receiving_advanced.csv\n",
      "Saved DataFrame defense_advanced to raw_data\\2023\\Week12\\2023_Week12_DET_vs_GB\\defense_advanced.csv\n",
      "Saved DataFrame home_starters to raw_data\\2023\\Week12\\2023_Week12_DET_vs_GB\\home_starters.csv\n",
      "Saved DataFrame vis_starters to raw_data\\2023\\Week12\\2023_Week12_DET_vs_GB\\vis_starters.csv\n",
      "Saved DataFrame home_snap_counts to raw_data\\2023\\Week12\\2023_Week12_DET_vs_GB\\home_snap_counts.csv\n",
      "Saved DataFrame vis_snap_counts to raw_data\\2023\\Week12\\2023_Week12_DET_vs_GB\\vis_snap_counts.csv\n",
      "Saved DataFrame home_drives to raw_data\\2023\\Week12\\2023_Week12_DET_vs_GB\\home_drives.csv\n",
      "Saved DataFrame vis_drives to raw_data\\2023\\Week12\\2023_Week12_DET_vs_GB\\vis_drives.csv\n",
      "Saved DataFrame pbp to raw_data\\2023\\Week12\\2023_Week12_DET_vs_GB\\pbp.csv\n"
     ]
    },
    {
     "name": "stderr",
     "output_type": "stream",
     "text": [
      "C:\\Users\\jackj\\AppData\\Local\\Temp\\ipykernel_31996\\1469608065.py:49: MarkupResemblesLocatorWarning: The input looks more like a filename than markup. You may want to open this file and pass the filehandle into Beautiful Soup.\n",
      "  comment_soup = BeautifulSoup(comment, 'html.parser')\n"
     ]
    },
    {
     "name": "stdout",
     "output_type": "stream",
     "text": [
      "Saved DataFrame scoring to raw_data\\2023\\Week12\\2023_Week12_DAL_vs_WAS\\scoring.csv\n",
      "Saved DataFrame player_offense to raw_data\\2023\\Week12\\2023_Week12_DAL_vs_WAS\\player_offense.csv\n",
      "Saved DataFrame game_info to raw_data\\2023\\Week12\\2023_Week12_DAL_vs_WAS\\game_info.csv\n",
      "Saved DataFrame officials to raw_data\\2023\\Week12\\2023_Week12_DAL_vs_WAS\\officials.csv\n",
      "Saved DataFrame expected_points to raw_data\\2023\\Week12\\2023_Week12_DAL_vs_WAS\\expected_points.csv\n",
      "Saved DataFrame team_stats to raw_data\\2023\\Week12\\2023_Week12_DAL_vs_WAS\\team_stats.csv\n",
      "Saved DataFrame player_defense to raw_data\\2023\\Week12\\2023_Week12_DAL_vs_WAS\\player_defense.csv\n",
      "Saved DataFrame returns to raw_data\\2023\\Week12\\2023_Week12_DAL_vs_WAS\\returns.csv\n",
      "Saved DataFrame kicking to raw_data\\2023\\Week12\\2023_Week12_DAL_vs_WAS\\kicking.csv\n",
      "Saved DataFrame passing_advanced to raw_data\\2023\\Week12\\2023_Week12_DAL_vs_WAS\\passing_advanced.csv\n",
      "Saved DataFrame rushing_advanced to raw_data\\2023\\Week12\\2023_Week12_DAL_vs_WAS\\rushing_advanced.csv\n",
      "Saved DataFrame receiving_advanced to raw_data\\2023\\Week12\\2023_Week12_DAL_vs_WAS\\receiving_advanced.csv\n",
      "Saved DataFrame defense_advanced to raw_data\\2023\\Week12\\2023_Week12_DAL_vs_WAS\\defense_advanced.csv\n",
      "Saved DataFrame home_starters to raw_data\\2023\\Week12\\2023_Week12_DAL_vs_WAS\\home_starters.csv\n",
      "Saved DataFrame vis_starters to raw_data\\2023\\Week12\\2023_Week12_DAL_vs_WAS\\vis_starters.csv\n",
      "Saved DataFrame home_snap_counts to raw_data\\2023\\Week12\\2023_Week12_DAL_vs_WAS\\home_snap_counts.csv\n",
      "Saved DataFrame vis_snap_counts to raw_data\\2023\\Week12\\2023_Week12_DAL_vs_WAS\\vis_snap_counts.csv\n",
      "Saved DataFrame home_drives to raw_data\\2023\\Week12\\2023_Week12_DAL_vs_WAS\\home_drives.csv\n",
      "Saved DataFrame vis_drives to raw_data\\2023\\Week12\\2023_Week12_DAL_vs_WAS\\vis_drives.csv\n",
      "Saved DataFrame pbp to raw_data\\2023\\Week12\\2023_Week12_DAL_vs_WAS\\pbp.csv\n"
     ]
    },
    {
     "name": "stderr",
     "output_type": "stream",
     "text": [
      "C:\\Users\\jackj\\AppData\\Local\\Temp\\ipykernel_31996\\1469608065.py:49: MarkupResemblesLocatorWarning: The input looks more like a filename than markup. You may want to open this file and pass the filehandle into Beautiful Soup.\n",
      "  comment_soup = BeautifulSoup(comment, 'html.parser')\n"
     ]
    },
    {
     "name": "stdout",
     "output_type": "stream",
     "text": [
      "Saved DataFrame scoring to raw_data\\2023\\Week12\\2023_Week12_SEA_vs_SF\\scoring.csv\n",
      "Saved DataFrame player_offense to raw_data\\2023\\Week12\\2023_Week12_SEA_vs_SF\\player_offense.csv\n",
      "Saved DataFrame game_info to raw_data\\2023\\Week12\\2023_Week12_SEA_vs_SF\\game_info.csv\n",
      "Saved DataFrame officials to raw_data\\2023\\Week12\\2023_Week12_SEA_vs_SF\\officials.csv\n",
      "Saved DataFrame expected_points to raw_data\\2023\\Week12\\2023_Week12_SEA_vs_SF\\expected_points.csv\n",
      "Saved DataFrame team_stats to raw_data\\2023\\Week12\\2023_Week12_SEA_vs_SF\\team_stats.csv\n",
      "Saved DataFrame player_defense to raw_data\\2023\\Week12\\2023_Week12_SEA_vs_SF\\player_defense.csv\n",
      "Saved DataFrame returns to raw_data\\2023\\Week12\\2023_Week12_SEA_vs_SF\\returns.csv\n",
      "Saved DataFrame kicking to raw_data\\2023\\Week12\\2023_Week12_SEA_vs_SF\\kicking.csv\n",
      "Saved DataFrame passing_advanced to raw_data\\2023\\Week12\\2023_Week12_SEA_vs_SF\\passing_advanced.csv\n",
      "Saved DataFrame rushing_advanced to raw_data\\2023\\Week12\\2023_Week12_SEA_vs_SF\\rushing_advanced.csv\n",
      "Saved DataFrame receiving_advanced to raw_data\\2023\\Week12\\2023_Week12_SEA_vs_SF\\receiving_advanced.csv\n",
      "Saved DataFrame defense_advanced to raw_data\\2023\\Week12\\2023_Week12_SEA_vs_SF\\defense_advanced.csv\n",
      "Saved DataFrame home_starters to raw_data\\2023\\Week12\\2023_Week12_SEA_vs_SF\\home_starters.csv\n",
      "Saved DataFrame vis_starters to raw_data\\2023\\Week12\\2023_Week12_SEA_vs_SF\\vis_starters.csv\n",
      "Saved DataFrame home_snap_counts to raw_data\\2023\\Week12\\2023_Week12_SEA_vs_SF\\home_snap_counts.csv\n",
      "Saved DataFrame vis_snap_counts to raw_data\\2023\\Week12\\2023_Week12_SEA_vs_SF\\vis_snap_counts.csv\n",
      "Saved DataFrame home_drives to raw_data\\2023\\Week12\\2023_Week12_SEA_vs_SF\\home_drives.csv\n",
      "Saved DataFrame vis_drives to raw_data\\2023\\Week12\\2023_Week12_SEA_vs_SF\\vis_drives.csv\n",
      "Saved DataFrame pbp to raw_data\\2023\\Week12\\2023_Week12_SEA_vs_SF\\pbp.csv\n"
     ]
    },
    {
     "name": "stderr",
     "output_type": "stream",
     "text": [
      "C:\\Users\\jackj\\AppData\\Local\\Temp\\ipykernel_31996\\1469608065.py:49: MarkupResemblesLocatorWarning: The input looks more like a filename than markup. You may want to open this file and pass the filehandle into Beautiful Soup.\n",
      "  comment_soup = BeautifulSoup(comment, 'html.parser')\n"
     ]
    },
    {
     "name": "stdout",
     "output_type": "stream",
     "text": [
      "Saved DataFrame scoring to raw_data\\2023\\Week12\\2023_Week12_NYJ_vs_MIA\\scoring.csv\n",
      "Saved DataFrame player_offense to raw_data\\2023\\Week12\\2023_Week12_NYJ_vs_MIA\\player_offense.csv\n",
      "Saved DataFrame game_info to raw_data\\2023\\Week12\\2023_Week12_NYJ_vs_MIA\\game_info.csv\n",
      "Saved DataFrame officials to raw_data\\2023\\Week12\\2023_Week12_NYJ_vs_MIA\\officials.csv\n",
      "Saved DataFrame expected_points to raw_data\\2023\\Week12\\2023_Week12_NYJ_vs_MIA\\expected_points.csv\n",
      "Saved DataFrame team_stats to raw_data\\2023\\Week12\\2023_Week12_NYJ_vs_MIA\\team_stats.csv\n",
      "Saved DataFrame player_defense to raw_data\\2023\\Week12\\2023_Week12_NYJ_vs_MIA\\player_defense.csv\n",
      "Saved DataFrame returns to raw_data\\2023\\Week12\\2023_Week12_NYJ_vs_MIA\\returns.csv\n",
      "Saved DataFrame kicking to raw_data\\2023\\Week12\\2023_Week12_NYJ_vs_MIA\\kicking.csv\n",
      "Saved DataFrame passing_advanced to raw_data\\2023\\Week12\\2023_Week12_NYJ_vs_MIA\\passing_advanced.csv\n",
      "Saved DataFrame rushing_advanced to raw_data\\2023\\Week12\\2023_Week12_NYJ_vs_MIA\\rushing_advanced.csv\n",
      "Saved DataFrame receiving_advanced to raw_data\\2023\\Week12\\2023_Week12_NYJ_vs_MIA\\receiving_advanced.csv\n",
      "Saved DataFrame defense_advanced to raw_data\\2023\\Week12\\2023_Week12_NYJ_vs_MIA\\defense_advanced.csv\n",
      "Saved DataFrame home_starters to raw_data\\2023\\Week12\\2023_Week12_NYJ_vs_MIA\\home_starters.csv\n",
      "Saved DataFrame vis_starters to raw_data\\2023\\Week12\\2023_Week12_NYJ_vs_MIA\\vis_starters.csv\n",
      "Saved DataFrame home_snap_counts to raw_data\\2023\\Week12\\2023_Week12_NYJ_vs_MIA\\home_snap_counts.csv\n",
      "Saved DataFrame vis_snap_counts to raw_data\\2023\\Week12\\2023_Week12_NYJ_vs_MIA\\vis_snap_counts.csv\n",
      "Saved DataFrame home_drives to raw_data\\2023\\Week12\\2023_Week12_NYJ_vs_MIA\\home_drives.csv\n",
      "Saved DataFrame vis_drives to raw_data\\2023\\Week12\\2023_Week12_NYJ_vs_MIA\\vis_drives.csv\n",
      "Saved DataFrame pbp to raw_data\\2023\\Week12\\2023_Week12_NYJ_vs_MIA\\pbp.csv\n"
     ]
    },
    {
     "name": "stderr",
     "output_type": "stream",
     "text": [
      "C:\\Users\\jackj\\AppData\\Local\\Temp\\ipykernel_31996\\1469608065.py:49: MarkupResemblesLocatorWarning: The input looks more like a filename than markup. You may want to open this file and pass the filehandle into Beautiful Soup.\n",
      "  comment_soup = BeautifulSoup(comment, 'html.parser')\n"
     ]
    },
    {
     "name": "stdout",
     "output_type": "stream",
     "text": [
      "Saved DataFrame scoring to raw_data\\2023\\Week12\\2023_Week12_ATL_vs_NO\\scoring.csv\n",
      "Saved DataFrame player_offense to raw_data\\2023\\Week12\\2023_Week12_ATL_vs_NO\\player_offense.csv\n",
      "Saved DataFrame game_info to raw_data\\2023\\Week12\\2023_Week12_ATL_vs_NO\\game_info.csv\n",
      "Saved DataFrame officials to raw_data\\2023\\Week12\\2023_Week12_ATL_vs_NO\\officials.csv\n",
      "Saved DataFrame expected_points to raw_data\\2023\\Week12\\2023_Week12_ATL_vs_NO\\expected_points.csv\n",
      "Saved DataFrame team_stats to raw_data\\2023\\Week12\\2023_Week12_ATL_vs_NO\\team_stats.csv\n",
      "Saved DataFrame player_defense to raw_data\\2023\\Week12\\2023_Week12_ATL_vs_NO\\player_defense.csv\n",
      "Saved DataFrame returns to raw_data\\2023\\Week12\\2023_Week12_ATL_vs_NO\\returns.csv\n",
      "Saved DataFrame kicking to raw_data\\2023\\Week12\\2023_Week12_ATL_vs_NO\\kicking.csv\n",
      "Saved DataFrame passing_advanced to raw_data\\2023\\Week12\\2023_Week12_ATL_vs_NO\\passing_advanced.csv\n",
      "Saved DataFrame rushing_advanced to raw_data\\2023\\Week12\\2023_Week12_ATL_vs_NO\\rushing_advanced.csv\n",
      "Saved DataFrame receiving_advanced to raw_data\\2023\\Week12\\2023_Week12_ATL_vs_NO\\receiving_advanced.csv\n",
      "Saved DataFrame defense_advanced to raw_data\\2023\\Week12\\2023_Week12_ATL_vs_NO\\defense_advanced.csv\n",
      "Saved DataFrame home_starters to raw_data\\2023\\Week12\\2023_Week12_ATL_vs_NO\\home_starters.csv\n",
      "Saved DataFrame vis_starters to raw_data\\2023\\Week12\\2023_Week12_ATL_vs_NO\\vis_starters.csv\n",
      "Saved DataFrame home_snap_counts to raw_data\\2023\\Week12\\2023_Week12_ATL_vs_NO\\home_snap_counts.csv\n",
      "Saved DataFrame vis_snap_counts to raw_data\\2023\\Week12\\2023_Week12_ATL_vs_NO\\vis_snap_counts.csv\n",
      "Saved DataFrame home_drives to raw_data\\2023\\Week12\\2023_Week12_ATL_vs_NO\\home_drives.csv\n",
      "Saved DataFrame vis_drives to raw_data\\2023\\Week12\\2023_Week12_ATL_vs_NO\\vis_drives.csv\n",
      "Saved DataFrame pbp to raw_data\\2023\\Week12\\2023_Week12_ATL_vs_NO\\pbp.csv\n"
     ]
    },
    {
     "name": "stderr",
     "output_type": "stream",
     "text": [
      "C:\\Users\\jackj\\AppData\\Local\\Temp\\ipykernel_31996\\1469608065.py:49: MarkupResemblesLocatorWarning: The input looks more like a filename than markup. You may want to open this file and pass the filehandle into Beautiful Soup.\n",
      "  comment_soup = BeautifulSoup(comment, 'html.parser')\n"
     ]
    },
    {
     "name": "stdout",
     "output_type": "stream",
     "text": [
      "Saved DataFrame scoring to raw_data\\2023\\Week12\\2023_Week12_TEN_vs_CAR\\scoring.csv\n",
      "Saved DataFrame player_offense to raw_data\\2023\\Week12\\2023_Week12_TEN_vs_CAR\\player_offense.csv\n",
      "Saved DataFrame game_info to raw_data\\2023\\Week12\\2023_Week12_TEN_vs_CAR\\game_info.csv\n",
      "Saved DataFrame officials to raw_data\\2023\\Week12\\2023_Week12_TEN_vs_CAR\\officials.csv\n",
      "Saved DataFrame expected_points to raw_data\\2023\\Week12\\2023_Week12_TEN_vs_CAR\\expected_points.csv\n",
      "Saved DataFrame team_stats to raw_data\\2023\\Week12\\2023_Week12_TEN_vs_CAR\\team_stats.csv\n",
      "Saved DataFrame player_defense to raw_data\\2023\\Week12\\2023_Week12_TEN_vs_CAR\\player_defense.csv\n",
      "Saved DataFrame returns to raw_data\\2023\\Week12\\2023_Week12_TEN_vs_CAR\\returns.csv\n",
      "Saved DataFrame kicking to raw_data\\2023\\Week12\\2023_Week12_TEN_vs_CAR\\kicking.csv\n",
      "Saved DataFrame passing_advanced to raw_data\\2023\\Week12\\2023_Week12_TEN_vs_CAR\\passing_advanced.csv\n",
      "Saved DataFrame rushing_advanced to raw_data\\2023\\Week12\\2023_Week12_TEN_vs_CAR\\rushing_advanced.csv\n",
      "Saved DataFrame receiving_advanced to raw_data\\2023\\Week12\\2023_Week12_TEN_vs_CAR\\receiving_advanced.csv\n",
      "Saved DataFrame defense_advanced to raw_data\\2023\\Week12\\2023_Week12_TEN_vs_CAR\\defense_advanced.csv\n",
      "Saved DataFrame home_starters to raw_data\\2023\\Week12\\2023_Week12_TEN_vs_CAR\\home_starters.csv\n",
      "Saved DataFrame vis_starters to raw_data\\2023\\Week12\\2023_Week12_TEN_vs_CAR\\vis_starters.csv\n",
      "Saved DataFrame home_snap_counts to raw_data\\2023\\Week12\\2023_Week12_TEN_vs_CAR\\home_snap_counts.csv\n",
      "Saved DataFrame vis_snap_counts to raw_data\\2023\\Week12\\2023_Week12_TEN_vs_CAR\\vis_snap_counts.csv\n",
      "Saved DataFrame home_drives to raw_data\\2023\\Week12\\2023_Week12_TEN_vs_CAR\\home_drives.csv\n",
      "Saved DataFrame vis_drives to raw_data\\2023\\Week12\\2023_Week12_TEN_vs_CAR\\vis_drives.csv\n",
      "Saved DataFrame pbp to raw_data\\2023\\Week12\\2023_Week12_TEN_vs_CAR\\pbp.csv\n"
     ]
    },
    {
     "name": "stderr",
     "output_type": "stream",
     "text": [
      "C:\\Users\\jackj\\AppData\\Local\\Temp\\ipykernel_31996\\1469608065.py:49: MarkupResemblesLocatorWarning: The input looks more like a filename than markup. You may want to open this file and pass the filehandle into Beautiful Soup.\n",
      "  comment_soup = BeautifulSoup(comment, 'html.parser')\n"
     ]
    },
    {
     "name": "stdout",
     "output_type": "stream",
     "text": [
      "Saved DataFrame scoring to raw_data\\2023\\Week12\\2023_Week12_CIN_vs_PIT\\scoring.csv\n",
      "Saved DataFrame player_offense to raw_data\\2023\\Week12\\2023_Week12_CIN_vs_PIT\\player_offense.csv\n",
      "Saved DataFrame game_info to raw_data\\2023\\Week12\\2023_Week12_CIN_vs_PIT\\game_info.csv\n",
      "Saved DataFrame officials to raw_data\\2023\\Week12\\2023_Week12_CIN_vs_PIT\\officials.csv\n",
      "Saved DataFrame expected_points to raw_data\\2023\\Week12\\2023_Week12_CIN_vs_PIT\\expected_points.csv\n",
      "Saved DataFrame team_stats to raw_data\\2023\\Week12\\2023_Week12_CIN_vs_PIT\\team_stats.csv\n",
      "Saved DataFrame player_defense to raw_data\\2023\\Week12\\2023_Week12_CIN_vs_PIT\\player_defense.csv\n",
      "Saved DataFrame returns to raw_data\\2023\\Week12\\2023_Week12_CIN_vs_PIT\\returns.csv\n",
      "Saved DataFrame kicking to raw_data\\2023\\Week12\\2023_Week12_CIN_vs_PIT\\kicking.csv\n",
      "Saved DataFrame passing_advanced to raw_data\\2023\\Week12\\2023_Week12_CIN_vs_PIT\\passing_advanced.csv\n",
      "Saved DataFrame rushing_advanced to raw_data\\2023\\Week12\\2023_Week12_CIN_vs_PIT\\rushing_advanced.csv\n",
      "Saved DataFrame receiving_advanced to raw_data\\2023\\Week12\\2023_Week12_CIN_vs_PIT\\receiving_advanced.csv\n",
      "Saved DataFrame defense_advanced to raw_data\\2023\\Week12\\2023_Week12_CIN_vs_PIT\\defense_advanced.csv\n",
      "Saved DataFrame home_starters to raw_data\\2023\\Week12\\2023_Week12_CIN_vs_PIT\\home_starters.csv\n",
      "Saved DataFrame vis_starters to raw_data\\2023\\Week12\\2023_Week12_CIN_vs_PIT\\vis_starters.csv\n",
      "Saved DataFrame home_snap_counts to raw_data\\2023\\Week12\\2023_Week12_CIN_vs_PIT\\home_snap_counts.csv\n",
      "Saved DataFrame vis_snap_counts to raw_data\\2023\\Week12\\2023_Week12_CIN_vs_PIT\\vis_snap_counts.csv\n",
      "Saved DataFrame home_drives to raw_data\\2023\\Week12\\2023_Week12_CIN_vs_PIT\\home_drives.csv\n",
      "Saved DataFrame vis_drives to raw_data\\2023\\Week12\\2023_Week12_CIN_vs_PIT\\vis_drives.csv\n",
      "Saved DataFrame pbp to raw_data\\2023\\Week12\\2023_Week12_CIN_vs_PIT\\pbp.csv\n",
      "Reached 20 requests, sleeping for 60 seconds...\n"
     ]
    },
    {
     "name": "stderr",
     "output_type": "stream",
     "text": [
      "C:\\Users\\jackj\\AppData\\Local\\Temp\\ipykernel_31996\\1469608065.py:49: MarkupResemblesLocatorWarning: The input looks more like a filename than markup. You may want to open this file and pass the filehandle into Beautiful Soup.\n",
      "  comment_soup = BeautifulSoup(comment, 'html.parser')\n"
     ]
    },
    {
     "name": "stdout",
     "output_type": "stream",
     "text": [
      "Saved DataFrame scoring to raw_data\\2023\\Week12\\2023_Week12_IND_vs_TB\\scoring.csv\n",
      "Saved DataFrame player_offense to raw_data\\2023\\Week12\\2023_Week12_IND_vs_TB\\player_offense.csv\n",
      "Saved DataFrame game_info to raw_data\\2023\\Week12\\2023_Week12_IND_vs_TB\\game_info.csv\n",
      "Saved DataFrame officials to raw_data\\2023\\Week12\\2023_Week12_IND_vs_TB\\officials.csv\n",
      "Saved DataFrame expected_points to raw_data\\2023\\Week12\\2023_Week12_IND_vs_TB\\expected_points.csv\n",
      "Saved DataFrame team_stats to raw_data\\2023\\Week12\\2023_Week12_IND_vs_TB\\team_stats.csv\n",
      "Saved DataFrame player_defense to raw_data\\2023\\Week12\\2023_Week12_IND_vs_TB\\player_defense.csv\n",
      "Saved DataFrame returns to raw_data\\2023\\Week12\\2023_Week12_IND_vs_TB\\returns.csv\n",
      "Saved DataFrame kicking to raw_data\\2023\\Week12\\2023_Week12_IND_vs_TB\\kicking.csv\n",
      "Saved DataFrame passing_advanced to raw_data\\2023\\Week12\\2023_Week12_IND_vs_TB\\passing_advanced.csv\n",
      "Saved DataFrame rushing_advanced to raw_data\\2023\\Week12\\2023_Week12_IND_vs_TB\\rushing_advanced.csv\n",
      "Saved DataFrame receiving_advanced to raw_data\\2023\\Week12\\2023_Week12_IND_vs_TB\\receiving_advanced.csv\n",
      "Saved DataFrame defense_advanced to raw_data\\2023\\Week12\\2023_Week12_IND_vs_TB\\defense_advanced.csv\n",
      "Saved DataFrame home_starters to raw_data\\2023\\Week12\\2023_Week12_IND_vs_TB\\home_starters.csv\n",
      "Saved DataFrame vis_starters to raw_data\\2023\\Week12\\2023_Week12_IND_vs_TB\\vis_starters.csv\n",
      "Saved DataFrame home_snap_counts to raw_data\\2023\\Week12\\2023_Week12_IND_vs_TB\\home_snap_counts.csv\n",
      "Saved DataFrame vis_snap_counts to raw_data\\2023\\Week12\\2023_Week12_IND_vs_TB\\vis_snap_counts.csv\n",
      "Saved DataFrame home_drives to raw_data\\2023\\Week12\\2023_Week12_IND_vs_TB\\home_drives.csv\n",
      "Saved DataFrame vis_drives to raw_data\\2023\\Week12\\2023_Week12_IND_vs_TB\\vis_drives.csv\n",
      "Saved DataFrame pbp to raw_data\\2023\\Week12\\2023_Week12_IND_vs_TB\\pbp.csv\n"
     ]
    },
    {
     "name": "stderr",
     "output_type": "stream",
     "text": [
      "C:\\Users\\jackj\\AppData\\Local\\Temp\\ipykernel_31996\\1469608065.py:49: MarkupResemblesLocatorWarning: The input looks more like a filename than markup. You may want to open this file and pass the filehandle into Beautiful Soup.\n",
      "  comment_soup = BeautifulSoup(comment, 'html.parser')\n"
     ]
    },
    {
     "name": "stdout",
     "output_type": "stream",
     "text": [
      "Saved DataFrame scoring to raw_data\\2023\\Week12\\2023_Week12_HOU_vs_JAX\\scoring.csv\n",
      "Saved DataFrame player_offense to raw_data\\2023\\Week12\\2023_Week12_HOU_vs_JAX\\player_offense.csv\n",
      "Saved DataFrame game_info to raw_data\\2023\\Week12\\2023_Week12_HOU_vs_JAX\\game_info.csv\n",
      "Saved DataFrame officials to raw_data\\2023\\Week12\\2023_Week12_HOU_vs_JAX\\officials.csv\n",
      "Saved DataFrame expected_points to raw_data\\2023\\Week12\\2023_Week12_HOU_vs_JAX\\expected_points.csv\n",
      "Saved DataFrame team_stats to raw_data\\2023\\Week12\\2023_Week12_HOU_vs_JAX\\team_stats.csv\n",
      "Saved DataFrame player_defense to raw_data\\2023\\Week12\\2023_Week12_HOU_vs_JAX\\player_defense.csv\n",
      "Saved DataFrame returns to raw_data\\2023\\Week12\\2023_Week12_HOU_vs_JAX\\returns.csv\n",
      "Saved DataFrame kicking to raw_data\\2023\\Week12\\2023_Week12_HOU_vs_JAX\\kicking.csv\n",
      "Saved DataFrame passing_advanced to raw_data\\2023\\Week12\\2023_Week12_HOU_vs_JAX\\passing_advanced.csv\n",
      "Saved DataFrame rushing_advanced to raw_data\\2023\\Week12\\2023_Week12_HOU_vs_JAX\\rushing_advanced.csv\n",
      "Saved DataFrame receiving_advanced to raw_data\\2023\\Week12\\2023_Week12_HOU_vs_JAX\\receiving_advanced.csv\n",
      "Saved DataFrame defense_advanced to raw_data\\2023\\Week12\\2023_Week12_HOU_vs_JAX\\defense_advanced.csv\n",
      "Saved DataFrame home_starters to raw_data\\2023\\Week12\\2023_Week12_HOU_vs_JAX\\home_starters.csv\n",
      "Saved DataFrame vis_starters to raw_data\\2023\\Week12\\2023_Week12_HOU_vs_JAX\\vis_starters.csv\n",
      "Saved DataFrame home_snap_counts to raw_data\\2023\\Week12\\2023_Week12_HOU_vs_JAX\\home_snap_counts.csv\n",
      "Saved DataFrame vis_snap_counts to raw_data\\2023\\Week12\\2023_Week12_HOU_vs_JAX\\vis_snap_counts.csv\n",
      "Saved DataFrame home_drives to raw_data\\2023\\Week12\\2023_Week12_HOU_vs_JAX\\home_drives.csv\n",
      "Saved DataFrame vis_drives to raw_data\\2023\\Week12\\2023_Week12_HOU_vs_JAX\\vis_drives.csv\n",
      "Saved DataFrame pbp to raw_data\\2023\\Week12\\2023_Week12_HOU_vs_JAX\\pbp.csv\n"
     ]
    },
    {
     "name": "stderr",
     "output_type": "stream",
     "text": [
      "C:\\Users\\jackj\\AppData\\Local\\Temp\\ipykernel_31996\\1469608065.py:49: MarkupResemblesLocatorWarning: The input looks more like a filename than markup. You may want to open this file and pass the filehandle into Beautiful Soup.\n",
      "  comment_soup = BeautifulSoup(comment, 'html.parser')\n"
     ]
    },
    {
     "name": "stdout",
     "output_type": "stream",
     "text": [
      "Saved DataFrame scoring to raw_data\\2023\\Week12\\2023_Week12_NYG_vs_NE\\scoring.csv\n",
      "Saved DataFrame player_offense to raw_data\\2023\\Week12\\2023_Week12_NYG_vs_NE\\player_offense.csv\n",
      "Saved DataFrame game_info to raw_data\\2023\\Week12\\2023_Week12_NYG_vs_NE\\game_info.csv\n",
      "Saved DataFrame officials to raw_data\\2023\\Week12\\2023_Week12_NYG_vs_NE\\officials.csv\n",
      "Saved DataFrame expected_points to raw_data\\2023\\Week12\\2023_Week12_NYG_vs_NE\\expected_points.csv\n",
      "Saved DataFrame team_stats to raw_data\\2023\\Week12\\2023_Week12_NYG_vs_NE\\team_stats.csv\n",
      "Saved DataFrame player_defense to raw_data\\2023\\Week12\\2023_Week12_NYG_vs_NE\\player_defense.csv\n",
      "Saved DataFrame returns to raw_data\\2023\\Week12\\2023_Week12_NYG_vs_NE\\returns.csv\n",
      "Saved DataFrame kicking to raw_data\\2023\\Week12\\2023_Week12_NYG_vs_NE\\kicking.csv\n",
      "Saved DataFrame passing_advanced to raw_data\\2023\\Week12\\2023_Week12_NYG_vs_NE\\passing_advanced.csv\n",
      "Saved DataFrame rushing_advanced to raw_data\\2023\\Week12\\2023_Week12_NYG_vs_NE\\rushing_advanced.csv\n",
      "Saved DataFrame receiving_advanced to raw_data\\2023\\Week12\\2023_Week12_NYG_vs_NE\\receiving_advanced.csv\n",
      "Saved DataFrame defense_advanced to raw_data\\2023\\Week12\\2023_Week12_NYG_vs_NE\\defense_advanced.csv\n",
      "Saved DataFrame home_starters to raw_data\\2023\\Week12\\2023_Week12_NYG_vs_NE\\home_starters.csv\n",
      "Saved DataFrame vis_starters to raw_data\\2023\\Week12\\2023_Week12_NYG_vs_NE\\vis_starters.csv\n",
      "Saved DataFrame home_snap_counts to raw_data\\2023\\Week12\\2023_Week12_NYG_vs_NE\\home_snap_counts.csv\n",
      "Saved DataFrame vis_snap_counts to raw_data\\2023\\Week12\\2023_Week12_NYG_vs_NE\\vis_snap_counts.csv\n",
      "Saved DataFrame home_drives to raw_data\\2023\\Week12\\2023_Week12_NYG_vs_NE\\home_drives.csv\n",
      "Saved DataFrame vis_drives to raw_data\\2023\\Week12\\2023_Week12_NYG_vs_NE\\vis_drives.csv\n",
      "Saved DataFrame pbp to raw_data\\2023\\Week12\\2023_Week12_NYG_vs_NE\\pbp.csv\n"
     ]
    },
    {
     "name": "stderr",
     "output_type": "stream",
     "text": [
      "C:\\Users\\jackj\\AppData\\Local\\Temp\\ipykernel_31996\\1469608065.py:49: MarkupResemblesLocatorWarning: The input looks more like a filename than markup. You may want to open this file and pass the filehandle into Beautiful Soup.\n",
      "  comment_soup = BeautifulSoup(comment, 'html.parser')\n"
     ]
    },
    {
     "name": "stdout",
     "output_type": "stream",
     "text": [
      "Saved DataFrame scoring to raw_data\\2023\\Week12\\2023_Week12_DEN_vs_CLE\\scoring.csv\n",
      "Saved DataFrame player_offense to raw_data\\2023\\Week12\\2023_Week12_DEN_vs_CLE\\player_offense.csv\n",
      "Saved DataFrame game_info to raw_data\\2023\\Week12\\2023_Week12_DEN_vs_CLE\\game_info.csv\n",
      "Saved DataFrame officials to raw_data\\2023\\Week12\\2023_Week12_DEN_vs_CLE\\officials.csv\n",
      "Saved DataFrame expected_points to raw_data\\2023\\Week12\\2023_Week12_DEN_vs_CLE\\expected_points.csv\n",
      "Saved DataFrame team_stats to raw_data\\2023\\Week12\\2023_Week12_DEN_vs_CLE\\team_stats.csv\n",
      "Saved DataFrame player_defense to raw_data\\2023\\Week12\\2023_Week12_DEN_vs_CLE\\player_defense.csv\n",
      "Saved DataFrame returns to raw_data\\2023\\Week12\\2023_Week12_DEN_vs_CLE\\returns.csv\n",
      "Saved DataFrame kicking to raw_data\\2023\\Week12\\2023_Week12_DEN_vs_CLE\\kicking.csv\n",
      "Saved DataFrame passing_advanced to raw_data\\2023\\Week12\\2023_Week12_DEN_vs_CLE\\passing_advanced.csv\n",
      "Saved DataFrame rushing_advanced to raw_data\\2023\\Week12\\2023_Week12_DEN_vs_CLE\\rushing_advanced.csv\n",
      "Saved DataFrame receiving_advanced to raw_data\\2023\\Week12\\2023_Week12_DEN_vs_CLE\\receiving_advanced.csv\n",
      "Saved DataFrame defense_advanced to raw_data\\2023\\Week12\\2023_Week12_DEN_vs_CLE\\defense_advanced.csv\n",
      "Saved DataFrame home_starters to raw_data\\2023\\Week12\\2023_Week12_DEN_vs_CLE\\home_starters.csv\n",
      "Saved DataFrame vis_starters to raw_data\\2023\\Week12\\2023_Week12_DEN_vs_CLE\\vis_starters.csv\n",
      "Saved DataFrame home_snap_counts to raw_data\\2023\\Week12\\2023_Week12_DEN_vs_CLE\\home_snap_counts.csv\n",
      "Saved DataFrame vis_snap_counts to raw_data\\2023\\Week12\\2023_Week12_DEN_vs_CLE\\vis_snap_counts.csv\n",
      "Saved DataFrame home_drives to raw_data\\2023\\Week12\\2023_Week12_DEN_vs_CLE\\home_drives.csv\n",
      "Saved DataFrame vis_drives to raw_data\\2023\\Week12\\2023_Week12_DEN_vs_CLE\\vis_drives.csv\n",
      "Saved DataFrame pbp to raw_data\\2023\\Week12\\2023_Week12_DEN_vs_CLE\\pbp.csv\n"
     ]
    },
    {
     "name": "stderr",
     "output_type": "stream",
     "text": [
      "C:\\Users\\jackj\\AppData\\Local\\Temp\\ipykernel_31996\\1469608065.py:49: MarkupResemblesLocatorWarning: The input looks more like a filename than markup. You may want to open this file and pass the filehandle into Beautiful Soup.\n",
      "  comment_soup = BeautifulSoup(comment, 'html.parser')\n"
     ]
    },
    {
     "name": "stdout",
     "output_type": "stream",
     "text": [
      "Saved DataFrame scoring to raw_data\\2023\\Week12\\2023_Week12_ARI_vs_LAR\\scoring.csv\n",
      "Saved DataFrame player_offense to raw_data\\2023\\Week12\\2023_Week12_ARI_vs_LAR\\player_offense.csv\n",
      "Saved DataFrame game_info to raw_data\\2023\\Week12\\2023_Week12_ARI_vs_LAR\\game_info.csv\n",
      "Saved DataFrame officials to raw_data\\2023\\Week12\\2023_Week12_ARI_vs_LAR\\officials.csv\n",
      "Saved DataFrame expected_points to raw_data\\2023\\Week12\\2023_Week12_ARI_vs_LAR\\expected_points.csv\n",
      "Saved DataFrame team_stats to raw_data\\2023\\Week12\\2023_Week12_ARI_vs_LAR\\team_stats.csv\n",
      "Saved DataFrame player_defense to raw_data\\2023\\Week12\\2023_Week12_ARI_vs_LAR\\player_defense.csv\n",
      "Saved DataFrame returns to raw_data\\2023\\Week12\\2023_Week12_ARI_vs_LAR\\returns.csv\n",
      "Saved DataFrame kicking to raw_data\\2023\\Week12\\2023_Week12_ARI_vs_LAR\\kicking.csv\n",
      "Saved DataFrame passing_advanced to raw_data\\2023\\Week12\\2023_Week12_ARI_vs_LAR\\passing_advanced.csv\n",
      "Saved DataFrame rushing_advanced to raw_data\\2023\\Week12\\2023_Week12_ARI_vs_LAR\\rushing_advanced.csv\n",
      "Saved DataFrame receiving_advanced to raw_data\\2023\\Week12\\2023_Week12_ARI_vs_LAR\\receiving_advanced.csv\n",
      "Saved DataFrame defense_advanced to raw_data\\2023\\Week12\\2023_Week12_ARI_vs_LAR\\defense_advanced.csv\n",
      "Saved DataFrame home_starters to raw_data\\2023\\Week12\\2023_Week12_ARI_vs_LAR\\home_starters.csv\n",
      "Saved DataFrame vis_starters to raw_data\\2023\\Week12\\2023_Week12_ARI_vs_LAR\\vis_starters.csv\n",
      "Saved DataFrame home_snap_counts to raw_data\\2023\\Week12\\2023_Week12_ARI_vs_LAR\\home_snap_counts.csv\n",
      "Saved DataFrame vis_snap_counts to raw_data\\2023\\Week12\\2023_Week12_ARI_vs_LAR\\vis_snap_counts.csv\n",
      "Saved DataFrame home_drives to raw_data\\2023\\Week12\\2023_Week12_ARI_vs_LAR\\home_drives.csv\n",
      "Saved DataFrame vis_drives to raw_data\\2023\\Week12\\2023_Week12_ARI_vs_LAR\\vis_drives.csv\n",
      "Saved DataFrame pbp to raw_data\\2023\\Week12\\2023_Week12_ARI_vs_LAR\\pbp.csv\n"
     ]
    },
    {
     "name": "stderr",
     "output_type": "stream",
     "text": [
      "C:\\Users\\jackj\\AppData\\Local\\Temp\\ipykernel_31996\\1469608065.py:49: MarkupResemblesLocatorWarning: The input looks more like a filename than markup. You may want to open this file and pass the filehandle into Beautiful Soup.\n",
      "  comment_soup = BeautifulSoup(comment, 'html.parser')\n"
     ]
    },
    {
     "name": "stdout",
     "output_type": "stream",
     "text": [
      "Saved DataFrame scoring to raw_data\\2023\\Week12\\2023_Week12_LVR_vs_KC\\scoring.csv\n",
      "Saved DataFrame player_offense to raw_data\\2023\\Week12\\2023_Week12_LVR_vs_KC\\player_offense.csv\n",
      "Saved DataFrame game_info to raw_data\\2023\\Week12\\2023_Week12_LVR_vs_KC\\game_info.csv\n",
      "Saved DataFrame officials to raw_data\\2023\\Week12\\2023_Week12_LVR_vs_KC\\officials.csv\n",
      "Saved DataFrame expected_points to raw_data\\2023\\Week12\\2023_Week12_LVR_vs_KC\\expected_points.csv\n",
      "Saved DataFrame team_stats to raw_data\\2023\\Week12\\2023_Week12_LVR_vs_KC\\team_stats.csv\n",
      "Saved DataFrame player_defense to raw_data\\2023\\Week12\\2023_Week12_LVR_vs_KC\\player_defense.csv\n",
      "Saved DataFrame returns to raw_data\\2023\\Week12\\2023_Week12_LVR_vs_KC\\returns.csv\n",
      "Saved DataFrame kicking to raw_data\\2023\\Week12\\2023_Week12_LVR_vs_KC\\kicking.csv\n",
      "Saved DataFrame passing_advanced to raw_data\\2023\\Week12\\2023_Week12_LVR_vs_KC\\passing_advanced.csv\n",
      "Saved DataFrame rushing_advanced to raw_data\\2023\\Week12\\2023_Week12_LVR_vs_KC\\rushing_advanced.csv\n",
      "Saved DataFrame receiving_advanced to raw_data\\2023\\Week12\\2023_Week12_LVR_vs_KC\\receiving_advanced.csv\n",
      "Saved DataFrame defense_advanced to raw_data\\2023\\Week12\\2023_Week12_LVR_vs_KC\\defense_advanced.csv\n",
      "Saved DataFrame home_starters to raw_data\\2023\\Week12\\2023_Week12_LVR_vs_KC\\home_starters.csv\n",
      "Saved DataFrame vis_starters to raw_data\\2023\\Week12\\2023_Week12_LVR_vs_KC\\vis_starters.csv\n",
      "Saved DataFrame home_snap_counts to raw_data\\2023\\Week12\\2023_Week12_LVR_vs_KC\\home_snap_counts.csv\n",
      "Saved DataFrame vis_snap_counts to raw_data\\2023\\Week12\\2023_Week12_LVR_vs_KC\\vis_snap_counts.csv\n",
      "Saved DataFrame home_drives to raw_data\\2023\\Week12\\2023_Week12_LVR_vs_KC\\home_drives.csv\n",
      "Saved DataFrame vis_drives to raw_data\\2023\\Week12\\2023_Week12_LVR_vs_KC\\vis_drives.csv\n",
      "Saved DataFrame pbp to raw_data\\2023\\Week12\\2023_Week12_LVR_vs_KC\\pbp.csv\n"
     ]
    },
    {
     "name": "stderr",
     "output_type": "stream",
     "text": [
      "C:\\Users\\jackj\\AppData\\Local\\Temp\\ipykernel_31996\\1469608065.py:49: MarkupResemblesLocatorWarning: The input looks more like a filename than markup. You may want to open this file and pass the filehandle into Beautiful Soup.\n",
      "  comment_soup = BeautifulSoup(comment, 'html.parser')\n"
     ]
    },
    {
     "name": "stdout",
     "output_type": "stream",
     "text": [
      "Saved DataFrame scoring to raw_data\\2023\\Week12\\2023_Week12_PHI_vs_BUF\\scoring.csv\n",
      "Saved DataFrame player_offense to raw_data\\2023\\Week12\\2023_Week12_PHI_vs_BUF\\player_offense.csv\n",
      "Saved DataFrame game_info to raw_data\\2023\\Week12\\2023_Week12_PHI_vs_BUF\\game_info.csv\n",
      "Saved DataFrame officials to raw_data\\2023\\Week12\\2023_Week12_PHI_vs_BUF\\officials.csv\n",
      "Saved DataFrame expected_points to raw_data\\2023\\Week12\\2023_Week12_PHI_vs_BUF\\expected_points.csv\n",
      "Saved DataFrame team_stats to raw_data\\2023\\Week12\\2023_Week12_PHI_vs_BUF\\team_stats.csv\n",
      "Saved DataFrame player_defense to raw_data\\2023\\Week12\\2023_Week12_PHI_vs_BUF\\player_defense.csv\n",
      "Saved DataFrame returns to raw_data\\2023\\Week12\\2023_Week12_PHI_vs_BUF\\returns.csv\n",
      "Saved DataFrame kicking to raw_data\\2023\\Week12\\2023_Week12_PHI_vs_BUF\\kicking.csv\n",
      "Saved DataFrame passing_advanced to raw_data\\2023\\Week12\\2023_Week12_PHI_vs_BUF\\passing_advanced.csv\n",
      "Saved DataFrame rushing_advanced to raw_data\\2023\\Week12\\2023_Week12_PHI_vs_BUF\\rushing_advanced.csv\n",
      "Saved DataFrame receiving_advanced to raw_data\\2023\\Week12\\2023_Week12_PHI_vs_BUF\\receiving_advanced.csv\n",
      "Saved DataFrame defense_advanced to raw_data\\2023\\Week12\\2023_Week12_PHI_vs_BUF\\defense_advanced.csv\n",
      "Saved DataFrame home_starters to raw_data\\2023\\Week12\\2023_Week12_PHI_vs_BUF\\home_starters.csv\n",
      "Saved DataFrame vis_starters to raw_data\\2023\\Week12\\2023_Week12_PHI_vs_BUF\\vis_starters.csv\n",
      "Saved DataFrame home_snap_counts to raw_data\\2023\\Week12\\2023_Week12_PHI_vs_BUF\\home_snap_counts.csv\n",
      "Saved DataFrame vis_snap_counts to raw_data\\2023\\Week12\\2023_Week12_PHI_vs_BUF\\vis_snap_counts.csv\n",
      "Saved DataFrame home_drives to raw_data\\2023\\Week12\\2023_Week12_PHI_vs_BUF\\home_drives.csv\n",
      "Saved DataFrame vis_drives to raw_data\\2023\\Week12\\2023_Week12_PHI_vs_BUF\\vis_drives.csv\n",
      "Saved DataFrame pbp to raw_data\\2023\\Week12\\2023_Week12_PHI_vs_BUF\\pbp.csv\n"
     ]
    },
    {
     "name": "stderr",
     "output_type": "stream",
     "text": [
      "C:\\Users\\jackj\\AppData\\Local\\Temp\\ipykernel_31996\\1469608065.py:49: MarkupResemblesLocatorWarning: The input looks more like a filename than markup. You may want to open this file and pass the filehandle into Beautiful Soup.\n",
      "  comment_soup = BeautifulSoup(comment, 'html.parser')\n"
     ]
    },
    {
     "name": "stdout",
     "output_type": "stream",
     "text": [
      "Saved DataFrame scoring to raw_data\\2023\\Week12\\2023_Week12_LAC_vs_BAL\\scoring.csv\n",
      "Saved DataFrame player_offense to raw_data\\2023\\Week12\\2023_Week12_LAC_vs_BAL\\player_offense.csv\n",
      "Saved DataFrame game_info to raw_data\\2023\\Week12\\2023_Week12_LAC_vs_BAL\\game_info.csv\n",
      "Saved DataFrame officials to raw_data\\2023\\Week12\\2023_Week12_LAC_vs_BAL\\officials.csv\n",
      "Saved DataFrame expected_points to raw_data\\2023\\Week12\\2023_Week12_LAC_vs_BAL\\expected_points.csv\n",
      "Saved DataFrame team_stats to raw_data\\2023\\Week12\\2023_Week12_LAC_vs_BAL\\team_stats.csv\n",
      "Saved DataFrame player_defense to raw_data\\2023\\Week12\\2023_Week12_LAC_vs_BAL\\player_defense.csv\n",
      "Saved DataFrame returns to raw_data\\2023\\Week12\\2023_Week12_LAC_vs_BAL\\returns.csv\n",
      "Saved DataFrame kicking to raw_data\\2023\\Week12\\2023_Week12_LAC_vs_BAL\\kicking.csv\n",
      "Saved DataFrame passing_advanced to raw_data\\2023\\Week12\\2023_Week12_LAC_vs_BAL\\passing_advanced.csv\n",
      "Saved DataFrame rushing_advanced to raw_data\\2023\\Week12\\2023_Week12_LAC_vs_BAL\\rushing_advanced.csv\n",
      "Saved DataFrame receiving_advanced to raw_data\\2023\\Week12\\2023_Week12_LAC_vs_BAL\\receiving_advanced.csv\n",
      "Saved DataFrame defense_advanced to raw_data\\2023\\Week12\\2023_Week12_LAC_vs_BAL\\defense_advanced.csv\n",
      "Saved DataFrame home_starters to raw_data\\2023\\Week12\\2023_Week12_LAC_vs_BAL\\home_starters.csv\n",
      "Saved DataFrame vis_starters to raw_data\\2023\\Week12\\2023_Week12_LAC_vs_BAL\\vis_starters.csv\n",
      "Saved DataFrame home_snap_counts to raw_data\\2023\\Week12\\2023_Week12_LAC_vs_BAL\\home_snap_counts.csv\n",
      "Saved DataFrame vis_snap_counts to raw_data\\2023\\Week12\\2023_Week12_LAC_vs_BAL\\vis_snap_counts.csv\n",
      "Saved DataFrame home_drives to raw_data\\2023\\Week12\\2023_Week12_LAC_vs_BAL\\home_drives.csv\n",
      "Saved DataFrame vis_drives to raw_data\\2023\\Week12\\2023_Week12_LAC_vs_BAL\\vis_drives.csv\n",
      "Saved DataFrame pbp to raw_data\\2023\\Week12\\2023_Week12_LAC_vs_BAL\\pbp.csv\n"
     ]
    },
    {
     "name": "stderr",
     "output_type": "stream",
     "text": [
      "C:\\Users\\jackj\\AppData\\Local\\Temp\\ipykernel_31996\\1469608065.py:49: MarkupResemblesLocatorWarning: The input looks more like a filename than markup. You may want to open this file and pass the filehandle into Beautiful Soup.\n",
      "  comment_soup = BeautifulSoup(comment, 'html.parser')\n"
     ]
    },
    {
     "name": "stdout",
     "output_type": "stream",
     "text": [
      "Saved DataFrame scoring to raw_data\\2023\\Week12\\2023_Week12_MIN_vs_CHI\\scoring.csv\n",
      "Saved DataFrame player_offense to raw_data\\2023\\Week12\\2023_Week12_MIN_vs_CHI\\player_offense.csv\n",
      "Saved DataFrame game_info to raw_data\\2023\\Week12\\2023_Week12_MIN_vs_CHI\\game_info.csv\n",
      "Saved DataFrame officials to raw_data\\2023\\Week12\\2023_Week12_MIN_vs_CHI\\officials.csv\n",
      "Saved DataFrame expected_points to raw_data\\2023\\Week12\\2023_Week12_MIN_vs_CHI\\expected_points.csv\n",
      "Saved DataFrame team_stats to raw_data\\2023\\Week12\\2023_Week12_MIN_vs_CHI\\team_stats.csv\n",
      "Saved DataFrame player_defense to raw_data\\2023\\Week12\\2023_Week12_MIN_vs_CHI\\player_defense.csv\n",
      "Saved DataFrame returns to raw_data\\2023\\Week12\\2023_Week12_MIN_vs_CHI\\returns.csv\n",
      "Saved DataFrame kicking to raw_data\\2023\\Week12\\2023_Week12_MIN_vs_CHI\\kicking.csv\n",
      "Saved DataFrame passing_advanced to raw_data\\2023\\Week12\\2023_Week12_MIN_vs_CHI\\passing_advanced.csv\n",
      "Saved DataFrame rushing_advanced to raw_data\\2023\\Week12\\2023_Week12_MIN_vs_CHI\\rushing_advanced.csv\n",
      "Saved DataFrame receiving_advanced to raw_data\\2023\\Week12\\2023_Week12_MIN_vs_CHI\\receiving_advanced.csv\n",
      "Saved DataFrame defense_advanced to raw_data\\2023\\Week12\\2023_Week12_MIN_vs_CHI\\defense_advanced.csv\n",
      "Saved DataFrame home_starters to raw_data\\2023\\Week12\\2023_Week12_MIN_vs_CHI\\home_starters.csv\n",
      "Saved DataFrame vis_starters to raw_data\\2023\\Week12\\2023_Week12_MIN_vs_CHI\\vis_starters.csv\n",
      "Saved DataFrame home_snap_counts to raw_data\\2023\\Week12\\2023_Week12_MIN_vs_CHI\\home_snap_counts.csv\n",
      "Saved DataFrame vis_snap_counts to raw_data\\2023\\Week12\\2023_Week12_MIN_vs_CHI\\vis_snap_counts.csv\n",
      "Saved DataFrame home_drives to raw_data\\2023\\Week12\\2023_Week12_MIN_vs_CHI\\home_drives.csv\n",
      "Saved DataFrame vis_drives to raw_data\\2023\\Week12\\2023_Week12_MIN_vs_CHI\\vis_drives.csv\n",
      "Saved DataFrame pbp to raw_data\\2023\\Week12\\2023_Week12_MIN_vs_CHI\\pbp.csv\n"
     ]
    },
    {
     "name": "stderr",
     "output_type": "stream",
     "text": [
      "C:\\Users\\jackj\\AppData\\Local\\Temp\\ipykernel_31996\\1469608065.py:49: MarkupResemblesLocatorWarning: The input looks more like a filename than markup. You may want to open this file and pass the filehandle into Beautiful Soup.\n",
      "  comment_soup = BeautifulSoup(comment, 'html.parser')\n"
     ]
    },
    {
     "name": "stdout",
     "output_type": "stream",
     "text": [
      "Saved DataFrame scoring to raw_data\\2023\\Week13\\2023_Week13_DAL_vs_SEA\\scoring.csv\n",
      "Saved DataFrame player_offense to raw_data\\2023\\Week13\\2023_Week13_DAL_vs_SEA\\player_offense.csv\n",
      "Saved DataFrame game_info to raw_data\\2023\\Week13\\2023_Week13_DAL_vs_SEA\\game_info.csv\n",
      "Saved DataFrame officials to raw_data\\2023\\Week13\\2023_Week13_DAL_vs_SEA\\officials.csv\n",
      "Saved DataFrame expected_points to raw_data\\2023\\Week13\\2023_Week13_DAL_vs_SEA\\expected_points.csv\n",
      "Saved DataFrame team_stats to raw_data\\2023\\Week13\\2023_Week13_DAL_vs_SEA\\team_stats.csv\n",
      "Saved DataFrame player_defense to raw_data\\2023\\Week13\\2023_Week13_DAL_vs_SEA\\player_defense.csv\n",
      "Saved DataFrame returns to raw_data\\2023\\Week13\\2023_Week13_DAL_vs_SEA\\returns.csv\n",
      "Saved DataFrame kicking to raw_data\\2023\\Week13\\2023_Week13_DAL_vs_SEA\\kicking.csv\n",
      "Saved DataFrame passing_advanced to raw_data\\2023\\Week13\\2023_Week13_DAL_vs_SEA\\passing_advanced.csv\n",
      "Saved DataFrame rushing_advanced to raw_data\\2023\\Week13\\2023_Week13_DAL_vs_SEA\\rushing_advanced.csv\n",
      "Saved DataFrame receiving_advanced to raw_data\\2023\\Week13\\2023_Week13_DAL_vs_SEA\\receiving_advanced.csv\n",
      "Saved DataFrame defense_advanced to raw_data\\2023\\Week13\\2023_Week13_DAL_vs_SEA\\defense_advanced.csv\n",
      "Saved DataFrame home_starters to raw_data\\2023\\Week13\\2023_Week13_DAL_vs_SEA\\home_starters.csv\n",
      "Saved DataFrame vis_starters to raw_data\\2023\\Week13\\2023_Week13_DAL_vs_SEA\\vis_starters.csv\n",
      "Saved DataFrame home_snap_counts to raw_data\\2023\\Week13\\2023_Week13_DAL_vs_SEA\\home_snap_counts.csv\n",
      "Saved DataFrame vis_snap_counts to raw_data\\2023\\Week13\\2023_Week13_DAL_vs_SEA\\vis_snap_counts.csv\n",
      "Saved DataFrame home_drives to raw_data\\2023\\Week13\\2023_Week13_DAL_vs_SEA\\home_drives.csv\n",
      "Saved DataFrame vis_drives to raw_data\\2023\\Week13\\2023_Week13_DAL_vs_SEA\\vis_drives.csv\n",
      "Saved DataFrame pbp to raw_data\\2023\\Week13\\2023_Week13_DAL_vs_SEA\\pbp.csv\n"
     ]
    },
    {
     "name": "stderr",
     "output_type": "stream",
     "text": [
      "C:\\Users\\jackj\\AppData\\Local\\Temp\\ipykernel_31996\\1469608065.py:49: MarkupResemblesLocatorWarning: The input looks more like a filename than markup. You may want to open this file and pass the filehandle into Beautiful Soup.\n",
      "  comment_soup = BeautifulSoup(comment, 'html.parser')\n"
     ]
    },
    {
     "name": "stdout",
     "output_type": "stream",
     "text": [
      "Saved DataFrame scoring to raw_data\\2023\\Week13\\2023_Week13_NYJ_vs_ATL\\scoring.csv\n",
      "Saved DataFrame player_offense to raw_data\\2023\\Week13\\2023_Week13_NYJ_vs_ATL\\player_offense.csv\n",
      "Saved DataFrame game_info to raw_data\\2023\\Week13\\2023_Week13_NYJ_vs_ATL\\game_info.csv\n",
      "Saved DataFrame officials to raw_data\\2023\\Week13\\2023_Week13_NYJ_vs_ATL\\officials.csv\n",
      "Saved DataFrame expected_points to raw_data\\2023\\Week13\\2023_Week13_NYJ_vs_ATL\\expected_points.csv\n",
      "Saved DataFrame team_stats to raw_data\\2023\\Week13\\2023_Week13_NYJ_vs_ATL\\team_stats.csv\n",
      "Saved DataFrame player_defense to raw_data\\2023\\Week13\\2023_Week13_NYJ_vs_ATL\\player_defense.csv\n",
      "Saved DataFrame returns to raw_data\\2023\\Week13\\2023_Week13_NYJ_vs_ATL\\returns.csv\n",
      "Saved DataFrame kicking to raw_data\\2023\\Week13\\2023_Week13_NYJ_vs_ATL\\kicking.csv\n",
      "Saved DataFrame passing_advanced to raw_data\\2023\\Week13\\2023_Week13_NYJ_vs_ATL\\passing_advanced.csv\n",
      "Saved DataFrame rushing_advanced to raw_data\\2023\\Week13\\2023_Week13_NYJ_vs_ATL\\rushing_advanced.csv\n",
      "Saved DataFrame receiving_advanced to raw_data\\2023\\Week13\\2023_Week13_NYJ_vs_ATL\\receiving_advanced.csv\n",
      "Saved DataFrame defense_advanced to raw_data\\2023\\Week13\\2023_Week13_NYJ_vs_ATL\\defense_advanced.csv\n",
      "Saved DataFrame home_starters to raw_data\\2023\\Week13\\2023_Week13_NYJ_vs_ATL\\home_starters.csv\n",
      "Saved DataFrame vis_starters to raw_data\\2023\\Week13\\2023_Week13_NYJ_vs_ATL\\vis_starters.csv\n",
      "Saved DataFrame home_snap_counts to raw_data\\2023\\Week13\\2023_Week13_NYJ_vs_ATL\\home_snap_counts.csv\n",
      "Saved DataFrame vis_snap_counts to raw_data\\2023\\Week13\\2023_Week13_NYJ_vs_ATL\\vis_snap_counts.csv\n",
      "Saved DataFrame home_drives to raw_data\\2023\\Week13\\2023_Week13_NYJ_vs_ATL\\home_drives.csv\n",
      "Saved DataFrame vis_drives to raw_data\\2023\\Week13\\2023_Week13_NYJ_vs_ATL\\vis_drives.csv\n",
      "Saved DataFrame pbp to raw_data\\2023\\Week13\\2023_Week13_NYJ_vs_ATL\\pbp.csv\n"
     ]
    },
    {
     "name": "stderr",
     "output_type": "stream",
     "text": [
      "C:\\Users\\jackj\\AppData\\Local\\Temp\\ipykernel_31996\\1469608065.py:49: MarkupResemblesLocatorWarning: The input looks more like a filename than markup. You may want to open this file and pass the filehandle into Beautiful Soup.\n",
      "  comment_soup = BeautifulSoup(comment, 'html.parser')\n"
     ]
    },
    {
     "name": "stdout",
     "output_type": "stream",
     "text": [
      "Saved DataFrame scoring to raw_data\\2023\\Week13\\2023_Week13_TEN_vs_IND\\scoring.csv\n",
      "Saved DataFrame player_offense to raw_data\\2023\\Week13\\2023_Week13_TEN_vs_IND\\player_offense.csv\n",
      "Saved DataFrame game_info to raw_data\\2023\\Week13\\2023_Week13_TEN_vs_IND\\game_info.csv\n",
      "Saved DataFrame officials to raw_data\\2023\\Week13\\2023_Week13_TEN_vs_IND\\officials.csv\n",
      "Saved DataFrame expected_points to raw_data\\2023\\Week13\\2023_Week13_TEN_vs_IND\\expected_points.csv\n",
      "Saved DataFrame team_stats to raw_data\\2023\\Week13\\2023_Week13_TEN_vs_IND\\team_stats.csv\n",
      "Saved DataFrame player_defense to raw_data\\2023\\Week13\\2023_Week13_TEN_vs_IND\\player_defense.csv\n",
      "Saved DataFrame returns to raw_data\\2023\\Week13\\2023_Week13_TEN_vs_IND\\returns.csv\n",
      "Saved DataFrame kicking to raw_data\\2023\\Week13\\2023_Week13_TEN_vs_IND\\kicking.csv\n",
      "Saved DataFrame passing_advanced to raw_data\\2023\\Week13\\2023_Week13_TEN_vs_IND\\passing_advanced.csv\n",
      "Saved DataFrame rushing_advanced to raw_data\\2023\\Week13\\2023_Week13_TEN_vs_IND\\rushing_advanced.csv\n",
      "Saved DataFrame receiving_advanced to raw_data\\2023\\Week13\\2023_Week13_TEN_vs_IND\\receiving_advanced.csv\n",
      "Saved DataFrame defense_advanced to raw_data\\2023\\Week13\\2023_Week13_TEN_vs_IND\\defense_advanced.csv\n",
      "Saved DataFrame home_starters to raw_data\\2023\\Week13\\2023_Week13_TEN_vs_IND\\home_starters.csv\n",
      "Saved DataFrame vis_starters to raw_data\\2023\\Week13\\2023_Week13_TEN_vs_IND\\vis_starters.csv\n",
      "Saved DataFrame home_snap_counts to raw_data\\2023\\Week13\\2023_Week13_TEN_vs_IND\\home_snap_counts.csv\n",
      "Saved DataFrame vis_snap_counts to raw_data\\2023\\Week13\\2023_Week13_TEN_vs_IND\\vis_snap_counts.csv\n",
      "Saved DataFrame home_drives to raw_data\\2023\\Week13\\2023_Week13_TEN_vs_IND\\home_drives.csv\n",
      "Saved DataFrame vis_drives to raw_data\\2023\\Week13\\2023_Week13_TEN_vs_IND\\vis_drives.csv\n",
      "Saved DataFrame pbp to raw_data\\2023\\Week13\\2023_Week13_TEN_vs_IND\\pbp.csv\n"
     ]
    },
    {
     "name": "stderr",
     "output_type": "stream",
     "text": [
      "C:\\Users\\jackj\\AppData\\Local\\Temp\\ipykernel_31996\\1469608065.py:49: MarkupResemblesLocatorWarning: The input looks more like a filename than markup. You may want to open this file and pass the filehandle into Beautiful Soup.\n",
      "  comment_soup = BeautifulSoup(comment, 'html.parser')\n"
     ]
    },
    {
     "name": "stdout",
     "output_type": "stream",
     "text": [
      "Saved DataFrame scoring to raw_data\\2023\\Week13\\2023_Week13_HOU_vs_DEN\\scoring.csv\n",
      "Saved DataFrame player_offense to raw_data\\2023\\Week13\\2023_Week13_HOU_vs_DEN\\player_offense.csv\n",
      "Saved DataFrame game_info to raw_data\\2023\\Week13\\2023_Week13_HOU_vs_DEN\\game_info.csv\n",
      "Saved DataFrame officials to raw_data\\2023\\Week13\\2023_Week13_HOU_vs_DEN\\officials.csv\n",
      "Saved DataFrame expected_points to raw_data\\2023\\Week13\\2023_Week13_HOU_vs_DEN\\expected_points.csv\n",
      "Saved DataFrame team_stats to raw_data\\2023\\Week13\\2023_Week13_HOU_vs_DEN\\team_stats.csv\n",
      "Saved DataFrame player_defense to raw_data\\2023\\Week13\\2023_Week13_HOU_vs_DEN\\player_defense.csv\n",
      "Saved DataFrame returns to raw_data\\2023\\Week13\\2023_Week13_HOU_vs_DEN\\returns.csv\n",
      "Saved DataFrame kicking to raw_data\\2023\\Week13\\2023_Week13_HOU_vs_DEN\\kicking.csv\n",
      "Saved DataFrame passing_advanced to raw_data\\2023\\Week13\\2023_Week13_HOU_vs_DEN\\passing_advanced.csv\n",
      "Saved DataFrame rushing_advanced to raw_data\\2023\\Week13\\2023_Week13_HOU_vs_DEN\\rushing_advanced.csv\n",
      "Saved DataFrame receiving_advanced to raw_data\\2023\\Week13\\2023_Week13_HOU_vs_DEN\\receiving_advanced.csv\n",
      "Saved DataFrame defense_advanced to raw_data\\2023\\Week13\\2023_Week13_HOU_vs_DEN\\defense_advanced.csv\n",
      "Saved DataFrame home_starters to raw_data\\2023\\Week13\\2023_Week13_HOU_vs_DEN\\home_starters.csv\n",
      "Saved DataFrame vis_starters to raw_data\\2023\\Week13\\2023_Week13_HOU_vs_DEN\\vis_starters.csv\n",
      "Saved DataFrame home_snap_counts to raw_data\\2023\\Week13\\2023_Week13_HOU_vs_DEN\\home_snap_counts.csv\n",
      "Saved DataFrame vis_snap_counts to raw_data\\2023\\Week13\\2023_Week13_HOU_vs_DEN\\vis_snap_counts.csv\n",
      "Saved DataFrame home_drives to raw_data\\2023\\Week13\\2023_Week13_HOU_vs_DEN\\home_drives.csv\n",
      "Saved DataFrame vis_drives to raw_data\\2023\\Week13\\2023_Week13_HOU_vs_DEN\\vis_drives.csv\n",
      "Saved DataFrame pbp to raw_data\\2023\\Week13\\2023_Week13_HOU_vs_DEN\\pbp.csv\n"
     ]
    },
    {
     "name": "stderr",
     "output_type": "stream",
     "text": [
      "C:\\Users\\jackj\\AppData\\Local\\Temp\\ipykernel_31996\\1469608065.py:49: MarkupResemblesLocatorWarning: The input looks more like a filename than markup. You may want to open this file and pass the filehandle into Beautiful Soup.\n",
      "  comment_soup = BeautifulSoup(comment, 'html.parser')\n"
     ]
    },
    {
     "name": "stdout",
     "output_type": "stream",
     "text": [
      "Saved DataFrame scoring to raw_data\\2023\\Week13\\2023_Week13_NO_vs_DET\\scoring.csv\n",
      "Saved DataFrame player_offense to raw_data\\2023\\Week13\\2023_Week13_NO_vs_DET\\player_offense.csv\n",
      "Saved DataFrame game_info to raw_data\\2023\\Week13\\2023_Week13_NO_vs_DET\\game_info.csv\n",
      "Saved DataFrame officials to raw_data\\2023\\Week13\\2023_Week13_NO_vs_DET\\officials.csv\n",
      "Saved DataFrame expected_points to raw_data\\2023\\Week13\\2023_Week13_NO_vs_DET\\expected_points.csv\n",
      "Saved DataFrame team_stats to raw_data\\2023\\Week13\\2023_Week13_NO_vs_DET\\team_stats.csv\n",
      "Saved DataFrame player_defense to raw_data\\2023\\Week13\\2023_Week13_NO_vs_DET\\player_defense.csv\n",
      "Saved DataFrame returns to raw_data\\2023\\Week13\\2023_Week13_NO_vs_DET\\returns.csv\n",
      "Saved DataFrame kicking to raw_data\\2023\\Week13\\2023_Week13_NO_vs_DET\\kicking.csv\n",
      "Saved DataFrame passing_advanced to raw_data\\2023\\Week13\\2023_Week13_NO_vs_DET\\passing_advanced.csv\n",
      "Saved DataFrame rushing_advanced to raw_data\\2023\\Week13\\2023_Week13_NO_vs_DET\\rushing_advanced.csv\n",
      "Saved DataFrame receiving_advanced to raw_data\\2023\\Week13\\2023_Week13_NO_vs_DET\\receiving_advanced.csv\n",
      "Saved DataFrame defense_advanced to raw_data\\2023\\Week13\\2023_Week13_NO_vs_DET\\defense_advanced.csv\n",
      "Saved DataFrame home_starters to raw_data\\2023\\Week13\\2023_Week13_NO_vs_DET\\home_starters.csv\n",
      "Saved DataFrame vis_starters to raw_data\\2023\\Week13\\2023_Week13_NO_vs_DET\\vis_starters.csv\n",
      "Saved DataFrame home_snap_counts to raw_data\\2023\\Week13\\2023_Week13_NO_vs_DET\\home_snap_counts.csv\n",
      "Saved DataFrame vis_snap_counts to raw_data\\2023\\Week13\\2023_Week13_NO_vs_DET\\vis_snap_counts.csv\n",
      "Saved DataFrame home_drives to raw_data\\2023\\Week13\\2023_Week13_NO_vs_DET\\home_drives.csv\n",
      "Saved DataFrame vis_drives to raw_data\\2023\\Week13\\2023_Week13_NO_vs_DET\\vis_drives.csv\n",
      "Saved DataFrame pbp to raw_data\\2023\\Week13\\2023_Week13_NO_vs_DET\\pbp.csv\n"
     ]
    },
    {
     "name": "stderr",
     "output_type": "stream",
     "text": [
      "C:\\Users\\jackj\\AppData\\Local\\Temp\\ipykernel_31996\\1469608065.py:49: MarkupResemblesLocatorWarning: The input looks more like a filename than markup. You may want to open this file and pass the filehandle into Beautiful Soup.\n",
      "  comment_soup = BeautifulSoup(comment, 'html.parser')\n"
     ]
    },
    {
     "name": "stdout",
     "output_type": "stream",
     "text": [
      "Saved DataFrame scoring to raw_data\\2023\\Week13\\2023_Week13_WAS_vs_MIA\\scoring.csv\n",
      "Saved DataFrame player_offense to raw_data\\2023\\Week13\\2023_Week13_WAS_vs_MIA\\player_offense.csv\n",
      "Saved DataFrame game_info to raw_data\\2023\\Week13\\2023_Week13_WAS_vs_MIA\\game_info.csv\n",
      "Saved DataFrame officials to raw_data\\2023\\Week13\\2023_Week13_WAS_vs_MIA\\officials.csv\n",
      "Saved DataFrame expected_points to raw_data\\2023\\Week13\\2023_Week13_WAS_vs_MIA\\expected_points.csv\n",
      "Saved DataFrame team_stats to raw_data\\2023\\Week13\\2023_Week13_WAS_vs_MIA\\team_stats.csv\n",
      "Saved DataFrame player_defense to raw_data\\2023\\Week13\\2023_Week13_WAS_vs_MIA\\player_defense.csv\n",
      "Saved DataFrame returns to raw_data\\2023\\Week13\\2023_Week13_WAS_vs_MIA\\returns.csv\n",
      "Saved DataFrame kicking to raw_data\\2023\\Week13\\2023_Week13_WAS_vs_MIA\\kicking.csv\n",
      "Saved DataFrame passing_advanced to raw_data\\2023\\Week13\\2023_Week13_WAS_vs_MIA\\passing_advanced.csv\n",
      "Saved DataFrame rushing_advanced to raw_data\\2023\\Week13\\2023_Week13_WAS_vs_MIA\\rushing_advanced.csv\n",
      "Saved DataFrame receiving_advanced to raw_data\\2023\\Week13\\2023_Week13_WAS_vs_MIA\\receiving_advanced.csv\n",
      "Saved DataFrame defense_advanced to raw_data\\2023\\Week13\\2023_Week13_WAS_vs_MIA\\defense_advanced.csv\n",
      "Saved DataFrame home_starters to raw_data\\2023\\Week13\\2023_Week13_WAS_vs_MIA\\home_starters.csv\n",
      "Saved DataFrame vis_starters to raw_data\\2023\\Week13\\2023_Week13_WAS_vs_MIA\\vis_starters.csv\n",
      "Saved DataFrame home_snap_counts to raw_data\\2023\\Week13\\2023_Week13_WAS_vs_MIA\\home_snap_counts.csv\n",
      "Saved DataFrame vis_snap_counts to raw_data\\2023\\Week13\\2023_Week13_WAS_vs_MIA\\vis_snap_counts.csv\n",
      "Saved DataFrame home_drives to raw_data\\2023\\Week13\\2023_Week13_WAS_vs_MIA\\home_drives.csv\n",
      "Saved DataFrame vis_drives to raw_data\\2023\\Week13\\2023_Week13_WAS_vs_MIA\\vis_drives.csv\n",
      "Saved DataFrame pbp to raw_data\\2023\\Week13\\2023_Week13_WAS_vs_MIA\\pbp.csv\n"
     ]
    },
    {
     "name": "stderr",
     "output_type": "stream",
     "text": [
      "C:\\Users\\jackj\\AppData\\Local\\Temp\\ipykernel_31996\\1469608065.py:49: MarkupResemblesLocatorWarning: The input looks more like a filename than markup. You may want to open this file and pass the filehandle into Beautiful Soup.\n",
      "  comment_soup = BeautifulSoup(comment, 'html.parser')\n"
     ]
    },
    {
     "name": "stdout",
     "output_type": "stream",
     "text": [
      "Saved DataFrame scoring to raw_data\\2023\\Week13\\2023_Week13_NE_vs_LAC\\scoring.csv\n",
      "Saved DataFrame player_offense to raw_data\\2023\\Week13\\2023_Week13_NE_vs_LAC\\player_offense.csv\n",
      "Saved DataFrame game_info to raw_data\\2023\\Week13\\2023_Week13_NE_vs_LAC\\game_info.csv\n",
      "Saved DataFrame officials to raw_data\\2023\\Week13\\2023_Week13_NE_vs_LAC\\officials.csv\n",
      "Saved DataFrame expected_points to raw_data\\2023\\Week13\\2023_Week13_NE_vs_LAC\\expected_points.csv\n",
      "Saved DataFrame team_stats to raw_data\\2023\\Week13\\2023_Week13_NE_vs_LAC\\team_stats.csv\n",
      "Saved DataFrame player_defense to raw_data\\2023\\Week13\\2023_Week13_NE_vs_LAC\\player_defense.csv\n",
      "Saved DataFrame returns to raw_data\\2023\\Week13\\2023_Week13_NE_vs_LAC\\returns.csv\n",
      "Saved DataFrame kicking to raw_data\\2023\\Week13\\2023_Week13_NE_vs_LAC\\kicking.csv\n",
      "Saved DataFrame passing_advanced to raw_data\\2023\\Week13\\2023_Week13_NE_vs_LAC\\passing_advanced.csv\n",
      "Saved DataFrame rushing_advanced to raw_data\\2023\\Week13\\2023_Week13_NE_vs_LAC\\rushing_advanced.csv\n",
      "Saved DataFrame receiving_advanced to raw_data\\2023\\Week13\\2023_Week13_NE_vs_LAC\\receiving_advanced.csv\n",
      "Saved DataFrame defense_advanced to raw_data\\2023\\Week13\\2023_Week13_NE_vs_LAC\\defense_advanced.csv\n",
      "Saved DataFrame home_starters to raw_data\\2023\\Week13\\2023_Week13_NE_vs_LAC\\home_starters.csv\n",
      "Saved DataFrame vis_starters to raw_data\\2023\\Week13\\2023_Week13_NE_vs_LAC\\vis_starters.csv\n",
      "Saved DataFrame home_snap_counts to raw_data\\2023\\Week13\\2023_Week13_NE_vs_LAC\\home_snap_counts.csv\n",
      "Saved DataFrame vis_snap_counts to raw_data\\2023\\Week13\\2023_Week13_NE_vs_LAC\\vis_snap_counts.csv\n",
      "Saved DataFrame home_drives to raw_data\\2023\\Week13\\2023_Week13_NE_vs_LAC\\home_drives.csv\n",
      "Saved DataFrame vis_drives to raw_data\\2023\\Week13\\2023_Week13_NE_vs_LAC\\vis_drives.csv\n",
      "Saved DataFrame pbp to raw_data\\2023\\Week13\\2023_Week13_NE_vs_LAC\\pbp.csv\n"
     ]
    },
    {
     "name": "stderr",
     "output_type": "stream",
     "text": [
      "C:\\Users\\jackj\\AppData\\Local\\Temp\\ipykernel_31996\\1469608065.py:49: MarkupResemblesLocatorWarning: The input looks more like a filename than markup. You may want to open this file and pass the filehandle into Beautiful Soup.\n",
      "  comment_soup = BeautifulSoup(comment, 'html.parser')\n"
     ]
    },
    {
     "name": "stdout",
     "output_type": "stream",
     "text": [
      "Saved DataFrame scoring to raw_data\\2023\\Week13\\2023_Week13_PIT_vs_ARI\\scoring.csv\n",
      "Saved DataFrame player_offense to raw_data\\2023\\Week13\\2023_Week13_PIT_vs_ARI\\player_offense.csv\n",
      "Saved DataFrame game_info to raw_data\\2023\\Week13\\2023_Week13_PIT_vs_ARI\\game_info.csv\n",
      "Saved DataFrame officials to raw_data\\2023\\Week13\\2023_Week13_PIT_vs_ARI\\officials.csv\n",
      "Saved DataFrame expected_points to raw_data\\2023\\Week13\\2023_Week13_PIT_vs_ARI\\expected_points.csv\n",
      "Saved DataFrame team_stats to raw_data\\2023\\Week13\\2023_Week13_PIT_vs_ARI\\team_stats.csv\n",
      "Saved DataFrame player_defense to raw_data\\2023\\Week13\\2023_Week13_PIT_vs_ARI\\player_defense.csv\n",
      "Saved DataFrame returns to raw_data\\2023\\Week13\\2023_Week13_PIT_vs_ARI\\returns.csv\n",
      "Saved DataFrame kicking to raw_data\\2023\\Week13\\2023_Week13_PIT_vs_ARI\\kicking.csv\n",
      "Saved DataFrame passing_advanced to raw_data\\2023\\Week13\\2023_Week13_PIT_vs_ARI\\passing_advanced.csv\n",
      "Saved DataFrame rushing_advanced to raw_data\\2023\\Week13\\2023_Week13_PIT_vs_ARI\\rushing_advanced.csv\n",
      "Saved DataFrame receiving_advanced to raw_data\\2023\\Week13\\2023_Week13_PIT_vs_ARI\\receiving_advanced.csv\n",
      "Saved DataFrame defense_advanced to raw_data\\2023\\Week13\\2023_Week13_PIT_vs_ARI\\defense_advanced.csv\n",
      "Saved DataFrame home_starters to raw_data\\2023\\Week13\\2023_Week13_PIT_vs_ARI\\home_starters.csv\n",
      "Saved DataFrame vis_starters to raw_data\\2023\\Week13\\2023_Week13_PIT_vs_ARI\\vis_starters.csv\n",
      "Saved DataFrame home_snap_counts to raw_data\\2023\\Week13\\2023_Week13_PIT_vs_ARI\\home_snap_counts.csv\n",
      "Saved DataFrame vis_snap_counts to raw_data\\2023\\Week13\\2023_Week13_PIT_vs_ARI\\vis_snap_counts.csv\n",
      "Saved DataFrame home_drives to raw_data\\2023\\Week13\\2023_Week13_PIT_vs_ARI\\home_drives.csv\n",
      "Saved DataFrame vis_drives to raw_data\\2023\\Week13\\2023_Week13_PIT_vs_ARI\\vis_drives.csv\n",
      "Saved DataFrame pbp to raw_data\\2023\\Week13\\2023_Week13_PIT_vs_ARI\\pbp.csv\n"
     ]
    },
    {
     "name": "stderr",
     "output_type": "stream",
     "text": [
      "C:\\Users\\jackj\\AppData\\Local\\Temp\\ipykernel_31996\\1469608065.py:49: MarkupResemblesLocatorWarning: The input looks more like a filename than markup. You may want to open this file and pass the filehandle into Beautiful Soup.\n",
      "  comment_soup = BeautifulSoup(comment, 'html.parser')\n"
     ]
    },
    {
     "name": "stdout",
     "output_type": "stream",
     "text": [
      "Saved DataFrame scoring to raw_data\\2023\\Week13\\2023_Week13_TB_vs_CAR\\scoring.csv\n",
      "Saved DataFrame player_offense to raw_data\\2023\\Week13\\2023_Week13_TB_vs_CAR\\player_offense.csv\n",
      "Saved DataFrame game_info to raw_data\\2023\\Week13\\2023_Week13_TB_vs_CAR\\game_info.csv\n",
      "Saved DataFrame officials to raw_data\\2023\\Week13\\2023_Week13_TB_vs_CAR\\officials.csv\n",
      "Saved DataFrame expected_points to raw_data\\2023\\Week13\\2023_Week13_TB_vs_CAR\\expected_points.csv\n",
      "Saved DataFrame team_stats to raw_data\\2023\\Week13\\2023_Week13_TB_vs_CAR\\team_stats.csv\n",
      "Saved DataFrame player_defense to raw_data\\2023\\Week13\\2023_Week13_TB_vs_CAR\\player_defense.csv\n",
      "Saved DataFrame returns to raw_data\\2023\\Week13\\2023_Week13_TB_vs_CAR\\returns.csv\n",
      "Saved DataFrame kicking to raw_data\\2023\\Week13\\2023_Week13_TB_vs_CAR\\kicking.csv\n",
      "Saved DataFrame passing_advanced to raw_data\\2023\\Week13\\2023_Week13_TB_vs_CAR\\passing_advanced.csv\n",
      "Saved DataFrame rushing_advanced to raw_data\\2023\\Week13\\2023_Week13_TB_vs_CAR\\rushing_advanced.csv\n",
      "Saved DataFrame receiving_advanced to raw_data\\2023\\Week13\\2023_Week13_TB_vs_CAR\\receiving_advanced.csv\n",
      "Saved DataFrame defense_advanced to raw_data\\2023\\Week13\\2023_Week13_TB_vs_CAR\\defense_advanced.csv\n",
      "Saved DataFrame home_starters to raw_data\\2023\\Week13\\2023_Week13_TB_vs_CAR\\home_starters.csv\n",
      "Saved DataFrame vis_starters to raw_data\\2023\\Week13\\2023_Week13_TB_vs_CAR\\vis_starters.csv\n",
      "Saved DataFrame home_snap_counts to raw_data\\2023\\Week13\\2023_Week13_TB_vs_CAR\\home_snap_counts.csv\n",
      "Saved DataFrame vis_snap_counts to raw_data\\2023\\Week13\\2023_Week13_TB_vs_CAR\\vis_snap_counts.csv\n",
      "Saved DataFrame home_drives to raw_data\\2023\\Week13\\2023_Week13_TB_vs_CAR\\home_drives.csv\n",
      "Saved DataFrame vis_drives to raw_data\\2023\\Week13\\2023_Week13_TB_vs_CAR\\vis_drives.csv\n",
      "Saved DataFrame pbp to raw_data\\2023\\Week13\\2023_Week13_TB_vs_CAR\\pbp.csv\n"
     ]
    },
    {
     "name": "stderr",
     "output_type": "stream",
     "text": [
      "C:\\Users\\jackj\\AppData\\Local\\Temp\\ipykernel_31996\\1469608065.py:49: MarkupResemblesLocatorWarning: The input looks more like a filename than markup. You may want to open this file and pass the filehandle into Beautiful Soup.\n",
      "  comment_soup = BeautifulSoup(comment, 'html.parser')\n"
     ]
    },
    {
     "name": "stdout",
     "output_type": "stream",
     "text": [
      "Saved DataFrame scoring to raw_data\\2023\\Week13\\2023_Week13_LAR_vs_CLE\\scoring.csv\n",
      "Saved DataFrame player_offense to raw_data\\2023\\Week13\\2023_Week13_LAR_vs_CLE\\player_offense.csv\n",
      "Saved DataFrame game_info to raw_data\\2023\\Week13\\2023_Week13_LAR_vs_CLE\\game_info.csv\n",
      "Saved DataFrame officials to raw_data\\2023\\Week13\\2023_Week13_LAR_vs_CLE\\officials.csv\n",
      "Saved DataFrame expected_points to raw_data\\2023\\Week13\\2023_Week13_LAR_vs_CLE\\expected_points.csv\n",
      "Saved DataFrame team_stats to raw_data\\2023\\Week13\\2023_Week13_LAR_vs_CLE\\team_stats.csv\n",
      "Saved DataFrame player_defense to raw_data\\2023\\Week13\\2023_Week13_LAR_vs_CLE\\player_defense.csv\n",
      "Saved DataFrame returns to raw_data\\2023\\Week13\\2023_Week13_LAR_vs_CLE\\returns.csv\n",
      "Saved DataFrame kicking to raw_data\\2023\\Week13\\2023_Week13_LAR_vs_CLE\\kicking.csv\n",
      "Saved DataFrame passing_advanced to raw_data\\2023\\Week13\\2023_Week13_LAR_vs_CLE\\passing_advanced.csv\n",
      "Saved DataFrame rushing_advanced to raw_data\\2023\\Week13\\2023_Week13_LAR_vs_CLE\\rushing_advanced.csv\n",
      "Saved DataFrame receiving_advanced to raw_data\\2023\\Week13\\2023_Week13_LAR_vs_CLE\\receiving_advanced.csv\n",
      "Saved DataFrame defense_advanced to raw_data\\2023\\Week13\\2023_Week13_LAR_vs_CLE\\defense_advanced.csv\n",
      "Saved DataFrame home_starters to raw_data\\2023\\Week13\\2023_Week13_LAR_vs_CLE\\home_starters.csv\n",
      "Saved DataFrame vis_starters to raw_data\\2023\\Week13\\2023_Week13_LAR_vs_CLE\\vis_starters.csv\n",
      "Saved DataFrame home_snap_counts to raw_data\\2023\\Week13\\2023_Week13_LAR_vs_CLE\\home_snap_counts.csv\n",
      "Saved DataFrame vis_snap_counts to raw_data\\2023\\Week13\\2023_Week13_LAR_vs_CLE\\vis_snap_counts.csv\n",
      "Saved DataFrame home_drives to raw_data\\2023\\Week13\\2023_Week13_LAR_vs_CLE\\home_drives.csv\n",
      "Saved DataFrame vis_drives to raw_data\\2023\\Week13\\2023_Week13_LAR_vs_CLE\\vis_drives.csv\n",
      "Saved DataFrame pbp to raw_data\\2023\\Week13\\2023_Week13_LAR_vs_CLE\\pbp.csv\n",
      "Reached 20 requests, sleeping for 60 seconds...\n"
     ]
    },
    {
     "name": "stderr",
     "output_type": "stream",
     "text": [
      "C:\\Users\\jackj\\AppData\\Local\\Temp\\ipykernel_31996\\1469608065.py:49: MarkupResemblesLocatorWarning: The input looks more like a filename than markup. You may want to open this file and pass the filehandle into Beautiful Soup.\n",
      "  comment_soup = BeautifulSoup(comment, 'html.parser')\n"
     ]
    },
    {
     "name": "stdout",
     "output_type": "stream",
     "text": [
      "Saved DataFrame scoring to raw_data\\2023\\Week13\\2023_Week13_PHI_vs_SF\\scoring.csv\n",
      "Saved DataFrame player_offense to raw_data\\2023\\Week13\\2023_Week13_PHI_vs_SF\\player_offense.csv\n",
      "Saved DataFrame game_info to raw_data\\2023\\Week13\\2023_Week13_PHI_vs_SF\\game_info.csv\n",
      "Saved DataFrame officials to raw_data\\2023\\Week13\\2023_Week13_PHI_vs_SF\\officials.csv\n",
      "Saved DataFrame expected_points to raw_data\\2023\\Week13\\2023_Week13_PHI_vs_SF\\expected_points.csv\n",
      "Saved DataFrame team_stats to raw_data\\2023\\Week13\\2023_Week13_PHI_vs_SF\\team_stats.csv\n",
      "Saved DataFrame player_defense to raw_data\\2023\\Week13\\2023_Week13_PHI_vs_SF\\player_defense.csv\n",
      "Saved DataFrame returns to raw_data\\2023\\Week13\\2023_Week13_PHI_vs_SF\\returns.csv\n",
      "Saved DataFrame kicking to raw_data\\2023\\Week13\\2023_Week13_PHI_vs_SF\\kicking.csv\n",
      "Saved DataFrame passing_advanced to raw_data\\2023\\Week13\\2023_Week13_PHI_vs_SF\\passing_advanced.csv\n",
      "Saved DataFrame rushing_advanced to raw_data\\2023\\Week13\\2023_Week13_PHI_vs_SF\\rushing_advanced.csv\n",
      "Saved DataFrame receiving_advanced to raw_data\\2023\\Week13\\2023_Week13_PHI_vs_SF\\receiving_advanced.csv\n",
      "Saved DataFrame defense_advanced to raw_data\\2023\\Week13\\2023_Week13_PHI_vs_SF\\defense_advanced.csv\n",
      "Saved DataFrame home_starters to raw_data\\2023\\Week13\\2023_Week13_PHI_vs_SF\\home_starters.csv\n",
      "Saved DataFrame vis_starters to raw_data\\2023\\Week13\\2023_Week13_PHI_vs_SF\\vis_starters.csv\n",
      "Saved DataFrame home_snap_counts to raw_data\\2023\\Week13\\2023_Week13_PHI_vs_SF\\home_snap_counts.csv\n",
      "Saved DataFrame vis_snap_counts to raw_data\\2023\\Week13\\2023_Week13_PHI_vs_SF\\vis_snap_counts.csv\n",
      "Saved DataFrame home_drives to raw_data\\2023\\Week13\\2023_Week13_PHI_vs_SF\\home_drives.csv\n",
      "Saved DataFrame vis_drives to raw_data\\2023\\Week13\\2023_Week13_PHI_vs_SF\\vis_drives.csv\n",
      "Saved DataFrame pbp to raw_data\\2023\\Week13\\2023_Week13_PHI_vs_SF\\pbp.csv\n"
     ]
    },
    {
     "name": "stderr",
     "output_type": "stream",
     "text": [
      "C:\\Users\\jackj\\AppData\\Local\\Temp\\ipykernel_31996\\1469608065.py:49: MarkupResemblesLocatorWarning: The input looks more like a filename than markup. You may want to open this file and pass the filehandle into Beautiful Soup.\n",
      "  comment_soup = BeautifulSoup(comment, 'html.parser')\n"
     ]
    },
    {
     "name": "stdout",
     "output_type": "stream",
     "text": [
      "Saved DataFrame scoring to raw_data\\2023\\Week13\\2023_Week13_GB_vs_KC\\scoring.csv\n",
      "Saved DataFrame player_offense to raw_data\\2023\\Week13\\2023_Week13_GB_vs_KC\\player_offense.csv\n",
      "Saved DataFrame game_info to raw_data\\2023\\Week13\\2023_Week13_GB_vs_KC\\game_info.csv\n",
      "Saved DataFrame officials to raw_data\\2023\\Week13\\2023_Week13_GB_vs_KC\\officials.csv\n",
      "Saved DataFrame expected_points to raw_data\\2023\\Week13\\2023_Week13_GB_vs_KC\\expected_points.csv\n",
      "Saved DataFrame team_stats to raw_data\\2023\\Week13\\2023_Week13_GB_vs_KC\\team_stats.csv\n",
      "Saved DataFrame player_defense to raw_data\\2023\\Week13\\2023_Week13_GB_vs_KC\\player_defense.csv\n",
      "Saved DataFrame returns to raw_data\\2023\\Week13\\2023_Week13_GB_vs_KC\\returns.csv\n",
      "Saved DataFrame kicking to raw_data\\2023\\Week13\\2023_Week13_GB_vs_KC\\kicking.csv\n",
      "Saved DataFrame passing_advanced to raw_data\\2023\\Week13\\2023_Week13_GB_vs_KC\\passing_advanced.csv\n",
      "Saved DataFrame rushing_advanced to raw_data\\2023\\Week13\\2023_Week13_GB_vs_KC\\rushing_advanced.csv\n",
      "Saved DataFrame receiving_advanced to raw_data\\2023\\Week13\\2023_Week13_GB_vs_KC\\receiving_advanced.csv\n",
      "Saved DataFrame defense_advanced to raw_data\\2023\\Week13\\2023_Week13_GB_vs_KC\\defense_advanced.csv\n",
      "Saved DataFrame home_starters to raw_data\\2023\\Week13\\2023_Week13_GB_vs_KC\\home_starters.csv\n",
      "Saved DataFrame vis_starters to raw_data\\2023\\Week13\\2023_Week13_GB_vs_KC\\vis_starters.csv\n",
      "Saved DataFrame home_snap_counts to raw_data\\2023\\Week13\\2023_Week13_GB_vs_KC\\home_snap_counts.csv\n",
      "Saved DataFrame vis_snap_counts to raw_data\\2023\\Week13\\2023_Week13_GB_vs_KC\\vis_snap_counts.csv\n",
      "Saved DataFrame home_drives to raw_data\\2023\\Week13\\2023_Week13_GB_vs_KC\\home_drives.csv\n",
      "Saved DataFrame vis_drives to raw_data\\2023\\Week13\\2023_Week13_GB_vs_KC\\vis_drives.csv\n",
      "Saved DataFrame pbp to raw_data\\2023\\Week13\\2023_Week13_GB_vs_KC\\pbp.csv\n"
     ]
    },
    {
     "name": "stderr",
     "output_type": "stream",
     "text": [
      "C:\\Users\\jackj\\AppData\\Local\\Temp\\ipykernel_31996\\1469608065.py:49: MarkupResemblesLocatorWarning: The input looks more like a filename than markup. You may want to open this file and pass the filehandle into Beautiful Soup.\n",
      "  comment_soup = BeautifulSoup(comment, 'html.parser')\n"
     ]
    },
    {
     "name": "stdout",
     "output_type": "stream",
     "text": [
      "Saved DataFrame scoring to raw_data\\2023\\Week13\\2023_Week13_JAX_vs_CIN\\scoring.csv\n",
      "Saved DataFrame player_offense to raw_data\\2023\\Week13\\2023_Week13_JAX_vs_CIN\\player_offense.csv\n",
      "Saved DataFrame game_info to raw_data\\2023\\Week13\\2023_Week13_JAX_vs_CIN\\game_info.csv\n",
      "Saved DataFrame officials to raw_data\\2023\\Week13\\2023_Week13_JAX_vs_CIN\\officials.csv\n",
      "Saved DataFrame expected_points to raw_data\\2023\\Week13\\2023_Week13_JAX_vs_CIN\\expected_points.csv\n",
      "Saved DataFrame team_stats to raw_data\\2023\\Week13\\2023_Week13_JAX_vs_CIN\\team_stats.csv\n",
      "Saved DataFrame player_defense to raw_data\\2023\\Week13\\2023_Week13_JAX_vs_CIN\\player_defense.csv\n",
      "Saved DataFrame returns to raw_data\\2023\\Week13\\2023_Week13_JAX_vs_CIN\\returns.csv\n",
      "Saved DataFrame kicking to raw_data\\2023\\Week13\\2023_Week13_JAX_vs_CIN\\kicking.csv\n",
      "Saved DataFrame passing_advanced to raw_data\\2023\\Week13\\2023_Week13_JAX_vs_CIN\\passing_advanced.csv\n",
      "Saved DataFrame rushing_advanced to raw_data\\2023\\Week13\\2023_Week13_JAX_vs_CIN\\rushing_advanced.csv\n",
      "Saved DataFrame receiving_advanced to raw_data\\2023\\Week13\\2023_Week13_JAX_vs_CIN\\receiving_advanced.csv\n",
      "Saved DataFrame defense_advanced to raw_data\\2023\\Week13\\2023_Week13_JAX_vs_CIN\\defense_advanced.csv\n",
      "Saved DataFrame home_starters to raw_data\\2023\\Week13\\2023_Week13_JAX_vs_CIN\\home_starters.csv\n",
      "Saved DataFrame vis_starters to raw_data\\2023\\Week13\\2023_Week13_JAX_vs_CIN\\vis_starters.csv\n",
      "Saved DataFrame home_snap_counts to raw_data\\2023\\Week13\\2023_Week13_JAX_vs_CIN\\home_snap_counts.csv\n",
      "Saved DataFrame vis_snap_counts to raw_data\\2023\\Week13\\2023_Week13_JAX_vs_CIN\\vis_snap_counts.csv\n",
      "Saved DataFrame home_drives to raw_data\\2023\\Week13\\2023_Week13_JAX_vs_CIN\\home_drives.csv\n",
      "Saved DataFrame vis_drives to raw_data\\2023\\Week13\\2023_Week13_JAX_vs_CIN\\vis_drives.csv\n",
      "Saved DataFrame pbp to raw_data\\2023\\Week13\\2023_Week13_JAX_vs_CIN\\pbp.csv\n"
     ]
    },
    {
     "name": "stderr",
     "output_type": "stream",
     "text": [
      "C:\\Users\\jackj\\AppData\\Local\\Temp\\ipykernel_31996\\1469608065.py:49: MarkupResemblesLocatorWarning: The input looks more like a filename than markup. You may want to open this file and pass the filehandle into Beautiful Soup.\n",
      "  comment_soup = BeautifulSoup(comment, 'html.parser')\n"
     ]
    },
    {
     "name": "stdout",
     "output_type": "stream",
     "text": [
      "Saved DataFrame scoring to raw_data\\2023\\Week14\\2023_Week14_PIT_vs_NE\\scoring.csv\n",
      "Saved DataFrame player_offense to raw_data\\2023\\Week14\\2023_Week14_PIT_vs_NE\\player_offense.csv\n",
      "Saved DataFrame game_info to raw_data\\2023\\Week14\\2023_Week14_PIT_vs_NE\\game_info.csv\n",
      "Saved DataFrame officials to raw_data\\2023\\Week14\\2023_Week14_PIT_vs_NE\\officials.csv\n",
      "Saved DataFrame expected_points to raw_data\\2023\\Week14\\2023_Week14_PIT_vs_NE\\expected_points.csv\n",
      "Saved DataFrame team_stats to raw_data\\2023\\Week14\\2023_Week14_PIT_vs_NE\\team_stats.csv\n",
      "Saved DataFrame player_defense to raw_data\\2023\\Week14\\2023_Week14_PIT_vs_NE\\player_defense.csv\n",
      "Saved DataFrame returns to raw_data\\2023\\Week14\\2023_Week14_PIT_vs_NE\\returns.csv\n",
      "Saved DataFrame kicking to raw_data\\2023\\Week14\\2023_Week14_PIT_vs_NE\\kicking.csv\n",
      "Saved DataFrame passing_advanced to raw_data\\2023\\Week14\\2023_Week14_PIT_vs_NE\\passing_advanced.csv\n",
      "Saved DataFrame rushing_advanced to raw_data\\2023\\Week14\\2023_Week14_PIT_vs_NE\\rushing_advanced.csv\n",
      "Saved DataFrame receiving_advanced to raw_data\\2023\\Week14\\2023_Week14_PIT_vs_NE\\receiving_advanced.csv\n",
      "Saved DataFrame defense_advanced to raw_data\\2023\\Week14\\2023_Week14_PIT_vs_NE\\defense_advanced.csv\n",
      "Saved DataFrame home_starters to raw_data\\2023\\Week14\\2023_Week14_PIT_vs_NE\\home_starters.csv\n",
      "Saved DataFrame vis_starters to raw_data\\2023\\Week14\\2023_Week14_PIT_vs_NE\\vis_starters.csv\n",
      "Saved DataFrame home_snap_counts to raw_data\\2023\\Week14\\2023_Week14_PIT_vs_NE\\home_snap_counts.csv\n",
      "Saved DataFrame vis_snap_counts to raw_data\\2023\\Week14\\2023_Week14_PIT_vs_NE\\vis_snap_counts.csv\n",
      "Saved DataFrame home_drives to raw_data\\2023\\Week14\\2023_Week14_PIT_vs_NE\\home_drives.csv\n",
      "Saved DataFrame vis_drives to raw_data\\2023\\Week14\\2023_Week14_PIT_vs_NE\\vis_drives.csv\n",
      "Saved DataFrame pbp to raw_data\\2023\\Week14\\2023_Week14_PIT_vs_NE\\pbp.csv\n"
     ]
    },
    {
     "name": "stderr",
     "output_type": "stream",
     "text": [
      "C:\\Users\\jackj\\AppData\\Local\\Temp\\ipykernel_31996\\1469608065.py:49: MarkupResemblesLocatorWarning: The input looks more like a filename than markup. You may want to open this file and pass the filehandle into Beautiful Soup.\n",
      "  comment_soup = BeautifulSoup(comment, 'html.parser')\n"
     ]
    },
    {
     "name": "stdout",
     "output_type": "stream",
     "text": [
      "Saved DataFrame scoring to raw_data\\2023\\Week14\\2023_Week14_ATL_vs_TB\\scoring.csv\n",
      "Saved DataFrame player_offense to raw_data\\2023\\Week14\\2023_Week14_ATL_vs_TB\\player_offense.csv\n",
      "Saved DataFrame game_info to raw_data\\2023\\Week14\\2023_Week14_ATL_vs_TB\\game_info.csv\n",
      "Saved DataFrame officials to raw_data\\2023\\Week14\\2023_Week14_ATL_vs_TB\\officials.csv\n",
      "Saved DataFrame expected_points to raw_data\\2023\\Week14\\2023_Week14_ATL_vs_TB\\expected_points.csv\n",
      "Saved DataFrame team_stats to raw_data\\2023\\Week14\\2023_Week14_ATL_vs_TB\\team_stats.csv\n",
      "Saved DataFrame player_defense to raw_data\\2023\\Week14\\2023_Week14_ATL_vs_TB\\player_defense.csv\n",
      "Saved DataFrame returns to raw_data\\2023\\Week14\\2023_Week14_ATL_vs_TB\\returns.csv\n",
      "Saved DataFrame kicking to raw_data\\2023\\Week14\\2023_Week14_ATL_vs_TB\\kicking.csv\n",
      "Saved DataFrame passing_advanced to raw_data\\2023\\Week14\\2023_Week14_ATL_vs_TB\\passing_advanced.csv\n",
      "Saved DataFrame rushing_advanced to raw_data\\2023\\Week14\\2023_Week14_ATL_vs_TB\\rushing_advanced.csv\n",
      "Saved DataFrame receiving_advanced to raw_data\\2023\\Week14\\2023_Week14_ATL_vs_TB\\receiving_advanced.csv\n",
      "Saved DataFrame defense_advanced to raw_data\\2023\\Week14\\2023_Week14_ATL_vs_TB\\defense_advanced.csv\n",
      "Saved DataFrame home_starters to raw_data\\2023\\Week14\\2023_Week14_ATL_vs_TB\\home_starters.csv\n",
      "Saved DataFrame vis_starters to raw_data\\2023\\Week14\\2023_Week14_ATL_vs_TB\\vis_starters.csv\n",
      "Saved DataFrame home_snap_counts to raw_data\\2023\\Week14\\2023_Week14_ATL_vs_TB\\home_snap_counts.csv\n",
      "Saved DataFrame vis_snap_counts to raw_data\\2023\\Week14\\2023_Week14_ATL_vs_TB\\vis_snap_counts.csv\n",
      "Saved DataFrame home_drives to raw_data\\2023\\Week14\\2023_Week14_ATL_vs_TB\\home_drives.csv\n",
      "Saved DataFrame vis_drives to raw_data\\2023\\Week14\\2023_Week14_ATL_vs_TB\\vis_drives.csv\n",
      "Saved DataFrame pbp to raw_data\\2023\\Week14\\2023_Week14_ATL_vs_TB\\pbp.csv\n"
     ]
    },
    {
     "name": "stderr",
     "output_type": "stream",
     "text": [
      "C:\\Users\\jackj\\AppData\\Local\\Temp\\ipykernel_31996\\1469608065.py:49: MarkupResemblesLocatorWarning: The input looks more like a filename than markup. You may want to open this file and pass the filehandle into Beautiful Soup.\n",
      "  comment_soup = BeautifulSoup(comment, 'html.parser')\n"
     ]
    },
    {
     "name": "stdout",
     "output_type": "stream",
     "text": [
      "Saved DataFrame scoring to raw_data\\2023\\Week14\\2023_Week14_NO_vs_CAR\\scoring.csv\n",
      "Saved DataFrame player_offense to raw_data\\2023\\Week14\\2023_Week14_NO_vs_CAR\\player_offense.csv\n",
      "Saved DataFrame game_info to raw_data\\2023\\Week14\\2023_Week14_NO_vs_CAR\\game_info.csv\n",
      "Saved DataFrame officials to raw_data\\2023\\Week14\\2023_Week14_NO_vs_CAR\\officials.csv\n",
      "Saved DataFrame expected_points to raw_data\\2023\\Week14\\2023_Week14_NO_vs_CAR\\expected_points.csv\n",
      "Saved DataFrame team_stats to raw_data\\2023\\Week14\\2023_Week14_NO_vs_CAR\\team_stats.csv\n",
      "Saved DataFrame player_defense to raw_data\\2023\\Week14\\2023_Week14_NO_vs_CAR\\player_defense.csv\n",
      "Saved DataFrame returns to raw_data\\2023\\Week14\\2023_Week14_NO_vs_CAR\\returns.csv\n",
      "Saved DataFrame kicking to raw_data\\2023\\Week14\\2023_Week14_NO_vs_CAR\\kicking.csv\n",
      "Saved DataFrame passing_advanced to raw_data\\2023\\Week14\\2023_Week14_NO_vs_CAR\\passing_advanced.csv\n",
      "Saved DataFrame rushing_advanced to raw_data\\2023\\Week14\\2023_Week14_NO_vs_CAR\\rushing_advanced.csv\n",
      "Saved DataFrame receiving_advanced to raw_data\\2023\\Week14\\2023_Week14_NO_vs_CAR\\receiving_advanced.csv\n",
      "Saved DataFrame defense_advanced to raw_data\\2023\\Week14\\2023_Week14_NO_vs_CAR\\defense_advanced.csv\n",
      "Saved DataFrame home_starters to raw_data\\2023\\Week14\\2023_Week14_NO_vs_CAR\\home_starters.csv\n",
      "Saved DataFrame vis_starters to raw_data\\2023\\Week14\\2023_Week14_NO_vs_CAR\\vis_starters.csv\n",
      "Saved DataFrame home_snap_counts to raw_data\\2023\\Week14\\2023_Week14_NO_vs_CAR\\home_snap_counts.csv\n",
      "Saved DataFrame vis_snap_counts to raw_data\\2023\\Week14\\2023_Week14_NO_vs_CAR\\vis_snap_counts.csv\n",
      "Saved DataFrame home_drives to raw_data\\2023\\Week14\\2023_Week14_NO_vs_CAR\\home_drives.csv\n",
      "Saved DataFrame vis_drives to raw_data\\2023\\Week14\\2023_Week14_NO_vs_CAR\\vis_drives.csv\n",
      "Saved DataFrame pbp to raw_data\\2023\\Week14\\2023_Week14_NO_vs_CAR\\pbp.csv\n"
     ]
    },
    {
     "name": "stderr",
     "output_type": "stream",
     "text": [
      "C:\\Users\\jackj\\AppData\\Local\\Temp\\ipykernel_31996\\1469608065.py:49: MarkupResemblesLocatorWarning: The input looks more like a filename than markup. You may want to open this file and pass the filehandle into Beautiful Soup.\n",
      "  comment_soup = BeautifulSoup(comment, 'html.parser')\n"
     ]
    },
    {
     "name": "stdout",
     "output_type": "stream",
     "text": [
      "Saved DataFrame scoring to raw_data\\2023\\Week14\\2023_Week14_CHI_vs_DET\\scoring.csv\n",
      "Saved DataFrame player_offense to raw_data\\2023\\Week14\\2023_Week14_CHI_vs_DET\\player_offense.csv\n",
      "Saved DataFrame game_info to raw_data\\2023\\Week14\\2023_Week14_CHI_vs_DET\\game_info.csv\n",
      "Saved DataFrame officials to raw_data\\2023\\Week14\\2023_Week14_CHI_vs_DET\\officials.csv\n",
      "Saved DataFrame expected_points to raw_data\\2023\\Week14\\2023_Week14_CHI_vs_DET\\expected_points.csv\n",
      "Saved DataFrame team_stats to raw_data\\2023\\Week14\\2023_Week14_CHI_vs_DET\\team_stats.csv\n",
      "Saved DataFrame player_defense to raw_data\\2023\\Week14\\2023_Week14_CHI_vs_DET\\player_defense.csv\n",
      "Saved DataFrame returns to raw_data\\2023\\Week14\\2023_Week14_CHI_vs_DET\\returns.csv\n",
      "Saved DataFrame kicking to raw_data\\2023\\Week14\\2023_Week14_CHI_vs_DET\\kicking.csv\n",
      "Saved DataFrame passing_advanced to raw_data\\2023\\Week14\\2023_Week14_CHI_vs_DET\\passing_advanced.csv\n",
      "Saved DataFrame rushing_advanced to raw_data\\2023\\Week14\\2023_Week14_CHI_vs_DET\\rushing_advanced.csv\n",
      "Saved DataFrame receiving_advanced to raw_data\\2023\\Week14\\2023_Week14_CHI_vs_DET\\receiving_advanced.csv\n",
      "Saved DataFrame defense_advanced to raw_data\\2023\\Week14\\2023_Week14_CHI_vs_DET\\defense_advanced.csv\n",
      "Saved DataFrame home_starters to raw_data\\2023\\Week14\\2023_Week14_CHI_vs_DET\\home_starters.csv\n",
      "Saved DataFrame vis_starters to raw_data\\2023\\Week14\\2023_Week14_CHI_vs_DET\\vis_starters.csv\n",
      "Saved DataFrame home_snap_counts to raw_data\\2023\\Week14\\2023_Week14_CHI_vs_DET\\home_snap_counts.csv\n",
      "Saved DataFrame vis_snap_counts to raw_data\\2023\\Week14\\2023_Week14_CHI_vs_DET\\vis_snap_counts.csv\n",
      "Saved DataFrame home_drives to raw_data\\2023\\Week14\\2023_Week14_CHI_vs_DET\\home_drives.csv\n",
      "Saved DataFrame vis_drives to raw_data\\2023\\Week14\\2023_Week14_CHI_vs_DET\\vis_drives.csv\n",
      "Saved DataFrame pbp to raw_data\\2023\\Week14\\2023_Week14_CHI_vs_DET\\pbp.csv\n"
     ]
    },
    {
     "name": "stderr",
     "output_type": "stream",
     "text": [
      "C:\\Users\\jackj\\AppData\\Local\\Temp\\ipykernel_31996\\1469608065.py:49: MarkupResemblesLocatorWarning: The input looks more like a filename than markup. You may want to open this file and pass the filehandle into Beautiful Soup.\n",
      "  comment_soup = BeautifulSoup(comment, 'html.parser')\n"
     ]
    },
    {
     "name": "stdout",
     "output_type": "stream",
     "text": [
      "Saved DataFrame scoring to raw_data\\2023\\Week14\\2023_Week14_CIN_vs_IND\\scoring.csv\n",
      "Saved DataFrame player_offense to raw_data\\2023\\Week14\\2023_Week14_CIN_vs_IND\\player_offense.csv\n",
      "Saved DataFrame game_info to raw_data\\2023\\Week14\\2023_Week14_CIN_vs_IND\\game_info.csv\n",
      "Saved DataFrame officials to raw_data\\2023\\Week14\\2023_Week14_CIN_vs_IND\\officials.csv\n",
      "Saved DataFrame expected_points to raw_data\\2023\\Week14\\2023_Week14_CIN_vs_IND\\expected_points.csv\n",
      "Saved DataFrame team_stats to raw_data\\2023\\Week14\\2023_Week14_CIN_vs_IND\\team_stats.csv\n",
      "Saved DataFrame player_defense to raw_data\\2023\\Week14\\2023_Week14_CIN_vs_IND\\player_defense.csv\n",
      "Saved DataFrame returns to raw_data\\2023\\Week14\\2023_Week14_CIN_vs_IND\\returns.csv\n",
      "Saved DataFrame kicking to raw_data\\2023\\Week14\\2023_Week14_CIN_vs_IND\\kicking.csv\n",
      "Saved DataFrame passing_advanced to raw_data\\2023\\Week14\\2023_Week14_CIN_vs_IND\\passing_advanced.csv\n",
      "Saved DataFrame rushing_advanced to raw_data\\2023\\Week14\\2023_Week14_CIN_vs_IND\\rushing_advanced.csv\n",
      "Saved DataFrame receiving_advanced to raw_data\\2023\\Week14\\2023_Week14_CIN_vs_IND\\receiving_advanced.csv\n",
      "Saved DataFrame defense_advanced to raw_data\\2023\\Week14\\2023_Week14_CIN_vs_IND\\defense_advanced.csv\n",
      "Saved DataFrame home_starters to raw_data\\2023\\Week14\\2023_Week14_CIN_vs_IND\\home_starters.csv\n",
      "Saved DataFrame vis_starters to raw_data\\2023\\Week14\\2023_Week14_CIN_vs_IND\\vis_starters.csv\n",
      "Saved DataFrame home_snap_counts to raw_data\\2023\\Week14\\2023_Week14_CIN_vs_IND\\home_snap_counts.csv\n",
      "Saved DataFrame vis_snap_counts to raw_data\\2023\\Week14\\2023_Week14_CIN_vs_IND\\vis_snap_counts.csv\n",
      "Saved DataFrame home_drives to raw_data\\2023\\Week14\\2023_Week14_CIN_vs_IND\\home_drives.csv\n",
      "Saved DataFrame vis_drives to raw_data\\2023\\Week14\\2023_Week14_CIN_vs_IND\\vis_drives.csv\n",
      "Saved DataFrame pbp to raw_data\\2023\\Week14\\2023_Week14_CIN_vs_IND\\pbp.csv\n"
     ]
    },
    {
     "name": "stderr",
     "output_type": "stream",
     "text": [
      "C:\\Users\\jackj\\AppData\\Local\\Temp\\ipykernel_31996\\1469608065.py:49: MarkupResemblesLocatorWarning: The input looks more like a filename than markup. You may want to open this file and pass the filehandle into Beautiful Soup.\n",
      "  comment_soup = BeautifulSoup(comment, 'html.parser')\n"
     ]
    },
    {
     "name": "stdout",
     "output_type": "stream",
     "text": [
      "Saved DataFrame scoring to raw_data\\2023\\Week14\\2023_Week14_CLE_vs_JAX\\scoring.csv\n",
      "Saved DataFrame player_offense to raw_data\\2023\\Week14\\2023_Week14_CLE_vs_JAX\\player_offense.csv\n",
      "Saved DataFrame game_info to raw_data\\2023\\Week14\\2023_Week14_CLE_vs_JAX\\game_info.csv\n",
      "Saved DataFrame officials to raw_data\\2023\\Week14\\2023_Week14_CLE_vs_JAX\\officials.csv\n",
      "Saved DataFrame expected_points to raw_data\\2023\\Week14\\2023_Week14_CLE_vs_JAX\\expected_points.csv\n",
      "Saved DataFrame team_stats to raw_data\\2023\\Week14\\2023_Week14_CLE_vs_JAX\\team_stats.csv\n",
      "Saved DataFrame player_defense to raw_data\\2023\\Week14\\2023_Week14_CLE_vs_JAX\\player_defense.csv\n",
      "Saved DataFrame returns to raw_data\\2023\\Week14\\2023_Week14_CLE_vs_JAX\\returns.csv\n",
      "Saved DataFrame kicking to raw_data\\2023\\Week14\\2023_Week14_CLE_vs_JAX\\kicking.csv\n",
      "Saved DataFrame passing_advanced to raw_data\\2023\\Week14\\2023_Week14_CLE_vs_JAX\\passing_advanced.csv\n",
      "Saved DataFrame rushing_advanced to raw_data\\2023\\Week14\\2023_Week14_CLE_vs_JAX\\rushing_advanced.csv\n",
      "Saved DataFrame receiving_advanced to raw_data\\2023\\Week14\\2023_Week14_CLE_vs_JAX\\receiving_advanced.csv\n",
      "Saved DataFrame defense_advanced to raw_data\\2023\\Week14\\2023_Week14_CLE_vs_JAX\\defense_advanced.csv\n",
      "Saved DataFrame home_starters to raw_data\\2023\\Week14\\2023_Week14_CLE_vs_JAX\\home_starters.csv\n",
      "Saved DataFrame vis_starters to raw_data\\2023\\Week14\\2023_Week14_CLE_vs_JAX\\vis_starters.csv\n",
      "Saved DataFrame home_snap_counts to raw_data\\2023\\Week14\\2023_Week14_CLE_vs_JAX\\home_snap_counts.csv\n",
      "Saved DataFrame vis_snap_counts to raw_data\\2023\\Week14\\2023_Week14_CLE_vs_JAX\\vis_snap_counts.csv\n",
      "Saved DataFrame home_drives to raw_data\\2023\\Week14\\2023_Week14_CLE_vs_JAX\\home_drives.csv\n",
      "Saved DataFrame vis_drives to raw_data\\2023\\Week14\\2023_Week14_CLE_vs_JAX\\vis_drives.csv\n",
      "Saved DataFrame pbp to raw_data\\2023\\Week14\\2023_Week14_CLE_vs_JAX\\pbp.csv\n"
     ]
    },
    {
     "name": "stderr",
     "output_type": "stream",
     "text": [
      "C:\\Users\\jackj\\AppData\\Local\\Temp\\ipykernel_31996\\1469608065.py:49: MarkupResemblesLocatorWarning: The input looks more like a filename than markup. You may want to open this file and pass the filehandle into Beautiful Soup.\n",
      "  comment_soup = BeautifulSoup(comment, 'html.parser')\n"
     ]
    },
    {
     "name": "stdout",
     "output_type": "stream",
     "text": [
      "Saved DataFrame scoring to raw_data\\2023\\Week14\\2023_Week14_NYJ_vs_HOU\\scoring.csv\n",
      "Saved DataFrame player_offense to raw_data\\2023\\Week14\\2023_Week14_NYJ_vs_HOU\\player_offense.csv\n",
      "Saved DataFrame game_info to raw_data\\2023\\Week14\\2023_Week14_NYJ_vs_HOU\\game_info.csv\n",
      "Saved DataFrame officials to raw_data\\2023\\Week14\\2023_Week14_NYJ_vs_HOU\\officials.csv\n",
      "Saved DataFrame expected_points to raw_data\\2023\\Week14\\2023_Week14_NYJ_vs_HOU\\expected_points.csv\n",
      "Saved DataFrame team_stats to raw_data\\2023\\Week14\\2023_Week14_NYJ_vs_HOU\\team_stats.csv\n",
      "Saved DataFrame player_defense to raw_data\\2023\\Week14\\2023_Week14_NYJ_vs_HOU\\player_defense.csv\n",
      "Saved DataFrame returns to raw_data\\2023\\Week14\\2023_Week14_NYJ_vs_HOU\\returns.csv\n",
      "Saved DataFrame kicking to raw_data\\2023\\Week14\\2023_Week14_NYJ_vs_HOU\\kicking.csv\n",
      "Saved DataFrame passing_advanced to raw_data\\2023\\Week14\\2023_Week14_NYJ_vs_HOU\\passing_advanced.csv\n",
      "Saved DataFrame rushing_advanced to raw_data\\2023\\Week14\\2023_Week14_NYJ_vs_HOU\\rushing_advanced.csv\n",
      "Saved DataFrame receiving_advanced to raw_data\\2023\\Week14\\2023_Week14_NYJ_vs_HOU\\receiving_advanced.csv\n",
      "Saved DataFrame defense_advanced to raw_data\\2023\\Week14\\2023_Week14_NYJ_vs_HOU\\defense_advanced.csv\n",
      "Saved DataFrame home_starters to raw_data\\2023\\Week14\\2023_Week14_NYJ_vs_HOU\\home_starters.csv\n",
      "Saved DataFrame vis_starters to raw_data\\2023\\Week14\\2023_Week14_NYJ_vs_HOU\\vis_starters.csv\n",
      "Saved DataFrame home_snap_counts to raw_data\\2023\\Week14\\2023_Week14_NYJ_vs_HOU\\home_snap_counts.csv\n",
      "Saved DataFrame vis_snap_counts to raw_data\\2023\\Week14\\2023_Week14_NYJ_vs_HOU\\vis_snap_counts.csv\n",
      "Saved DataFrame home_drives to raw_data\\2023\\Week14\\2023_Week14_NYJ_vs_HOU\\home_drives.csv\n",
      "Saved DataFrame vis_drives to raw_data\\2023\\Week14\\2023_Week14_NYJ_vs_HOU\\vis_drives.csv\n",
      "Saved DataFrame pbp to raw_data\\2023\\Week14\\2023_Week14_NYJ_vs_HOU\\pbp.csv\n"
     ]
    },
    {
     "name": "stderr",
     "output_type": "stream",
     "text": [
      "C:\\Users\\jackj\\AppData\\Local\\Temp\\ipykernel_31996\\1469608065.py:49: MarkupResemblesLocatorWarning: The input looks more like a filename than markup. You may want to open this file and pass the filehandle into Beautiful Soup.\n",
      "  comment_soup = BeautifulSoup(comment, 'html.parser')\n"
     ]
    },
    {
     "name": "stdout",
     "output_type": "stream",
     "text": [
      "Saved DataFrame scoring to raw_data\\2023\\Week14\\2023_Week14_BAL_vs_LAR\\scoring.csv\n",
      "Saved DataFrame player_offense to raw_data\\2023\\Week14\\2023_Week14_BAL_vs_LAR\\player_offense.csv\n",
      "Saved DataFrame game_info to raw_data\\2023\\Week14\\2023_Week14_BAL_vs_LAR\\game_info.csv\n",
      "Saved DataFrame officials to raw_data\\2023\\Week14\\2023_Week14_BAL_vs_LAR\\officials.csv\n",
      "Saved DataFrame expected_points to raw_data\\2023\\Week14\\2023_Week14_BAL_vs_LAR\\expected_points.csv\n",
      "Saved DataFrame team_stats to raw_data\\2023\\Week14\\2023_Week14_BAL_vs_LAR\\team_stats.csv\n",
      "Saved DataFrame player_defense to raw_data\\2023\\Week14\\2023_Week14_BAL_vs_LAR\\player_defense.csv\n",
      "Saved DataFrame returns to raw_data\\2023\\Week14\\2023_Week14_BAL_vs_LAR\\returns.csv\n",
      "Saved DataFrame kicking to raw_data\\2023\\Week14\\2023_Week14_BAL_vs_LAR\\kicking.csv\n",
      "Saved DataFrame passing_advanced to raw_data\\2023\\Week14\\2023_Week14_BAL_vs_LAR\\passing_advanced.csv\n",
      "Saved DataFrame rushing_advanced to raw_data\\2023\\Week14\\2023_Week14_BAL_vs_LAR\\rushing_advanced.csv\n",
      "Saved DataFrame receiving_advanced to raw_data\\2023\\Week14\\2023_Week14_BAL_vs_LAR\\receiving_advanced.csv\n",
      "Saved DataFrame defense_advanced to raw_data\\2023\\Week14\\2023_Week14_BAL_vs_LAR\\defense_advanced.csv\n",
      "Saved DataFrame home_starters to raw_data\\2023\\Week14\\2023_Week14_BAL_vs_LAR\\home_starters.csv\n",
      "Saved DataFrame vis_starters to raw_data\\2023\\Week14\\2023_Week14_BAL_vs_LAR\\vis_starters.csv\n",
      "Saved DataFrame home_snap_counts to raw_data\\2023\\Week14\\2023_Week14_BAL_vs_LAR\\home_snap_counts.csv\n",
      "Saved DataFrame vis_snap_counts to raw_data\\2023\\Week14\\2023_Week14_BAL_vs_LAR\\vis_snap_counts.csv\n",
      "Saved DataFrame home_drives to raw_data\\2023\\Week14\\2023_Week14_BAL_vs_LAR\\home_drives.csv\n",
      "Saved DataFrame vis_drives to raw_data\\2023\\Week14\\2023_Week14_BAL_vs_LAR\\vis_drives.csv\n",
      "Saved DataFrame pbp to raw_data\\2023\\Week14\\2023_Week14_BAL_vs_LAR\\pbp.csv\n"
     ]
    },
    {
     "name": "stderr",
     "output_type": "stream",
     "text": [
      "C:\\Users\\jackj\\AppData\\Local\\Temp\\ipykernel_31996\\1469608065.py:49: MarkupResemblesLocatorWarning: The input looks more like a filename than markup. You may want to open this file and pass the filehandle into Beautiful Soup.\n",
      "  comment_soup = BeautifulSoup(comment, 'html.parser')\n"
     ]
    },
    {
     "name": "stdout",
     "output_type": "stream",
     "text": [
      "Saved DataFrame scoring to raw_data\\2023\\Week14\\2023_Week14_LVR_vs_MIN\\scoring.csv\n",
      "Saved DataFrame player_offense to raw_data\\2023\\Week14\\2023_Week14_LVR_vs_MIN\\player_offense.csv\n",
      "Saved DataFrame game_info to raw_data\\2023\\Week14\\2023_Week14_LVR_vs_MIN\\game_info.csv\n",
      "Saved DataFrame officials to raw_data\\2023\\Week14\\2023_Week14_LVR_vs_MIN\\officials.csv\n",
      "Saved DataFrame expected_points to raw_data\\2023\\Week14\\2023_Week14_LVR_vs_MIN\\expected_points.csv\n",
      "Saved DataFrame team_stats to raw_data\\2023\\Week14\\2023_Week14_LVR_vs_MIN\\team_stats.csv\n",
      "Saved DataFrame player_defense to raw_data\\2023\\Week14\\2023_Week14_LVR_vs_MIN\\player_defense.csv\n",
      "Saved DataFrame returns to raw_data\\2023\\Week14\\2023_Week14_LVR_vs_MIN\\returns.csv\n",
      "Saved DataFrame kicking to raw_data\\2023\\Week14\\2023_Week14_LVR_vs_MIN\\kicking.csv\n",
      "Saved DataFrame passing_advanced to raw_data\\2023\\Week14\\2023_Week14_LVR_vs_MIN\\passing_advanced.csv\n",
      "Saved DataFrame rushing_advanced to raw_data\\2023\\Week14\\2023_Week14_LVR_vs_MIN\\rushing_advanced.csv\n",
      "Saved DataFrame receiving_advanced to raw_data\\2023\\Week14\\2023_Week14_LVR_vs_MIN\\receiving_advanced.csv\n",
      "Saved DataFrame defense_advanced to raw_data\\2023\\Week14\\2023_Week14_LVR_vs_MIN\\defense_advanced.csv\n",
      "Saved DataFrame home_starters to raw_data\\2023\\Week14\\2023_Week14_LVR_vs_MIN\\home_starters.csv\n",
      "Saved DataFrame vis_starters to raw_data\\2023\\Week14\\2023_Week14_LVR_vs_MIN\\vis_starters.csv\n",
      "Saved DataFrame home_snap_counts to raw_data\\2023\\Week14\\2023_Week14_LVR_vs_MIN\\home_snap_counts.csv\n",
      "Saved DataFrame vis_snap_counts to raw_data\\2023\\Week14\\2023_Week14_LVR_vs_MIN\\vis_snap_counts.csv\n",
      "Saved DataFrame home_drives to raw_data\\2023\\Week14\\2023_Week14_LVR_vs_MIN\\home_drives.csv\n",
      "Saved DataFrame vis_drives to raw_data\\2023\\Week14\\2023_Week14_LVR_vs_MIN\\vis_drives.csv\n",
      "Saved DataFrame pbp to raw_data\\2023\\Week14\\2023_Week14_LVR_vs_MIN\\pbp.csv\n"
     ]
    },
    {
     "name": "stderr",
     "output_type": "stream",
     "text": [
      "C:\\Users\\jackj\\AppData\\Local\\Temp\\ipykernel_31996\\1469608065.py:49: MarkupResemblesLocatorWarning: The input looks more like a filename than markup. You may want to open this file and pass the filehandle into Beautiful Soup.\n",
      "  comment_soup = BeautifulSoup(comment, 'html.parser')\n"
     ]
    },
    {
     "name": "stdout",
     "output_type": "stream",
     "text": [
      "Saved DataFrame scoring to raw_data\\2023\\Week14\\2023_Week14_SF_vs_SEA\\scoring.csv\n",
      "Saved DataFrame player_offense to raw_data\\2023\\Week14\\2023_Week14_SF_vs_SEA\\player_offense.csv\n",
      "Saved DataFrame game_info to raw_data\\2023\\Week14\\2023_Week14_SF_vs_SEA\\game_info.csv\n",
      "Saved DataFrame officials to raw_data\\2023\\Week14\\2023_Week14_SF_vs_SEA\\officials.csv\n",
      "Saved DataFrame expected_points to raw_data\\2023\\Week14\\2023_Week14_SF_vs_SEA\\expected_points.csv\n",
      "Saved DataFrame team_stats to raw_data\\2023\\Week14\\2023_Week14_SF_vs_SEA\\team_stats.csv\n",
      "Saved DataFrame player_defense to raw_data\\2023\\Week14\\2023_Week14_SF_vs_SEA\\player_defense.csv\n",
      "Saved DataFrame returns to raw_data\\2023\\Week14\\2023_Week14_SF_vs_SEA\\returns.csv\n",
      "Saved DataFrame kicking to raw_data\\2023\\Week14\\2023_Week14_SF_vs_SEA\\kicking.csv\n",
      "Saved DataFrame passing_advanced to raw_data\\2023\\Week14\\2023_Week14_SF_vs_SEA\\passing_advanced.csv\n",
      "Saved DataFrame rushing_advanced to raw_data\\2023\\Week14\\2023_Week14_SF_vs_SEA\\rushing_advanced.csv\n",
      "Saved DataFrame receiving_advanced to raw_data\\2023\\Week14\\2023_Week14_SF_vs_SEA\\receiving_advanced.csv\n",
      "Saved DataFrame defense_advanced to raw_data\\2023\\Week14\\2023_Week14_SF_vs_SEA\\defense_advanced.csv\n",
      "Saved DataFrame home_starters to raw_data\\2023\\Week14\\2023_Week14_SF_vs_SEA\\home_starters.csv\n",
      "Saved DataFrame vis_starters to raw_data\\2023\\Week14\\2023_Week14_SF_vs_SEA\\vis_starters.csv\n",
      "Saved DataFrame home_snap_counts to raw_data\\2023\\Week14\\2023_Week14_SF_vs_SEA\\home_snap_counts.csv\n",
      "Saved DataFrame vis_snap_counts to raw_data\\2023\\Week14\\2023_Week14_SF_vs_SEA\\vis_snap_counts.csv\n",
      "Saved DataFrame home_drives to raw_data\\2023\\Week14\\2023_Week14_SF_vs_SEA\\home_drives.csv\n",
      "Saved DataFrame vis_drives to raw_data\\2023\\Week14\\2023_Week14_SF_vs_SEA\\vis_drives.csv\n",
      "Saved DataFrame pbp to raw_data\\2023\\Week14\\2023_Week14_SF_vs_SEA\\pbp.csv\n"
     ]
    },
    {
     "name": "stderr",
     "output_type": "stream",
     "text": [
      "C:\\Users\\jackj\\AppData\\Local\\Temp\\ipykernel_31996\\1469608065.py:49: MarkupResemblesLocatorWarning: The input looks more like a filename than markup. You may want to open this file and pass the filehandle into Beautiful Soup.\n",
      "  comment_soup = BeautifulSoup(comment, 'html.parser')\n"
     ]
    },
    {
     "name": "stdout",
     "output_type": "stream",
     "text": [
      "Saved DataFrame scoring to raw_data\\2023\\Week14\\2023_Week14_KC_vs_BUF\\scoring.csv\n",
      "Saved DataFrame player_offense to raw_data\\2023\\Week14\\2023_Week14_KC_vs_BUF\\player_offense.csv\n",
      "Saved DataFrame game_info to raw_data\\2023\\Week14\\2023_Week14_KC_vs_BUF\\game_info.csv\n",
      "Saved DataFrame officials to raw_data\\2023\\Week14\\2023_Week14_KC_vs_BUF\\officials.csv\n",
      "Saved DataFrame expected_points to raw_data\\2023\\Week14\\2023_Week14_KC_vs_BUF\\expected_points.csv\n",
      "Saved DataFrame team_stats to raw_data\\2023\\Week14\\2023_Week14_KC_vs_BUF\\team_stats.csv\n",
      "Saved DataFrame player_defense to raw_data\\2023\\Week14\\2023_Week14_KC_vs_BUF\\player_defense.csv\n",
      "Saved DataFrame returns to raw_data\\2023\\Week14\\2023_Week14_KC_vs_BUF\\returns.csv\n",
      "Saved DataFrame kicking to raw_data\\2023\\Week14\\2023_Week14_KC_vs_BUF\\kicking.csv\n",
      "Saved DataFrame passing_advanced to raw_data\\2023\\Week14\\2023_Week14_KC_vs_BUF\\passing_advanced.csv\n",
      "Saved DataFrame rushing_advanced to raw_data\\2023\\Week14\\2023_Week14_KC_vs_BUF\\rushing_advanced.csv\n",
      "Saved DataFrame receiving_advanced to raw_data\\2023\\Week14\\2023_Week14_KC_vs_BUF\\receiving_advanced.csv\n",
      "Saved DataFrame defense_advanced to raw_data\\2023\\Week14\\2023_Week14_KC_vs_BUF\\defense_advanced.csv\n",
      "Saved DataFrame home_starters to raw_data\\2023\\Week14\\2023_Week14_KC_vs_BUF\\home_starters.csv\n",
      "Saved DataFrame vis_starters to raw_data\\2023\\Week14\\2023_Week14_KC_vs_BUF\\vis_starters.csv\n",
      "Saved DataFrame home_snap_counts to raw_data\\2023\\Week14\\2023_Week14_KC_vs_BUF\\home_snap_counts.csv\n",
      "Saved DataFrame vis_snap_counts to raw_data\\2023\\Week14\\2023_Week14_KC_vs_BUF\\vis_snap_counts.csv\n",
      "Saved DataFrame home_drives to raw_data\\2023\\Week14\\2023_Week14_KC_vs_BUF\\home_drives.csv\n",
      "Saved DataFrame vis_drives to raw_data\\2023\\Week14\\2023_Week14_KC_vs_BUF\\vis_drives.csv\n",
      "Saved DataFrame pbp to raw_data\\2023\\Week14\\2023_Week14_KC_vs_BUF\\pbp.csv\n"
     ]
    },
    {
     "name": "stderr",
     "output_type": "stream",
     "text": [
      "C:\\Users\\jackj\\AppData\\Local\\Temp\\ipykernel_31996\\1469608065.py:49: MarkupResemblesLocatorWarning: The input looks more like a filename than markup. You may want to open this file and pass the filehandle into Beautiful Soup.\n",
      "  comment_soup = BeautifulSoup(comment, 'html.parser')\n"
     ]
    },
    {
     "name": "stdout",
     "output_type": "stream",
     "text": [
      "Saved DataFrame scoring to raw_data\\2023\\Week14\\2023_Week14_LAC_vs_DEN\\scoring.csv\n",
      "Saved DataFrame player_offense to raw_data\\2023\\Week14\\2023_Week14_LAC_vs_DEN\\player_offense.csv\n",
      "Saved DataFrame game_info to raw_data\\2023\\Week14\\2023_Week14_LAC_vs_DEN\\game_info.csv\n",
      "Saved DataFrame officials to raw_data\\2023\\Week14\\2023_Week14_LAC_vs_DEN\\officials.csv\n",
      "Saved DataFrame expected_points to raw_data\\2023\\Week14\\2023_Week14_LAC_vs_DEN\\expected_points.csv\n",
      "Saved DataFrame team_stats to raw_data\\2023\\Week14\\2023_Week14_LAC_vs_DEN\\team_stats.csv\n",
      "Saved DataFrame player_defense to raw_data\\2023\\Week14\\2023_Week14_LAC_vs_DEN\\player_defense.csv\n",
      "Saved DataFrame returns to raw_data\\2023\\Week14\\2023_Week14_LAC_vs_DEN\\returns.csv\n",
      "Saved DataFrame kicking to raw_data\\2023\\Week14\\2023_Week14_LAC_vs_DEN\\kicking.csv\n",
      "Saved DataFrame passing_advanced to raw_data\\2023\\Week14\\2023_Week14_LAC_vs_DEN\\passing_advanced.csv\n",
      "Saved DataFrame rushing_advanced to raw_data\\2023\\Week14\\2023_Week14_LAC_vs_DEN\\rushing_advanced.csv\n",
      "Saved DataFrame receiving_advanced to raw_data\\2023\\Week14\\2023_Week14_LAC_vs_DEN\\receiving_advanced.csv\n",
      "Saved DataFrame defense_advanced to raw_data\\2023\\Week14\\2023_Week14_LAC_vs_DEN\\defense_advanced.csv\n",
      "Saved DataFrame home_starters to raw_data\\2023\\Week14\\2023_Week14_LAC_vs_DEN\\home_starters.csv\n",
      "Saved DataFrame vis_starters to raw_data\\2023\\Week14\\2023_Week14_LAC_vs_DEN\\vis_starters.csv\n",
      "Saved DataFrame home_snap_counts to raw_data\\2023\\Week14\\2023_Week14_LAC_vs_DEN\\home_snap_counts.csv\n",
      "Saved DataFrame vis_snap_counts to raw_data\\2023\\Week14\\2023_Week14_LAC_vs_DEN\\vis_snap_counts.csv\n",
      "Saved DataFrame home_drives to raw_data\\2023\\Week14\\2023_Week14_LAC_vs_DEN\\home_drives.csv\n",
      "Saved DataFrame vis_drives to raw_data\\2023\\Week14\\2023_Week14_LAC_vs_DEN\\vis_drives.csv\n",
      "Saved DataFrame pbp to raw_data\\2023\\Week14\\2023_Week14_LAC_vs_DEN\\pbp.csv\n"
     ]
    },
    {
     "name": "stderr",
     "output_type": "stream",
     "text": [
      "C:\\Users\\jackj\\AppData\\Local\\Temp\\ipykernel_31996\\1469608065.py:49: MarkupResemblesLocatorWarning: The input looks more like a filename than markup. You may want to open this file and pass the filehandle into Beautiful Soup.\n",
      "  comment_soup = BeautifulSoup(comment, 'html.parser')\n"
     ]
    },
    {
     "name": "stdout",
     "output_type": "stream",
     "text": [
      "Saved DataFrame scoring to raw_data\\2023\\Week14\\2023_Week14_DAL_vs_PHI\\scoring.csv\n",
      "Saved DataFrame player_offense to raw_data\\2023\\Week14\\2023_Week14_DAL_vs_PHI\\player_offense.csv\n",
      "Saved DataFrame game_info to raw_data\\2023\\Week14\\2023_Week14_DAL_vs_PHI\\game_info.csv\n",
      "Saved DataFrame officials to raw_data\\2023\\Week14\\2023_Week14_DAL_vs_PHI\\officials.csv\n",
      "Saved DataFrame expected_points to raw_data\\2023\\Week14\\2023_Week14_DAL_vs_PHI\\expected_points.csv\n",
      "Saved DataFrame team_stats to raw_data\\2023\\Week14\\2023_Week14_DAL_vs_PHI\\team_stats.csv\n",
      "Saved DataFrame player_defense to raw_data\\2023\\Week14\\2023_Week14_DAL_vs_PHI\\player_defense.csv\n",
      "Saved DataFrame returns to raw_data\\2023\\Week14\\2023_Week14_DAL_vs_PHI\\returns.csv\n",
      "Saved DataFrame kicking to raw_data\\2023\\Week14\\2023_Week14_DAL_vs_PHI\\kicking.csv\n",
      "Saved DataFrame passing_advanced to raw_data\\2023\\Week14\\2023_Week14_DAL_vs_PHI\\passing_advanced.csv\n",
      "Saved DataFrame rushing_advanced to raw_data\\2023\\Week14\\2023_Week14_DAL_vs_PHI\\rushing_advanced.csv\n",
      "Saved DataFrame receiving_advanced to raw_data\\2023\\Week14\\2023_Week14_DAL_vs_PHI\\receiving_advanced.csv\n",
      "Saved DataFrame defense_advanced to raw_data\\2023\\Week14\\2023_Week14_DAL_vs_PHI\\defense_advanced.csv\n",
      "Saved DataFrame home_starters to raw_data\\2023\\Week14\\2023_Week14_DAL_vs_PHI\\home_starters.csv\n",
      "Saved DataFrame vis_starters to raw_data\\2023\\Week14\\2023_Week14_DAL_vs_PHI\\vis_starters.csv\n",
      "Saved DataFrame home_snap_counts to raw_data\\2023\\Week14\\2023_Week14_DAL_vs_PHI\\home_snap_counts.csv\n",
      "Saved DataFrame vis_snap_counts to raw_data\\2023\\Week14\\2023_Week14_DAL_vs_PHI\\vis_snap_counts.csv\n",
      "Saved DataFrame home_drives to raw_data\\2023\\Week14\\2023_Week14_DAL_vs_PHI\\home_drives.csv\n",
      "Saved DataFrame vis_drives to raw_data\\2023\\Week14\\2023_Week14_DAL_vs_PHI\\vis_drives.csv\n",
      "Saved DataFrame pbp to raw_data\\2023\\Week14\\2023_Week14_DAL_vs_PHI\\pbp.csv\n"
     ]
    },
    {
     "name": "stderr",
     "output_type": "stream",
     "text": [
      "C:\\Users\\jackj\\AppData\\Local\\Temp\\ipykernel_31996\\1469608065.py:49: MarkupResemblesLocatorWarning: The input looks more like a filename than markup. You may want to open this file and pass the filehandle into Beautiful Soup.\n",
      "  comment_soup = BeautifulSoup(comment, 'html.parser')\n"
     ]
    },
    {
     "name": "stdout",
     "output_type": "stream",
     "text": [
      "Saved DataFrame scoring to raw_data\\2023\\Week14\\2023_Week14_NYG_vs_GB\\scoring.csv\n",
      "Saved DataFrame player_offense to raw_data\\2023\\Week14\\2023_Week14_NYG_vs_GB\\player_offense.csv\n",
      "Saved DataFrame game_info to raw_data\\2023\\Week14\\2023_Week14_NYG_vs_GB\\game_info.csv\n",
      "Saved DataFrame officials to raw_data\\2023\\Week14\\2023_Week14_NYG_vs_GB\\officials.csv\n",
      "Saved DataFrame expected_points to raw_data\\2023\\Week14\\2023_Week14_NYG_vs_GB\\expected_points.csv\n",
      "Saved DataFrame team_stats to raw_data\\2023\\Week14\\2023_Week14_NYG_vs_GB\\team_stats.csv\n",
      "Saved DataFrame player_defense to raw_data\\2023\\Week14\\2023_Week14_NYG_vs_GB\\player_defense.csv\n",
      "Saved DataFrame returns to raw_data\\2023\\Week14\\2023_Week14_NYG_vs_GB\\returns.csv\n",
      "Saved DataFrame kicking to raw_data\\2023\\Week14\\2023_Week14_NYG_vs_GB\\kicking.csv\n",
      "Saved DataFrame passing_advanced to raw_data\\2023\\Week14\\2023_Week14_NYG_vs_GB\\passing_advanced.csv\n",
      "Saved DataFrame rushing_advanced to raw_data\\2023\\Week14\\2023_Week14_NYG_vs_GB\\rushing_advanced.csv\n",
      "Saved DataFrame receiving_advanced to raw_data\\2023\\Week14\\2023_Week14_NYG_vs_GB\\receiving_advanced.csv\n",
      "Saved DataFrame defense_advanced to raw_data\\2023\\Week14\\2023_Week14_NYG_vs_GB\\defense_advanced.csv\n",
      "Saved DataFrame home_starters to raw_data\\2023\\Week14\\2023_Week14_NYG_vs_GB\\home_starters.csv\n",
      "Saved DataFrame vis_starters to raw_data\\2023\\Week14\\2023_Week14_NYG_vs_GB\\vis_starters.csv\n",
      "Saved DataFrame home_snap_counts to raw_data\\2023\\Week14\\2023_Week14_NYG_vs_GB\\home_snap_counts.csv\n",
      "Saved DataFrame vis_snap_counts to raw_data\\2023\\Week14\\2023_Week14_NYG_vs_GB\\vis_snap_counts.csv\n",
      "Saved DataFrame home_drives to raw_data\\2023\\Week14\\2023_Week14_NYG_vs_GB\\home_drives.csv\n",
      "Saved DataFrame vis_drives to raw_data\\2023\\Week14\\2023_Week14_NYG_vs_GB\\vis_drives.csv\n",
      "Saved DataFrame pbp to raw_data\\2023\\Week14\\2023_Week14_NYG_vs_GB\\pbp.csv\n"
     ]
    },
    {
     "name": "stderr",
     "output_type": "stream",
     "text": [
      "C:\\Users\\jackj\\AppData\\Local\\Temp\\ipykernel_31996\\1469608065.py:49: MarkupResemblesLocatorWarning: The input looks more like a filename than markup. You may want to open this file and pass the filehandle into Beautiful Soup.\n",
      "  comment_soup = BeautifulSoup(comment, 'html.parser')\n"
     ]
    },
    {
     "name": "stdout",
     "output_type": "stream",
     "text": [
      "Saved DataFrame scoring to raw_data\\2023\\Week14\\2023_Week14_MIA_vs_TEN\\scoring.csv\n",
      "Saved DataFrame player_offense to raw_data\\2023\\Week14\\2023_Week14_MIA_vs_TEN\\player_offense.csv\n",
      "Saved DataFrame game_info to raw_data\\2023\\Week14\\2023_Week14_MIA_vs_TEN\\game_info.csv\n",
      "Saved DataFrame officials to raw_data\\2023\\Week14\\2023_Week14_MIA_vs_TEN\\officials.csv\n",
      "Saved DataFrame expected_points to raw_data\\2023\\Week14\\2023_Week14_MIA_vs_TEN\\expected_points.csv\n",
      "Saved DataFrame team_stats to raw_data\\2023\\Week14\\2023_Week14_MIA_vs_TEN\\team_stats.csv\n",
      "Saved DataFrame player_defense to raw_data\\2023\\Week14\\2023_Week14_MIA_vs_TEN\\player_defense.csv\n",
      "Saved DataFrame returns to raw_data\\2023\\Week14\\2023_Week14_MIA_vs_TEN\\returns.csv\n",
      "Saved DataFrame kicking to raw_data\\2023\\Week14\\2023_Week14_MIA_vs_TEN\\kicking.csv\n",
      "Saved DataFrame passing_advanced to raw_data\\2023\\Week14\\2023_Week14_MIA_vs_TEN\\passing_advanced.csv\n",
      "Saved DataFrame rushing_advanced to raw_data\\2023\\Week14\\2023_Week14_MIA_vs_TEN\\rushing_advanced.csv\n",
      "Saved DataFrame receiving_advanced to raw_data\\2023\\Week14\\2023_Week14_MIA_vs_TEN\\receiving_advanced.csv\n",
      "Saved DataFrame defense_advanced to raw_data\\2023\\Week14\\2023_Week14_MIA_vs_TEN\\defense_advanced.csv\n",
      "Saved DataFrame home_starters to raw_data\\2023\\Week14\\2023_Week14_MIA_vs_TEN\\home_starters.csv\n",
      "Saved DataFrame vis_starters to raw_data\\2023\\Week14\\2023_Week14_MIA_vs_TEN\\vis_starters.csv\n",
      "Saved DataFrame home_snap_counts to raw_data\\2023\\Week14\\2023_Week14_MIA_vs_TEN\\home_snap_counts.csv\n",
      "Saved DataFrame vis_snap_counts to raw_data\\2023\\Week14\\2023_Week14_MIA_vs_TEN\\vis_snap_counts.csv\n",
      "Saved DataFrame home_drives to raw_data\\2023\\Week14\\2023_Week14_MIA_vs_TEN\\home_drives.csv\n",
      "Saved DataFrame vis_drives to raw_data\\2023\\Week14\\2023_Week14_MIA_vs_TEN\\vis_drives.csv\n",
      "Saved DataFrame pbp to raw_data\\2023\\Week14\\2023_Week14_MIA_vs_TEN\\pbp.csv\n"
     ]
    },
    {
     "name": "stderr",
     "output_type": "stream",
     "text": [
      "C:\\Users\\jackj\\AppData\\Local\\Temp\\ipykernel_31996\\1469608065.py:49: MarkupResemblesLocatorWarning: The input looks more like a filename than markup. You may want to open this file and pass the filehandle into Beautiful Soup.\n",
      "  comment_soup = BeautifulSoup(comment, 'html.parser')\n"
     ]
    },
    {
     "name": "stdout",
     "output_type": "stream",
     "text": [
      "Saved DataFrame scoring to raw_data\\2023\\Week15\\2023_Week15_LVR_vs_LAC\\scoring.csv\n",
      "Saved DataFrame player_offense to raw_data\\2023\\Week15\\2023_Week15_LVR_vs_LAC\\player_offense.csv\n",
      "Saved DataFrame game_info to raw_data\\2023\\Week15\\2023_Week15_LVR_vs_LAC\\game_info.csv\n",
      "Saved DataFrame officials to raw_data\\2023\\Week15\\2023_Week15_LVR_vs_LAC\\officials.csv\n",
      "Saved DataFrame expected_points to raw_data\\2023\\Week15\\2023_Week15_LVR_vs_LAC\\expected_points.csv\n",
      "Saved DataFrame team_stats to raw_data\\2023\\Week15\\2023_Week15_LVR_vs_LAC\\team_stats.csv\n",
      "Saved DataFrame player_defense to raw_data\\2023\\Week15\\2023_Week15_LVR_vs_LAC\\player_defense.csv\n",
      "Saved DataFrame returns to raw_data\\2023\\Week15\\2023_Week15_LVR_vs_LAC\\returns.csv\n",
      "Saved DataFrame kicking to raw_data\\2023\\Week15\\2023_Week15_LVR_vs_LAC\\kicking.csv\n",
      "Saved DataFrame passing_advanced to raw_data\\2023\\Week15\\2023_Week15_LVR_vs_LAC\\passing_advanced.csv\n",
      "Saved DataFrame rushing_advanced to raw_data\\2023\\Week15\\2023_Week15_LVR_vs_LAC\\rushing_advanced.csv\n",
      "Saved DataFrame receiving_advanced to raw_data\\2023\\Week15\\2023_Week15_LVR_vs_LAC\\receiving_advanced.csv\n",
      "Saved DataFrame defense_advanced to raw_data\\2023\\Week15\\2023_Week15_LVR_vs_LAC\\defense_advanced.csv\n",
      "Saved DataFrame home_starters to raw_data\\2023\\Week15\\2023_Week15_LVR_vs_LAC\\home_starters.csv\n",
      "Saved DataFrame vis_starters to raw_data\\2023\\Week15\\2023_Week15_LVR_vs_LAC\\vis_starters.csv\n",
      "Saved DataFrame home_snap_counts to raw_data\\2023\\Week15\\2023_Week15_LVR_vs_LAC\\home_snap_counts.csv\n",
      "Saved DataFrame vis_snap_counts to raw_data\\2023\\Week15\\2023_Week15_LVR_vs_LAC\\vis_snap_counts.csv\n",
      "Saved DataFrame home_drives to raw_data\\2023\\Week15\\2023_Week15_LVR_vs_LAC\\home_drives.csv\n",
      "Saved DataFrame vis_drives to raw_data\\2023\\Week15\\2023_Week15_LVR_vs_LAC\\vis_drives.csv\n",
      "Saved DataFrame pbp to raw_data\\2023\\Week15\\2023_Week15_LVR_vs_LAC\\pbp.csv\n",
      "Reached 20 requests, sleeping for 60 seconds...\n"
     ]
    },
    {
     "name": "stderr",
     "output_type": "stream",
     "text": [
      "C:\\Users\\jackj\\AppData\\Local\\Temp\\ipykernel_31996\\1469608065.py:49: MarkupResemblesLocatorWarning: The input looks more like a filename than markup. You may want to open this file and pass the filehandle into Beautiful Soup.\n",
      "  comment_soup = BeautifulSoup(comment, 'html.parser')\n"
     ]
    },
    {
     "name": "stdout",
     "output_type": "stream",
     "text": [
      "Saved DataFrame scoring to raw_data\\2023\\Week15\\2023_Week15_CIN_vs_MIN\\scoring.csv\n",
      "Saved DataFrame player_offense to raw_data\\2023\\Week15\\2023_Week15_CIN_vs_MIN\\player_offense.csv\n",
      "Saved DataFrame game_info to raw_data\\2023\\Week15\\2023_Week15_CIN_vs_MIN\\game_info.csv\n",
      "Saved DataFrame officials to raw_data\\2023\\Week15\\2023_Week15_CIN_vs_MIN\\officials.csv\n",
      "Saved DataFrame expected_points to raw_data\\2023\\Week15\\2023_Week15_CIN_vs_MIN\\expected_points.csv\n",
      "Saved DataFrame team_stats to raw_data\\2023\\Week15\\2023_Week15_CIN_vs_MIN\\team_stats.csv\n",
      "Saved DataFrame player_defense to raw_data\\2023\\Week15\\2023_Week15_CIN_vs_MIN\\player_defense.csv\n",
      "Saved DataFrame returns to raw_data\\2023\\Week15\\2023_Week15_CIN_vs_MIN\\returns.csv\n",
      "Saved DataFrame kicking to raw_data\\2023\\Week15\\2023_Week15_CIN_vs_MIN\\kicking.csv\n",
      "Saved DataFrame passing_advanced to raw_data\\2023\\Week15\\2023_Week15_CIN_vs_MIN\\passing_advanced.csv\n",
      "Saved DataFrame rushing_advanced to raw_data\\2023\\Week15\\2023_Week15_CIN_vs_MIN\\rushing_advanced.csv\n",
      "Saved DataFrame receiving_advanced to raw_data\\2023\\Week15\\2023_Week15_CIN_vs_MIN\\receiving_advanced.csv\n",
      "Saved DataFrame defense_advanced to raw_data\\2023\\Week15\\2023_Week15_CIN_vs_MIN\\defense_advanced.csv\n",
      "Saved DataFrame home_starters to raw_data\\2023\\Week15\\2023_Week15_CIN_vs_MIN\\home_starters.csv\n",
      "Saved DataFrame vis_starters to raw_data\\2023\\Week15\\2023_Week15_CIN_vs_MIN\\vis_starters.csv\n",
      "Saved DataFrame home_snap_counts to raw_data\\2023\\Week15\\2023_Week15_CIN_vs_MIN\\home_snap_counts.csv\n",
      "Saved DataFrame vis_snap_counts to raw_data\\2023\\Week15\\2023_Week15_CIN_vs_MIN\\vis_snap_counts.csv\n",
      "Saved DataFrame home_drives to raw_data\\2023\\Week15\\2023_Week15_CIN_vs_MIN\\home_drives.csv\n",
      "Saved DataFrame vis_drives to raw_data\\2023\\Week15\\2023_Week15_CIN_vs_MIN\\vis_drives.csv\n",
      "Saved DataFrame pbp to raw_data\\2023\\Week15\\2023_Week15_CIN_vs_MIN\\pbp.csv\n"
     ]
    },
    {
     "name": "stderr",
     "output_type": "stream",
     "text": [
      "C:\\Users\\jackj\\AppData\\Local\\Temp\\ipykernel_31996\\1469608065.py:49: MarkupResemblesLocatorWarning: The input looks more like a filename than markup. You may want to open this file and pass the filehandle into Beautiful Soup.\n",
      "  comment_soup = BeautifulSoup(comment, 'html.parser')\n"
     ]
    },
    {
     "name": "stdout",
     "output_type": "stream",
     "text": [
      "Saved DataFrame scoring to raw_data\\2023\\Week15\\2023_Week15_IND_vs_PIT\\scoring.csv\n",
      "Saved DataFrame player_offense to raw_data\\2023\\Week15\\2023_Week15_IND_vs_PIT\\player_offense.csv\n",
      "Saved DataFrame game_info to raw_data\\2023\\Week15\\2023_Week15_IND_vs_PIT\\game_info.csv\n",
      "Saved DataFrame officials to raw_data\\2023\\Week15\\2023_Week15_IND_vs_PIT\\officials.csv\n",
      "Saved DataFrame expected_points to raw_data\\2023\\Week15\\2023_Week15_IND_vs_PIT\\expected_points.csv\n",
      "Saved DataFrame team_stats to raw_data\\2023\\Week15\\2023_Week15_IND_vs_PIT\\team_stats.csv\n",
      "Saved DataFrame player_defense to raw_data\\2023\\Week15\\2023_Week15_IND_vs_PIT\\player_defense.csv\n",
      "Saved DataFrame returns to raw_data\\2023\\Week15\\2023_Week15_IND_vs_PIT\\returns.csv\n",
      "Saved DataFrame kicking to raw_data\\2023\\Week15\\2023_Week15_IND_vs_PIT\\kicking.csv\n",
      "Saved DataFrame passing_advanced to raw_data\\2023\\Week15\\2023_Week15_IND_vs_PIT\\passing_advanced.csv\n",
      "Saved DataFrame rushing_advanced to raw_data\\2023\\Week15\\2023_Week15_IND_vs_PIT\\rushing_advanced.csv\n",
      "Saved DataFrame receiving_advanced to raw_data\\2023\\Week15\\2023_Week15_IND_vs_PIT\\receiving_advanced.csv\n",
      "Saved DataFrame defense_advanced to raw_data\\2023\\Week15\\2023_Week15_IND_vs_PIT\\defense_advanced.csv\n",
      "Saved DataFrame home_starters to raw_data\\2023\\Week15\\2023_Week15_IND_vs_PIT\\home_starters.csv\n",
      "Saved DataFrame vis_starters to raw_data\\2023\\Week15\\2023_Week15_IND_vs_PIT\\vis_starters.csv\n",
      "Saved DataFrame home_snap_counts to raw_data\\2023\\Week15\\2023_Week15_IND_vs_PIT\\home_snap_counts.csv\n",
      "Saved DataFrame vis_snap_counts to raw_data\\2023\\Week15\\2023_Week15_IND_vs_PIT\\vis_snap_counts.csv\n",
      "Saved DataFrame home_drives to raw_data\\2023\\Week15\\2023_Week15_IND_vs_PIT\\home_drives.csv\n",
      "Saved DataFrame vis_drives to raw_data\\2023\\Week15\\2023_Week15_IND_vs_PIT\\vis_drives.csv\n",
      "Saved DataFrame pbp to raw_data\\2023\\Week15\\2023_Week15_IND_vs_PIT\\pbp.csv\n"
     ]
    },
    {
     "name": "stderr",
     "output_type": "stream",
     "text": [
      "C:\\Users\\jackj\\AppData\\Local\\Temp\\ipykernel_31996\\1469608065.py:49: MarkupResemblesLocatorWarning: The input looks more like a filename than markup. You may want to open this file and pass the filehandle into Beautiful Soup.\n",
      "  comment_soup = BeautifulSoup(comment, 'html.parser')\n"
     ]
    },
    {
     "name": "stdout",
     "output_type": "stream",
     "text": [
      "Saved DataFrame scoring to raw_data\\2023\\Week15\\2023_Week15_DET_vs_DEN\\scoring.csv\n",
      "Saved DataFrame player_offense to raw_data\\2023\\Week15\\2023_Week15_DET_vs_DEN\\player_offense.csv\n",
      "Saved DataFrame game_info to raw_data\\2023\\Week15\\2023_Week15_DET_vs_DEN\\game_info.csv\n",
      "Saved DataFrame officials to raw_data\\2023\\Week15\\2023_Week15_DET_vs_DEN\\officials.csv\n",
      "Saved DataFrame expected_points to raw_data\\2023\\Week15\\2023_Week15_DET_vs_DEN\\expected_points.csv\n",
      "Saved DataFrame team_stats to raw_data\\2023\\Week15\\2023_Week15_DET_vs_DEN\\team_stats.csv\n",
      "Saved DataFrame player_defense to raw_data\\2023\\Week15\\2023_Week15_DET_vs_DEN\\player_defense.csv\n",
      "Saved DataFrame returns to raw_data\\2023\\Week15\\2023_Week15_DET_vs_DEN\\returns.csv\n",
      "Saved DataFrame kicking to raw_data\\2023\\Week15\\2023_Week15_DET_vs_DEN\\kicking.csv\n",
      "Saved DataFrame passing_advanced to raw_data\\2023\\Week15\\2023_Week15_DET_vs_DEN\\passing_advanced.csv\n",
      "Saved DataFrame rushing_advanced to raw_data\\2023\\Week15\\2023_Week15_DET_vs_DEN\\rushing_advanced.csv\n",
      "Saved DataFrame receiving_advanced to raw_data\\2023\\Week15\\2023_Week15_DET_vs_DEN\\receiving_advanced.csv\n",
      "Saved DataFrame defense_advanced to raw_data\\2023\\Week15\\2023_Week15_DET_vs_DEN\\defense_advanced.csv\n",
      "Saved DataFrame home_starters to raw_data\\2023\\Week15\\2023_Week15_DET_vs_DEN\\home_starters.csv\n",
      "Saved DataFrame vis_starters to raw_data\\2023\\Week15\\2023_Week15_DET_vs_DEN\\vis_starters.csv\n",
      "Saved DataFrame home_snap_counts to raw_data\\2023\\Week15\\2023_Week15_DET_vs_DEN\\home_snap_counts.csv\n",
      "Saved DataFrame vis_snap_counts to raw_data\\2023\\Week15\\2023_Week15_DET_vs_DEN\\vis_snap_counts.csv\n",
      "Saved DataFrame home_drives to raw_data\\2023\\Week15\\2023_Week15_DET_vs_DEN\\home_drives.csv\n",
      "Saved DataFrame vis_drives to raw_data\\2023\\Week15\\2023_Week15_DET_vs_DEN\\vis_drives.csv\n",
      "Saved DataFrame pbp to raw_data\\2023\\Week15\\2023_Week15_DET_vs_DEN\\pbp.csv\n"
     ]
    },
    {
     "name": "stderr",
     "output_type": "stream",
     "text": [
      "C:\\Users\\jackj\\AppData\\Local\\Temp\\ipykernel_31996\\1469608065.py:49: MarkupResemblesLocatorWarning: The input looks more like a filename than markup. You may want to open this file and pass the filehandle into Beautiful Soup.\n",
      "  comment_soup = BeautifulSoup(comment, 'html.parser')\n"
     ]
    },
    {
     "name": "stdout",
     "output_type": "stream",
     "text": [
      "Saved DataFrame scoring to raw_data\\2023\\Week15\\2023_Week15_CAR_vs_ATL\\scoring.csv\n",
      "Saved DataFrame player_offense to raw_data\\2023\\Week15\\2023_Week15_CAR_vs_ATL\\player_offense.csv\n",
      "Saved DataFrame game_info to raw_data\\2023\\Week15\\2023_Week15_CAR_vs_ATL\\game_info.csv\n",
      "Saved DataFrame officials to raw_data\\2023\\Week15\\2023_Week15_CAR_vs_ATL\\officials.csv\n",
      "Saved DataFrame expected_points to raw_data\\2023\\Week15\\2023_Week15_CAR_vs_ATL\\expected_points.csv\n",
      "Saved DataFrame team_stats to raw_data\\2023\\Week15\\2023_Week15_CAR_vs_ATL\\team_stats.csv\n",
      "Saved DataFrame player_defense to raw_data\\2023\\Week15\\2023_Week15_CAR_vs_ATL\\player_defense.csv\n",
      "Saved DataFrame returns to raw_data\\2023\\Week15\\2023_Week15_CAR_vs_ATL\\returns.csv\n",
      "Saved DataFrame kicking to raw_data\\2023\\Week15\\2023_Week15_CAR_vs_ATL\\kicking.csv\n",
      "Saved DataFrame passing_advanced to raw_data\\2023\\Week15\\2023_Week15_CAR_vs_ATL\\passing_advanced.csv\n",
      "Saved DataFrame rushing_advanced to raw_data\\2023\\Week15\\2023_Week15_CAR_vs_ATL\\rushing_advanced.csv\n",
      "Saved DataFrame receiving_advanced to raw_data\\2023\\Week15\\2023_Week15_CAR_vs_ATL\\receiving_advanced.csv\n",
      "Saved DataFrame defense_advanced to raw_data\\2023\\Week15\\2023_Week15_CAR_vs_ATL\\defense_advanced.csv\n",
      "Saved DataFrame home_starters to raw_data\\2023\\Week15\\2023_Week15_CAR_vs_ATL\\home_starters.csv\n",
      "Saved DataFrame vis_starters to raw_data\\2023\\Week15\\2023_Week15_CAR_vs_ATL\\vis_starters.csv\n",
      "Saved DataFrame home_snap_counts to raw_data\\2023\\Week15\\2023_Week15_CAR_vs_ATL\\home_snap_counts.csv\n",
      "Saved DataFrame vis_snap_counts to raw_data\\2023\\Week15\\2023_Week15_CAR_vs_ATL\\vis_snap_counts.csv\n",
      "Saved DataFrame home_drives to raw_data\\2023\\Week15\\2023_Week15_CAR_vs_ATL\\home_drives.csv\n",
      "Saved DataFrame vis_drives to raw_data\\2023\\Week15\\2023_Week15_CAR_vs_ATL\\vis_drives.csv\n",
      "Saved DataFrame pbp to raw_data\\2023\\Week15\\2023_Week15_CAR_vs_ATL\\pbp.csv\n"
     ]
    },
    {
     "name": "stderr",
     "output_type": "stream",
     "text": [
      "C:\\Users\\jackj\\AppData\\Local\\Temp\\ipykernel_31996\\1469608065.py:49: MarkupResemblesLocatorWarning: The input looks more like a filename than markup. You may want to open this file and pass the filehandle into Beautiful Soup.\n",
      "  comment_soup = BeautifulSoup(comment, 'html.parser')\n"
     ]
    },
    {
     "name": "stdout",
     "output_type": "stream",
     "text": [
      "Saved DataFrame scoring to raw_data\\2023\\Week15\\2023_Week15_CLE_vs_CHI\\scoring.csv\n",
      "Saved DataFrame player_offense to raw_data\\2023\\Week15\\2023_Week15_CLE_vs_CHI\\player_offense.csv\n",
      "Saved DataFrame game_info to raw_data\\2023\\Week15\\2023_Week15_CLE_vs_CHI\\game_info.csv\n",
      "Saved DataFrame officials to raw_data\\2023\\Week15\\2023_Week15_CLE_vs_CHI\\officials.csv\n",
      "Saved DataFrame expected_points to raw_data\\2023\\Week15\\2023_Week15_CLE_vs_CHI\\expected_points.csv\n",
      "Saved DataFrame team_stats to raw_data\\2023\\Week15\\2023_Week15_CLE_vs_CHI\\team_stats.csv\n",
      "Saved DataFrame player_defense to raw_data\\2023\\Week15\\2023_Week15_CLE_vs_CHI\\player_defense.csv\n",
      "Saved DataFrame returns to raw_data\\2023\\Week15\\2023_Week15_CLE_vs_CHI\\returns.csv\n",
      "Saved DataFrame kicking to raw_data\\2023\\Week15\\2023_Week15_CLE_vs_CHI\\kicking.csv\n",
      "Saved DataFrame passing_advanced to raw_data\\2023\\Week15\\2023_Week15_CLE_vs_CHI\\passing_advanced.csv\n",
      "Saved DataFrame rushing_advanced to raw_data\\2023\\Week15\\2023_Week15_CLE_vs_CHI\\rushing_advanced.csv\n",
      "Saved DataFrame receiving_advanced to raw_data\\2023\\Week15\\2023_Week15_CLE_vs_CHI\\receiving_advanced.csv\n",
      "Saved DataFrame defense_advanced to raw_data\\2023\\Week15\\2023_Week15_CLE_vs_CHI\\defense_advanced.csv\n",
      "Saved DataFrame home_starters to raw_data\\2023\\Week15\\2023_Week15_CLE_vs_CHI\\home_starters.csv\n",
      "Saved DataFrame vis_starters to raw_data\\2023\\Week15\\2023_Week15_CLE_vs_CHI\\vis_starters.csv\n",
      "Saved DataFrame home_snap_counts to raw_data\\2023\\Week15\\2023_Week15_CLE_vs_CHI\\home_snap_counts.csv\n",
      "Saved DataFrame vis_snap_counts to raw_data\\2023\\Week15\\2023_Week15_CLE_vs_CHI\\vis_snap_counts.csv\n",
      "Saved DataFrame home_drives to raw_data\\2023\\Week15\\2023_Week15_CLE_vs_CHI\\home_drives.csv\n",
      "Saved DataFrame vis_drives to raw_data\\2023\\Week15\\2023_Week15_CLE_vs_CHI\\vis_drives.csv\n",
      "Saved DataFrame pbp to raw_data\\2023\\Week15\\2023_Week15_CLE_vs_CHI\\pbp.csv\n"
     ]
    },
    {
     "name": "stderr",
     "output_type": "stream",
     "text": [
      "C:\\Users\\jackj\\AppData\\Local\\Temp\\ipykernel_31996\\1469608065.py:49: MarkupResemblesLocatorWarning: The input looks more like a filename than markup. You may want to open this file and pass the filehandle into Beautiful Soup.\n",
      "  comment_soup = BeautifulSoup(comment, 'html.parser')\n"
     ]
    },
    {
     "name": "stdout",
     "output_type": "stream",
     "text": [
      "Saved DataFrame scoring to raw_data\\2023\\Week15\\2023_Week15_GB_vs_TB\\scoring.csv\n",
      "Saved DataFrame player_offense to raw_data\\2023\\Week15\\2023_Week15_GB_vs_TB\\player_offense.csv\n",
      "Saved DataFrame game_info to raw_data\\2023\\Week15\\2023_Week15_GB_vs_TB\\game_info.csv\n",
      "Saved DataFrame officials to raw_data\\2023\\Week15\\2023_Week15_GB_vs_TB\\officials.csv\n",
      "Saved DataFrame expected_points to raw_data\\2023\\Week15\\2023_Week15_GB_vs_TB\\expected_points.csv\n",
      "Saved DataFrame team_stats to raw_data\\2023\\Week15\\2023_Week15_GB_vs_TB\\team_stats.csv\n",
      "Saved DataFrame player_defense to raw_data\\2023\\Week15\\2023_Week15_GB_vs_TB\\player_defense.csv\n",
      "Saved DataFrame returns to raw_data\\2023\\Week15\\2023_Week15_GB_vs_TB\\returns.csv\n",
      "Saved DataFrame kicking to raw_data\\2023\\Week15\\2023_Week15_GB_vs_TB\\kicking.csv\n",
      "Saved DataFrame passing_advanced to raw_data\\2023\\Week15\\2023_Week15_GB_vs_TB\\passing_advanced.csv\n",
      "Saved DataFrame rushing_advanced to raw_data\\2023\\Week15\\2023_Week15_GB_vs_TB\\rushing_advanced.csv\n",
      "Saved DataFrame receiving_advanced to raw_data\\2023\\Week15\\2023_Week15_GB_vs_TB\\receiving_advanced.csv\n",
      "Saved DataFrame defense_advanced to raw_data\\2023\\Week15\\2023_Week15_GB_vs_TB\\defense_advanced.csv\n",
      "Saved DataFrame home_starters to raw_data\\2023\\Week15\\2023_Week15_GB_vs_TB\\home_starters.csv\n",
      "Saved DataFrame vis_starters to raw_data\\2023\\Week15\\2023_Week15_GB_vs_TB\\vis_starters.csv\n",
      "Saved DataFrame home_snap_counts to raw_data\\2023\\Week15\\2023_Week15_GB_vs_TB\\home_snap_counts.csv\n",
      "Saved DataFrame vis_snap_counts to raw_data\\2023\\Week15\\2023_Week15_GB_vs_TB\\vis_snap_counts.csv\n",
      "Saved DataFrame home_drives to raw_data\\2023\\Week15\\2023_Week15_GB_vs_TB\\home_drives.csv\n",
      "Saved DataFrame vis_drives to raw_data\\2023\\Week15\\2023_Week15_GB_vs_TB\\vis_drives.csv\n",
      "Saved DataFrame pbp to raw_data\\2023\\Week15\\2023_Week15_GB_vs_TB\\pbp.csv\n"
     ]
    },
    {
     "name": "stderr",
     "output_type": "stream",
     "text": [
      "C:\\Users\\jackj\\AppData\\Local\\Temp\\ipykernel_31996\\1469608065.py:49: MarkupResemblesLocatorWarning: The input looks more like a filename than markup. You may want to open this file and pass the filehandle into Beautiful Soup.\n",
      "  comment_soup = BeautifulSoup(comment, 'html.parser')\n"
     ]
    },
    {
     "name": "stdout",
     "output_type": "stream",
     "text": [
      "Saved DataFrame scoring to raw_data\\2023\\Week15\\2023_Week15_TEN_vs_HOU\\scoring.csv\n",
      "Saved DataFrame player_offense to raw_data\\2023\\Week15\\2023_Week15_TEN_vs_HOU\\player_offense.csv\n",
      "Saved DataFrame game_info to raw_data\\2023\\Week15\\2023_Week15_TEN_vs_HOU\\game_info.csv\n",
      "Saved DataFrame officials to raw_data\\2023\\Week15\\2023_Week15_TEN_vs_HOU\\officials.csv\n",
      "Saved DataFrame expected_points to raw_data\\2023\\Week15\\2023_Week15_TEN_vs_HOU\\expected_points.csv\n",
      "Saved DataFrame team_stats to raw_data\\2023\\Week15\\2023_Week15_TEN_vs_HOU\\team_stats.csv\n",
      "Saved DataFrame player_defense to raw_data\\2023\\Week15\\2023_Week15_TEN_vs_HOU\\player_defense.csv\n",
      "Saved DataFrame returns to raw_data\\2023\\Week15\\2023_Week15_TEN_vs_HOU\\returns.csv\n",
      "Saved DataFrame kicking to raw_data\\2023\\Week15\\2023_Week15_TEN_vs_HOU\\kicking.csv\n",
      "Saved DataFrame passing_advanced to raw_data\\2023\\Week15\\2023_Week15_TEN_vs_HOU\\passing_advanced.csv\n",
      "Saved DataFrame rushing_advanced to raw_data\\2023\\Week15\\2023_Week15_TEN_vs_HOU\\rushing_advanced.csv\n",
      "Saved DataFrame receiving_advanced to raw_data\\2023\\Week15\\2023_Week15_TEN_vs_HOU\\receiving_advanced.csv\n",
      "Saved DataFrame defense_advanced to raw_data\\2023\\Week15\\2023_Week15_TEN_vs_HOU\\defense_advanced.csv\n",
      "Saved DataFrame home_starters to raw_data\\2023\\Week15\\2023_Week15_TEN_vs_HOU\\home_starters.csv\n",
      "Saved DataFrame vis_starters to raw_data\\2023\\Week15\\2023_Week15_TEN_vs_HOU\\vis_starters.csv\n",
      "Saved DataFrame home_snap_counts to raw_data\\2023\\Week15\\2023_Week15_TEN_vs_HOU\\home_snap_counts.csv\n",
      "Saved DataFrame vis_snap_counts to raw_data\\2023\\Week15\\2023_Week15_TEN_vs_HOU\\vis_snap_counts.csv\n",
      "Saved DataFrame home_drives to raw_data\\2023\\Week15\\2023_Week15_TEN_vs_HOU\\home_drives.csv\n",
      "Saved DataFrame vis_drives to raw_data\\2023\\Week15\\2023_Week15_TEN_vs_HOU\\vis_drives.csv\n",
      "Saved DataFrame pbp to raw_data\\2023\\Week15\\2023_Week15_TEN_vs_HOU\\pbp.csv\n"
     ]
    },
    {
     "name": "stderr",
     "output_type": "stream",
     "text": [
      "C:\\Users\\jackj\\AppData\\Local\\Temp\\ipykernel_31996\\1469608065.py:49: MarkupResemblesLocatorWarning: The input looks more like a filename than markup. You may want to open this file and pass the filehandle into Beautiful Soup.\n",
      "  comment_soup = BeautifulSoup(comment, 'html.parser')\n"
     ]
    },
    {
     "name": "stdout",
     "output_type": "stream",
     "text": [
      "Saved DataFrame scoring to raw_data\\2023\\Week15\\2023_Week15_NE_vs_KC\\scoring.csv\n",
      "Saved DataFrame player_offense to raw_data\\2023\\Week15\\2023_Week15_NE_vs_KC\\player_offense.csv\n",
      "Saved DataFrame game_info to raw_data\\2023\\Week15\\2023_Week15_NE_vs_KC\\game_info.csv\n",
      "Saved DataFrame officials to raw_data\\2023\\Week15\\2023_Week15_NE_vs_KC\\officials.csv\n",
      "Saved DataFrame expected_points to raw_data\\2023\\Week15\\2023_Week15_NE_vs_KC\\expected_points.csv\n",
      "Saved DataFrame team_stats to raw_data\\2023\\Week15\\2023_Week15_NE_vs_KC\\team_stats.csv\n",
      "Saved DataFrame player_defense to raw_data\\2023\\Week15\\2023_Week15_NE_vs_KC\\player_defense.csv\n",
      "Saved DataFrame returns to raw_data\\2023\\Week15\\2023_Week15_NE_vs_KC\\returns.csv\n",
      "Saved DataFrame kicking to raw_data\\2023\\Week15\\2023_Week15_NE_vs_KC\\kicking.csv\n",
      "Saved DataFrame passing_advanced to raw_data\\2023\\Week15\\2023_Week15_NE_vs_KC\\passing_advanced.csv\n",
      "Saved DataFrame rushing_advanced to raw_data\\2023\\Week15\\2023_Week15_NE_vs_KC\\rushing_advanced.csv\n",
      "Saved DataFrame receiving_advanced to raw_data\\2023\\Week15\\2023_Week15_NE_vs_KC\\receiving_advanced.csv\n",
      "Saved DataFrame defense_advanced to raw_data\\2023\\Week15\\2023_Week15_NE_vs_KC\\defense_advanced.csv\n",
      "Saved DataFrame home_starters to raw_data\\2023\\Week15\\2023_Week15_NE_vs_KC\\home_starters.csv\n",
      "Saved DataFrame vis_starters to raw_data\\2023\\Week15\\2023_Week15_NE_vs_KC\\vis_starters.csv\n",
      "Saved DataFrame home_snap_counts to raw_data\\2023\\Week15\\2023_Week15_NE_vs_KC\\home_snap_counts.csv\n",
      "Saved DataFrame vis_snap_counts to raw_data\\2023\\Week15\\2023_Week15_NE_vs_KC\\vis_snap_counts.csv\n",
      "Saved DataFrame home_drives to raw_data\\2023\\Week15\\2023_Week15_NE_vs_KC\\home_drives.csv\n",
      "Saved DataFrame vis_drives to raw_data\\2023\\Week15\\2023_Week15_NE_vs_KC\\vis_drives.csv\n",
      "Saved DataFrame pbp to raw_data\\2023\\Week15\\2023_Week15_NE_vs_KC\\pbp.csv\n"
     ]
    },
    {
     "name": "stderr",
     "output_type": "stream",
     "text": [
      "C:\\Users\\jackj\\AppData\\Local\\Temp\\ipykernel_31996\\1469608065.py:49: MarkupResemblesLocatorWarning: The input looks more like a filename than markup. You may want to open this file and pass the filehandle into Beautiful Soup.\n",
      "  comment_soup = BeautifulSoup(comment, 'html.parser')\n"
     ]
    },
    {
     "name": "stdout",
     "output_type": "stream",
     "text": [
      "Saved DataFrame scoring to raw_data\\2023\\Week15\\2023_Week15_MIA_vs_NYJ\\scoring.csv\n",
      "Saved DataFrame player_offense to raw_data\\2023\\Week15\\2023_Week15_MIA_vs_NYJ\\player_offense.csv\n",
      "Saved DataFrame game_info to raw_data\\2023\\Week15\\2023_Week15_MIA_vs_NYJ\\game_info.csv\n",
      "Saved DataFrame officials to raw_data\\2023\\Week15\\2023_Week15_MIA_vs_NYJ\\officials.csv\n",
      "Saved DataFrame expected_points to raw_data\\2023\\Week15\\2023_Week15_MIA_vs_NYJ\\expected_points.csv\n",
      "Saved DataFrame team_stats to raw_data\\2023\\Week15\\2023_Week15_MIA_vs_NYJ\\team_stats.csv\n",
      "Saved DataFrame player_defense to raw_data\\2023\\Week15\\2023_Week15_MIA_vs_NYJ\\player_defense.csv\n",
      "Saved DataFrame returns to raw_data\\2023\\Week15\\2023_Week15_MIA_vs_NYJ\\returns.csv\n",
      "Saved DataFrame kicking to raw_data\\2023\\Week15\\2023_Week15_MIA_vs_NYJ\\kicking.csv\n",
      "Saved DataFrame passing_advanced to raw_data\\2023\\Week15\\2023_Week15_MIA_vs_NYJ\\passing_advanced.csv\n",
      "Saved DataFrame rushing_advanced to raw_data\\2023\\Week15\\2023_Week15_MIA_vs_NYJ\\rushing_advanced.csv\n",
      "Saved DataFrame receiving_advanced to raw_data\\2023\\Week15\\2023_Week15_MIA_vs_NYJ\\receiving_advanced.csv\n",
      "Saved DataFrame defense_advanced to raw_data\\2023\\Week15\\2023_Week15_MIA_vs_NYJ\\defense_advanced.csv\n",
      "Saved DataFrame home_starters to raw_data\\2023\\Week15\\2023_Week15_MIA_vs_NYJ\\home_starters.csv\n",
      "Saved DataFrame vis_starters to raw_data\\2023\\Week15\\2023_Week15_MIA_vs_NYJ\\vis_starters.csv\n",
      "Saved DataFrame home_snap_counts to raw_data\\2023\\Week15\\2023_Week15_MIA_vs_NYJ\\home_snap_counts.csv\n",
      "Saved DataFrame vis_snap_counts to raw_data\\2023\\Week15\\2023_Week15_MIA_vs_NYJ\\vis_snap_counts.csv\n",
      "Saved DataFrame home_drives to raw_data\\2023\\Week15\\2023_Week15_MIA_vs_NYJ\\home_drives.csv\n",
      "Saved DataFrame vis_drives to raw_data\\2023\\Week15\\2023_Week15_MIA_vs_NYJ\\vis_drives.csv\n",
      "Saved DataFrame pbp to raw_data\\2023\\Week15\\2023_Week15_MIA_vs_NYJ\\pbp.csv\n"
     ]
    },
    {
     "name": "stderr",
     "output_type": "stream",
     "text": [
      "C:\\Users\\jackj\\AppData\\Local\\Temp\\ipykernel_31996\\1469608065.py:49: MarkupResemblesLocatorWarning: The input looks more like a filename than markup. You may want to open this file and pass the filehandle into Beautiful Soup.\n",
      "  comment_soup = BeautifulSoup(comment, 'html.parser')\n"
     ]
    },
    {
     "name": "stdout",
     "output_type": "stream",
     "text": [
      "Saved DataFrame scoring to raw_data\\2023\\Week15\\2023_Week15_NO_vs_NYG\\scoring.csv\n",
      "Saved DataFrame player_offense to raw_data\\2023\\Week15\\2023_Week15_NO_vs_NYG\\player_offense.csv\n",
      "Saved DataFrame game_info to raw_data\\2023\\Week15\\2023_Week15_NO_vs_NYG\\game_info.csv\n",
      "Saved DataFrame officials to raw_data\\2023\\Week15\\2023_Week15_NO_vs_NYG\\officials.csv\n",
      "Saved DataFrame expected_points to raw_data\\2023\\Week15\\2023_Week15_NO_vs_NYG\\expected_points.csv\n",
      "Saved DataFrame team_stats to raw_data\\2023\\Week15\\2023_Week15_NO_vs_NYG\\team_stats.csv\n",
      "Saved DataFrame player_defense to raw_data\\2023\\Week15\\2023_Week15_NO_vs_NYG\\player_defense.csv\n",
      "Saved DataFrame returns to raw_data\\2023\\Week15\\2023_Week15_NO_vs_NYG\\returns.csv\n",
      "Saved DataFrame kicking to raw_data\\2023\\Week15\\2023_Week15_NO_vs_NYG\\kicking.csv\n",
      "Saved DataFrame passing_advanced to raw_data\\2023\\Week15\\2023_Week15_NO_vs_NYG\\passing_advanced.csv\n",
      "Saved DataFrame rushing_advanced to raw_data\\2023\\Week15\\2023_Week15_NO_vs_NYG\\rushing_advanced.csv\n",
      "Saved DataFrame receiving_advanced to raw_data\\2023\\Week15\\2023_Week15_NO_vs_NYG\\receiving_advanced.csv\n",
      "Saved DataFrame defense_advanced to raw_data\\2023\\Week15\\2023_Week15_NO_vs_NYG\\defense_advanced.csv\n",
      "Saved DataFrame home_starters to raw_data\\2023\\Week15\\2023_Week15_NO_vs_NYG\\home_starters.csv\n",
      "Saved DataFrame vis_starters to raw_data\\2023\\Week15\\2023_Week15_NO_vs_NYG\\vis_starters.csv\n",
      "Saved DataFrame home_snap_counts to raw_data\\2023\\Week15\\2023_Week15_NO_vs_NYG\\home_snap_counts.csv\n",
      "Saved DataFrame vis_snap_counts to raw_data\\2023\\Week15\\2023_Week15_NO_vs_NYG\\vis_snap_counts.csv\n",
      "Saved DataFrame home_drives to raw_data\\2023\\Week15\\2023_Week15_NO_vs_NYG\\home_drives.csv\n",
      "Saved DataFrame vis_drives to raw_data\\2023\\Week15\\2023_Week15_NO_vs_NYG\\vis_drives.csv\n",
      "Saved DataFrame pbp to raw_data\\2023\\Week15\\2023_Week15_NO_vs_NYG\\pbp.csv\n"
     ]
    },
    {
     "name": "stderr",
     "output_type": "stream",
     "text": [
      "C:\\Users\\jackj\\AppData\\Local\\Temp\\ipykernel_31996\\1469608065.py:49: MarkupResemblesLocatorWarning: The input looks more like a filename than markup. You may want to open this file and pass the filehandle into Beautiful Soup.\n",
      "  comment_soup = BeautifulSoup(comment, 'html.parser')\n"
     ]
    },
    {
     "name": "stdout",
     "output_type": "stream",
     "text": [
      "Saved DataFrame scoring to raw_data\\2023\\Week15\\2023_Week15_ARI_vs_SF\\scoring.csv\n",
      "Saved DataFrame player_offense to raw_data\\2023\\Week15\\2023_Week15_ARI_vs_SF\\player_offense.csv\n",
      "Saved DataFrame game_info to raw_data\\2023\\Week15\\2023_Week15_ARI_vs_SF\\game_info.csv\n",
      "Saved DataFrame officials to raw_data\\2023\\Week15\\2023_Week15_ARI_vs_SF\\officials.csv\n",
      "Saved DataFrame expected_points to raw_data\\2023\\Week15\\2023_Week15_ARI_vs_SF\\expected_points.csv\n",
      "Saved DataFrame team_stats to raw_data\\2023\\Week15\\2023_Week15_ARI_vs_SF\\team_stats.csv\n",
      "Saved DataFrame player_defense to raw_data\\2023\\Week15\\2023_Week15_ARI_vs_SF\\player_defense.csv\n",
      "Saved DataFrame returns to raw_data\\2023\\Week15\\2023_Week15_ARI_vs_SF\\returns.csv\n",
      "Saved DataFrame kicking to raw_data\\2023\\Week15\\2023_Week15_ARI_vs_SF\\kicking.csv\n",
      "Saved DataFrame passing_advanced to raw_data\\2023\\Week15\\2023_Week15_ARI_vs_SF\\passing_advanced.csv\n",
      "Saved DataFrame rushing_advanced to raw_data\\2023\\Week15\\2023_Week15_ARI_vs_SF\\rushing_advanced.csv\n",
      "Saved DataFrame receiving_advanced to raw_data\\2023\\Week15\\2023_Week15_ARI_vs_SF\\receiving_advanced.csv\n",
      "Saved DataFrame defense_advanced to raw_data\\2023\\Week15\\2023_Week15_ARI_vs_SF\\defense_advanced.csv\n",
      "Saved DataFrame home_starters to raw_data\\2023\\Week15\\2023_Week15_ARI_vs_SF\\home_starters.csv\n",
      "Saved DataFrame vis_starters to raw_data\\2023\\Week15\\2023_Week15_ARI_vs_SF\\vis_starters.csv\n",
      "Saved DataFrame home_snap_counts to raw_data\\2023\\Week15\\2023_Week15_ARI_vs_SF\\home_snap_counts.csv\n",
      "Saved DataFrame vis_snap_counts to raw_data\\2023\\Week15\\2023_Week15_ARI_vs_SF\\vis_snap_counts.csv\n",
      "Saved DataFrame home_drives to raw_data\\2023\\Week15\\2023_Week15_ARI_vs_SF\\home_drives.csv\n",
      "Saved DataFrame vis_drives to raw_data\\2023\\Week15\\2023_Week15_ARI_vs_SF\\vis_drives.csv\n",
      "Saved DataFrame pbp to raw_data\\2023\\Week15\\2023_Week15_ARI_vs_SF\\pbp.csv\n"
     ]
    },
    {
     "name": "stderr",
     "output_type": "stream",
     "text": [
      "C:\\Users\\jackj\\AppData\\Local\\Temp\\ipykernel_31996\\1469608065.py:49: MarkupResemblesLocatorWarning: The input looks more like a filename than markup. You may want to open this file and pass the filehandle into Beautiful Soup.\n",
      "  comment_soup = BeautifulSoup(comment, 'html.parser')\n"
     ]
    },
    {
     "name": "stdout",
     "output_type": "stream",
     "text": [
      "Saved DataFrame scoring to raw_data\\2023\\Week15\\2023_Week15_LAR_vs_WAS\\scoring.csv\n",
      "Saved DataFrame player_offense to raw_data\\2023\\Week15\\2023_Week15_LAR_vs_WAS\\player_offense.csv\n",
      "Saved DataFrame game_info to raw_data\\2023\\Week15\\2023_Week15_LAR_vs_WAS\\game_info.csv\n",
      "Saved DataFrame officials to raw_data\\2023\\Week15\\2023_Week15_LAR_vs_WAS\\officials.csv\n",
      "Saved DataFrame expected_points to raw_data\\2023\\Week15\\2023_Week15_LAR_vs_WAS\\expected_points.csv\n",
      "Saved DataFrame team_stats to raw_data\\2023\\Week15\\2023_Week15_LAR_vs_WAS\\team_stats.csv\n",
      "Saved DataFrame player_defense to raw_data\\2023\\Week15\\2023_Week15_LAR_vs_WAS\\player_defense.csv\n",
      "Saved DataFrame returns to raw_data\\2023\\Week15\\2023_Week15_LAR_vs_WAS\\returns.csv\n",
      "Saved DataFrame kicking to raw_data\\2023\\Week15\\2023_Week15_LAR_vs_WAS\\kicking.csv\n",
      "Saved DataFrame passing_advanced to raw_data\\2023\\Week15\\2023_Week15_LAR_vs_WAS\\passing_advanced.csv\n",
      "Saved DataFrame rushing_advanced to raw_data\\2023\\Week15\\2023_Week15_LAR_vs_WAS\\rushing_advanced.csv\n",
      "Saved DataFrame receiving_advanced to raw_data\\2023\\Week15\\2023_Week15_LAR_vs_WAS\\receiving_advanced.csv\n",
      "Saved DataFrame defense_advanced to raw_data\\2023\\Week15\\2023_Week15_LAR_vs_WAS\\defense_advanced.csv\n",
      "Saved DataFrame home_starters to raw_data\\2023\\Week15\\2023_Week15_LAR_vs_WAS\\home_starters.csv\n",
      "Saved DataFrame vis_starters to raw_data\\2023\\Week15\\2023_Week15_LAR_vs_WAS\\vis_starters.csv\n",
      "Saved DataFrame home_snap_counts to raw_data\\2023\\Week15\\2023_Week15_LAR_vs_WAS\\home_snap_counts.csv\n",
      "Saved DataFrame vis_snap_counts to raw_data\\2023\\Week15\\2023_Week15_LAR_vs_WAS\\vis_snap_counts.csv\n",
      "Saved DataFrame home_drives to raw_data\\2023\\Week15\\2023_Week15_LAR_vs_WAS\\home_drives.csv\n",
      "Saved DataFrame vis_drives to raw_data\\2023\\Week15\\2023_Week15_LAR_vs_WAS\\vis_drives.csv\n",
      "Saved DataFrame pbp to raw_data\\2023\\Week15\\2023_Week15_LAR_vs_WAS\\pbp.csv\n"
     ]
    },
    {
     "name": "stderr",
     "output_type": "stream",
     "text": [
      "C:\\Users\\jackj\\AppData\\Local\\Temp\\ipykernel_31996\\1469608065.py:49: MarkupResemblesLocatorWarning: The input looks more like a filename than markup. You may want to open this file and pass the filehandle into Beautiful Soup.\n",
      "  comment_soup = BeautifulSoup(comment, 'html.parser')\n"
     ]
    },
    {
     "name": "stdout",
     "output_type": "stream",
     "text": [
      "Saved DataFrame scoring to raw_data\\2023\\Week15\\2023_Week15_BUF_vs_DAL\\scoring.csv\n",
      "Saved DataFrame player_offense to raw_data\\2023\\Week15\\2023_Week15_BUF_vs_DAL\\player_offense.csv\n",
      "Saved DataFrame game_info to raw_data\\2023\\Week15\\2023_Week15_BUF_vs_DAL\\game_info.csv\n",
      "Saved DataFrame officials to raw_data\\2023\\Week15\\2023_Week15_BUF_vs_DAL\\officials.csv\n",
      "Saved DataFrame expected_points to raw_data\\2023\\Week15\\2023_Week15_BUF_vs_DAL\\expected_points.csv\n",
      "Saved DataFrame team_stats to raw_data\\2023\\Week15\\2023_Week15_BUF_vs_DAL\\team_stats.csv\n",
      "Saved DataFrame player_defense to raw_data\\2023\\Week15\\2023_Week15_BUF_vs_DAL\\player_defense.csv\n",
      "Saved DataFrame returns to raw_data\\2023\\Week15\\2023_Week15_BUF_vs_DAL\\returns.csv\n",
      "Saved DataFrame kicking to raw_data\\2023\\Week15\\2023_Week15_BUF_vs_DAL\\kicking.csv\n",
      "Saved DataFrame passing_advanced to raw_data\\2023\\Week15\\2023_Week15_BUF_vs_DAL\\passing_advanced.csv\n",
      "Saved DataFrame rushing_advanced to raw_data\\2023\\Week15\\2023_Week15_BUF_vs_DAL\\rushing_advanced.csv\n",
      "Saved DataFrame receiving_advanced to raw_data\\2023\\Week15\\2023_Week15_BUF_vs_DAL\\receiving_advanced.csv\n",
      "Saved DataFrame defense_advanced to raw_data\\2023\\Week15\\2023_Week15_BUF_vs_DAL\\defense_advanced.csv\n",
      "Saved DataFrame home_starters to raw_data\\2023\\Week15\\2023_Week15_BUF_vs_DAL\\home_starters.csv\n",
      "Saved DataFrame vis_starters to raw_data\\2023\\Week15\\2023_Week15_BUF_vs_DAL\\vis_starters.csv\n",
      "Saved DataFrame home_snap_counts to raw_data\\2023\\Week15\\2023_Week15_BUF_vs_DAL\\home_snap_counts.csv\n",
      "Saved DataFrame vis_snap_counts to raw_data\\2023\\Week15\\2023_Week15_BUF_vs_DAL\\vis_snap_counts.csv\n",
      "Saved DataFrame home_drives to raw_data\\2023\\Week15\\2023_Week15_BUF_vs_DAL\\home_drives.csv\n",
      "Saved DataFrame vis_drives to raw_data\\2023\\Week15\\2023_Week15_BUF_vs_DAL\\vis_drives.csv\n",
      "Saved DataFrame pbp to raw_data\\2023\\Week15\\2023_Week15_BUF_vs_DAL\\pbp.csv\n"
     ]
    },
    {
     "name": "stderr",
     "output_type": "stream",
     "text": [
      "C:\\Users\\jackj\\AppData\\Local\\Temp\\ipykernel_31996\\1469608065.py:49: MarkupResemblesLocatorWarning: The input looks more like a filename than markup. You may want to open this file and pass the filehandle into Beautiful Soup.\n",
      "  comment_soup = BeautifulSoup(comment, 'html.parser')\n"
     ]
    },
    {
     "name": "stdout",
     "output_type": "stream",
     "text": [
      "Saved DataFrame scoring to raw_data\\2023\\Week15\\2023_Week15_JAX_vs_BAL\\scoring.csv\n",
      "Saved DataFrame player_offense to raw_data\\2023\\Week15\\2023_Week15_JAX_vs_BAL\\player_offense.csv\n",
      "Saved DataFrame game_info to raw_data\\2023\\Week15\\2023_Week15_JAX_vs_BAL\\game_info.csv\n",
      "Saved DataFrame officials to raw_data\\2023\\Week15\\2023_Week15_JAX_vs_BAL\\officials.csv\n",
      "Saved DataFrame expected_points to raw_data\\2023\\Week15\\2023_Week15_JAX_vs_BAL\\expected_points.csv\n",
      "Saved DataFrame team_stats to raw_data\\2023\\Week15\\2023_Week15_JAX_vs_BAL\\team_stats.csv\n",
      "Saved DataFrame player_defense to raw_data\\2023\\Week15\\2023_Week15_JAX_vs_BAL\\player_defense.csv\n",
      "Saved DataFrame returns to raw_data\\2023\\Week15\\2023_Week15_JAX_vs_BAL\\returns.csv\n",
      "Saved DataFrame kicking to raw_data\\2023\\Week15\\2023_Week15_JAX_vs_BAL\\kicking.csv\n",
      "Saved DataFrame passing_advanced to raw_data\\2023\\Week15\\2023_Week15_JAX_vs_BAL\\passing_advanced.csv\n",
      "Saved DataFrame rushing_advanced to raw_data\\2023\\Week15\\2023_Week15_JAX_vs_BAL\\rushing_advanced.csv\n",
      "Saved DataFrame receiving_advanced to raw_data\\2023\\Week15\\2023_Week15_JAX_vs_BAL\\receiving_advanced.csv\n",
      "Saved DataFrame defense_advanced to raw_data\\2023\\Week15\\2023_Week15_JAX_vs_BAL\\defense_advanced.csv\n",
      "Saved DataFrame home_starters to raw_data\\2023\\Week15\\2023_Week15_JAX_vs_BAL\\home_starters.csv\n",
      "Saved DataFrame vis_starters to raw_data\\2023\\Week15\\2023_Week15_JAX_vs_BAL\\vis_starters.csv\n",
      "Saved DataFrame home_snap_counts to raw_data\\2023\\Week15\\2023_Week15_JAX_vs_BAL\\home_snap_counts.csv\n",
      "Saved DataFrame vis_snap_counts to raw_data\\2023\\Week15\\2023_Week15_JAX_vs_BAL\\vis_snap_counts.csv\n",
      "Saved DataFrame home_drives to raw_data\\2023\\Week15\\2023_Week15_JAX_vs_BAL\\home_drives.csv\n",
      "Saved DataFrame vis_drives to raw_data\\2023\\Week15\\2023_Week15_JAX_vs_BAL\\vis_drives.csv\n",
      "Saved DataFrame pbp to raw_data\\2023\\Week15\\2023_Week15_JAX_vs_BAL\\pbp.csv\n"
     ]
    },
    {
     "name": "stderr",
     "output_type": "stream",
     "text": [
      "C:\\Users\\jackj\\AppData\\Local\\Temp\\ipykernel_31996\\1469608065.py:49: MarkupResemblesLocatorWarning: The input looks more like a filename than markup. You may want to open this file and pass the filehandle into Beautiful Soup.\n",
      "  comment_soup = BeautifulSoup(comment, 'html.parser')\n"
     ]
    },
    {
     "name": "stdout",
     "output_type": "stream",
     "text": [
      "Saved DataFrame scoring to raw_data\\2023\\Week15\\2023_Week15_SEA_vs_PHI\\scoring.csv\n",
      "Saved DataFrame player_offense to raw_data\\2023\\Week15\\2023_Week15_SEA_vs_PHI\\player_offense.csv\n",
      "Saved DataFrame game_info to raw_data\\2023\\Week15\\2023_Week15_SEA_vs_PHI\\game_info.csv\n",
      "Saved DataFrame officials to raw_data\\2023\\Week15\\2023_Week15_SEA_vs_PHI\\officials.csv\n",
      "Saved DataFrame expected_points to raw_data\\2023\\Week15\\2023_Week15_SEA_vs_PHI\\expected_points.csv\n",
      "Saved DataFrame team_stats to raw_data\\2023\\Week15\\2023_Week15_SEA_vs_PHI\\team_stats.csv\n",
      "Saved DataFrame player_defense to raw_data\\2023\\Week15\\2023_Week15_SEA_vs_PHI\\player_defense.csv\n",
      "Saved DataFrame returns to raw_data\\2023\\Week15\\2023_Week15_SEA_vs_PHI\\returns.csv\n",
      "Saved DataFrame kicking to raw_data\\2023\\Week15\\2023_Week15_SEA_vs_PHI\\kicking.csv\n",
      "Saved DataFrame passing_advanced to raw_data\\2023\\Week15\\2023_Week15_SEA_vs_PHI\\passing_advanced.csv\n",
      "Saved DataFrame rushing_advanced to raw_data\\2023\\Week15\\2023_Week15_SEA_vs_PHI\\rushing_advanced.csv\n",
      "Saved DataFrame receiving_advanced to raw_data\\2023\\Week15\\2023_Week15_SEA_vs_PHI\\receiving_advanced.csv\n",
      "Saved DataFrame defense_advanced to raw_data\\2023\\Week15\\2023_Week15_SEA_vs_PHI\\defense_advanced.csv\n",
      "Saved DataFrame home_starters to raw_data\\2023\\Week15\\2023_Week15_SEA_vs_PHI\\home_starters.csv\n",
      "Saved DataFrame vis_starters to raw_data\\2023\\Week15\\2023_Week15_SEA_vs_PHI\\vis_starters.csv\n",
      "Saved DataFrame home_snap_counts to raw_data\\2023\\Week15\\2023_Week15_SEA_vs_PHI\\home_snap_counts.csv\n",
      "Saved DataFrame vis_snap_counts to raw_data\\2023\\Week15\\2023_Week15_SEA_vs_PHI\\vis_snap_counts.csv\n",
      "Saved DataFrame home_drives to raw_data\\2023\\Week15\\2023_Week15_SEA_vs_PHI\\home_drives.csv\n",
      "Saved DataFrame vis_drives to raw_data\\2023\\Week15\\2023_Week15_SEA_vs_PHI\\vis_drives.csv\n",
      "Saved DataFrame pbp to raw_data\\2023\\Week15\\2023_Week15_SEA_vs_PHI\\pbp.csv\n"
     ]
    },
    {
     "name": "stderr",
     "output_type": "stream",
     "text": [
      "C:\\Users\\jackj\\AppData\\Local\\Temp\\ipykernel_31996\\1469608065.py:49: MarkupResemblesLocatorWarning: The input looks more like a filename than markup. You may want to open this file and pass the filehandle into Beautiful Soup.\n",
      "  comment_soup = BeautifulSoup(comment, 'html.parser')\n"
     ]
    },
    {
     "name": "stdout",
     "output_type": "stream",
     "text": [
      "Saved DataFrame scoring to raw_data\\2023\\Week16\\2023_Week16_LAR_vs_NO\\scoring.csv\n",
      "Saved DataFrame player_offense to raw_data\\2023\\Week16\\2023_Week16_LAR_vs_NO\\player_offense.csv\n",
      "Saved DataFrame game_info to raw_data\\2023\\Week16\\2023_Week16_LAR_vs_NO\\game_info.csv\n",
      "Saved DataFrame officials to raw_data\\2023\\Week16\\2023_Week16_LAR_vs_NO\\officials.csv\n",
      "Saved DataFrame expected_points to raw_data\\2023\\Week16\\2023_Week16_LAR_vs_NO\\expected_points.csv\n",
      "Saved DataFrame team_stats to raw_data\\2023\\Week16\\2023_Week16_LAR_vs_NO\\team_stats.csv\n",
      "Saved DataFrame player_defense to raw_data\\2023\\Week16\\2023_Week16_LAR_vs_NO\\player_defense.csv\n",
      "Saved DataFrame returns to raw_data\\2023\\Week16\\2023_Week16_LAR_vs_NO\\returns.csv\n",
      "Saved DataFrame kicking to raw_data\\2023\\Week16\\2023_Week16_LAR_vs_NO\\kicking.csv\n",
      "Saved DataFrame passing_advanced to raw_data\\2023\\Week16\\2023_Week16_LAR_vs_NO\\passing_advanced.csv\n",
      "Saved DataFrame rushing_advanced to raw_data\\2023\\Week16\\2023_Week16_LAR_vs_NO\\rushing_advanced.csv\n",
      "Saved DataFrame receiving_advanced to raw_data\\2023\\Week16\\2023_Week16_LAR_vs_NO\\receiving_advanced.csv\n",
      "Saved DataFrame defense_advanced to raw_data\\2023\\Week16\\2023_Week16_LAR_vs_NO\\defense_advanced.csv\n",
      "Saved DataFrame home_starters to raw_data\\2023\\Week16\\2023_Week16_LAR_vs_NO\\home_starters.csv\n",
      "Saved DataFrame vis_starters to raw_data\\2023\\Week16\\2023_Week16_LAR_vs_NO\\vis_starters.csv\n",
      "Saved DataFrame home_snap_counts to raw_data\\2023\\Week16\\2023_Week16_LAR_vs_NO\\home_snap_counts.csv\n",
      "Saved DataFrame vis_snap_counts to raw_data\\2023\\Week16\\2023_Week16_LAR_vs_NO\\vis_snap_counts.csv\n",
      "Saved DataFrame home_drives to raw_data\\2023\\Week16\\2023_Week16_LAR_vs_NO\\home_drives.csv\n",
      "Saved DataFrame vis_drives to raw_data\\2023\\Week16\\2023_Week16_LAR_vs_NO\\vis_drives.csv\n",
      "Saved DataFrame pbp to raw_data\\2023\\Week16\\2023_Week16_LAR_vs_NO\\pbp.csv\n"
     ]
    },
    {
     "name": "stderr",
     "output_type": "stream",
     "text": [
      "C:\\Users\\jackj\\AppData\\Local\\Temp\\ipykernel_31996\\1469608065.py:49: MarkupResemblesLocatorWarning: The input looks more like a filename than markup. You may want to open this file and pass the filehandle into Beautiful Soup.\n",
      "  comment_soup = BeautifulSoup(comment, 'html.parser')\n"
     ]
    },
    {
     "name": "stdout",
     "output_type": "stream",
     "text": [
      "Saved DataFrame scoring to raw_data\\2023\\Week16\\2023_Week16_PIT_vs_CIN\\scoring.csv\n",
      "Saved DataFrame player_offense to raw_data\\2023\\Week16\\2023_Week16_PIT_vs_CIN\\player_offense.csv\n",
      "Saved DataFrame game_info to raw_data\\2023\\Week16\\2023_Week16_PIT_vs_CIN\\game_info.csv\n",
      "Saved DataFrame officials to raw_data\\2023\\Week16\\2023_Week16_PIT_vs_CIN\\officials.csv\n",
      "Saved DataFrame expected_points to raw_data\\2023\\Week16\\2023_Week16_PIT_vs_CIN\\expected_points.csv\n",
      "Saved DataFrame team_stats to raw_data\\2023\\Week16\\2023_Week16_PIT_vs_CIN\\team_stats.csv\n",
      "Saved DataFrame player_defense to raw_data\\2023\\Week16\\2023_Week16_PIT_vs_CIN\\player_defense.csv\n",
      "Saved DataFrame returns to raw_data\\2023\\Week16\\2023_Week16_PIT_vs_CIN\\returns.csv\n",
      "Saved DataFrame kicking to raw_data\\2023\\Week16\\2023_Week16_PIT_vs_CIN\\kicking.csv\n",
      "Saved DataFrame passing_advanced to raw_data\\2023\\Week16\\2023_Week16_PIT_vs_CIN\\passing_advanced.csv\n",
      "Saved DataFrame rushing_advanced to raw_data\\2023\\Week16\\2023_Week16_PIT_vs_CIN\\rushing_advanced.csv\n",
      "Saved DataFrame receiving_advanced to raw_data\\2023\\Week16\\2023_Week16_PIT_vs_CIN\\receiving_advanced.csv\n",
      "Saved DataFrame defense_advanced to raw_data\\2023\\Week16\\2023_Week16_PIT_vs_CIN\\defense_advanced.csv\n",
      "Saved DataFrame home_starters to raw_data\\2023\\Week16\\2023_Week16_PIT_vs_CIN\\home_starters.csv\n",
      "Saved DataFrame vis_starters to raw_data\\2023\\Week16\\2023_Week16_PIT_vs_CIN\\vis_starters.csv\n",
      "Saved DataFrame home_snap_counts to raw_data\\2023\\Week16\\2023_Week16_PIT_vs_CIN\\home_snap_counts.csv\n",
      "Saved DataFrame vis_snap_counts to raw_data\\2023\\Week16\\2023_Week16_PIT_vs_CIN\\vis_snap_counts.csv\n",
      "Saved DataFrame home_drives to raw_data\\2023\\Week16\\2023_Week16_PIT_vs_CIN\\home_drives.csv\n",
      "Saved DataFrame vis_drives to raw_data\\2023\\Week16\\2023_Week16_PIT_vs_CIN\\vis_drives.csv\n",
      "Saved DataFrame pbp to raw_data\\2023\\Week16\\2023_Week16_PIT_vs_CIN\\pbp.csv\n"
     ]
    },
    {
     "name": "stderr",
     "output_type": "stream",
     "text": [
      "C:\\Users\\jackj\\AppData\\Local\\Temp\\ipykernel_31996\\1469608065.py:49: MarkupResemblesLocatorWarning: The input looks more like a filename than markup. You may want to open this file and pass the filehandle into Beautiful Soup.\n",
      "  comment_soup = BeautifulSoup(comment, 'html.parser')\n"
     ]
    },
    {
     "name": "stdout",
     "output_type": "stream",
     "text": [
      "Saved DataFrame scoring to raw_data\\2023\\Week16\\2023_Week16_LAC_vs_BUF\\scoring.csv\n",
      "Saved DataFrame player_offense to raw_data\\2023\\Week16\\2023_Week16_LAC_vs_BUF\\player_offense.csv\n",
      "Saved DataFrame game_info to raw_data\\2023\\Week16\\2023_Week16_LAC_vs_BUF\\game_info.csv\n",
      "Saved DataFrame officials to raw_data\\2023\\Week16\\2023_Week16_LAC_vs_BUF\\officials.csv\n",
      "Saved DataFrame expected_points to raw_data\\2023\\Week16\\2023_Week16_LAC_vs_BUF\\expected_points.csv\n",
      "Saved DataFrame team_stats to raw_data\\2023\\Week16\\2023_Week16_LAC_vs_BUF\\team_stats.csv\n",
      "Saved DataFrame player_defense to raw_data\\2023\\Week16\\2023_Week16_LAC_vs_BUF\\player_defense.csv\n",
      "Saved DataFrame returns to raw_data\\2023\\Week16\\2023_Week16_LAC_vs_BUF\\returns.csv\n",
      "Saved DataFrame kicking to raw_data\\2023\\Week16\\2023_Week16_LAC_vs_BUF\\kicking.csv\n",
      "Saved DataFrame passing_advanced to raw_data\\2023\\Week16\\2023_Week16_LAC_vs_BUF\\passing_advanced.csv\n",
      "Saved DataFrame rushing_advanced to raw_data\\2023\\Week16\\2023_Week16_LAC_vs_BUF\\rushing_advanced.csv\n",
      "Saved DataFrame receiving_advanced to raw_data\\2023\\Week16\\2023_Week16_LAC_vs_BUF\\receiving_advanced.csv\n",
      "Saved DataFrame defense_advanced to raw_data\\2023\\Week16\\2023_Week16_LAC_vs_BUF\\defense_advanced.csv\n",
      "Saved DataFrame home_starters to raw_data\\2023\\Week16\\2023_Week16_LAC_vs_BUF\\home_starters.csv\n",
      "Saved DataFrame vis_starters to raw_data\\2023\\Week16\\2023_Week16_LAC_vs_BUF\\vis_starters.csv\n",
      "Saved DataFrame home_snap_counts to raw_data\\2023\\Week16\\2023_Week16_LAC_vs_BUF\\home_snap_counts.csv\n",
      "Saved DataFrame vis_snap_counts to raw_data\\2023\\Week16\\2023_Week16_LAC_vs_BUF\\vis_snap_counts.csv\n",
      "Saved DataFrame home_drives to raw_data\\2023\\Week16\\2023_Week16_LAC_vs_BUF\\home_drives.csv\n",
      "Saved DataFrame vis_drives to raw_data\\2023\\Week16\\2023_Week16_LAC_vs_BUF\\vis_drives.csv\n",
      "Saved DataFrame pbp to raw_data\\2023\\Week16\\2023_Week16_LAC_vs_BUF\\pbp.csv\n"
     ]
    },
    {
     "name": "stderr",
     "output_type": "stream",
     "text": [
      "C:\\Users\\jackj\\AppData\\Local\\Temp\\ipykernel_31996\\1469608065.py:49: MarkupResemblesLocatorWarning: The input looks more like a filename than markup. You may want to open this file and pass the filehandle into Beautiful Soup.\n",
      "  comment_soup = BeautifulSoup(comment, 'html.parser')\n"
     ]
    },
    {
     "name": "stdout",
     "output_type": "stream",
     "text": [
      "Saved DataFrame scoring to raw_data\\2023\\Week16\\2023_Week16_ATL_vs_IND\\scoring.csv\n",
      "Saved DataFrame player_offense to raw_data\\2023\\Week16\\2023_Week16_ATL_vs_IND\\player_offense.csv\n",
      "Saved DataFrame game_info to raw_data\\2023\\Week16\\2023_Week16_ATL_vs_IND\\game_info.csv\n",
      "Saved DataFrame officials to raw_data\\2023\\Week16\\2023_Week16_ATL_vs_IND\\officials.csv\n",
      "Saved DataFrame expected_points to raw_data\\2023\\Week16\\2023_Week16_ATL_vs_IND\\expected_points.csv\n",
      "Saved DataFrame team_stats to raw_data\\2023\\Week16\\2023_Week16_ATL_vs_IND\\team_stats.csv\n",
      "Saved DataFrame player_defense to raw_data\\2023\\Week16\\2023_Week16_ATL_vs_IND\\player_defense.csv\n",
      "Saved DataFrame returns to raw_data\\2023\\Week16\\2023_Week16_ATL_vs_IND\\returns.csv\n",
      "Saved DataFrame kicking to raw_data\\2023\\Week16\\2023_Week16_ATL_vs_IND\\kicking.csv\n",
      "Saved DataFrame passing_advanced to raw_data\\2023\\Week16\\2023_Week16_ATL_vs_IND\\passing_advanced.csv\n",
      "Saved DataFrame rushing_advanced to raw_data\\2023\\Week16\\2023_Week16_ATL_vs_IND\\rushing_advanced.csv\n",
      "Saved DataFrame receiving_advanced to raw_data\\2023\\Week16\\2023_Week16_ATL_vs_IND\\receiving_advanced.csv\n",
      "Saved DataFrame defense_advanced to raw_data\\2023\\Week16\\2023_Week16_ATL_vs_IND\\defense_advanced.csv\n",
      "Saved DataFrame home_starters to raw_data\\2023\\Week16\\2023_Week16_ATL_vs_IND\\home_starters.csv\n",
      "Saved DataFrame vis_starters to raw_data\\2023\\Week16\\2023_Week16_ATL_vs_IND\\vis_starters.csv\n",
      "Saved DataFrame home_snap_counts to raw_data\\2023\\Week16\\2023_Week16_ATL_vs_IND\\home_snap_counts.csv\n",
      "Saved DataFrame vis_snap_counts to raw_data\\2023\\Week16\\2023_Week16_ATL_vs_IND\\vis_snap_counts.csv\n",
      "Saved DataFrame home_drives to raw_data\\2023\\Week16\\2023_Week16_ATL_vs_IND\\home_drives.csv\n",
      "Saved DataFrame vis_drives to raw_data\\2023\\Week16\\2023_Week16_ATL_vs_IND\\vis_drives.csv\n",
      "Saved DataFrame pbp to raw_data\\2023\\Week16\\2023_Week16_ATL_vs_IND\\pbp.csv\n",
      "Reached 20 requests, sleeping for 60 seconds...\n"
     ]
    },
    {
     "name": "stderr",
     "output_type": "stream",
     "text": [
      "C:\\Users\\jackj\\AppData\\Local\\Temp\\ipykernel_31996\\1469608065.py:49: MarkupResemblesLocatorWarning: The input looks more like a filename than markup. You may want to open this file and pass the filehandle into Beautiful Soup.\n",
      "  comment_soup = BeautifulSoup(comment, 'html.parser')\n"
     ]
    },
    {
     "name": "stdout",
     "output_type": "stream",
     "text": [
      "Saved DataFrame scoring to raw_data\\2023\\Week16\\2023_Week16_CAR_vs_GB\\scoring.csv\n",
      "Saved DataFrame player_offense to raw_data\\2023\\Week16\\2023_Week16_CAR_vs_GB\\player_offense.csv\n",
      "Saved DataFrame game_info to raw_data\\2023\\Week16\\2023_Week16_CAR_vs_GB\\game_info.csv\n",
      "Saved DataFrame officials to raw_data\\2023\\Week16\\2023_Week16_CAR_vs_GB\\officials.csv\n",
      "Saved DataFrame expected_points to raw_data\\2023\\Week16\\2023_Week16_CAR_vs_GB\\expected_points.csv\n",
      "Saved DataFrame team_stats to raw_data\\2023\\Week16\\2023_Week16_CAR_vs_GB\\team_stats.csv\n",
      "Saved DataFrame player_defense to raw_data\\2023\\Week16\\2023_Week16_CAR_vs_GB\\player_defense.csv\n",
      "Saved DataFrame returns to raw_data\\2023\\Week16\\2023_Week16_CAR_vs_GB\\returns.csv\n",
      "Saved DataFrame kicking to raw_data\\2023\\Week16\\2023_Week16_CAR_vs_GB\\kicking.csv\n",
      "Saved DataFrame passing_advanced to raw_data\\2023\\Week16\\2023_Week16_CAR_vs_GB\\passing_advanced.csv\n",
      "Saved DataFrame rushing_advanced to raw_data\\2023\\Week16\\2023_Week16_CAR_vs_GB\\rushing_advanced.csv\n",
      "Saved DataFrame receiving_advanced to raw_data\\2023\\Week16\\2023_Week16_CAR_vs_GB\\receiving_advanced.csv\n",
      "Saved DataFrame defense_advanced to raw_data\\2023\\Week16\\2023_Week16_CAR_vs_GB\\defense_advanced.csv\n",
      "Saved DataFrame home_starters to raw_data\\2023\\Week16\\2023_Week16_CAR_vs_GB\\home_starters.csv\n",
      "Saved DataFrame vis_starters to raw_data\\2023\\Week16\\2023_Week16_CAR_vs_GB\\vis_starters.csv\n",
      "Saved DataFrame home_snap_counts to raw_data\\2023\\Week16\\2023_Week16_CAR_vs_GB\\home_snap_counts.csv\n",
      "Saved DataFrame vis_snap_counts to raw_data\\2023\\Week16\\2023_Week16_CAR_vs_GB\\vis_snap_counts.csv\n",
      "Saved DataFrame home_drives to raw_data\\2023\\Week16\\2023_Week16_CAR_vs_GB\\home_drives.csv\n",
      "Saved DataFrame vis_drives to raw_data\\2023\\Week16\\2023_Week16_CAR_vs_GB\\vis_drives.csv\n",
      "Saved DataFrame pbp to raw_data\\2023\\Week16\\2023_Week16_CAR_vs_GB\\pbp.csv\n"
     ]
    },
    {
     "name": "stderr",
     "output_type": "stream",
     "text": [
      "C:\\Users\\jackj\\AppData\\Local\\Temp\\ipykernel_31996\\1469608065.py:49: MarkupResemblesLocatorWarning: The input looks more like a filename than markup. You may want to open this file and pass the filehandle into Beautiful Soup.\n",
      "  comment_soup = BeautifulSoup(comment, 'html.parser')\n"
     ]
    },
    {
     "name": "stdout",
     "output_type": "stream",
     "text": [
      "Saved DataFrame scoring to raw_data\\2023\\Week16\\2023_Week16_HOU_vs_CLE\\scoring.csv\n",
      "Saved DataFrame player_offense to raw_data\\2023\\Week16\\2023_Week16_HOU_vs_CLE\\player_offense.csv\n",
      "Saved DataFrame game_info to raw_data\\2023\\Week16\\2023_Week16_HOU_vs_CLE\\game_info.csv\n",
      "Saved DataFrame officials to raw_data\\2023\\Week16\\2023_Week16_HOU_vs_CLE\\officials.csv\n",
      "Saved DataFrame expected_points to raw_data\\2023\\Week16\\2023_Week16_HOU_vs_CLE\\expected_points.csv\n",
      "Saved DataFrame team_stats to raw_data\\2023\\Week16\\2023_Week16_HOU_vs_CLE\\team_stats.csv\n",
      "Saved DataFrame player_defense to raw_data\\2023\\Week16\\2023_Week16_HOU_vs_CLE\\player_defense.csv\n",
      "Saved DataFrame returns to raw_data\\2023\\Week16\\2023_Week16_HOU_vs_CLE\\returns.csv\n",
      "Saved DataFrame kicking to raw_data\\2023\\Week16\\2023_Week16_HOU_vs_CLE\\kicking.csv\n",
      "Saved DataFrame passing_advanced to raw_data\\2023\\Week16\\2023_Week16_HOU_vs_CLE\\passing_advanced.csv\n",
      "Saved DataFrame rushing_advanced to raw_data\\2023\\Week16\\2023_Week16_HOU_vs_CLE\\rushing_advanced.csv\n",
      "Saved DataFrame receiving_advanced to raw_data\\2023\\Week16\\2023_Week16_HOU_vs_CLE\\receiving_advanced.csv\n",
      "Saved DataFrame defense_advanced to raw_data\\2023\\Week16\\2023_Week16_HOU_vs_CLE\\defense_advanced.csv\n",
      "Saved DataFrame home_starters to raw_data\\2023\\Week16\\2023_Week16_HOU_vs_CLE\\home_starters.csv\n",
      "Saved DataFrame vis_starters to raw_data\\2023\\Week16\\2023_Week16_HOU_vs_CLE\\vis_starters.csv\n",
      "Saved DataFrame home_snap_counts to raw_data\\2023\\Week16\\2023_Week16_HOU_vs_CLE\\home_snap_counts.csv\n",
      "Saved DataFrame vis_snap_counts to raw_data\\2023\\Week16\\2023_Week16_HOU_vs_CLE\\vis_snap_counts.csv\n",
      "Saved DataFrame home_drives to raw_data\\2023\\Week16\\2023_Week16_HOU_vs_CLE\\home_drives.csv\n",
      "Saved DataFrame vis_drives to raw_data\\2023\\Week16\\2023_Week16_HOU_vs_CLE\\vis_drives.csv\n",
      "Saved DataFrame pbp to raw_data\\2023\\Week16\\2023_Week16_HOU_vs_CLE\\pbp.csv\n"
     ]
    },
    {
     "name": "stderr",
     "output_type": "stream",
     "text": [
      "C:\\Users\\jackj\\AppData\\Local\\Temp\\ipykernel_31996\\1469608065.py:49: MarkupResemblesLocatorWarning: The input looks more like a filename than markup. You may want to open this file and pass the filehandle into Beautiful Soup.\n",
      "  comment_soup = BeautifulSoup(comment, 'html.parser')\n"
     ]
    },
    {
     "name": "stdout",
     "output_type": "stream",
     "text": [
      "Saved DataFrame scoring to raw_data\\2023\\Week16\\2023_Week16_MIN_vs_DET\\scoring.csv\n",
      "Saved DataFrame player_offense to raw_data\\2023\\Week16\\2023_Week16_MIN_vs_DET\\player_offense.csv\n",
      "Saved DataFrame game_info to raw_data\\2023\\Week16\\2023_Week16_MIN_vs_DET\\game_info.csv\n",
      "Saved DataFrame officials to raw_data\\2023\\Week16\\2023_Week16_MIN_vs_DET\\officials.csv\n",
      "Saved DataFrame expected_points to raw_data\\2023\\Week16\\2023_Week16_MIN_vs_DET\\expected_points.csv\n",
      "Saved DataFrame team_stats to raw_data\\2023\\Week16\\2023_Week16_MIN_vs_DET\\team_stats.csv\n",
      "Saved DataFrame player_defense to raw_data\\2023\\Week16\\2023_Week16_MIN_vs_DET\\player_defense.csv\n",
      "Saved DataFrame returns to raw_data\\2023\\Week16\\2023_Week16_MIN_vs_DET\\returns.csv\n",
      "Saved DataFrame kicking to raw_data\\2023\\Week16\\2023_Week16_MIN_vs_DET\\kicking.csv\n",
      "Saved DataFrame passing_advanced to raw_data\\2023\\Week16\\2023_Week16_MIN_vs_DET\\passing_advanced.csv\n",
      "Saved DataFrame rushing_advanced to raw_data\\2023\\Week16\\2023_Week16_MIN_vs_DET\\rushing_advanced.csv\n",
      "Saved DataFrame receiving_advanced to raw_data\\2023\\Week16\\2023_Week16_MIN_vs_DET\\receiving_advanced.csv\n",
      "Saved DataFrame defense_advanced to raw_data\\2023\\Week16\\2023_Week16_MIN_vs_DET\\defense_advanced.csv\n",
      "Saved DataFrame home_starters to raw_data\\2023\\Week16\\2023_Week16_MIN_vs_DET\\home_starters.csv\n",
      "Saved DataFrame vis_starters to raw_data\\2023\\Week16\\2023_Week16_MIN_vs_DET\\vis_starters.csv\n",
      "Saved DataFrame home_snap_counts to raw_data\\2023\\Week16\\2023_Week16_MIN_vs_DET\\home_snap_counts.csv\n",
      "Saved DataFrame vis_snap_counts to raw_data\\2023\\Week16\\2023_Week16_MIN_vs_DET\\vis_snap_counts.csv\n",
      "Saved DataFrame home_drives to raw_data\\2023\\Week16\\2023_Week16_MIN_vs_DET\\home_drives.csv\n",
      "Saved DataFrame vis_drives to raw_data\\2023\\Week16\\2023_Week16_MIN_vs_DET\\vis_drives.csv\n",
      "Saved DataFrame pbp to raw_data\\2023\\Week16\\2023_Week16_MIN_vs_DET\\pbp.csv\n"
     ]
    },
    {
     "name": "stderr",
     "output_type": "stream",
     "text": [
      "C:\\Users\\jackj\\AppData\\Local\\Temp\\ipykernel_31996\\1469608065.py:49: MarkupResemblesLocatorWarning: The input looks more like a filename than markup. You may want to open this file and pass the filehandle into Beautiful Soup.\n",
      "  comment_soup = BeautifulSoup(comment, 'html.parser')\n"
     ]
    },
    {
     "name": "stdout",
     "output_type": "stream",
     "text": [
      "Saved DataFrame scoring to raw_data\\2023\\Week16\\2023_Week16_NYJ_vs_WAS\\scoring.csv\n",
      "Saved DataFrame player_offense to raw_data\\2023\\Week16\\2023_Week16_NYJ_vs_WAS\\player_offense.csv\n",
      "Saved DataFrame game_info to raw_data\\2023\\Week16\\2023_Week16_NYJ_vs_WAS\\game_info.csv\n",
      "Saved DataFrame officials to raw_data\\2023\\Week16\\2023_Week16_NYJ_vs_WAS\\officials.csv\n",
      "Saved DataFrame expected_points to raw_data\\2023\\Week16\\2023_Week16_NYJ_vs_WAS\\expected_points.csv\n",
      "Saved DataFrame team_stats to raw_data\\2023\\Week16\\2023_Week16_NYJ_vs_WAS\\team_stats.csv\n",
      "Saved DataFrame player_defense to raw_data\\2023\\Week16\\2023_Week16_NYJ_vs_WAS\\player_defense.csv\n",
      "Saved DataFrame returns to raw_data\\2023\\Week16\\2023_Week16_NYJ_vs_WAS\\returns.csv\n",
      "Saved DataFrame kicking to raw_data\\2023\\Week16\\2023_Week16_NYJ_vs_WAS\\kicking.csv\n",
      "Saved DataFrame passing_advanced to raw_data\\2023\\Week16\\2023_Week16_NYJ_vs_WAS\\passing_advanced.csv\n",
      "Saved DataFrame rushing_advanced to raw_data\\2023\\Week16\\2023_Week16_NYJ_vs_WAS\\rushing_advanced.csv\n",
      "Saved DataFrame receiving_advanced to raw_data\\2023\\Week16\\2023_Week16_NYJ_vs_WAS\\receiving_advanced.csv\n",
      "Saved DataFrame defense_advanced to raw_data\\2023\\Week16\\2023_Week16_NYJ_vs_WAS\\defense_advanced.csv\n",
      "Saved DataFrame home_starters to raw_data\\2023\\Week16\\2023_Week16_NYJ_vs_WAS\\home_starters.csv\n",
      "Saved DataFrame vis_starters to raw_data\\2023\\Week16\\2023_Week16_NYJ_vs_WAS\\vis_starters.csv\n",
      "Saved DataFrame home_snap_counts to raw_data\\2023\\Week16\\2023_Week16_NYJ_vs_WAS\\home_snap_counts.csv\n",
      "Saved DataFrame vis_snap_counts to raw_data\\2023\\Week16\\2023_Week16_NYJ_vs_WAS\\vis_snap_counts.csv\n",
      "Saved DataFrame home_drives to raw_data\\2023\\Week16\\2023_Week16_NYJ_vs_WAS\\home_drives.csv\n",
      "Saved DataFrame vis_drives to raw_data\\2023\\Week16\\2023_Week16_NYJ_vs_WAS\\vis_drives.csv\n",
      "Saved DataFrame pbp to raw_data\\2023\\Week16\\2023_Week16_NYJ_vs_WAS\\pbp.csv\n"
     ]
    },
    {
     "name": "stderr",
     "output_type": "stream",
     "text": [
      "C:\\Users\\jackj\\AppData\\Local\\Temp\\ipykernel_31996\\1469608065.py:49: MarkupResemblesLocatorWarning: The input looks more like a filename than markup. You may want to open this file and pass the filehandle into Beautiful Soup.\n",
      "  comment_soup = BeautifulSoup(comment, 'html.parser')\n"
     ]
    },
    {
     "name": "stdout",
     "output_type": "stream",
     "text": [
      "Saved DataFrame scoring to raw_data\\2023\\Week16\\2023_Week16_TEN_vs_SEA\\scoring.csv\n",
      "Saved DataFrame player_offense to raw_data\\2023\\Week16\\2023_Week16_TEN_vs_SEA\\player_offense.csv\n",
      "Saved DataFrame game_info to raw_data\\2023\\Week16\\2023_Week16_TEN_vs_SEA\\game_info.csv\n",
      "Saved DataFrame officials to raw_data\\2023\\Week16\\2023_Week16_TEN_vs_SEA\\officials.csv\n",
      "Saved DataFrame expected_points to raw_data\\2023\\Week16\\2023_Week16_TEN_vs_SEA\\expected_points.csv\n",
      "Saved DataFrame team_stats to raw_data\\2023\\Week16\\2023_Week16_TEN_vs_SEA\\team_stats.csv\n",
      "Saved DataFrame player_defense to raw_data\\2023\\Week16\\2023_Week16_TEN_vs_SEA\\player_defense.csv\n",
      "Saved DataFrame returns to raw_data\\2023\\Week16\\2023_Week16_TEN_vs_SEA\\returns.csv\n",
      "Saved DataFrame kicking to raw_data\\2023\\Week16\\2023_Week16_TEN_vs_SEA\\kicking.csv\n",
      "Saved DataFrame passing_advanced to raw_data\\2023\\Week16\\2023_Week16_TEN_vs_SEA\\passing_advanced.csv\n",
      "Saved DataFrame rushing_advanced to raw_data\\2023\\Week16\\2023_Week16_TEN_vs_SEA\\rushing_advanced.csv\n",
      "Saved DataFrame receiving_advanced to raw_data\\2023\\Week16\\2023_Week16_TEN_vs_SEA\\receiving_advanced.csv\n",
      "Saved DataFrame defense_advanced to raw_data\\2023\\Week16\\2023_Week16_TEN_vs_SEA\\defense_advanced.csv\n",
      "Saved DataFrame home_starters to raw_data\\2023\\Week16\\2023_Week16_TEN_vs_SEA\\home_starters.csv\n",
      "Saved DataFrame vis_starters to raw_data\\2023\\Week16\\2023_Week16_TEN_vs_SEA\\vis_starters.csv\n",
      "Saved DataFrame home_snap_counts to raw_data\\2023\\Week16\\2023_Week16_TEN_vs_SEA\\home_snap_counts.csv\n",
      "Saved DataFrame vis_snap_counts to raw_data\\2023\\Week16\\2023_Week16_TEN_vs_SEA\\vis_snap_counts.csv\n",
      "Saved DataFrame home_drives to raw_data\\2023\\Week16\\2023_Week16_TEN_vs_SEA\\home_drives.csv\n",
      "Saved DataFrame vis_drives to raw_data\\2023\\Week16\\2023_Week16_TEN_vs_SEA\\vis_drives.csv\n",
      "Saved DataFrame pbp to raw_data\\2023\\Week16\\2023_Week16_TEN_vs_SEA\\pbp.csv\n"
     ]
    },
    {
     "name": "stderr",
     "output_type": "stream",
     "text": [
      "C:\\Users\\jackj\\AppData\\Local\\Temp\\ipykernel_31996\\1469608065.py:49: MarkupResemblesLocatorWarning: The input looks more like a filename than markup. You may want to open this file and pass the filehandle into Beautiful Soup.\n",
      "  comment_soup = BeautifulSoup(comment, 'html.parser')\n"
     ]
    },
    {
     "name": "stdout",
     "output_type": "stream",
     "text": [
      "Saved DataFrame scoring to raw_data\\2023\\Week16\\2023_Week16_TB_vs_JAX\\scoring.csv\n",
      "Saved DataFrame player_offense to raw_data\\2023\\Week16\\2023_Week16_TB_vs_JAX\\player_offense.csv\n",
      "Saved DataFrame game_info to raw_data\\2023\\Week16\\2023_Week16_TB_vs_JAX\\game_info.csv\n",
      "Saved DataFrame officials to raw_data\\2023\\Week16\\2023_Week16_TB_vs_JAX\\officials.csv\n",
      "Saved DataFrame expected_points to raw_data\\2023\\Week16\\2023_Week16_TB_vs_JAX\\expected_points.csv\n",
      "Saved DataFrame team_stats to raw_data\\2023\\Week16\\2023_Week16_TB_vs_JAX\\team_stats.csv\n",
      "Saved DataFrame player_defense to raw_data\\2023\\Week16\\2023_Week16_TB_vs_JAX\\player_defense.csv\n",
      "Saved DataFrame returns to raw_data\\2023\\Week16\\2023_Week16_TB_vs_JAX\\returns.csv\n",
      "Saved DataFrame kicking to raw_data\\2023\\Week16\\2023_Week16_TB_vs_JAX\\kicking.csv\n",
      "Saved DataFrame passing_advanced to raw_data\\2023\\Week16\\2023_Week16_TB_vs_JAX\\passing_advanced.csv\n",
      "Saved DataFrame rushing_advanced to raw_data\\2023\\Week16\\2023_Week16_TB_vs_JAX\\rushing_advanced.csv\n",
      "Saved DataFrame receiving_advanced to raw_data\\2023\\Week16\\2023_Week16_TB_vs_JAX\\receiving_advanced.csv\n",
      "Saved DataFrame defense_advanced to raw_data\\2023\\Week16\\2023_Week16_TB_vs_JAX\\defense_advanced.csv\n",
      "Saved DataFrame home_starters to raw_data\\2023\\Week16\\2023_Week16_TB_vs_JAX\\home_starters.csv\n",
      "Saved DataFrame vis_starters to raw_data\\2023\\Week16\\2023_Week16_TB_vs_JAX\\vis_starters.csv\n",
      "Saved DataFrame home_snap_counts to raw_data\\2023\\Week16\\2023_Week16_TB_vs_JAX\\home_snap_counts.csv\n",
      "Saved DataFrame vis_snap_counts to raw_data\\2023\\Week16\\2023_Week16_TB_vs_JAX\\vis_snap_counts.csv\n",
      "Saved DataFrame home_drives to raw_data\\2023\\Week16\\2023_Week16_TB_vs_JAX\\home_drives.csv\n",
      "Saved DataFrame vis_drives to raw_data\\2023\\Week16\\2023_Week16_TB_vs_JAX\\vis_drives.csv\n",
      "Saved DataFrame pbp to raw_data\\2023\\Week16\\2023_Week16_TB_vs_JAX\\pbp.csv\n"
     ]
    },
    {
     "name": "stderr",
     "output_type": "stream",
     "text": [
      "C:\\Users\\jackj\\AppData\\Local\\Temp\\ipykernel_31996\\1469608065.py:49: MarkupResemblesLocatorWarning: The input looks more like a filename than markup. You may want to open this file and pass the filehandle into Beautiful Soup.\n",
      "  comment_soup = BeautifulSoup(comment, 'html.parser')\n"
     ]
    },
    {
     "name": "stdout",
     "output_type": "stream",
     "text": [
      "Saved DataFrame scoring to raw_data\\2023\\Week16\\2023_Week16_CHI_vs_ARI\\scoring.csv\n",
      "Saved DataFrame player_offense to raw_data\\2023\\Week16\\2023_Week16_CHI_vs_ARI\\player_offense.csv\n",
      "Saved DataFrame game_info to raw_data\\2023\\Week16\\2023_Week16_CHI_vs_ARI\\game_info.csv\n",
      "Saved DataFrame officials to raw_data\\2023\\Week16\\2023_Week16_CHI_vs_ARI\\officials.csv\n",
      "Saved DataFrame expected_points to raw_data\\2023\\Week16\\2023_Week16_CHI_vs_ARI\\expected_points.csv\n",
      "Saved DataFrame team_stats to raw_data\\2023\\Week16\\2023_Week16_CHI_vs_ARI\\team_stats.csv\n",
      "Saved DataFrame player_defense to raw_data\\2023\\Week16\\2023_Week16_CHI_vs_ARI\\player_defense.csv\n",
      "Saved DataFrame returns to raw_data\\2023\\Week16\\2023_Week16_CHI_vs_ARI\\returns.csv\n",
      "Saved DataFrame kicking to raw_data\\2023\\Week16\\2023_Week16_CHI_vs_ARI\\kicking.csv\n",
      "Saved DataFrame passing_advanced to raw_data\\2023\\Week16\\2023_Week16_CHI_vs_ARI\\passing_advanced.csv\n",
      "Saved DataFrame rushing_advanced to raw_data\\2023\\Week16\\2023_Week16_CHI_vs_ARI\\rushing_advanced.csv\n",
      "Saved DataFrame receiving_advanced to raw_data\\2023\\Week16\\2023_Week16_CHI_vs_ARI\\receiving_advanced.csv\n",
      "Saved DataFrame defense_advanced to raw_data\\2023\\Week16\\2023_Week16_CHI_vs_ARI\\defense_advanced.csv\n",
      "Saved DataFrame home_starters to raw_data\\2023\\Week16\\2023_Week16_CHI_vs_ARI\\home_starters.csv\n",
      "Saved DataFrame vis_starters to raw_data\\2023\\Week16\\2023_Week16_CHI_vs_ARI\\vis_starters.csv\n",
      "Saved DataFrame home_snap_counts to raw_data\\2023\\Week16\\2023_Week16_CHI_vs_ARI\\home_snap_counts.csv\n",
      "Saved DataFrame vis_snap_counts to raw_data\\2023\\Week16\\2023_Week16_CHI_vs_ARI\\vis_snap_counts.csv\n",
      "Saved DataFrame home_drives to raw_data\\2023\\Week16\\2023_Week16_CHI_vs_ARI\\home_drives.csv\n",
      "Saved DataFrame vis_drives to raw_data\\2023\\Week16\\2023_Week16_CHI_vs_ARI\\vis_drives.csv\n",
      "Saved DataFrame pbp to raw_data\\2023\\Week16\\2023_Week16_CHI_vs_ARI\\pbp.csv\n"
     ]
    },
    {
     "name": "stderr",
     "output_type": "stream",
     "text": [
      "C:\\Users\\jackj\\AppData\\Local\\Temp\\ipykernel_31996\\1469608065.py:49: MarkupResemblesLocatorWarning: The input looks more like a filename than markup. You may want to open this file and pass the filehandle into Beautiful Soup.\n",
      "  comment_soup = BeautifulSoup(comment, 'html.parser')\n"
     ]
    },
    {
     "name": "stdout",
     "output_type": "stream",
     "text": [
      "Saved DataFrame scoring to raw_data\\2023\\Week16\\2023_Week16_MIA_vs_DAL\\scoring.csv\n",
      "Saved DataFrame player_offense to raw_data\\2023\\Week16\\2023_Week16_MIA_vs_DAL\\player_offense.csv\n",
      "Saved DataFrame game_info to raw_data\\2023\\Week16\\2023_Week16_MIA_vs_DAL\\game_info.csv\n",
      "Saved DataFrame officials to raw_data\\2023\\Week16\\2023_Week16_MIA_vs_DAL\\officials.csv\n",
      "Saved DataFrame expected_points to raw_data\\2023\\Week16\\2023_Week16_MIA_vs_DAL\\expected_points.csv\n",
      "Saved DataFrame team_stats to raw_data\\2023\\Week16\\2023_Week16_MIA_vs_DAL\\team_stats.csv\n",
      "Saved DataFrame player_defense to raw_data\\2023\\Week16\\2023_Week16_MIA_vs_DAL\\player_defense.csv\n",
      "Saved DataFrame returns to raw_data\\2023\\Week16\\2023_Week16_MIA_vs_DAL\\returns.csv\n",
      "Saved DataFrame kicking to raw_data\\2023\\Week16\\2023_Week16_MIA_vs_DAL\\kicking.csv\n",
      "Saved DataFrame passing_advanced to raw_data\\2023\\Week16\\2023_Week16_MIA_vs_DAL\\passing_advanced.csv\n",
      "Saved DataFrame rushing_advanced to raw_data\\2023\\Week16\\2023_Week16_MIA_vs_DAL\\rushing_advanced.csv\n",
      "Saved DataFrame receiving_advanced to raw_data\\2023\\Week16\\2023_Week16_MIA_vs_DAL\\receiving_advanced.csv\n",
      "Saved DataFrame defense_advanced to raw_data\\2023\\Week16\\2023_Week16_MIA_vs_DAL\\defense_advanced.csv\n",
      "Saved DataFrame home_starters to raw_data\\2023\\Week16\\2023_Week16_MIA_vs_DAL\\home_starters.csv\n",
      "Saved DataFrame vis_starters to raw_data\\2023\\Week16\\2023_Week16_MIA_vs_DAL\\vis_starters.csv\n",
      "Saved DataFrame home_snap_counts to raw_data\\2023\\Week16\\2023_Week16_MIA_vs_DAL\\home_snap_counts.csv\n",
      "Saved DataFrame vis_snap_counts to raw_data\\2023\\Week16\\2023_Week16_MIA_vs_DAL\\vis_snap_counts.csv\n",
      "Saved DataFrame home_drives to raw_data\\2023\\Week16\\2023_Week16_MIA_vs_DAL\\home_drives.csv\n",
      "Saved DataFrame vis_drives to raw_data\\2023\\Week16\\2023_Week16_MIA_vs_DAL\\vis_drives.csv\n",
      "Saved DataFrame pbp to raw_data\\2023\\Week16\\2023_Week16_MIA_vs_DAL\\pbp.csv\n"
     ]
    },
    {
     "name": "stderr",
     "output_type": "stream",
     "text": [
      "C:\\Users\\jackj\\AppData\\Local\\Temp\\ipykernel_31996\\1469608065.py:49: MarkupResemblesLocatorWarning: The input looks more like a filename than markup. You may want to open this file and pass the filehandle into Beautiful Soup.\n",
      "  comment_soup = BeautifulSoup(comment, 'html.parser')\n"
     ]
    },
    {
     "name": "stdout",
     "output_type": "stream",
     "text": [
      "Saved DataFrame scoring to raw_data\\2023\\Week16\\2023_Week16_DEN_vs_NE\\scoring.csv\n",
      "Saved DataFrame player_offense to raw_data\\2023\\Week16\\2023_Week16_DEN_vs_NE\\player_offense.csv\n",
      "Saved DataFrame game_info to raw_data\\2023\\Week16\\2023_Week16_DEN_vs_NE\\game_info.csv\n",
      "Saved DataFrame officials to raw_data\\2023\\Week16\\2023_Week16_DEN_vs_NE\\officials.csv\n",
      "Saved DataFrame expected_points to raw_data\\2023\\Week16\\2023_Week16_DEN_vs_NE\\expected_points.csv\n",
      "Saved DataFrame team_stats to raw_data\\2023\\Week16\\2023_Week16_DEN_vs_NE\\team_stats.csv\n",
      "Saved DataFrame player_defense to raw_data\\2023\\Week16\\2023_Week16_DEN_vs_NE\\player_defense.csv\n",
      "Saved DataFrame returns to raw_data\\2023\\Week16\\2023_Week16_DEN_vs_NE\\returns.csv\n",
      "Saved DataFrame kicking to raw_data\\2023\\Week16\\2023_Week16_DEN_vs_NE\\kicking.csv\n",
      "Saved DataFrame passing_advanced to raw_data\\2023\\Week16\\2023_Week16_DEN_vs_NE\\passing_advanced.csv\n",
      "Saved DataFrame rushing_advanced to raw_data\\2023\\Week16\\2023_Week16_DEN_vs_NE\\rushing_advanced.csv\n",
      "Saved DataFrame receiving_advanced to raw_data\\2023\\Week16\\2023_Week16_DEN_vs_NE\\receiving_advanced.csv\n",
      "Saved DataFrame defense_advanced to raw_data\\2023\\Week16\\2023_Week16_DEN_vs_NE\\defense_advanced.csv\n",
      "Saved DataFrame home_starters to raw_data\\2023\\Week16\\2023_Week16_DEN_vs_NE\\home_starters.csv\n",
      "Saved DataFrame vis_starters to raw_data\\2023\\Week16\\2023_Week16_DEN_vs_NE\\vis_starters.csv\n",
      "Saved DataFrame home_snap_counts to raw_data\\2023\\Week16\\2023_Week16_DEN_vs_NE\\home_snap_counts.csv\n",
      "Saved DataFrame vis_snap_counts to raw_data\\2023\\Week16\\2023_Week16_DEN_vs_NE\\vis_snap_counts.csv\n",
      "Saved DataFrame home_drives to raw_data\\2023\\Week16\\2023_Week16_DEN_vs_NE\\home_drives.csv\n",
      "Saved DataFrame vis_drives to raw_data\\2023\\Week16\\2023_Week16_DEN_vs_NE\\vis_drives.csv\n",
      "Saved DataFrame pbp to raw_data\\2023\\Week16\\2023_Week16_DEN_vs_NE\\pbp.csv\n"
     ]
    },
    {
     "name": "stderr",
     "output_type": "stream",
     "text": [
      "C:\\Users\\jackj\\AppData\\Local\\Temp\\ipykernel_31996\\1469608065.py:49: MarkupResemblesLocatorWarning: The input looks more like a filename than markup. You may want to open this file and pass the filehandle into Beautiful Soup.\n",
      "  comment_soup = BeautifulSoup(comment, 'html.parser')\n"
     ]
    },
    {
     "name": "stdout",
     "output_type": "stream",
     "text": [
      "Saved DataFrame scoring to raw_data\\2023\\Week16\\2023_Week16_KC_vs_LVR\\scoring.csv\n",
      "Saved DataFrame player_offense to raw_data\\2023\\Week16\\2023_Week16_KC_vs_LVR\\player_offense.csv\n",
      "Saved DataFrame game_info to raw_data\\2023\\Week16\\2023_Week16_KC_vs_LVR\\game_info.csv\n",
      "Saved DataFrame officials to raw_data\\2023\\Week16\\2023_Week16_KC_vs_LVR\\officials.csv\n",
      "Saved DataFrame expected_points to raw_data\\2023\\Week16\\2023_Week16_KC_vs_LVR\\expected_points.csv\n",
      "Saved DataFrame team_stats to raw_data\\2023\\Week16\\2023_Week16_KC_vs_LVR\\team_stats.csv\n",
      "Saved DataFrame player_defense to raw_data\\2023\\Week16\\2023_Week16_KC_vs_LVR\\player_defense.csv\n",
      "Saved DataFrame returns to raw_data\\2023\\Week16\\2023_Week16_KC_vs_LVR\\returns.csv\n",
      "Saved DataFrame kicking to raw_data\\2023\\Week16\\2023_Week16_KC_vs_LVR\\kicking.csv\n",
      "Saved DataFrame passing_advanced to raw_data\\2023\\Week16\\2023_Week16_KC_vs_LVR\\passing_advanced.csv\n",
      "Saved DataFrame rushing_advanced to raw_data\\2023\\Week16\\2023_Week16_KC_vs_LVR\\rushing_advanced.csv\n",
      "Saved DataFrame receiving_advanced to raw_data\\2023\\Week16\\2023_Week16_KC_vs_LVR\\receiving_advanced.csv\n",
      "Saved DataFrame defense_advanced to raw_data\\2023\\Week16\\2023_Week16_KC_vs_LVR\\defense_advanced.csv\n",
      "Saved DataFrame home_starters to raw_data\\2023\\Week16\\2023_Week16_KC_vs_LVR\\home_starters.csv\n",
      "Saved DataFrame vis_starters to raw_data\\2023\\Week16\\2023_Week16_KC_vs_LVR\\vis_starters.csv\n",
      "Saved DataFrame home_snap_counts to raw_data\\2023\\Week16\\2023_Week16_KC_vs_LVR\\home_snap_counts.csv\n",
      "Saved DataFrame vis_snap_counts to raw_data\\2023\\Week16\\2023_Week16_KC_vs_LVR\\vis_snap_counts.csv\n",
      "Saved DataFrame home_drives to raw_data\\2023\\Week16\\2023_Week16_KC_vs_LVR\\home_drives.csv\n",
      "Saved DataFrame vis_drives to raw_data\\2023\\Week16\\2023_Week16_KC_vs_LVR\\vis_drives.csv\n",
      "Saved DataFrame pbp to raw_data\\2023\\Week16\\2023_Week16_KC_vs_LVR\\pbp.csv\n"
     ]
    },
    {
     "name": "stderr",
     "output_type": "stream",
     "text": [
      "C:\\Users\\jackj\\AppData\\Local\\Temp\\ipykernel_31996\\1469608065.py:49: MarkupResemblesLocatorWarning: The input looks more like a filename than markup. You may want to open this file and pass the filehandle into Beautiful Soup.\n",
      "  comment_soup = BeautifulSoup(comment, 'html.parser')\n"
     ]
    },
    {
     "name": "stdout",
     "output_type": "stream",
     "text": [
      "Saved DataFrame scoring to raw_data\\2023\\Week16\\2023_Week16_PHI_vs_NYG\\scoring.csv\n",
      "Saved DataFrame player_offense to raw_data\\2023\\Week16\\2023_Week16_PHI_vs_NYG\\player_offense.csv\n",
      "Saved DataFrame game_info to raw_data\\2023\\Week16\\2023_Week16_PHI_vs_NYG\\game_info.csv\n",
      "Saved DataFrame officials to raw_data\\2023\\Week16\\2023_Week16_PHI_vs_NYG\\officials.csv\n",
      "Saved DataFrame expected_points to raw_data\\2023\\Week16\\2023_Week16_PHI_vs_NYG\\expected_points.csv\n",
      "Saved DataFrame team_stats to raw_data\\2023\\Week16\\2023_Week16_PHI_vs_NYG\\team_stats.csv\n",
      "Saved DataFrame player_defense to raw_data\\2023\\Week16\\2023_Week16_PHI_vs_NYG\\player_defense.csv\n",
      "Saved DataFrame returns to raw_data\\2023\\Week16\\2023_Week16_PHI_vs_NYG\\returns.csv\n",
      "Saved DataFrame kicking to raw_data\\2023\\Week16\\2023_Week16_PHI_vs_NYG\\kicking.csv\n",
      "Saved DataFrame passing_advanced to raw_data\\2023\\Week16\\2023_Week16_PHI_vs_NYG\\passing_advanced.csv\n",
      "Saved DataFrame rushing_advanced to raw_data\\2023\\Week16\\2023_Week16_PHI_vs_NYG\\rushing_advanced.csv\n",
      "Saved DataFrame receiving_advanced to raw_data\\2023\\Week16\\2023_Week16_PHI_vs_NYG\\receiving_advanced.csv\n",
      "Saved DataFrame defense_advanced to raw_data\\2023\\Week16\\2023_Week16_PHI_vs_NYG\\defense_advanced.csv\n",
      "Saved DataFrame home_starters to raw_data\\2023\\Week16\\2023_Week16_PHI_vs_NYG\\home_starters.csv\n",
      "Saved DataFrame vis_starters to raw_data\\2023\\Week16\\2023_Week16_PHI_vs_NYG\\vis_starters.csv\n",
      "Saved DataFrame home_snap_counts to raw_data\\2023\\Week16\\2023_Week16_PHI_vs_NYG\\home_snap_counts.csv\n",
      "Saved DataFrame vis_snap_counts to raw_data\\2023\\Week16\\2023_Week16_PHI_vs_NYG\\vis_snap_counts.csv\n",
      "Saved DataFrame home_drives to raw_data\\2023\\Week16\\2023_Week16_PHI_vs_NYG\\home_drives.csv\n",
      "Saved DataFrame vis_drives to raw_data\\2023\\Week16\\2023_Week16_PHI_vs_NYG\\vis_drives.csv\n",
      "Saved DataFrame pbp to raw_data\\2023\\Week16\\2023_Week16_PHI_vs_NYG\\pbp.csv\n"
     ]
    },
    {
     "name": "stderr",
     "output_type": "stream",
     "text": [
      "C:\\Users\\jackj\\AppData\\Local\\Temp\\ipykernel_31996\\1469608065.py:49: MarkupResemblesLocatorWarning: The input looks more like a filename than markup. You may want to open this file and pass the filehandle into Beautiful Soup.\n",
      "  comment_soup = BeautifulSoup(comment, 'html.parser')\n"
     ]
    },
    {
     "name": "stdout",
     "output_type": "stream",
     "text": [
      "Saved DataFrame scoring to raw_data\\2023\\Week16\\2023_Week16_SF_vs_BAL\\scoring.csv\n",
      "Saved DataFrame player_offense to raw_data\\2023\\Week16\\2023_Week16_SF_vs_BAL\\player_offense.csv\n",
      "Saved DataFrame game_info to raw_data\\2023\\Week16\\2023_Week16_SF_vs_BAL\\game_info.csv\n",
      "Saved DataFrame officials to raw_data\\2023\\Week16\\2023_Week16_SF_vs_BAL\\officials.csv\n",
      "Saved DataFrame expected_points to raw_data\\2023\\Week16\\2023_Week16_SF_vs_BAL\\expected_points.csv\n",
      "Saved DataFrame team_stats to raw_data\\2023\\Week16\\2023_Week16_SF_vs_BAL\\team_stats.csv\n",
      "Saved DataFrame player_defense to raw_data\\2023\\Week16\\2023_Week16_SF_vs_BAL\\player_defense.csv\n",
      "Saved DataFrame returns to raw_data\\2023\\Week16\\2023_Week16_SF_vs_BAL\\returns.csv\n",
      "Saved DataFrame kicking to raw_data\\2023\\Week16\\2023_Week16_SF_vs_BAL\\kicking.csv\n",
      "Saved DataFrame passing_advanced to raw_data\\2023\\Week16\\2023_Week16_SF_vs_BAL\\passing_advanced.csv\n",
      "Saved DataFrame rushing_advanced to raw_data\\2023\\Week16\\2023_Week16_SF_vs_BAL\\rushing_advanced.csv\n",
      "Saved DataFrame receiving_advanced to raw_data\\2023\\Week16\\2023_Week16_SF_vs_BAL\\receiving_advanced.csv\n",
      "Saved DataFrame defense_advanced to raw_data\\2023\\Week16\\2023_Week16_SF_vs_BAL\\defense_advanced.csv\n",
      "Saved DataFrame home_starters to raw_data\\2023\\Week16\\2023_Week16_SF_vs_BAL\\home_starters.csv\n",
      "Saved DataFrame vis_starters to raw_data\\2023\\Week16\\2023_Week16_SF_vs_BAL\\vis_starters.csv\n",
      "Saved DataFrame home_snap_counts to raw_data\\2023\\Week16\\2023_Week16_SF_vs_BAL\\home_snap_counts.csv\n",
      "Saved DataFrame vis_snap_counts to raw_data\\2023\\Week16\\2023_Week16_SF_vs_BAL\\vis_snap_counts.csv\n",
      "Saved DataFrame home_drives to raw_data\\2023\\Week16\\2023_Week16_SF_vs_BAL\\home_drives.csv\n",
      "Saved DataFrame vis_drives to raw_data\\2023\\Week16\\2023_Week16_SF_vs_BAL\\vis_drives.csv\n",
      "Saved DataFrame pbp to raw_data\\2023\\Week16\\2023_Week16_SF_vs_BAL\\pbp.csv\n"
     ]
    },
    {
     "name": "stderr",
     "output_type": "stream",
     "text": [
      "C:\\Users\\jackj\\AppData\\Local\\Temp\\ipykernel_31996\\1469608065.py:49: MarkupResemblesLocatorWarning: The input looks more like a filename than markup. You may want to open this file and pass the filehandle into Beautiful Soup.\n",
      "  comment_soup = BeautifulSoup(comment, 'html.parser')\n"
     ]
    },
    {
     "name": "stdout",
     "output_type": "stream",
     "text": [
      "Saved DataFrame scoring to raw_data\\2023\\Week17\\2023_Week17_CLE_vs_NYJ\\scoring.csv\n",
      "Saved DataFrame player_offense to raw_data\\2023\\Week17\\2023_Week17_CLE_vs_NYJ\\player_offense.csv\n",
      "Saved DataFrame game_info to raw_data\\2023\\Week17\\2023_Week17_CLE_vs_NYJ\\game_info.csv\n",
      "Saved DataFrame officials to raw_data\\2023\\Week17\\2023_Week17_CLE_vs_NYJ\\officials.csv\n",
      "Saved DataFrame expected_points to raw_data\\2023\\Week17\\2023_Week17_CLE_vs_NYJ\\expected_points.csv\n",
      "Saved DataFrame team_stats to raw_data\\2023\\Week17\\2023_Week17_CLE_vs_NYJ\\team_stats.csv\n",
      "Saved DataFrame player_defense to raw_data\\2023\\Week17\\2023_Week17_CLE_vs_NYJ\\player_defense.csv\n",
      "Saved DataFrame returns to raw_data\\2023\\Week17\\2023_Week17_CLE_vs_NYJ\\returns.csv\n",
      "Saved DataFrame kicking to raw_data\\2023\\Week17\\2023_Week17_CLE_vs_NYJ\\kicking.csv\n",
      "Saved DataFrame passing_advanced to raw_data\\2023\\Week17\\2023_Week17_CLE_vs_NYJ\\passing_advanced.csv\n",
      "Saved DataFrame rushing_advanced to raw_data\\2023\\Week17\\2023_Week17_CLE_vs_NYJ\\rushing_advanced.csv\n",
      "Saved DataFrame receiving_advanced to raw_data\\2023\\Week17\\2023_Week17_CLE_vs_NYJ\\receiving_advanced.csv\n",
      "Saved DataFrame defense_advanced to raw_data\\2023\\Week17\\2023_Week17_CLE_vs_NYJ\\defense_advanced.csv\n",
      "Saved DataFrame home_starters to raw_data\\2023\\Week17\\2023_Week17_CLE_vs_NYJ\\home_starters.csv\n",
      "Saved DataFrame vis_starters to raw_data\\2023\\Week17\\2023_Week17_CLE_vs_NYJ\\vis_starters.csv\n",
      "Saved DataFrame home_snap_counts to raw_data\\2023\\Week17\\2023_Week17_CLE_vs_NYJ\\home_snap_counts.csv\n",
      "Saved DataFrame vis_snap_counts to raw_data\\2023\\Week17\\2023_Week17_CLE_vs_NYJ\\vis_snap_counts.csv\n",
      "Saved DataFrame home_drives to raw_data\\2023\\Week17\\2023_Week17_CLE_vs_NYJ\\home_drives.csv\n",
      "Saved DataFrame vis_drives to raw_data\\2023\\Week17\\2023_Week17_CLE_vs_NYJ\\vis_drives.csv\n",
      "Saved DataFrame pbp to raw_data\\2023\\Week17\\2023_Week17_CLE_vs_NYJ\\pbp.csv\n"
     ]
    },
    {
     "name": "stderr",
     "output_type": "stream",
     "text": [
      "C:\\Users\\jackj\\AppData\\Local\\Temp\\ipykernel_31996\\1469608065.py:49: MarkupResemblesLocatorWarning: The input looks more like a filename than markup. You may want to open this file and pass the filehandle into Beautiful Soup.\n",
      "  comment_soup = BeautifulSoup(comment, 'html.parser')\n"
     ]
    },
    {
     "name": "stdout",
     "output_type": "stream",
     "text": [
      "Saved DataFrame scoring to raw_data\\2023\\Week17\\2023_Week17_DAL_vs_DET\\scoring.csv\n",
      "Saved DataFrame player_offense to raw_data\\2023\\Week17\\2023_Week17_DAL_vs_DET\\player_offense.csv\n",
      "Saved DataFrame game_info to raw_data\\2023\\Week17\\2023_Week17_DAL_vs_DET\\game_info.csv\n",
      "Saved DataFrame officials to raw_data\\2023\\Week17\\2023_Week17_DAL_vs_DET\\officials.csv\n",
      "Saved DataFrame expected_points to raw_data\\2023\\Week17\\2023_Week17_DAL_vs_DET\\expected_points.csv\n",
      "Saved DataFrame team_stats to raw_data\\2023\\Week17\\2023_Week17_DAL_vs_DET\\team_stats.csv\n",
      "Saved DataFrame player_defense to raw_data\\2023\\Week17\\2023_Week17_DAL_vs_DET\\player_defense.csv\n",
      "Saved DataFrame returns to raw_data\\2023\\Week17\\2023_Week17_DAL_vs_DET\\returns.csv\n",
      "Saved DataFrame kicking to raw_data\\2023\\Week17\\2023_Week17_DAL_vs_DET\\kicking.csv\n",
      "Saved DataFrame passing_advanced to raw_data\\2023\\Week17\\2023_Week17_DAL_vs_DET\\passing_advanced.csv\n",
      "Saved DataFrame rushing_advanced to raw_data\\2023\\Week17\\2023_Week17_DAL_vs_DET\\rushing_advanced.csv\n",
      "Saved DataFrame receiving_advanced to raw_data\\2023\\Week17\\2023_Week17_DAL_vs_DET\\receiving_advanced.csv\n",
      "Saved DataFrame defense_advanced to raw_data\\2023\\Week17\\2023_Week17_DAL_vs_DET\\defense_advanced.csv\n",
      "Saved DataFrame home_starters to raw_data\\2023\\Week17\\2023_Week17_DAL_vs_DET\\home_starters.csv\n",
      "Saved DataFrame vis_starters to raw_data\\2023\\Week17\\2023_Week17_DAL_vs_DET\\vis_starters.csv\n",
      "Saved DataFrame home_snap_counts to raw_data\\2023\\Week17\\2023_Week17_DAL_vs_DET\\home_snap_counts.csv\n",
      "Saved DataFrame vis_snap_counts to raw_data\\2023\\Week17\\2023_Week17_DAL_vs_DET\\vis_snap_counts.csv\n",
      "Saved DataFrame home_drives to raw_data\\2023\\Week17\\2023_Week17_DAL_vs_DET\\home_drives.csv\n",
      "Saved DataFrame vis_drives to raw_data\\2023\\Week17\\2023_Week17_DAL_vs_DET\\vis_drives.csv\n",
      "Saved DataFrame pbp to raw_data\\2023\\Week17\\2023_Week17_DAL_vs_DET\\pbp.csv\n"
     ]
    },
    {
     "name": "stderr",
     "output_type": "stream",
     "text": [
      "C:\\Users\\jackj\\AppData\\Local\\Temp\\ipykernel_31996\\1469608065.py:49: MarkupResemblesLocatorWarning: The input looks more like a filename than markup. You may want to open this file and pass the filehandle into Beautiful Soup.\n",
      "  comment_soup = BeautifulSoup(comment, 'html.parser')\n"
     ]
    },
    {
     "name": "stdout",
     "output_type": "stream",
     "text": [
      "Saved DataFrame scoring to raw_data\\2023\\Week17\\2023_Week17_CHI_vs_ATL\\scoring.csv\n",
      "Saved DataFrame player_offense to raw_data\\2023\\Week17\\2023_Week17_CHI_vs_ATL\\player_offense.csv\n",
      "Saved DataFrame game_info to raw_data\\2023\\Week17\\2023_Week17_CHI_vs_ATL\\game_info.csv\n",
      "Saved DataFrame officials to raw_data\\2023\\Week17\\2023_Week17_CHI_vs_ATL\\officials.csv\n",
      "Saved DataFrame expected_points to raw_data\\2023\\Week17\\2023_Week17_CHI_vs_ATL\\expected_points.csv\n",
      "Saved DataFrame team_stats to raw_data\\2023\\Week17\\2023_Week17_CHI_vs_ATL\\team_stats.csv\n",
      "Saved DataFrame player_defense to raw_data\\2023\\Week17\\2023_Week17_CHI_vs_ATL\\player_defense.csv\n",
      "Saved DataFrame returns to raw_data\\2023\\Week17\\2023_Week17_CHI_vs_ATL\\returns.csv\n",
      "Saved DataFrame kicking to raw_data\\2023\\Week17\\2023_Week17_CHI_vs_ATL\\kicking.csv\n",
      "Saved DataFrame passing_advanced to raw_data\\2023\\Week17\\2023_Week17_CHI_vs_ATL\\passing_advanced.csv\n",
      "Saved DataFrame rushing_advanced to raw_data\\2023\\Week17\\2023_Week17_CHI_vs_ATL\\rushing_advanced.csv\n",
      "Saved DataFrame receiving_advanced to raw_data\\2023\\Week17\\2023_Week17_CHI_vs_ATL\\receiving_advanced.csv\n",
      "Saved DataFrame defense_advanced to raw_data\\2023\\Week17\\2023_Week17_CHI_vs_ATL\\defense_advanced.csv\n",
      "Saved DataFrame home_starters to raw_data\\2023\\Week17\\2023_Week17_CHI_vs_ATL\\home_starters.csv\n",
      "Saved DataFrame vis_starters to raw_data\\2023\\Week17\\2023_Week17_CHI_vs_ATL\\vis_starters.csv\n",
      "Saved DataFrame home_snap_counts to raw_data\\2023\\Week17\\2023_Week17_CHI_vs_ATL\\home_snap_counts.csv\n",
      "Saved DataFrame vis_snap_counts to raw_data\\2023\\Week17\\2023_Week17_CHI_vs_ATL\\vis_snap_counts.csv\n",
      "Saved DataFrame home_drives to raw_data\\2023\\Week17\\2023_Week17_CHI_vs_ATL\\home_drives.csv\n",
      "Saved DataFrame vis_drives to raw_data\\2023\\Week17\\2023_Week17_CHI_vs_ATL\\vis_drives.csv\n",
      "Saved DataFrame pbp to raw_data\\2023\\Week17\\2023_Week17_CHI_vs_ATL\\pbp.csv\n"
     ]
    },
    {
     "name": "stderr",
     "output_type": "stream",
     "text": [
      "C:\\Users\\jackj\\AppData\\Local\\Temp\\ipykernel_31996\\1469608065.py:49: MarkupResemblesLocatorWarning: The input looks more like a filename than markup. You may want to open this file and pass the filehandle into Beautiful Soup.\n",
      "  comment_soup = BeautifulSoup(comment, 'html.parser')\n"
     ]
    },
    {
     "name": "stdout",
     "output_type": "stream",
     "text": [
      "Saved DataFrame scoring to raw_data\\2023\\Week17\\2023_Week17_BUF_vs_NE\\scoring.csv\n",
      "Saved DataFrame player_offense to raw_data\\2023\\Week17\\2023_Week17_BUF_vs_NE\\player_offense.csv\n",
      "Saved DataFrame game_info to raw_data\\2023\\Week17\\2023_Week17_BUF_vs_NE\\game_info.csv\n",
      "Saved DataFrame officials to raw_data\\2023\\Week17\\2023_Week17_BUF_vs_NE\\officials.csv\n",
      "Saved DataFrame expected_points to raw_data\\2023\\Week17\\2023_Week17_BUF_vs_NE\\expected_points.csv\n",
      "Saved DataFrame team_stats to raw_data\\2023\\Week17\\2023_Week17_BUF_vs_NE\\team_stats.csv\n",
      "Saved DataFrame player_defense to raw_data\\2023\\Week17\\2023_Week17_BUF_vs_NE\\player_defense.csv\n",
      "Saved DataFrame returns to raw_data\\2023\\Week17\\2023_Week17_BUF_vs_NE\\returns.csv\n",
      "Saved DataFrame kicking to raw_data\\2023\\Week17\\2023_Week17_BUF_vs_NE\\kicking.csv\n",
      "Saved DataFrame passing_advanced to raw_data\\2023\\Week17\\2023_Week17_BUF_vs_NE\\passing_advanced.csv\n",
      "Saved DataFrame rushing_advanced to raw_data\\2023\\Week17\\2023_Week17_BUF_vs_NE\\rushing_advanced.csv\n",
      "Saved DataFrame receiving_advanced to raw_data\\2023\\Week17\\2023_Week17_BUF_vs_NE\\receiving_advanced.csv\n",
      "Saved DataFrame defense_advanced to raw_data\\2023\\Week17\\2023_Week17_BUF_vs_NE\\defense_advanced.csv\n",
      "Saved DataFrame home_starters to raw_data\\2023\\Week17\\2023_Week17_BUF_vs_NE\\home_starters.csv\n",
      "Saved DataFrame vis_starters to raw_data\\2023\\Week17\\2023_Week17_BUF_vs_NE\\vis_starters.csv\n",
      "Saved DataFrame home_snap_counts to raw_data\\2023\\Week17\\2023_Week17_BUF_vs_NE\\home_snap_counts.csv\n",
      "Saved DataFrame vis_snap_counts to raw_data\\2023\\Week17\\2023_Week17_BUF_vs_NE\\vis_snap_counts.csv\n",
      "Saved DataFrame home_drives to raw_data\\2023\\Week17\\2023_Week17_BUF_vs_NE\\home_drives.csv\n",
      "Saved DataFrame vis_drives to raw_data\\2023\\Week17\\2023_Week17_BUF_vs_NE\\vis_drives.csv\n",
      "Saved DataFrame pbp to raw_data\\2023\\Week17\\2023_Week17_BUF_vs_NE\\pbp.csv\n"
     ]
    },
    {
     "name": "stderr",
     "output_type": "stream",
     "text": [
      "C:\\Users\\jackj\\AppData\\Local\\Temp\\ipykernel_31996\\1469608065.py:49: MarkupResemblesLocatorWarning: The input looks more like a filename than markup. You may want to open this file and pass the filehandle into Beautiful Soup.\n",
      "  comment_soup = BeautifulSoup(comment, 'html.parser')\n"
     ]
    },
    {
     "name": "stdout",
     "output_type": "stream",
     "text": [
      "Saved DataFrame scoring to raw_data\\2023\\Week17\\2023_Week17_JAX_vs_CAR\\scoring.csv\n",
      "Saved DataFrame player_offense to raw_data\\2023\\Week17\\2023_Week17_JAX_vs_CAR\\player_offense.csv\n",
      "Saved DataFrame game_info to raw_data\\2023\\Week17\\2023_Week17_JAX_vs_CAR\\game_info.csv\n",
      "Saved DataFrame officials to raw_data\\2023\\Week17\\2023_Week17_JAX_vs_CAR\\officials.csv\n",
      "Saved DataFrame expected_points to raw_data\\2023\\Week17\\2023_Week17_JAX_vs_CAR\\expected_points.csv\n",
      "Saved DataFrame team_stats to raw_data\\2023\\Week17\\2023_Week17_JAX_vs_CAR\\team_stats.csv\n",
      "Saved DataFrame player_defense to raw_data\\2023\\Week17\\2023_Week17_JAX_vs_CAR\\player_defense.csv\n",
      "Saved DataFrame returns to raw_data\\2023\\Week17\\2023_Week17_JAX_vs_CAR\\returns.csv\n",
      "Saved DataFrame kicking to raw_data\\2023\\Week17\\2023_Week17_JAX_vs_CAR\\kicking.csv\n",
      "Saved DataFrame passing_advanced to raw_data\\2023\\Week17\\2023_Week17_JAX_vs_CAR\\passing_advanced.csv\n",
      "Saved DataFrame rushing_advanced to raw_data\\2023\\Week17\\2023_Week17_JAX_vs_CAR\\rushing_advanced.csv\n",
      "Saved DataFrame receiving_advanced to raw_data\\2023\\Week17\\2023_Week17_JAX_vs_CAR\\receiving_advanced.csv\n",
      "Saved DataFrame defense_advanced to raw_data\\2023\\Week17\\2023_Week17_JAX_vs_CAR\\defense_advanced.csv\n",
      "Saved DataFrame home_starters to raw_data\\2023\\Week17\\2023_Week17_JAX_vs_CAR\\home_starters.csv\n",
      "Saved DataFrame vis_starters to raw_data\\2023\\Week17\\2023_Week17_JAX_vs_CAR\\vis_starters.csv\n",
      "Saved DataFrame home_snap_counts to raw_data\\2023\\Week17\\2023_Week17_JAX_vs_CAR\\home_snap_counts.csv\n",
      "Saved DataFrame vis_snap_counts to raw_data\\2023\\Week17\\2023_Week17_JAX_vs_CAR\\vis_snap_counts.csv\n",
      "Saved DataFrame home_drives to raw_data\\2023\\Week17\\2023_Week17_JAX_vs_CAR\\home_drives.csv\n",
      "Saved DataFrame vis_drives to raw_data\\2023\\Week17\\2023_Week17_JAX_vs_CAR\\vis_drives.csv\n",
      "Saved DataFrame pbp to raw_data\\2023\\Week17\\2023_Week17_JAX_vs_CAR\\pbp.csv\n"
     ]
    },
    {
     "name": "stderr",
     "output_type": "stream",
     "text": [
      "C:\\Users\\jackj\\AppData\\Local\\Temp\\ipykernel_31996\\1469608065.py:49: MarkupResemblesLocatorWarning: The input looks more like a filename than markup. You may want to open this file and pass the filehandle into Beautiful Soup.\n",
      "  comment_soup = BeautifulSoup(comment, 'html.parser')\n"
     ]
    },
    {
     "name": "stdout",
     "output_type": "stream",
     "text": [
      "Saved DataFrame scoring to raw_data\\2023\\Week17\\2023_Week17_IND_vs_LVR\\scoring.csv\n",
      "Saved DataFrame player_offense to raw_data\\2023\\Week17\\2023_Week17_IND_vs_LVR\\player_offense.csv\n",
      "Saved DataFrame game_info to raw_data\\2023\\Week17\\2023_Week17_IND_vs_LVR\\game_info.csv\n",
      "Saved DataFrame officials to raw_data\\2023\\Week17\\2023_Week17_IND_vs_LVR\\officials.csv\n",
      "Saved DataFrame expected_points to raw_data\\2023\\Week17\\2023_Week17_IND_vs_LVR\\expected_points.csv\n",
      "Saved DataFrame team_stats to raw_data\\2023\\Week17\\2023_Week17_IND_vs_LVR\\team_stats.csv\n",
      "Saved DataFrame player_defense to raw_data\\2023\\Week17\\2023_Week17_IND_vs_LVR\\player_defense.csv\n",
      "Saved DataFrame returns to raw_data\\2023\\Week17\\2023_Week17_IND_vs_LVR\\returns.csv\n",
      "Saved DataFrame kicking to raw_data\\2023\\Week17\\2023_Week17_IND_vs_LVR\\kicking.csv\n",
      "Saved DataFrame passing_advanced to raw_data\\2023\\Week17\\2023_Week17_IND_vs_LVR\\passing_advanced.csv\n",
      "Saved DataFrame rushing_advanced to raw_data\\2023\\Week17\\2023_Week17_IND_vs_LVR\\rushing_advanced.csv\n",
      "Saved DataFrame receiving_advanced to raw_data\\2023\\Week17\\2023_Week17_IND_vs_LVR\\receiving_advanced.csv\n",
      "Saved DataFrame defense_advanced to raw_data\\2023\\Week17\\2023_Week17_IND_vs_LVR\\defense_advanced.csv\n",
      "Saved DataFrame home_starters to raw_data\\2023\\Week17\\2023_Week17_IND_vs_LVR\\home_starters.csv\n",
      "Saved DataFrame vis_starters to raw_data\\2023\\Week17\\2023_Week17_IND_vs_LVR\\vis_starters.csv\n",
      "Saved DataFrame home_snap_counts to raw_data\\2023\\Week17\\2023_Week17_IND_vs_LVR\\home_snap_counts.csv\n",
      "Saved DataFrame vis_snap_counts to raw_data\\2023\\Week17\\2023_Week17_IND_vs_LVR\\vis_snap_counts.csv\n",
      "Saved DataFrame home_drives to raw_data\\2023\\Week17\\2023_Week17_IND_vs_LVR\\home_drives.csv\n",
      "Saved DataFrame vis_drives to raw_data\\2023\\Week17\\2023_Week17_IND_vs_LVR\\vis_drives.csv\n",
      "Saved DataFrame pbp to raw_data\\2023\\Week17\\2023_Week17_IND_vs_LVR\\pbp.csv\n"
     ]
    },
    {
     "name": "stderr",
     "output_type": "stream",
     "text": [
      "C:\\Users\\jackj\\AppData\\Local\\Temp\\ipykernel_31996\\1469608065.py:49: MarkupResemblesLocatorWarning: The input looks more like a filename than markup. You may want to open this file and pass the filehandle into Beautiful Soup.\n",
      "  comment_soup = BeautifulSoup(comment, 'html.parser')\n"
     ]
    },
    {
     "name": "stdout",
     "output_type": "stream",
     "text": [
      "Saved DataFrame scoring to raw_data\\2023\\Week17\\2023_Week17_PHI_vs_ARI\\scoring.csv\n",
      "Saved DataFrame player_offense to raw_data\\2023\\Week17\\2023_Week17_PHI_vs_ARI\\player_offense.csv\n",
      "Saved DataFrame game_info to raw_data\\2023\\Week17\\2023_Week17_PHI_vs_ARI\\game_info.csv\n",
      "Saved DataFrame officials to raw_data\\2023\\Week17\\2023_Week17_PHI_vs_ARI\\officials.csv\n",
      "Saved DataFrame expected_points to raw_data\\2023\\Week17\\2023_Week17_PHI_vs_ARI\\expected_points.csv\n",
      "Saved DataFrame team_stats to raw_data\\2023\\Week17\\2023_Week17_PHI_vs_ARI\\team_stats.csv\n",
      "Saved DataFrame player_defense to raw_data\\2023\\Week17\\2023_Week17_PHI_vs_ARI\\player_defense.csv\n",
      "Saved DataFrame returns to raw_data\\2023\\Week17\\2023_Week17_PHI_vs_ARI\\returns.csv\n",
      "Saved DataFrame kicking to raw_data\\2023\\Week17\\2023_Week17_PHI_vs_ARI\\kicking.csv\n",
      "Saved DataFrame passing_advanced to raw_data\\2023\\Week17\\2023_Week17_PHI_vs_ARI\\passing_advanced.csv\n",
      "Saved DataFrame rushing_advanced to raw_data\\2023\\Week17\\2023_Week17_PHI_vs_ARI\\rushing_advanced.csv\n",
      "Saved DataFrame receiving_advanced to raw_data\\2023\\Week17\\2023_Week17_PHI_vs_ARI\\receiving_advanced.csv\n",
      "Saved DataFrame defense_advanced to raw_data\\2023\\Week17\\2023_Week17_PHI_vs_ARI\\defense_advanced.csv\n",
      "Saved DataFrame home_starters to raw_data\\2023\\Week17\\2023_Week17_PHI_vs_ARI\\home_starters.csv\n",
      "Saved DataFrame vis_starters to raw_data\\2023\\Week17\\2023_Week17_PHI_vs_ARI\\vis_starters.csv\n",
      "Saved DataFrame home_snap_counts to raw_data\\2023\\Week17\\2023_Week17_PHI_vs_ARI\\home_snap_counts.csv\n",
      "Saved DataFrame vis_snap_counts to raw_data\\2023\\Week17\\2023_Week17_PHI_vs_ARI\\vis_snap_counts.csv\n",
      "Saved DataFrame home_drives to raw_data\\2023\\Week17\\2023_Week17_PHI_vs_ARI\\home_drives.csv\n",
      "Saved DataFrame vis_drives to raw_data\\2023\\Week17\\2023_Week17_PHI_vs_ARI\\vis_drives.csv\n",
      "Saved DataFrame pbp to raw_data\\2023\\Week17\\2023_Week17_PHI_vs_ARI\\pbp.csv\n",
      "Reached 20 requests, sleeping for 60 seconds...\n"
     ]
    },
    {
     "name": "stderr",
     "output_type": "stream",
     "text": [
      "C:\\Users\\jackj\\AppData\\Local\\Temp\\ipykernel_31996\\1469608065.py:49: MarkupResemblesLocatorWarning: The input looks more like a filename than markup. You may want to open this file and pass the filehandle into Beautiful Soup.\n",
      "  comment_soup = BeautifulSoup(comment, 'html.parser')\n"
     ]
    },
    {
     "name": "stdout",
     "output_type": "stream",
     "text": [
      "Saved DataFrame scoring to raw_data\\2023\\Week17\\2023_Week17_HOU_vs_TEN\\scoring.csv\n",
      "Saved DataFrame player_offense to raw_data\\2023\\Week17\\2023_Week17_HOU_vs_TEN\\player_offense.csv\n",
      "Saved DataFrame game_info to raw_data\\2023\\Week17\\2023_Week17_HOU_vs_TEN\\game_info.csv\n",
      "Saved DataFrame officials to raw_data\\2023\\Week17\\2023_Week17_HOU_vs_TEN\\officials.csv\n",
      "Saved DataFrame expected_points to raw_data\\2023\\Week17\\2023_Week17_HOU_vs_TEN\\expected_points.csv\n",
      "Saved DataFrame team_stats to raw_data\\2023\\Week17\\2023_Week17_HOU_vs_TEN\\team_stats.csv\n",
      "Saved DataFrame player_defense to raw_data\\2023\\Week17\\2023_Week17_HOU_vs_TEN\\player_defense.csv\n",
      "Saved DataFrame returns to raw_data\\2023\\Week17\\2023_Week17_HOU_vs_TEN\\returns.csv\n",
      "Saved DataFrame kicking to raw_data\\2023\\Week17\\2023_Week17_HOU_vs_TEN\\kicking.csv\n",
      "Saved DataFrame passing_advanced to raw_data\\2023\\Week17\\2023_Week17_HOU_vs_TEN\\passing_advanced.csv\n",
      "Saved DataFrame rushing_advanced to raw_data\\2023\\Week17\\2023_Week17_HOU_vs_TEN\\rushing_advanced.csv\n",
      "Saved DataFrame receiving_advanced to raw_data\\2023\\Week17\\2023_Week17_HOU_vs_TEN\\receiving_advanced.csv\n",
      "Saved DataFrame defense_advanced to raw_data\\2023\\Week17\\2023_Week17_HOU_vs_TEN\\defense_advanced.csv\n",
      "Saved DataFrame home_starters to raw_data\\2023\\Week17\\2023_Week17_HOU_vs_TEN\\home_starters.csv\n",
      "Saved DataFrame vis_starters to raw_data\\2023\\Week17\\2023_Week17_HOU_vs_TEN\\vis_starters.csv\n",
      "Saved DataFrame home_snap_counts to raw_data\\2023\\Week17\\2023_Week17_HOU_vs_TEN\\home_snap_counts.csv\n",
      "Saved DataFrame vis_snap_counts to raw_data\\2023\\Week17\\2023_Week17_HOU_vs_TEN\\vis_snap_counts.csv\n",
      "Saved DataFrame home_drives to raw_data\\2023\\Week17\\2023_Week17_HOU_vs_TEN\\home_drives.csv\n",
      "Saved DataFrame vis_drives to raw_data\\2023\\Week17\\2023_Week17_HOU_vs_TEN\\vis_drives.csv\n",
      "Saved DataFrame pbp to raw_data\\2023\\Week17\\2023_Week17_HOU_vs_TEN\\pbp.csv\n"
     ]
    },
    {
     "name": "stderr",
     "output_type": "stream",
     "text": [
      "C:\\Users\\jackj\\AppData\\Local\\Temp\\ipykernel_31996\\1469608065.py:49: MarkupResemblesLocatorWarning: The input looks more like a filename than markup. You may want to open this file and pass the filehandle into Beautiful Soup.\n",
      "  comment_soup = BeautifulSoup(comment, 'html.parser')\n"
     ]
    },
    {
     "name": "stdout",
     "output_type": "stream",
     "text": [
      "Saved DataFrame scoring to raw_data\\2023\\Week17\\2023_Week17_BAL_vs_MIA\\scoring.csv\n",
      "Saved DataFrame player_offense to raw_data\\2023\\Week17\\2023_Week17_BAL_vs_MIA\\player_offense.csv\n",
      "Saved DataFrame game_info to raw_data\\2023\\Week17\\2023_Week17_BAL_vs_MIA\\game_info.csv\n",
      "Saved DataFrame officials to raw_data\\2023\\Week17\\2023_Week17_BAL_vs_MIA\\officials.csv\n",
      "Saved DataFrame expected_points to raw_data\\2023\\Week17\\2023_Week17_BAL_vs_MIA\\expected_points.csv\n",
      "Saved DataFrame team_stats to raw_data\\2023\\Week17\\2023_Week17_BAL_vs_MIA\\team_stats.csv\n",
      "Saved DataFrame player_defense to raw_data\\2023\\Week17\\2023_Week17_BAL_vs_MIA\\player_defense.csv\n",
      "Saved DataFrame returns to raw_data\\2023\\Week17\\2023_Week17_BAL_vs_MIA\\returns.csv\n",
      "Saved DataFrame kicking to raw_data\\2023\\Week17\\2023_Week17_BAL_vs_MIA\\kicking.csv\n",
      "Saved DataFrame passing_advanced to raw_data\\2023\\Week17\\2023_Week17_BAL_vs_MIA\\passing_advanced.csv\n",
      "Saved DataFrame rushing_advanced to raw_data\\2023\\Week17\\2023_Week17_BAL_vs_MIA\\rushing_advanced.csv\n",
      "Saved DataFrame receiving_advanced to raw_data\\2023\\Week17\\2023_Week17_BAL_vs_MIA\\receiving_advanced.csv\n",
      "Saved DataFrame defense_advanced to raw_data\\2023\\Week17\\2023_Week17_BAL_vs_MIA\\defense_advanced.csv\n",
      "Saved DataFrame home_starters to raw_data\\2023\\Week17\\2023_Week17_BAL_vs_MIA\\home_starters.csv\n",
      "Saved DataFrame vis_starters to raw_data\\2023\\Week17\\2023_Week17_BAL_vs_MIA\\vis_starters.csv\n",
      "Saved DataFrame home_snap_counts to raw_data\\2023\\Week17\\2023_Week17_BAL_vs_MIA\\home_snap_counts.csv\n",
      "Saved DataFrame vis_snap_counts to raw_data\\2023\\Week17\\2023_Week17_BAL_vs_MIA\\vis_snap_counts.csv\n",
      "Saved DataFrame home_drives to raw_data\\2023\\Week17\\2023_Week17_BAL_vs_MIA\\home_drives.csv\n",
      "Saved DataFrame vis_drives to raw_data\\2023\\Week17\\2023_Week17_BAL_vs_MIA\\vis_drives.csv\n",
      "Saved DataFrame pbp to raw_data\\2023\\Week17\\2023_Week17_BAL_vs_MIA\\pbp.csv\n"
     ]
    },
    {
     "name": "stderr",
     "output_type": "stream",
     "text": [
      "C:\\Users\\jackj\\AppData\\Local\\Temp\\ipykernel_31996\\1469608065.py:49: MarkupResemblesLocatorWarning: The input looks more like a filename than markup. You may want to open this file and pass the filehandle into Beautiful Soup.\n",
      "  comment_soup = BeautifulSoup(comment, 'html.parser')\n"
     ]
    },
    {
     "name": "stdout",
     "output_type": "stream",
     "text": [
      "Saved DataFrame scoring to raw_data\\2023\\Week17\\2023_Week17_TB_vs_NO\\scoring.csv\n",
      "Saved DataFrame player_offense to raw_data\\2023\\Week17\\2023_Week17_TB_vs_NO\\player_offense.csv\n",
      "Saved DataFrame game_info to raw_data\\2023\\Week17\\2023_Week17_TB_vs_NO\\game_info.csv\n",
      "Saved DataFrame officials to raw_data\\2023\\Week17\\2023_Week17_TB_vs_NO\\officials.csv\n",
      "Saved DataFrame expected_points to raw_data\\2023\\Week17\\2023_Week17_TB_vs_NO\\expected_points.csv\n",
      "Saved DataFrame team_stats to raw_data\\2023\\Week17\\2023_Week17_TB_vs_NO\\team_stats.csv\n",
      "Saved DataFrame player_defense to raw_data\\2023\\Week17\\2023_Week17_TB_vs_NO\\player_defense.csv\n",
      "Saved DataFrame returns to raw_data\\2023\\Week17\\2023_Week17_TB_vs_NO\\returns.csv\n",
      "Saved DataFrame kicking to raw_data\\2023\\Week17\\2023_Week17_TB_vs_NO\\kicking.csv\n",
      "Saved DataFrame passing_advanced to raw_data\\2023\\Week17\\2023_Week17_TB_vs_NO\\passing_advanced.csv\n",
      "Saved DataFrame rushing_advanced to raw_data\\2023\\Week17\\2023_Week17_TB_vs_NO\\rushing_advanced.csv\n",
      "Saved DataFrame receiving_advanced to raw_data\\2023\\Week17\\2023_Week17_TB_vs_NO\\receiving_advanced.csv\n",
      "Saved DataFrame defense_advanced to raw_data\\2023\\Week17\\2023_Week17_TB_vs_NO\\defense_advanced.csv\n",
      "Saved DataFrame home_starters to raw_data\\2023\\Week17\\2023_Week17_TB_vs_NO\\home_starters.csv\n",
      "Saved DataFrame vis_starters to raw_data\\2023\\Week17\\2023_Week17_TB_vs_NO\\vis_starters.csv\n",
      "Saved DataFrame home_snap_counts to raw_data\\2023\\Week17\\2023_Week17_TB_vs_NO\\home_snap_counts.csv\n",
      "Saved DataFrame vis_snap_counts to raw_data\\2023\\Week17\\2023_Week17_TB_vs_NO\\vis_snap_counts.csv\n",
      "Saved DataFrame home_drives to raw_data\\2023\\Week17\\2023_Week17_TB_vs_NO\\home_drives.csv\n",
      "Saved DataFrame vis_drives to raw_data\\2023\\Week17\\2023_Week17_TB_vs_NO\\vis_drives.csv\n",
      "Saved DataFrame pbp to raw_data\\2023\\Week17\\2023_Week17_TB_vs_NO\\pbp.csv\n"
     ]
    },
    {
     "name": "stderr",
     "output_type": "stream",
     "text": [
      "C:\\Users\\jackj\\AppData\\Local\\Temp\\ipykernel_31996\\1469608065.py:49: MarkupResemblesLocatorWarning: The input looks more like a filename than markup. You may want to open this file and pass the filehandle into Beautiful Soup.\n",
      "  comment_soup = BeautifulSoup(comment, 'html.parser')\n"
     ]
    },
    {
     "name": "stdout",
     "output_type": "stream",
     "text": [
      "Saved DataFrame scoring to raw_data\\2023\\Week17\\2023_Week17_NYG_vs_LAR\\scoring.csv\n",
      "Saved DataFrame player_offense to raw_data\\2023\\Week17\\2023_Week17_NYG_vs_LAR\\player_offense.csv\n",
      "Saved DataFrame game_info to raw_data\\2023\\Week17\\2023_Week17_NYG_vs_LAR\\game_info.csv\n",
      "Saved DataFrame officials to raw_data\\2023\\Week17\\2023_Week17_NYG_vs_LAR\\officials.csv\n",
      "Saved DataFrame expected_points to raw_data\\2023\\Week17\\2023_Week17_NYG_vs_LAR\\expected_points.csv\n",
      "Saved DataFrame team_stats to raw_data\\2023\\Week17\\2023_Week17_NYG_vs_LAR\\team_stats.csv\n",
      "Saved DataFrame player_defense to raw_data\\2023\\Week17\\2023_Week17_NYG_vs_LAR\\player_defense.csv\n",
      "Saved DataFrame returns to raw_data\\2023\\Week17\\2023_Week17_NYG_vs_LAR\\returns.csv\n",
      "Saved DataFrame kicking to raw_data\\2023\\Week17\\2023_Week17_NYG_vs_LAR\\kicking.csv\n",
      "Saved DataFrame passing_advanced to raw_data\\2023\\Week17\\2023_Week17_NYG_vs_LAR\\passing_advanced.csv\n",
      "Saved DataFrame rushing_advanced to raw_data\\2023\\Week17\\2023_Week17_NYG_vs_LAR\\rushing_advanced.csv\n",
      "Saved DataFrame receiving_advanced to raw_data\\2023\\Week17\\2023_Week17_NYG_vs_LAR\\receiving_advanced.csv\n",
      "Saved DataFrame defense_advanced to raw_data\\2023\\Week17\\2023_Week17_NYG_vs_LAR\\defense_advanced.csv\n",
      "Saved DataFrame home_starters to raw_data\\2023\\Week17\\2023_Week17_NYG_vs_LAR\\home_starters.csv\n",
      "Saved DataFrame vis_starters to raw_data\\2023\\Week17\\2023_Week17_NYG_vs_LAR\\vis_starters.csv\n",
      "Saved DataFrame home_snap_counts to raw_data\\2023\\Week17\\2023_Week17_NYG_vs_LAR\\home_snap_counts.csv\n",
      "Saved DataFrame vis_snap_counts to raw_data\\2023\\Week17\\2023_Week17_NYG_vs_LAR\\vis_snap_counts.csv\n",
      "Saved DataFrame home_drives to raw_data\\2023\\Week17\\2023_Week17_NYG_vs_LAR\\home_drives.csv\n",
      "Saved DataFrame vis_drives to raw_data\\2023\\Week17\\2023_Week17_NYG_vs_LAR\\vis_drives.csv\n",
      "Saved DataFrame pbp to raw_data\\2023\\Week17\\2023_Week17_NYG_vs_LAR\\pbp.csv\n"
     ]
    },
    {
     "name": "stderr",
     "output_type": "stream",
     "text": [
      "C:\\Users\\jackj\\AppData\\Local\\Temp\\ipykernel_31996\\1469608065.py:49: MarkupResemblesLocatorWarning: The input looks more like a filename than markup. You may want to open this file and pass the filehandle into Beautiful Soup.\n",
      "  comment_soup = BeautifulSoup(comment, 'html.parser')\n"
     ]
    },
    {
     "name": "stdout",
     "output_type": "stream",
     "text": [
      "Saved DataFrame scoring to raw_data\\2023\\Week17\\2023_Week17_WAS_vs_SF\\scoring.csv\n",
      "Saved DataFrame player_offense to raw_data\\2023\\Week17\\2023_Week17_WAS_vs_SF\\player_offense.csv\n",
      "Saved DataFrame game_info to raw_data\\2023\\Week17\\2023_Week17_WAS_vs_SF\\game_info.csv\n",
      "Saved DataFrame officials to raw_data\\2023\\Week17\\2023_Week17_WAS_vs_SF\\officials.csv\n",
      "Saved DataFrame expected_points to raw_data\\2023\\Week17\\2023_Week17_WAS_vs_SF\\expected_points.csv\n",
      "Saved DataFrame team_stats to raw_data\\2023\\Week17\\2023_Week17_WAS_vs_SF\\team_stats.csv\n",
      "Saved DataFrame player_defense to raw_data\\2023\\Week17\\2023_Week17_WAS_vs_SF\\player_defense.csv\n",
      "Saved DataFrame returns to raw_data\\2023\\Week17\\2023_Week17_WAS_vs_SF\\returns.csv\n",
      "Saved DataFrame kicking to raw_data\\2023\\Week17\\2023_Week17_WAS_vs_SF\\kicking.csv\n",
      "Saved DataFrame passing_advanced to raw_data\\2023\\Week17\\2023_Week17_WAS_vs_SF\\passing_advanced.csv\n",
      "Saved DataFrame rushing_advanced to raw_data\\2023\\Week17\\2023_Week17_WAS_vs_SF\\rushing_advanced.csv\n",
      "Saved DataFrame receiving_advanced to raw_data\\2023\\Week17\\2023_Week17_WAS_vs_SF\\receiving_advanced.csv\n",
      "Saved DataFrame defense_advanced to raw_data\\2023\\Week17\\2023_Week17_WAS_vs_SF\\defense_advanced.csv\n",
      "Saved DataFrame home_starters to raw_data\\2023\\Week17\\2023_Week17_WAS_vs_SF\\home_starters.csv\n",
      "Saved DataFrame vis_starters to raw_data\\2023\\Week17\\2023_Week17_WAS_vs_SF\\vis_starters.csv\n",
      "Saved DataFrame home_snap_counts to raw_data\\2023\\Week17\\2023_Week17_WAS_vs_SF\\home_snap_counts.csv\n",
      "Saved DataFrame vis_snap_counts to raw_data\\2023\\Week17\\2023_Week17_WAS_vs_SF\\vis_snap_counts.csv\n",
      "Saved DataFrame home_drives to raw_data\\2023\\Week17\\2023_Week17_WAS_vs_SF\\home_drives.csv\n",
      "Saved DataFrame vis_drives to raw_data\\2023\\Week17\\2023_Week17_WAS_vs_SF\\vis_drives.csv\n",
      "Saved DataFrame pbp to raw_data\\2023\\Week17\\2023_Week17_WAS_vs_SF\\pbp.csv\n"
     ]
    },
    {
     "name": "stderr",
     "output_type": "stream",
     "text": [
      "C:\\Users\\jackj\\AppData\\Local\\Temp\\ipykernel_31996\\1469608065.py:49: MarkupResemblesLocatorWarning: The input looks more like a filename than markup. You may want to open this file and pass the filehandle into Beautiful Soup.\n",
      "  comment_soup = BeautifulSoup(comment, 'html.parser')\n"
     ]
    },
    {
     "name": "stdout",
     "output_type": "stream",
     "text": [
      "Saved DataFrame scoring to raw_data\\2023\\Week17\\2023_Week17_SEA_vs_PIT\\scoring.csv\n",
      "Saved DataFrame player_offense to raw_data\\2023\\Week17\\2023_Week17_SEA_vs_PIT\\player_offense.csv\n",
      "Saved DataFrame game_info to raw_data\\2023\\Week17\\2023_Week17_SEA_vs_PIT\\game_info.csv\n",
      "Saved DataFrame officials to raw_data\\2023\\Week17\\2023_Week17_SEA_vs_PIT\\officials.csv\n",
      "Saved DataFrame expected_points to raw_data\\2023\\Week17\\2023_Week17_SEA_vs_PIT\\expected_points.csv\n",
      "Saved DataFrame team_stats to raw_data\\2023\\Week17\\2023_Week17_SEA_vs_PIT\\team_stats.csv\n",
      "Saved DataFrame player_defense to raw_data\\2023\\Week17\\2023_Week17_SEA_vs_PIT\\player_defense.csv\n",
      "Saved DataFrame returns to raw_data\\2023\\Week17\\2023_Week17_SEA_vs_PIT\\returns.csv\n",
      "Saved DataFrame kicking to raw_data\\2023\\Week17\\2023_Week17_SEA_vs_PIT\\kicking.csv\n",
      "Saved DataFrame passing_advanced to raw_data\\2023\\Week17\\2023_Week17_SEA_vs_PIT\\passing_advanced.csv\n",
      "Saved DataFrame rushing_advanced to raw_data\\2023\\Week17\\2023_Week17_SEA_vs_PIT\\rushing_advanced.csv\n",
      "Saved DataFrame receiving_advanced to raw_data\\2023\\Week17\\2023_Week17_SEA_vs_PIT\\receiving_advanced.csv\n",
      "Saved DataFrame defense_advanced to raw_data\\2023\\Week17\\2023_Week17_SEA_vs_PIT\\defense_advanced.csv\n",
      "Saved DataFrame home_starters to raw_data\\2023\\Week17\\2023_Week17_SEA_vs_PIT\\home_starters.csv\n",
      "Saved DataFrame vis_starters to raw_data\\2023\\Week17\\2023_Week17_SEA_vs_PIT\\vis_starters.csv\n",
      "Saved DataFrame home_snap_counts to raw_data\\2023\\Week17\\2023_Week17_SEA_vs_PIT\\home_snap_counts.csv\n",
      "Saved DataFrame vis_snap_counts to raw_data\\2023\\Week17\\2023_Week17_SEA_vs_PIT\\vis_snap_counts.csv\n",
      "Saved DataFrame home_drives to raw_data\\2023\\Week17\\2023_Week17_SEA_vs_PIT\\home_drives.csv\n",
      "Saved DataFrame vis_drives to raw_data\\2023\\Week17\\2023_Week17_SEA_vs_PIT\\vis_drives.csv\n",
      "Saved DataFrame pbp to raw_data\\2023\\Week17\\2023_Week17_SEA_vs_PIT\\pbp.csv\n"
     ]
    },
    {
     "name": "stderr",
     "output_type": "stream",
     "text": [
      "C:\\Users\\jackj\\AppData\\Local\\Temp\\ipykernel_31996\\1469608065.py:49: MarkupResemblesLocatorWarning: The input looks more like a filename than markup. You may want to open this file and pass the filehandle into Beautiful Soup.\n",
      "  comment_soup = BeautifulSoup(comment, 'html.parser')\n"
     ]
    },
    {
     "name": "stdout",
     "output_type": "stream",
     "text": [
      "Saved DataFrame scoring to raw_data\\2023\\Week17\\2023_Week17_KC_vs_CIN\\scoring.csv\n",
      "Saved DataFrame player_offense to raw_data\\2023\\Week17\\2023_Week17_KC_vs_CIN\\player_offense.csv\n",
      "Saved DataFrame game_info to raw_data\\2023\\Week17\\2023_Week17_KC_vs_CIN\\game_info.csv\n",
      "Saved DataFrame officials to raw_data\\2023\\Week17\\2023_Week17_KC_vs_CIN\\officials.csv\n",
      "Saved DataFrame expected_points to raw_data\\2023\\Week17\\2023_Week17_KC_vs_CIN\\expected_points.csv\n",
      "Saved DataFrame team_stats to raw_data\\2023\\Week17\\2023_Week17_KC_vs_CIN\\team_stats.csv\n",
      "Saved DataFrame player_defense to raw_data\\2023\\Week17\\2023_Week17_KC_vs_CIN\\player_defense.csv\n",
      "Saved DataFrame returns to raw_data\\2023\\Week17\\2023_Week17_KC_vs_CIN\\returns.csv\n",
      "Saved DataFrame kicking to raw_data\\2023\\Week17\\2023_Week17_KC_vs_CIN\\kicking.csv\n",
      "Saved DataFrame passing_advanced to raw_data\\2023\\Week17\\2023_Week17_KC_vs_CIN\\passing_advanced.csv\n",
      "Saved DataFrame rushing_advanced to raw_data\\2023\\Week17\\2023_Week17_KC_vs_CIN\\rushing_advanced.csv\n",
      "Saved DataFrame receiving_advanced to raw_data\\2023\\Week17\\2023_Week17_KC_vs_CIN\\receiving_advanced.csv\n",
      "Saved DataFrame defense_advanced to raw_data\\2023\\Week17\\2023_Week17_KC_vs_CIN\\defense_advanced.csv\n",
      "Saved DataFrame home_starters to raw_data\\2023\\Week17\\2023_Week17_KC_vs_CIN\\home_starters.csv\n",
      "Saved DataFrame vis_starters to raw_data\\2023\\Week17\\2023_Week17_KC_vs_CIN\\vis_starters.csv\n",
      "Saved DataFrame home_snap_counts to raw_data\\2023\\Week17\\2023_Week17_KC_vs_CIN\\home_snap_counts.csv\n",
      "Saved DataFrame vis_snap_counts to raw_data\\2023\\Week17\\2023_Week17_KC_vs_CIN\\vis_snap_counts.csv\n",
      "Saved DataFrame home_drives to raw_data\\2023\\Week17\\2023_Week17_KC_vs_CIN\\home_drives.csv\n",
      "Saved DataFrame vis_drives to raw_data\\2023\\Week17\\2023_Week17_KC_vs_CIN\\vis_drives.csv\n",
      "Saved DataFrame pbp to raw_data\\2023\\Week17\\2023_Week17_KC_vs_CIN\\pbp.csv\n"
     ]
    },
    {
     "name": "stderr",
     "output_type": "stream",
     "text": [
      "C:\\Users\\jackj\\AppData\\Local\\Temp\\ipykernel_31996\\1469608065.py:49: MarkupResemblesLocatorWarning: The input looks more like a filename than markup. You may want to open this file and pass the filehandle into Beautiful Soup.\n",
      "  comment_soup = BeautifulSoup(comment, 'html.parser')\n"
     ]
    },
    {
     "name": "stdout",
     "output_type": "stream",
     "text": [
      "Saved DataFrame scoring to raw_data\\2023\\Week17\\2023_Week17_DEN_vs_LAC\\scoring.csv\n",
      "Saved DataFrame player_offense to raw_data\\2023\\Week17\\2023_Week17_DEN_vs_LAC\\player_offense.csv\n",
      "Saved DataFrame game_info to raw_data\\2023\\Week17\\2023_Week17_DEN_vs_LAC\\game_info.csv\n",
      "Saved DataFrame officials to raw_data\\2023\\Week17\\2023_Week17_DEN_vs_LAC\\officials.csv\n",
      "Saved DataFrame expected_points to raw_data\\2023\\Week17\\2023_Week17_DEN_vs_LAC\\expected_points.csv\n",
      "Saved DataFrame team_stats to raw_data\\2023\\Week17\\2023_Week17_DEN_vs_LAC\\team_stats.csv\n",
      "Saved DataFrame player_defense to raw_data\\2023\\Week17\\2023_Week17_DEN_vs_LAC\\player_defense.csv\n",
      "Saved DataFrame returns to raw_data\\2023\\Week17\\2023_Week17_DEN_vs_LAC\\returns.csv\n",
      "Saved DataFrame kicking to raw_data\\2023\\Week17\\2023_Week17_DEN_vs_LAC\\kicking.csv\n",
      "Saved DataFrame passing_advanced to raw_data\\2023\\Week17\\2023_Week17_DEN_vs_LAC\\passing_advanced.csv\n",
      "Saved DataFrame rushing_advanced to raw_data\\2023\\Week17\\2023_Week17_DEN_vs_LAC\\rushing_advanced.csv\n",
      "Saved DataFrame receiving_advanced to raw_data\\2023\\Week17\\2023_Week17_DEN_vs_LAC\\receiving_advanced.csv\n",
      "Saved DataFrame defense_advanced to raw_data\\2023\\Week17\\2023_Week17_DEN_vs_LAC\\defense_advanced.csv\n",
      "Saved DataFrame home_starters to raw_data\\2023\\Week17\\2023_Week17_DEN_vs_LAC\\home_starters.csv\n",
      "Saved DataFrame vis_starters to raw_data\\2023\\Week17\\2023_Week17_DEN_vs_LAC\\vis_starters.csv\n",
      "Saved DataFrame home_snap_counts to raw_data\\2023\\Week17\\2023_Week17_DEN_vs_LAC\\home_snap_counts.csv\n",
      "Saved DataFrame vis_snap_counts to raw_data\\2023\\Week17\\2023_Week17_DEN_vs_LAC\\vis_snap_counts.csv\n",
      "Saved DataFrame home_drives to raw_data\\2023\\Week17\\2023_Week17_DEN_vs_LAC\\home_drives.csv\n",
      "Saved DataFrame vis_drives to raw_data\\2023\\Week17\\2023_Week17_DEN_vs_LAC\\vis_drives.csv\n",
      "Saved DataFrame pbp to raw_data\\2023\\Week17\\2023_Week17_DEN_vs_LAC\\pbp.csv\n"
     ]
    },
    {
     "name": "stderr",
     "output_type": "stream",
     "text": [
      "C:\\Users\\jackj\\AppData\\Local\\Temp\\ipykernel_31996\\1469608065.py:49: MarkupResemblesLocatorWarning: The input looks more like a filename than markup. You may want to open this file and pass the filehandle into Beautiful Soup.\n",
      "  comment_soup = BeautifulSoup(comment, 'html.parser')\n"
     ]
    },
    {
     "name": "stdout",
     "output_type": "stream",
     "text": [
      "Saved DataFrame scoring to raw_data\\2023\\Week17\\2023_Week17_MIN_vs_GB\\scoring.csv\n",
      "Saved DataFrame player_offense to raw_data\\2023\\Week17\\2023_Week17_MIN_vs_GB\\player_offense.csv\n",
      "Saved DataFrame game_info to raw_data\\2023\\Week17\\2023_Week17_MIN_vs_GB\\game_info.csv\n",
      "Saved DataFrame officials to raw_data\\2023\\Week17\\2023_Week17_MIN_vs_GB\\officials.csv\n",
      "Saved DataFrame expected_points to raw_data\\2023\\Week17\\2023_Week17_MIN_vs_GB\\expected_points.csv\n",
      "Saved DataFrame team_stats to raw_data\\2023\\Week17\\2023_Week17_MIN_vs_GB\\team_stats.csv\n",
      "Saved DataFrame player_defense to raw_data\\2023\\Week17\\2023_Week17_MIN_vs_GB\\player_defense.csv\n",
      "Saved DataFrame returns to raw_data\\2023\\Week17\\2023_Week17_MIN_vs_GB\\returns.csv\n",
      "Saved DataFrame kicking to raw_data\\2023\\Week17\\2023_Week17_MIN_vs_GB\\kicking.csv\n",
      "Saved DataFrame passing_advanced to raw_data\\2023\\Week17\\2023_Week17_MIN_vs_GB\\passing_advanced.csv\n",
      "Saved DataFrame rushing_advanced to raw_data\\2023\\Week17\\2023_Week17_MIN_vs_GB\\rushing_advanced.csv\n",
      "Saved DataFrame receiving_advanced to raw_data\\2023\\Week17\\2023_Week17_MIN_vs_GB\\receiving_advanced.csv\n",
      "Saved DataFrame defense_advanced to raw_data\\2023\\Week17\\2023_Week17_MIN_vs_GB\\defense_advanced.csv\n",
      "Saved DataFrame home_starters to raw_data\\2023\\Week17\\2023_Week17_MIN_vs_GB\\home_starters.csv\n",
      "Saved DataFrame vis_starters to raw_data\\2023\\Week17\\2023_Week17_MIN_vs_GB\\vis_starters.csv\n",
      "Saved DataFrame home_snap_counts to raw_data\\2023\\Week17\\2023_Week17_MIN_vs_GB\\home_snap_counts.csv\n",
      "Saved DataFrame vis_snap_counts to raw_data\\2023\\Week17\\2023_Week17_MIN_vs_GB\\vis_snap_counts.csv\n",
      "Saved DataFrame home_drives to raw_data\\2023\\Week17\\2023_Week17_MIN_vs_GB\\home_drives.csv\n",
      "Saved DataFrame vis_drives to raw_data\\2023\\Week17\\2023_Week17_MIN_vs_GB\\vis_drives.csv\n",
      "Saved DataFrame pbp to raw_data\\2023\\Week17\\2023_Week17_MIN_vs_GB\\pbp.csv\n"
     ]
    },
    {
     "name": "stderr",
     "output_type": "stream",
     "text": [
      "C:\\Users\\jackj\\AppData\\Local\\Temp\\ipykernel_31996\\1469608065.py:49: MarkupResemblesLocatorWarning: The input looks more like a filename than markup. You may want to open this file and pass the filehandle into Beautiful Soup.\n",
      "  comment_soup = BeautifulSoup(comment, 'html.parser')\n"
     ]
    },
    {
     "name": "stdout",
     "output_type": "stream",
     "text": [
      "Saved DataFrame scoring to raw_data\\2023\\Week18\\2023_Week18_BAL_vs_PIT\\scoring.csv\n",
      "Saved DataFrame player_offense to raw_data\\2023\\Week18\\2023_Week18_BAL_vs_PIT\\player_offense.csv\n",
      "Saved DataFrame game_info to raw_data\\2023\\Week18\\2023_Week18_BAL_vs_PIT\\game_info.csv\n",
      "Saved DataFrame officials to raw_data\\2023\\Week18\\2023_Week18_BAL_vs_PIT\\officials.csv\n",
      "Saved DataFrame expected_points to raw_data\\2023\\Week18\\2023_Week18_BAL_vs_PIT\\expected_points.csv\n",
      "Saved DataFrame team_stats to raw_data\\2023\\Week18\\2023_Week18_BAL_vs_PIT\\team_stats.csv\n",
      "Saved DataFrame player_defense to raw_data\\2023\\Week18\\2023_Week18_BAL_vs_PIT\\player_defense.csv\n",
      "Saved DataFrame returns to raw_data\\2023\\Week18\\2023_Week18_BAL_vs_PIT\\returns.csv\n",
      "Saved DataFrame kicking to raw_data\\2023\\Week18\\2023_Week18_BAL_vs_PIT\\kicking.csv\n",
      "Saved DataFrame passing_advanced to raw_data\\2023\\Week18\\2023_Week18_BAL_vs_PIT\\passing_advanced.csv\n",
      "Saved DataFrame rushing_advanced to raw_data\\2023\\Week18\\2023_Week18_BAL_vs_PIT\\rushing_advanced.csv\n",
      "Saved DataFrame receiving_advanced to raw_data\\2023\\Week18\\2023_Week18_BAL_vs_PIT\\receiving_advanced.csv\n",
      "Saved DataFrame defense_advanced to raw_data\\2023\\Week18\\2023_Week18_BAL_vs_PIT\\defense_advanced.csv\n",
      "Saved DataFrame home_starters to raw_data\\2023\\Week18\\2023_Week18_BAL_vs_PIT\\home_starters.csv\n",
      "Saved DataFrame vis_starters to raw_data\\2023\\Week18\\2023_Week18_BAL_vs_PIT\\vis_starters.csv\n",
      "Saved DataFrame home_snap_counts to raw_data\\2023\\Week18\\2023_Week18_BAL_vs_PIT\\home_snap_counts.csv\n",
      "Saved DataFrame vis_snap_counts to raw_data\\2023\\Week18\\2023_Week18_BAL_vs_PIT\\vis_snap_counts.csv\n",
      "Saved DataFrame home_drives to raw_data\\2023\\Week18\\2023_Week18_BAL_vs_PIT\\home_drives.csv\n",
      "Saved DataFrame vis_drives to raw_data\\2023\\Week18\\2023_Week18_BAL_vs_PIT\\vis_drives.csv\n",
      "Saved DataFrame pbp to raw_data\\2023\\Week18\\2023_Week18_BAL_vs_PIT\\pbp.csv\n"
     ]
    },
    {
     "name": "stderr",
     "output_type": "stream",
     "text": [
      "C:\\Users\\jackj\\AppData\\Local\\Temp\\ipykernel_31996\\1469608065.py:49: MarkupResemblesLocatorWarning: The input looks more like a filename than markup. You may want to open this file and pass the filehandle into Beautiful Soup.\n",
      "  comment_soup = BeautifulSoup(comment, 'html.parser')\n"
     ]
    },
    {
     "name": "stdout",
     "output_type": "stream",
     "text": [
      "Saved DataFrame scoring to raw_data\\2023\\Week18\\2023_Week18_IND_vs_HOU\\scoring.csv\n",
      "Saved DataFrame player_offense to raw_data\\2023\\Week18\\2023_Week18_IND_vs_HOU\\player_offense.csv\n",
      "Saved DataFrame game_info to raw_data\\2023\\Week18\\2023_Week18_IND_vs_HOU\\game_info.csv\n",
      "Saved DataFrame officials to raw_data\\2023\\Week18\\2023_Week18_IND_vs_HOU\\officials.csv\n",
      "Saved DataFrame expected_points to raw_data\\2023\\Week18\\2023_Week18_IND_vs_HOU\\expected_points.csv\n",
      "Saved DataFrame team_stats to raw_data\\2023\\Week18\\2023_Week18_IND_vs_HOU\\team_stats.csv\n",
      "Saved DataFrame player_defense to raw_data\\2023\\Week18\\2023_Week18_IND_vs_HOU\\player_defense.csv\n",
      "Saved DataFrame returns to raw_data\\2023\\Week18\\2023_Week18_IND_vs_HOU\\returns.csv\n",
      "Saved DataFrame kicking to raw_data\\2023\\Week18\\2023_Week18_IND_vs_HOU\\kicking.csv\n",
      "Saved DataFrame passing_advanced to raw_data\\2023\\Week18\\2023_Week18_IND_vs_HOU\\passing_advanced.csv\n",
      "Saved DataFrame rushing_advanced to raw_data\\2023\\Week18\\2023_Week18_IND_vs_HOU\\rushing_advanced.csv\n",
      "Saved DataFrame receiving_advanced to raw_data\\2023\\Week18\\2023_Week18_IND_vs_HOU\\receiving_advanced.csv\n",
      "Saved DataFrame defense_advanced to raw_data\\2023\\Week18\\2023_Week18_IND_vs_HOU\\defense_advanced.csv\n",
      "Saved DataFrame home_starters to raw_data\\2023\\Week18\\2023_Week18_IND_vs_HOU\\home_starters.csv\n",
      "Saved DataFrame vis_starters to raw_data\\2023\\Week18\\2023_Week18_IND_vs_HOU\\vis_starters.csv\n",
      "Saved DataFrame home_snap_counts to raw_data\\2023\\Week18\\2023_Week18_IND_vs_HOU\\home_snap_counts.csv\n",
      "Saved DataFrame vis_snap_counts to raw_data\\2023\\Week18\\2023_Week18_IND_vs_HOU\\vis_snap_counts.csv\n",
      "Saved DataFrame home_drives to raw_data\\2023\\Week18\\2023_Week18_IND_vs_HOU\\home_drives.csv\n",
      "Saved DataFrame vis_drives to raw_data\\2023\\Week18\\2023_Week18_IND_vs_HOU\\vis_drives.csv\n",
      "Saved DataFrame pbp to raw_data\\2023\\Week18\\2023_Week18_IND_vs_HOU\\pbp.csv\n"
     ]
    },
    {
     "name": "stderr",
     "output_type": "stream",
     "text": [
      "C:\\Users\\jackj\\AppData\\Local\\Temp\\ipykernel_31996\\1469608065.py:49: MarkupResemblesLocatorWarning: The input looks more like a filename than markup. You may want to open this file and pass the filehandle into Beautiful Soup.\n",
      "  comment_soup = BeautifulSoup(comment, 'html.parser')\n"
     ]
    },
    {
     "name": "stdout",
     "output_type": "stream",
     "text": [
      "Saved DataFrame scoring to raw_data\\2023\\Week18\\2023_Week18_NO_vs_ATL\\scoring.csv\n",
      "Saved DataFrame player_offense to raw_data\\2023\\Week18\\2023_Week18_NO_vs_ATL\\player_offense.csv\n",
      "Saved DataFrame game_info to raw_data\\2023\\Week18\\2023_Week18_NO_vs_ATL\\game_info.csv\n",
      "Saved DataFrame officials to raw_data\\2023\\Week18\\2023_Week18_NO_vs_ATL\\officials.csv\n",
      "Saved DataFrame expected_points to raw_data\\2023\\Week18\\2023_Week18_NO_vs_ATL\\expected_points.csv\n",
      "Saved DataFrame team_stats to raw_data\\2023\\Week18\\2023_Week18_NO_vs_ATL\\team_stats.csv\n",
      "Saved DataFrame player_defense to raw_data\\2023\\Week18\\2023_Week18_NO_vs_ATL\\player_defense.csv\n",
      "Saved DataFrame returns to raw_data\\2023\\Week18\\2023_Week18_NO_vs_ATL\\returns.csv\n",
      "Saved DataFrame kicking to raw_data\\2023\\Week18\\2023_Week18_NO_vs_ATL\\kicking.csv\n",
      "Saved DataFrame passing_advanced to raw_data\\2023\\Week18\\2023_Week18_NO_vs_ATL\\passing_advanced.csv\n",
      "Saved DataFrame rushing_advanced to raw_data\\2023\\Week18\\2023_Week18_NO_vs_ATL\\rushing_advanced.csv\n",
      "Saved DataFrame receiving_advanced to raw_data\\2023\\Week18\\2023_Week18_NO_vs_ATL\\receiving_advanced.csv\n",
      "Saved DataFrame defense_advanced to raw_data\\2023\\Week18\\2023_Week18_NO_vs_ATL\\defense_advanced.csv\n",
      "Saved DataFrame home_starters to raw_data\\2023\\Week18\\2023_Week18_NO_vs_ATL\\home_starters.csv\n",
      "Saved DataFrame vis_starters to raw_data\\2023\\Week18\\2023_Week18_NO_vs_ATL\\vis_starters.csv\n",
      "Saved DataFrame home_snap_counts to raw_data\\2023\\Week18\\2023_Week18_NO_vs_ATL\\home_snap_counts.csv\n",
      "Saved DataFrame vis_snap_counts to raw_data\\2023\\Week18\\2023_Week18_NO_vs_ATL\\vis_snap_counts.csv\n",
      "Saved DataFrame home_drives to raw_data\\2023\\Week18\\2023_Week18_NO_vs_ATL\\home_drives.csv\n",
      "Saved DataFrame vis_drives to raw_data\\2023\\Week18\\2023_Week18_NO_vs_ATL\\vis_drives.csv\n",
      "Saved DataFrame pbp to raw_data\\2023\\Week18\\2023_Week18_NO_vs_ATL\\pbp.csv\n"
     ]
    },
    {
     "name": "stderr",
     "output_type": "stream",
     "text": [
      "C:\\Users\\jackj\\AppData\\Local\\Temp\\ipykernel_31996\\1469608065.py:49: MarkupResemblesLocatorWarning: The input looks more like a filename than markup. You may want to open this file and pass the filehandle into Beautiful Soup.\n",
      "  comment_soup = BeautifulSoup(comment, 'html.parser')\n"
     ]
    },
    {
     "name": "stdout",
     "output_type": "stream",
     "text": [
      "Saved DataFrame scoring to raw_data\\2023\\Week18\\2023_Week18_CAR_vs_TB\\scoring.csv\n",
      "Saved DataFrame player_offense to raw_data\\2023\\Week18\\2023_Week18_CAR_vs_TB\\player_offense.csv\n",
      "Saved DataFrame game_info to raw_data\\2023\\Week18\\2023_Week18_CAR_vs_TB\\game_info.csv\n",
      "Saved DataFrame officials to raw_data\\2023\\Week18\\2023_Week18_CAR_vs_TB\\officials.csv\n",
      "Saved DataFrame expected_points to raw_data\\2023\\Week18\\2023_Week18_CAR_vs_TB\\expected_points.csv\n",
      "Saved DataFrame team_stats to raw_data\\2023\\Week18\\2023_Week18_CAR_vs_TB\\team_stats.csv\n",
      "Saved DataFrame player_defense to raw_data\\2023\\Week18\\2023_Week18_CAR_vs_TB\\player_defense.csv\n",
      "Saved DataFrame returns to raw_data\\2023\\Week18\\2023_Week18_CAR_vs_TB\\returns.csv\n",
      "Saved DataFrame kicking to raw_data\\2023\\Week18\\2023_Week18_CAR_vs_TB\\kicking.csv\n",
      "Saved DataFrame passing_advanced to raw_data\\2023\\Week18\\2023_Week18_CAR_vs_TB\\passing_advanced.csv\n",
      "Saved DataFrame rushing_advanced to raw_data\\2023\\Week18\\2023_Week18_CAR_vs_TB\\rushing_advanced.csv\n",
      "Saved DataFrame receiving_advanced to raw_data\\2023\\Week18\\2023_Week18_CAR_vs_TB\\receiving_advanced.csv\n",
      "Saved DataFrame defense_advanced to raw_data\\2023\\Week18\\2023_Week18_CAR_vs_TB\\defense_advanced.csv\n",
      "Saved DataFrame home_starters to raw_data\\2023\\Week18\\2023_Week18_CAR_vs_TB\\home_starters.csv\n",
      "Saved DataFrame vis_starters to raw_data\\2023\\Week18\\2023_Week18_CAR_vs_TB\\vis_starters.csv\n",
      "Saved DataFrame home_snap_counts to raw_data\\2023\\Week18\\2023_Week18_CAR_vs_TB\\home_snap_counts.csv\n",
      "Saved DataFrame vis_snap_counts to raw_data\\2023\\Week18\\2023_Week18_CAR_vs_TB\\vis_snap_counts.csv\n",
      "Saved DataFrame home_drives to raw_data\\2023\\Week18\\2023_Week18_CAR_vs_TB\\home_drives.csv\n",
      "Saved DataFrame vis_drives to raw_data\\2023\\Week18\\2023_Week18_CAR_vs_TB\\vis_drives.csv\n",
      "Saved DataFrame pbp to raw_data\\2023\\Week18\\2023_Week18_CAR_vs_TB\\pbp.csv\n"
     ]
    },
    {
     "name": "stderr",
     "output_type": "stream",
     "text": [
      "C:\\Users\\jackj\\AppData\\Local\\Temp\\ipykernel_31996\\1469608065.py:49: MarkupResemblesLocatorWarning: The input looks more like a filename than markup. You may want to open this file and pass the filehandle into Beautiful Soup.\n",
      "  comment_soup = BeautifulSoup(comment, 'html.parser')\n"
     ]
    },
    {
     "name": "stdout",
     "output_type": "stream",
     "text": [
      "Saved DataFrame scoring to raw_data\\2023\\Week18\\2023_Week18_CIN_vs_CLE\\scoring.csv\n",
      "Saved DataFrame player_offense to raw_data\\2023\\Week18\\2023_Week18_CIN_vs_CLE\\player_offense.csv\n",
      "Saved DataFrame game_info to raw_data\\2023\\Week18\\2023_Week18_CIN_vs_CLE\\game_info.csv\n",
      "Saved DataFrame officials to raw_data\\2023\\Week18\\2023_Week18_CIN_vs_CLE\\officials.csv\n",
      "Saved DataFrame expected_points to raw_data\\2023\\Week18\\2023_Week18_CIN_vs_CLE\\expected_points.csv\n",
      "Saved DataFrame team_stats to raw_data\\2023\\Week18\\2023_Week18_CIN_vs_CLE\\team_stats.csv\n",
      "Saved DataFrame player_defense to raw_data\\2023\\Week18\\2023_Week18_CIN_vs_CLE\\player_defense.csv\n",
      "Saved DataFrame returns to raw_data\\2023\\Week18\\2023_Week18_CIN_vs_CLE\\returns.csv\n",
      "Saved DataFrame kicking to raw_data\\2023\\Week18\\2023_Week18_CIN_vs_CLE\\kicking.csv\n",
      "Saved DataFrame passing_advanced to raw_data\\2023\\Week18\\2023_Week18_CIN_vs_CLE\\passing_advanced.csv\n",
      "Saved DataFrame rushing_advanced to raw_data\\2023\\Week18\\2023_Week18_CIN_vs_CLE\\rushing_advanced.csv\n",
      "Saved DataFrame receiving_advanced to raw_data\\2023\\Week18\\2023_Week18_CIN_vs_CLE\\receiving_advanced.csv\n",
      "Saved DataFrame defense_advanced to raw_data\\2023\\Week18\\2023_Week18_CIN_vs_CLE\\defense_advanced.csv\n",
      "Saved DataFrame home_starters to raw_data\\2023\\Week18\\2023_Week18_CIN_vs_CLE\\home_starters.csv\n",
      "Saved DataFrame vis_starters to raw_data\\2023\\Week18\\2023_Week18_CIN_vs_CLE\\vis_starters.csv\n",
      "Saved DataFrame home_snap_counts to raw_data\\2023\\Week18\\2023_Week18_CIN_vs_CLE\\home_snap_counts.csv\n",
      "Saved DataFrame vis_snap_counts to raw_data\\2023\\Week18\\2023_Week18_CIN_vs_CLE\\vis_snap_counts.csv\n",
      "Saved DataFrame home_drives to raw_data\\2023\\Week18\\2023_Week18_CIN_vs_CLE\\home_drives.csv\n",
      "Saved DataFrame vis_drives to raw_data\\2023\\Week18\\2023_Week18_CIN_vs_CLE\\vis_drives.csv\n",
      "Saved DataFrame pbp to raw_data\\2023\\Week18\\2023_Week18_CIN_vs_CLE\\pbp.csv\n"
     ]
    },
    {
     "name": "stderr",
     "output_type": "stream",
     "text": [
      "C:\\Users\\jackj\\AppData\\Local\\Temp\\ipykernel_31996\\1469608065.py:49: MarkupResemblesLocatorWarning: The input looks more like a filename than markup. You may want to open this file and pass the filehandle into Beautiful Soup.\n",
      "  comment_soup = BeautifulSoup(comment, 'html.parser')\n"
     ]
    },
    {
     "name": "stdout",
     "output_type": "stream",
     "text": [
      "Saved DataFrame scoring to raw_data\\2023\\Week18\\2023_Week18_DET_vs_MIN\\scoring.csv\n",
      "Saved DataFrame player_offense to raw_data\\2023\\Week18\\2023_Week18_DET_vs_MIN\\player_offense.csv\n",
      "Saved DataFrame game_info to raw_data\\2023\\Week18\\2023_Week18_DET_vs_MIN\\game_info.csv\n",
      "Saved DataFrame officials to raw_data\\2023\\Week18\\2023_Week18_DET_vs_MIN\\officials.csv\n",
      "Saved DataFrame expected_points to raw_data\\2023\\Week18\\2023_Week18_DET_vs_MIN\\expected_points.csv\n",
      "Saved DataFrame team_stats to raw_data\\2023\\Week18\\2023_Week18_DET_vs_MIN\\team_stats.csv\n",
      "Saved DataFrame player_defense to raw_data\\2023\\Week18\\2023_Week18_DET_vs_MIN\\player_defense.csv\n",
      "Saved DataFrame returns to raw_data\\2023\\Week18\\2023_Week18_DET_vs_MIN\\returns.csv\n",
      "Saved DataFrame kicking to raw_data\\2023\\Week18\\2023_Week18_DET_vs_MIN\\kicking.csv\n",
      "Saved DataFrame passing_advanced to raw_data\\2023\\Week18\\2023_Week18_DET_vs_MIN\\passing_advanced.csv\n",
      "Saved DataFrame rushing_advanced to raw_data\\2023\\Week18\\2023_Week18_DET_vs_MIN\\rushing_advanced.csv\n",
      "Saved DataFrame receiving_advanced to raw_data\\2023\\Week18\\2023_Week18_DET_vs_MIN\\receiving_advanced.csv\n",
      "Saved DataFrame defense_advanced to raw_data\\2023\\Week18\\2023_Week18_DET_vs_MIN\\defense_advanced.csv\n",
      "Saved DataFrame home_starters to raw_data\\2023\\Week18\\2023_Week18_DET_vs_MIN\\home_starters.csv\n",
      "Saved DataFrame vis_starters to raw_data\\2023\\Week18\\2023_Week18_DET_vs_MIN\\vis_starters.csv\n",
      "Saved DataFrame home_snap_counts to raw_data\\2023\\Week18\\2023_Week18_DET_vs_MIN\\home_snap_counts.csv\n",
      "Saved DataFrame vis_snap_counts to raw_data\\2023\\Week18\\2023_Week18_DET_vs_MIN\\vis_snap_counts.csv\n",
      "Saved DataFrame home_drives to raw_data\\2023\\Week18\\2023_Week18_DET_vs_MIN\\home_drives.csv\n",
      "Saved DataFrame vis_drives to raw_data\\2023\\Week18\\2023_Week18_DET_vs_MIN\\vis_drives.csv\n",
      "Saved DataFrame pbp to raw_data\\2023\\Week18\\2023_Week18_DET_vs_MIN\\pbp.csv\n"
     ]
    },
    {
     "name": "stderr",
     "output_type": "stream",
     "text": [
      "C:\\Users\\jackj\\AppData\\Local\\Temp\\ipykernel_31996\\1469608065.py:49: MarkupResemblesLocatorWarning: The input looks more like a filename than markup. You may want to open this file and pass the filehandle into Beautiful Soup.\n",
      "  comment_soup = BeautifulSoup(comment, 'html.parser')\n"
     ]
    },
    {
     "name": "stdout",
     "output_type": "stream",
     "text": [
      "Saved DataFrame scoring to raw_data\\2023\\Week18\\2023_Week18_TEN_vs_JAX\\scoring.csv\n",
      "Saved DataFrame player_offense to raw_data\\2023\\Week18\\2023_Week18_TEN_vs_JAX\\player_offense.csv\n",
      "Saved DataFrame game_info to raw_data\\2023\\Week18\\2023_Week18_TEN_vs_JAX\\game_info.csv\n",
      "Saved DataFrame officials to raw_data\\2023\\Week18\\2023_Week18_TEN_vs_JAX\\officials.csv\n",
      "Saved DataFrame expected_points to raw_data\\2023\\Week18\\2023_Week18_TEN_vs_JAX\\expected_points.csv\n",
      "Saved DataFrame team_stats to raw_data\\2023\\Week18\\2023_Week18_TEN_vs_JAX\\team_stats.csv\n",
      "Saved DataFrame player_defense to raw_data\\2023\\Week18\\2023_Week18_TEN_vs_JAX\\player_defense.csv\n",
      "Saved DataFrame returns to raw_data\\2023\\Week18\\2023_Week18_TEN_vs_JAX\\returns.csv\n",
      "Saved DataFrame kicking to raw_data\\2023\\Week18\\2023_Week18_TEN_vs_JAX\\kicking.csv\n",
      "Saved DataFrame passing_advanced to raw_data\\2023\\Week18\\2023_Week18_TEN_vs_JAX\\passing_advanced.csv\n",
      "Saved DataFrame rushing_advanced to raw_data\\2023\\Week18\\2023_Week18_TEN_vs_JAX\\rushing_advanced.csv\n",
      "Saved DataFrame receiving_advanced to raw_data\\2023\\Week18\\2023_Week18_TEN_vs_JAX\\receiving_advanced.csv\n",
      "Saved DataFrame defense_advanced to raw_data\\2023\\Week18\\2023_Week18_TEN_vs_JAX\\defense_advanced.csv\n",
      "Saved DataFrame home_starters to raw_data\\2023\\Week18\\2023_Week18_TEN_vs_JAX\\home_starters.csv\n",
      "Saved DataFrame vis_starters to raw_data\\2023\\Week18\\2023_Week18_TEN_vs_JAX\\vis_starters.csv\n",
      "Saved DataFrame home_snap_counts to raw_data\\2023\\Week18\\2023_Week18_TEN_vs_JAX\\home_snap_counts.csv\n",
      "Saved DataFrame vis_snap_counts to raw_data\\2023\\Week18\\2023_Week18_TEN_vs_JAX\\vis_snap_counts.csv\n",
      "Saved DataFrame home_drives to raw_data\\2023\\Week18\\2023_Week18_TEN_vs_JAX\\home_drives.csv\n",
      "Saved DataFrame vis_drives to raw_data\\2023\\Week18\\2023_Week18_TEN_vs_JAX\\vis_drives.csv\n",
      "Saved DataFrame pbp to raw_data\\2023\\Week18\\2023_Week18_TEN_vs_JAX\\pbp.csv\n"
     ]
    },
    {
     "name": "stderr",
     "output_type": "stream",
     "text": [
      "C:\\Users\\jackj\\AppData\\Local\\Temp\\ipykernel_31996\\1469608065.py:49: MarkupResemblesLocatorWarning: The input looks more like a filename than markup. You may want to open this file and pass the filehandle into Beautiful Soup.\n",
      "  comment_soup = BeautifulSoup(comment, 'html.parser')\n"
     ]
    },
    {
     "name": "stdout",
     "output_type": "stream",
     "text": [
      "Saved DataFrame scoring to raw_data\\2023\\Week18\\2023_Week18_NE_vs_NYJ\\scoring.csv\n",
      "Saved DataFrame player_offense to raw_data\\2023\\Week18\\2023_Week18_NE_vs_NYJ\\player_offense.csv\n",
      "Saved DataFrame game_info to raw_data\\2023\\Week18\\2023_Week18_NE_vs_NYJ\\game_info.csv\n",
      "Saved DataFrame officials to raw_data\\2023\\Week18\\2023_Week18_NE_vs_NYJ\\officials.csv\n",
      "Saved DataFrame expected_points to raw_data\\2023\\Week18\\2023_Week18_NE_vs_NYJ\\expected_points.csv\n",
      "Saved DataFrame team_stats to raw_data\\2023\\Week18\\2023_Week18_NE_vs_NYJ\\team_stats.csv\n",
      "Saved DataFrame player_defense to raw_data\\2023\\Week18\\2023_Week18_NE_vs_NYJ\\player_defense.csv\n",
      "Saved DataFrame returns to raw_data\\2023\\Week18\\2023_Week18_NE_vs_NYJ\\returns.csv\n",
      "Saved DataFrame kicking to raw_data\\2023\\Week18\\2023_Week18_NE_vs_NYJ\\kicking.csv\n",
      "Saved DataFrame passing_advanced to raw_data\\2023\\Week18\\2023_Week18_NE_vs_NYJ\\passing_advanced.csv\n",
      "Saved DataFrame rushing_advanced to raw_data\\2023\\Week18\\2023_Week18_NE_vs_NYJ\\rushing_advanced.csv\n",
      "Saved DataFrame receiving_advanced to raw_data\\2023\\Week18\\2023_Week18_NE_vs_NYJ\\receiving_advanced.csv\n",
      "Saved DataFrame defense_advanced to raw_data\\2023\\Week18\\2023_Week18_NE_vs_NYJ\\defense_advanced.csv\n",
      "Saved DataFrame home_starters to raw_data\\2023\\Week18\\2023_Week18_NE_vs_NYJ\\home_starters.csv\n",
      "Saved DataFrame vis_starters to raw_data\\2023\\Week18\\2023_Week18_NE_vs_NYJ\\vis_starters.csv\n",
      "Saved DataFrame home_snap_counts to raw_data\\2023\\Week18\\2023_Week18_NE_vs_NYJ\\home_snap_counts.csv\n",
      "Saved DataFrame vis_snap_counts to raw_data\\2023\\Week18\\2023_Week18_NE_vs_NYJ\\vis_snap_counts.csv\n",
      "Saved DataFrame home_drives to raw_data\\2023\\Week18\\2023_Week18_NE_vs_NYJ\\home_drives.csv\n",
      "Saved DataFrame vis_drives to raw_data\\2023\\Week18\\2023_Week18_NE_vs_NYJ\\vis_drives.csv\n",
      "Saved DataFrame pbp to raw_data\\2023\\Week18\\2023_Week18_NE_vs_NYJ\\pbp.csv\n"
     ]
    },
    {
     "name": "stderr",
     "output_type": "stream",
     "text": [
      "C:\\Users\\jackj\\AppData\\Local\\Temp\\ipykernel_31996\\1469608065.py:49: MarkupResemblesLocatorWarning: The input looks more like a filename than markup. You may want to open this file and pass the filehandle into Beautiful Soup.\n",
      "  comment_soup = BeautifulSoup(comment, 'html.parser')\n"
     ]
    },
    {
     "name": "stdout",
     "output_type": "stream",
     "text": [
      "Saved DataFrame scoring to raw_data\\2023\\Week18\\2023_Week18_GB_vs_CHI\\scoring.csv\n",
      "Saved DataFrame player_offense to raw_data\\2023\\Week18\\2023_Week18_GB_vs_CHI\\player_offense.csv\n",
      "Saved DataFrame game_info to raw_data\\2023\\Week18\\2023_Week18_GB_vs_CHI\\game_info.csv\n",
      "Saved DataFrame officials to raw_data\\2023\\Week18\\2023_Week18_GB_vs_CHI\\officials.csv\n",
      "Saved DataFrame expected_points to raw_data\\2023\\Week18\\2023_Week18_GB_vs_CHI\\expected_points.csv\n",
      "Saved DataFrame team_stats to raw_data\\2023\\Week18\\2023_Week18_GB_vs_CHI\\team_stats.csv\n",
      "Saved DataFrame player_defense to raw_data\\2023\\Week18\\2023_Week18_GB_vs_CHI\\player_defense.csv\n",
      "Saved DataFrame returns to raw_data\\2023\\Week18\\2023_Week18_GB_vs_CHI\\returns.csv\n",
      "Saved DataFrame kicking to raw_data\\2023\\Week18\\2023_Week18_GB_vs_CHI\\kicking.csv\n",
      "Saved DataFrame passing_advanced to raw_data\\2023\\Week18\\2023_Week18_GB_vs_CHI\\passing_advanced.csv\n",
      "Saved DataFrame rushing_advanced to raw_data\\2023\\Week18\\2023_Week18_GB_vs_CHI\\rushing_advanced.csv\n",
      "Saved DataFrame receiving_advanced to raw_data\\2023\\Week18\\2023_Week18_GB_vs_CHI\\receiving_advanced.csv\n",
      "Saved DataFrame defense_advanced to raw_data\\2023\\Week18\\2023_Week18_GB_vs_CHI\\defense_advanced.csv\n",
      "Saved DataFrame home_starters to raw_data\\2023\\Week18\\2023_Week18_GB_vs_CHI\\home_starters.csv\n",
      "Saved DataFrame vis_starters to raw_data\\2023\\Week18\\2023_Week18_GB_vs_CHI\\vis_starters.csv\n",
      "Saved DataFrame home_snap_counts to raw_data\\2023\\Week18\\2023_Week18_GB_vs_CHI\\home_snap_counts.csv\n",
      "Saved DataFrame vis_snap_counts to raw_data\\2023\\Week18\\2023_Week18_GB_vs_CHI\\vis_snap_counts.csv\n",
      "Saved DataFrame home_drives to raw_data\\2023\\Week18\\2023_Week18_GB_vs_CHI\\home_drives.csv\n",
      "Saved DataFrame vis_drives to raw_data\\2023\\Week18\\2023_Week18_GB_vs_CHI\\vis_drives.csv\n",
      "Saved DataFrame pbp to raw_data\\2023\\Week18\\2023_Week18_GB_vs_CHI\\pbp.csv\n"
     ]
    },
    {
     "name": "stderr",
     "output_type": "stream",
     "text": [
      "C:\\Users\\jackj\\AppData\\Local\\Temp\\ipykernel_31996\\1469608065.py:49: MarkupResemblesLocatorWarning: The input looks more like a filename than markup. You may want to open this file and pass the filehandle into Beautiful Soup.\n",
      "  comment_soup = BeautifulSoup(comment, 'html.parser')\n"
     ]
    },
    {
     "name": "stdout",
     "output_type": "stream",
     "text": [
      "Saved DataFrame scoring to raw_data\\2023\\Week18\\2023_Week18_ARI_vs_SEA\\scoring.csv\n",
      "Saved DataFrame player_offense to raw_data\\2023\\Week18\\2023_Week18_ARI_vs_SEA\\player_offense.csv\n",
      "Saved DataFrame game_info to raw_data\\2023\\Week18\\2023_Week18_ARI_vs_SEA\\game_info.csv\n",
      "Saved DataFrame officials to raw_data\\2023\\Week18\\2023_Week18_ARI_vs_SEA\\officials.csv\n",
      "Saved DataFrame expected_points to raw_data\\2023\\Week18\\2023_Week18_ARI_vs_SEA\\expected_points.csv\n",
      "Saved DataFrame team_stats to raw_data\\2023\\Week18\\2023_Week18_ARI_vs_SEA\\team_stats.csv\n",
      "Saved DataFrame player_defense to raw_data\\2023\\Week18\\2023_Week18_ARI_vs_SEA\\player_defense.csv\n",
      "Saved DataFrame returns to raw_data\\2023\\Week18\\2023_Week18_ARI_vs_SEA\\returns.csv\n",
      "Saved DataFrame kicking to raw_data\\2023\\Week18\\2023_Week18_ARI_vs_SEA\\kicking.csv\n",
      "Saved DataFrame passing_advanced to raw_data\\2023\\Week18\\2023_Week18_ARI_vs_SEA\\passing_advanced.csv\n",
      "Saved DataFrame rushing_advanced to raw_data\\2023\\Week18\\2023_Week18_ARI_vs_SEA\\rushing_advanced.csv\n",
      "Saved DataFrame receiving_advanced to raw_data\\2023\\Week18\\2023_Week18_ARI_vs_SEA\\receiving_advanced.csv\n",
      "Saved DataFrame defense_advanced to raw_data\\2023\\Week18\\2023_Week18_ARI_vs_SEA\\defense_advanced.csv\n",
      "Saved DataFrame home_starters to raw_data\\2023\\Week18\\2023_Week18_ARI_vs_SEA\\home_starters.csv\n",
      "Saved DataFrame vis_starters to raw_data\\2023\\Week18\\2023_Week18_ARI_vs_SEA\\vis_starters.csv\n",
      "Saved DataFrame home_snap_counts to raw_data\\2023\\Week18\\2023_Week18_ARI_vs_SEA\\home_snap_counts.csv\n",
      "Saved DataFrame vis_snap_counts to raw_data\\2023\\Week18\\2023_Week18_ARI_vs_SEA\\vis_snap_counts.csv\n",
      "Saved DataFrame home_drives to raw_data\\2023\\Week18\\2023_Week18_ARI_vs_SEA\\home_drives.csv\n",
      "Saved DataFrame vis_drives to raw_data\\2023\\Week18\\2023_Week18_ARI_vs_SEA\\vis_drives.csv\n",
      "Saved DataFrame pbp to raw_data\\2023\\Week18\\2023_Week18_ARI_vs_SEA\\pbp.csv\n",
      "Reached 20 requests, sleeping for 60 seconds...\n"
     ]
    },
    {
     "name": "stderr",
     "output_type": "stream",
     "text": [
      "C:\\Users\\jackj\\AppData\\Local\\Temp\\ipykernel_31996\\1469608065.py:49: MarkupResemblesLocatorWarning: The input looks more like a filename than markup. You may want to open this file and pass the filehandle into Beautiful Soup.\n",
      "  comment_soup = BeautifulSoup(comment, 'html.parser')\n"
     ]
    },
    {
     "name": "stdout",
     "output_type": "stream",
     "text": [
      "Saved DataFrame scoring to raw_data\\2023\\Week18\\2023_Week18_WAS_vs_DAL\\scoring.csv\n",
      "Saved DataFrame player_offense to raw_data\\2023\\Week18\\2023_Week18_WAS_vs_DAL\\player_offense.csv\n",
      "Saved DataFrame game_info to raw_data\\2023\\Week18\\2023_Week18_WAS_vs_DAL\\game_info.csv\n",
      "Saved DataFrame officials to raw_data\\2023\\Week18\\2023_Week18_WAS_vs_DAL\\officials.csv\n",
      "Saved DataFrame expected_points to raw_data\\2023\\Week18\\2023_Week18_WAS_vs_DAL\\expected_points.csv\n",
      "Saved DataFrame team_stats to raw_data\\2023\\Week18\\2023_Week18_WAS_vs_DAL\\team_stats.csv\n",
      "Saved DataFrame player_defense to raw_data\\2023\\Week18\\2023_Week18_WAS_vs_DAL\\player_defense.csv\n",
      "Saved DataFrame returns to raw_data\\2023\\Week18\\2023_Week18_WAS_vs_DAL\\returns.csv\n",
      "Saved DataFrame kicking to raw_data\\2023\\Week18\\2023_Week18_WAS_vs_DAL\\kicking.csv\n",
      "Saved DataFrame passing_advanced to raw_data\\2023\\Week18\\2023_Week18_WAS_vs_DAL\\passing_advanced.csv\n",
      "Saved DataFrame rushing_advanced to raw_data\\2023\\Week18\\2023_Week18_WAS_vs_DAL\\rushing_advanced.csv\n",
      "Saved DataFrame receiving_advanced to raw_data\\2023\\Week18\\2023_Week18_WAS_vs_DAL\\receiving_advanced.csv\n",
      "Saved DataFrame defense_advanced to raw_data\\2023\\Week18\\2023_Week18_WAS_vs_DAL\\defense_advanced.csv\n",
      "Saved DataFrame home_starters to raw_data\\2023\\Week18\\2023_Week18_WAS_vs_DAL\\home_starters.csv\n",
      "Saved DataFrame vis_starters to raw_data\\2023\\Week18\\2023_Week18_WAS_vs_DAL\\vis_starters.csv\n",
      "Saved DataFrame home_snap_counts to raw_data\\2023\\Week18\\2023_Week18_WAS_vs_DAL\\home_snap_counts.csv\n",
      "Saved DataFrame vis_snap_counts to raw_data\\2023\\Week18\\2023_Week18_WAS_vs_DAL\\vis_snap_counts.csv\n",
      "Saved DataFrame home_drives to raw_data\\2023\\Week18\\2023_Week18_WAS_vs_DAL\\home_drives.csv\n",
      "Saved DataFrame vis_drives to raw_data\\2023\\Week18\\2023_Week18_WAS_vs_DAL\\vis_drives.csv\n",
      "Saved DataFrame pbp to raw_data\\2023\\Week18\\2023_Week18_WAS_vs_DAL\\pbp.csv\n"
     ]
    },
    {
     "name": "stderr",
     "output_type": "stream",
     "text": [
      "C:\\Users\\jackj\\AppData\\Local\\Temp\\ipykernel_31996\\1469608065.py:49: MarkupResemblesLocatorWarning: The input looks more like a filename than markup. You may want to open this file and pass the filehandle into Beautiful Soup.\n",
      "  comment_soup = BeautifulSoup(comment, 'html.parser')\n"
     ]
    },
    {
     "name": "stdout",
     "output_type": "stream",
     "text": [
      "Saved DataFrame scoring to raw_data\\2023\\Week18\\2023_Week18_LVR_vs_DEN\\scoring.csv\n",
      "Saved DataFrame player_offense to raw_data\\2023\\Week18\\2023_Week18_LVR_vs_DEN\\player_offense.csv\n",
      "Saved DataFrame game_info to raw_data\\2023\\Week18\\2023_Week18_LVR_vs_DEN\\game_info.csv\n",
      "Saved DataFrame officials to raw_data\\2023\\Week18\\2023_Week18_LVR_vs_DEN\\officials.csv\n",
      "Saved DataFrame expected_points to raw_data\\2023\\Week18\\2023_Week18_LVR_vs_DEN\\expected_points.csv\n",
      "Saved DataFrame team_stats to raw_data\\2023\\Week18\\2023_Week18_LVR_vs_DEN\\team_stats.csv\n",
      "Saved DataFrame player_defense to raw_data\\2023\\Week18\\2023_Week18_LVR_vs_DEN\\player_defense.csv\n",
      "Saved DataFrame returns to raw_data\\2023\\Week18\\2023_Week18_LVR_vs_DEN\\returns.csv\n",
      "Saved DataFrame kicking to raw_data\\2023\\Week18\\2023_Week18_LVR_vs_DEN\\kicking.csv\n",
      "Saved DataFrame passing_advanced to raw_data\\2023\\Week18\\2023_Week18_LVR_vs_DEN\\passing_advanced.csv\n",
      "Saved DataFrame rushing_advanced to raw_data\\2023\\Week18\\2023_Week18_LVR_vs_DEN\\rushing_advanced.csv\n",
      "Saved DataFrame receiving_advanced to raw_data\\2023\\Week18\\2023_Week18_LVR_vs_DEN\\receiving_advanced.csv\n",
      "Saved DataFrame defense_advanced to raw_data\\2023\\Week18\\2023_Week18_LVR_vs_DEN\\defense_advanced.csv\n",
      "Saved DataFrame home_starters to raw_data\\2023\\Week18\\2023_Week18_LVR_vs_DEN\\home_starters.csv\n",
      "Saved DataFrame vis_starters to raw_data\\2023\\Week18\\2023_Week18_LVR_vs_DEN\\vis_starters.csv\n",
      "Saved DataFrame home_snap_counts to raw_data\\2023\\Week18\\2023_Week18_LVR_vs_DEN\\home_snap_counts.csv\n",
      "Saved DataFrame vis_snap_counts to raw_data\\2023\\Week18\\2023_Week18_LVR_vs_DEN\\vis_snap_counts.csv\n",
      "Saved DataFrame home_drives to raw_data\\2023\\Week18\\2023_Week18_LVR_vs_DEN\\home_drives.csv\n",
      "Saved DataFrame vis_drives to raw_data\\2023\\Week18\\2023_Week18_LVR_vs_DEN\\vis_drives.csv\n",
      "Saved DataFrame pbp to raw_data\\2023\\Week18\\2023_Week18_LVR_vs_DEN\\pbp.csv\n"
     ]
    },
    {
     "name": "stderr",
     "output_type": "stream",
     "text": [
      "C:\\Users\\jackj\\AppData\\Local\\Temp\\ipykernel_31996\\1469608065.py:49: MarkupResemblesLocatorWarning: The input looks more like a filename than markup. You may want to open this file and pass the filehandle into Beautiful Soup.\n",
      "  comment_soup = BeautifulSoup(comment, 'html.parser')\n"
     ]
    },
    {
     "name": "stdout",
     "output_type": "stream",
     "text": [
      "Saved DataFrame scoring to raw_data\\2023\\Week18\\2023_Week18_LAC_vs_KC\\scoring.csv\n",
      "Saved DataFrame player_offense to raw_data\\2023\\Week18\\2023_Week18_LAC_vs_KC\\player_offense.csv\n",
      "Saved DataFrame game_info to raw_data\\2023\\Week18\\2023_Week18_LAC_vs_KC\\game_info.csv\n",
      "Saved DataFrame officials to raw_data\\2023\\Week18\\2023_Week18_LAC_vs_KC\\officials.csv\n",
      "Saved DataFrame expected_points to raw_data\\2023\\Week18\\2023_Week18_LAC_vs_KC\\expected_points.csv\n",
      "Saved DataFrame team_stats to raw_data\\2023\\Week18\\2023_Week18_LAC_vs_KC\\team_stats.csv\n",
      "Saved DataFrame player_defense to raw_data\\2023\\Week18\\2023_Week18_LAC_vs_KC\\player_defense.csv\n",
      "Saved DataFrame returns to raw_data\\2023\\Week18\\2023_Week18_LAC_vs_KC\\returns.csv\n",
      "Saved DataFrame kicking to raw_data\\2023\\Week18\\2023_Week18_LAC_vs_KC\\kicking.csv\n",
      "Saved DataFrame passing_advanced to raw_data\\2023\\Week18\\2023_Week18_LAC_vs_KC\\passing_advanced.csv\n",
      "Saved DataFrame rushing_advanced to raw_data\\2023\\Week18\\2023_Week18_LAC_vs_KC\\rushing_advanced.csv\n",
      "Saved DataFrame receiving_advanced to raw_data\\2023\\Week18\\2023_Week18_LAC_vs_KC\\receiving_advanced.csv\n",
      "Saved DataFrame defense_advanced to raw_data\\2023\\Week18\\2023_Week18_LAC_vs_KC\\defense_advanced.csv\n",
      "Saved DataFrame home_starters to raw_data\\2023\\Week18\\2023_Week18_LAC_vs_KC\\home_starters.csv\n",
      "Saved DataFrame vis_starters to raw_data\\2023\\Week18\\2023_Week18_LAC_vs_KC\\vis_starters.csv\n",
      "Saved DataFrame home_snap_counts to raw_data\\2023\\Week18\\2023_Week18_LAC_vs_KC\\home_snap_counts.csv\n",
      "Saved DataFrame vis_snap_counts to raw_data\\2023\\Week18\\2023_Week18_LAC_vs_KC\\vis_snap_counts.csv\n",
      "Saved DataFrame home_drives to raw_data\\2023\\Week18\\2023_Week18_LAC_vs_KC\\home_drives.csv\n",
      "Saved DataFrame vis_drives to raw_data\\2023\\Week18\\2023_Week18_LAC_vs_KC\\vis_drives.csv\n",
      "Saved DataFrame pbp to raw_data\\2023\\Week18\\2023_Week18_LAC_vs_KC\\pbp.csv\n"
     ]
    },
    {
     "name": "stderr",
     "output_type": "stream",
     "text": [
      "C:\\Users\\jackj\\AppData\\Local\\Temp\\ipykernel_31996\\1469608065.py:49: MarkupResemblesLocatorWarning: The input looks more like a filename than markup. You may want to open this file and pass the filehandle into Beautiful Soup.\n",
      "  comment_soup = BeautifulSoup(comment, 'html.parser')\n"
     ]
    },
    {
     "name": "stdout",
     "output_type": "stream",
     "text": [
      "Saved DataFrame scoring to raw_data\\2023\\Week18\\2023_Week18_NYG_vs_PHI\\scoring.csv\n",
      "Saved DataFrame player_offense to raw_data\\2023\\Week18\\2023_Week18_NYG_vs_PHI\\player_offense.csv\n",
      "Saved DataFrame game_info to raw_data\\2023\\Week18\\2023_Week18_NYG_vs_PHI\\game_info.csv\n",
      "Saved DataFrame officials to raw_data\\2023\\Week18\\2023_Week18_NYG_vs_PHI\\officials.csv\n",
      "Saved DataFrame expected_points to raw_data\\2023\\Week18\\2023_Week18_NYG_vs_PHI\\expected_points.csv\n",
      "Saved DataFrame team_stats to raw_data\\2023\\Week18\\2023_Week18_NYG_vs_PHI\\team_stats.csv\n",
      "Saved DataFrame player_defense to raw_data\\2023\\Week18\\2023_Week18_NYG_vs_PHI\\player_defense.csv\n",
      "Saved DataFrame returns to raw_data\\2023\\Week18\\2023_Week18_NYG_vs_PHI\\returns.csv\n",
      "Saved DataFrame kicking to raw_data\\2023\\Week18\\2023_Week18_NYG_vs_PHI\\kicking.csv\n",
      "Saved DataFrame passing_advanced to raw_data\\2023\\Week18\\2023_Week18_NYG_vs_PHI\\passing_advanced.csv\n",
      "Saved DataFrame rushing_advanced to raw_data\\2023\\Week18\\2023_Week18_NYG_vs_PHI\\rushing_advanced.csv\n",
      "Saved DataFrame receiving_advanced to raw_data\\2023\\Week18\\2023_Week18_NYG_vs_PHI\\receiving_advanced.csv\n",
      "Saved DataFrame defense_advanced to raw_data\\2023\\Week18\\2023_Week18_NYG_vs_PHI\\defense_advanced.csv\n",
      "Saved DataFrame home_starters to raw_data\\2023\\Week18\\2023_Week18_NYG_vs_PHI\\home_starters.csv\n",
      "Saved DataFrame vis_starters to raw_data\\2023\\Week18\\2023_Week18_NYG_vs_PHI\\vis_starters.csv\n",
      "Saved DataFrame home_snap_counts to raw_data\\2023\\Week18\\2023_Week18_NYG_vs_PHI\\home_snap_counts.csv\n",
      "Saved DataFrame vis_snap_counts to raw_data\\2023\\Week18\\2023_Week18_NYG_vs_PHI\\vis_snap_counts.csv\n",
      "Saved DataFrame home_drives to raw_data\\2023\\Week18\\2023_Week18_NYG_vs_PHI\\home_drives.csv\n",
      "Saved DataFrame vis_drives to raw_data\\2023\\Week18\\2023_Week18_NYG_vs_PHI\\vis_drives.csv\n",
      "Saved DataFrame pbp to raw_data\\2023\\Week18\\2023_Week18_NYG_vs_PHI\\pbp.csv\n"
     ]
    },
    {
     "name": "stderr",
     "output_type": "stream",
     "text": [
      "C:\\Users\\jackj\\AppData\\Local\\Temp\\ipykernel_31996\\1469608065.py:49: MarkupResemblesLocatorWarning: The input looks more like a filename than markup. You may want to open this file and pass the filehandle into Beautiful Soup.\n",
      "  comment_soup = BeautifulSoup(comment, 'html.parser')\n"
     ]
    },
    {
     "name": "stdout",
     "output_type": "stream",
     "text": [
      "Saved DataFrame scoring to raw_data\\2023\\Week18\\2023_Week18_SF_vs_LAR\\scoring.csv\n",
      "Saved DataFrame player_offense to raw_data\\2023\\Week18\\2023_Week18_SF_vs_LAR\\player_offense.csv\n",
      "Saved DataFrame game_info to raw_data\\2023\\Week18\\2023_Week18_SF_vs_LAR\\game_info.csv\n",
      "Saved DataFrame officials to raw_data\\2023\\Week18\\2023_Week18_SF_vs_LAR\\officials.csv\n",
      "Saved DataFrame expected_points to raw_data\\2023\\Week18\\2023_Week18_SF_vs_LAR\\expected_points.csv\n",
      "Saved DataFrame team_stats to raw_data\\2023\\Week18\\2023_Week18_SF_vs_LAR\\team_stats.csv\n",
      "Saved DataFrame player_defense to raw_data\\2023\\Week18\\2023_Week18_SF_vs_LAR\\player_defense.csv\n",
      "Saved DataFrame returns to raw_data\\2023\\Week18\\2023_Week18_SF_vs_LAR\\returns.csv\n",
      "Saved DataFrame kicking to raw_data\\2023\\Week18\\2023_Week18_SF_vs_LAR\\kicking.csv\n",
      "Saved DataFrame passing_advanced to raw_data\\2023\\Week18\\2023_Week18_SF_vs_LAR\\passing_advanced.csv\n",
      "Saved DataFrame rushing_advanced to raw_data\\2023\\Week18\\2023_Week18_SF_vs_LAR\\rushing_advanced.csv\n",
      "Saved DataFrame receiving_advanced to raw_data\\2023\\Week18\\2023_Week18_SF_vs_LAR\\receiving_advanced.csv\n",
      "Saved DataFrame defense_advanced to raw_data\\2023\\Week18\\2023_Week18_SF_vs_LAR\\defense_advanced.csv\n",
      "Saved DataFrame home_starters to raw_data\\2023\\Week18\\2023_Week18_SF_vs_LAR\\home_starters.csv\n",
      "Saved DataFrame vis_starters to raw_data\\2023\\Week18\\2023_Week18_SF_vs_LAR\\vis_starters.csv\n",
      "Saved DataFrame home_snap_counts to raw_data\\2023\\Week18\\2023_Week18_SF_vs_LAR\\home_snap_counts.csv\n",
      "Saved DataFrame vis_snap_counts to raw_data\\2023\\Week18\\2023_Week18_SF_vs_LAR\\vis_snap_counts.csv\n",
      "Saved DataFrame home_drives to raw_data\\2023\\Week18\\2023_Week18_SF_vs_LAR\\home_drives.csv\n",
      "Saved DataFrame vis_drives to raw_data\\2023\\Week18\\2023_Week18_SF_vs_LAR\\vis_drives.csv\n",
      "Saved DataFrame pbp to raw_data\\2023\\Week18\\2023_Week18_SF_vs_LAR\\pbp.csv\n"
     ]
    },
    {
     "name": "stderr",
     "output_type": "stream",
     "text": [
      "C:\\Users\\jackj\\AppData\\Local\\Temp\\ipykernel_31996\\1469608065.py:49: MarkupResemblesLocatorWarning: The input looks more like a filename than markup. You may want to open this file and pass the filehandle into Beautiful Soup.\n",
      "  comment_soup = BeautifulSoup(comment, 'html.parser')\n"
     ]
    },
    {
     "name": "stdout",
     "output_type": "stream",
     "text": [
      "Saved DataFrame scoring to raw_data\\2023\\Week18\\2023_Week18_MIA_vs_BUF\\scoring.csv\n",
      "Saved DataFrame player_offense to raw_data\\2023\\Week18\\2023_Week18_MIA_vs_BUF\\player_offense.csv\n",
      "Saved DataFrame game_info to raw_data\\2023\\Week18\\2023_Week18_MIA_vs_BUF\\game_info.csv\n",
      "Saved DataFrame officials to raw_data\\2023\\Week18\\2023_Week18_MIA_vs_BUF\\officials.csv\n",
      "Saved DataFrame expected_points to raw_data\\2023\\Week18\\2023_Week18_MIA_vs_BUF\\expected_points.csv\n",
      "Saved DataFrame team_stats to raw_data\\2023\\Week18\\2023_Week18_MIA_vs_BUF\\team_stats.csv\n",
      "Saved DataFrame player_defense to raw_data\\2023\\Week18\\2023_Week18_MIA_vs_BUF\\player_defense.csv\n",
      "Saved DataFrame returns to raw_data\\2023\\Week18\\2023_Week18_MIA_vs_BUF\\returns.csv\n",
      "Saved DataFrame kicking to raw_data\\2023\\Week18\\2023_Week18_MIA_vs_BUF\\kicking.csv\n",
      "Saved DataFrame passing_advanced to raw_data\\2023\\Week18\\2023_Week18_MIA_vs_BUF\\passing_advanced.csv\n",
      "Saved DataFrame rushing_advanced to raw_data\\2023\\Week18\\2023_Week18_MIA_vs_BUF\\rushing_advanced.csv\n",
      "Saved DataFrame receiving_advanced to raw_data\\2023\\Week18\\2023_Week18_MIA_vs_BUF\\receiving_advanced.csv\n",
      "Saved DataFrame defense_advanced to raw_data\\2023\\Week18\\2023_Week18_MIA_vs_BUF\\defense_advanced.csv\n",
      "Saved DataFrame home_starters to raw_data\\2023\\Week18\\2023_Week18_MIA_vs_BUF\\home_starters.csv\n",
      "Saved DataFrame vis_starters to raw_data\\2023\\Week18\\2023_Week18_MIA_vs_BUF\\vis_starters.csv\n",
      "Saved DataFrame home_snap_counts to raw_data\\2023\\Week18\\2023_Week18_MIA_vs_BUF\\home_snap_counts.csv\n",
      "Saved DataFrame vis_snap_counts to raw_data\\2023\\Week18\\2023_Week18_MIA_vs_BUF\\vis_snap_counts.csv\n",
      "Saved DataFrame home_drives to raw_data\\2023\\Week18\\2023_Week18_MIA_vs_BUF\\home_drives.csv\n",
      "Saved DataFrame vis_drives to raw_data\\2023\\Week18\\2023_Week18_MIA_vs_BUF\\vis_drives.csv\n",
      "Saved DataFrame pbp to raw_data\\2023\\Week18\\2023_Week18_MIA_vs_BUF\\pbp.csv\n"
     ]
    },
    {
     "name": "stderr",
     "output_type": "stream",
     "text": [
      "C:\\Users\\jackj\\AppData\\Local\\Temp\\ipykernel_31996\\1469608065.py:49: MarkupResemblesLocatorWarning: The input looks more like a filename than markup. You may want to open this file and pass the filehandle into Beautiful Soup.\n",
      "  comment_soup = BeautifulSoup(comment, 'html.parser')\n"
     ]
    },
    {
     "name": "stdout",
     "output_type": "stream",
     "text": [
      "Saved DataFrame scoring to raw_data\\2023\\WildCard\\2023_WildCard_HOU_vs_CLE\\scoring.csv\n",
      "Saved DataFrame player_offense to raw_data\\2023\\WildCard\\2023_WildCard_HOU_vs_CLE\\player_offense.csv\n",
      "Saved DataFrame game_info to raw_data\\2023\\WildCard\\2023_WildCard_HOU_vs_CLE\\game_info.csv\n",
      "Saved DataFrame officials to raw_data\\2023\\WildCard\\2023_WildCard_HOU_vs_CLE\\officials.csv\n",
      "Saved DataFrame expected_points to raw_data\\2023\\WildCard\\2023_WildCard_HOU_vs_CLE\\expected_points.csv\n",
      "Saved DataFrame team_stats to raw_data\\2023\\WildCard\\2023_WildCard_HOU_vs_CLE\\team_stats.csv\n",
      "Saved DataFrame player_defense to raw_data\\2023\\WildCard\\2023_WildCard_HOU_vs_CLE\\player_defense.csv\n",
      "Saved DataFrame returns to raw_data\\2023\\WildCard\\2023_WildCard_HOU_vs_CLE\\returns.csv\n",
      "Saved DataFrame kicking to raw_data\\2023\\WildCard\\2023_WildCard_HOU_vs_CLE\\kicking.csv\n",
      "Saved DataFrame passing_advanced to raw_data\\2023\\WildCard\\2023_WildCard_HOU_vs_CLE\\passing_advanced.csv\n",
      "Saved DataFrame rushing_advanced to raw_data\\2023\\WildCard\\2023_WildCard_HOU_vs_CLE\\rushing_advanced.csv\n",
      "Saved DataFrame receiving_advanced to raw_data\\2023\\WildCard\\2023_WildCard_HOU_vs_CLE\\receiving_advanced.csv\n",
      "Saved DataFrame defense_advanced to raw_data\\2023\\WildCard\\2023_WildCard_HOU_vs_CLE\\defense_advanced.csv\n",
      "Saved DataFrame home_starters to raw_data\\2023\\WildCard\\2023_WildCard_HOU_vs_CLE\\home_starters.csv\n",
      "Saved DataFrame vis_starters to raw_data\\2023\\WildCard\\2023_WildCard_HOU_vs_CLE\\vis_starters.csv\n",
      "Saved DataFrame home_snap_counts to raw_data\\2023\\WildCard\\2023_WildCard_HOU_vs_CLE\\home_snap_counts.csv\n",
      "Saved DataFrame vis_snap_counts to raw_data\\2023\\WildCard\\2023_WildCard_HOU_vs_CLE\\vis_snap_counts.csv\n",
      "Saved DataFrame home_drives to raw_data\\2023\\WildCard\\2023_WildCard_HOU_vs_CLE\\home_drives.csv\n",
      "Saved DataFrame vis_drives to raw_data\\2023\\WildCard\\2023_WildCard_HOU_vs_CLE\\vis_drives.csv\n",
      "Saved DataFrame pbp to raw_data\\2023\\WildCard\\2023_WildCard_HOU_vs_CLE\\pbp.csv\n"
     ]
    },
    {
     "name": "stderr",
     "output_type": "stream",
     "text": [
      "C:\\Users\\jackj\\AppData\\Local\\Temp\\ipykernel_31996\\1469608065.py:49: MarkupResemblesLocatorWarning: The input looks more like a filename than markup. You may want to open this file and pass the filehandle into Beautiful Soup.\n",
      "  comment_soup = BeautifulSoup(comment, 'html.parser')\n"
     ]
    },
    {
     "name": "stdout",
     "output_type": "stream",
     "text": [
      "Saved DataFrame scoring to raw_data\\2023\\WildCard\\2023_WildCard_KC_vs_MIA\\scoring.csv\n",
      "Saved DataFrame player_offense to raw_data\\2023\\WildCard\\2023_WildCard_KC_vs_MIA\\player_offense.csv\n",
      "Saved DataFrame game_info to raw_data\\2023\\WildCard\\2023_WildCard_KC_vs_MIA\\game_info.csv\n",
      "Saved DataFrame officials to raw_data\\2023\\WildCard\\2023_WildCard_KC_vs_MIA\\officials.csv\n",
      "Saved DataFrame expected_points to raw_data\\2023\\WildCard\\2023_WildCard_KC_vs_MIA\\expected_points.csv\n",
      "Saved DataFrame team_stats to raw_data\\2023\\WildCard\\2023_WildCard_KC_vs_MIA\\team_stats.csv\n",
      "Saved DataFrame player_defense to raw_data\\2023\\WildCard\\2023_WildCard_KC_vs_MIA\\player_defense.csv\n",
      "Saved DataFrame returns to raw_data\\2023\\WildCard\\2023_WildCard_KC_vs_MIA\\returns.csv\n",
      "Saved DataFrame kicking to raw_data\\2023\\WildCard\\2023_WildCard_KC_vs_MIA\\kicking.csv\n",
      "Saved DataFrame passing_advanced to raw_data\\2023\\WildCard\\2023_WildCard_KC_vs_MIA\\passing_advanced.csv\n",
      "Saved DataFrame rushing_advanced to raw_data\\2023\\WildCard\\2023_WildCard_KC_vs_MIA\\rushing_advanced.csv\n",
      "Saved DataFrame receiving_advanced to raw_data\\2023\\WildCard\\2023_WildCard_KC_vs_MIA\\receiving_advanced.csv\n",
      "Saved DataFrame defense_advanced to raw_data\\2023\\WildCard\\2023_WildCard_KC_vs_MIA\\defense_advanced.csv\n",
      "Saved DataFrame home_starters to raw_data\\2023\\WildCard\\2023_WildCard_KC_vs_MIA\\home_starters.csv\n",
      "Saved DataFrame vis_starters to raw_data\\2023\\WildCard\\2023_WildCard_KC_vs_MIA\\vis_starters.csv\n",
      "Saved DataFrame home_snap_counts to raw_data\\2023\\WildCard\\2023_WildCard_KC_vs_MIA\\home_snap_counts.csv\n",
      "Saved DataFrame vis_snap_counts to raw_data\\2023\\WildCard\\2023_WildCard_KC_vs_MIA\\vis_snap_counts.csv\n",
      "Saved DataFrame home_drives to raw_data\\2023\\WildCard\\2023_WildCard_KC_vs_MIA\\home_drives.csv\n",
      "Saved DataFrame vis_drives to raw_data\\2023\\WildCard\\2023_WildCard_KC_vs_MIA\\vis_drives.csv\n",
      "Saved DataFrame pbp to raw_data\\2023\\WildCard\\2023_WildCard_KC_vs_MIA\\pbp.csv\n"
     ]
    },
    {
     "name": "stderr",
     "output_type": "stream",
     "text": [
      "C:\\Users\\jackj\\AppData\\Local\\Temp\\ipykernel_31996\\1469608065.py:49: MarkupResemblesLocatorWarning: The input looks more like a filename than markup. You may want to open this file and pass the filehandle into Beautiful Soup.\n",
      "  comment_soup = BeautifulSoup(comment, 'html.parser')\n"
     ]
    },
    {
     "name": "stdout",
     "output_type": "stream",
     "text": [
      "Saved DataFrame scoring to raw_data\\2023\\WildCard\\2023_WildCard_DAL_vs_GB\\scoring.csv\n",
      "Saved DataFrame player_offense to raw_data\\2023\\WildCard\\2023_WildCard_DAL_vs_GB\\player_offense.csv\n",
      "Saved DataFrame game_info to raw_data\\2023\\WildCard\\2023_WildCard_DAL_vs_GB\\game_info.csv\n",
      "Saved DataFrame officials to raw_data\\2023\\WildCard\\2023_WildCard_DAL_vs_GB\\officials.csv\n",
      "Saved DataFrame expected_points to raw_data\\2023\\WildCard\\2023_WildCard_DAL_vs_GB\\expected_points.csv\n",
      "Saved DataFrame team_stats to raw_data\\2023\\WildCard\\2023_WildCard_DAL_vs_GB\\team_stats.csv\n",
      "Saved DataFrame player_defense to raw_data\\2023\\WildCard\\2023_WildCard_DAL_vs_GB\\player_defense.csv\n",
      "Saved DataFrame returns to raw_data\\2023\\WildCard\\2023_WildCard_DAL_vs_GB\\returns.csv\n",
      "Saved DataFrame kicking to raw_data\\2023\\WildCard\\2023_WildCard_DAL_vs_GB\\kicking.csv\n",
      "Saved DataFrame passing_advanced to raw_data\\2023\\WildCard\\2023_WildCard_DAL_vs_GB\\passing_advanced.csv\n",
      "Saved DataFrame rushing_advanced to raw_data\\2023\\WildCard\\2023_WildCard_DAL_vs_GB\\rushing_advanced.csv\n",
      "Saved DataFrame receiving_advanced to raw_data\\2023\\WildCard\\2023_WildCard_DAL_vs_GB\\receiving_advanced.csv\n",
      "Saved DataFrame defense_advanced to raw_data\\2023\\WildCard\\2023_WildCard_DAL_vs_GB\\defense_advanced.csv\n",
      "Saved DataFrame home_starters to raw_data\\2023\\WildCard\\2023_WildCard_DAL_vs_GB\\home_starters.csv\n",
      "Saved DataFrame vis_starters to raw_data\\2023\\WildCard\\2023_WildCard_DAL_vs_GB\\vis_starters.csv\n",
      "Saved DataFrame home_snap_counts to raw_data\\2023\\WildCard\\2023_WildCard_DAL_vs_GB\\home_snap_counts.csv\n",
      "Saved DataFrame vis_snap_counts to raw_data\\2023\\WildCard\\2023_WildCard_DAL_vs_GB\\vis_snap_counts.csv\n",
      "Saved DataFrame home_drives to raw_data\\2023\\WildCard\\2023_WildCard_DAL_vs_GB\\home_drives.csv\n",
      "Saved DataFrame vis_drives to raw_data\\2023\\WildCard\\2023_WildCard_DAL_vs_GB\\vis_drives.csv\n",
      "Saved DataFrame pbp to raw_data\\2023\\WildCard\\2023_WildCard_DAL_vs_GB\\pbp.csv\n"
     ]
    },
    {
     "name": "stderr",
     "output_type": "stream",
     "text": [
      "C:\\Users\\jackj\\AppData\\Local\\Temp\\ipykernel_31996\\1469608065.py:49: MarkupResemblesLocatorWarning: The input looks more like a filename than markup. You may want to open this file and pass the filehandle into Beautiful Soup.\n",
      "  comment_soup = BeautifulSoup(comment, 'html.parser')\n"
     ]
    },
    {
     "name": "stdout",
     "output_type": "stream",
     "text": [
      "Saved DataFrame scoring to raw_data\\2023\\WildCard\\2023_WildCard_DET_vs_LAR\\scoring.csv\n",
      "Saved DataFrame player_offense to raw_data\\2023\\WildCard\\2023_WildCard_DET_vs_LAR\\player_offense.csv\n",
      "Saved DataFrame game_info to raw_data\\2023\\WildCard\\2023_WildCard_DET_vs_LAR\\game_info.csv\n",
      "Saved DataFrame officials to raw_data\\2023\\WildCard\\2023_WildCard_DET_vs_LAR\\officials.csv\n",
      "Saved DataFrame expected_points to raw_data\\2023\\WildCard\\2023_WildCard_DET_vs_LAR\\expected_points.csv\n",
      "Saved DataFrame team_stats to raw_data\\2023\\WildCard\\2023_WildCard_DET_vs_LAR\\team_stats.csv\n",
      "Saved DataFrame player_defense to raw_data\\2023\\WildCard\\2023_WildCard_DET_vs_LAR\\player_defense.csv\n",
      "Saved DataFrame returns to raw_data\\2023\\WildCard\\2023_WildCard_DET_vs_LAR\\returns.csv\n",
      "Saved DataFrame kicking to raw_data\\2023\\WildCard\\2023_WildCard_DET_vs_LAR\\kicking.csv\n",
      "Saved DataFrame passing_advanced to raw_data\\2023\\WildCard\\2023_WildCard_DET_vs_LAR\\passing_advanced.csv\n",
      "Saved DataFrame rushing_advanced to raw_data\\2023\\WildCard\\2023_WildCard_DET_vs_LAR\\rushing_advanced.csv\n",
      "Saved DataFrame receiving_advanced to raw_data\\2023\\WildCard\\2023_WildCard_DET_vs_LAR\\receiving_advanced.csv\n",
      "Saved DataFrame defense_advanced to raw_data\\2023\\WildCard\\2023_WildCard_DET_vs_LAR\\defense_advanced.csv\n",
      "Saved DataFrame home_starters to raw_data\\2023\\WildCard\\2023_WildCard_DET_vs_LAR\\home_starters.csv\n",
      "Saved DataFrame vis_starters to raw_data\\2023\\WildCard\\2023_WildCard_DET_vs_LAR\\vis_starters.csv\n",
      "Saved DataFrame home_snap_counts to raw_data\\2023\\WildCard\\2023_WildCard_DET_vs_LAR\\home_snap_counts.csv\n",
      "Saved DataFrame vis_snap_counts to raw_data\\2023\\WildCard\\2023_WildCard_DET_vs_LAR\\vis_snap_counts.csv\n",
      "Saved DataFrame home_drives to raw_data\\2023\\WildCard\\2023_WildCard_DET_vs_LAR\\home_drives.csv\n",
      "Saved DataFrame vis_drives to raw_data\\2023\\WildCard\\2023_WildCard_DET_vs_LAR\\vis_drives.csv\n",
      "Saved DataFrame pbp to raw_data\\2023\\WildCard\\2023_WildCard_DET_vs_LAR\\pbp.csv\n"
     ]
    },
    {
     "name": "stderr",
     "output_type": "stream",
     "text": [
      "C:\\Users\\jackj\\AppData\\Local\\Temp\\ipykernel_31996\\1469608065.py:49: MarkupResemblesLocatorWarning: The input looks more like a filename than markup. You may want to open this file and pass the filehandle into Beautiful Soup.\n",
      "  comment_soup = BeautifulSoup(comment, 'html.parser')\n"
     ]
    },
    {
     "name": "stdout",
     "output_type": "stream",
     "text": [
      "Saved DataFrame scoring to raw_data\\2023\\WildCard\\2023_WildCard_BUF_vs_PIT\\scoring.csv\n",
      "Saved DataFrame player_offense to raw_data\\2023\\WildCard\\2023_WildCard_BUF_vs_PIT\\player_offense.csv\n",
      "Saved DataFrame game_info to raw_data\\2023\\WildCard\\2023_WildCard_BUF_vs_PIT\\game_info.csv\n",
      "Saved DataFrame officials to raw_data\\2023\\WildCard\\2023_WildCard_BUF_vs_PIT\\officials.csv\n",
      "Saved DataFrame expected_points to raw_data\\2023\\WildCard\\2023_WildCard_BUF_vs_PIT\\expected_points.csv\n",
      "Saved DataFrame team_stats to raw_data\\2023\\WildCard\\2023_WildCard_BUF_vs_PIT\\team_stats.csv\n",
      "Saved DataFrame player_defense to raw_data\\2023\\WildCard\\2023_WildCard_BUF_vs_PIT\\player_defense.csv\n",
      "Saved DataFrame returns to raw_data\\2023\\WildCard\\2023_WildCard_BUF_vs_PIT\\returns.csv\n",
      "Saved DataFrame kicking to raw_data\\2023\\WildCard\\2023_WildCard_BUF_vs_PIT\\kicking.csv\n",
      "Saved DataFrame passing_advanced to raw_data\\2023\\WildCard\\2023_WildCard_BUF_vs_PIT\\passing_advanced.csv\n",
      "Saved DataFrame rushing_advanced to raw_data\\2023\\WildCard\\2023_WildCard_BUF_vs_PIT\\rushing_advanced.csv\n",
      "Saved DataFrame receiving_advanced to raw_data\\2023\\WildCard\\2023_WildCard_BUF_vs_PIT\\receiving_advanced.csv\n",
      "Saved DataFrame defense_advanced to raw_data\\2023\\WildCard\\2023_WildCard_BUF_vs_PIT\\defense_advanced.csv\n",
      "Saved DataFrame home_starters to raw_data\\2023\\WildCard\\2023_WildCard_BUF_vs_PIT\\home_starters.csv\n",
      "Saved DataFrame vis_starters to raw_data\\2023\\WildCard\\2023_WildCard_BUF_vs_PIT\\vis_starters.csv\n",
      "Saved DataFrame home_snap_counts to raw_data\\2023\\WildCard\\2023_WildCard_BUF_vs_PIT\\home_snap_counts.csv\n",
      "Saved DataFrame vis_snap_counts to raw_data\\2023\\WildCard\\2023_WildCard_BUF_vs_PIT\\vis_snap_counts.csv\n",
      "Saved DataFrame home_drives to raw_data\\2023\\WildCard\\2023_WildCard_BUF_vs_PIT\\home_drives.csv\n",
      "Saved DataFrame vis_drives to raw_data\\2023\\WildCard\\2023_WildCard_BUF_vs_PIT\\vis_drives.csv\n",
      "Saved DataFrame pbp to raw_data\\2023\\WildCard\\2023_WildCard_BUF_vs_PIT\\pbp.csv\n"
     ]
    },
    {
     "name": "stderr",
     "output_type": "stream",
     "text": [
      "C:\\Users\\jackj\\AppData\\Local\\Temp\\ipykernel_31996\\1469608065.py:49: MarkupResemblesLocatorWarning: The input looks more like a filename than markup. You may want to open this file and pass the filehandle into Beautiful Soup.\n",
      "  comment_soup = BeautifulSoup(comment, 'html.parser')\n"
     ]
    },
    {
     "name": "stdout",
     "output_type": "stream",
     "text": [
      "Saved DataFrame scoring to raw_data\\2023\\WildCard\\2023_WildCard_TB_vs_PHI\\scoring.csv\n",
      "Saved DataFrame player_offense to raw_data\\2023\\WildCard\\2023_WildCard_TB_vs_PHI\\player_offense.csv\n",
      "Saved DataFrame game_info to raw_data\\2023\\WildCard\\2023_WildCard_TB_vs_PHI\\game_info.csv\n",
      "Saved DataFrame officials to raw_data\\2023\\WildCard\\2023_WildCard_TB_vs_PHI\\officials.csv\n",
      "Saved DataFrame expected_points to raw_data\\2023\\WildCard\\2023_WildCard_TB_vs_PHI\\expected_points.csv\n",
      "Saved DataFrame team_stats to raw_data\\2023\\WildCard\\2023_WildCard_TB_vs_PHI\\team_stats.csv\n",
      "Saved DataFrame player_defense to raw_data\\2023\\WildCard\\2023_WildCard_TB_vs_PHI\\player_defense.csv\n",
      "Saved DataFrame returns to raw_data\\2023\\WildCard\\2023_WildCard_TB_vs_PHI\\returns.csv\n",
      "Saved DataFrame kicking to raw_data\\2023\\WildCard\\2023_WildCard_TB_vs_PHI\\kicking.csv\n",
      "Saved DataFrame passing_advanced to raw_data\\2023\\WildCard\\2023_WildCard_TB_vs_PHI\\passing_advanced.csv\n",
      "Saved DataFrame rushing_advanced to raw_data\\2023\\WildCard\\2023_WildCard_TB_vs_PHI\\rushing_advanced.csv\n",
      "Saved DataFrame receiving_advanced to raw_data\\2023\\WildCard\\2023_WildCard_TB_vs_PHI\\receiving_advanced.csv\n",
      "Saved DataFrame defense_advanced to raw_data\\2023\\WildCard\\2023_WildCard_TB_vs_PHI\\defense_advanced.csv\n",
      "Saved DataFrame home_starters to raw_data\\2023\\WildCard\\2023_WildCard_TB_vs_PHI\\home_starters.csv\n",
      "Saved DataFrame vis_starters to raw_data\\2023\\WildCard\\2023_WildCard_TB_vs_PHI\\vis_starters.csv\n",
      "Saved DataFrame home_snap_counts to raw_data\\2023\\WildCard\\2023_WildCard_TB_vs_PHI\\home_snap_counts.csv\n",
      "Saved DataFrame vis_snap_counts to raw_data\\2023\\WildCard\\2023_WildCard_TB_vs_PHI\\vis_snap_counts.csv\n",
      "Saved DataFrame home_drives to raw_data\\2023\\WildCard\\2023_WildCard_TB_vs_PHI\\home_drives.csv\n",
      "Saved DataFrame vis_drives to raw_data\\2023\\WildCard\\2023_WildCard_TB_vs_PHI\\vis_drives.csv\n",
      "Saved DataFrame pbp to raw_data\\2023\\WildCard\\2023_WildCard_TB_vs_PHI\\pbp.csv\n"
     ]
    },
    {
     "name": "stderr",
     "output_type": "stream",
     "text": [
      "C:\\Users\\jackj\\AppData\\Local\\Temp\\ipykernel_31996\\1469608065.py:49: MarkupResemblesLocatorWarning: The input looks more like a filename than markup. You may want to open this file and pass the filehandle into Beautiful Soup.\n",
      "  comment_soup = BeautifulSoup(comment, 'html.parser')\n"
     ]
    },
    {
     "name": "stdout",
     "output_type": "stream",
     "text": [
      "Saved DataFrame scoring to raw_data\\2023\\Division\\2023_Division_BAL_vs_HOU\\scoring.csv\n",
      "Saved DataFrame player_offense to raw_data\\2023\\Division\\2023_Division_BAL_vs_HOU\\player_offense.csv\n",
      "Saved DataFrame game_info to raw_data\\2023\\Division\\2023_Division_BAL_vs_HOU\\game_info.csv\n",
      "Saved DataFrame officials to raw_data\\2023\\Division\\2023_Division_BAL_vs_HOU\\officials.csv\n",
      "Saved DataFrame expected_points to raw_data\\2023\\Division\\2023_Division_BAL_vs_HOU\\expected_points.csv\n",
      "Saved DataFrame team_stats to raw_data\\2023\\Division\\2023_Division_BAL_vs_HOU\\team_stats.csv\n",
      "Saved DataFrame player_defense to raw_data\\2023\\Division\\2023_Division_BAL_vs_HOU\\player_defense.csv\n",
      "Saved DataFrame returns to raw_data\\2023\\Division\\2023_Division_BAL_vs_HOU\\returns.csv\n",
      "Saved DataFrame kicking to raw_data\\2023\\Division\\2023_Division_BAL_vs_HOU\\kicking.csv\n",
      "Saved DataFrame passing_advanced to raw_data\\2023\\Division\\2023_Division_BAL_vs_HOU\\passing_advanced.csv\n",
      "Saved DataFrame rushing_advanced to raw_data\\2023\\Division\\2023_Division_BAL_vs_HOU\\rushing_advanced.csv\n",
      "Saved DataFrame receiving_advanced to raw_data\\2023\\Division\\2023_Division_BAL_vs_HOU\\receiving_advanced.csv\n",
      "Saved DataFrame defense_advanced to raw_data\\2023\\Division\\2023_Division_BAL_vs_HOU\\defense_advanced.csv\n",
      "Saved DataFrame home_starters to raw_data\\2023\\Division\\2023_Division_BAL_vs_HOU\\home_starters.csv\n",
      "Saved DataFrame vis_starters to raw_data\\2023\\Division\\2023_Division_BAL_vs_HOU\\vis_starters.csv\n",
      "Saved DataFrame home_snap_counts to raw_data\\2023\\Division\\2023_Division_BAL_vs_HOU\\home_snap_counts.csv\n",
      "Saved DataFrame vis_snap_counts to raw_data\\2023\\Division\\2023_Division_BAL_vs_HOU\\vis_snap_counts.csv\n",
      "Saved DataFrame home_drives to raw_data\\2023\\Division\\2023_Division_BAL_vs_HOU\\home_drives.csv\n",
      "Saved DataFrame vis_drives to raw_data\\2023\\Division\\2023_Division_BAL_vs_HOU\\vis_drives.csv\n",
      "Saved DataFrame pbp to raw_data\\2023\\Division\\2023_Division_BAL_vs_HOU\\pbp.csv\n"
     ]
    },
    {
     "name": "stderr",
     "output_type": "stream",
     "text": [
      "C:\\Users\\jackj\\AppData\\Local\\Temp\\ipykernel_31996\\1469608065.py:49: MarkupResemblesLocatorWarning: The input looks more like a filename than markup. You may want to open this file and pass the filehandle into Beautiful Soup.\n",
      "  comment_soup = BeautifulSoup(comment, 'html.parser')\n"
     ]
    },
    {
     "name": "stdout",
     "output_type": "stream",
     "text": [
      "Saved DataFrame scoring to raw_data\\2023\\Division\\2023_Division_SF_vs_GB\\scoring.csv\n",
      "Saved DataFrame player_offense to raw_data\\2023\\Division\\2023_Division_SF_vs_GB\\player_offense.csv\n",
      "Saved DataFrame game_info to raw_data\\2023\\Division\\2023_Division_SF_vs_GB\\game_info.csv\n",
      "Saved DataFrame officials to raw_data\\2023\\Division\\2023_Division_SF_vs_GB\\officials.csv\n",
      "Saved DataFrame expected_points to raw_data\\2023\\Division\\2023_Division_SF_vs_GB\\expected_points.csv\n",
      "Saved DataFrame team_stats to raw_data\\2023\\Division\\2023_Division_SF_vs_GB\\team_stats.csv\n",
      "Saved DataFrame player_defense to raw_data\\2023\\Division\\2023_Division_SF_vs_GB\\player_defense.csv\n",
      "Saved DataFrame returns to raw_data\\2023\\Division\\2023_Division_SF_vs_GB\\returns.csv\n",
      "Saved DataFrame kicking to raw_data\\2023\\Division\\2023_Division_SF_vs_GB\\kicking.csv\n",
      "Saved DataFrame passing_advanced to raw_data\\2023\\Division\\2023_Division_SF_vs_GB\\passing_advanced.csv\n",
      "Saved DataFrame rushing_advanced to raw_data\\2023\\Division\\2023_Division_SF_vs_GB\\rushing_advanced.csv\n",
      "Saved DataFrame receiving_advanced to raw_data\\2023\\Division\\2023_Division_SF_vs_GB\\receiving_advanced.csv\n",
      "Saved DataFrame defense_advanced to raw_data\\2023\\Division\\2023_Division_SF_vs_GB\\defense_advanced.csv\n",
      "Saved DataFrame home_starters to raw_data\\2023\\Division\\2023_Division_SF_vs_GB\\home_starters.csv\n",
      "Saved DataFrame vis_starters to raw_data\\2023\\Division\\2023_Division_SF_vs_GB\\vis_starters.csv\n",
      "Saved DataFrame home_snap_counts to raw_data\\2023\\Division\\2023_Division_SF_vs_GB\\home_snap_counts.csv\n",
      "Saved DataFrame vis_snap_counts to raw_data\\2023\\Division\\2023_Division_SF_vs_GB\\vis_snap_counts.csv\n",
      "Saved DataFrame home_drives to raw_data\\2023\\Division\\2023_Division_SF_vs_GB\\home_drives.csv\n",
      "Saved DataFrame vis_drives to raw_data\\2023\\Division\\2023_Division_SF_vs_GB\\vis_drives.csv\n",
      "Saved DataFrame pbp to raw_data\\2023\\Division\\2023_Division_SF_vs_GB\\pbp.csv\n"
     ]
    },
    {
     "name": "stderr",
     "output_type": "stream",
     "text": [
      "C:\\Users\\jackj\\AppData\\Local\\Temp\\ipykernel_31996\\1469608065.py:49: MarkupResemblesLocatorWarning: The input looks more like a filename than markup. You may want to open this file and pass the filehandle into Beautiful Soup.\n",
      "  comment_soup = BeautifulSoup(comment, 'html.parser')\n"
     ]
    },
    {
     "name": "stdout",
     "output_type": "stream",
     "text": [
      "Saved DataFrame scoring to raw_data\\2023\\Division\\2023_Division_DET_vs_TB\\scoring.csv\n",
      "Saved DataFrame player_offense to raw_data\\2023\\Division\\2023_Division_DET_vs_TB\\player_offense.csv\n",
      "Saved DataFrame game_info to raw_data\\2023\\Division\\2023_Division_DET_vs_TB\\game_info.csv\n",
      "Saved DataFrame officials to raw_data\\2023\\Division\\2023_Division_DET_vs_TB\\officials.csv\n",
      "Saved DataFrame expected_points to raw_data\\2023\\Division\\2023_Division_DET_vs_TB\\expected_points.csv\n",
      "Saved DataFrame team_stats to raw_data\\2023\\Division\\2023_Division_DET_vs_TB\\team_stats.csv\n",
      "Saved DataFrame player_defense to raw_data\\2023\\Division\\2023_Division_DET_vs_TB\\player_defense.csv\n",
      "Saved DataFrame returns to raw_data\\2023\\Division\\2023_Division_DET_vs_TB\\returns.csv\n",
      "Saved DataFrame kicking to raw_data\\2023\\Division\\2023_Division_DET_vs_TB\\kicking.csv\n",
      "Saved DataFrame passing_advanced to raw_data\\2023\\Division\\2023_Division_DET_vs_TB\\passing_advanced.csv\n",
      "Saved DataFrame rushing_advanced to raw_data\\2023\\Division\\2023_Division_DET_vs_TB\\rushing_advanced.csv\n",
      "Saved DataFrame receiving_advanced to raw_data\\2023\\Division\\2023_Division_DET_vs_TB\\receiving_advanced.csv\n",
      "Saved DataFrame defense_advanced to raw_data\\2023\\Division\\2023_Division_DET_vs_TB\\defense_advanced.csv\n",
      "Saved DataFrame home_starters to raw_data\\2023\\Division\\2023_Division_DET_vs_TB\\home_starters.csv\n",
      "Saved DataFrame vis_starters to raw_data\\2023\\Division\\2023_Division_DET_vs_TB\\vis_starters.csv\n",
      "Saved DataFrame home_snap_counts to raw_data\\2023\\Division\\2023_Division_DET_vs_TB\\home_snap_counts.csv\n",
      "Saved DataFrame vis_snap_counts to raw_data\\2023\\Division\\2023_Division_DET_vs_TB\\vis_snap_counts.csv\n",
      "Saved DataFrame home_drives to raw_data\\2023\\Division\\2023_Division_DET_vs_TB\\home_drives.csv\n",
      "Saved DataFrame vis_drives to raw_data\\2023\\Division\\2023_Division_DET_vs_TB\\vis_drives.csv\n",
      "Saved DataFrame pbp to raw_data\\2023\\Division\\2023_Division_DET_vs_TB\\pbp.csv\n"
     ]
    },
    {
     "name": "stderr",
     "output_type": "stream",
     "text": [
      "C:\\Users\\jackj\\AppData\\Local\\Temp\\ipykernel_31996\\1469608065.py:49: MarkupResemblesLocatorWarning: The input looks more like a filename than markup. You may want to open this file and pass the filehandle into Beautiful Soup.\n",
      "  comment_soup = BeautifulSoup(comment, 'html.parser')\n"
     ]
    },
    {
     "name": "stdout",
     "output_type": "stream",
     "text": [
      "Saved DataFrame scoring to raw_data\\2023\\Division\\2023_Division_BUF_vs_KC\\scoring.csv\n",
      "Saved DataFrame player_offense to raw_data\\2023\\Division\\2023_Division_BUF_vs_KC\\player_offense.csv\n",
      "Saved DataFrame game_info to raw_data\\2023\\Division\\2023_Division_BUF_vs_KC\\game_info.csv\n",
      "Saved DataFrame officials to raw_data\\2023\\Division\\2023_Division_BUF_vs_KC\\officials.csv\n",
      "Saved DataFrame expected_points to raw_data\\2023\\Division\\2023_Division_BUF_vs_KC\\expected_points.csv\n",
      "Saved DataFrame team_stats to raw_data\\2023\\Division\\2023_Division_BUF_vs_KC\\team_stats.csv\n",
      "Saved DataFrame player_defense to raw_data\\2023\\Division\\2023_Division_BUF_vs_KC\\player_defense.csv\n",
      "Saved DataFrame returns to raw_data\\2023\\Division\\2023_Division_BUF_vs_KC\\returns.csv\n",
      "Saved DataFrame kicking to raw_data\\2023\\Division\\2023_Division_BUF_vs_KC\\kicking.csv\n",
      "Saved DataFrame passing_advanced to raw_data\\2023\\Division\\2023_Division_BUF_vs_KC\\passing_advanced.csv\n",
      "Saved DataFrame rushing_advanced to raw_data\\2023\\Division\\2023_Division_BUF_vs_KC\\rushing_advanced.csv\n",
      "Saved DataFrame receiving_advanced to raw_data\\2023\\Division\\2023_Division_BUF_vs_KC\\receiving_advanced.csv\n",
      "Saved DataFrame defense_advanced to raw_data\\2023\\Division\\2023_Division_BUF_vs_KC\\defense_advanced.csv\n",
      "Saved DataFrame home_starters to raw_data\\2023\\Division\\2023_Division_BUF_vs_KC\\home_starters.csv\n",
      "Saved DataFrame vis_starters to raw_data\\2023\\Division\\2023_Division_BUF_vs_KC\\vis_starters.csv\n",
      "Saved DataFrame home_snap_counts to raw_data\\2023\\Division\\2023_Division_BUF_vs_KC\\home_snap_counts.csv\n",
      "Saved DataFrame vis_snap_counts to raw_data\\2023\\Division\\2023_Division_BUF_vs_KC\\vis_snap_counts.csv\n",
      "Saved DataFrame home_drives to raw_data\\2023\\Division\\2023_Division_BUF_vs_KC\\home_drives.csv\n",
      "Saved DataFrame vis_drives to raw_data\\2023\\Division\\2023_Division_BUF_vs_KC\\vis_drives.csv\n",
      "Saved DataFrame pbp to raw_data\\2023\\Division\\2023_Division_BUF_vs_KC\\pbp.csv\n"
     ]
    },
    {
     "name": "stderr",
     "output_type": "stream",
     "text": [
      "C:\\Users\\jackj\\AppData\\Local\\Temp\\ipykernel_31996\\1469608065.py:49: MarkupResemblesLocatorWarning: The input looks more like a filename than markup. You may want to open this file and pass the filehandle into Beautiful Soup.\n",
      "  comment_soup = BeautifulSoup(comment, 'html.parser')\n"
     ]
    },
    {
     "name": "stdout",
     "output_type": "stream",
     "text": [
      "Saved DataFrame scoring to raw_data\\2023\\ConfChamp\\2023_ConfChamp_BAL_vs_KC\\scoring.csv\n",
      "Saved DataFrame player_offense to raw_data\\2023\\ConfChamp\\2023_ConfChamp_BAL_vs_KC\\player_offense.csv\n",
      "Saved DataFrame game_info to raw_data\\2023\\ConfChamp\\2023_ConfChamp_BAL_vs_KC\\game_info.csv\n",
      "Saved DataFrame officials to raw_data\\2023\\ConfChamp\\2023_ConfChamp_BAL_vs_KC\\officials.csv\n",
      "Saved DataFrame expected_points to raw_data\\2023\\ConfChamp\\2023_ConfChamp_BAL_vs_KC\\expected_points.csv\n",
      "Saved DataFrame team_stats to raw_data\\2023\\ConfChamp\\2023_ConfChamp_BAL_vs_KC\\team_stats.csv\n",
      "Saved DataFrame player_defense to raw_data\\2023\\ConfChamp\\2023_ConfChamp_BAL_vs_KC\\player_defense.csv\n",
      "Saved DataFrame returns to raw_data\\2023\\ConfChamp\\2023_ConfChamp_BAL_vs_KC\\returns.csv\n",
      "Saved DataFrame kicking to raw_data\\2023\\ConfChamp\\2023_ConfChamp_BAL_vs_KC\\kicking.csv\n",
      "Saved DataFrame passing_advanced to raw_data\\2023\\ConfChamp\\2023_ConfChamp_BAL_vs_KC\\passing_advanced.csv\n",
      "Saved DataFrame rushing_advanced to raw_data\\2023\\ConfChamp\\2023_ConfChamp_BAL_vs_KC\\rushing_advanced.csv\n",
      "Saved DataFrame receiving_advanced to raw_data\\2023\\ConfChamp\\2023_ConfChamp_BAL_vs_KC\\receiving_advanced.csv\n",
      "Saved DataFrame defense_advanced to raw_data\\2023\\ConfChamp\\2023_ConfChamp_BAL_vs_KC\\defense_advanced.csv\n",
      "Saved DataFrame home_starters to raw_data\\2023\\ConfChamp\\2023_ConfChamp_BAL_vs_KC\\home_starters.csv\n",
      "Saved DataFrame vis_starters to raw_data\\2023\\ConfChamp\\2023_ConfChamp_BAL_vs_KC\\vis_starters.csv\n",
      "Saved DataFrame home_snap_counts to raw_data\\2023\\ConfChamp\\2023_ConfChamp_BAL_vs_KC\\home_snap_counts.csv\n",
      "Saved DataFrame vis_snap_counts to raw_data\\2023\\ConfChamp\\2023_ConfChamp_BAL_vs_KC\\vis_snap_counts.csv\n",
      "Saved DataFrame home_drives to raw_data\\2023\\ConfChamp\\2023_ConfChamp_BAL_vs_KC\\home_drives.csv\n",
      "Saved DataFrame vis_drives to raw_data\\2023\\ConfChamp\\2023_ConfChamp_BAL_vs_KC\\vis_drives.csv\n",
      "Saved DataFrame pbp to raw_data\\2023\\ConfChamp\\2023_ConfChamp_BAL_vs_KC\\pbp.csv\n"
     ]
    },
    {
     "name": "stderr",
     "output_type": "stream",
     "text": [
      "C:\\Users\\jackj\\AppData\\Local\\Temp\\ipykernel_31996\\1469608065.py:49: MarkupResemblesLocatorWarning: The input looks more like a filename than markup. You may want to open this file and pass the filehandle into Beautiful Soup.\n",
      "  comment_soup = BeautifulSoup(comment, 'html.parser')\n"
     ]
    },
    {
     "name": "stdout",
     "output_type": "stream",
     "text": [
      "Saved DataFrame scoring to raw_data\\2023\\ConfChamp\\2023_ConfChamp_SF_vs_DET\\scoring.csv\n",
      "Saved DataFrame player_offense to raw_data\\2023\\ConfChamp\\2023_ConfChamp_SF_vs_DET\\player_offense.csv\n",
      "Saved DataFrame game_info to raw_data\\2023\\ConfChamp\\2023_ConfChamp_SF_vs_DET\\game_info.csv\n",
      "Saved DataFrame officials to raw_data\\2023\\ConfChamp\\2023_ConfChamp_SF_vs_DET\\officials.csv\n",
      "Saved DataFrame expected_points to raw_data\\2023\\ConfChamp\\2023_ConfChamp_SF_vs_DET\\expected_points.csv\n",
      "Saved DataFrame team_stats to raw_data\\2023\\ConfChamp\\2023_ConfChamp_SF_vs_DET\\team_stats.csv\n",
      "Saved DataFrame player_defense to raw_data\\2023\\ConfChamp\\2023_ConfChamp_SF_vs_DET\\player_defense.csv\n",
      "Saved DataFrame returns to raw_data\\2023\\ConfChamp\\2023_ConfChamp_SF_vs_DET\\returns.csv\n",
      "Saved DataFrame kicking to raw_data\\2023\\ConfChamp\\2023_ConfChamp_SF_vs_DET\\kicking.csv\n",
      "Saved DataFrame passing_advanced to raw_data\\2023\\ConfChamp\\2023_ConfChamp_SF_vs_DET\\passing_advanced.csv\n",
      "Saved DataFrame rushing_advanced to raw_data\\2023\\ConfChamp\\2023_ConfChamp_SF_vs_DET\\rushing_advanced.csv\n",
      "Saved DataFrame receiving_advanced to raw_data\\2023\\ConfChamp\\2023_ConfChamp_SF_vs_DET\\receiving_advanced.csv\n",
      "Saved DataFrame defense_advanced to raw_data\\2023\\ConfChamp\\2023_ConfChamp_SF_vs_DET\\defense_advanced.csv\n",
      "Saved DataFrame home_starters to raw_data\\2023\\ConfChamp\\2023_ConfChamp_SF_vs_DET\\home_starters.csv\n",
      "Saved DataFrame vis_starters to raw_data\\2023\\ConfChamp\\2023_ConfChamp_SF_vs_DET\\vis_starters.csv\n",
      "Saved DataFrame home_snap_counts to raw_data\\2023\\ConfChamp\\2023_ConfChamp_SF_vs_DET\\home_snap_counts.csv\n",
      "Saved DataFrame vis_snap_counts to raw_data\\2023\\ConfChamp\\2023_ConfChamp_SF_vs_DET\\vis_snap_counts.csv\n",
      "Saved DataFrame home_drives to raw_data\\2023\\ConfChamp\\2023_ConfChamp_SF_vs_DET\\home_drives.csv\n",
      "Saved DataFrame vis_drives to raw_data\\2023\\ConfChamp\\2023_ConfChamp_SF_vs_DET\\vis_drives.csv\n",
      "Saved DataFrame pbp to raw_data\\2023\\ConfChamp\\2023_ConfChamp_SF_vs_DET\\pbp.csv\n"
     ]
    },
    {
     "name": "stderr",
     "output_type": "stream",
     "text": [
      "C:\\Users\\jackj\\AppData\\Local\\Temp\\ipykernel_31996\\1469608065.py:49: MarkupResemblesLocatorWarning: The input looks more like a filename than markup. You may want to open this file and pass the filehandle into Beautiful Soup.\n",
      "  comment_soup = BeautifulSoup(comment, 'html.parser')\n"
     ]
    },
    {
     "name": "stdout",
     "output_type": "stream",
     "text": [
      "Saved DataFrame scoring to raw_data\\2023\\SuperBowl\\2023_SuperBowl_SF_vs_KC\\scoring.csv\n",
      "Saved DataFrame player_offense to raw_data\\2023\\SuperBowl\\2023_SuperBowl_SF_vs_KC\\player_offense.csv\n",
      "Saved DataFrame game_info to raw_data\\2023\\SuperBowl\\2023_SuperBowl_SF_vs_KC\\game_info.csv\n",
      "Saved DataFrame officials to raw_data\\2023\\SuperBowl\\2023_SuperBowl_SF_vs_KC\\officials.csv\n",
      "Saved DataFrame expected_points to raw_data\\2023\\SuperBowl\\2023_SuperBowl_SF_vs_KC\\expected_points.csv\n",
      "Saved DataFrame team_stats to raw_data\\2023\\SuperBowl\\2023_SuperBowl_SF_vs_KC\\team_stats.csv\n",
      "Saved DataFrame player_defense to raw_data\\2023\\SuperBowl\\2023_SuperBowl_SF_vs_KC\\player_defense.csv\n",
      "Saved DataFrame returns to raw_data\\2023\\SuperBowl\\2023_SuperBowl_SF_vs_KC\\returns.csv\n",
      "Saved DataFrame kicking to raw_data\\2023\\SuperBowl\\2023_SuperBowl_SF_vs_KC\\kicking.csv\n",
      "Saved DataFrame passing_advanced to raw_data\\2023\\SuperBowl\\2023_SuperBowl_SF_vs_KC\\passing_advanced.csv\n",
      "Saved DataFrame rushing_advanced to raw_data\\2023\\SuperBowl\\2023_SuperBowl_SF_vs_KC\\rushing_advanced.csv\n",
      "Saved DataFrame receiving_advanced to raw_data\\2023\\SuperBowl\\2023_SuperBowl_SF_vs_KC\\receiving_advanced.csv\n",
      "Saved DataFrame defense_advanced to raw_data\\2023\\SuperBowl\\2023_SuperBowl_SF_vs_KC\\defense_advanced.csv\n",
      "Saved DataFrame home_starters to raw_data\\2023\\SuperBowl\\2023_SuperBowl_SF_vs_KC\\home_starters.csv\n",
      "Saved DataFrame vis_starters to raw_data\\2023\\SuperBowl\\2023_SuperBowl_SF_vs_KC\\vis_starters.csv\n",
      "Saved DataFrame home_snap_counts to raw_data\\2023\\SuperBowl\\2023_SuperBowl_SF_vs_KC\\home_snap_counts.csv\n",
      "Saved DataFrame vis_snap_counts to raw_data\\2023\\SuperBowl\\2023_SuperBowl_SF_vs_KC\\vis_snap_counts.csv\n",
      "Saved DataFrame home_drives to raw_data\\2023\\SuperBowl\\2023_SuperBowl_SF_vs_KC\\home_drives.csv\n",
      "Saved DataFrame vis_drives to raw_data\\2023\\SuperBowl\\2023_SuperBowl_SF_vs_KC\\vis_drives.csv\n",
      "Saved DataFrame pbp to raw_data\\2023\\SuperBowl\\2023_SuperBowl_SF_vs_KC\\pbp.csv\n"
     ]
    }
   ],
   "source": [
    "season = 2023\n",
    "debug = True\n",
    "games_df, all_game_stats = collect_season_stats(2023, debug = True)"
   ]
  },
  {
   "cell_type": "code",
   "execution_count": null,
   "id": "274275d2",
   "metadata": {},
   "outputs": [],
   "source": []
  }
 ],
 "metadata": {
  "kernelspec": {
   "display_name": "Python 3 (ipykernel)",
   "language": "python",
   "name": "python3"
  },
  "language_info": {
   "codemirror_mode": {
    "name": "ipython",
    "version": 3
   },
   "file_extension": ".py",
   "mimetype": "text/x-python",
   "name": "python",
   "nbconvert_exporter": "python",
   "pygments_lexer": "ipython3",
   "version": "3.11.5"
  }
 },
 "nbformat": 4,
 "nbformat_minor": 5
}
